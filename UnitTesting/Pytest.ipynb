{
 "cells": [
  {
   "cell_type": "markdown",
   "metadata": {},
   "source": [
    "# Installation"
   ]
  },
  {
   "cell_type": "code",
   "execution_count": null,
   "metadata": {
    "vscode": {
     "languageId": "powershell"
    }
   },
   "outputs": [],
   "source": [
    "pip install pytest"
   ]
  },
  {
   "cell_type": "markdown",
   "metadata": {},
   "source": [
    "# Writing First Test"
   ]
  },
  {
   "cell_type": "markdown",
   "metadata": {},
   "source": [
    "Here’s how to test if 1 + 1 equals 2 using Pytest:"
   ]
  },
  {
   "cell_type": "markdown",
   "metadata": {},
   "source": [
    "### Step 1: Create a Test File\n",
    "\n",
    "Create a file called test_math.py. The name should start with **test_**.\n",
    "\n",
    "### Step 2: Write a Test Function\n",
    "\n",
    "Inside the file, write a function starting with **test_**:"
   ]
  },
  {
   "cell_type": "code",
   "execution_count": null,
   "metadata": {},
   "outputs": [],
   "source": [
    "# test_math.py\n",
    "\n",
    "def test_addition():\n",
    "    assert 1 + 1 == 2  # Check if 1 + 1 equals 2"
   ]
  },
  {
   "cell_type": "markdown",
   "metadata": {},
   "source": [
    "### Step 3: Run the Test\n",
    "\n",
    "In the terminal, type:\n",
    "\n",
    "pytest\n",
    "\n",
    "You’ll see an output like this:\n",
    "\n",
    "=========================== test session starts ===========================\n",
    "collected 1 item\n",
    "\n",
    "test_math.py .                                                        [100%]\n",
    "\n",
    "=========================== 1 passed in 0.01s ============================\n",
    "\n",
    "This means your test passed!"
   ]
  },
  {
   "cell_type": "markdown",
   "metadata": {},
   "source": [
    "# What Does assert Do?"
   ]
  },
  {
   "cell_type": "markdown",
   "metadata": {},
   "source": [
    "The assert keyword checks if something is true. If it’s false, the test fails.\n",
    "### Examples:"
   ]
  },
  {
   "cell_type": "code",
   "execution_count": null,
   "metadata": {},
   "outputs": [],
   "source": [
    "def test_equal():\n",
    "    assert 5 == 5  # Passes because 5 equals 5\n",
    "\n",
    "def test_not_equal():\n",
    "    assert 3 != 4  # Passes because 3 is not equal to 4\n",
    "\n",
    "def test_greater():\n",
    "    assert 10 > 5  # Passes because 10 is greater than 5"
   ]
  },
  {
   "cell_type": "markdown",
   "metadata": {},
   "source": [
    "If a test fails, you’ll see something like this:\n",
    "\n",
    ">       assert 2 + 2 == 5\n",
    "E       assert 4 == 5\n",
    "\n",
    "This tells you exactly what went wrong."
   ]
  },
  {
   "cell_type": "markdown",
   "metadata": {},
   "source": [
    "# Organizing Tests"
   ]
  },
  {
   "cell_type": "markdown",
   "metadata": {},
   "source": [
    "- **Test File Names**: Start with test_ (e.g., test_example.py).\n",
    "- **Test Function Names**: Start with test_ (e.g., test_sum)."
   ]
  },
  {
   "cell_type": "markdown",
   "metadata": {},
   "source": [
    "- You can run specific files:"
   ]
  },
  {
   "cell_type": "code",
   "execution_count": null,
   "metadata": {
    "vscode": {
     "languageId": "powershell"
    }
   },
   "outputs": [],
   "source": [
    "pytest test_math.py"
   ]
  },
  {
   "cell_type": "markdown",
   "metadata": {},
   "source": [
    "- Or run all tests in a folder:"
   ]
  },
  {
   "cell_type": "code",
   "execution_count": null,
   "metadata": {
    "vscode": {
     "languageId": "powershell"
    }
   },
   "outputs": [],
   "source": [
    "pytest tests/"
   ]
  },
  {
   "cell_type": "markdown",
   "metadata": {},
   "source": [
    "# Using Fixtures"
   ]
  },
  {
   "cell_type": "markdown",
   "metadata": {},
   "source": [
    "A fixture is like setting the stage before a play. It prepares what your test needs."
   ]
  },
  {
   "cell_type": "markdown",
   "metadata": {},
   "source": [
    "#### Example:\n",
    "Suppose you’re testing a list of numbers:"
   ]
  },
  {
   "cell_type": "code",
   "execution_count": null,
   "metadata": {},
   "outputs": [],
   "source": [
    "import pytest\n",
    "\n",
    "@pytest.fixture\n",
    "def sample_data():\n",
    "    return [1, 2, 3, 4]\n",
    "\n",
    "def test_sum(sample_data):\n",
    "    assert sum(sample_data) == 10  # Checks if the sum is 10\n",
    "\n",
    "def test_length(sample_data):\n",
    "    assert len(sample_data) == 4  # Checks if the list has 4 items"
   ]
  },
  {
   "cell_type": "markdown",
   "metadata": {},
   "source": [
    "Here, sample_data is a fixture that provides the same list to both tests."
   ]
  },
  {
   "cell_type": "markdown",
   "metadata": {},
   "source": [
    "# Running Tests with Different Inputs"
   ]
  },
  {
   "cell_type": "markdown",
   "metadata": {},
   "source": [
    "You can test a function with different inputs using @pytest.mark.parametrize."
   ]
  },
  {
   "cell_type": "markdown",
   "metadata": {},
   "source": [
    "#### Example:"
   ]
  },
  {
   "cell_type": "code",
   "execution_count": null,
   "metadata": {},
   "outputs": [],
   "source": [
    "import pytest\n",
    "\n",
    "@pytest.mark.parametrize(\"a, b, expected\", [\n",
    "    (1, 2, 3),  # Test case 1: 1 + 2 = 3\n",
    "    (5, 5, 10), # Test case 2: 5 + 5 = 10\n",
    "    (10, -1, 9) # Test case 3: 10 + (-1) = 9\n",
    "])\n",
    "def test_addition(a, b, expected):\n",
    "    assert a + b == expected"
   ]
  },
  {
   "cell_type": "markdown",
   "metadata": {},
   "source": [
    "Run it:"
   ]
  },
  {
   "cell_type": "code",
   "execution_count": null,
   "metadata": {
    "vscode": {
     "languageId": "powershell"
    }
   },
   "outputs": [],
   "source": [
    "pytest"
   ]
  },
  {
   "cell_type": "markdown",
   "metadata": {},
   "source": [
    "Pytest will run this test three times, once for each set of inputs."
   ]
  },
  {
   "cell_type": "markdown",
   "metadata": {},
   "source": [
    "# Skipping Tests"
   ]
  },
  {
   "cell_type": "markdown",
   "metadata": {},
   "source": [
    "Sometimes, you may want to skip a test."
   ]
  },
  {
   "cell_type": "markdown",
   "metadata": {},
   "source": [
    "#### Example:"
   ]
  },
  {
   "cell_type": "code",
   "execution_count": null,
   "metadata": {},
   "outputs": [],
   "source": [
    "import pytest\n",
    "\n",
    "@pytest.mark.skip(reason=\"Not implemented yet\")\n",
    "def test_feature():\n",
    "    assert False"
   ]
  },
  {
   "cell_type": "markdown",
   "metadata": {},
   "source": [
    "This test won’t run, and you’ll see:\n",
    "\n",
    "SKIPPED [reason: Not implemented yet]"
   ]
  },
  {
   "cell_type": "markdown",
   "metadata": {},
   "source": [
    "# Full Example"
   ]
  },
  {
   "cell_type": "code",
   "execution_count": null,
   "metadata": {},
   "outputs": [],
   "source": [
    "# fibonacci.py\n",
    "\n",
    "def fibonacci(n):\n",
    "    \"\"\"Calculate the nth Fibonacci number.\"\"\"\n",
    "    if n < 0:\n",
    "        raise ValueError(\"Input should be a non-negative integer.\")\n",
    "    if n == 0:\n",
    "        return 0\n",
    "    elif n == 1:\n",
    "        return 1\n",
    "    else:\n",
    "        return fibonacci(n - 1) + fibonacci(n - 2)"
   ]
  },
  {
   "cell_type": "code",
   "execution_count": null,
   "metadata": {},
   "outputs": [],
   "source": [
    "# test_fibonacci.py\n",
    "import pytest\n",
    "from fibonacci import fibonacci\n",
    "\n",
    "def test_fibonacci_base_cases():\n",
    "    \"\"\"Test base cases of Fibonacci sequence.\"\"\"\n",
    "    assert fibonacci(0) == 0  # Base case 0\n",
    "    assert fibonacci(1) == 1  # Base case 1\n",
    "\n",
    "def test_fibonacci_recursive_cases():\n",
    "    \"\"\"Test some recursive cases.\"\"\"\n",
    "    assert fibonacci(2) == 1  # 1 + 0 = 1\n",
    "    assert fibonacci(3) == 2  # 1 + 1 = 2\n",
    "    assert fibonacci(4) == 3  # 2 + 1 = 3\n",
    "    assert fibonacci(5) == 5  # 3 + 2 = 5\n",
    "\n",
    "def test_fibonacci_large_value():\n",
    "    \"\"\"Test larger Fibonacci numbers to ensure correctness.\"\"\"\n",
    "    assert fibonacci(10) == 55\n",
    "    assert fibonacci(15) == 610\n",
    "\n",
    "def test_fibonacci_invalid_input():\n",
    "    \"\"\"Test invalid inputs.\"\"\"\n",
    "    with pytest.raises(ValueError, match=\"Input should be a non-negative integer.\"):\n",
    "        fibonacci(-1)  # Negative input should raise an error"
   ]
  },
  {
   "cell_type": "markdown",
   "metadata": {},
   "source": [
    "### Run the Tests\n",
    "Run the tests in your terminal with:"
   ]
  },
  {
   "cell_type": "code",
   "execution_count": null,
   "metadata": {},
   "outputs": [],
   "source": [
    "pytest"
   ]
  },
  {
   "cell_type": "markdown",
   "metadata": {},
   "source": [
    "### Sample Output\n",
    "If all tests pass, you’ll see something like this:"
   ]
  },
  {
   "cell_type": "code",
   "execution_count": null,
   "metadata": {},
   "outputs": [],
   "source": [
    "=========================== test session starts ===========================\n",
    "collected 4 items                                                              \n",
    "\n",
    "test_fibonacci.py ....                                                   [100%]\n",
    "\n",
    "=========================== 4 passed in 0.01s ==========================="
   ]
  },
  {
   "cell_type": "markdown",
   "metadata": {},
   "source": [
    "Ouput if **test_fibonacci_large_value** fails."
   ]
  },
  {
   "cell_type": "code",
   "execution_count": null,
   "metadata": {},
   "outputs": [],
   "source": [
    "=========================== test session starts ===========================\n",
    "collected 4 items                                                              \n",
    "\n",
    "test_fibonacci.py ...F                                                   [100%]\n",
    "\n",
    "================================ FAILURES =================================\n",
    "________________________ test_fibonacci_large_value _______________________\n",
    "\n",
    "    def test_fibonacci_large_value():\n",
    "        \"\"\"Test larger Fibonacci numbers to ensure correctness.\"\"\"\n",
    ">       assert fibonacci(10) == 55\n",
    "E       assert 56 == 55\n",
    "\n",
    "test_fibonacci.py:14: AssertionError\n",
    "=========================== short test summary info ===========================\n",
    "FAILED test_fibonacci.py::test_fibonacci_large_value - assert 56 == 55\n",
    "=========================== 1 failed, 3 passed in 0.02s ==========================="
   ]
  }
 ],
 "metadata": {
  "language_info": {
   "name": "python"
  }
 },
 "nbformat": 4,
 "nbformat_minor": 2
}
