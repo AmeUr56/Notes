{
 "cells": [
  {
   "cell_type": "markdown",
   "metadata": {},
   "source": [
    "## Flask-WebAuthn\n",
    "extension that enables WebAuthn support for passwordless authentication in Flask applications. WebAuthn is a standard that allows users to authenticate using biometrics (like fingerprints) or hardware security keys (like YubiKey) instead of traditional passwords."
   ]
  },
  {
   "cell_type": "markdown",
   "metadata": {},
   "source": [
    "#### WebAuthn Workflow:\n",
    "- **Credential Registration**: The user registers a new credential (e.g., a fingerprint or security key) that will be used for authentication.\n",
    "- **Authentication**: When logging in, the user proves they own the credential (e.g., by pressing a button on their hardware key or using their fingerprint)."
   ]
  },
  {
   "cell_type": "code",
   "execution_count": null,
   "metadata": {},
   "outputs": [],
   "source": [
    "# Installation \n",
    "!pip install Flask-WebAuthn"
   ]
  },
  {
   "cell_type": "code",
   "execution_count": null,
   "metadata": {},
   "outputs": [],
   "source": [
    "from flask import Flask, jsonify, request\n",
    "from flask_webauthn import WebAuthn\n",
    "\n",
    "app = Flask(__name__)\n",
    "app.secret_key = 'another_random_secret_key'\n",
    "\n",
    "# Initialize WebAuthn with the Flask app\n",
    "web_authn = WebAuthn(app)"
   ]
  },
  {
   "cell_type": "markdown",
   "metadata": {},
   "source": [
    "### Define WebAuthn Options\n",
    "The following options specify the details for credential creation, like the relying party (RP) ID, which typically matches your domain."
   ]
  },
  {
   "cell_type": "code",
   "execution_count": null,
   "metadata": {},
   "outputs": [],
   "source": [
    "web_authn_options = {\n",
    "    \"rp_id\": \"localhost\",  # The domain or host serving the app\n",
    "    \"rp_name\": \"WebAuthn Example\",  # The name of your app\n",
    "    \"user_id\": \"user@example.com\",  # Unique user ID in your system\n",
    "    \"user_name\": \"User\",  # The display name for the user\n",
    "    \"challenge\": \"some_random_challenge_string\"  # A challenge string to prevent replay attacks\n",
    "}"
   ]
  },
  {
   "cell_type": "markdown",
   "metadata": {},
   "source": [
    "### Setting Template"
   ]
  },
  {
   "cell_type": "markdown",
   "metadata": {},
   "source": [
    "WebAuthn registration is triggered after the form is submitted. The WebAuthn API is then used to generate options for creating a WebAuthn credential."
   ]
  },
  {
   "cell_type": "markdown",
   "metadata": {},
   "source": [
    "### Handling Registration"
   ]
  },
  {
   "cell_type": "markdown",
   "metadata": {},
   "source": [
    "- **Handling Registration**\n",
    "This route prepares the WebAuthn creation options and sends them to the client."
   ]
  },
  {
   "cell_type": "code",
   "execution_count": null,
   "metadata": {},
   "outputs": [],
   "source": [
    "@app.route('/register', methods=['POST'])\n",
    "def register():\n",
    "    # Extract user details (user_id and username) from the request data.\n",
    "    user_id = request.json.get('user_id')\n",
    "    username = request.json.get('username')\n",
    "\n",
    "    # Update WebAuthn options with the user details.\n",
    "    web_authn_options[\"user_id\"] = user_id\n",
    "    web_authn_options[\"user_name\"] = username\n",
    "\n",
    "    # Prepare the options for creating a new WebAuthn credential\n",
    "    options = web_authn.prepare_create(user_id=user_id, username=username)\n",
    "    \n",
    "    # Send these options to the frontend to initiate the registration process\n",
    "    return jsonify(options)"
   ]
  },
  {
   "cell_type": "markdown",
   "metadata": {},
   "source": [
    "- **Verify Credential Creation**\n",
    "After the user registers a new credential (e.g., by using their fingerprint or security key), the client sends the credential data back to the server. The server verifies it."
   ]
  },
  {
   "cell_type": "code",
   "execution_count": null,
   "metadata": {},
   "outputs": [],
   "source": [
    "@app.route('/register/verify', methods=['POST'])\n",
    "def verify_register():\n",
    "    # Receive the user's credential creation data from the frontend\n",
    "    credential = request.json.get('credential')\n",
    "\n",
    "    # Verify the credential (checks the public key, signature, etc.)\n",
    "    success = web_authn.verify_create(credential)\n",
    "    if success:\n",
    "        return 'Credential successfully created!'  # Confirmation message\n",
    "    else:\n",
    "        return 'Error creating credential.'\n"
   ]
  },
  {
   "cell_type": "markdown",
   "metadata": {},
   "source": [
    "### Handling Authentication"
   ]
  },
  {
   "cell_type": "markdown",
   "metadata": {},
   "source": [
    "- **Create Authentication Route**: This route prepares the challenge to authenticate the user. It sends a challenge to the frontend, where the user will authenticate using their previously registered credential."
   ]
  },
  {
   "cell_type": "code",
   "execution_count": null,
   "metadata": {},
   "outputs": [],
   "source": [
    "@app.route('/login', methods=['POST'])\n",
    "def login():\n",
    "    user_id = request.json.get('user_id')\n",
    "    \n",
    "    # Prepare the authentication challenge for the user\n",
    "    options = web_authn.prepare_assert(user_id=user_id)\n",
    "    \n",
    "    return jsonify(options)  # Send challenge to frontend to start authentication"
   ]
  },
  {
   "cell_type": "markdown",
   "metadata": {},
   "source": [
    "- **Verify Authentication**: After the user responds to the challenge (by pressing their hardware key or using biometrics), the credential is sent back to the server for verification."
   ]
  },
  {
   "cell_type": "code",
   "execution_count": null,
   "metadata": {},
   "outputs": [],
   "source": [
    "@app.route('/login/verify', methods=['POST'])\n",
    "def verify_login():\n",
    "    # Receive the authentication data from the frontend\n",
    "    credential = request.json.get('credential')\n",
    "\n",
    "    # Verify the assertion (check the user's response to the authentication challenge)\n",
    "    success = web_authn.verify_assert(credential)\n",
    "    if success:\n",
    "        return 'Authentication successful!'  # Success message\n",
    "    else:\n",
    "        return 'Authentication failed.'  # Failure message"
   ]
  }
 ],
 "metadata": {
  "language_info": {
   "name": "python"
  }
 },
 "nbformat": 4,
 "nbformat_minor": 2
}
