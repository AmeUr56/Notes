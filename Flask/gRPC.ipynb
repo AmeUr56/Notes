{
 "cells": [
  {
   "cell_type": "markdown",
   "metadata": {},
   "source": [
    "# 1. Introduction"
   ]
  },
  {
   "cell_type": "markdown",
   "metadata": {
    "vscode": {
     "languageId": "plaintext"
    }
   },
   "source": [
    "we will see how to integrate **multiple gRPC services** with a **Flask** web application. The goal is to demonstrate how data can **flow between services** (via **gRPC calls**) in a sequence. Flask will act as the **orchestrator**, making calls to each service and returning a **combined result**."
   ]
  },
  {
   "cell_type": "markdown",
   "metadata": {},
   "source": [
    "# 2. Setting Up gRPC"
   ]
  },
  {
   "cell_type": "code",
   "execution_count": null,
   "metadata": {
    "vscode": {
     "languageId": "powershell"
    }
   },
   "outputs": [],
   "source": [
    "pip install grpcio grpcio-tools flask"
   ]
  },
  {
   "cell_type": "markdown",
   "metadata": {},
   "source": [
    "- **grpcio**: The core gRPC library.\n",
    "- **grpcio-tools**: Tools to compile Protocol Buffers.\n",
    "- **flask**: The Flask web framework for exposing HTTP endpoints."
   ]
  },
  {
   "cell_type": "markdown",
   "metadata": {},
   "source": [
    "# 3. Flask Application Setup"
   ]
  },
  {
   "cell_type": "markdown",
   "metadata": {},
   "source": [
    "Create a **Flask** application that will expose an **HTTP API**. The Flask app will interact with **multiple gRPC services**, each performing part of a task."
   ]
  },
  {
   "cell_type": "markdown",
   "metadata": {},
   "source": [
    "## Directory Structure"
   ]
  },
  {
   "cell_type": "markdown",
   "metadata": {},
   "source": [
    ".<br>\n",
    "├── app.py              # Flask app to expose HTTP APIs<br>\n",
    "├── grpc_server1.py     # gRPC server for Service 1<br>\n",
    "├── grpc_server2.py     # gRPC server for Service 2<br>\n",
    "├── service.proto       # Protobuf file defining the gRPC services<br>\n",
    "├── service_pb2.py      # Generated Python file from the .proto file<br>\n",
    "├── service_pb2_grpc.py # Generated Python file for gRPC services<br>"
   ]
  },
  {
   "cell_type": "markdown",
   "metadata": {},
   "source": [
    "# 4. Creating Multiple gRPC Services"
   ]
  },
  {
   "cell_type": "markdown",
   "metadata": {},
   "source": [
    "We will create two gRPC services:\n",
    "- **Service 1**: Accepts a name and returns a greeting message.\n",
    "- **Service 2**: Accepts a greeting and returns a transformed version (e.g., uppercased)."
   ]
  },
  {
   "cell_type": "markdown",
   "metadata": {},
   "source": [
    "#### service.proto"
   ]
  },
  {
   "cell_type": "code",
   "execution_count": null,
   "metadata": {
    "vscode": {
     "languageId": "csharp"
    }
   },
   "outputs": [],
   "source": [
    "syntax = \"proto3\";\n",
    "\n",
    "package myservice;\n",
    "\n",
    "// The first gRPC service definition\n",
    "service Service1 {\n",
    "  rpc GetGreeting (GreetingRequest) returns (GreetingResponse) {\n",
    "    option (grpc.http_compression) = true;  // Enable compression\n",
    "  }\n",
    "}\n",
    "\n",
    "// The second gRPC service definition with streaming\n",
    "service Service2 {\n",
    "  rpc ModifyGreeting (stream GreetingRequest) returns (stream GreetingResponse);\n",
    "}\n",
    "\n",
    "// The request message containing the user's name.\n",
    "message GreetingRequest {\n",
    "  string name = 1;\n",
    "}\n",
    "\n",
    "// The response message containing the greeting.\n",
    "message GreetingResponse {\n",
    "  string message = 1;\n",
    "}"
   ]
  },
  {
   "cell_type": "markdown",
   "metadata": {},
   "source": [
    "Here, we define two services:\n",
    "- Service1 with the **GetGreeting** method supports compression.\n",
    "- Service2 with the **ModifyGreeting** method supports **bi-directional** streaming, where both the client and the server send/receive streams of messages."
   ]
  },
  {
   "cell_type": "markdown",
   "metadata": {},
   "source": [
    "#### For more details about Protocol Buffers see **Process Files/Protobuf.ipynb**"
   ]
  },
  {
   "cell_type": "markdown",
   "metadata": {},
   "source": [
    "# 5. Building the gRPC Servers"
   ]
  },
  {
   "cell_type": "markdown",
   "metadata": {},
   "source": [
    "We will implement each service as a **separate gRPC server**. Each server will handle its respective method."
   ]
  },
  {
   "cell_type": "markdown",
   "metadata": {},
   "source": [
    "#### grpc_server1.py (Service 1) (with compression)"
   ]
  },
  {
   "cell_type": "code",
   "execution_count": null,
   "metadata": {},
   "outputs": [],
   "source": [
    "import grpc\n",
    "from concurrent import futures\n",
    "import service_pb2\n",
    "import service_pb2_grpc\n",
    "\n",
    "class Service1(service_pb2_grpc.Service1Servicer):\n",
    "    def GetGreeting(self, request, context):\n",
    "        \"\"\"Service 1: Returns a greeting based on the user's name.\"\"\"\n",
    "        response = service_pb2.GreetingResponse()\n",
    "        response.message = f\"Hello, {request.name}!\"\n",
    "        return response\n",
    "\n",
    "def serve():\n",
    "    server = grpc.server(futures.ThreadPoolExecutor(max_workers=10),\n",
    "                         options=[('grpc.default_compression_algorithm', grpc.Compression.Gzip)])  # Enable Gzip compression\n",
    "    service_pb2_grpc.add_Service1Servicer_to_server(Service1(), server)\n",
    "    server.add_insecure_port('[::]:50051')\n",
    "    print(\"Service 1: gRPC server with compression started on port 50051\")\n",
    "    server.start()\n",
    "    server.wait_for_termination()\n",
    "\n",
    "if __name__ == '__main__':\n",
    "    serve()"
   ]
  },
  {
   "cell_type": "markdown",
   "metadata": {},
   "source": [
    "- **Explanation**:\n",
    "The gRPC server for Service 1 now enables **Gzip compression** on all outgoing messages.\n"
   ]
  },
  {
   "cell_type": "markdown",
   "metadata": {},
   "source": [
    "#### grpc_server2.py (Service 2)(with streaming)"
   ]
  },
  {
   "cell_type": "code",
   "execution_count": null,
   "metadata": {},
   "outputs": [],
   "source": [
    "import grpc\n",
    "from concurrent import futures\n",
    "import service_pb2\n",
    "import service_pb2_grpc\n",
    "\n",
    "class Service2(service_pb2_grpc.Service2Servicer):\n",
    "    def ModifyGreeting(self, request_iterator, context):\n",
    "        for request in request_iterator:\n",
    "            response = service_pb2.GreetingResponse()\n",
    "            response.message = request.name.upper()  # Uppercase the greeting\n",
    "            yield response  # Stream each response back to the client\n",
    "\n",
    "def serve():\n",
    "    server = grpc.server(futures.ThreadPoolExecutor(max_workers=10))\n",
    "    service_pb2_grpc.add_Service2Servicer_to_server(Service2(), server)\n",
    "    server.add_insecure_port('[::]:50052')\n",
    "    print(\"Service 2: gRPC server with streaming started on port 50052\")\n",
    "    server.start()\n",
    "    server.wait_for_termination()\n",
    "\n",
    "if __name__ == '__main__':\n",
    "    serve()"
   ]
  },
  {
   "cell_type": "markdown",
   "metadata": {},
   "source": [
    "- **Explanation**:\n",
    "The gRPC server for Service 2 now supports **bi-directional streaming**. It processes each streamed request, modifies the message, and streams back the response."
   ]
  },
  {
   "cell_type": "markdown",
   "metadata": {},
   "source": [
    "- **Service 1** listens on port 50051 and returns a greeting message.\n",
    "- **Service 2** listens on port 50052 and modifies the greeting (e.g., capitalizes it)."
   ]
  },
  {
   "cell_type": "markdown",
   "metadata": {},
   "source": [
    "# 6. Connecting Flask with Multiple gRPC Services"
   ]
  },
  {
   "cell_type": "markdown",
   "metadata": {},
   "source": [
    "Now, we’ll integrate these services with Flask. The Flask app will call both services in sequence:\n",
    "- Call Service 1 to get a greeting message.\n",
    "- Call Service 2 to modify the greeting."
   ]
  },
  {
   "cell_type": "markdown",
   "metadata": {},
   "source": [
    "#### app.py"
   ]
  },
  {
   "cell_type": "code",
   "execution_count": null,
   "metadata": {},
   "outputs": [],
   "source": [
    "from flask import Flask, jsonify, request\n",
    "import grpc\n",
    "import service_pb2\n",
    "import service_pb2_grpc\n",
    "\n",
    "app = Flask(__name__)\n",
    "\n",
    "# Function to get a gRPC stub for Service 1 with compression\n",
    "def get_service1_stub():\n",
    "    channel = grpc.insecure_channel('localhost:50051')\n",
    "    stub = service_pb2_grpc.Service1Stub(channel)\n",
    "    return stub\n",
    "\n",
    "# Function to get a gRPC stub for Service 2 with streaming\n",
    "def get_service2_stub():\n",
    "    channel = grpc.insecure_channel('localhost:50052')\n",
    "    stub = service_pb2_grpc.Service2Stub(channel)\n",
    "    return stub\n",
    "\n",
    "@app.route('/process_greeting', methods=['GET'])\n",
    "def process_greeting():\n",
    "    name = request.args.get('name', 'World')  # Default to 'World' if no name is provided\n",
    "    \n",
    "    # Step 1: Call Service 1 (GetGreeting with compression)\n",
    "    service1_stub = get_service1_stub()\n",
    "    request_message = service_pb2.GreetingRequest(name=name)\n",
    "    response1 = service1_stub.GetGreeting(request_message, compression=grpc.Compression.Gzip)\n",
    "    \n",
    "    # Step 2: Call Service 2 (ModifyGreeting with streaming)\n",
    "    service2_stub = get_service2_stub()\n",
    "    request_message_stream = (service_pb2.GreetingRequest(name=response1.message) for _ in range(5))\n",
    "    \n",
    "    # Collect streamed responses\n",
    "    responses = []\n",
    "    for response in service2_stub.ModifyGreeting(request_message_stream):\n",
    "        responses.append(response.message)\n",
    "    \n",
    "    # Return both the original and modified (streamed) greetings\n",
    "    return jsonify({\"original_greeting\": response1.message, \"modified_greetings\": responses})\n",
    "\n",
    "if __name__ == '__main__':\n",
    "    app.run(port=5000)"
   ]
  },
  {
   "cell_type": "markdown",
   "metadata": {},
   "source": [
    "### Explanation:\n",
    "- **Step 1**: The Flask app calls Service 1 (on localhost:50051) to get a greeting message.\n",
    "- **Step 2**: The Flask app then calls Service 2 (on localhost:50052) to modify the greeting (e.g., make it uppercase).\n",
    "- **Final Result**: The Flask app returns both the original greeting and the modified greeting as a JSON response."
   ]
  },
  {
   "cell_type": "markdown",
   "metadata": {},
   "source": [
    "# 7. Running the Application"
   ]
  },
  {
   "cell_type": "markdown",
   "metadata": {},
   "source": [
    "### Start Service 1:\n",
    "Open a terminal and run:"
   ]
  },
  {
   "cell_type": "code",
   "execution_count": null,
   "metadata": {
    "vscode": {
     "languageId": "powershell"
    }
   },
   "outputs": [],
   "source": [
    "python grpc_server1.py"
   ]
  },
  {
   "cell_type": "markdown",
   "metadata": {},
   "source": [
    "This will start Service 1 on localhost:50051."
   ]
  },
  {
   "cell_type": "markdown",
   "metadata": {},
   "source": [
    "### Start Service 2:\n",
    "In another terminal, run:"
   ]
  },
  {
   "cell_type": "code",
   "execution_count": null,
   "metadata": {
    "vscode": {
     "languageId": "powershell"
    }
   },
   "outputs": [],
   "source": [
    "python grpc_server2.py"
   ]
  },
  {
   "cell_type": "markdown",
   "metadata": {},
   "source": [
    "This will start Service 2 on localhost:50052."
   ]
  },
  {
   "cell_type": "markdown",
   "metadata": {},
   "source": [
    "### Start Flask:\n",
    "In a third terminal, run:"
   ]
  },
  {
   "cell_type": "markdown",
   "metadata": {},
   "source": [
    "python app.py"
   ]
  },
  {
   "cell_type": "markdown",
   "metadata": {},
   "source": [
    "This will start the Flask app on localhost:5000."
   ]
  },
  {
   "cell_type": "markdown",
   "metadata": {},
   "source": [
    "# 8. Testing the Application"
   ]
  },
  {
   "cell_type": "markdown",
   "metadata": {},
   "source": [
    "- To test the application, navigate to:<pre>\n",
    "http://localhost:5000/process_greeting?name=John"
   ]
  },
  {
   "cell_type": "markdown",
   "metadata": {
    "vscode": {
     "languageId": "powershell"
    }
   },
   "source": [
    "- Expected Response:"
   ]
  },
  {
   "cell_type": "code",
   "execution_count": null,
   "metadata": {},
   "outputs": [],
   "source": [
    "# Json\n",
    "{\n",
    "  \"original_greeting\": \"Hello, John!\",\n",
    "  \"modified_greetings\": [\n",
    "    \"HELLO, JOHN!\",\n",
    "    \"HELLO, JOHN!\",\n",
    "    \"HELLO, JOHN!\",\n",
    "    \"HELLO, JOHN!\",\n",
    "    \"HELLO, JOHN!\"\n",
    "  ]\n",
    "}"
   ]
  },
  {
   "cell_type": "markdown",
   "metadata": {},
   "source": [
    "This response shows both the original greeting and the modified greeting after calling the two gRPC services."
   ]
  },
  {
   "cell_type": "markdown",
   "metadata": {},
   "source": [
    "# 9. Configuring Service Communication in Hosting (OnRender)"
   ]
  },
  {
   "cell_type": "markdown",
   "metadata": {},
   "source": [
    "Since gRPC services are now hosted on Render and Flask is also deployed there, the services can communicate with each other using **internal URLs**:\n",
    "- **Service 1**: service1.onrender.com:50051\n",
    "- **Service 2**: service2.onrender.com:50052"
   ]
  },
  {
   "cell_type": "markdown",
   "metadata": {},
   "source": [
    "In the Flask app, the communication flows as follows:\n",
    "- The user sends a request to the Flask app hosted on flaskapp.onrender.com.\n",
    "- Flask calls Service 1 via service1.onrender.com:50051 to get a greeting message.\n",
    "- Flask then calls Service 2 via service2.onrender.com:50052 to modify the greeting.\n",
    "- Finally, Flask returns the original and modified greetings to the user."
   ]
  },
  {
   "cell_type": "markdown",
   "metadata": {},
   "source": []
  }
 ],
 "metadata": {
  "language_info": {
   "name": "python"
  }
 },
 "nbformat": 4,
 "nbformat_minor": 2
}
