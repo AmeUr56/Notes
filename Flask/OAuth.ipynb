{
 "cells": [
  {
   "cell_type": "markdown",
   "metadata": {},
   "source": [
    "# 1. Install OAuth Dependencies"
   ]
  },
  {
   "cell_type": "code",
   "execution_count": null,
   "metadata": {
    "vscode": {
     "languageId": "powershell"
    }
   },
   "outputs": [],
   "source": [
    "pip install Authlib Flask-OAuthlib"
   ]
  },
  {
   "cell_type": "markdown",
   "metadata": {},
   "source": [
    "### OAuth Providers\n",
    "<table>\n",
    "    <thead>\n",
    "        <tr>\n",
    "            <th>Provider</th>\n",
    "            <th>OAuth URL</th>\n",
    "        </tr>\n",
    "    </thead>\n",
    "    <tbody>\n",
    "        <tr>\n",
    "            <td>Google OAuth</td>\n",
    "            <td><a href=\"https://developers.google.com/identity/protocols/oauth2\" target=\"_blank\">Google OAuth</a></td>\n",
    "        </tr>\n",
    "        <tr>\n",
    "            <td>Facebook OAuth</td>\n",
    "            <td><a href=\"https://developers.facebook.com/docs/facebook-login/\" target=\"_blank\">Facebook OAuth</a></td>\n",
    "        </tr>\n",
    "        <tr>\n",
    "            <td>GitHub OAuth</td>\n",
    "            <td><a href=\"https://docs.github.com/en/developers/apps/building-oauth-apps\" target=\"_blank\">GitHub OAuth</a></td>\n",
    "        </tr>\n",
    "        <tr>\n",
    "            <td>Twitter OAuth</td>\n",
    "            <td><a href=\"https://developer.twitter.com/en/docs/authentication/oauth-2-0\" target=\"_blank\">Twitter OAuth</a></td>\n",
    "        </tr>\n",
    "        <tr>\n",
    "            <td>LinkedIn OAuth</td>\n",
    "            <td><a href=\"https://www.linkedin.com/developers/docs/oauth-2-0\" target=\"_blank\">LinkedIn OAuth</a></td>\n",
    "        </tr>\n",
    "        <tr>\n",
    "            <td>Microsoft OAuth</td>\n",
    "            <td><a href=\"https://learn.microsoft.com/en-us/azure/active-directory/develop/v2-oauth2-auth-code-flow\" target=\"_blank\">Microsoft OAuth</a></td>\n",
    "        </tr>\n",
    "        <tr>\n",
    "            <td>GitLab OAuth</td>\n",
    "            <td><a href=\"https://docs.gitlab.com/ee/administration/oauth.html\" target=\"_blank\">GitLab OAuth</a></td>\n",
    "        </tr>\n",
    "        <tr>\n",
    "            <td>Slack OAuth</td>\n",
    "            <td><a href=\"https://api.slack.com/authentication/oauth-v2\" target=\"_blank\">Slack OAuth</a></td>\n",
    "        </tr>\n",
    "        <tr>\n",
    "            <td>Spotify OAuth</td>\n",
    "            <td><a href=\"https://developer.spotify.com/documentation/general/guides/authorization-guide/\" target=\"_blank\">Spotify OAuth</a></td>\n",
    "        </tr>\n",
    "        <tr>\n",
    "            <td>Twitch OAuth</td>\n",
    "            <td><a href=\"https://dev.twitch.tv/docs/authentication/getting-tokens-oauth\" target=\"_blank\">Twitch OAuth</a></td>\n",
    "        </tr>\n",
    "        <tr>\n",
    "            <td>Yahoo OAuth</td>\n",
    "            <td><a href=\"https://developer.yahoo.com/oauth/\" target=\"_blank\">Yahoo OAuth</a></td>\n",
    "        </tr>\n",
    "        <tr>\n",
    "            <td>Amazon OAuth</td>\n",
    "            <td><a href=\"https://developer.amazon.com/docs/login-with-amazon/overview.html\" target=\"_blank\">Amazon OAuth</a></td>\n",
    "        </tr>\n",
    "        <tr>\n",
    "            <td>Reddit OAuth</td>\n",
    "            <td><a href=\"https://www.reddit.com/dev/api/\" target=\"_blank\">Reddit OAuth</a></td>\n",
    "        </tr>\n",
    "        <tr>\n",
    "            <td>Instagram OAuth</td>\n",
    "            <td><a href=\"https://developers.facebook.com/docs/instagram-basic-display-api\" target=\"_blank\">Instagram OAuth</a></td>\n",
    "        </tr>\n",
    "    </tbody>\n",
    "</table>"
   ]
  },
  {
   "cell_type": "markdown",
   "metadata": {},
   "source": [
    "# 2. Google Cloud Console"
   ]
  },
  {
   "cell_type": "markdown",
   "metadata": {},
   "source": [
    "## 2.1 Enter Google Cloud Console\n",
    "https://console.cloud.google.com/?inv=1&invt=AbiKNA"
   ]
  },
  {
   "cell_type": "markdown",
   "metadata": {},
   "source": [
    "## 2.2 Select desired Google Account"
   ]
  },
  {
   "cell_type": "markdown",
   "metadata": {},
   "source": [
    "## 2.3 Create New Project\n",
    "- 1. Specify its name only"
   ]
  },
  {
   "cell_type": "markdown",
   "metadata": {},
   "source": [
    "## 2.4 Select This Project"
   ]
  },
  {
   "cell_type": "markdown",
   "metadata": {},
   "source": [
    "## 2.5 Go to APIs & Services/Library"
   ]
  },
  {
   "cell_type": "markdown",
   "metadata": {},
   "source": [
    "## 2.6 Enable Google+ API"
   ]
  },
  {
   "cell_type": "markdown",
   "metadata": {},
   "source": [
    "## 2.7 Go to APIs & Services/OAuth consent screen\n",
    "- 1. In  **User Type** select External.\n",
    "- 2. In **App information** add app name and user support email and developer contact information.\n",
    "- 3. In **Scopes** save and continue.\n",
    "- 4. In **Test users** add email for testing.\n",
    "- 5. In **Summary** back to dashboard."
   ]
  },
  {
   "cell_type": "markdown",
   "metadata": {},
   "source": [
    "## 2.8 Go to APIs & Services/Credentials\n",
    "- 1. Create Credentials.\n",
    "- 2. Select OAuth client ID.\n",
    "- 3. Select Application Type: \"web application\" for flask apps.\n",
    "- 4. Name it as u like.\n",
    "- 5. In **Authorized redierct URIs**(when are we redirect after login) add URI,ex: http://localhost:5000/authorize/google"
   ]
  },
  {
   "cell_type": "markdown",
   "metadata": {},
   "source": [
    "## 2.9 Copy ClientId and Client Secret to the Flask APP"
   ]
  },
  {
   "cell_type": "markdown",
   "metadata": {},
   "source": [
    "# 3. Register Google OAuth"
   ]
  },
  {
   "cell_type": "code",
   "execution_count": null,
   "metadata": {
    "vscode": {
     "languageId": "powershell"
    }
   },
   "outputs": [],
   "source": [
    "from flask import flask\n",
    "from authlib.integrations.flask_client import OAuth\n",
    "\n",
    "app = Flask(__name__)\n",
    "oauth = OAuth(app)\n",
    "\n",
    "# Store Secret Keys in .env file and load them using os and dotenv\n",
    "\n",
    "# Register The google OAuth\n",
    "google = oauth.register(\n",
    "    name='google',\n",
    "    client_id=app.config[\"CLIENT_ID\"],\n",
    "    client_secret=app.config['CLIENT_SECRET'],\n",
    "    server_metadata_url=\"https://accounts.google.com/.well-known/openid-configuration\"\n",
    "    # The metadata URI provided by Google for OpenID Connect.\n",
    "    client_kwargs={'scope':'openid profile email'}\n",
    "    # Additional arguments for the OAuth client configuration.\n",
    "    # 'scope' specifies the permissions your app is requesting from the user:\n",
    "    # - 'openid': Basic authentication and user ID.\n",
    "    # - 'profile': Access to the user's profile information (e.g., name, picture).\n",
    "    # - 'email': Access to the user's email address.\n",
    ")"
   ]
  },
  {
   "cell_type": "markdown",
   "metadata": {},
   "source": [
    "### Google OAuth Scopes"
   ]
  },
  {
   "cell_type": "markdown",
   "metadata": {},
   "source": [
    "#### 1. openid\n",
    "- **Info Provided**: Basic authentication information such as the user's **unique identifier (sub)**.\n",
    "- **Use Case**: Required for OpenID Connect, which allows you to authenticate users."
   ]
  },
  {
   "cell_type": "markdown",
   "metadata": {},
   "source": [
    "#### 2. profile\n",
    "- **Info Provided**:\n",
    "    - **Name**: The full name of the user.\n",
    "    - **Given name**: The user's first name.\n",
    "    - **Family name**: The user's last name.\n",
    "    - **Profile URL**: A URL to the user's Google profile.\n",
    "    - **Profile picture**: The URL to the user's profile picture.\n",
    "- **Use Case**: To retrieve basic profile information like name and picture."
   ]
  },
  {
   "cell_type": "markdown",
   "metadata": {},
   "source": [
    "#### 3. email\n",
    "- **Info Provided**:\n",
    "    - **Email address**: The user’s email.\n",
    "    - **Email verified status**: Whether the email is verified by Google.\n",
    "- **Use Case**: To access the user's email address.\n"
   ]
  },
  {
   "cell_type": "markdown",
   "metadata": {},
   "source": [
    "#### 4. Additional Scopes\n",
    "- https://www.googleapis.com/auth/drive\n",
    "- https://www.googleapis.com/auth/drive.file\n",
    "- https://www.googleapis.com/auth/userinfo.profile\n",
    "- https://www.googleapis.com/auth/userinfo.email\n",
    "- https://www.googleapis.com/auth/plus.me\n",
    "- ..."
   ]
  },
  {
   "cell_type": "markdown",
   "metadata": {},
   "source": [
    "# 4. Create Routes for the Google Login"
   ]
  },
  {
   "cell_type": "code",
   "execution_count": null,
   "metadata": {},
   "outputs": [],
   "source": [
    "# login for google\n",
    "@app.route('/login/google')\n",
    "def login_google():\n",
    "    try:\n",
    "        redirect_uri = url_for(\"authorize_google\",_external=True)\n",
    "        return google.authorize_redirect(redirect_uri)\n",
    "    \n",
    "    except Exception as e:\n",
    "        app.logger.error(f\"Error during login: {str(e)}\")\n",
    "        return"
   ]
  },
  {
   "cell_type": "code",
   "execution_count": null,
   "metadata": {},
   "outputs": [],
   "source": [
    "# authorize for google\n",
    "@app.route(\"/authorize/google\")\n",
    "def authorize_google():\n",
    "    token = google.authorize_access_token()\n",
    "    userinfo_endpoint = google.server_metadata['userinfo_endpoint']\n",
    "    response = google.get(userinfo_endpoint)\n",
    "    user_info = response.json()\n",
    "    \n",
    "    # Get Necessary Infos about user from Google OAuth\n",
    "    google_id = user_info['sub']\n",
    "    username = user_info['name']\n",
    "    email = user_info['email']\n",
    "    profilepicture = user_info['picture']\n",
    "    \n",
    "    # Rest depends on u (store to db,redirect to dashboard,...)"
   ]
  },
  {
   "cell_type": "markdown",
   "metadata": {},
   "source": [
    "#### Example Response from google.get(userinfo_endpoint):"
   ]
  },
  {
   "cell_type": "code",
   "execution_count": null,
   "metadata": {},
   "outputs": [],
   "source": [
    "{\n",
    "  \"sub\": \"1234567890\",\n",
    "  \"name\": \"John Doe\",\n",
    "  \"given_name\": \"John\",\n",
    "  \"family_name\": \"Doe\",\n",
    "  \"profile\": \"https://plus.google.com/1234567890\",\n",
    "  \"picture\": \"https://example.com/photo.jpg\",\n",
    "  \"email\": \"johndoe@example.com\",\n",
    "  \"email_verified\": true,\n",
    "  \"locale\": \"en\"\n",
    "}"
   ]
  },
  {
   "cell_type": "markdown",
   "metadata": {},
   "source": [
    "# 5. Setting up Template"
   ]
  },
  {
   "cell_type": "code",
   "execution_count": null,
   "metadata": {
    "vscode": {
     "languageId": "html"
    }
   },
   "outputs": [],
   "source": [
    "<body>\n",
    "    <h1>Login with Google</h1>\n",
    "    <a href=\"{{ url_for('login_google') }}\">Login with Google</a>\n",
    "</body>"
   ]
  },
  {
   "cell_type": "markdown",
   "metadata": {},
   "source": [
    "# Sources\n",
    "- <a href=\"https://www.youtube.com/watch?v=wctDfjx4xIw&ab_channel=CodewithJosh\">Secure OAuth 2.0 in Flask: Python User Authentication Guide by Code with Josh</a>"
   ]
  }
 ],
 "metadata": {
  "language_info": {
   "name": "python"
  }
 },
 "nbformat": 4,
 "nbformat_minor": 2
}
