{
 "cells": [
  {
   "cell_type": "markdown",
   "metadata": {},
   "source": [
    "## Flask-OAuthlib\n",
    "extension for Flask that provides support for OAuth authentication. OAuth allows users to grant access to their data to third-party applications without sharing their passwords. This is often used for social media logins (e.g., logging in with Google or Facebook)."
   ]
  },
  {
   "cell_type": "markdown",
   "metadata": {},
   "source": [
    "**OAuth 2.0** is the most commonly used version, which involves an authorization flow where a user is redirected to a third-party service (e.g., Google) to log in, and the application retrieves an access token to interact with the service on the user's behalf."
   ]
  },
  {
   "cell_type": "code",
   "execution_count": null,
   "metadata": {},
   "outputs": [],
   "source": [
    "# Installation\n",
    "!pip install Flask-OAuthlib"
   ]
  },
  {
   "cell_type": "code",
   "execution_count": null,
   "metadata": {},
   "outputs": [],
   "source": [
    "from flask import Flask, redirect, url_for, session, request\n",
    "from flask_oauthlib.client import OAuth\n",
    "\n",
    "app = Flask(__name__)\n",
    "app.secret_key = 'random_secret_key'\n",
    "oauth = OAuth(app)  # Creating the OAuth object that will handle OAuth 2.0 interactions."
   ]
  },
  {
   "cell_type": "markdown",
   "metadata": {},
   "source": [
    "### OAuth Providers\n",
    "<table>\n",
    "    <thead>\n",
    "        <tr>\n",
    "            <th>Provider</th>\n",
    "            <th>OAuth URL</th>\n",
    "        </tr>\n",
    "    </thead>\n",
    "    <tbody>\n",
    "        <tr>\n",
    "            <td>Google OAuth</td>\n",
    "            <td><a href=\"https://developers.google.com/identity/protocols/oauth2\" target=\"_blank\">Google OAuth</a></td>\n",
    "        </tr>\n",
    "        <tr>\n",
    "            <td>Facebook OAuth</td>\n",
    "            <td><a href=\"https://developers.facebook.com/docs/facebook-login/\" target=\"_blank\">Facebook OAuth</a></td>\n",
    "        </tr>\n",
    "        <tr>\n",
    "            <td>GitHub OAuth</td>\n",
    "            <td><a href=\"https://docs.github.com/en/developers/apps/building-oauth-apps\" target=\"_blank\">GitHub OAuth</a></td>\n",
    "        </tr>\n",
    "        <tr>\n",
    "            <td>Twitter OAuth</td>\n",
    "            <td><a href=\"https://developer.twitter.com/en/docs/authentication/oauth-2-0\" target=\"_blank\">Twitter OAuth</a></td>\n",
    "        </tr>\n",
    "        <tr>\n",
    "            <td>LinkedIn OAuth</td>\n",
    "            <td><a href=\"https://www.linkedin.com/developers/docs/oauth-2-0\" target=\"_blank\">LinkedIn OAuth</a></td>\n",
    "        </tr>\n",
    "        <tr>\n",
    "            <td>Microsoft OAuth</td>\n",
    "            <td><a href=\"https://learn.microsoft.com/en-us/azure/active-directory/develop/v2-oauth2-auth-code-flow\" target=\"_blank\">Microsoft OAuth</a></td>\n",
    "        </tr>\n",
    "        <tr>\n",
    "            <td>GitLab OAuth</td>\n",
    "            <td><a href=\"https://docs.gitlab.com/ee/administration/oauth.html\" target=\"_blank\">GitLab OAuth</a></td>\n",
    "        </tr>\n",
    "        <tr>\n",
    "            <td>Slack OAuth</td>\n",
    "            <td><a href=\"https://api.slack.com/authentication/oauth-v2\" target=\"_blank\">Slack OAuth</a></td>\n",
    "        </tr>\n",
    "        <tr>\n",
    "            <td>Spotify OAuth</td>\n",
    "            <td><a href=\"https://developer.spotify.com/documentation/general/guides/authorization-guide/\" target=\"_blank\">Spotify OAuth</a></td>\n",
    "        </tr>\n",
    "        <tr>\n",
    "            <td>Twitch OAuth</td>\n",
    "            <td><a href=\"https://dev.twitch.tv/docs/authentication/getting-tokens-oauth\" target=\"_blank\">Twitch OAuth</a></td>\n",
    "        </tr>\n",
    "        <tr>\n",
    "            <td>Yahoo OAuth</td>\n",
    "            <td><a href=\"https://developer.yahoo.com/oauth/\" target=\"_blank\">Yahoo OAuth</a></td>\n",
    "        </tr>\n",
    "        <tr>\n",
    "            <td>Amazon OAuth</td>\n",
    "            <td><a href=\"https://developer.amazon.com/docs/login-with-amazon/overview.html\" target=\"_blank\">Amazon OAuth</a></td>\n",
    "        </tr>\n",
    "        <tr>\n",
    "            <td>Reddit OAuth</td>\n",
    "            <td><a href=\"https://www.reddit.com/dev/api/\" target=\"_blank\">Reddit OAuth</a></td>\n",
    "        </tr>\n",
    "        <tr>\n",
    "            <td>Instagram OAuth</td>\n",
    "            <td><a href=\"https://developers.facebook.com/docs/instagram-basic-display-api\" target=\"_blank\">Instagram OAuth</a></td>\n",
    "        </tr>\n",
    "    </tbody>\n",
    "</table>"
   ]
  },
  {
   "cell_type": "markdown",
   "metadata": {},
   "source": [
    "### Setting Up OAuth with Google"
   ]
  },
  {
   "cell_type": "code",
   "execution_count": null,
   "metadata": {},
   "outputs": [],
   "source": [
    "google = oauth.remote_app(\n",
    "    'google',\n",
    "    consumer_key='GOOGLE_CONSUMER_KEY',  # Replace this with your Google API client ID.\n",
    "    consumer_secret='GOOGLE_CONSUMER_SECRET',  # Replace with your Google API client secret.\n",
    "    request_token_params={\n",
    "        'scope': 'email',  # This defines what access we want to request, in this case, email.\n",
    "    },\n",
    "    base_url='https://www.googleapis.com/oauth2/v1/',\n",
    "    request_token_url=None,  # Not needed for OAuth 2.0.\n",
    "    access_token_method='POST',  # OAuth 2.0 uses POST method for token exchange.\n",
    "    access_token_url='https://accounts.google.com/o/oauth2/token',\n",
    "    authorize_url='https://accounts.google.com/o/oauth2/auth',  # The URL to which users are redirected to authorize access.\n",
    ")"
   ]
  },
  {
   "cell_type": "markdown",
   "metadata": {},
   "source": [
    "### Setting Up Template"
   ]
  },
  {
   "cell_type": "code",
   "execution_count": null,
   "metadata": {
    "vscode": {
     "languageId": "html"
    }
   },
   "outputs": [],
   "source": [
    "<body>\n",
    "    <h1>Login with Google</h1>\n",
    "    <a href=\"{{ url_for('login') }}\">Login with Google</a>\n",
    "</body>"
   ]
  },
  {
   "cell_type": "markdown",
   "metadata": {},
   "source": [
    "### Setting Up Routes for OAuth Flow"
   ]
  },
  {
   "cell_type": "markdown",
   "metadata": {},
   "source": [
    "- **Login Route**: When the user accesses /login, they will be redirected to Google’s OAuth authorization page. If the user successfully logs in, Google will redirect them back to our callback route."
   ]
  },
  {
   "cell_type": "code",
   "execution_count": null,
   "metadata": {},
   "outputs": [],
   "source": [
    "@app.route('/login')\n",
    "def login():\n",
    "    # Redirects the user to Google’s OAuth authorization page\n",
    "    return google.authorize(callback=url_for('authorized', _external=True))"
   ]
  },
  {
   "cell_type": "markdown",
   "metadata": {},
   "source": [
    "- **Callback Route**: After the user logs in on Google’s OAuth page, they will be redirected back to our /login/authorized route, which handles receiving the authorization code from Google and exchanging it for an access token."
   ]
  },
  {
   "cell_type": "code",
   "execution_count": null,
   "metadata": {},
   "outputs": [],
   "source": [
    "@app.route('/login/authorized')\n",
    "def authorized():\n",
    "    # Google sends the response containing the authorization code\n",
    "    response = google.authorized_response()  # This will contain the access token.\n",
    "    \n",
    "    # If authorization failed (no access token is returned), show an error message.\n",
    "    if response is None or response.get('access_token') is None:\n",
    "        return 'Access denied: reason={} error={}'.format(\n",
    "            request.args['error_reason'],\n",
    "            request.args['error_description']\n",
    "        )\n",
    "\n",
    "    # Store the access token in the session\n",
    "    session['google_token'] = (response['access_token'], '')  # You can store this token in a database for long-term use.\n",
    "    \n",
    "    # Use the access token to fetch user data (e.g., email)\n",
    "    user_info = google.get('userinfo')\n",
    "    return 'Logged in as ' + user_info.data['email']\n"
   ]
  },
  {
   "cell_type": "markdown",
   "metadata": {},
   "source": [
    "- **Token Getter**: This function will be used to retrieve the access token from the session when making future API calls on behalf of the user."
   ]
  },
  {
   "cell_type": "code",
   "execution_count": null,
   "metadata": {},
   "outputs": [],
   "source": [
    "@google.tokengetter\n",
    "def get_google_oauth_token():\n",
    "    return session.get('google_token')"
   ]
  },
  {
   "cell_type": "markdown",
   "metadata": {},
   "source": [
    "### How It Works:\n",
    "- The user visits the **/login** route, which triggers a redirection to Google’s OAuth authorization page.\n",
    "- Once the user logs in and grants access, they are redirected back to your app, where the authorization code is exchanged for an access token.\n",
    "- The access token is stored in the session and can be used to make requests to Google’s API on the user’s behalf (e.g., getting their email)."
   ]
  }
 ],
 "metadata": {
  "language_info": {
   "name": "python"
  }
 },
 "nbformat": 4,
 "nbformat_minor": 2
}
