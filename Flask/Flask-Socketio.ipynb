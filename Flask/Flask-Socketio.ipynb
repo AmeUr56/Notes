{
 "cells": [
  {
   "cell_type": "markdown",
   "metadata": {},
   "source": [
    "## Flask-Socketio\n",
    "extension for Flask that enables **real-time communication** between clients and the server using WebSockets. It allows you to build applications that can push updates to clients, which is useful for chat applications, notifications, and live updates."
   ]
  },
  {
   "cell_type": "code",
   "execution_count": null,
   "metadata": {},
   "outputs": [],
   "source": [
    "!pip install flask-socketio"
   ]
  },
  {
   "cell_type": "code",
   "execution_count": null,
   "metadata": {},
   "outputs": [],
   "source": [
    "from flask import Flask,render_template\n",
    "from flask_socketio import SocketIO\n",
    "\n",
    "app = Flask(__name__)\n",
    "# Initialize SocketIO with the Flask app\n",
    "socketio = SocketIO(app)"
   ]
  },
  {
   "cell_type": "markdown",
   "metadata": {},
   "source": [
    "### Creating SocketIO Events\n",
    "Now, let’s add a SocketIO event to respond to a message sent from the client."
   ]
  },
  {
   "cell_type": "code",
   "execution_count": null,
   "metadata": {},
   "outputs": [],
   "source": [
    "# Handle the 'message' event from the client\n",
    "@socketio.on('message')\n",
    "def handle_message(msg):\n",
    "    # Print the received message to the console\n",
    "    print('Received message: ' + msg)\n",
    "    # Send a response back to the client\n",
    "    socketio.send('Response from server: ' + msg)"
   ]
  },
  {
   "cell_type": "markdown",
   "metadata": {},
   "source": [
    "#### Example HTML File"
   ]
  },
  {
   "cell_type": "code",
   "execution_count": null,
   "metadata": {
    "vscode": {
     "languageId": "html"
    }
   },
   "outputs": [],
   "source": [
    "<script src=\"https://cdnjs.cloudflare.com/ajax/libs/socket.io/4.0.0/socket.io.js\"></script>\n",
    "    <script type=\"text/javascript\">\n",
    "        // Establish a connection to the Socket.IO server\n",
    "        var socket = io();\n",
    "\n",
    "        // Event handler for successful connection\n",
    "        socket.on('connect', function() {\n",
    "            console.log('Connected to server'); // Log to console\n",
    "        });\n",
    "\n",
    "        // Event handler for receiving messages from the server\n",
    "        socket.on('message', function(msg) {\n",
    "            console.log('Received message: ' + msg); // Log the received message\n",
    "        });\n",
    "\n",
    "        // Function to send a message to the server\n",
    "        function sendMessage() {\n",
    "            // Get the value from the input field\n",
    "            var msg = document.getElementById('message').value;\n",
    "            // Send the message to the server\n",
    "            socket.send(msg);\n",
    "            // Clear the input field\n",
    "            document.getElementById('message').value = '';\n",
    "        }\n",
    "    </script>\n",
    "<body>\n",
    "    <h1>Flask-SocketIO Chat</h1>\n",
    "    <!-- Input field for the user to type messages -->\n",
    "    <input type=\"text\" id=\"message\" placeholder=\"Type a message\" />\n",
    "    <!-- Button to send the message -->\n",
    "    <button onclick=\"sendMessage()\">Send</button>\n",
    "</body>"
   ]
  },
  {
   "cell_type": "markdown",
   "metadata": {},
   "source": [
    "### Namespaces\n",
    "allow you to separate different communication channels in your application. They provide a way to segment your WebSocket connections and handle events related to different functionalities independently."
   ]
  },
  {
   "cell_type": "markdown",
   "metadata": {},
   "source": [
    "#### Example of Namespaces\n",
    "you might have a chat application with different channels for private messages, public chat rooms, and notifications. Each of these channels can be a different namespace."
   ]
  },
  {
   "cell_type": "code",
   "execution_count": null,
   "metadata": {},
   "outputs": [],
   "source": [
    "from flask import Flask\n",
    "from flask_socketio import SocketIO, Namespace\n",
    "\n",
    "app = Flask(__name__)\n",
    "socketio = SocketIO(app)\n",
    "\n",
    "# Create a custom namespace for chat functionality\n",
    "class ChatNamespace(Namespace):\n",
    "    def on_connect(self):\n",
    "        print('Client connected to chat namespace.')\n",
    "\n",
    "    def on_disconnect(self):\n",
    "        print('Client disconnected from chat namespace.')\n",
    "\n",
    "    def on_message(self, message):\n",
    "        print(f'Received message: {message}')\n",
    "        # Echo the message back to the client\n",
    "        self.send(message)\n",
    "\n",
    "# Register the namespace with the SocketIO server\n",
    "socketio.on_namespace(ChatNamespace('/chat'))\n",
    "\n",
    "if __name__ == '__main__':\n",
    "    socketio.run(app)\n"
   ]
  },
  {
   "cell_type": "markdown",
   "metadata": {},
   "source": [
    "##### HTML Client Code"
   ]
  },
  {
   "cell_type": "code",
   "execution_count": null,
   "metadata": {
    "vscode": {
     "languageId": "html"
    }
   },
   "outputs": [],
   "source": [
    "<!DOCTYPE html>\n",
    "<html>\n",
    "<head>\n",
    "    <title>Flask-SocketIO with Namespaces</title>\n",
    "    <script src=\"https://cdnjs.cloudflare.com/ajax/libs/socket.io/4.0.0/socket.io.js\"></script>\n",
    "    <script type=\"text/javascript\">\n",
    "        // Connect to the chat namespace\n",
    "        var socket = io('/chat');\n",
    "\n",
    "        // Event handler for receiving messages from the server\n",
    "        socket.on('message', function(msg) {\n",
    "            console.log('Received message: ' + msg);\n",
    "        });\n",
    "\n",
    "        // Function to send a message to the server\n",
    "        function sendMessage() {\n",
    "            var msg = document.getElementById('message').value;\n",
    "            socket.send(msg); // Send the message to the server\n",
    "            document.getElementById('message').value = ''; // Clear the input field\n",
    "        }\n",
    "    </script>\n",
    "</head>\n",
    "<body>\n",
    "    <h1>Chat Namespace Example</h1>\n",
    "    <input type=\"text\" id=\"message\" placeholder=\"Type a message\" />\n",
    "    <button onclick=\"sendMessage()\">Send</button>\n",
    "</body>\n",
    "</html>\n"
   ]
  },
  {
   "cell_type": "markdown",
   "metadata": {},
   "source": [
    "In this example, when the client connects to the /chat namespace, the server prints a message indicating the connection. Messages sent through this namespace will be handled independently from any other namespaces you might create."
   ]
  },
  {
   "cell_type": "markdown",
   "metadata": {},
   "source": [
    "### Rooms\n",
    "allow you to group multiple sockets together. You can think of rooms as virtual spaces where multiple clients can join and communicate with each other."
   ]
  },
  {
   "cell_type": "markdown",
   "metadata": {},
   "source": [
    "#### Example of Rooms\n",
    "Let’s create an example where clients can join different chat rooms."
   ]
  },
  {
   "cell_type": "code",
   "execution_count": null,
   "metadata": {},
   "outputs": [],
   "source": [
    "from flask import Flask, render_template\n",
    "from flask_socketio import SocketIO, join_room, leave_room\n",
    "\n",
    "app = Flask(__name__)\n",
    "socketio = SocketIO(app)\n",
    "\n",
    "@app.route('/')\n",
    "def index():\n",
    "    return render_template('index.html')  # Render the index page\n",
    "\n",
    "# Handle the 'join' event to join a room\n",
    "@socketio.on('join')\n",
    "def on_join(data):\n",
    "    room = data['room']  # Get the room name from the received data\n",
    "    join_room(room)  # Join the specified room\n",
    "    # Send a message to the room indicating the user has joined\n",
    "    socketio.send(room, f'User has joined the room: {room}')\n",
    "\n",
    "# Handle the 'message' event to send messages to a specific room\n",
    "@socketio.on('message')\n",
    "def handle_message(data):\n",
    "    room = data['room']  # Get the room name from the received data\n",
    "    msg = data['message']  # Get the message from the received data\n",
    "    # Send the message to all clients in the specified room\n",
    "    socketio.send(room, msg)\n",
    "\n",
    "# Handle the 'leave' event to leave a room\n",
    "@socketio.on('leave')\n",
    "def on_leave(data):\n",
    "    room = data['room']\n",
    "    leave_room(room)  # Leave the specified room\n",
    "    # Send a message to the room indicating the user has left\n",
    "    socketio.send(room, f'User has left the room: {room}')\n",
    "\n",
    "if __name__ == '__main__':\n",
    "    socketio.run(app)\n"
   ]
  },
  {
   "cell_type": "markdown",
   "metadata": {},
   "source": [
    "### Braodcasting Messages\n",
    "You can broadcast messages to all clients in a specific room or all connected clients."
   ]
  },
  {
   "cell_type": "code",
   "execution_count": null,
   "metadata": {},
   "outputs": [],
   "source": [
    "@socketio.on('broadcast_message')\n",
    "def handle_broadcast(msg):\n",
    "    # Emit the message to all connected clients\n",
    "    socketio.emit('message', msg, broadcast=True)"
   ]
  },
  {
   "cell_type": "markdown",
   "metadata": {},
   "source": [
    "### Handling Disconnections\n",
    "You can handle disconnections using the **on_disconnect** event."
   ]
  },
  {
   "cell_type": "code",
   "execution_count": null,
   "metadata": {},
   "outputs": [],
   "source": [
    "# Handle disconnection events\n",
    "@socketio.on('disconnect')\n",
    "def handle_disconnect():\n",
    "    # Print a message when a client disconnects\n",
    "    print('Client disconnected')"
   ]
  },
  {
   "cell_type": "markdown",
   "metadata": {},
   "source": [
    "##### HTML Client Code"
   ]
  },
  {
   "cell_type": "code",
   "execution_count": null,
   "metadata": {
    "vscode": {
     "languageId": "html"
    }
   },
   "outputs": [],
   "source": [
    "<!DOCTYPE html>\n",
    "<html>\n",
    "<head>\n",
    "    <title>Flask-SocketIO Rooms Example</title>\n",
    "    <script src=\"https://cdnjs.cloudflare.com/ajax/libs/socket.io/4.0.0/socket.io.js\"></script>\n",
    "    <script type=\"text/javascript\">\n",
    "        var socket = io(); // Connect to the default namespace\n",
    "\n",
    "        // Function to join a room\n",
    "        function joinRoom() {\n",
    "            var room = document.getElementById('room').value; // Get the room name\n",
    "            socket.emit('join', { room: room }); // Emit a join event\n",
    "        }\n",
    "\n",
    "        // Event handler for receiving messages from the server\n",
    "        socket.on('message', function(msg) {\n",
    "            console.log('Received message: ' + msg); // Log the message\n",
    "        });\n",
    "\n",
    "        // Function to send a message to the room\n",
    "        function sendMessage() {\n",
    "            var room = document.getElementById('room').value; // Get the room name\n",
    "            var msg = document.getElementById('message').value; // Get the message\n",
    "            socket.send({ room: room, message: msg }); // Send message to the room\n",
    "            document.getElementById('message').value = ''; // Clear the input field\n",
    "        }\n",
    "\n",
    "        // Function to leave a room\n",
    "        function leaveRoom() {\n",
    "            var room = document.getElementById('room').value; // Get the room name\n",
    "            socket.emit('leave', { room: room }); // Emit a leave event\n",
    "        }\n",
    "    </script>\n",
    "</head>\n",
    "<body>\n",
    "    <h1>Chat Room Example</h1>\n",
    "    <input type=\"text\" id=\"room\" placeholder=\"Room Name\" />\n",
    "    <button onclick=\"joinRoom()\">Join Room</button>\n",
    "    <button onclick=\"leaveRoom()\">Leave Room</button><br><br>\n",
    "    <input type=\"text\" id=\"message\" placeholder=\"Type a message\" />\n",
    "    <button onclick=\"sendMessage()\">Send</button>\n",
    "</body>\n",
    "</html>\n"
   ]
  }
 ],
 "metadata": {
  "language_info": {
   "name": "python"
  }
 },
 "nbformat": 4,
 "nbformat_minor": 2
}
