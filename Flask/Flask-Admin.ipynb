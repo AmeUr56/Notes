{
 "cells": [
  {
   "cell_type": "markdown",
   "metadata": {},
   "source": [
    "## Flask-Admin:\n",
    "extension that adds admin interface generation capabilities to Flask applications. It automatically creates a user interface for managing your data models, while allowing extensive customization when needed."
   ]
  },
  {
   "cell_type": "code",
   "execution_count": null,
   "metadata": {},
   "outputs": [],
   "source": [
    "!pip install flask-admin"
   ]
  },
  {
   "cell_type": "markdown",
   "metadata": {},
   "source": [
    "### Project Structure"
   ]
  },
  {
   "cell_type": "markdown",
   "metadata": {},
   "source": [
    "flask-admin-app/<br>\n",
    "├── app/<br>\n",
    "│   ├── __init__.py<br>\n",
    "│   ├── admin/<br>\n",
    "│   │   ├── __init__.py<br>\n",
    "│   │   ├── views.py<br>\n",
    "│   │   ├── forms.py<br>\n",
    "│   │   └── models.py<br>\n",
    "│   ├── templates/<br>\n",
    "│   │   ├── admin/<br>\n",
    "│   │   │   ├── master.html<br>\n",
    "│   │   │   ├── index.html<br>\n",
    "│   │   │   ├── custom/<br>\n",
    "│   │   │   │   ├── dashboard.html<br>\n",
    "│   │   │   │   └── analytics.html<br>\n",
    "│   │   │   └── models/<br>\n",
    "│   │   │       ├── user.html<br>\n",
    "│   │   │       └── product.html<br>\n",
    "│   │   └── security/<br>\n",
    "│   ├── static/<br>\n",
    "│   │   ├── admin/<br>\n",
    "│   │   │   ├── css/<br>\n",
    "│   │   │   └── js/<br>\n",
    "│   │   └── img/<br>\n",
    "│   └── models/<br>\n",
    "├── config.py<br>\n",
    "└── requirements.txt<br>"
   ]
  },
  {
   "cell_type": "markdown",
   "metadata": {},
   "source": [
    "### Types of Admin Interfaces\n"
   ]
  },
  {
   "cell_type": "markdown",
   "metadata": {},
   "source": [
    "#### 1. Model-based Admin\n",
    "- Automatic CRUD operations\n",
    "- Database model management\n",
    "- File management\n",
    "\n",
    "#### 2. Custom Admin Views\n",
    "- Dashboard analytics\n",
    "- User management\n",
    "- Content moderation\n",
    "\n",
    "#### 3. Multi-tenant Admin\n",
    "- Organization-specific views\n",
    "- Role-based access\n",
    "- Resource isolation"
   ]
  },
  {
   "cell_type": "markdown",
   "metadata": {},
   "source": [
    "### Basic Admin Setup"
   ]
  },
  {
   "cell_type": "code",
   "execution_count": null,
   "metadata": {},
   "outputs": [],
   "source": [
    "# app/__init__.py\n",
    "from flask import Flask\n",
    "from flask_sqlalchemy import SQLAlchemy\n",
    "from flask_admin import Admin\n",
    "from flask_admin.contrib.sqla import ModelView\n",
    "from flask_security import Security, SQLAlchemyUserDatastore,current_user\n",
    "\n",
    "db = SQLAlchemy()\n",
    "admin = Admin(template_mode='bootstrap4')\n",
    "\n",
    "def create_app():\n",
    "    app = Flask(__name__)\n",
    "    app.config.from_object('config.Config')\n",
    "    \n",
    "    db.init_app(app)\n",
    "    admin.init_app(app)\n",
    "    \n",
    "    class UserModelView(ModelView):\n",
    "        # Specify Access permissions\n",
    "        def is_accessible(self):\n",
    "            return current_user.is_admin\n",
    "\n",
    "    \n",
    "    class ProductModelView(ModelView):\n",
    "        # Specify Access permissions\n",
    "        def is_accessible(self):\n",
    "            return current_user.is_admin\n",
    "        \n",
    "    # Add model views\n",
    "    from .models import User, Product\n",
    "    admin.add_view(UserModelView(User, db.session))\n",
    "    admin.add_view(ProductModelView(Product, db.session))\n",
    "    \n",
    "    return app"
   ]
  },
  {
   "cell_type": "markdown",
   "metadata": {},
   "source": [
    "### Custom Admin Views"
   ]
  },
  {
   "cell_type": "code",
   "execution_count": null,
   "metadata": {},
   "outputs": [],
   "source": [
    "# app/admin/views.py\n",
    "from flask_admin import BaseView, expose\n",
    "from flask_security import current_user, roles_required\n",
    "\n",
    "class DashboardView(BaseView):\n",
    "    @expose('/')\n",
    "    @roles_required('admin')\n",
    "    def index(self):\n",
    "        stats = self.get_dashboard_stats()\n",
    "        return self.render('admin/custom/dashboard.html', stats=stats)\n",
    "    \n",
    "    def get_dashboard_stats(self):\n",
    "        return {\n",
    "            'total_users': User.query.count(),\n",
    "            'active_users': User.query.filter_by(active=True).count(),\n",
    "            'revenue': self.calculate_revenue()\n",
    "        }\n",
    "\n",
    "# Register custom view\n",
    "admin.add_view(DashboardView(name='Dashboard', endpoint='admin_dashboard'))"
   ]
  },
  {
   "cell_type": "markdown",
   "metadata": {},
   "source": [
    "### Model Views with Custom Actions"
   ]
  },
  {
   "cell_type": "code",
   "execution_count": null,
   "metadata": {},
   "outputs": [],
   "source": [
    "# app/admin/models.py\n",
    "class UserAdmin(ModelView):\n",
    "    # Display foreign keys or no \n",
    "    column_display_fk = True\n",
    "    \n",
    "    # Which columns will be displayed in the list view of the admin interface for users.\n",
    "    column_list = ('email', 'name', 'active', 'roles')\n",
    "    \n",
    "    # Which columns are searchable in the admin interface. In this case, you can search for users by their email or name.\n",
    "    column_searchable_list = ('email', 'name')\n",
    "    \n",
    "    # Which columns can be used to filter results in the list view. Admins can filter users based on their active status and their roles.\n",
    "    column_filters = ('active', 'roles')\n",
    "    \n",
    "    #  Excludes specific fields from the form used to create or edit users.\n",
    "    form_excluded_columns = ('password_hash',)\n",
    "    \n",
    "    # control whether the admin panel allows users to be created, edited, or deleted.\n",
    "    can_create = True\n",
    "    can_edit = True\n",
    "    can_delete = True\n",
    "    \n",
    "    # Custom Templates for List and Edit Views\n",
    "    list_template = 'admin/custom_list.html'\n",
    "    edit_template = 'admin/custom_edit.html'\n",
    "        \n",
    "    # Specify Access permissions\n",
    "    def is_accessible(self):\n",
    "        return current_user.has_role('admin')\n",
    "    \n",
    "    # Process to do if its not accessible\n",
    "    def inaccessible_callback(self, name, **kwargs):\n",
    "        return redirect(url_for('/admin'))\n",
    "     \n",
    "    @action('activate', 'Activate Users', 'Are you sure?')\n",
    "    def action_activate(self, ids):\n",
    "        try:\n",
    "            query = User.query.filter(User.id.in_(ids))\n",
    "            count = 0\n",
    "            for user in query.all():\n",
    "                user.active = True\n",
    "                count += 1\n",
    "            db.session.commit()\n",
    "            flash(f'Successfully activated {count} users.')\n",
    "        except Exception as ex:\n",
    "            flash(f'Failed to activate users: {str(ex)}', 'error')"
   ]
  },
  {
   "cell_type": "markdown",
   "metadata": {},
   "source": [
    "- **Custom Action**: This section defines a custom action in the admin panel that allows the admin to activate multiple users at once. The @action decorator defines the action:\n",
    "    - **activate**: The name of the action.\n",
    "    - **Activate Users**: The label shown in the admin panel.\n",
    "    - **Are you sure?**: A confirmation message that appears before the action is executed."
   ]
  },
  {
   "cell_type": "markdown",
   "metadata": {},
   "source": [
    "- **Function Logic**:\n",
    "- The action receives a list of user IDs (ids) selected in the admin panel.\n",
    "- A query is made to find all users with IDs in the provided list.\n",
    "- For each user found, the active status is set to True.\n",
    "- After modifying the users, changes are committed to the database, and a success message is shown using Flask's flash function.\n",
    "- If there’s an error (e.g., database issue), an error message is shown.\n"
   ]
  },
  {
   "cell_type": "markdown",
   "metadata": {},
   "source": [
    "### Custom Forms and Validation"
   ]
  },
  {
   "cell_type": "code",
   "execution_count": null,
   "metadata": {},
   "outputs": [],
   "source": [
    "# app/admin/forms.py\n",
    "from flask_wtf import FlaskForm\n",
    "from wtforms import StringField, SelectField, BooleanField\n",
    "from wtforms.validators import DataRequired, Email\n",
    "\n",
    "class UserForm(FlaskForm):\n",
    "    name = StringField('Name', validators=[DataRequired()])\n",
    "    email = StringField('Email', validators=[DataRequired(), Email()])\n",
    "    role = SelectField('Role', choices=[\n",
    "        ('user', 'User'),\n",
    "        ('admin', 'Admin'),\n",
    "        ('moderator', 'Moderator')\n",
    "    ])\n",
    "    active = BooleanField('Active')\n",
    "\n",
    "# Using custom form in ModelView\n",
    "class CustomUserAdmin(ModelView):\n",
    "    form = UserForm\n",
    "    \n",
    "    def on_model_change(self, form, model, is_created):\n",
    "        if is_created:\n",
    "            model.set_password(form.password.data)\n",
    "        super().on_model_change(form, model, is_created)"
   ]
  },
  {
   "cell_type": "markdown",
   "metadata": {},
   "source": [
    "- **form = UserForm**: By setting the form attribute to UserForm, the CustomUserAdmin class tells Flask-Admin to use the custom UserForm when creating or editing a user. This means when you view the admin interface for users, you'll see the form fields (name, email, role, and active) that were defined in the UserForm."
   ]
  },
  {
   "cell_type": "markdown",
   "metadata": {},
   "source": [
    "- **on_model_change**: This method is part of Flask-Admin's ModelView. It gets called every time a model (user) is created or updated via the admin interface.\n",
    "    - **Parameters**:\n",
    "        - **form**: The form object that is submitted by the user in the admin interface.\n",
    "        - **model**: The database model being edited or created.\n",
    "        - **is_created**: A boolean indicating whether the model is being created (True) or updated (False).\n",
    "    - **Custom Logic**:\n",
    "        If the model is being created (is_created == True), this method will set the user's password. It assumes that the password field is part of the form (even though it's not shown in the current form definition, it could be added). The password would be retrieved from the form (form.password.data), and then the model's set_password method would hash and store it."
   ]
  }
 ],
 "metadata": {
  "language_info": {
   "name": "python"
  }
 },
 "nbformat": 4,
 "nbformat_minor": 2
}
