{
 "cells": [
  {
   "cell_type": "markdown",
   "metadata": {},
   "source": [
    "## Flask-Mail:\n",
    "extension that simplifies sending emails from your Flask web application. It integrates well with Flask and provides the ability to send both plain text and HTML emails, handle attachments, and configure different mail servers."
   ]
  },
  {
   "cell_type": "code",
   "execution_count": null,
   "metadata": {},
   "outputs": [],
   "source": [
    "!pip install flask-mail"
   ]
  },
  {
   "cell_type": "code",
   "execution_count": null,
   "metadata": {},
   "outputs": [],
   "source": [
    "# app.py\n",
    "from flask import Flask\n",
    "from flask_mail import Mail, Message\n",
    "\n",
    "app = Flask(__name__)\n",
    "\n",
    "# Flask-Mail Configuration\n",
    "app.config['MAIL_SERVER'] = 'smtp.gmail.com'  # Use Gmail's SMTP server\n",
    "app.config['MAIL_PORT'] = 587  # For TLS encryption\n",
    "app.config['MAIL_USE_TLS'] = True  # Enable TLS encryption\n",
    "app.config['MAIL_USE_SSL'] = False  # Disable SSL (use either TLS or SSL, not both)\n",
    "app.config['MAIL_USERNAME'] = 'your_email@gmail.com'  # Your email address\n",
    "app.config['MAIL_PASSWORD'] = 'your_email_password'  # Your email password\n",
    "app.config['MAIL_DEFAULT_SENDER'] = 'your_email@gmail.com'  # Default sender email address\n",
    "\n",
    "# Initialize Flask-Mail\n",
    "mail = Mail(app)"
   ]
  },
  {
   "cell_type": "markdown",
   "metadata": {},
   "source": [
    "This sets up your Flask app to send emails via Gmail’s SMTP server, using **TLS encryption**. Make sure you replace the **MAIL_USERNAME** and **MAIL_PASSWORD** with your actual credentials. If you're using another email provider, update the **MAIL_SERVER** and **MAIL_PORT** accordingly."
   ]
  },
  {
   "cell_type": "markdown",
   "metadata": {},
   "source": [
    "### Sending Simple Emails"
   ]
  },
  {
   "cell_type": "code",
   "execution_count": null,
   "metadata": {},
   "outputs": [],
   "source": [
    "# app.py (continued)\n",
    "\n",
    "@app.route('/send_email')\n",
    "def send_email():\n",
    "    # Create a new email message\n",
    "    msg = Message('Hello from Flask', \n",
    "                  recipients=['recipient@example.com'])\n",
    "    msg.body = 'This is a plain text email sent from Flask using Flask-Mail.'\n",
    "\n",
    "    # Send the email\n",
    "    mail.send(msg)\n",
    "    return 'Email has been sent successfully!'"
   ]
  },
  {
   "cell_type": "markdown",
   "metadata": {},
   "source": [
    "- **Message**: Represents an email message.\n",
    "- **recipients**: A list of recipients to send the email to.\n",
    "- **msg.body**: The plain text body of the email."
   ]
  },
  {
   "cell_type": "markdown",
   "metadata": {},
   "source": [
    "When you visit the **/send_email route**, Flask-Mail will send an email to the specified recipient."
   ]
  },
  {
   "cell_type": "markdown",
   "metadata": {},
   "source": [
    "#### Dynamic Email Sender"
   ]
  },
  {
   "cell_type": "code",
   "execution_count": null,
   "metadata": {},
   "outputs": [],
   "source": [
    "# Create the email message\n",
    "sender_email = 'admin0@admin.com'\n",
    "msg = Message('Dynamic Sender Email',\n",
    "                recipients=[recipient],\n",
    "                sender=sender_email)  # Dynamic sender"
   ]
  },
  {
   "cell_type": "markdown",
   "metadata": {},
   "source": [
    "### Sending HTML Emails\n",
    "You can also send HTML emails, which is useful for more styled or formatted emails, such as newsletters or password reset instructions."
   ]
  },
  {
   "cell_type": "code",
   "execution_count": null,
   "metadata": {},
   "outputs": [],
   "source": [
    "@app.route('/send_html_email')\n",
    "def send_html_email():\n",
    "    msg = Message('HTML Email Example',\n",
    "                  recipients=['recipient@example.com'])\n",
    "    \n",
    "    # HTML email body\n",
    "    msg.html = '''\n",
    "        <h1>Hello from Flask-Mail</h1>\n",
    "        <p>This is a <b>HTML email</b> sent from Flask.</p>\n",
    "        <p>Best regards,<br>Flask Team</p>\n",
    "    '''\n",
    "    \n",
    "    mail.send(msg)\n",
    "    return 'HTML Email has been sent successfully!'\n"
   ]
  },
  {
   "cell_type": "markdown",
   "metadata": {},
   "source": [
    "- **msg.html**: This is the HTML body of the email. You can include any valid HTML content, including inline CSS for basic styling."
   ]
  },
  {
   "cell_type": "markdown",
   "metadata": {},
   "source": [
    "### Sending Emails with Attachments\n",
    "Flask-Mail also supports sending email attachments, such as images, PDFs, or other files."
   ]
  },
  {
   "cell_type": "code",
   "execution_count": null,
   "metadata": {},
   "outputs": [],
   "source": [
    "@app.route('/send_email_with_attachment')\n",
    "def send_email_with_attachment():\n",
    "    msg = Message('Email with Attachment',\n",
    "                  recipients=['recipient@example.com'])\n",
    "    msg.body = 'Please find the attachment below.'\n",
    "\n",
    "    # Attach a file (e.g., a PDF file)\n",
    "    with app.open_resource(\"example.pdf\") as pdf:\n",
    "        msg.attach(\"example.pdf\", \"application/pdf\", pdf.read())\n",
    "\n",
    "    mail.send(msg)\n",
    "    return 'Email with attachment has been sent successfully!'"
   ]
  },
  {
   "cell_type": "markdown",
   "metadata": {},
   "source": [
    "- **msg.attach()**: This method allows you to attach a file to the email. You need to specify the file name, MIME type (e.g., application/pdf for PDFs), and the file content."
   ]
  },
  {
   "cell_type": "markdown",
   "metadata": {},
   "source": [
    "### Additional Configuration Options\n",
    "Flask-Mail offers several additional configuration options that you can use to fine-tune how emails are sent from your application. Some commonly used options include:\n",
    "\n",
    "- **MAIL_MAX_EMAILS**: Limits the number of emails that can be sent during a single connection to the mail server.\n",
    "- **MAIL_SUPPRESS_SEND**: If set to True, Flask-Mail will suppress sending emails (useful for testing).\n",
    "- **MAIL_ASCII_ATTACHMENTS**: If set to True, attachments will use ASCII encoding."
   ]
  }
 ],
 "metadata": {
  "language_info": {
   "name": "python"
  }
 },
 "nbformat": 4,
 "nbformat_minor": 2
}
