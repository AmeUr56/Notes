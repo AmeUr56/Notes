{
 "cells": [
  {
   "cell_type": "markdown",
   "metadata": {},
   "source": [
    "## Flask-Limiter:\n",
    "extension for Flask that provides rate-limiting capabilities. Rate limiting is an essential feature to prevent abuse of your application by limiting the number of requests a user can make to certain endpoints in a given period of time."
   ]
  },
  {
   "cell_type": "code",
   "execution_count": null,
   "metadata": {},
   "outputs": [],
   "source": [
    "# Installation\n",
    "!pip install flask-limiter"
   ]
  },
  {
   "cell_type": "code",
   "execution_count": null,
   "metadata": {},
   "outputs": [],
   "source": [
    "from flask_limiter import Limiter\n",
    "\n",
    "limiter = Limiter(app)"
   ]
  },
  {
   "cell_type": "markdown",
   "metadata": {},
   "source": [
    "### Fixed Vs Sliding Window\n",
    "\n",
    "<table border=\"1\" cellpadding=\"10\" cellspacing=\"0\">\n",
    "  <thead>\n",
    "    <tr>\n",
    "      <th>Feature</th>\n",
    "      <th>Fixed Window</th>\n",
    "      <th>Sliding Window</th>\n",
    "    </tr>\n",
    "  </thead>\n",
    "  <tbody>\n",
    "    <tr>\n",
    "      <td>Definition</td>\n",
    "      <td>Rate limit resets after a fixed time interval (e.g., every minute, hour).</td>\n",
    "      <td>Rate limit is based on a rolling window of time, checking the most recent requests over the last X seconds or minutes.</td>\n",
    "    </tr>\n",
    "    <tr>\n",
    "      <td>Time Window</td>\n",
    "      <td>Fixed period (e.g., every 1 minute or 1 hour).</td>\n",
    "      <td>Rolling period based on recent requests (e.g., last 60 seconds, last 5 minutes).</td>\n",
    "    </tr>\n",
    "    <tr>\n",
    "      <td>Request Tracking</td>\n",
    "      <td>Requests are tracked for a specific time period and reset at the end of that period.</td>\n",
    "      <td>Requests are tracked based on the timestamp of each request, with the window moving forward as time progresses.</td>\n",
    "    </tr>\n",
    "    <tr>\n",
    "      <td>Rate Limit Reset</td>\n",
    "      <td>Resets after the fixed period ends, regardless of when the requests were made.</td>\n",
    "      <td>The window continuously slides forward, adjusting the rate limit dynamically based on the most recent requests.</td>\n",
    "    </tr>\n",
    "    <tr>\n",
    "      <td>Use Case</td>\n",
    "      <td>Simple rate limiting where the user can make a fixed number of requests within a specific time period.</td>\n",
    "      <td>More dynamic rate limiting, providing smoother and fairer limits for users by considering recent activity.</td>\n",
    "    </tr>\n",
    "    <tr>\n",
    "      <td>Edge Cases</td>\n",
    "      <td>A user who hits the limit just before the window resets may be at a disadvantage, needing to wait for the reset.</td>\n",
    "      <td>More fair in cases where users are close to the limit but still within a rolling window.</td>\n",
    "    </tr>\n",
    "  </tbody>\n",
    "</table>\n"
   ]
  },
  {
   "cell_type": "markdown",
   "metadata": {},
   "source": [
    "#### Sliding Window Example\n",
    "- **Limit**: The @limiter.limit(\"5 per minute\", ...) decorator indicates that the user is allowed to make up to 5 requests within a 1-minute sliding window.\n",
    "- **Sliding Window**: If a user makes 5 requests within the last 60 seconds, further requests will be blocked until the time of one of the requests moves past the 60-second window."
   ]
  },
  {
   "cell_type": "markdown",
   "metadata": {},
   "source": [
    "### The @limiter.limit Decorator\n",
    "allows you to restrict the number of requests that a specific route can receive within a given time window."
   ]
  },
  {
   "cell_type": "code",
   "execution_count": null,
   "metadata": {},
   "outputs": [],
   "source": [
    "@limiter.limit(\"X per Y\")"
   ]
  },
  {
   "cell_type": "markdown",
   "metadata": {},
   "source": [
    "- **X**: Maximum number of requests allowed.\n",
    "- **Y**: Time window (e.g., per minute, per hour)."
   ]
  },
  {
   "cell_type": "markdown",
   "metadata": {},
   "source": [
    "#### Time Units you can use:\n",
    "##### **Seconds**:\n",
    "Example: \"5 per second\" or \"10 per 30 seconds\"\n",
    "\n",
    "##### **Minutes**:\n",
    "Example: \"2 per minute\" or \"1 per 5 minutes\"\n",
    "\n",
    "##### **Hours**:\n",
    "Example: \"100 per hour\" or \"10 per 30 minutes\" (combined with minutes)\n",
    "\n",
    "##### **Days**:\n",
    "Example: \"1 per day\" or \"7 per week\" (using the day as a reference)"
   ]
  },
  {
   "cell_type": "markdown",
   "metadata": {},
   "source": [
    "### Flask-Limiter Configuration"
   ]
  },
  {
   "cell_type": "markdown",
   "metadata": {},
   "source": [
    "- **DEFAULT_LIMITS**: Global default rate limits for all routes in the application.\n",
    "- **STORAGE_URI**: The URI for the rate limit storage backend (e.g., Redis, Memcached).\n",
    "- **KEY_FUNC**: Custom function to define how rate limit keys are generated.\n"
   ]
  },
  {
   "cell_type": "code",
   "execution_count": null,
   "metadata": {},
   "outputs": [],
   "source": [
    "app.config['LIMITS'] = [\"10 per hour\"]\n",
    "app.config['STORAGE_URI'] = \"redis://localhost:6379\"\n",
    "limiter = Limiter(app)"
   ]
  },
  {
   "cell_type": "markdown",
   "metadata": {},
   "source": [
    "### Global Rate Limits\n",
    "You can set a global rate limit that applies to all routes in the application."
   ]
  },
  {
   "cell_type": "code",
   "execution_count": null,
   "metadata": {},
   "outputs": [],
   "source": [
    "app.config['LIMITS'] = [\"10 per hour\"]  # 10 requests per hour for all routes\n",
    "limiter = Limiter(app)"
   ]
  },
  {
   "cell_type": "markdown",
   "metadata": {},
   "source": [
    "### Dynamic Rate Limits\n",
    "You can apply dynamic rate limits based on request data, such as the user ID, IP address, or any custom logic."
   ]
  },
  {
   "cell_type": "code",
   "execution_count": null,
   "metadata": {},
   "outputs": [],
   "source": [
    "from flask import g\n",
    "\n",
    "@app.route(\"/dynamic_limited\")\n",
    "@limiter.limit(lambda: \"10 per hour\" if g.user.is_authenticated else \"3 per hour\")\n",
    "def dynamic_limited_view():\n",
    "    return \"This view has a dynamic rate limit based on authentication status.\""
   ]
  },
  {
   "cell_type": "markdown",
   "metadata": {},
   "source": [
    "In this example:\n",
    "- Authenticated users are limited to 10 requests per hour.\n",
    "- Non-authenticated users are limited to 3 requests per hour."
   ]
  },
  {
   "cell_type": "markdown",
   "metadata": {},
   "source": [
    "### Rate Limit Exemption (@limiter.exempt)\n",
    "some routes that should not be subject to rate limiting, such as health check routes or special API endpoints. You can use the @limiter.exempt decorator to exclude specific routes from rate limiting."
   ]
  },
  {
   "cell_type": "code",
   "execution_count": null,
   "metadata": {},
   "outputs": [],
   "source": [
    "@app.route(\"/health_check\")\n",
    "@limiter.exempt\n",
    "def health_check():\n",
    "    return \"OK\""
   ]
  },
  {
   "cell_type": "markdown",
   "metadata": {},
   "source": [
    "### Custom Error Messages\n",
    "allows you to customize the error message that is returned when a user exceeds the rate limit."
   ]
  },
  {
   "cell_type": "code",
   "execution_count": null,
   "metadata": {},
   "outputs": [],
   "source": [
    "@limiter.limit(\"2 per minute\", error_message=\"You have exceeded the request limit. Please try again later.\")"
   ]
  },
  {
   "cell_type": "markdown",
   "metadata": {},
   "source": [
    "### IP-based Rate Limiting\n",
    "You can set up rate limits based on the user's IP address using the key_func parameter. This is useful for preventing abuse from a specific IP."
   ]
  },
  {
   "cell_type": "code",
   "execution_count": null,
   "metadata": {},
   "outputs": [],
   "source": [
    "@limiter.limit(\"5 per minute\", key_func=lambda: request.remote_addr)"
   ]
  },
  {
   "cell_type": "markdown",
   "metadata": {},
   "source": [
    "### Managing Rate Limit Counters\n",
    "provides a backend for storing rate limit counters. By default, it uses in-memory storage. However, you can use other backends like Redis or Memcached for production environments"
   ]
  },
  {
   "cell_type": "code",
   "execution_count": null,
   "metadata": {},
   "outputs": [],
   "source": [
    "# Redis Installation\n",
    "! pip install redis"
   ]
  },
  {
   "cell_type": "code",
   "execution_count": null,
   "metadata": {},
   "outputs": [],
   "source": [
    "from flask_limiter import Limiter\n",
    "from redis import Redis\n",
    "\n",
    "app = Flask(__name__)\n",
    "limiter = Limiter(app, storage_uri=\"redis://localhost:6379\")"
   ]
  },
  {
   "cell_type": "markdown",
   "metadata": {},
   "source": [
    "Rate limits are stored in a Redis database.\n",
    "This is more scalable for production applications compared to using in-memory storage."
   ]
  },
  {
   "cell_type": "markdown",
   "metadata": {},
   "source": [
    "### Example"
   ]
  },
  {
   "cell_type": "code",
   "execution_count": null,
   "metadata": {},
   "outputs": [],
   "source": [
    "from flask import Flask\n",
    "from flask_limiter import Limiter\n",
    "from flask_limiter.util import get_remote_address\n",
    "\n",
    "app = Flask(_name_)\n",
    "limiter = Limiter(app, default_limits=[\"5 per minute\"],key_func=get_remote_address)\n",
    "\n",
    "@app.route('/')\n",
    "@limiter.limit(\"2 per minute\")\n",
    "def index():\n",
    "    return 'This route is limited to 2 requests per minute'\n"
   ]
  },
  {
   "cell_type": "markdown",
   "metadata": {},
   "source": [
    "**get_remote_address** specifys that each ip address has this requests limit \"5 per minute\"."
   ]
  },
  {
   "cell_type": "markdown",
   "metadata": {},
   "source": [
    "**Explanation:(suppose in index route we made 2 requests in first 10 ses)**<br>\n",
    "The Limiter will track the number of requests made to that route within the specified time frame (1 minute in this case). Since you've already hit the limit of 2 requests, any further requests within that minute will be blocked.<br>\n",
    "the server will respond with a 429 Too Many Requests status code."
   ]
  }
 ],
 "metadata": {
  "language_info": {
   "name": "python"
  }
 },
 "nbformat": 4,
 "nbformat_minor": 2
}
