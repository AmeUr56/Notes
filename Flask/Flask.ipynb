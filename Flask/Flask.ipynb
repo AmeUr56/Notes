{
 "cells": [
  {
   "cell_type": "markdown",
   "metadata": {},
   "source": [
    "# Flask Project Structure:"
   ]
  },
  {
   "cell_type": "markdown",
   "metadata": {},
   "source": [
    "Structure<pre>\n",
    "_**your_app/**\n",
    "_    app.py     : the **app main** file.\n",
    "_    **templates/** : containts **Templates files** (eg:HTML).\n",
    "_    **static/**    : containts **Styling files** (eg:PNG).\n",
    "_       **css/** : contains **CSS files**.\n",
    "_       **img/** : contains **Images**.\n",
    "_       **js/** : contains **Javascript files**."
   ]
  },
  {
   "cell_type": "markdown",
   "metadata": {},
   "source": [
    "## Set Enviroment Variables:\n",
    "#### **In Comand Prompt:**\n",
    "we use **set** command.<pre>\n",
    "- **FLASK_APP**:which directs to our python files.\n",
    "- **FLASK_RUN_PORT**:to change the **port**,default is 5000.\n",
    "- **FLASK_DEBUG**: to turn on(1) or off(0) debug mode which is used in development only."
   ]
  },
  {
   "cell_type": "markdown",
   "metadata": {},
   "source": [
    "# Communication Protocols\n",
    "used to enable communication between clients and servers."
   ]
  },
  {
   "cell_type": "markdown",
   "metadata": {},
   "source": [
    "<table border=\"1\" cellpadding=\"10\" cellspacing=\"0\">\n",
    "  <thead>\n",
    "    <tr>\n",
    "      <th>Feature</th>\n",
    "      <th>RESTful API</th>\n",
    "      <th>gRPC</th>\n",
    "      <th>Socket.IO</th>\n",
    "      <th>AJAX</th>\n",
    "    </tr>\n",
    "  </thead>\n",
    "  <tbody>\n",
    "    <tr>\n",
    "      <td>Communication Model</td>\n",
    "      <td>Request-Response</td>\n",
    "      <td>Remote Procedure Call (RPC)</td>\n",
    "      <td>Real-time, Bidirectional Communication</td>\n",
    "      <td>Request-Response (Asynchronous)</td>\n",
    "    </tr>\n",
    "    <tr>\n",
    "      <td>Data Format</td>\n",
    "      <td>JSON or XML</td>\n",
    "      <td>Protocol Buffers (Protobuf) (Binary)</td>\n",
    "      <td>JSON</td>\n",
    "      <td>JSON, XML, or plain text</td>\n",
    "    </tr>\n",
    "    <tr>\n",
    "      <td>Protocol</td>\n",
    "      <td>HTTP/HTTPS</td>\n",
    "      <td>HTTP/2</td>\n",
    "      <td>WebSockets or Long Polling</td>\n",
    "      <td>HTTP</td>\n",
    "    </tr>\n",
    "    <tr>\n",
    "      <td>Statefulness</td>\n",
    "      <td>Stateless</td>\n",
    "      <td>Stateless</td>\n",
    "      <td>Persistent Connection (Stateful)</td>\n",
    "      <td>Stateless (per request)</td>\n",
    "    </tr>\n",
    "    <tr>\n",
    "      <td>Performance</td>\n",
    "      <td>Lower due to text-based format (JSON)</td>\n",
    "      <td>Higher, optimized for low-latency, high-throughput</td>\n",
    "      <td>Moderate (real-time, but not as fast as gRPC)</td>\n",
    "      <td>Depends on request size and server response speed</td>\n",
    "    </tr>\n",
    "    <tr>\n",
    "      <td>Use Case</td>\n",
    "      <td>CRUD operations, public APIs, server-to-client</td>\n",
    "      <td>High-performance service-to-service, microservices</td>\n",
    "      <td>Real-time applications (chat, notifications, games)</td>\n",
    "      <td>Dynamic page updates without reloading, client-side interactions</td>\n",
    "    </tr>\n",
    "    <tr>\n",
    "      <td>Support for Streaming</td>\n",
    "      <td>Limited (HTTP request/response)</td>\n",
    "      <td>Bidirectional streaming (client-server)</td>\n",
    "      <td>Real-time, continuous streaming</td>\n",
    "      <td>Not inherently, but can be done with polling</td>\n",
    "    </tr>\n",
    "    <tr>\n",
    "      <td>Best for</td>\n",
    "      <td>Public APIs, Web services</td>\n",
    "      <td>Internal APIs, microservices, AI model deployments</td>\n",
    "      <td>Real-time interaction, live apps</td>\n",
    "      <td>Asynchronous data loading for a smooth user experience</td>\n",
    "    </tr>\n",
    "    <tr>\n",
    "      <td>Client-Side Use</td>\n",
    "      <td>Browser, mobile apps, external clients</td>\n",
    "      <td>Primarily server-to-server, but can be used in mobile apps</td>\n",
    "      <td>Browser for real-time communication (chat, notifications)</td>\n",
    "      <td>Browser (via JavaScript)</td>\n",
    "    </tr>\n",
    "  </tbody>\n",
    "</table>\n"
   ]
  },
  {
   "cell_type": "markdown",
   "metadata": {},
   "source": [
    "# Flask Tutorial"
   ]
  },
  {
   "cell_type": "markdown",
   "metadata": {},
   "source": [
    "## Create Flask App:\n",
    "you can **run it in terminal** using **flask run** command."
   ]
  },
  {
   "cell_type": "code",
   "execution_count": null,
   "metadata": {},
   "outputs": [],
   "source": [
    "from flask import Flask\n",
    "app = Flask(__name__,template_folder='html_files',static_folder='static')\n"
   ]
  },
  {
   "cell_type": "markdown",
   "metadata": {},
   "source": [
    "- You can specify the templates folder and static folder.\n",
    "- **\\_\\_name\\_\\_**  is magical variable which points to our local file."
   ]
  },
  {
   "cell_type": "markdown",
   "metadata": {},
   "source": [
    "#### Configuration:\n",
    "**app.config** is a dictionary in Flask where you can store configuration variables for the app.<br>\n",
    "Flask extenstions like SQLAlchemy look for specific keys in this dictionary to configure themselves."
   ]
  },
  {
   "cell_type": "markdown",
   "metadata": {},
   "source": [
    "We can save configuration in separated file :"
   ]
  },
  {
   "cell_type": "code",
   "execution_count": null,
   "metadata": {},
   "outputs": [],
   "source": [
    "# config.py\n",
    "SECRET_KEY = 'as48#%^8~+~09d8as8@)#@d4asd56@#^&*as45d)_#%49)((a'\n",
    "SQLALCHEMY_DATABASE_URI = 'sqlite:///./usersdb.db'\n",
    "RECAPTCHA_PUBLIC_KEY = '6LevelUqAAAAACcUUls4-j2BYltwNj6O06N41NUH'\n",
    "RECAPTCHA_PRIVATE_KEY = '6LevelUqAAAAAATW589QQhU8V4cGzUV4zPWiZhN5'"
   ]
  },
  {
   "cell_type": "code",
   "execution_count": null,
   "metadata": {},
   "outputs": [],
   "source": [
    "import config\n",
    "app = Flask(__name__)\n",
    "# Load configurations from config.py\n",
    "app.config.from_object(config)"
   ]
  },
  {
   "cell_type": "markdown",
   "metadata": {},
   "source": [
    "## Routes & URLs:"
   ]
  },
  {
   "cell_type": "markdown",
   "metadata": {},
   "source": [
    "### Routes:\n",
    "are the pages in the webapp.<br>\n",
    "We specify the **url** of page using the decorator **app.route** for a **function** which it will handle the all requests that are ariving to that url.\n",
    "#### **Notes:**<pre>\n",
    "- All URLs must start with **/**.\n",
    "- Home URL is **/**."
   ]
  },
  {
   "cell_type": "code",
   "execution_count": null,
   "metadata": {},
   "outputs": [],
   "source": [
    "# Add the Home Page\n",
    "@app.route(\"/\")\n",
    "def home():\n",
    "    return 'Welcome To Our Simple Webapp'"
   ]
  },
  {
   "cell_type": "markdown",
   "metadata": {},
   "source": [
    "### Dynamic Routes:\n",
    "for example in facebook, each user profile has its unique page<br>\n",
    "so the developers of facebook ,when a new user sign up, they create new route ? of course no.<br>\n",
    "The dynamic route is used, which **takes input** using **\\<type:input\\>** and new page is directly used for it.<br>\n",
    "-**Default Type** is string.\n",
    "#### **Note**:<pre>\n",
    "- if the input value type is not same as specific type, no url will appear."
   ]
  },
  {
   "cell_type": "code",
   "execution_count": null,
   "metadata": {},
   "outputs": [],
   "source": [
    "# Add Dynamic About Page\n",
    "@app.route(\"/about/<username>\")\n",
    "def about(username):\n",
    "    return f\"<h1>Hello {username}<h1>\""
   ]
  },
  {
   "cell_type": "markdown",
   "metadata": {},
   "source": [
    "### URL Parameters:\n",
    "in some websites in the url we see for example: **?username=dsa&password=dasda**,which is insecure and used for only unimportant data.<br>\n",
    "here username & password are called **url parameters**<br>\n",
    "-We handle them using **flask request package**"
   ]
  },
  {
   "cell_type": "code",
   "execution_count": null,
   "metadata": {},
   "outputs": [],
   "source": [
    "from flask import request\n",
    "@app.route(\"/login\")\n",
    "def login():\n",
    "    # Get the parameters\n",
    "    username = request.args.get('username')\n",
    "    password = request.args['password']\n",
    "    \n",
    "    # Just priting parameters\n",
    "    return f\"<h1>username = {username}\\npassword = {password}<h1>\""
   ]
  },
  {
   "cell_type": "markdown",
   "metadata": {},
   "source": [
    "The parameters are saved in dictionary.<br>\n",
    "In last example the dict should be:\n",
    "**{\"username\":\"dsa\",\"password\":\"dasda\"}**"
   ]
  },
  {
   "cell_type": "markdown",
   "metadata": {},
   "source": [
    "If you miss or ignore a param you face **BadRequestKeyError**."
   ]
  },
  {
   "cell_type": "markdown",
   "metadata": {},
   "source": [
    "### Key Attributes and Methods in request:"
   ]
  },
  {
   "cell_type": "markdown",
   "metadata": {},
   "source": [
    "#### request.method\n",
    "The HTTP method used for the request (e.g., 'GET', 'POST').\n",
    "\n",
    "#### request.args\n",
    "The query string arguments (in the URL) as a dictionary.\n",
    "\n",
    "#### request.form\n",
    "Data from an HTML form (sent with `POST` or `PUT` requests).\n",
    "\n",
    "#### request.json\n",
    "JSON data sent in the request body (for `POST` or `PUT` requests with JSON content).\n",
    "\n",
    "#### request.headers\n",
    "The headers sent in the HTTP request as a dictionary.\n",
    "\n",
    "#### request.cookies\n",
    "Access to cookies sent by the client.\n",
    "\n",
    "#### request.files\n",
    "Access to uploaded files.\n",
    "\n",
    "#### request.endpoint\n",
    "The name of the view function that is handling the current request.\n",
    "\n",
    "#### request.url\n",
    "The full URL that was requested (including the query string).\n",
    "\n",
    "#### request.path\n",
    "The URL path of the request (excluding the query string).\n",
    "\n",
    "#### request.remote_addr\n",
    "The IP address of the client making the request.\n",
    "\n",
    "#### request.referrer (or request.referer)\n",
    "The referring URL (the URL that linked to the current request).\n",
    "\n",
    "#### request.user_agent\n",
    "The user-agent string (information about the browser/client).\n",
    "\n",
    "#### request.blueprint\n",
    "The name of the blueprint that is handling the request (if using blueprints).\n",
    "\n",
    "#### request.scheme\n",
    "The URL scheme (http or https).\n",
    "\n",
    "#### request.is_json\n",
    "Returns `True` if the request's content-type is JSON.\n",
    "\n",
    "#### request.full_path\n",
    "The full path of the request (including the query string).\n",
    "\n",
    "#### request.get_data()\n",
    "Returns the raw data sent in the request (useful for custom handling).\n",
    "\n",
    "#### request.get_json()\n",
    "Parses the request body as JSON and returns it (similar to `request.json` but can be used with more options).\n",
    "\n",
    "#### request.host\n",
    "The host of the request (e.g., localhost:5000 or example.com).\n"
   ]
  },
  {
   "cell_type": "markdown",
   "metadata": {},
   "source": [
    "#### Request.methods:\n",
    "Flask supports several **HTTP request methods**, allowing you to handle **different types** of request:<br><pre>\n",
    "- **GET**: \n",
    "    - **Purpose**: Retreives data from the server.\n",
    "    - **Usage**: The most common request often used for fetching data(eg:visiting a web page).\n",
    "- **POST**:\n",
    "    - **Purpose**: Sends data to the server,often used for creating or updating resources.\n",
    "    - **Usage**: Common for submitting forms or uploading files.\n",
    "- **PUT**:\n",
    "    - **Purpose**: Updates an existing resource on the server.\n",
    "    - **Usage**: Used for updating data, often with APIs.\n",
    "- **DELETE**:\n",
    "    - **Purpose**: Delete a resource from the server.\n",
    "    - **Usage**: Used to delete records or resources.\n",
    "- **PATCH**:\n",
    "    - **Purpose**: Partially updates a resource.\n",
    "    - **Usage**: Useful for making small changes without replacing the entire resource."
   ]
  },
  {
   "cell_type": "markdown",
   "metadata": {},
   "source": [
    "We specify the methods in the **methods** argument of the **@app.route** decorator.<br>\n",
    "The default method is **GET**."
   ]
  },
  {
   "cell_type": "code",
   "execution_count": null,
   "metadata": {},
   "outputs": [],
   "source": [
    "@app.route('hello',methods=['GET','POST'])\n",
    "def hello():\n",
    "    if request.method == 'GET':\n",
    "        # Do something\n",
    "        pass\n",
    "    else: # Which is here POST method\n",
    "        # Do something\n",
    "        pass"
   ]
  },
  {
   "cell_type": "markdown",
   "metadata": {},
   "source": [
    "### Status Codes:\n",
    "HTTP status code indicate the **result of HTTP request**. Flask allows you to set custom status codes to indicate the success, failure, or type of response.\n",
    "</pre>\n",
    "#### **Summary**:<pre>\n",
    "- **1xx**: Informational.\n",
    "- **2xx**: Success.\n",
    "- **3xx**: Redirection required.\n",
    "- **4xx**: Client-side error.\n",
    "- **5xx**: Server-side error.\n",
    "##### **Custom Status Codes:**<pre>\n",
    "- **200 OK**: Request was succeful(default for GET).\n",
    "- **201 Created**: The request was succeful, and a new resource was created.\n",
    "- **400 Bad Request**: The request was invalid or cannot be processed.\n",
    "- **401 Unauthorized**: Authenticatoin is required ir has failed.\n",
    "- **404 Not Found**: The requested resource could not be found.\n",
    "- **500 Internal Server Error**: A generic server error occured."
   ]
  },
  {
   "cell_type": "code",
   "execution_count": null,
   "metadata": {},
   "outputs": [],
   "source": [
    "@app.route('/success')\n",
    "def success():\n",
    "    return 'Success',200 # Custom Status Code for OK"
   ]
  },
  {
   "cell_type": "markdown",
   "metadata": {},
   "source": [
    "### Custome Responses:\n",
    "We can create custom responses by returning more than just a **string or JSON**. You can return a **response object** that includes a **custom status code**, **headers** , or other details.<br>\n",
    "This allows you to customize how the server responds to specific requests."
   ]
  },
  {
   "cell_type": "markdown",
   "metadata": {},
   "source": [
    "**jsonify** is a Flask Utility that converts **Python data structure** into **valid JSON response**."
   ]
  },
  {
   "cell_type": "code",
   "execution_count": null,
   "metadata": {},
   "outputs": [],
   "source": [
    "from flask import jsonify,make_response\n",
    "\n",
    "@app.route('/custom')\n",
    "def custom():\n",
    "    # Creating a Custom JSON response with 201 (Created) Status Code\n",
    "    response = make_response(jsonify('Hello','What\\'s up'))\n",
    "    response.status_code = 201\n",
    "    # Custom Headers\n",
    "    response.headers['Custom-Header'] = 'CustomValue'\n",
    "    return response"
   ]
  },
  {
   "cell_type": "markdown",
   "metadata": {},
   "source": [
    "### Custom Response Structure:<pre>\n",
    "- **Response Body:** You can return custom content (like JSON or HTML).\n",
    "- **Custom Headers:** Add custom headers to the response.\n",
    "- **Custom Status Code:** Set an appropriate HTTP status code."
   ]
  },
  {
   "cell_type": "markdown",
   "metadata": {},
   "source": [
    "## App Decorators"
   ]
  },
  {
   "cell_type": "markdown",
   "metadata": {},
   "source": [
    "These decorators modify or enhance the behavior of the Flask application itself, such as handling requests, responses, errors, and context."
   ]
  },
  {
   "cell_type": "markdown",
   "metadata": {},
   "source": [
    "### before_request\n",
    "Runs code before each request."
   ]
  },
  {
   "cell_type": "code",
   "execution_count": null,
   "metadata": {},
   "outputs": [],
   "source": [
    "# Check if the user is logged in before processing any request (e.g., for pages that require authentication).\n",
    "\n",
    "@app.before_request\n",
    "def check_authentication():\n",
    "    if not session.get('logged_in') and request.endpoint != 'login':\n",
    "        return redirect(url_for('login'))"
   ]
  },
  {
   "cell_type": "markdown",
   "metadata": {},
   "source": [
    "### after_request\n",
    "Runs code after each request (to modify the response)."
   ]
  },
  {
   "cell_type": "code",
   "execution_count": null,
   "metadata": {},
   "outputs": [],
   "source": [
    "# Add custom headers or perform logging after each request.\n",
    "\n",
    "@app.after_request\n",
    "def add_security_headers(response):\n",
    "    response.headers['X-Content-Type-Options'] = 'nosniff'\n",
    "    response.headers['X-Frame-Options'] = 'DENY'\n",
    "    return response"
   ]
  },
  {
   "cell_type": "markdown",
   "metadata": {},
   "source": [
    "### teardown_request\n",
    "Cleans up resources after a request is finished."
   ]
  },
  {
   "cell_type": "code",
   "execution_count": null,
   "metadata": {},
   "outputs": [],
   "source": [
    "# Close database connections after each request.\n",
    "\n",
    "@app.teardown_request\n",
    "def close_db_connection(exception=None):\n",
    "    db_session.remove() "
   ]
  },
  {
   "cell_type": "markdown",
   "metadata": {},
   "source": [
    "### errorhandler\n",
    "Handles specific HTTP errors."
   ]
  },
  {
   "cell_type": "code",
   "execution_count": null,
   "metadata": {},
   "outputs": [],
   "source": [
    "# Handle 404 errors gracefully in an e-commerce website by showing a custom error page.\n",
    "\n",
    "@app.errorhandler(404)\n",
    "def page_not_found(e):\n",
    "    return render_template('404.html', error=e), 404"
   ]
  },
  {
   "cell_type": "markdown",
   "metadata": {},
   "source": [
    "### context_processor\n",
    "Injects variables into the template context."
   ]
  },
  {
   "cell_type": "code",
   "execution_count": null,
   "metadata": {},
   "outputs": [],
   "source": [
    "# Inject commonly used data into all templates, such as the current year for a footer in a web app.\n",
    "\n",
    "@app.context_processor\n",
    "def inject_current_year():\n",
    "    return {'current_year': datetime.utcnow().year}"
   ]
  },
  {
   "cell_type": "markdown",
   "metadata": {},
   "source": [
    "### template_global \n",
    "Registers global template variables or functions."
   ]
  },
  {
   "cell_type": "code",
   "execution_count": null,
   "metadata": {},
   "outputs": [],
   "source": [
    "# Create a global function to format user names across different templates.\n",
    "\n",
    "@app.template_global()\n",
    "def format_username(user):\n",
    "    return f\"{user.first_name} {user.last_name[0]}.\""
   ]
  },
  {
   "cell_type": "markdown",
   "metadata": {},
   "source": [
    "## Templates:"
   ]
  },
  {
   "cell_type": "markdown",
   "metadata": {},
   "source": [
    "We **save** templates in folder usually called **templates** or specify the directory:"
   ]
  },
  {
   "cell_type": "code",
   "execution_count": null,
   "metadata": {},
   "outputs": [],
   "source": [
    "app = Flask(__name__,template_folder='html_files')"
   ]
  },
  {
   "cell_type": "markdown",
   "metadata": {},
   "source": [
    "### Rendering HTML Templates:"
   ]
  },
  {
   "cell_type": "markdown",
   "metadata": {},
   "source": [
    "\n",
    "using **render_template**<br>\n",
    "##### Params:<pre>\n",
    "- **Template Name**: the name of  HTML or JSON file.\n",
    "- **Context**: the Dynamic Variables to make avaible in template."
   ]
  },
  {
   "cell_type": "code",
   "execution_count": null,
   "metadata": {},
   "outputs": [],
   "source": [
    "from flask import render_template\n",
    "# Add the Home Page\n",
    "@app.route(\"/\")\n",
    "def home():\n",
    "    name = 'JOHN'\n",
    "    ages = [10,5,40,31,26,12]\n",
    "    return render_template('home.html',name=name,ages=ages)"
   ]
  },
  {
   "cell_type": "markdown",
   "metadata": {},
   "source": [
    "We use jinja2 engine in the template file to accept inputs."
   ]
  },
  {
   "cell_type": "markdown",
   "metadata": {},
   "source": [
    "### Jinja2 Templating Language:<pre>"
   ]
  },
  {
   "cell_type": "markdown",
   "metadata": {},
   "source": [
    "#### Syntax:\n",
    "- **Expressing Statement**: {{ variable_name }}\n",
    "- **Control Structures(if,for,while,..)**: {% for item in my_list %} --> do something --> {% endfor %}\n",
    "- **Block**: {% block 'block_name' %} default value {% endblock %}.\n",
    "- **Extends**: {% extends \"base.html\" %}\n",
    "- **Filters**: {{ variable_name|filter1|filter2|... }}.\n",
    "- **Define Temporarily Variable**: {% with %}\n",
    "</pre>\n",
    "\n",
    "**Example:**<br>\n",
    "the HTML code for last python code:<pre>"
   ]
  },
  {
   "cell_type": "code",
   "execution_count": null,
   "metadata": {
    "vscode": {
     "languageId": "html"
    }
   },
   "outputs": [],
   "source": [
    "<body\\>\n",
    "    <ul\\>\n",
    "        {% for age in ages %}\n",
    "         <li\\>{{ age }}</li\\>\n",
    "        {\\% endfor %}\n",
    "    </ul\\>\n",
    " </body\\>"
   ]
  },
  {
   "cell_type": "markdown",
   "metadata": {},
   "source": [
    "#### Extending(Inhereting) Templates:\n",
    "for example all the templates in the app have the same navigation or same head section, we dont wanna rewrite it everytime.<br>\n",
    "So we **keep only** the **unique content** and **everything else is same** as other files.<br>\n"
   ]
  },
  {
   "cell_type": "markdown",
   "metadata": {},
   "source": [
    "##### **Steps:**\n",
    "1- We first **create** the **base template** which other files inherent from it.<br>\n",
    "2- Write in it the **constant content**.<br>\n",
    "3- Specify int it the **dynamic parts** using **block statement**.<br>\n",
    "4- In other files which will inheret from the base file,use **extends statement**.<br>\n",
    "5- Then use **block statement** to specify the values of the **blocks** are specific in base template. "
   ]
  },
  {
   "cell_type": "markdown",
   "metadata": {},
   "source": [
    "##### **Example:**"
   ]
  },
  {
   "cell_type": "markdown",
   "metadata": {},
   "source": [
    "<h5>Base Template:</h5>"
   ]
  },
  {
   "cell_type": "code",
   "execution_count": null,
   "metadata": {
    "vscode": {
     "languageId": "html"
    }
   },
   "outputs": [],
   "source": [
    "<html>\n",
    "    <head>\n",
    "        <title>{% block title %}Home{% endblock %}</title>\n",
    "    </head>\n",
    "    <body>\n",
    "        <h1> This is ALWAYS HERE</h1>\n",
    "        {% block content%}{% endblock%} \n",
    "    </body>\n",
    "</html>"
   ]
  },
  {
   "cell_type": "markdown",
   "metadata": {},
   "source": [
    "<h5>Other Template:</h5>"
   ]
  },
  {
   "cell_type": "code",
   "execution_count": null,
   "metadata": {
    "vscode": {
     "languageId": "html"
    }
   },
   "outputs": [],
   "source": [
    "{% extends \"base_template.html\" %}\n",
    "{% block content %}\n",
    "        <h1>Hello {{ name }}</h1>\n",
    "        <ul>\n",
    "            {% for item in my_list %}\n",
    "            <li>{{item}}</li>\n",
    "            {% endfor %}\n",
    "        </ul>\n",
    "{% endblock %}"
   ]
  },
  {
   "cell_type": "markdown",
   "metadata": {},
   "source": [
    "In this Example,other files have inheret everything in the base temp except <title\\>, <body\\>."
   ]
  },
  {
   "cell_type": "markdown",
   "metadata": {},
   "source": [
    "#### Filters:\n",
    "are used to **modify** the output of variables or expressions.<br>\n",
    "They are applied using the **pipe** (|) symbol.<br>\n",
    "**Some Common Filters:**<br>\n",
    "- lower.<br>\n",
    "- length.<br>\n",
    "- replace('old','new')<br>\n",
    "..."
   ]
  },
  {
   "cell_type": "markdown",
   "metadata": {},
   "source": [
    "We can create custom filters to apply custom operators."
   ]
  },
  {
   "cell_type": "code",
   "execution_count": null,
   "metadata": {},
   "outputs": [],
   "source": [
    "@app.template_filter('reverse_string')\n",
    "def reverse_string(s):\n",
    "    return s[::-1]"
   ]
  },
  {
   "cell_type": "markdown",
   "metadata": {},
   "source": [
    "### Dynamic URLs:\n",
    "**url_for** utility is used to **dynamically generate URLs** for routes defined in your application.It helps **avoid hardcoding URLs**,making the app more flexible and maintainable."
   ]
  },
  {
   "cell_type": "code",
   "execution_count": null,
   "metadata": {},
   "outputs": [],
   "source": [
    "from flask import url_for\n",
    "@app.route('/user/<username>')\n",
    "def show_user(username):\n",
    "    return f\"{username}\"\n",
    "\n",
    "print(url_for('show_user',username='john'))"
   ]
  },
  {
   "cell_type": "markdown",
   "metadata": {},
   "source": [
    "In Jinja2:"
   ]
  },
  {
   "cell_type": "code",
   "execution_count": null,
   "metadata": {
    "vscode": {
     "languageId": "html"
    }
   },
   "outputs": [],
   "source": [
    "{{ url_for('show_user') }}"
   ]
  },
  {
   "cell_type": "markdown",
   "metadata": {},
   "source": [
    "### Redirect:\n",
    "**redirect** utility is used to redirect a client to a **different URL**."
   ]
  },
  {
   "cell_type": "code",
   "execution_count": null,
   "metadata": {},
   "outputs": [],
   "source": [
    "from flask import redirect\n",
    "@app.route('login',methods=['GET','POST'])\n",
    "def login():\n",
    "    if request.method == 'GET':\n",
    "        return render_template('login.html')\n",
    "    else: # POST method\n",
    "        return redirect(url_for('welcome'))"
   ]
  },
  {
   "cell_type": "markdown",
   "metadata": {},
   "source": [
    "## Forms & Json:"
   ]
  },
  {
   "cell_type": "markdown",
   "metadata": {},
   "source": [
    "### Handling Forms:\n",
    "**Two Methods:**<br>\n",
    "- Plain Html Forms.\n",
    "- Flask-WTF/WTForms.<br>\n",
    "\n",
    "**When to Use Them:** <br>\n",
    "<table>\n",
    "    <tr>\n",
    "        <th></th>\n",
    "        <th>Plain HTML Forms</th>\n",
    "        <th>Flask-WTF/WTForms</th>\n",
    "    </tr>\n",
    "    <tr>\n",
    "        <th>Simplicity</th>\n",
    "        <td>Form is extremely simple.</td>\n",
    "        <td>Need more complex form handling.</td>\n",
    "    </tr>\n",
    "    <tr>\n",
    "        <th>Validation</th>\n",
    "        <td>Rely solely on client-side validation.</td>\n",
    "        <td>Forms require server-side validation.</td>\n",
    "    </tr>\n",
    "    <tr>\n",
    "        <th>Security</th>\n",
    "        <td>Not dealing with sensitive data and security isn’t a concern.</td>\n",
    "        <td>Reverse.</td>\n",
    "    </tr>\n",
    "    <tr>\n",
    "        <th>Maintainess</th>\n",
    "        <td>Reverse.</td>\n",
    "        <td>Want to keep your codebase clean, modular, and easy to maintain as your application grows.</td>\n",
    "    </tr>\n",
    "</table>\n",
    "\n",
    "**Conclusion:**\n",
    "Flask-WTF and WTForms provide a higher level of convenience, security, and maintainability than plain HTML forms."
   ]
  },
  {
   "cell_type": "markdown",
   "metadata": {},
   "source": [
    "#### **First Method(Plain HTML Forms):**\n",
    "we use **request.form** to accept inputs to server.<br>\n",
    "HTML Code (Example):"
   ]
  },
  {
   "cell_type": "code",
   "execution_count": null,
   "metadata": {
    "vscode": {
     "languageId": "html"
    }
   },
   "outputs": [],
   "source": [
    "<form method=\"POST\" action = '{{ url_for(\"about\") }}'>\n",
    "    <label for=\"username\">Username</label>\n",
    "    <input type=\"text\" name=\"username\"><br>\n",
    "    <label for=\"password\">Password</label>\n",
    "    <input required type=\"password\" name=\"password\"><br>\n",
    "    <input type=\"submit\" value='login'>\n",
    "</form>"
   ]
  },
  {
   "cell_type": "markdown",
   "metadata": {},
   "source": [
    "in **input tags**, the **name argument** specifys the key name in the request form args."
   ]
  },
  {
   "cell_type": "code",
   "execution_count": null,
   "metadata": {},
   "outputs": [],
   "source": [
    "@app.route('/login',method = ['GET','POST'])\n",
    "def login():\n",
    "    if request.method == 'GET':\n",
    "        return render_template('login.html')\n",
    "    elif request.method == 'POST':\n",
    "        # For optional inputs\n",
    "        if 'username' in request.form.keys():\n",
    "            username = request.form.get('username')\n",
    "        # For required inputs\n",
    "        password = request.form.get('password')"
   ]
  },
  {
   "cell_type": "markdown",
   "metadata": {},
   "source": [
    "Or ,you can separate the process.<br>\n",
    "Page for **GET** method and has the form inside it but **action argument** directed to the other page which only uses **POST** method to accept args.<br>\n"
   ]
  },
  {
   "cell_type": "markdown",
   "metadata": {},
   "source": [
    "#### **Second Method(Flask-WTF/WTForms):**\n",
    "required packages:\n",
    "<pre>\n",
    "- Flask-WTF</pre>\n",
    "We use new python file we call it **forms.py** for handling forms only.<br><br>\n",
    "Flask-WTF needs a **secret key** for **CSRF** protection"
   ]
  },
  {
   "cell_type": "markdown",
   "metadata": {},
   "source": [
    "##### **Common Fields**:\n",
    "##### Basic Fields:<pre>\n",
    "- **StringField**: For text input.\n",
    "- **TextAreaField**: For multi-line text input.\n",
    "- **PasswordField**: For password input (masked).\n",
    "- **IntegerField**: For integer input.\n",
    "- **FloatField**: For floating-point input.\n",
    "- **DecimalField**: For decimal numbers with a fixed precision.\n",
    "- **BooleanField**: For a checkbox (True/False).\n",
    "- **SelectField**: For dropdown selection.\n",
    "- **SelectMultipleField**: For multiple selections from a dropdown.\n",
    "- **FileField**: For file uploads.\n",
    "- **DateField**: For date input.\n",
    "- **TimeField**: For time input.\n",
    "- **DateTimeField**: For date and time input.</pre>\n",
    "##### Special Fields:<pre>\n",
    "- **EmailField**: For email input.\n",
    "- **URLField**: For URLs.\n",
    "- **TelField**: For telephone numbers.\n",
    "- **ColorField**: For color input.\n",
    "- **HiddenField**: For hidden inputs.</pre><br>\n",
    "\n",
    "##### **Common Validators:**\n",
    "##### Data Validators:<pre>\n",
    "- **DataRequired**: Ensures the field is not empty.\n",
    "- **Length**: Validates the length of the input (min and max).\n",
    "- **Email**: Validates that the input is a valid email address.\n",
    "- **URL**: Validates that the input is a valid URL.\n",
    "- **NumberRange**: Validates that the input is within a specified range.\n",
    "- **Optional**: Marks the field as optional.</pre>\n",
    "##### Type Validators:<pre>\n",
    "- **AnyOf**: Validates that the input matches one of the specified values.\n",
    "- **NoneOf**: Validates that the input does not match any of the specified values.\n",
    "- **EqualTo**: Validates that the input matches another field's value (commonly used for password confirmation).</pre>\n",
    "##### Custom Validators:\n",
    "You can create custom validators by defining a **function** and raising **ValidationError** for invalid input."
   ]
  },
  {
   "cell_type": "markdown",
   "metadata": {},
   "source": [
    "**1-Create a Form Class:**<br> In **forms.py**, define your forms using WTForms. Each **form class** corresponds to a form on the frontend, and each **form field** corresponds to an input in the HTML form."
   ]
  },
  {
   "cell_type": "code",
   "execution_count": null,
   "metadata": {},
   "outputs": [],
   "source": [
    "from flask_wtf import FlaskForm\n",
    "from wtforms import StringField, PasswordField, SubmitField\n",
    "from wtforms.validators import DataRequired, Length, Email, EqualTo\n",
    "\n",
    "class RegistrationForm(FlaskForm):\n",
    "    username = StringField('Username', validators=[DataRequired(), Length(min=2, max=20)])\n",
    "    email = StringField('Email', validators=[DataRequired(), Email()])\n",
    "    password = PasswordField('Password', validators=[DataRequired()])\n",
    "    confirm_password = PasswordField('Confirm Password', validators=[DataRequired(), EqualTo('password')])\n",
    "    submit = SubmitField('Sign Up')\n"
   ]
  },
  {
   "cell_type": "markdown",
   "metadata": {},
   "source": [
    "**2-Render the Form in HTML:**<br> Now, create the **HTML template** that will **render the form**."
   ]
  },
  {
   "cell_type": "code",
   "execution_count": null,
   "metadata": {
    "vscode": {
     "languageId": "html"
    }
   },
   "outputs": [],
   "source": [
    "<form method=\"POST\" action=\"\">\n",
    "    {{ form.hidden_tag() }}\n",
    "    \n",
    "    <p>\n",
    "        {{ form.username.label }}<br>\n",
    "        {{ form.username(size=20) }}<br>\n",
    "        {% for error in form.username.errors %}\n",
    "            <span style=\"color: red;\">[{{ error }}]</span>\n",
    "        {% endfor %}\n",
    "    </p>\n",
    "\n",
    "    <p>\n",
    "        {{ form.email.label }}<br>\n",
    "        {{ form.email(size=20) }}<br>\n",
    "        {% for error in form.email.errors %}\n",
    "            <span style=\"color: red;\">[{{ error }}]</span>\n",
    "        {% endfor %}\n",
    "    </p>\n",
    "\n",
    "    <p>\n",
    "        {{ form.password.label }}<br>\n",
    "        {{ form.password(size=20) }}<br>\n",
    "        {% for error in form.password.errors %}\n",
    "            <span style=\"color: red;\">[{{ error }}]</span>\n",
    "        {% endfor %}\n",
    "    </p>\n",
    "\n",
    "    <p>\n",
    "        {{ form.confirm_password.label }}<br>\n",
    "        {{ form.confirm_password(size=20) }}<br>\n",
    "        {% for error in form.confirm_password.errors %}\n",
    "            <span style=\"color: red;\">[{{ error }}]</span>\n",
    "        {% endfor %}\n",
    "    </p>\n",
    "\n",
    "    <p>{{ form.submit() }}</p>\n",
    "</form>\n"
   ]
  },
  {
   "cell_type": "markdown",
   "metadata": {},
   "source": [
    "**size** parameter specifies the width of the input field."
   ]
  },
  {
   "cell_type": "markdown",
   "metadata": {},
   "source": [
    "**3-Handling Form Submission and Validation**<br>\n",
    "In **app.py**, update your route to handle both **GET** (to show the form) and **POST** (to handle the form submission) requests."
   ]
  },
  {
   "cell_type": "code",
   "execution_count": null,
   "metadata": {},
   "outputs": [],
   "source": [
    "from forms import RegistrationForm\n",
    "\n",
    "@app.route('/register', methods=['GET', 'POST'])\n",
    "def register():\n",
    "    form = RegistrationForm()\n",
    "    if form.validate_on_submit():\n",
    "        flash(f'Account created for {form.username.data}!', 'success')\n",
    "        return redirect(url_for('index'))\n",
    "    return render_template('form.html', form=form)"
   ]
  },
  {
   "cell_type": "markdown",
   "metadata": {},
   "source": [
    "**form.validate_on_submit()**: This will check if the form was submitted (**POST request**) and **validate** the input fields based on the validators specified in the **form class**."
   ]
  },
  {
   "cell_type": "markdown",
   "metadata": {},
   "source": [
    "### Handling Files:"
   ]
  },
  {
   "cell_type": "markdown",
   "metadata": {},
   "source": [
    "#### File Upload:\n",
    "There are three methods"
   ]
  },
  {
   "cell_type": "markdown",
   "metadata": {},
   "source": [
    "##### HTML Forms \n",
    "we use **request.files** to accept files to server.\n",
    "HTML Code (Example):"
   ]
  },
  {
   "cell_type": "code",
   "execution_count": null,
   "metadata": {
    "vscode": {
     "languageId": "html"
    }
   },
   "outputs": [],
   "source": [
    "<form method='POST' action=\"{{ url_for('upload') }}\" enctype='multipart/form-data'>\n",
    "    <input type='file' name='file' accept='text/plain'>\n",
    "    <input type='submit' value='upload file'>\n",
    "</form>"
   ]
  },
  {
   "cell_type": "markdown",
   "metadata": {},
   "source": [
    "-the **enctype arg** in form tag specifys that we need only files.<br>\n",
    "-to accept only specific file types use **accept arg** in input tag, in this example it acceps only plain text files. "
   ]
  },
  {
   "cell_type": "code",
   "execution_count": null,
   "metadata": {},
   "outputs": [],
   "source": [
    "@app.route('/upload',methods=['POST'])\n",
    "def upload():\n",
    "    file = request.files['file']\n",
    "    # Show content of this txt file\n",
    "    return jsonify(file.read().decode())"
   ]
  },
  {
   "cell_type": "markdown",
   "metadata": {},
   "source": [
    "##### FlaskWTF Forms\n",
    "for better security and flexibility."
   ]
  },
  {
   "cell_type": "code",
   "execution_count": null,
   "metadata": {},
   "outputs": [],
   "source": [
    "from flask_wtf.file import FileField,FileAllowed\n",
    "from wtforms.validators import Optional\n",
    "\n",
    "class ProfileForm(FlaskForm):\n",
    "    picture = FileField(label='profile_picture',validators=[Optional(),FileAllowed(['png','jpg','jpeg','gif'],message='Only PNG,JPG,JPEG,GIF supported')])"
   ]
  },
  {
   "cell_type": "markdown",
   "metadata": {},
   "source": [
    "in endpoints handle it like any flaskwtf form."
   ]
  },
  {
   "cell_type": "markdown",
   "metadata": {},
   "source": [
    "#### File Download:\n",
    "we use **send_file** & **send_from_directory** utilities for downloading files.<br>\n",
    "##### **Comparison**:\n",
    "<table>\n",
    "    <tr>\n",
    "        <th></th>\n",
    "        <th>send_file</th>\n",
    "        <th>send_from_directory</th>\n",
    "    </tr>\n",
    "    <tr>\n",
    "        <th>Purpose</th>\n",
    "        <td>Sends a specific file to the client from a givent file path</td>\n",
    "        <td>Sends a file from a specified directory on the server.</td>\n",
    "    </tr>\n",
    "    <tr>\n",
    "        <th>Use</th>\n",
    "        <td>Used when you want to send a single file, such as an image,PDF,...</td>\n",
    "        <td>Useful when serving files from a fixed directory</td>\n",
    "    </tr>\n",
    "    <tr>\n",
    "        <th>Key Differences</th>\n",
    "        <td>Used to send a specific file that you provide via its full path</td>\n",
    "        <td>Used to serve files from within a directory and is generally safer for serving multiple files by just specifying the file name (without hardcoding paths)</td>\n",
    "    </tr>\n",
    "<table>\n"
   ]
  },
  {
   "cell_type": "code",
   "execution_count": null,
   "metadata": {},
   "outputs": [],
   "source": [
    "# Using send_file\n",
    "from flask import send_file\n",
    "\n",
    "@app.route('/download')\n",
    "def download_link():\n",
    "    file_path = 'path/to/file.txt'\n",
    "    return send_file(file_path,as_attachment=True)"
   ]
  },
  {
   "cell_type": "markdown",
   "metadata": {},
   "source": [
    "**as_attachment=True** tells the browser to prompt the user to download the file rather than display it inline."
   ]
  },
  {
   "cell_type": "code",
   "execution_count": null,
   "metadata": {},
   "outputs": [],
   "source": [
    "# Using send_from_directory\n",
    "from flask import send_from_directory\n",
    "\n",
    "@app.route('/download/<filename>')\n",
    "def download(filename):\n",
    "    dir_path = 'path/to/directory'\n",
    "    return send_from_directory(dir_path,filename)"
   ]
  },
  {
   "cell_type": "markdown",
   "metadata": {},
   "source": [
    "### JavaScript JSON Requests:\n",
    "using **request.json**."
   ]
  },
  {
   "cell_type": "markdown",
   "metadata": {},
   "source": [
    "## Static Files:\n"
   ]
  },
  {
   "cell_type": "markdown",
   "metadata": {},
   "source": [
    "We **save** static file in folder usually called **static** or specify the directory & its url path:"
   ]
  },
  {
   "cell_type": "code",
   "execution_count": null,
   "metadata": {},
   "outputs": [],
   "source": [
    "app = Flask(__name__,static_folder='s_files',static_url_path='/')"
   ]
  },
  {
   "cell_type": "markdown",
   "metadata": {},
   "source": [
    "You can also Integrate Bootstrap easily the same way."
   ]
  },
  {
   "cell_type": "markdown",
   "metadata": {},
   "source": [
    "## Sessions & Cookies:\n",
    "<table>\n",
    "    <tr>\n",
    "        <th></th>\n",
    "        <th>Cookies</th>\n",
    "        <th>Sessions</th>\n",
    "    </tr>\n",
    "    <tr>\n",
    "        <th>Storage</th>\n",
    "        <td>Stored on the client's browser.</td>\n",
    "        <td>Stored on the server(session ID in a cookie)</td>\n",
    "    </tr>\n",
    "    <tr>\n",
    "        <th>Security</th>\n",
    "        <td>Less Secure (data is client-side).</td>\n",
    "        <td>More Secure (data is server-side).</td>\n",
    "    </tr>\n",
    "    <tr>\n",
    "        <th>Size</th>\n",
    "        <td>Limited by browser cookie size (~4KB).</td>\n",
    "        <td>Can store more data, as it's stored on the server side.</td>\n",
    "    </tr>\n",
    "    <tr>\n",
    "        <th>Usage</th>\n",
    "        <td>Typically used for simple data (eg:preferences).</td>\n",
    "        <td>Used for more complex user state management (eg:login sessions).</td>\n",
    "    </tr>\n",
    "    <tr>\n",
    "        <th>Expiration</th>\n",
    "        <td>Can be set manually using expiration time.</td>\n",
    "        <td>Can be configured to expire after a period of inactivity.</td>\n",
    "    </tr>\n",
    "</table>"
   ]
  },
  {
   "cell_type": "code",
   "execution_count": null,
   "metadata": {},
   "outputs": [],
   "source": [
    "# Sessions\n",
    "from flask import session\n",
    "\n",
    "@app.route('/sessions')\n",
    "def sessions():\n",
    "    # Set Session\n",
    "    session['username'] = 'JohnDoe'\n",
    "    session['age'] = 10\n",
    "    # Get Session\n",
    "    if 'username' in session.keys(): # Cause the session ID is a cookie which can be deleted, so we need to handle it to avoid error\n",
    "        username = session['username']\n",
    "    # Pop Session\n",
    "    session.pop('age')\n",
    "    # Clear Session\n",
    "    session.clear()\n",
    "    \n",
    "    return 'Handling Sessions -Done'\n"
   ]
  },
  {
   "cell_type": "code",
   "execution_count": null,
   "metadata": {},
   "outputs": [],
   "source": [
    "# Cookies\n",
    "@app.route('/cookies')\n",
    "def cookies():\n",
    "    # Set Cookie\n",
    "    response = make_response('Handling Cookies -Done')\n",
    "    response.set_cookie('username','JognDoe')\n",
    "    \n",
    "    # Get Cookie\n",
    "    cookie = request.cookies['username']\n",
    "    \n",
    "    # Remove Cookie\n",
    "    response = make_response('Handling Cookies -Done')\n",
    "    response.set_cookie('username',expires=0)\n",
    "    \n",
    "    return response"
   ]
  },
  {
   "cell_type": "markdown",
   "metadata": {},
   "source": [
    "### Message Flashing:\n",
    "is a way to **send one-time messages** from the server to the client, usually used for **notifications** such as \"successfully logged in\".<br>\n",
    "We use **flash** to flash messages and **get_flashed_messages** to retrieve those messages in your templates.\n"
   ]
  },
  {
   "cell_type": "code",
   "execution_count": null,
   "metadata": {},
   "outputs": [],
   "source": [
    "from flask import flash\n",
    "@app.route('/login')\n",
    "def login():\n",
    "    flash(\"Successfully logged in\")\n",
    "    return redirect('/')"
   ]
  },
  {
   "cell_type": "markdown",
   "metadata": {},
   "source": [
    "#### Displaying the message in a template with jinja2:"
   ]
  },
  {
   "cell_type": "code",
   "execution_count": null,
   "metadata": {
    "vscode": {
     "languageId": "html"
    }
   },
   "outputs": [],
   "source": [
    "{% with messages = get_flashed_messages() %}\n",
    "    {% if messages %}\n",
    "        <ul>\n",
    "        {% for message in messages %}\n",
    "            <li>{{ message }}</li>\n",
    "        {% endfor %}   \n",
    "        </ul>\n",
    "    {% endif %}\n",
    "{% endwith %}"
   ]
  },
  {
   "cell_type": "markdown",
   "metadata": {},
   "source": [
    "**with categories=True** arg tells **get_flashed_messages** to return the messages as pairs of (category,messages) to **distinguish** between messages for example for styling."
   ]
  },
  {
   "cell_type": "markdown",
   "metadata": {},
   "source": [
    "## Databases:"
   ]
  },
  {
   "cell_type": "markdown",
   "metadata": {},
   "source": [
    "**install**  two new packages:\n",
    "- flask-sqlalchemy.\n",
    "- flask-migrate."
   ]
  },
  {
   "cell_type": "markdown",
   "metadata": {},
   "source": [
    "To avoid **Circular Imports**,we use **Factory Patter**:<pre>\n",
    "- app.py : Contains the **application factory function**.Which is responsible for creating and configuring the flask app instance.\n",
    "- routes.py : This has the routes inside register_routes func, and then imported in app.py\n",
    "- run.py : This is the entry point of the application, where the Flask app is actually run. \n",
    "\n",
    "- models.py : Contains the **database models**, typically using an ORM like SQLALchemy. The models represent the structure of the database tables, and any relationship between them."
   ]
  },
  {
   "cell_type": "code",
   "execution_count": null,
   "metadata": {},
   "outputs": [],
   "source": [
    "from flask_sqlalchemy import SQLAlchemy\n",
    "from flask_migrate import flask_migrate"
   ]
  },
  {
   "cell_type": "markdown",
   "metadata": {},
   "source": [
    "### SQLAlchemy Initialization\n",
    "**db = SQLAlchemy(app)** creates a **database object** (an Object Relational Mapper 'ORM') that will manage all the interactions with the database, including:<pre>\n",
    "- Defining **models** (database tables),\n",
    "- Executing **queries**,\n",
    "- Managing **sessions**(transactions),\n",
    "- Handling **relationships** between tables(foreign keys,one-to-many,...)</pre>\n",
    "This object is a central point that **connects** the **database** with your Flask **app**."
   ]
  },
  {
   "cell_type": "markdown",
   "metadata": {},
   "source": [
    "#### Lazy Initialization:\n",
    "- At the time of writing **db = SQLAlchemy()**, no Flask app instance is passed to it.This is imporant for the **Factory Pattern** because the app may not yet exist at this point.\n",
    "- Later,inside the **create_app()** function, the database object is bound to the actual Flask app using **db.init_app(app)**."
   ]
  },
  {
   "cell_type": "markdown",
   "metadata": {},
   "source": [
    "#### Configuration:\n",
    "**SQLALCHEMY_DATABASE_URI** is the specific key that SQLAlchemy uses to determine the **location** and **type** of the **database** to connect to. This key tells SQLAlchemy which database engine to use(e.g:SQLite,MySQL,PostgreSQL) and where the database is located."
   ]
  },
  {
   "cell_type": "code",
   "execution_count": null,
   "metadata": {},
   "outputs": [],
   "source": [
    "# Example: Using SQLite and In Current Directory\n",
    "engine = 'sqlite'\n",
    "location = './db_name.db'\n",
    "app.config['SQLALCHEMY_DATABASE_URI'] = f'{engine}:///{location}'"
   ]
  },
  {
   "cell_type": "markdown",
   "metadata": {},
   "source": [
    "### Migrate:\n",
    "**migrate** a tool that helps manage database schema changes overtime.<br>\n",
    "##### Key Features:<pre>\n",
    "- Automatically generate migration scripts based on changes in your SQLAlchemy Models.\n",
    "- Apply Migrations to your database,keeping the schema in sync with your models.\n",
    "- Rollback changes if something goes wrong during a migration."
   ]
  },
  {
   "cell_type": "markdown",
   "metadata": {},
   "source": [
    "#### Common Commands:"
   ]
  },
  {
   "cell_type": "markdown",
   "metadata": {},
   "source": [
    "**1.Initialize migrations:** This sets up a directory for migration files.  "
   ]
  },
  {
   "cell_type": "code",
   "execution_count": null,
   "metadata": {},
   "outputs": [],
   "source": [
    "!flask db init"
   ]
  },
  {
   "cell_type": "markdown",
   "metadata": {},
   "source": [
    "**2.Generate a new migration script:** This creates a migration script based on the changes in your models."
   ]
  },
  {
   "cell_type": "code",
   "execution_count": null,
   "metadata": {},
   "outputs": [],
   "source": [
    "!flask db migrate -m \"Megration Message\""
   ]
  },
  {
   "cell_type": "markdown",
   "metadata": {},
   "source": [
    "message is optional"
   ]
  },
  {
   "cell_type": "markdown",
   "metadata": {},
   "source": [
    "**3.Apply migrations:** This applies the generated migrations to the database."
   ]
  },
  {
   "cell_type": "code",
   "execution_count": null,
   "metadata": {},
   "outputs": [],
   "source": [
    "!flask db upgrade"
   ]
  },
  {
   "cell_type": "markdown",
   "metadata": {},
   "source": [
    "**3.Rollback migrations:** This rolls back the last migration."
   ]
  },
  {
   "cell_type": "code",
   "execution_count": null,
   "metadata": {},
   "outputs": [],
   "source": [
    "!flask db downgrade"
   ]
  },
  {
   "cell_type": "markdown",
   "metadata": {},
   "source": [
    "#### How Migrate Works:\n",
    "- Migrate keeps track of changes in your **SQLAlchemy** models and compares them with the current database schema.\n",
    "- When a migration is generated using **flask db migrate**, it creates a Python script in the **migrations/** folder. This script contains SQL commands to alter the database schema.\n",
    "- The **flask db upgrade** command applies these changes to the database."
   ]
  },
  {
   "cell_type": "markdown",
   "metadata": {},
   "source": [
    "### Putting all together:"
   ]
  },
  {
   "cell_type": "markdown",
   "metadata": {},
   "source": [
    "**In app.py**"
   ]
  },
  {
   "cell_type": "code",
   "execution_count": null,
   "metadata": {},
   "outputs": [],
   "source": [
    "# Putting all together\n",
    "\n",
    "from flask import Flask\n",
    "from flask_sqlalchemy import SQLAlchemy\n",
    "from flask_migrate import Migrate\n",
    "\n",
    "db = SQLAlchemy()\n",
    "\n",
    "def create_app():\n",
    "    app = Flask(__name__,template_folder='html_files',static_folder='static')\n",
    "    app.config['SQLALCHEMY_DATABASE_URI'] = 'sqlite:///./testdb.db'\n",
    "    \n",
    "    db.init_app(app)\n",
    "    \n",
    "    from routes import register_routes\n",
    "    register_routes(app,db)\n",
    "    \n",
    "    # Integrating Flask-Migrate with the app and db  \n",
    "    migrate = Migrate(app,db)\n",
    "    \n",
    "    return app"
   ]
  },
  {
   "cell_type": "markdown",
   "metadata": {},
   "source": [
    "**In routes.py**"
   ]
  },
  {
   "cell_type": "code",
   "execution_count": null,
   "metadata": {},
   "outputs": [],
   "source": [
    "from flask import render_template,jsonify,request,flash,url_for,redirect\n",
    "from models import Person\n",
    "\n",
    "def register_routes(app,db):\n",
    "    \n",
    "    @app.route('/')\n",
    "    def home():\n",
    "        if request.method == 'GET':\n",
    "            people = Person.query.all()\n",
    "            return render_template('home.html',people=people)\n"
   ]
  },
  {
   "cell_type": "markdown",
   "metadata": {},
   "source": [
    "**In run.py**"
   ]
  },
  {
   "cell_type": "code",
   "execution_count": null,
   "metadata": {},
   "outputs": [],
   "source": [
    "from app import create_app\n",
    "\n",
    "flask_app = create_app()"
   ]
  },
  {
   "cell_type": "markdown",
   "metadata": {},
   "source": [
    "### Models & ORM Functionality:\n",
    "- Once the db object is created and initialized with the app, it can be used to define models, which are python classes that represent tables in the database."
   ]
  },
  {
   "cell_type": "markdown",
   "metadata": {},
   "source": [
    "**In models.py**"
   ]
  },
  {
   "cell_type": "code",
   "execution_count": null,
   "metadata": {},
   "outputs": [],
   "source": [
    "from app import db\n",
    "\n",
    "class Person(db.model):\n",
    "    # Table Name\n",
    "    __tablename__ = 'people'\n",
    "    \n",
    "    # Fields (Columns)\n",
    "    pid = db.Column(db.Interger,primary_key=True)\n",
    "    name = db.Column(db.Text,nullable=False)\n",
    "    age = db.Column(db.Float)"
   ]
  },
  {
   "cell_type": "markdown",
   "metadata": {},
   "source": [
    "### Database Operations:\n",
    "Assume **User** is a model in your database."
   ]
  },
  {
   "cell_type": "markdown",
   "metadata": {},
   "source": [
    "- **1-Creating Records  (Insert):** you can add new rows to your database using SQLAlchemy's ORM by creating instances of your model and adding them to the session."
   ]
  },
  {
   "cell_type": "code",
   "execution_count": null,
   "metadata": {},
   "outputs": [],
   "source": [
    "# Creating a new user\n",
    "new_user = User(username='Ameur',email='hello@gmail.com')\n",
    "\n",
    "# Add the new user to the session\n",
    "db.session.add(new_user)\n",
    "\n",
    "# Commit the session to write the changes to the database\n",
    "db.session.commit()"
   ]
  },
  {
   "cell_type": "markdown",
   "metadata": {},
   "source": [
    "- **2-Reading Records (Select):** you can query the database to retrieve records using the db.session.query()"
   ]
  },
  {
   "cell_type": "code",
   "execution_count": null,
   "metadata": {},
   "outputs": [],
   "source": [
    "# Query all users\n",
    "users = User.query.all()\n",
    "\n",
    "# Query by filter\n",
    "user = User.query.filter_by(username='Agmed').first()\n",
    "\n",
    "# Query by Primary Key\n",
    "user = User.query.get(1)"
   ]
  },
  {
   "cell_type": "markdown",
   "metadata": {},
   "source": [
    "- **3-Updating Records (Update):** you can update records by retrieving them from the database, modifying their fields, and then committing the session"
   ]
  },
  {
   "cell_type": "code",
   "execution_count": null,
   "metadata": {},
   "outputs": [],
   "source": [
    "# Get a user\n",
    "user = User.query.filter_by(username='Agmed').first()\n",
    "\n",
    "# Update the user's email\n",
    "user.username = 'Ahmed'\n",
    "\n",
    "# Commit the changes to the database\n",
    "db.session.commit()"
   ]
  },
  {
   "cell_type": "markdown",
   "metadata": {},
   "source": [
    "- **4-Deleting Records (Delete):** you can delete records by retreiving them and then calling session.delete()"
   ]
  },
  {
   "cell_type": "code",
   "execution_count": null,
   "metadata": {},
   "outputs": [],
   "source": [
    "# Get a user\n",
    "user = User.query.filter_by(username='Ahmed').first()\n",
    "\n",
    "# Delete the user\n",
    "db.session.delete(user)\n",
    "\n",
    "# Commit the changes ...\n",
    "db.session.commit()"
   ]
  },
  {
   "cell_type": "markdown",
   "metadata": {},
   "source": [
    "- **5-Querying with Filters and Conditions:**"
   ]
  },
  {
   "cell_type": "code",
   "execution_count": null,
   "metadata": {},
   "outputs": [],
   "source": [
    "# Get users where the username contains 'agmed' and email ends with 'example.com'\n",
    "users = User.query.filter(\n",
    "    User.username.like('%agmed%'),\n",
    "    User.email.endswith('example.com')\n",
    ")"
   ]
  },
  {
   "cell_type": "markdown",
   "metadata": {},
   "source": [
    "- **6-Querying with Limit and Offset:**"
   ]
  },
  {
   "cell_type": "code",
   "execution_count": null,
   "metadata": {},
   "outputs": [],
   "source": [
    "# Get the first 10 users\n",
    "users = User.query.limit(10).all()\n",
    "\n",
    "# Get 10 users, starting from the 5th user\n",
    "users = User.query.offset(5).limit(10).all()"
   ]
  },
  {
   "cell_type": "markdown",
   "metadata": {},
   "source": [
    "- **7-Ordering Results:**"
   ]
  },
  {
   "cell_type": "code",
   "execution_count": null,
   "metadata": {},
   "outputs": [],
   "source": [
    "# Get users ordered bu username in ascending order\n",
    "users = User.query.order_by(User.username).all()\n",
    "\n",
    "# In Descending\n",
    "users = User.query.order_by(User.username.desc()).all()"
   ]
  },
  {
   "cell_type": "markdown",
   "metadata": {},
   "source": [
    "- **8-Counting Records:**"
   ]
  },
  {
   "cell_type": "code",
   "execution_count": null,
   "metadata": {},
   "outputs": [],
   "source": [
    "# Count the number of users\n",
    "user_count = User.query.count()"
   ]
  },
  {
   "cell_type": "markdown",
   "metadata": {},
   "source": [
    "- **9-Joins (Multiple Table Queries):**\n",
    "Assume you have two models, User and Post, where a User has manu Posts."
   ]
  },
  {
   "cell_type": "code",
   "execution_count": null,
   "metadata": {},
   "outputs": [],
   "source": [
    "# Query users along with thier posts\n",
    "results = db.session.query(User,Post).join(Post,User.id == Post.user_id).all()\n",
    "\n",
    "# Accessing data\n",
    "for user, post in results:\n",
    "    print(f\"{user.username} wrote {post.title}\")"
   ]
  },
  {
   "cell_type": "markdown",
   "metadata": {},
   "source": [
    "- **10-Relationships (One-to-Many, Many-to-One, Many-to-Many):**"
   ]
  },
  {
   "cell_type": "code",
   "execution_count": null,
   "metadata": {},
   "outputs": [],
   "source": [
    "########"
   ]
  },
  {
   "cell_type": "markdown",
   "metadata": {},
   "source": [
    "- **11-Transactions and Rollbacks:**"
   ]
  },
  {
   "cell_type": "code",
   "execution_count": null,
   "metadata": {},
   "outputs": [],
   "source": [
    "try:\n",
    "    # Add a new user\n",
    "    new_user = User(username='Gamdi',email='gamdi@example.com')\n",
    "    db.session.add(new_user)\n",
    "    \n",
    "    # Commit the transaction\n",
    "    db.session.commit()\n",
    "except Exception as e:\n",
    "    # If something goes wrong, roll back the transaction\n",
    "    db.session.rollback()"
   ]
  },
  {
   "cell_type": "markdown",
   "metadata": {},
   "source": [
    "- **12-Querying with Aggregates(SUM,AVG,MAX,MIN):**"
   ]
  },
  {
   "cell_type": "code",
   "execution_count": null,
   "metadata": {},
   "outputs": [],
   "source": [
    "from sqlalchemy import func\n",
    "\n",
    "# Get the Total number of Posts\n",
    "post_count = db.session.query(func.count(Post.id))\n",
    "scalar()\n",
    "\n",
    "# Get the average lenght of post titles\n",
    "avg_title_length = db.session.query(func.avg(func.length(Post.title))).scalar()\n"
   ]
  },
  {
   "cell_type": "markdown",
   "metadata": {},
   "source": [
    "- **13-Executing Raw SQL:**"
   ]
  },
  {
   "cell_type": "code",
   "execution_count": null,
   "metadata": {},
   "outputs": [],
   "source": [
    "query = 'SELECT * FROM user'\n",
    "result = db.session.execute(query)"
   ]
  },
  {
   "cell_type": "markdown",
   "metadata": {},
   "source": [
    "## User Authentication:\n",
    "login,signin,..."
   ]
  },
  {
   "cell_type": "markdown",
   "metadata": {},
   "source": [
    "see **UserAuthen Project**"
   ]
  },
  {
   "cell_type": "markdown",
   "metadata": {},
   "source": [
    "## BluePrints:\n",
    "Blueprints allow you to **organize** your **application** into reusable components, making it **easier to manage** large projects"
   ]
  },
  {
   "cell_type": "markdown",
   "metadata": {},
   "source": [
    "### Project Structure:\n",
    "flask_app<br>\n",
    "- run.py\n",
    "-    blueprintapp/<br>\n",
    "-    │<br>\n",
    "-    ├── app.py<br>\n",
    "-    ├── __init__.py<br>\n",
    "-    └── core/<br>\n",
    "-    -    ├── __init__.py<br>\n",
    "-    -    ├── templates<br>\n",
    "-    -    ├── static<br>\n",
    "-    -    └── routes.py<br>\n",
    "-    └── blueprint1/<br>\n",
    "-    -    ├── __init__.py<br>\n",
    "-    -    ├── templates/blueprint1<br>\n",
    "-    -    ├── static/blueprint1<br>\n",
    "-    -    ├── forms.py<br>\n",
    "-    -    ├── models.py<br>\n",
    "-    -    └── routes.py<br>"
   ]
  },
  {
   "cell_type": "markdown",
   "metadata": {},
   "source": [
    "each blue print has its own forms,models,routes,templates and static files,then we register them in app.py"
   ]
  },
  {
   "cell_type": "markdown",
   "metadata": {},
   "source": [
    "### Create Blueprint:\n",
    "inside **blueprint1/routes.py**"
   ]
  },
  {
   "cell_type": "code",
   "execution_count": null,
   "metadata": {},
   "outputs": [],
   "source": [
    "from flask import Blueprint\n",
    "\n",
    "# For example Todos Section in the app\n",
    "todos = Blueprint('totods',__name__)\n",
    "\n",
    "@todos.route('/')\n",
    "def index():\n",
    "    render_template('blueprint1/index.html')"
   ]
  },
  {
   "cell_type": "markdown",
   "metadata": {},
   "source": [
    "We handle calling route like that, \n",
    "Example:<br>\n",
    "**url_for('blueprint1.index')**"
   ]
  },
  {
   "cell_type": "markdown",
   "metadata": {},
   "source": [
    "### Register Blueprint:\n",
    "inside the **app.py**"
   ]
  },
  {
   "cell_type": "code",
   "execution_count": null,
   "metadata": {},
   "outputs": [],
   "source": [
    "from blueprintapp.blueprint1.routes import todos\n",
    "app.register_blueprint(todos,url_prefix='/todos')"
   ]
  },
  {
   "cell_type": "markdown",
   "metadata": {},
   "source": [
    "**url_prefix** is the main path for this blueprint.<br>\n",
    "so to go to index of this blueprint,the url must be **/todos** not just **/**,and for routes in it(eg:create) the url should be **/todos/create**."
   ]
  },
  {
   "cell_type": "markdown",
   "metadata": {},
   "source": [
    "see **BluePrint Project**."
   ]
  },
  {
   "cell_type": "markdown",
   "metadata": {},
   "source": [
    "# Flask Extentions:\n",
    "there are more useful tools and utilities. "
   ]
  },
  {
   "cell_type": "markdown",
   "metadata": {},
   "source": [
    "## Flask-CORS:\n",
    "Enables **Cross-Origin Resource Sharing**, which allows your **Flask App** to be accessed by web applications hosted on **different domains**."
   ]
  },
  {
   "cell_type": "code",
   "execution_count": null,
   "metadata": {},
   "outputs": [],
   "source": [
    "!pip install flask-cors"
   ]
  },
  {
   "cell_type": "code",
   "execution_count": null,
   "metadata": {},
   "outputs": [],
   "source": [
    "from flask import Flask\n",
    "from flask_cors import CORS\n",
    "\n",
    "app = Flask(__name__)\n",
    "CORS(app) # Enables CORS for all routes\n"
   ]
  },
  {
   "cell_type": "markdown",
   "metadata": {},
   "source": [
    "## Flask-Admin:\n",
    "extension that adds admin interface generation capabilities to Flask applications. It automatically creates a user interface for managing your data models, while allowing extensive customization when needed."
   ]
  },
  {
   "cell_type": "code",
   "execution_count": null,
   "metadata": {},
   "outputs": [],
   "source": [
    "!pip install flask-admin"
   ]
  },
  {
   "cell_type": "markdown",
   "metadata": {},
   "source": [
    "### Project Structure"
   ]
  },
  {
   "cell_type": "markdown",
   "metadata": {},
   "source": [
    "flask-admin-app/<br>\n",
    "├── app/<br>\n",
    "│   ├── __init__.py<br>\n",
    "│   ├── admin/<br>\n",
    "│   │   ├── __init__.py<br>\n",
    "│   │   ├── views.py<br>\n",
    "│   │   ├── forms.py<br>\n",
    "│   │   └── models.py<br>\n",
    "│   ├── templates/<br>\n",
    "│   │   ├── admin/<br>\n",
    "│   │   │   ├── master.html<br>\n",
    "│   │   │   ├── index.html<br>\n",
    "│   │   │   ├── custom/<br>\n",
    "│   │   │   │   ├── dashboard.html<br>\n",
    "│   │   │   │   └── analytics.html<br>\n",
    "│   │   │   └── models/<br>\n",
    "│   │   │       ├── user.html<br>\n",
    "│   │   │       └── product.html<br>\n",
    "│   │   └── security/<br>\n",
    "│   ├── static/<br>\n",
    "│   │   ├── admin/<br>\n",
    "│   │   │   ├── css/<br>\n",
    "│   │   │   └── js/<br>\n",
    "│   │   └── img/<br>\n",
    "│   └── models/<br>\n",
    "├── config.py<br>\n",
    "└── requirements.txt<br>"
   ]
  },
  {
   "cell_type": "markdown",
   "metadata": {},
   "source": [
    "### Types of Admin Interfaces\n"
   ]
  },
  {
   "cell_type": "markdown",
   "metadata": {},
   "source": [
    "#### 1. Model-based Admin\n",
    "- Automatic CRUD operations\n",
    "- Database model management\n",
    "- File management\n",
    "\n",
    "#### 2. Custom Admin Views\n",
    "- Dashboard analytics\n",
    "- User management\n",
    "- Content moderation\n",
    "\n",
    "#### 3. Multi-tenant Admin\n",
    "- Organization-specific views\n",
    "- Role-based access\n",
    "- Resource isolation"
   ]
  },
  {
   "cell_type": "markdown",
   "metadata": {},
   "source": [
    "### Basic Admin Setup"
   ]
  },
  {
   "cell_type": "code",
   "execution_count": null,
   "metadata": {},
   "outputs": [],
   "source": [
    "# app/__init__.py\n",
    "from flask import Flask\n",
    "from flask_sqlalchemy import SQLAlchemy\n",
    "from flask_admin import Admin\n",
    "from flask_admin.contrib.sqla import ModelView\n",
    "from flask_security import Security, SQLAlchemyUserDatastore,current_user\n",
    "\n",
    "db = SQLAlchemy()\n",
    "admin = Admin(template_mode='bootstrap4')\n",
    "\n",
    "def create_app():\n",
    "    app = Flask(__name__)\n",
    "    app.config.from_object('config.Config')\n",
    "    \n",
    "    db.init_app(app)\n",
    "    admin.init_app(app)\n",
    "    \n",
    "    class UserModelView(ModelView):\n",
    "        # Specify Access permissions\n",
    "        def is_accessible(self):\n",
    "            return current_user.is_admin\n",
    "\n",
    "    \n",
    "    class ProductModelView(ModelView):\n",
    "        # Specify Access permissions\n",
    "        def is_accessible(self):\n",
    "            return current_user.is_admin\n",
    "        \n",
    "    # Add model views\n",
    "    from .models import User, Product\n",
    "    admin.add_view(UserModelView(User, db.session))\n",
    "    admin.add_view(ProductModelView(Product, db.session))\n",
    "    \n",
    "    return app"
   ]
  },
  {
   "cell_type": "markdown",
   "metadata": {},
   "source": [
    "### Custom Admin Views"
   ]
  },
  {
   "cell_type": "code",
   "execution_count": null,
   "metadata": {},
   "outputs": [],
   "source": [
    "# app/admin/views.py\n",
    "from flask_admin import BaseView, expose\n",
    "from flask_security import current_user, roles_required\n",
    "\n",
    "class DashboardView(BaseView):\n",
    "    @expose('/')\n",
    "    @roles_required('admin')\n",
    "    def index(self):\n",
    "        stats = self.get_dashboard_stats()\n",
    "        return self.render('admin/custom/dashboard.html', stats=stats)\n",
    "    \n",
    "    def get_dashboard_stats(self):\n",
    "        return {\n",
    "            'total_users': User.query.count(),\n",
    "            'active_users': User.query.filter_by(active=True).count(),\n",
    "            'revenue': self.calculate_revenue()\n",
    "        }\n",
    "\n",
    "# Register custom view\n",
    "admin.add_view(DashboardView(name='Dashboard', endpoint='admin_dashboard'))"
   ]
  },
  {
   "cell_type": "markdown",
   "metadata": {},
   "source": [
    "### Model Views with Custom Actions"
   ]
  },
  {
   "cell_type": "code",
   "execution_count": null,
   "metadata": {},
   "outputs": [],
   "source": [
    "# app/admin/models.py\n",
    "class UserAdmin(ModelView):\n",
    "    # Display foreign keys or no \n",
    "    column_display_fk = True\n",
    "    \n",
    "    # Which columns will be displayed in the list view of the admin interface for users.\n",
    "    column_list = ('email', 'name', 'active', 'roles')\n",
    "    \n",
    "    # Which columns are searchable in the admin interface. In this case, you can search for users by their email or name.\n",
    "    column_searchable_list = ('email', 'name')\n",
    "    \n",
    "    # Which columns can be used to filter results in the list view. Admins can filter users based on their active status and their roles.\n",
    "    column_filters = ('active', 'roles')\n",
    "    \n",
    "    #  Excludes specific fields from the form used to create or edit users.\n",
    "    form_excluded_columns = ('password_hash',)\n",
    "    \n",
    "    # control whether the admin panel allows users to be created, edited, or deleted.\n",
    "    can_create = True\n",
    "    can_edit = True\n",
    "    can_delete = True\n",
    "    \n",
    "    # Custom Templates for List and Edit Views\n",
    "    list_template = 'admin/custom_list.html'\n",
    "    edit_template = 'admin/custom_edit.html'\n",
    "        \n",
    "    # Specify Access permissions\n",
    "    def is_accessible(self):\n",
    "        return current_user.has_role('admin')\n",
    "    \n",
    "    # Process to do if its not accessible\n",
    "    def inaccessible_callback(self, name, **kwargs):\n",
    "        return redirect(url_for('/admin'))\n",
    "     \n",
    "    @action('activate', 'Activate Users', 'Are you sure?')\n",
    "    def action_activate(self, ids):\n",
    "        try:\n",
    "            query = User.query.filter(User.id.in_(ids))\n",
    "            count = 0\n",
    "            for user in query.all():\n",
    "                user.active = True\n",
    "                count += 1\n",
    "            db.session.commit()\n",
    "            flash(f'Successfully activated {count} users.')\n",
    "        except Exception as ex:\n",
    "            flash(f'Failed to activate users: {str(ex)}', 'error')"
   ]
  },
  {
   "cell_type": "markdown",
   "metadata": {},
   "source": [
    "- **Custom Action**: This section defines a custom action in the admin panel that allows the admin to activate multiple users at once. The @action decorator defines the action:\n",
    "    - **activate**: The name of the action.\n",
    "    - **Activate Users**: The label shown in the admin panel.\n",
    "    - **Are you sure?**: A confirmation message that appears before the action is executed."
   ]
  },
  {
   "cell_type": "markdown",
   "metadata": {},
   "source": [
    "- **Function Logic**:\n",
    "- The action receives a list of user IDs (ids) selected in the admin panel.\n",
    "- A query is made to find all users with IDs in the provided list.\n",
    "- For each user found, the active status is set to True.\n",
    "- After modifying the users, changes are committed to the database, and a success message is shown using Flask's flash function.\n",
    "- If there’s an error (e.g., database issue), an error message is shown.\n"
   ]
  },
  {
   "cell_type": "markdown",
   "metadata": {},
   "source": [
    "### Custom Forms and Validation"
   ]
  },
  {
   "cell_type": "code",
   "execution_count": null,
   "metadata": {},
   "outputs": [],
   "source": [
    "# app/admin/forms.py\n",
    "from flask_wtf import FlaskForm\n",
    "from wtforms import StringField, SelectField, BooleanField\n",
    "from wtforms.validators import DataRequired, Email\n",
    "\n",
    "class UserForm(FlaskForm):\n",
    "    name = StringField('Name', validators=[DataRequired()])\n",
    "    email = StringField('Email', validators=[DataRequired(), Email()])\n",
    "    role = SelectField('Role', choices=[\n",
    "        ('user', 'User'),\n",
    "        ('admin', 'Admin'),\n",
    "        ('moderator', 'Moderator')\n",
    "    ])\n",
    "    active = BooleanField('Active')\n",
    "\n",
    "# Using custom form in ModelView\n",
    "class CustomUserAdmin(ModelView):\n",
    "    form = UserForm\n",
    "    \n",
    "    def on_model_change(self, form, model, is_created):\n",
    "        if is_created:\n",
    "            model.set_password(form.password.data)\n",
    "        super().on_model_change(form, model, is_created)"
   ]
  },
  {
   "cell_type": "markdown",
   "metadata": {},
   "source": [
    "- **form = UserForm**: By setting the form attribute to UserForm, the CustomUserAdmin class tells Flask-Admin to use the custom UserForm when creating or editing a user. This means when you view the admin interface for users, you'll see the form fields (name, email, role, and active) that were defined in the UserForm."
   ]
  },
  {
   "cell_type": "markdown",
   "metadata": {},
   "source": [
    "- **on_model_change**: This method is part of Flask-Admin's ModelView. It gets called every time a model (user) is created or updated via the admin interface.\n",
    "    - **Parameters**:\n",
    "        - **form**: The form object that is submitted by the user in the admin interface.\n",
    "        - **model**: The database model being edited or created.\n",
    "        - **is_created**: A boolean indicating whether the model is being created (True) or updated (False).\n",
    "    - **Custom Logic**:\n",
    "        If the model is being created (is_created == True), this method will set the user's password. It assumes that the password field is part of the form (even though it's not shown in the current form definition, it could be added). The password would be retrieved from the form (form.password.data), and then the model's set_password method would hash and store it."
   ]
  },
  {
   "cell_type": "markdown",
   "metadata": {},
   "source": [
    "## Flask-Mail:\n",
    "extension that simplifies sending emails from your Flask web application. It integrates well with Flask and provides the ability to send both plain text and HTML emails, handle attachments, and configure different mail servers."
   ]
  },
  {
   "cell_type": "code",
   "execution_count": null,
   "metadata": {},
   "outputs": [],
   "source": [
    "!pip install flask-mail"
   ]
  },
  {
   "cell_type": "code",
   "execution_count": null,
   "metadata": {},
   "outputs": [],
   "source": [
    "# app.py\n",
    "from flask import Flask\n",
    "from flask_mail import Mail, Message\n",
    "\n",
    "app = Flask(__name__)\n",
    "\n",
    "# Flask-Mail Configuration\n",
    "app.config['MAIL_SERVER'] = 'smtp.gmail.com'  # Use Gmail's SMTP server\n",
    "app.config['MAIL_PORT'] = 587  # For TLS encryption\n",
    "app.config['MAIL_USE_TLS'] = True  # Enable TLS encryption\n",
    "app.config['MAIL_USE_SSL'] = False  # Disable SSL (use either TLS or SSL, not both)\n",
    "app.config['MAIL_USERNAME'] = 'your_email@gmail.com'  # Your email address\n",
    "app.config['MAIL_PASSWORD'] = 'your_email_password'  # Your email password\n",
    "app.config['MAIL_DEFAULT_SENDER'] = 'your_email@gmail.com'  # Default sender email address\n",
    "\n",
    "# Initialize Flask-Mail\n",
    "mail = Mail(app)"
   ]
  },
  {
   "cell_type": "markdown",
   "metadata": {},
   "source": [
    "This sets up your Flask app to send emails via Gmail’s SMTP server, using **TLS encryption**. Make sure you replace the **MAIL_USERNAME** and **MAIL_PASSWORD** with your actual credentials. If you're using another email provider, update the **MAIL_SERVER** and **MAIL_PORT** accordingly."
   ]
  },
  {
   "cell_type": "markdown",
   "metadata": {},
   "source": [
    "### Sending Simple Emails"
   ]
  },
  {
   "cell_type": "code",
   "execution_count": null,
   "metadata": {},
   "outputs": [],
   "source": [
    "# app.py (continued)\n",
    "\n",
    "@app.route('/send_email')\n",
    "def send_email():\n",
    "    # Create a new email message\n",
    "    msg = Message('Hello from Flask', \n",
    "                  recipients=['recipient@example.com'])\n",
    "    msg.body = 'This is a plain text email sent from Flask using Flask-Mail.'\n",
    "\n",
    "    # Send the email\n",
    "    mail.send(msg)\n",
    "    return 'Email has been sent successfully!'"
   ]
  },
  {
   "cell_type": "markdown",
   "metadata": {},
   "source": [
    "- **Message**: Represents an email message.\n",
    "- **recipients**: A list of recipients to send the email to.\n",
    "- **msg.body**: The plain text body of the email."
   ]
  },
  {
   "cell_type": "markdown",
   "metadata": {},
   "source": [
    "When you visit the **/send_email route**, Flask-Mail will send an email to the specified recipient."
   ]
  },
  {
   "cell_type": "markdown",
   "metadata": {},
   "source": [
    "#### Dynamic Email Sender"
   ]
  },
  {
   "cell_type": "code",
   "execution_count": null,
   "metadata": {},
   "outputs": [],
   "source": [
    "# Create the email message\n",
    "sender_email = 'admin0@admin.com'\n",
    "msg = Message('Dynamic Sender Email',\n",
    "                recipients=[recipient],\n",
    "                sender=sender_email)  # Dynamic sender"
   ]
  },
  {
   "cell_type": "markdown",
   "metadata": {},
   "source": [
    "### Sending HTML Emails\n",
    "You can also send HTML emails, which is useful for more styled or formatted emails, such as newsletters or password reset instructions."
   ]
  },
  {
   "cell_type": "code",
   "execution_count": null,
   "metadata": {},
   "outputs": [],
   "source": [
    "@app.route('/send_html_email')\n",
    "def send_html_email():\n",
    "    msg = Message('HTML Email Example',\n",
    "                  recipients=['recipient@example.com'])\n",
    "    \n",
    "    # HTML email body\n",
    "    msg.html = '''\n",
    "        <h1>Hello from Flask-Mail</h1>\n",
    "        <p>This is a <b>HTML email</b> sent from Flask.</p>\n",
    "        <p>Best regards,<br>Flask Team</p>\n",
    "    '''\n",
    "    \n",
    "    mail.send(msg)\n",
    "    return 'HTML Email has been sent successfully!'\n"
   ]
  },
  {
   "cell_type": "markdown",
   "metadata": {},
   "source": [
    "- **msg.html**: This is the HTML body of the email. You can include any valid HTML content, including inline CSS for basic styling."
   ]
  },
  {
   "cell_type": "markdown",
   "metadata": {},
   "source": [
    "### Sending Emails with Attachments\n",
    "Flask-Mail also supports sending email attachments, such as images, PDFs, or other files."
   ]
  },
  {
   "cell_type": "code",
   "execution_count": null,
   "metadata": {},
   "outputs": [],
   "source": [
    "@app.route('/send_email_with_attachment')\n",
    "def send_email_with_attachment():\n",
    "    msg = Message('Email with Attachment',\n",
    "                  recipients=['recipient@example.com'])\n",
    "    msg.body = 'Please find the attachment below.'\n",
    "\n",
    "    # Attach a file (e.g., a PDF file)\n",
    "    with app.open_resource(\"example.pdf\") as pdf:\n",
    "        msg.attach(\"example.pdf\", \"application/pdf\", pdf.read())\n",
    "\n",
    "    mail.send(msg)\n",
    "    return 'Email with attachment has been sent successfully!'"
   ]
  },
  {
   "cell_type": "markdown",
   "metadata": {},
   "source": [
    "- **msg.attach()**: This method allows you to attach a file to the email. You need to specify the file name, MIME type (e.g., application/pdf for PDFs), and the file content."
   ]
  },
  {
   "cell_type": "markdown",
   "metadata": {},
   "source": [
    "### Additional Configuration Options\n",
    "Flask-Mail offers several additional configuration options that you can use to fine-tune how emails are sent from your application. Some commonly used options include:\n",
    "\n",
    "- **MAIL_MAX_EMAILS**: Limits the number of emails that can be sent during a single connection to the mail server.\n",
    "- **MAIL_SUPPRESS_SEND**: If set to True, Flask-Mail will suppress sending emails (useful for testing).\n",
    "- **MAIL_ASCII_ATTACHMENTS**: If set to True, attachments will use ASCII encoding."
   ]
  },
  {
   "cell_type": "markdown",
   "metadata": {},
   "source": [
    "## Flask-Caching:\n",
    "tool to enhance your Flask application's **performance** by reducing load times and **improving** response rates"
   ]
  },
  {
   "cell_type": "markdown",
   "metadata": {},
   "source": [
    "<table>\n",
    "    <thead>\n",
    "        <tr>\n",
    "            <th>When to Use</th>\n",
    "            <th>When Not to Use</th>\n",
    "        </tr>\n",
    "    </thead>\n",
    "    <tbody>\n",
    "        <tr>\n",
    "            <td>Expensive Computations: Caching results of costly calculations can save time.</td>\n",
    "            <td>Highly Dynamic Content: Frequent updates may lead to stale data.</td>\n",
    "        </tr>\n",
    "        <tr>\n",
    "            <td>Frequent Database Queries: Caching common queries reduces database load.</td>\n",
    "            <td>Small Applications: Overhead of caching may not be worth it for low traffic.</td>\n",
    "        </tr>\n",
    "        <tr>\n",
    "            <td>Static Content: Caching rarely changing content like HTML pages or images.</td>\n",
    "            <td>Session Management: Not suitable for managing user sessions or sensitive data.</td>\n",
    "        </tr>\n",
    "        <tr>\n",
    "            <td>API Responses: Caching responses for APIs serving similar requests.</td>\n",
    "            <td>Real-Time Data: Caching may interfere with real-time data updates.</td>\n",
    "        </tr>\n",
    "        <tr>\n",
    "            <td>Rate Limiting: Manage user request limits by caching counts.</td>\n",
    "            <td>Complex Cache Invalidation: Difficult cache invalidation logic may lead to errors.</td>\n",
    "        </tr>\n",
    "    </tbody>\n",
    "</table>"
   ]
  },
  {
   "cell_type": "code",
   "execution_count": null,
   "metadata": {},
   "outputs": [],
   "source": [
    "# Installation\n",
    "!pip install flask-caching"
   ]
  },
  {
   "cell_type": "markdown",
   "metadata": {},
   "source": [
    "### Caching Decorators"
   ]
  },
  {
   "cell_type": "markdown",
   "metadata": {},
   "source": [
    "<table border=\"1\" cellpadding=\"10\" cellspacing=\"0\">\n",
    "  <thead>\n",
    "    <tr>\n",
    "      <th>Feature</th>\n",
    "      <th>@cache.cached</th>\n",
    "      <th>@cache.memoize</th>\n",
    "      <th>@cache.cache</th>\n",
    "      <th>@cache.cached(timeout=0)</th>\n",
    "      <th>@cache.cached(unless=&lt;condition&gt;)</th>\n",
    "    </tr>\n",
    "  </thead>\n",
    "  <tbody>\n",
    "    <tr>\n",
    "      <td>Caches the entire view?</td>\n",
    "      <td>Yes</td>\n",
    "      <td>No</td>\n",
    "      <td>No</td>\n",
    "      <td>Yes, without expiration</td>\n",
    "      <td>Yes, unless the condition is met</td>\n",
    "    </tr>\n",
    "    <tr>\n",
    "      <td>Caches function result?</td>\n",
    "      <td>No</td>\n",
    "      <td>Yes</td>\n",
    "      <td>Yes</td>\n",
    "      <td>No</td>\n",
    "      <td>No</td>\n",
    "    </tr>\n",
    "    <tr>\n",
    "      <td>Caches based on</td>\n",
    "      <td>URL, route, query params, headers</td>\n",
    "      <td>Function arguments</td>\n",
    "      <td>Function arguments</td>\n",
    "      <td>URL, route, query params, headers</td>\n",
    "      <td>URL and query params, unless condition applies</td>\n",
    "    </tr>\n",
    "    <tr>\n",
    "      <td>Common use case</td>\n",
    "      <td>Caching full pages or API responses</td>\n",
    "      <td>Caching results of specific computations</td>\n",
    "      <td>Manual caching of specific function calls</td>\n",
    "      <td>Caching full pages without expiration</td>\n",
    "      <td>Conditionally skipping cache based on logic</td>\n",
    "    </tr>\n",
    "    <tr>\n",
    "      <td>Cache key</td>\n",
    "      <td>Generated from URL and query parameters</td>\n",
    "      <td>Generated from function arguments</td>\n",
    "      <td>Custom key (if defined)</td>\n",
    "      <td>Generated from URL and query parameters</td>\n",
    "      <td>Generated from URL and query parameters, unless condition met</td>\n",
    "    </tr>\n",
    "    <tr>\n",
    "      <td>Use for multiple routes</td>\n",
    "      <td>No, tied to one route</td>\n",
    "      <td>Yes, reusable in multiple routes</td>\n",
    "      <td>Yes, can be used for multiple functions</td>\n",
    "      <td>No, tied to one route</td>\n",
    "      <td>No, tied to one route</td>\n",
    "    </tr>\n",
    "  </tbody>\n",
    "</table>\n"
   ]
  },
  {
   "cell_type": "markdown",
   "metadata": {},
   "source": [
    "### Explicit Caching Functions"
   ]
  },
  {
   "cell_type": "markdown",
   "metadata": {},
   "source": [
    "#### cache.set(key, value, timeout=None):\n",
    "Manually sets a value in the cache under a specific key. Useful when you want to control when data is cached or what the key is."
   ]
  },
  {
   "cell_type": "code",
   "execution_count": null,
   "metadata": {},
   "outputs": [],
   "source": [
    "cache.set('my_key', 'my_value', timeout=60)"
   ]
  },
  {
   "cell_type": "markdown",
   "metadata": {},
   "source": [
    "#### cache.get(key):\n",
    "Retrieves a value from the cache by key."
   ]
  },
  {
   "cell_type": "code",
   "execution_count": null,
   "metadata": {},
   "outputs": [],
   "source": [
    "value = cache.get('my_key')"
   ]
  },
  {
   "cell_type": "markdown",
   "metadata": {},
   "source": [
    "#### cache.delete(key):\n",
    "Removes a specific key from the cache."
   ]
  },
  {
   "cell_type": "code",
   "execution_count": null,
   "metadata": {},
   "outputs": [],
   "source": [
    "cache.delete('my_key')"
   ]
  },
  {
   "cell_type": "markdown",
   "metadata": {},
   "source": [
    "#### cache.clear():\n",
    "Clears the entire cache. This will delete all cached data."
   ]
  },
  {
   "cell_type": "code",
   "execution_count": null,
   "metadata": {},
   "outputs": [],
   "source": [
    "cache.clear()"
   ]
  },
  {
   "cell_type": "markdown",
   "metadata": {},
   "source": [
    "### Configuration Options\n",
    "Flask-Caching allows configuring various backends and settings. Here are some important configuration options:"
   ]
  },
  {
   "cell_type": "markdown",
   "metadata": {},
   "source": [
    "#### CACHE_TYPE:\n",
    "Determines which backend is used for caching. Some common options:\n",
    "- **null**: Disables caching.\n",
    "- **simple**: Simple in-memory caching for development.\n",
    "- **redis**: Use Redis for caching.\n",
    "- **memcached**: Use Memcached for caching."
   ]
  },
  {
   "cell_type": "code",
   "execution_count": null,
   "metadata": {},
   "outputs": [],
   "source": [
    "app.config['CACHE_TYPE'] = 'RedisCache'"
   ]
  },
  {
   "cell_type": "markdown",
   "metadata": {},
   "source": [
    "#### CACHE_DEFAULT_TIMEOUT:\n",
    "Sets the default timeout for cached items (in seconds)."
   ]
  },
  {
   "cell_type": "code",
   "execution_count": null,
   "metadata": {},
   "outputs": [],
   "source": [
    "app.config['CACHE_DEFAULT_TIMEOUT'] = 300  # 5 minutes"
   ]
  },
  {
   "cell_type": "markdown",
   "metadata": {},
   "source": [
    "#### CACHE_KEY_PREFIX:\n",
    "Adds a prefix to all cache keys, which is useful if you are running multiple Flask apps using the same cache backend."
   ]
  },
  {
   "cell_type": "code",
   "execution_count": null,
   "metadata": {},
   "outputs": [],
   "source": [
    "app.config['CACHE_KEY_PREFIX'] = 'myapp_'"
   ]
  },
  {
   "cell_type": "markdown",
   "metadata": {},
   "source": [
    "#### CACHE_THRESHOLD:\n",
    "Sets the maximum number of items to store in the cache (used in memory backends like SimpleCache)."
   ]
  },
  {
   "cell_type": "code",
   "execution_count": null,
   "metadata": {},
   "outputs": [],
   "source": [
    "app.config['CACHE_THRESHOLD'] = 500"
   ]
  },
  {
   "cell_type": "markdown",
   "metadata": {},
   "source": [
    "### Cache Backends Supported\n",
    "Flask-Caching supports a wide range of caching backends:\n",
    "\n",
    "- **SimpleCache**: In-memory cache for development and testing.\n",
    "- **RedisCache**: Redis-based caching.\n",
    "- **MemcachedCache**: Memcached-based caching.\n",
    "- **FilesystemCache**: Caches data on the filesystem.\n",
    "- **NullCache**: A no-op cache that can be used to disable caching.\n",
    "- **SASLMemcachedCache**, **GAEMemcachedCache**, and others depending on **the hosting environment**."
   ]
  },
  {
   "cell_type": "markdown",
   "metadata": {},
   "source": [
    "### Key Concepts in Flask-Caching\n",
    "- **items** refer to the individual pieces of data or objects that are stored in the cache. Each item typically consists of:\n",
    "    - **Key**: A unique identifier used to retrieve the cached data. For example, a URL, function name, or custom identifier.\n",
    "    - **Value**: The actual data or result being stored. For instance, this could be a computation result, database query output, or HTML response.\n",
    "    - **Expiration/Timeout**: The time duration for which the cached item remains valid before it expires and needs to be refreshed.\n",
    "    \n",
    "- **Cache Timeout**: Defines how long a cached result remains valid. If the timeout is set, once it expires, the next call will regenerate the cache.\n",
    "- **Cache Keys**: These uniquely identify cached data. For view functions, cache keys are typically generated from the URL and query parameters, while for functions, cache keys are based on function arguments.\n",
    "- **Manual Cache Control**: While the @cached and @memoize decorators automate caching, you can manually set, get, delete, and clear cache entries using the cache instance."
   ]
  },
  {
   "cell_type": "markdown",
   "metadata": {},
   "source": [
    "### Example"
   ]
  },
  {
   "cell_type": "code",
   "execution_count": null,
   "metadata": {},
   "outputs": [],
   "source": [
    "from flask import Flask\n",
    "from flask_caching import Cache\n",
    "\n",
    "app = Flask(_name_)\n",
    "app.config['CACHE_TYPE'] = 'simple'  # In-memory cache\n",
    "cache = Cache(app)\n",
    "\n",
    "@app.route('/cached')\n",
    "@cache.cached(timeout=60)\n",
    "def cached_view():\n",
    "    return 'This view is cached for 60 seconds'"
   ]
  },
  {
   "cell_type": "markdown",
   "metadata": {},
   "source": [
    "#### **Summary**:\n",
    "Use Flask-Caching to optimize performance when appropriate, but be cautious of its drawbacks, especially in applications with dynamic content or real-time requirements. I"
   ]
  },
  {
   "cell_type": "markdown",
   "metadata": {},
   "source": [
    "## Flask-Limiter:\n",
    "extension for Flask that provides rate-limiting capabilities. Rate limiting is an essential feature to prevent abuse of your application by limiting the number of requests a user can make to certain endpoints in a given period of time."
   ]
  },
  {
   "cell_type": "code",
   "execution_count": null,
   "metadata": {},
   "outputs": [],
   "source": [
    "# Installation\n",
    "!pip install flask-limiter"
   ]
  },
  {
   "cell_type": "code",
   "execution_count": null,
   "metadata": {},
   "outputs": [],
   "source": [
    "from flask_limiter import Limiter\n",
    "\n",
    "limiter = Limiter(app)"
   ]
  },
  {
   "cell_type": "markdown",
   "metadata": {},
   "source": [
    "### Fixed Vs Sliding Window\n",
    "\n",
    "<table border=\"1\" cellpadding=\"10\" cellspacing=\"0\">\n",
    "  <thead>\n",
    "    <tr>\n",
    "      <th>Feature</th>\n",
    "      <th>Fixed Window</th>\n",
    "      <th>Sliding Window</th>\n",
    "    </tr>\n",
    "  </thead>\n",
    "  <tbody>\n",
    "    <tr>\n",
    "      <td>Definition</td>\n",
    "      <td>Rate limit resets after a fixed time interval (e.g., every minute, hour).</td>\n",
    "      <td>Rate limit is based on a rolling window of time, checking the most recent requests over the last X seconds or minutes.</td>\n",
    "    </tr>\n",
    "    <tr>\n",
    "      <td>Time Window</td>\n",
    "      <td>Fixed period (e.g., every 1 minute or 1 hour).</td>\n",
    "      <td>Rolling period based on recent requests (e.g., last 60 seconds, last 5 minutes).</td>\n",
    "    </tr>\n",
    "    <tr>\n",
    "      <td>Request Tracking</td>\n",
    "      <td>Requests are tracked for a specific time period and reset at the end of that period.</td>\n",
    "      <td>Requests are tracked based on the timestamp of each request, with the window moving forward as time progresses.</td>\n",
    "    </tr>\n",
    "    <tr>\n",
    "      <td>Rate Limit Reset</td>\n",
    "      <td>Resets after the fixed period ends, regardless of when the requests were made.</td>\n",
    "      <td>The window continuously slides forward, adjusting the rate limit dynamically based on the most recent requests.</td>\n",
    "    </tr>\n",
    "    <tr>\n",
    "      <td>Use Case</td>\n",
    "      <td>Simple rate limiting where the user can make a fixed number of requests within a specific time period.</td>\n",
    "      <td>More dynamic rate limiting, providing smoother and fairer limits for users by considering recent activity.</td>\n",
    "    </tr>\n",
    "    <tr>\n",
    "      <td>Edge Cases</td>\n",
    "      <td>A user who hits the limit just before the window resets may be at a disadvantage, needing to wait for the reset.</td>\n",
    "      <td>More fair in cases where users are close to the limit but still within a rolling window.</td>\n",
    "    </tr>\n",
    "  </tbody>\n",
    "</table>\n"
   ]
  },
  {
   "cell_type": "markdown",
   "metadata": {},
   "source": [
    "#### Sliding Window Example\n",
    "- **Limit**: The @limiter.limit(\"5 per minute\", ...) decorator indicates that the user is allowed to make up to 5 requests within a 1-minute sliding window.\n",
    "- **Sliding Window**: If a user makes 5 requests within the last 60 seconds, further requests will be blocked until the time of one of the requests moves past the 60-second window."
   ]
  },
  {
   "cell_type": "markdown",
   "metadata": {},
   "source": [
    "### The @limiter.limit Decorator\n",
    "allows you to restrict the number of requests that a specific route can receive within a given time window."
   ]
  },
  {
   "cell_type": "code",
   "execution_count": null,
   "metadata": {},
   "outputs": [],
   "source": [
    "@limiter.limit(\"X per Y\")"
   ]
  },
  {
   "cell_type": "markdown",
   "metadata": {},
   "source": [
    "- **X**: Maximum number of requests allowed.\n",
    "- **Y**: Time window (e.g., per minute, per hour)."
   ]
  },
  {
   "cell_type": "markdown",
   "metadata": {},
   "source": [
    "#### Time Units you can use:\n",
    "##### **Seconds**:\n",
    "Example: \"5 per second\" or \"10 per 30 seconds\"\n",
    "\n",
    "##### **Minutes**:\n",
    "Example: \"2 per minute\" or \"1 per 5 minutes\"\n",
    "\n",
    "##### **Hours**:\n",
    "Example: \"100 per hour\" or \"10 per 30 minutes\" (combined with minutes)\n",
    "\n",
    "##### **Days**:\n",
    "Example: \"1 per day\" or \"7 per week\" (using the day as a reference)"
   ]
  },
  {
   "cell_type": "markdown",
   "metadata": {},
   "source": [
    "### Flask-Limiter Configuration"
   ]
  },
  {
   "cell_type": "markdown",
   "metadata": {},
   "source": [
    "- **DEFAULT_LIMITS**: Global default rate limits for all routes in the application.\n",
    "- **STORAGE_URI**: The URI for the rate limit storage backend (e.g., Redis, Memcached).\n",
    "- **KEY_FUNC**: Custom function to define how rate limit keys are generated.\n"
   ]
  },
  {
   "cell_type": "code",
   "execution_count": null,
   "metadata": {},
   "outputs": [],
   "source": [
    "app.config['LIMITS'] = [\"10 per hour\"]\n",
    "app.config['STORAGE_URI'] = \"redis://localhost:6379\"\n",
    "limiter = Limiter(app)"
   ]
  },
  {
   "cell_type": "markdown",
   "metadata": {},
   "source": [
    "### Global Rate Limits\n",
    "You can set a global rate limit that applies to all routes in the application."
   ]
  },
  {
   "cell_type": "code",
   "execution_count": null,
   "metadata": {},
   "outputs": [],
   "source": [
    "app.config['LIMITS'] = [\"10 per hour\"]  # 10 requests per hour for all routes\n",
    "limiter = Limiter(app)"
   ]
  },
  {
   "cell_type": "markdown",
   "metadata": {},
   "source": [
    "### Dynamic Rate Limits\n",
    "You can apply dynamic rate limits based on request data, such as the user ID, IP address, or any custom logic."
   ]
  },
  {
   "cell_type": "code",
   "execution_count": null,
   "metadata": {},
   "outputs": [],
   "source": [
    "from flask import g\n",
    "\n",
    "@app.route(\"/dynamic_limited\")\n",
    "@limiter.limit(lambda: \"10 per hour\" if g.user.is_authenticated else \"3 per hour\")\n",
    "def dynamic_limited_view():\n",
    "    return \"This view has a dynamic rate limit based on authentication status.\""
   ]
  },
  {
   "cell_type": "markdown",
   "metadata": {},
   "source": [
    "In this example:\n",
    "- Authenticated users are limited to 10 requests per hour.\n",
    "- Non-authenticated users are limited to 3 requests per hour."
   ]
  },
  {
   "cell_type": "markdown",
   "metadata": {},
   "source": [
    "### Rate Limit Exemption (@limiter.exempt)\n",
    "some routes that should not be subject to rate limiting, such as health check routes or special API endpoints. You can use the @limiter.exempt decorator to exclude specific routes from rate limiting."
   ]
  },
  {
   "cell_type": "code",
   "execution_count": null,
   "metadata": {},
   "outputs": [],
   "source": [
    "@app.route(\"/health_check\")\n",
    "@limiter.exempt\n",
    "def health_check():\n",
    "    return \"OK\""
   ]
  },
  {
   "cell_type": "markdown",
   "metadata": {},
   "source": [
    "### Custom Error Messages\n",
    "allows you to customize the error message that is returned when a user exceeds the rate limit."
   ]
  },
  {
   "cell_type": "code",
   "execution_count": null,
   "metadata": {},
   "outputs": [],
   "source": [
    "@limiter.limit(\"2 per minute\", error_message=\"You have exceeded the request limit. Please try again later.\")"
   ]
  },
  {
   "cell_type": "markdown",
   "metadata": {},
   "source": [
    "### IP-based Rate Limiting\n",
    "You can set up rate limits based on the user's IP address using the key_func parameter. This is useful for preventing abuse from a specific IP."
   ]
  },
  {
   "cell_type": "code",
   "execution_count": null,
   "metadata": {},
   "outputs": [],
   "source": [
    "@limiter.limit(\"5 per minute\", key_func=lambda: request.remote_addr)"
   ]
  },
  {
   "cell_type": "markdown",
   "metadata": {},
   "source": [
    "### Managing Rate Limit Counters\n",
    "provides a backend for storing rate limit counters. By default, it uses in-memory storage. However, you can use other backends like Redis or Memcached for production environments"
   ]
  },
  {
   "cell_type": "code",
   "execution_count": null,
   "metadata": {},
   "outputs": [],
   "source": [
    "# Redis Installation\n",
    "! pip install redis"
   ]
  },
  {
   "cell_type": "code",
   "execution_count": null,
   "metadata": {},
   "outputs": [],
   "source": [
    "from flask_limiter import Limiter\n",
    "from redis import Redis\n",
    "\n",
    "app = Flask(__name__)\n",
    "limiter = Limiter(app, storage_uri=\"redis://localhost:6379\")"
   ]
  },
  {
   "cell_type": "markdown",
   "metadata": {},
   "source": [
    "Rate limits are stored in a Redis database.\n",
    "This is more scalable for production applications compared to using in-memory storage."
   ]
  },
  {
   "cell_type": "markdown",
   "metadata": {},
   "source": [
    "### Example"
   ]
  },
  {
   "cell_type": "code",
   "execution_count": null,
   "metadata": {},
   "outputs": [],
   "source": [
    "from flask import Flask\n",
    "from flask_limiter import Limiter\n",
    "from flask_limiter.util import get_remote_address\n",
    "\n",
    "app = Flask(_name_)\n",
    "limiter = Limiter(app, default_limits=[\"5 per minute\"],key_func=get_remote_address)\n",
    "\n",
    "@app.route('/')\n",
    "@limiter.limit(\"2 per minute\")\n",
    "def index():\n",
    "    return 'This route is limited to 2 requests per minute'\n"
   ]
  },
  {
   "cell_type": "markdown",
   "metadata": {},
   "source": [
    "**get_remote_address** specifys that each ip address has this requests limit \"5 per minute\"."
   ]
  },
  {
   "cell_type": "markdown",
   "metadata": {},
   "source": [
    "**Explanation:(suppose in index route we made 2 requests in first 10 ses)**<br>\n",
    "The Limiter will track the number of requests made to that route within the specified time frame (1 minute in this case). Since you've already hit the limit of 2 requests, any further requests within that minute will be blocked.<br>\n",
    "the server will respond with a 429 Too Many Requests status code."
   ]
  },
  {
   "cell_type": "markdown",
   "metadata": {},
   "source": [
    "## Flask-Socketio\n",
    "extension for Flask that enables **real-time communication** between clients and the server using WebSockets. It allows you to build applications that can push updates to clients, which is useful for chat applications, notifications, and live updates."
   ]
  },
  {
   "cell_type": "code",
   "execution_count": null,
   "metadata": {},
   "outputs": [],
   "source": [
    "!pip install flask-socketio"
   ]
  },
  {
   "cell_type": "code",
   "execution_count": null,
   "metadata": {},
   "outputs": [],
   "source": [
    "from flask import Flask,render_template\n",
    "from flask_socketio import SocketIO\n",
    "\n",
    "app = Flask(__name__)\n",
    "# Initialize SocketIO with the Flask app\n",
    "socketio = SocketIO(app)"
   ]
  },
  {
   "cell_type": "markdown",
   "metadata": {},
   "source": [
    "### Creating SocketIO Events\n",
    "Now, let’s add a SocketIO event to respond to a message sent from the client."
   ]
  },
  {
   "cell_type": "code",
   "execution_count": null,
   "metadata": {},
   "outputs": [],
   "source": [
    "# Handle the 'message' event from the client\n",
    "@socketio.on('message')\n",
    "def handle_message(msg):\n",
    "    # Print the received message to the console\n",
    "    print('Received message: ' + msg)\n",
    "    # Send a response back to the client\n",
    "    socketio.send('Response from server: ' + msg)"
   ]
  },
  {
   "cell_type": "markdown",
   "metadata": {},
   "source": [
    "#### Example HTML File"
   ]
  },
  {
   "cell_type": "code",
   "execution_count": null,
   "metadata": {
    "vscode": {
     "languageId": "html"
    }
   },
   "outputs": [],
   "source": [
    "<script src=\"https://cdnjs.cloudflare.com/ajax/libs/socket.io/4.0.0/socket.io.js\"></script>\n",
    "    <script type=\"text/javascript\">\n",
    "        // Establish a connection to the Socket.IO server\n",
    "        var socket = io();\n",
    "\n",
    "        // Event handler for successful connection\n",
    "        socket.on('connect', function() {\n",
    "            console.log('Connected to server'); // Log to console\n",
    "        });\n",
    "\n",
    "        // Event handler for receiving messages from the server\n",
    "        socket.on('message', function(msg) {\n",
    "            console.log('Received message: ' + msg); // Log the received message\n",
    "        });\n",
    "\n",
    "        // Function to send a message to the server\n",
    "        function sendMessage() {\n",
    "            // Get the value from the input field\n",
    "            var msg = document.getElementById('message').value;\n",
    "            // Send the message to the server\n",
    "            socket.send(msg);\n",
    "            // Clear the input field\n",
    "            document.getElementById('message').value = '';\n",
    "        }\n",
    "    </script>\n",
    "<body>\n",
    "    <h1>Flask-SocketIO Chat</h1>\n",
    "    <!-- Input field for the user to type messages -->\n",
    "    <input type=\"text\" id=\"message\" placeholder=\"Type a message\" />\n",
    "    <!-- Button to send the message -->\n",
    "    <button onclick=\"sendMessage()\">Send</button>\n",
    "</body>"
   ]
  },
  {
   "cell_type": "markdown",
   "metadata": {},
   "source": [
    "### Namespaces\n",
    "allow you to separate different communication channels in your application. They provide a way to segment your WebSocket connections and handle events related to different functionalities independently."
   ]
  },
  {
   "cell_type": "markdown",
   "metadata": {
    "vscode": {
     "languageId": "html"
    }
   },
   "source": [
    "#### Example of Namespaces\n",
    "you might have a chat application with different channels for private messages, public chat rooms, and notifications. Each of these channels can be a different namespace."
   ]
  },
  {
   "cell_type": "code",
   "execution_count": null,
   "metadata": {},
   "outputs": [],
   "source": [
    "from flask import Flask\n",
    "from flask_socketio import SocketIO, Namespace\n",
    "\n",
    "app = Flask(__name__)\n",
    "socketio = SocketIO(app)\n",
    "\n",
    "# Create a custom namespace for chat functionality\n",
    "class ChatNamespace(Namespace):\n",
    "    def on_connect(self):\n",
    "        print('Client connected to chat namespace.')\n",
    "\n",
    "    def on_disconnect(self):\n",
    "        print('Client disconnected from chat namespace.')\n",
    "\n",
    "    def on_message(self, message):\n",
    "        print(f'Received message: {message}')\n",
    "        # Echo the message back to the client\n",
    "        self.send(message)\n",
    "\n",
    "# Register the namespace with the SocketIO server\n",
    "socketio.on_namespace(ChatNamespace('/chat'))\n",
    "\n",
    "if __name__ == '__main__':\n",
    "    socketio.run(app)\n"
   ]
  },
  {
   "cell_type": "markdown",
   "metadata": {},
   "source": [
    "##### HTML Client Code"
   ]
  },
  {
   "cell_type": "code",
   "execution_count": null,
   "metadata": {
    "vscode": {
     "languageId": "html"
    }
   },
   "outputs": [],
   "source": [
    "<!DOCTYPE html>\n",
    "<html>\n",
    "<head>\n",
    "    <title>Flask-SocketIO with Namespaces</title>\n",
    "    <script src=\"https://cdnjs.cloudflare.com/ajax/libs/socket.io/4.0.0/socket.io.js\"></script>\n",
    "    <script type=\"text/javascript\">\n",
    "        // Connect to the chat namespace\n",
    "        var socket = io('/chat');\n",
    "\n",
    "        // Event handler for receiving messages from the server\n",
    "        socket.on('message', function(msg) {\n",
    "            console.log('Received message: ' + msg);\n",
    "        });\n",
    "\n",
    "        // Function to send a message to the server\n",
    "        function sendMessage() {\n",
    "            var msg = document.getElementById('message').value;\n",
    "            socket.send(msg); // Send the message to the server\n",
    "            document.getElementById('message').value = ''; // Clear the input field\n",
    "        }\n",
    "    </script>\n",
    "</head>\n",
    "<body>\n",
    "    <h1>Chat Namespace Example</h1>\n",
    "    <input type=\"text\" id=\"message\" placeholder=\"Type a message\" />\n",
    "    <button onclick=\"sendMessage()\">Send</button>\n",
    "</body>\n",
    "</html>\n"
   ]
  },
  {
   "cell_type": "markdown",
   "metadata": {},
   "source": [
    "In this example, when the client connects to the /chat namespace, the server prints a message indicating the connection. Messages sent through this namespace will be handled independently from any other namespaces you might create."
   ]
  },
  {
   "cell_type": "markdown",
   "metadata": {},
   "source": [
    "### Rooms\n",
    "allow you to group multiple sockets together. You can think of rooms as virtual spaces where multiple clients can join and communicate with each other."
   ]
  },
  {
   "cell_type": "markdown",
   "metadata": {},
   "source": [
    "#### Example of Rooms\n",
    "Let’s create an example where clients can join different chat rooms."
   ]
  },
  {
   "cell_type": "code",
   "execution_count": null,
   "metadata": {},
   "outputs": [],
   "source": [
    "from flask import Flask, render_template\n",
    "from flask_socketio import SocketIO, join_room, leave_room\n",
    "\n",
    "app = Flask(__name__)\n",
    "socketio = SocketIO(app)\n",
    "\n",
    "@app.route('/')\n",
    "def index():\n",
    "    return render_template('index.html')  # Render the index page\n",
    "\n",
    "# Handle the 'join' event to join a room\n",
    "@socketio.on('join')\n",
    "def on_join(data):\n",
    "    room = data['room']  # Get the room name from the received data\n",
    "    join_room(room)  # Join the specified room\n",
    "    # Send a message to the room indicating the user has joined\n",
    "    socketio.send(room, f'User has joined the room: {room}')\n",
    "\n",
    "# Handle the 'message' event to send messages to a specific room\n",
    "@socketio.on('message')\n",
    "def handle_message(data):\n",
    "    room = data['room']  # Get the room name from the received data\n",
    "    msg = data['message']  # Get the message from the received data\n",
    "    # Send the message to all clients in the specified room\n",
    "    socketio.send(room, msg)\n",
    "\n",
    "# Handle the 'leave' event to leave a room\n",
    "@socketio.on('leave')\n",
    "def on_leave(data):\n",
    "    room = data['room']\n",
    "    leave_room(room)  # Leave the specified room\n",
    "    # Send a message to the room indicating the user has left\n",
    "    socketio.send(room, f'User has left the room: {room}')\n",
    "\n",
    "if __name__ == '__main__':\n",
    "    socketio.run(app)\n"
   ]
  },
  {
   "cell_type": "markdown",
   "metadata": {},
   "source": [
    "### Braodcasting Messages\n",
    "You can broadcast messages to all clients in a specific room or all connected clients."
   ]
  },
  {
   "cell_type": "code",
   "execution_count": null,
   "metadata": {},
   "outputs": [],
   "source": [
    "@socketio.on('broadcast_message')\n",
    "def handle_broadcast(msg):\n",
    "    # Emit the message to all connected clients\n",
    "    socketio.emit('message', msg, broadcast=True)"
   ]
  },
  {
   "cell_type": "markdown",
   "metadata": {},
   "source": [
    "### Handling Disconnections\n",
    "You can handle disconnections using the **on_disconnect** event."
   ]
  },
  {
   "cell_type": "code",
   "execution_count": null,
   "metadata": {},
   "outputs": [],
   "source": [
    "# Handle disconnection events\n",
    "@socketio.on('disconnect')\n",
    "def handle_disconnect():\n",
    "    # Print a message when a client disconnects\n",
    "    print('Client disconnected')"
   ]
  },
  {
   "cell_type": "markdown",
   "metadata": {},
   "source": [
    "##### HTML Client Code"
   ]
  },
  {
   "cell_type": "code",
   "execution_count": null,
   "metadata": {
    "vscode": {
     "languageId": "html"
    }
   },
   "outputs": [],
   "source": [
    "<!DOCTYPE html>\n",
    "<html>\n",
    "<head>\n",
    "    <title>Flask-SocketIO Rooms Example</title>\n",
    "    <script src=\"https://cdnjs.cloudflare.com/ajax/libs/socket.io/4.0.0/socket.io.js\"></script>\n",
    "    <script type=\"text/javascript\">\n",
    "        var socket = io(); // Connect to the default namespace\n",
    "\n",
    "        // Function to join a room\n",
    "        function joinRoom() {\n",
    "            var room = document.getElementById('room').value; // Get the room name\n",
    "            socket.emit('join', { room: room }); // Emit a join event\n",
    "        }\n",
    "\n",
    "        // Event handler for receiving messages from the server\n",
    "        socket.on('message', function(msg) {\n",
    "            console.log('Received message: ' + msg); // Log the message\n",
    "        });\n",
    "\n",
    "        // Function to send a message to the room\n",
    "        function sendMessage() {\n",
    "            var room = document.getElementById('room').value; // Get the room name\n",
    "            var msg = document.getElementById('message').value; // Get the message\n",
    "            socket.send({ room: room, message: msg }); // Send message to the room\n",
    "            document.getElementById('message').value = ''; // Clear the input field\n",
    "        }\n",
    "\n",
    "        // Function to leave a room\n",
    "        function leaveRoom() {\n",
    "            var room = document.getElementById('room').value; // Get the room name\n",
    "            socket.emit('leave', { room: room }); // Emit a leave event\n",
    "        }\n",
    "    </script>\n",
    "</head>\n",
    "<body>\n",
    "    <h1>Chat Room Example</h1>\n",
    "    <input type=\"text\" id=\"room\" placeholder=\"Room Name\" />\n",
    "    <button onclick=\"joinRoom()\">Join Room</button>\n",
    "    <button onclick=\"leaveRoom()\">Leave Room</button><br><br>\n",
    "    <input type=\"text\" id=\"message\" placeholder=\"Type a message\" />\n",
    "    <button onclick=\"sendMessage()\">Send</button>\n",
    "</body>\n",
    "</html>\n"
   ]
  },
  {
   "cell_type": "markdown",
   "metadata": {},
   "source": [
    "## Flask-Uploads\n",
    "extension that helps handle file uploads in a Flask application. It supports the following features:"
   ]
  },
  {
   "cell_type": "markdown",
   "metadata": {},
   "source": [
    "#### Features \n",
    "- File storage and retrieval\n",
    "- Different upload sets (e.g., for photos, documents, etc.)\n",
    "- Restricting file extensions\n",
    "- Automatically saving files in a secure and organized way"
   ]
  },
  {
   "cell_type": "code",
   "execution_count": null,
   "metadata": {},
   "outputs": [],
   "source": [
    "# Installation\n",
    "!pip install Flask-Uploads"
   ]
  },
  {
   "cell_type": "markdown",
   "metadata": {},
   "source": [
    "### Setting Up Flask-Uploads in a Flask Application"
   ]
  },
  {
   "cell_type": "code",
   "execution_count": null,
   "metadata": {},
   "outputs": [],
   "source": [
    "from flask_uploads import UploadSet, configure_uploads, IMAGES, patch_request_class\n",
    "\n",
    "app = Flask(__name__)\n",
    "\n",
    "# Define upload folders and allowed extensions\n",
    "app.config['UPLOADED_PHOTOS_DEST'] = 'uploads/photos'  # Folder where photos will be stored\n",
    "app.config['UPLOADED_DOCS_DEST'] = 'uploads/docs' # Folder where docs will be stored\n",
    "\n",
    "# Create UploadSets\n",
    "photos = UploadSet('photos', IMAGES)\n",
    "docs = UploadSet('docs', ('txt', 'pdf'))\n",
    "\n",
    "# Configure Flask-Uploads to use this UploadSets\n",
    "configure_uploads(app, (docs, photos))"
   ]
  },
  {
   "cell_type": "markdown",
   "metadata": {},
   "source": [
    "- **UploadSet**: Flask-Uploads allows you to define multiple upload sets. The UploadSet takes two arguments, the first being a name for the upload set (like photos), and the second being the type of files allowed (**IMAGES** is a pre-configured list for image extensions such as .jpg, .png, .gif)."
   ]
  },
  {
   "cell_type": "markdown",
   "metadata": {},
   "source": [
    "### UploadSet and File Types\n",
    "supports different file types through UploadSets. You can specify the type of files that can be uploaded by using the built-in sets or creating custom ones."
   ]
  },
  {
   "cell_type": "markdown",
   "metadata": {},
   "source": [
    "#### a. Pre-defined File Types:\n",
    "- **IMAGES**: Accepts .jpg, .jpeg, .png, .gif, .bmp, .tiff\n",
    "- **TEXT**: Accepts .txt, .rtf\n",
    "- **DOCUMENTS**: Accepts .pdf, .doc, .xls\n",
    "- **AUDIO**: Accepts .wav, .mp3, .ogg\n",
    "- **ARCHIVES**: Accepts .zip, .tar, .gz\n",
    "\n",
    "You can define custom file types by passing a list of allowed extensions:"
   ]
  },
  {
   "cell_type": "code",
   "execution_count": null,
   "metadata": {},
   "outputs": [],
   "source": [
    "docs = UploadSet('docs', ('txt', 'md', 'pdf'))"
   ]
  },
  {
   "cell_type": "markdown",
   "metadata": {},
   "source": [
    "### Upload Restrictions\n",
    "You can also restrict the size of files being uploaded:"
   ]
  },
  {
   "cell_type": "code",
   "execution_count": null,
   "metadata": {},
   "outputs": [],
   "source": [
    "# Limit file size (optional)\n",
    "patch_request_class(app, 16 * 1024 * 1024)  # Max size: 16MB"
   ]
  },
  {
   "cell_type": "code",
   "execution_count": null,
   "metadata": {},
   "outputs": [],
   "source": [
    "import os\n",
    "\n",
    "# Set size limits for each UploadSet in bytes (e.g., 5 MB for photos, 10 MB for docs)\n",
    "MAX_PHOTO_SIZE = 5 * 1024 * 1024  # 5 MB\n",
    "MAX_DOC_SIZE = 10 * 1024 * 1024   # 10 MB\n",
    "\n",
    "def validate_file_size(file, max_size):\n",
    "    \"\"\"Helper function to validate file size\"\"\"\n",
    "    file.seek(0, os.SEEK_END)  # Move the cursor to the end of the file\n",
    "    file_length = file.tell()  # Get the size of the file\n",
    "    file.seek(0)  # Reset the file cursor to the beginning\n",
    "    return file_length <= max_size"
   ]
  },
  {
   "cell_type": "markdown",
   "metadata": {},
   "source": [
    "then use the function for validation in andpoints."
   ]
  },
  {
   "cell_type": "markdown",
   "metadata": {},
   "source": [
    "### Saving Files\n",
    "When saving files with Flask-Uploads, the save() method is used. By default, files are saved using a secure filename generated by the extension. You can also pass a custom name:"
   ]
  },
  {
   "cell_type": "code",
   "execution_count": null,
   "metadata": {},
   "outputs": [],
   "source": [
    "filename = photos.save(form.picture, name='new_photo_name.jpg')"
   ]
  },
  {
   "cell_type": "markdown",
   "metadata": {},
   "source": [
    "here we used flaskwtf for files form so i used **form.picture** to retrieve the picture from the form."
   ]
  },
  {
   "cell_type": "markdown",
   "metadata": {},
   "source": [
    "If you only want to save the file using the original name from the user dont specify the **name parameter**"
   ]
  },
  {
   "cell_type": "markdown",
   "metadata": {},
   "source": [
    "### Accessing Uploaded Files\n",
    "allows easy access to uploaded files by using the **url()** method:"
   ]
  },
  {
   "cell_type": "code",
   "execution_count": null,
   "metadata": {},
   "outputs": [],
   "source": [
    "file_url = photos.url(filename)"
   ]
  },
  {
   "cell_type": "markdown",
   "metadata": {},
   "source": [
    "This will return the URL to the file, assuming you have set up your static folder correctly."
   ]
  },
  {
   "cell_type": "markdown",
   "metadata": {},
   "source": [
    "### File Validation\n",
    "Flask-Uploads can also handle file validation, ensuring that only the allowed file types are uploaded."
   ]
  },
  {
   "cell_type": "code",
   "execution_count": null,
   "metadata": {},
   "outputs": [],
   "source": [
    "if photos.file_allowed(form.picture, form.picture.filename):\n",
    "    filename = photos.save(form.picture)"
   ]
  },
  {
   "cell_type": "markdown",
   "metadata": {},
   "source": [
    "###  Handling File Overwrites\n",
    "allows for the prevention of overwriting files with the same name by generating unique filenames automatically"
   ]
  },
  {
   "cell_type": "code",
   "execution_count": null,
   "metadata": {},
   "outputs": [],
   "source": [
    "filename = photos.save(form.picture)"
   ]
  },
  {
   "cell_type": "markdown",
   "metadata": {},
   "source": [
    "Flask-Uploads will handle name collisions by appending a counter to the filename if necessary, e.g., photo_1.jpg."
   ]
  },
  {
   "cell_type": "markdown",
   "metadata": {},
   "source": [
    "## Flask-OAuthlib\n",
    "extension for Flask that provides support for OAuth authentication. OAuth allows users to grant access to their data to third-party applications without sharing their passwords. This is often used for social media logins (e.g., logging in with Google or Facebook)."
   ]
  },
  {
   "cell_type": "markdown",
   "metadata": {},
   "source": [
    "**OAuth 2.0** is the most commonly used version, which involves an authorization flow where a user is redirected to a third-party service (e.g., Google) to log in, and the application retrieves an access token to interact with the service on the user's behalf."
   ]
  },
  {
   "cell_type": "code",
   "execution_count": null,
   "metadata": {},
   "outputs": [],
   "source": [
    "# Installation\n",
    "!pip install Flask-OAuthlib"
   ]
  },
  {
   "cell_type": "code",
   "execution_count": null,
   "metadata": {},
   "outputs": [],
   "source": [
    "from flask import Flask, redirect, url_for, session, request\n",
    "from flask_oauthlib.client import OAuth\n",
    "\n",
    "app = Flask(__name__)\n",
    "app.secret_key = 'random_secret_key'\n",
    "oauth = OAuth(app)  # Creating the OAuth object that will handle OAuth 2.0 interactions."
   ]
  },
  {
   "cell_type": "markdown",
   "metadata": {},
   "source": [
    "### OAuth Providers\n",
    "<table>\n",
    "    <thead>\n",
    "        <tr>\n",
    "            <th>Provider</th>\n",
    "            <th>OAuth URL</th>\n",
    "        </tr>\n",
    "    </thead>\n",
    "    <tbody>\n",
    "        <tr>\n",
    "            <td>Google OAuth</td>\n",
    "            <td><a href=\"https://developers.google.com/identity/protocols/oauth2\" target=\"_blank\">Google OAuth</a></td>\n",
    "        </tr>\n",
    "        <tr>\n",
    "            <td>Facebook OAuth</td>\n",
    "            <td><a href=\"https://developers.facebook.com/docs/facebook-login/\" target=\"_blank\">Facebook OAuth</a></td>\n",
    "        </tr>\n",
    "        <tr>\n",
    "            <td>GitHub OAuth</td>\n",
    "            <td><a href=\"https://docs.github.com/en/developers/apps/building-oauth-apps\" target=\"_blank\">GitHub OAuth</a></td>\n",
    "        </tr>\n",
    "        <tr>\n",
    "            <td>Twitter OAuth</td>\n",
    "            <td><a href=\"https://developer.twitter.com/en/docs/authentication/oauth-2-0\" target=\"_blank\">Twitter OAuth</a></td>\n",
    "        </tr>\n",
    "        <tr>\n",
    "            <td>LinkedIn OAuth</td>\n",
    "            <td><a href=\"https://www.linkedin.com/developers/docs/oauth-2-0\" target=\"_blank\">LinkedIn OAuth</a></td>\n",
    "        </tr>\n",
    "        <tr>\n",
    "            <td>Microsoft OAuth</td>\n",
    "            <td><a href=\"https://learn.microsoft.com/en-us/azure/active-directory/develop/v2-oauth2-auth-code-flow\" target=\"_blank\">Microsoft OAuth</a></td>\n",
    "        </tr>\n",
    "        <tr>\n",
    "            <td>GitLab OAuth</td>\n",
    "            <td><a href=\"https://docs.gitlab.com/ee/administration/oauth.html\" target=\"_blank\">GitLab OAuth</a></td>\n",
    "        </tr>\n",
    "        <tr>\n",
    "            <td>Slack OAuth</td>\n",
    "            <td><a href=\"https://api.slack.com/authentication/oauth-v2\" target=\"_blank\">Slack OAuth</a></td>\n",
    "        </tr>\n",
    "        <tr>\n",
    "            <td>Spotify OAuth</td>\n",
    "            <td><a href=\"https://developer.spotify.com/documentation/general/guides/authorization-guide/\" target=\"_blank\">Spotify OAuth</a></td>\n",
    "        </tr>\n",
    "        <tr>\n",
    "            <td>Twitch OAuth</td>\n",
    "            <td><a href=\"https://dev.twitch.tv/docs/authentication/getting-tokens-oauth\" target=\"_blank\">Twitch OAuth</a></td>\n",
    "        </tr>\n",
    "        <tr>\n",
    "            <td>Yahoo OAuth</td>\n",
    "            <td><a href=\"https://developer.yahoo.com/oauth/\" target=\"_blank\">Yahoo OAuth</a></td>\n",
    "        </tr>\n",
    "        <tr>\n",
    "            <td>Amazon OAuth</td>\n",
    "            <td><a href=\"https://developer.amazon.com/docs/login-with-amazon/overview.html\" target=\"_blank\">Amazon OAuth</a></td>\n",
    "        </tr>\n",
    "        <tr>\n",
    "            <td>Reddit OAuth</td>\n",
    "            <td><a href=\"https://www.reddit.com/dev/api/\" target=\"_blank\">Reddit OAuth</a></td>\n",
    "        </tr>\n",
    "        <tr>\n",
    "            <td>Instagram OAuth</td>\n",
    "            <td><a href=\"https://developers.facebook.com/docs/instagram-basic-display-api\" target=\"_blank\">Instagram OAuth</a></td>\n",
    "        </tr>\n",
    "    </tbody>\n",
    "</table>"
   ]
  },
  {
   "cell_type": "markdown",
   "metadata": {},
   "source": [
    "### Setting Up OAuth with Google"
   ]
  },
  {
   "cell_type": "code",
   "execution_count": null,
   "metadata": {},
   "outputs": [],
   "source": [
    "google = oauth.remote_app(\n",
    "    'google',\n",
    "    consumer_key='GOOGLE_CONSUMER_KEY',  # Replace this with your Google API client ID.\n",
    "    consumer_secret='GOOGLE_CONSUMER_SECRET',  # Replace with your Google API client secret.\n",
    "    request_token_params={\n",
    "        'scope': 'email',  # This defines what access we want to request, in this case, email.\n",
    "    },\n",
    "    base_url='https://www.googleapis.com/oauth2/v1/',\n",
    "    request_token_url=None,  # Not needed for OAuth 2.0.\n",
    "    access_token_method='POST',  # OAuth 2.0 uses POST method for token exchange.\n",
    "    access_token_url='https://accounts.google.com/o/oauth2/token',\n",
    "    authorize_url='https://accounts.google.com/o/oauth2/auth',  # The URL to which users are redirected to authorize access.\n",
    ")"
   ]
  },
  {
   "cell_type": "markdown",
   "metadata": {},
   "source": [
    "### Setting Up Template"
   ]
  },
  {
   "cell_type": "code",
   "execution_count": null,
   "metadata": {
    "vscode": {
     "languageId": "html"
    }
   },
   "outputs": [],
   "source": [
    "<body>\n",
    "    <h1>Login with Google</h1>\n",
    "    <a href=\"{{ url_for('login') }}\">Login with Google</a>\n",
    "</body>"
   ]
  },
  {
   "cell_type": "markdown",
   "metadata": {},
   "source": [
    "### Setting Up Routes for OAuth Flow"
   ]
  },
  {
   "cell_type": "markdown",
   "metadata": {},
   "source": [
    "- **Login Route**: When the user accesses /login, they will be redirected to Google’s OAuth authorization page. If the user successfully logs in, Google will redirect them back to our callback route."
   ]
  },
  {
   "cell_type": "code",
   "execution_count": null,
   "metadata": {},
   "outputs": [],
   "source": [
    "@app.route('/login')\n",
    "def login():\n",
    "    # Redirects the user to Google’s OAuth authorization page\n",
    "    return google.authorize(callback=url_for('authorized', _external=True))"
   ]
  },
  {
   "cell_type": "markdown",
   "metadata": {},
   "source": [
    "- **Callback Route**: After the user logs in on Google’s OAuth page, they will be redirected back to our /login/authorized route, which handles receiving the authorization code from Google and exchanging it for an access token."
   ]
  },
  {
   "cell_type": "code",
   "execution_count": null,
   "metadata": {},
   "outputs": [],
   "source": [
    "@app.route('/login/authorized')\n",
    "def authorized():\n",
    "    # Google sends the response containing the authorization code\n",
    "    response = google.authorized_response()  # This will contain the access token.\n",
    "    \n",
    "    # If authorization failed (no access token is returned), show an error message.\n",
    "    if response is None or response.get('access_token') is None:\n",
    "        return 'Access denied: reason={} error={}'.format(\n",
    "            request.args['error_reason'],\n",
    "            request.args['error_description']\n",
    "        )\n",
    "\n",
    "    # Store the access token in the session\n",
    "    session['google_token'] = (response['access_token'], '')  # You can store this token in a database for long-term use.\n",
    "    \n",
    "    # Use the access token to fetch user data (e.g., email)\n",
    "    user_info = google.get('userinfo')\n",
    "    return 'Logged in as ' + user_info.data['email']\n"
   ]
  },
  {
   "cell_type": "markdown",
   "metadata": {},
   "source": [
    "- **Token Getter**: This function will be used to retrieve the access token from the session when making future API calls on behalf of the user."
   ]
  },
  {
   "cell_type": "code",
   "execution_count": null,
   "metadata": {},
   "outputs": [],
   "source": [
    "@google.tokengetter\n",
    "def get_google_oauth_token():\n",
    "    return session.get('google_token')"
   ]
  },
  {
   "cell_type": "markdown",
   "metadata": {},
   "source": [
    "### How It Works:\n",
    "- The user visits the **/login** route, which triggers a redirection to Google’s OAuth authorization page.\n",
    "- Once the user logs in and grants access, they are redirected back to your app, where the authorization code is exchanged for an access token.\n",
    "- The access token is stored in the session and can be used to make requests to Google’s API on the user’s behalf (e.g., getting their email)."
   ]
  },
  {
   "cell_type": "markdown",
   "metadata": {},
   "source": [
    "## Flask-WebAuthn\n",
    "extension that enables WebAuthn support for passwordless authentication in Flask applications. WebAuthn is a standard that allows users to authenticate using biometrics (like fingerprints) or hardware security keys (like YubiKey) instead of traditional passwords."
   ]
  },
  {
   "cell_type": "markdown",
   "metadata": {},
   "source": [
    "#### WebAuthn Workflow:\n",
    "- **Credential Registration**: The user registers a new credential (e.g., a fingerprint or security key) that will be used for authentication.\n",
    "- **Authentication**: When logging in, the user proves they own the credential (e.g., by pressing a button on their hardware key or using their fingerprint)."
   ]
  },
  {
   "cell_type": "code",
   "execution_count": null,
   "metadata": {},
   "outputs": [],
   "source": [
    "# Installation \n",
    "!pip install Flask-WebAuthn"
   ]
  },
  {
   "cell_type": "code",
   "execution_count": null,
   "metadata": {},
   "outputs": [],
   "source": [
    "from flask import Flask, jsonify, request\n",
    "from flask_webauthn import WebAuthn\n",
    "\n",
    "app = Flask(__name__)\n",
    "app.secret_key = 'another_random_secret_key'\n",
    "\n",
    "# Initialize WebAuthn with the Flask app\n",
    "web_authn = WebAuthn(app)"
   ]
  },
  {
   "cell_type": "markdown",
   "metadata": {},
   "source": [
    "### Define WebAuthn Options\n",
    "The following options specify the details for credential creation, like the relying party (RP) ID, which typically matches your domain."
   ]
  },
  {
   "cell_type": "code",
   "execution_count": null,
   "metadata": {},
   "outputs": [],
   "source": [
    "web_authn_options = {\n",
    "    \"rp_id\": \"localhost\",  # The domain or host serving the app\n",
    "    \"rp_name\": \"WebAuthn Example\",  # The name of your app\n",
    "    \"user_id\": \"user@example.com\",  # Unique user ID in your system\n",
    "    \"user_name\": \"User\",  # The display name for the user\n",
    "    \"challenge\": \"some_random_challenge_string\"  # A challenge string to prevent replay attacks\n",
    "}"
   ]
  },
  {
   "cell_type": "markdown",
   "metadata": {},
   "source": [
    "### Setting Template"
   ]
  },
  {
   "cell_type": "markdown",
   "metadata": {},
   "source": [
    "WebAuthn registration is triggered after the form is submitted. The WebAuthn API is then used to generate options for creating a WebAuthn credential."
   ]
  },
  {
   "cell_type": "markdown",
   "metadata": {},
   "source": [
    "### Handling Registration"
   ]
  },
  {
   "cell_type": "markdown",
   "metadata": {},
   "source": [
    "- **Handling Registration**\n",
    "This route prepares the WebAuthn creation options and sends them to the client."
   ]
  },
  {
   "cell_type": "code",
   "execution_count": null,
   "metadata": {},
   "outputs": [],
   "source": [
    "@app.route('/register', methods=['POST'])\n",
    "def register():\n",
    "    # Extract user details (user_id and username) from the request data.\n",
    "    user_id = request.json.get('user_id')\n",
    "    username = request.json.get('username')\n",
    "\n",
    "    # Update WebAuthn options with the user details.\n",
    "    web_authn_options[\"user_id\"] = user_id\n",
    "    web_authn_options[\"user_name\"] = username\n",
    "\n",
    "    # Prepare the options for creating a new WebAuthn credential\n",
    "    options = web_authn.prepare_create(user_id=user_id, username=username)\n",
    "    \n",
    "    # Send these options to the frontend to initiate the registration process\n",
    "    return jsonify(options)"
   ]
  },
  {
   "cell_type": "markdown",
   "metadata": {},
   "source": [
    "- **Verify Credential Creation**\n",
    "After the user registers a new credential (e.g., by using their fingerprint or security key), the client sends the credential data back to the server. The server verifies it."
   ]
  },
  {
   "cell_type": "code",
   "execution_count": null,
   "metadata": {},
   "outputs": [],
   "source": [
    "@app.route('/register/verify', methods=['POST'])\n",
    "def verify_register():\n",
    "    # Receive the user's credential creation data from the frontend\n",
    "    credential = request.json.get('credential')\n",
    "\n",
    "    # Verify the credential (checks the public key, signature, etc.)\n",
    "    success = web_authn.verify_create(credential)\n",
    "    if success:\n",
    "        return 'Credential successfully created!'  # Confirmation message\n",
    "    else:\n",
    "        return 'Error creating credential.'\n"
   ]
  },
  {
   "cell_type": "markdown",
   "metadata": {},
   "source": [
    "### Handling Authentication"
   ]
  },
  {
   "cell_type": "markdown",
   "metadata": {},
   "source": [
    "- **Create Authentication Route**: This route prepares the challenge to authenticate the user. It sends a challenge to the frontend, where the user will authenticate using their previously registered credential."
   ]
  },
  {
   "cell_type": "code",
   "execution_count": null,
   "metadata": {},
   "outputs": [],
   "source": [
    "@app.route('/login', methods=['POST'])\n",
    "def login():\n",
    "    user_id = request.json.get('user_id')\n",
    "    \n",
    "    # Prepare the authentication challenge for the user\n",
    "    options = web_authn.prepare_assert(user_id=user_id)\n",
    "    \n",
    "    return jsonify(options)  # Send challenge to frontend to start authentication"
   ]
  },
  {
   "cell_type": "markdown",
   "metadata": {},
   "source": [
    "- **Verify Authentication**: After the user responds to the challenge (by pressing their hardware key or using biometrics), the credential is sent back to the server for verification."
   ]
  },
  {
   "cell_type": "code",
   "execution_count": null,
   "metadata": {},
   "outputs": [],
   "source": [
    "@app.route('/login/verify', methods=['POST'])\n",
    "def verify_login():\n",
    "    # Receive the authentication data from the frontend\n",
    "    credential = request.json.get('credential')\n",
    "\n",
    "    # Verify the assertion (check the user's response to the authentication challenge)\n",
    "    success = web_authn.verify_assert(credential)\n",
    "    if success:\n",
    "        return 'Authentication successful!'  # Success message\n",
    "    else:\n",
    "        return 'Authentication failed.'  # Failure message"
   ]
  },
  {
   "cell_type": "markdown",
   "metadata": {},
   "source": [
    "## Flask-Security\n",
    "powerful extension that allows you to implement common security features like authentication, user registration, role management, and more. This tutorial will guide you through each of the listed features:"
   ]
  },
  {
   "cell_type": "markdown",
   "metadata": {},
   "source": [
    "- Authentication (via session, Basic HTTP, or token)\n",
    "- User registration (optional)\n",
    "- Role and Permission management\n",
    "- Account activation (via email confirmation) (optional)\n",
    "- Password management (recovery and resetting) (optional)\n",
    "- Two-factor authentication (optional)\n",
    "- WebAuthn Support (optional)\n",
    "- Use ‘social’/Oauth for authentication (e.g. google, github, ..) (optional)\n",
    "- Change email (optional)\n",
    "- Login tracking (optional)\n",
    "- JSON/Ajax Support"
   ]
  },
  {
   "cell_type": "markdown",
   "metadata": {},
   "source": [
    "### Prerequisites\n",
    "Before starting, ensure you have the following installed:\n",
    "\n",
    "- Flask\n",
    "- Flask-SQLAlchemy\n",
    "- Flask-Security\n",
    "- Flask-Bcrypt\n",
    "- Flask-Migrate\n",
    "- Flask-Mail (for email support)"
   ]
  },
  {
   "cell_type": "code",
   "execution_count": null,
   "metadata": {},
   "outputs": [],
   "source": [
    "# Installation Prerequisites\n",
    "!pip install Flask-SQLAlchemy Flask-WTF Flask-Bcrypt Flask-Migrate Flask-Mail Flask-OAuthlib"
   ]
  },
  {
   "cell_type": "code",
   "execution_count": null,
   "metadata": {},
   "outputs": [],
   "source": [
    "# Installation\n",
    "!pip install Flask-Security"
   ]
  },
  {
   "cell_type": "code",
   "execution_count": null,
   "metadata": {},
   "outputs": [],
   "source": [
    "from flask import Flask\n",
    "from flask_sqlalchemy import SQLAlchemy\n",
    "from flask_migrate import Migrate\n",
    "from flask_security import Security, SQLAlchemyUserDatastore\n",
    "from flask_bcrypt import Bcrypt\n",
    "from flask_mail import Mail\n",
    "\n",
    "# Initialize extensions\n",
    "db = SQLAlchemy()\n",
    "migrate = Migrate()\n",
    "bcrypt = Bcrypt()\n",
    "mail = Mail()\n",
    "\n",
    "# Flask-Security setup\n",
    "security = Security()\n",
    "\n",
    "def create_app(config_class='config.Config'):\n",
    "    app = Flask(__name__)\n",
    "    app.config.from_object(config_class)\n",
    "\n",
    "    # Initialize extensions\n",
    "    db.init_app(app)\n",
    "    migrate.init_app(app, db)\n",
    "    bcrypt.init_app(app)\n",
    "    mail.init_app(app)\n",
    "    \n",
    "    from models import User,Role\n",
    "    \n",
    "    security.init_app(app, SQLAlchemyUserDatastore(db, User, Role))\n",
    "\n",
    "    from . import routes\n",
    "    app.register_blueprint(routes.bp)\n",
    "\n",
    "    return app\n"
   ]
  },
  {
   "cell_type": "markdown",
   "metadata": {},
   "source": [
    "### Role and Permission Management\n",
    "makes it easy to manage roles and permissions within your application. This allows you to create different user roles (e.g., Admin, User) and restrict access to certain parts of the application based on the user's role."
   ]
  },
  {
   "cell_type": "markdown",
   "metadata": {},
   "source": [
    "#### Define Roles\n",
    "Flask-Security expects certain models and relationships for role-based access control (**RBAC**)."
   ]
  },
  {
   "cell_type": "markdown",
   "metadata": {},
   "source": [
    "- **1. Role Model**:\n",
    "    - The Role model defines a role (e.g., Admin, User, Moderator, etc.).\n",
    "    - Use Flask-Security's RoleMixin to automatically add role-specific behavior."
   ]
  },
  {
   "cell_type": "code",
   "execution_count": null,
   "metadata": {},
   "outputs": [],
   "source": [
    "from flask_security import RoleMixin, UserMixin\n",
    "from . import db\n",
    "\n",
    "class Role(db.Model, RoleMixin):\n",
    "    id = db.Column(db.Integer, primary_key=True)\n",
    "    name = db.Column(db.String(80), unique=True)  # 'admin', 'user', etc.\n",
    "    description = db.Column(db.String(255))  # Optional description"
   ]
  },
  {
   "cell_type": "markdown",
   "metadata": {},
   "source": [
    "- **2.User Model**:\n",
    "    - The User model represents the users in the system.\n",
    "    - Use Flask-Security’s UserMixin to add user-specific behavior like checking if the user is authenticated, active, etc."
   ]
  },
  {
   "cell_type": "code",
   "execution_count": null,
   "metadata": {},
   "outputs": [],
   "source": [
    "class User(db.Model, UserMixin):\n",
    "    id = db.Column(db.Integer, primary_key=True)\n",
    "    email = db.Column(db.String(255), unique=True)\n",
    "    password = db.Column(db.String(255))\n",
    "    active = db.Column(db.Boolean())\n",
    "    # Define many-to-many relationship between User and Role\n",
    "    roles = db.relationship('Role', secondary='user_roles')"
   ]
  },
  {
   "cell_type": "markdown",
   "metadata": {},
   "source": [
    "- **3. Association Table (UserRoles)**:\n",
    "    - This table links users to roles using a many-to-many relationship. It allows one user to have multiple roles."
   ]
  },
  {
   "cell_type": "code",
   "execution_count": null,
   "metadata": {},
   "outputs": [],
   "source": [
    "class UserRoles(db.Model):\n",
    "    id = db.Column(db.Integer, primary_key=True)\n",
    "    user_id = db.Column(db.Integer, db.ForeignKey('user.id', ondelete='CASCADE'))\n",
    "    role_id = db.Column(db.Integer, db.ForeignKey('role.id', ondelete='CASCADE'))"
   ]
  },
  {
   "cell_type": "markdown",
   "metadata": {},
   "source": [
    "This setup allows you to define different roles, assign users multiple roles, and use Flask-Security’s decorators (like **@roles_required**) to restrict access to routes based on roles."
   ]
  },
  {
   "cell_type": "markdown",
   "metadata": {},
   "source": [
    "- **Why This Model?**\n",
    "    - **RoleMixin**: Automatically provides useful methods for role management.\n",
    "    - **UserMixin**: Automatically provides user-related methods like is_authenticated, is_active, and more.\n",
    "    - **Many-to-many relationship**: A flexible way to handle users with multiple roles, common in RBAC systems."
   ]
  },
  {
   "cell_type": "markdown",
   "metadata": {},
   "source": [
    "#### Assign Roles to Users"
   ]
  },
  {
   "cell_type": "code",
   "execution_count": null,
   "metadata": {},
   "outputs": [],
   "source": [
    "from flask_security import SQLAlchemyUserDatastore\n",
    "\n",
    "# Initialize SQLAlchemyUserDatastore\n",
    "user_datastore = SQLAlchemyUserDatastore(db, User, Role)\n",
    "\n",
    "# Assign a role to a user (for example, Admin)\n",
    "user = user_datastore.get_user(user_id)\n",
    "user_datastore.add_role_to_user(user, 'admin')\n",
    "db.session.commit()"
   ]
  },
  {
   "cell_type": "markdown",
   "metadata": {},
   "source": [
    "#### Protect routes"
   ]
  },
  {
   "cell_type": "code",
   "execution_count": null,
   "metadata": {},
   "outputs": [],
   "source": [
    "from flask_security import roles_required\n",
    "\n",
    "@app.route('/admin')\n",
    "@roles_required('admin')  # Only accessible to users with the 'admin' role\n",
    "def admin():\n",
    "    return \"Welcome, Admin!\""
   ]
  },
  {
   "cell_type": "markdown",
   "metadata": {},
   "source": [
    "###  Account Activation (via Email Confirmation)\n",
    "helps verify the user's email before allowing them to use the system. Flask-Security provides built-in support for email confirmation."
   ]
  },
  {
   "cell_type": "markdown",
   "metadata": {},
   "source": [
    "#### Enable Account Activation\n",
    "by adding SECURITY_CONFIRMABLE = True in your config.py."
   ]
  },
  {
   "cell_type": "code",
   "execution_count": null,
   "metadata": {},
   "outputs": [],
   "source": [
    "# Enable email confirmation for account activation\n",
    "SECURITY_CONFIRMABLE = True  # Required for email confirmation (account activation)\n",
    "\n",
    "# Option to send a welcome email after registration\n",
    "SECURITY_SEND_REGISTER_EMAIL = False  # Set to False to prevent sending a welcome email until account is activated"
   ]
  },
  {
   "cell_type": "markdown",
   "metadata": {},
   "source": [
    "#### Configure Flask-Mail\n",
    "Ensure that Flask-Mail is configured to send emails. Add your mail server configuration in config.py."
   ]
  },
  {
   "cell_type": "code",
   "execution_count": null,
   "metadata": {},
   "outputs": [],
   "source": [
    "# Flask-Mail settings (for sending emails)\n",
    "MAIL_SERVER = 'smtp.gmail.com'\n",
    "MAIL_PORT = 587\n",
    "MAIL_USE_TLS = True\n",
    "MAIL_USERNAME = 'your_email@gmail.com'\n",
    "MAIL_PASSWORD = 'your_email_password'\n",
    "MAIL_DEFAULT_SENDER = 'your_email@gmail.com'  # Sender email address for confirmation emails"
   ]
  },
  {
   "cell_type": "markdown",
   "metadata": {},
   "source": [
    "#### Handling Registration Logic in Registration Route"
   ]
  },
  {
   "cell_type": "code",
   "execution_count": null,
   "metadata": {},
   "outputs": [],
   "source": [
    "# routes.py\n",
    "from flask import render_template, redirect, url_for, flash\n",
    "from flask_security.utils import hash_password, send_confirmation_instructions\n",
    "from yourapp.models import User  # Import your User model\n",
    "from yourapp import db  # Your SQLAlchemy instance\n",
    "from yourapp.forms import RegistrationForm\n",
    "\n",
    "@app.route('/register', methods=['GET', 'POST'])\n",
    "def register():\n",
    "    form = RegistrationForm()\n",
    "    if form.validate_on_submit():\n",
    "        # Check if the user already exists\n",
    "        existing_user = User.query.filter_by(email=form.email.data).first()\n",
    "        if existing_user:\n",
    "            flash('A user with that email already exists', 'danger')\n",
    "            return redirect(url_for('register'))\n",
    "        \n",
    "        # Create a new user\n",
    "        new_user = User(\n",
    "            email=form.email.data,\n",
    "            password=hash_password(form.password.data),  # Use hash_password from Flask-Security\n",
    "            active=False  # New user is not active until they confirm their email\n",
    "        )\n",
    "        db.session.add(new_user)\n",
    "        db.session.commit()\n",
    "\n",
    "        # Send confirmation email\n",
    "        send_confirmation_instructions(new_user)  # Flask-Security utility to send the confirmation email\n",
    "\n",
    "        flash('A confirmation email has been sent. Please check your inbox.', 'info')\n",
    "        return redirect(url_for('login'))\n",
    "    \n",
    "    return render_template('register.html', form=form)\n"
   ]
  },
  {
   "cell_type": "markdown",
   "metadata": {},
   "source": [
    "#### Handle Email Confirmation Link (Activation)\n",
    "Flask-Security has a built-in route for handling confirmation links that users click in their email, so you don’t need to manually create a route for that. Once the user clicks the confirmation link, Flask-Security will automatically:\n",
    "- Validate the token in the confirmation link.\n",
    "- Activate the user by setting active=True."
   ]
  },
  {
   "cell_type": "markdown",
   "metadata": {},
   "source": [
    "#### Enforce Email Verification\n",
    "In your views, you can enforce email confirmation using the @confirm_email_required decorator."
   ]
  },
  {
   "cell_type": "code",
   "execution_count": null,
   "metadata": {},
   "outputs": [],
   "source": [
    "from flask_security import confirm_email_required\n",
    "\n",
    "@app.route('/dashboard')\n",
    "@confirm_email_required\n",
    "def dashboard():\n",
    "    return \"Welcome to your dashboard!\""
   ]
  },
  {
   "cell_type": "markdown",
   "metadata": {},
   "source": [
    "Once a user registers, they will receive a confirmation email, and their account will only be activated after they click the confirmation link."
   ]
  },
  {
   "cell_type": "markdown",
   "metadata": {},
   "source": [
    "### Password Management (Recovery and Resetting)\n",
    "Flask-Security supports password recovery and resetting, allowing users to reset their password if they forget it. This feature includes sending a recovery email with a reset link."
   ]
  },
  {
   "cell_type": "markdown",
   "metadata": {},
   "source": [
    "#### Enable Password Recovery"
   ]
  },
  {
   "cell_type": "code",
   "execution_count": null,
   "metadata": {},
   "outputs": [],
   "source": [
    "SECURITY_RECOVERABLE = True"
   ]
  },
  {
   "cell_type": "markdown",
   "metadata": {},
   "source": [
    "#### Configure MAIL_SERVER \n",
    "configure MAIL_SERVER settings to ensure that Flask can send recovery emails."
   ]
  },
  {
   "cell_type": "code",
   "execution_count": null,
   "metadata": {},
   "outputs": [],
   "source": [
    "# Flask-Mail settings for sending recovery emails\n",
    "MAIL_SERVER = 'smtp.gmail.com'  # Use your email provider's SMTP server\n",
    "MAIL_PORT = 587  # Common port for TLS encryption\n",
    "MAIL_USE_TLS = True  # Use TLS encryption\n",
    "MAIL_USERNAME = 'your_email@gmail.com'  # Your email address\n",
    "MAIL_PASSWORD = 'your_email_password'  # Your email password\n",
    "MAIL_DEFAULT_SENDER = 'your_email@gmail.com'  # The sender address for recovery emails"
   ]
  },
  {
   "cell_type": "markdown",
   "metadata": {},
   "source": [
    "####  Create the Password Recovery Form\n",
    "This form will allow the user to input their email address to request a password reset link."
   ]
  },
  {
   "cell_type": "code",
   "execution_count": null,
   "metadata": {},
   "outputs": [],
   "source": [
    "# forms.py\n",
    "from flask_wtf import FlaskForm\n",
    "from wtforms import StringField, SubmitField\n",
    "from wtforms.validators import DataRequired, Email\n",
    "\n",
    "class PasswordRecoveryForm(FlaskForm):\n",
    "    email = StringField('Email', validators=[DataRequired(), Email()])\n",
    "    submit = SubmitField('Recover Password')"
   ]
  },
  {
   "cell_type": "code",
   "execution_count": null,
   "metadata": {},
   "outputs": [],
   "source": [
    "# views.py\n",
    "from flask import render_template, redirect, url_for, flash\n",
    "from .forms import PasswordRecoveryForm\n",
    "from flask_security import send_reset_password_instructions\n",
    "\n",
    "@app.route('/recover', methods=['GET', 'POST'])\n",
    "def recover_password():\n",
    "    form = PasswordRecoveryForm()\n",
    "    if form.validate_on_submit():\n",
    "        email = form.email.data\n",
    "        # Trigger Flask-Security's email sending\n",
    "        send_reset_password_instructions(email)\n",
    "        flash('A password reset email has been sent if the email exists in our system.', 'info')\n",
    "        return redirect(url_for('login'))\n",
    "    return render_template('recover.html', form=form)"
   ]
  },
  {
   "cell_type": "markdown",
   "metadata": {},
   "source": [
    "- The view processes the form submission and triggers Flask-Security's send_reset_password_instructions to send the reset email.\n",
    "- It displays a success message if the form is successfully submitted."
   ]
  },
  {
   "cell_type": "code",
   "execution_count": null,
   "metadata": {
    "vscode": {
     "languageId": "html"
    }
   },
   "outputs": [],
   "source": [
    "<!-- recover.html -->\n",
    "<form method=\"POST\" action=\"{{ url_for('recover_password') }}\">\n",
    "    {{ form.hidden_tag() }}  <!-- CSRF protection -->\n",
    "    <div>\n",
    "        {{ form.email.label }} \n",
    "        {{ form.email() }}  <!-- Email field -->\n",
    "    </div>\n",
    "    <div>\n",
    "        {{ form.submit() }}  <!-- Submit button -->\n",
    "    </div>\n",
    "</form>"
   ]
  },
  {
   "cell_type": "markdown",
   "metadata": {},
   "source": [
    "#### Email Confirmation for Password Recovery\n",
    "Once the user submits the password recovery form, Flask-Security automatically generates a unique token and sends an email to the user. The email contains a link to the password reset page, which includes the token in the URL.<br>\n",
    "\n",
    "- Flask-Security manages this email generation and sending based on the configuration you provided (such as MAIL_SERVER, MAIL_USERNAME, etc.)."
   ]
  },
  {
   "cell_type": "markdown",
   "metadata": {},
   "source": [
    "#### Create the Password Reset Form\n",
    "This form will allow users to reset their password after they click the reset link in their email."
   ]
  },
  {
   "cell_type": "code",
   "execution_count": null,
   "metadata": {},
   "outputs": [],
   "source": [
    "# forms.py\n",
    "from flask_wtf import FlaskForm\n",
    "from wtforms import PasswordField, SubmitField\n",
    "from wtforms.validators import DataRequired, EqualTo\n",
    "\n",
    "class PasswordResetForm(FlaskForm):\n",
    "    password = PasswordField('New Password', validators=[DataRequired()])\n",
    "    password_confirm = PasswordField('Confirm New Password', validators=[DataRequired(), EqualTo('password')])\n",
    "    submit = SubmitField('Reset Password')"
   ]
  },
  {
   "cell_type": "code",
   "execution_count": null,
   "metadata": {},
   "outputs": [],
   "source": [
    "# views.py\n",
    "from flask import render_template, redirect, url_for, flash, request\n",
    "from .forms import PasswordResetForm\n",
    "from flask_security import reset_password\n",
    "\n",
    "@app.route('/reset/<token>', methods=['GET', 'POST'])\n",
    "def reset_password_view(token):\n",
    "    form = PasswordResetForm()\n",
    "    if form.validate_on_submit():\n",
    "        new_password = form.password.data\n",
    "        # Call Flask-Security's reset_password function with the token\n",
    "        if reset_password(token, new_password):\n",
    "            flash('Your password has been reset successfully.', 'success')\n",
    "            return redirect(url_for('login'))\n",
    "        else:\n",
    "            flash('The reset token is invalid or expired.', 'danger')\n",
    "            return redirect(url_for('recover_password'))\n",
    "    return render_template('reset_password.html', form=form)\n"
   ]
  },
  {
   "cell_type": "markdown",
   "metadata": {},
   "source": [
    "<!-- reset_password.html -->\n",
    "<form method=\"POST\" action=\"{{ url_for('reset_password_view', token=token) }}\">\n",
    "    {{ form.hidden_tag() }}  <!-- CSRF protection -->\n",
    "    <div>\n",
    "        {{ form.password.label }} \n",
    "        {{ form.password() }}  <!-- New password field -->\n",
    "    </div>\n",
    "    <div>\n",
    "        {{ form.password_confirm.label }} \n",
    "        {{ form.password_confirm() }}  <!-- Confirm password field -->\n",
    "    </div>\n",
    "    <div>\n",
    "        {{ form.submit() }}  <!-- Submit button -->\n",
    "    </div>\n",
    "</form>\n"
   ]
  },
  {
   "cell_type": "markdown",
   "metadata": {},
   "source": [
    "When the form is submitted, Flask-Security:\n",
    "\n",
    "- Verifies that the reset token is valid (it was included in the email link).\n",
    "- Verifies that the new password and password confirmation match.\n",
    "Hashes the new password and updates the user’s record in the database.\n"
   ]
  },
  {
   "cell_type": "markdown",
   "metadata": {},
   "source": [
    "#### Automatic Email Notifications\n",
    "Flask-Security automatically sends an email when the password is successfully reset, notifying the user that their password has been changed."
   ]
  },
  {
   "cell_type": "markdown",
   "metadata": {},
   "source": [
    "#### Additional Notes\n",
    "- **Token Expiration**: Flask-Security uses tokens for password recovery that expire after a certain period for security reasons. You can control this with the **SECURITY_RESET_SALT** and **SECURITY_RESET_WITHIN** settings."
   ]
  },
  {
   "cell_type": "markdown",
   "metadata": {},
   "source": [
    "# Sources\n",
    "- <a href=\"https://www.youtube.com/playlist?list=PL7yh-TELLS1EyAye_UMnlsTGKxg8uatkM\">Flask Tutorial Series by NeuralNine</a>\n",
    "- <a href=\"https://www.youtube.com/watch?v=Qr4QMBUPxWo&t=1581s&pp=ygUVZGF0YSBzY2llbmNlIGJvb3RjYW1w\">Flask Course - Python Web Application Development by freeCodeCamp.org</a>\n",
    "- <a href=\"https://www.youtube.com/watch?v=whEObh8waxg&ab_channel=NeuralNine\">Online Web Chat in Python With Flask</a>\n",
    "- <a href=\"https://getlazy.ai/post/flask-admin-templates\">Building Professional Interfaces with Flask Admin Templates</a>"
   ]
  }
 ],
 "metadata": {
  "kernelspec": {
   "display_name": "base",
   "language": "python",
   "name": "python3"
  },
  "language_info": {
   "codemirror_mode": {
    "name": "ipython",
    "version": 3
   },
   "file_extension": ".py",
   "mimetype": "text/x-python",
   "name": "python",
   "nbconvert_exporter": "python",
   "pygments_lexer": "ipython3",
   "version": "3.11.7"
  }
 },
 "nbformat": 4,
 "nbformat_minor": 2
}
