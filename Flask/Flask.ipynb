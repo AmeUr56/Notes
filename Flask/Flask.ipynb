{
 "cells": [
  {
   "cell_type": "markdown",
   "metadata": {},
   "source": [
    "# Virtual Enviroment"
   ]
  },
  {
   "cell_type": "markdown",
   "metadata": {},
   "source": [
    "## Create VE:"
   ]
  },
  {
   "cell_type": "markdown",
   "metadata": {},
   "source": [
    "in **terminal**:\n",
    "<pre>\n",
    "- python -m venv (directory name).\n",
    "</pre>\n",
    "directory name is usually **.venv**"
   ]
  },
  {
   "cell_type": "code",
   "execution_count": null,
   "metadata": {},
   "outputs": [],
   "source": [
    "!python -m venv .venv"
   ]
  },
  {
   "cell_type": "markdown",
   "metadata": {},
   "source": [
    "## Activate it:"
   ]
  },
  {
   "cell_type": "markdown",
   "metadata": {},
   "source": [
    "#### in Windows:"
   ]
  },
  {
   "cell_type": "code",
   "execution_count": null,
   "metadata": {},
   "outputs": [],
   "source": [
    "!.\\\".venv\"\\Scripts\\activate"
   ]
  },
  {
   "cell_type": "markdown",
   "metadata": {},
   "source": [
    "#### in Linux:"
   ]
  },
  {
   "cell_type": "code",
   "execution_count": null,
   "metadata": {},
   "outputs": [],
   "source": [
    "!source .venv/bin/activate"
   ]
  },
  {
   "cell_type": "markdown",
   "metadata": {},
   "source": [
    "## Deactivating it:"
   ]
  },
  {
   "cell_type": "code",
   "execution_count": null,
   "metadata": {},
   "outputs": [],
   "source": [
    "!deactivate"
   ]
  },
  {
   "cell_type": "markdown",
   "metadata": {},
   "source": [
    "## Saving & Loading Environment Dependencies:"
   ]
  },
  {
   "cell_type": "markdown",
   "metadata": {},
   "source": [
    "#### Saving:"
   ]
  },
  {
   "cell_type": "code",
   "execution_count": null,
   "metadata": {},
   "outputs": [],
   "source": [
    "!pip freeze > requirements.txt"
   ]
  },
  {
   "cell_type": "markdown",
   "metadata": {},
   "source": [
    "#### Installing from a file:"
   ]
  },
  {
   "cell_type": "code",
   "execution_count": null,
   "metadata": {},
   "outputs": [],
   "source": [
    "!pip freeze -r requirements.txt"
   ]
  },
  {
   "cell_type": "markdown",
   "metadata": {},
   "source": [
    "## Deleting VE:"
   ]
  },
  {
   "cell_type": "code",
   "execution_count": null,
   "metadata": {},
   "outputs": [],
   "source": [
    "!rm -rf \".venv\""
   ]
  },
  {
   "cell_type": "markdown",
   "metadata": {},
   "source": [
    "## Set Enviroment Variables:\n",
    "#### **In Comand Prompt:**\n",
    "we use **set** command.<pre>\n",
    "- **FLASK_APP**:which directs to our python files.\n",
    "- **FLASK_RUN_PORT**:to change the **port**,default is 5000.\n",
    "- **FLASK_DEBUG**: to turn on(1) or off(0) debug mode which is used in development only."
   ]
  },
  {
   "cell_type": "markdown",
   "metadata": {},
   "source": [
    "# Flask Project Structure:"
   ]
  },
  {
   "cell_type": "markdown",
   "metadata": {},
   "source": [
    "Structure<pre>\n",
    "_**your_app/**\n",
    "_    app.py     : the **app main** file.\n",
    "_    **templates/** : containts **Templates files** (eg:HTML).\n",
    "_    **static/**    : containts **Styling files** (eg:PNG).\n",
    "_       **css/** : contains **CSS files**.\n",
    "_       **img/** : contains **Images**.\n",
    "_       **js/** : contains **Javascript files**."
   ]
  },
  {
   "cell_type": "markdown",
   "metadata": {},
   "source": [
    "# Flask Tutorial"
   ]
  },
  {
   "cell_type": "markdown",
   "metadata": {},
   "source": [
    "## Create Flask App:\n",
    "you can **run it in terminal** using **flask run** command."
   ]
  },
  {
   "cell_type": "code",
   "execution_count": null,
   "metadata": {},
   "outputs": [],
   "source": [
    "from flask import Flask\n",
    "app = Flask(__name__,template_folder='html_files',static_folder='static')\n"
   ]
  },
  {
   "cell_type": "markdown",
   "metadata": {},
   "source": [
    "- You can specify the templates folder and static folder.\n",
    "- **\\_\\_name\\_\\_**  is magical variable which points to our local file."
   ]
  },
  {
   "cell_type": "markdown",
   "metadata": {},
   "source": [
    "#### Configuration:\n",
    "**app.config** is a dictionary in Flask where you can store configuration variables for the app.<br>\n",
    "Flask extenstions like SQLAlchemy look for specific keys in this dictionary to configure themselves."
   ]
  },
  {
   "cell_type": "markdown",
   "metadata": {},
   "source": [
    "We can save configuration in separated file :"
   ]
  },
  {
   "cell_type": "code",
   "execution_count": null,
   "metadata": {},
   "outputs": [],
   "source": [
    "# config.py\n",
    "SECRET_KEY = 'as48#%^8~+~09d8as8@)#@d4asd56@#^&*as45d)_#%49)((a'\n",
    "SQLALCHEMY_DATABASE_URI = 'sqlite:///./usersdb.db'\n",
    "RECAPTCHA_PUBLIC_KEY = '6LevelUqAAAAACcUUls4-j2BYltwNj6O06N41NUH'\n",
    "RECAPTCHA_PRIVATE_KEY = '6LevelUqAAAAAATW589QQhU8V4cGzUV4zPWiZhN5'"
   ]
  },
  {
   "cell_type": "code",
   "execution_count": null,
   "metadata": {},
   "outputs": [],
   "source": [
    "import config\n",
    "app = Flask(__name__)\n",
    "# Load configurations from config.py\n",
    "app.config.from_object(config)"
   ]
  },
  {
   "cell_type": "markdown",
   "metadata": {},
   "source": [
    "## Routes & URLs:"
   ]
  },
  {
   "cell_type": "markdown",
   "metadata": {},
   "source": [
    "### Routes:\n",
    "are the pages in the webapp.<br>\n",
    "We specify the **url** of page using the decorator **app.route** for a **function** which it will handle the all requests that are ariving to that url.\n",
    "#### **Notes:**<pre>\n",
    "- All URLs must start with **/**.\n",
    "- Home URL is **/**."
   ]
  },
  {
   "cell_type": "code",
   "execution_count": null,
   "metadata": {},
   "outputs": [],
   "source": [
    "# Add the Home Page\n",
    "@app.route(\"/\")\n",
    "def home():\n",
    "    return 'Welcome To Our Simple Webapp'"
   ]
  },
  {
   "cell_type": "markdown",
   "metadata": {},
   "source": [
    "### Dynamic Routes:\n",
    "for example in facebook, each user profile has its unique page<br>\n",
    "so the developers of facebook ,when a new user sign up, they create new route ? of course no.<br>\n",
    "The dynamic route is used, which **takes input** using **\\<type:input\\>** and new page is directly used for it.<br>\n",
    "-**Default Type** is string.\n",
    "#### **Note**:<pre>\n",
    "- if the input value type is not same as specific type, no url will appear."
   ]
  },
  {
   "cell_type": "code",
   "execution_count": null,
   "metadata": {},
   "outputs": [],
   "source": [
    "# Add Dynamic About Page\n",
    "@app.route(\"/about/<username>\")\n",
    "def about(username):\n",
    "    return f\"<h1>Hello {username}<h1>\""
   ]
  },
  {
   "cell_type": "markdown",
   "metadata": {},
   "source": [
    "### URL Parameters:\n",
    "in some websites in the url we see for example: **?username=dsa&password=dasda**,which is insecure and used for only unimportant data.<br>\n",
    "here username & password are called **url parameters**<br>\n",
    "-We handle them using **flask request package**"
   ]
  },
  {
   "cell_type": "code",
   "execution_count": null,
   "metadata": {},
   "outputs": [],
   "source": [
    "from flask import request\n",
    "@app.route(\"/login\")\n",
    "def login():\n",
    "    # Get the parameters\n",
    "    username = request.args.get('username')\n",
    "    password = request.args['password']\n",
    "    \n",
    "    # Just priting parameters\n",
    "    return f\"<h1>username = {username}\\npassword = {password}<h1>\""
   ]
  },
  {
   "cell_type": "markdown",
   "metadata": {},
   "source": [
    "The parameters are saved in dictionary.<br>\n",
    "In last example the dict should be:\n",
    "**{\"username\":\"dsa\",\"password\":\"dasda\"}**"
   ]
  },
  {
   "cell_type": "markdown",
   "metadata": {},
   "source": [
    "If you miss or ignore a param you face **BadRequestKeyError**."
   ]
  },
  {
   "cell_type": "markdown",
   "metadata": {},
   "source": [
    "### Request Methods:\n",
    "Flask supports several **HTTP request methods**, allowing you to handle **different types** of request:<br><pre>\n",
    "- **GET**: \n",
    "    - **Purpose**: Retreives data from the server.\n",
    "    - **Usage**: The most common request often used for fetching data(eg:visiting a web page).\n",
    "- **POST**:\n",
    "    - **Purpose**: Sends data to the server,often used for creating or updating resources.\n",
    "    - **Usage**: Common for submitting forms or uploading files.\n",
    "- **PUT**:\n",
    "    - **Purpose**: Updates an existing resource on the server.\n",
    "    - **Usage**: Used for updating data, often with APIs.\n",
    "- **DELETE**:\n",
    "    - **Purpose**: Delete a resource from the server.\n",
    "    - **Usage**: Used to delete records or resources.\n",
    "- **PATCH**:\n",
    "    - **Purpose**: Partially updates a resource.\n",
    "    - **Usage**: Useful for making small changes without replacing the entire resource."
   ]
  },
  {
   "cell_type": "markdown",
   "metadata": {},
   "source": [
    "We specify the methods in the **methods** argument of the **@app.route** decorator.<br>\n",
    "The default method is **GET**."
   ]
  },
  {
   "cell_type": "code",
   "execution_count": null,
   "metadata": {},
   "outputs": [],
   "source": [
    "@app.route('hello',methods=['GET','POST'])\n",
    "def hello():\n",
    "    if request.method == 'GET':\n",
    "        # Do something\n",
    "        pass\n",
    "    else: # Which is here POST method\n",
    "        # Do something\n",
    "        pass"
   ]
  },
  {
   "cell_type": "markdown",
   "metadata": {},
   "source": [
    "### Status Codes:\n",
    "HTTP status code indicate the **result of HTTP request**. Flask allows you to set custom status codes to indicate the success, failure, or type of response.\n",
    "</pre>\n",
    "#### **Summary**:<pre>\n",
    "- **1xx**: Informational.\n",
    "- **2xx**: Success.\n",
    "- **3xx**: Redirection required.\n",
    "- **4xx**: Client-side error.\n",
    "- **5xx**: Server-side error.\n",
    "##### **Custom Status Codes:**<pre>\n",
    "- **200 OK**: Request was succeful(default for GET).\n",
    "- **201 Created**: The request was succeful, and a new resource was created.\n",
    "- **400 Bad Request**: The request was invalid or cannot be processed.\n",
    "- **401 Unauthorized**: Authenticatoin is required ir has failed.\n",
    "- **404 Not Found**: The requested resource could not be found.\n",
    "- **500 Internal Server Error**: A generic server error occured."
   ]
  },
  {
   "cell_type": "code",
   "execution_count": null,
   "metadata": {},
   "outputs": [],
   "source": [
    "@app.route('/success')\n",
    "def success():\n",
    "    return 'Success',200 # Custom Status Code for OK"
   ]
  },
  {
   "cell_type": "markdown",
   "metadata": {},
   "source": [
    "### Custome Responses:\n",
    "We can create custom responses by returning more than just a **string or JSON**. You can return a **response object** that includes a **custom status code**, **headers** , or other details.<br>\n",
    "This allows you to customize how the server responds to specific requests."
   ]
  },
  {
   "cell_type": "markdown",
   "metadata": {},
   "source": [
    "**jsonify** is a Flask Utility that converts **Python data structure** into **valid JSON response**."
   ]
  },
  {
   "cell_type": "code",
   "execution_count": null,
   "metadata": {},
   "outputs": [],
   "source": [
    "from flask import jsonify,make_response\n",
    "\n",
    "@app.route('/custom')\n",
    "def custom():\n",
    "    # Creating a Custom JSON response with 201 (Created) Status Code\n",
    "    response = make_response(jsonify('Hello','What\\'s up'))\n",
    "    response.status_code = 201\n",
    "    # Custom Headers\n",
    "    response.headers['Custom-Header'] = 'CustomValue'\n",
    "    return response"
   ]
  },
  {
   "cell_type": "markdown",
   "metadata": {},
   "source": [
    "### Custom Response Structure:<pre>\n",
    "- **Response Body:** You can return custom content (like JSON or HTML).\n",
    "- **Custom Headers:** Add custom headers to the response.\n",
    "- **Custom Status Code:** Set an appropriate HTTP status code."
   ]
  },
  {
   "cell_type": "markdown",
   "metadata": {},
   "source": [
    "## Templates:"
   ]
  },
  {
   "cell_type": "markdown",
   "metadata": {},
   "source": [
    "We **save** templates in folder usually called **templates** or specify the directory:"
   ]
  },
  {
   "cell_type": "code",
   "execution_count": null,
   "metadata": {},
   "outputs": [],
   "source": [
    "app = Flask(__name__,template_folder='html_files')"
   ]
  },
  {
   "cell_type": "markdown",
   "metadata": {},
   "source": [
    "### Rendering HTML Templates:"
   ]
  },
  {
   "cell_type": "markdown",
   "metadata": {},
   "source": [
    "\n",
    "using **render_template**<br>\n",
    "##### Params:<pre>\n",
    "- **Template Name**: the name of  HTML or JSON file.\n",
    "- **Context**: the Dynamic Variables to make avaible in template."
   ]
  },
  {
   "cell_type": "code",
   "execution_count": null,
   "metadata": {},
   "outputs": [],
   "source": [
    "from flask import render_template\n",
    "# Add the Home Page\n",
    "@app.route(\"/\")\n",
    "def home():\n",
    "    name = 'JOHN'\n",
    "    ages = [10,5,40,31,26,12]\n",
    "    return render_template('home.html',name=name,ages=ages)"
   ]
  },
  {
   "cell_type": "markdown",
   "metadata": {},
   "source": [
    "We use jinja2 engine in the template file to accept inputs."
   ]
  },
  {
   "cell_type": "markdown",
   "metadata": {},
   "source": [
    "### Jinja2 Templating Language:<pre>"
   ]
  },
  {
   "cell_type": "markdown",
   "metadata": {},
   "source": [
    "#### Syntax:\n",
    "- **Expressing Statement**: {{ variable_name }}\n",
    "- **Control Structures(if,for,while,..)**: {% for item in my_list %} --> do something --> {% endfor %}\n",
    "- **Block**: {% block 'block_name' %} default value {% endblock %}.\n",
    "- **Extends**: {% extends \"base.html\" %}\n",
    "- **Filters**: {{ variable_name|filter1|filter2|... }}.\n",
    "- **Define Temporarily Variable**: {% with %}\n",
    "</pre>\n",
    "\n",
    "**Example:**<br>\n",
    "the HTML code for last python code:<pre>"
   ]
  },
  {
   "cell_type": "code",
   "execution_count": null,
   "metadata": {
    "vscode": {
     "languageId": "html"
    }
   },
   "outputs": [],
   "source": [
    "<body\\>\n",
    "    <ul\\>\n",
    "        {% for age in ages %}\n",
    "         <li\\>{{ age }}</li\\>\n",
    "        {\\% endfor %}\n",
    "    </ul\\>\n",
    " </body\\>"
   ]
  },
  {
   "cell_type": "markdown",
   "metadata": {},
   "source": [
    "#### Extending(Inhereting) Templates:\n",
    "for example all the templates in the app have the same navigation or same head section, we dont wanna rewrite it everytime.<br>\n",
    "So we **keep only** the **unique content** and **everything else is same** as other files.<br>\n"
   ]
  },
  {
   "cell_type": "markdown",
   "metadata": {},
   "source": [
    "##### **Steps:**\n",
    "1- We first **create** the **base template** which other files inherent from it.<br>\n",
    "2- Write in it the **constant content**.<br>\n",
    "3- Specify int it the **dynamic parts** using **block statement**.<br>\n",
    "4- In other files which will inheret from the base file,use **extends statement**.<br>\n",
    "5- Then use **block statement** to specify the values of the **blocks** are specific in base template. "
   ]
  },
  {
   "cell_type": "markdown",
   "metadata": {},
   "source": [
    "##### **Example:**"
   ]
  },
  {
   "cell_type": "markdown",
   "metadata": {},
   "source": [
    "<h5>Base Template:</h5>"
   ]
  },
  {
   "cell_type": "code",
   "execution_count": null,
   "metadata": {
    "vscode": {
     "languageId": "html"
    }
   },
   "outputs": [],
   "source": [
    "<html>\n",
    "    <head>\n",
    "        <title>{% block title %}Home{% endblock %}</title>\n",
    "    </head>\n",
    "    <body>\n",
    "        <h1> This is ALWAYS HERE</h1>\n",
    "        {% block content%}{% endblock%} \n",
    "    </body>\n",
    "</html>"
   ]
  },
  {
   "cell_type": "markdown",
   "metadata": {},
   "source": [
    "<h5>Other Template:</h5>"
   ]
  },
  {
   "cell_type": "code",
   "execution_count": null,
   "metadata": {
    "vscode": {
     "languageId": "html"
    }
   },
   "outputs": [],
   "source": [
    "{% extends \"base_template.html\" %}\n",
    "{% block content %}\n",
    "        <h1>Hello {{ name }}</h1>\n",
    "        <ul>\n",
    "            {% for item in my_list %}\n",
    "            <li>{{item}}</li>\n",
    "            {% endfor %}\n",
    "        </ul>\n",
    "{% endblock %}"
   ]
  },
  {
   "cell_type": "markdown",
   "metadata": {},
   "source": [
    "In this Example,other files have inheret everything in the base temp except <title\\>, <body\\>."
   ]
  },
  {
   "cell_type": "markdown",
   "metadata": {},
   "source": [
    "#### Filters:\n",
    "are used to **modify** the output of variables or expressions.<br>\n",
    "They are applied using the **pipe** (|) symbol.<br>\n",
    "**Some Common Filters:**<br>\n",
    "- lower.<br>\n",
    "- length.<br>\n",
    "- replace('old','new')<br>\n",
    "..."
   ]
  },
  {
   "cell_type": "markdown",
   "metadata": {},
   "source": [
    "We can create custom filters to apply custom operators."
   ]
  },
  {
   "cell_type": "code",
   "execution_count": null,
   "metadata": {},
   "outputs": [],
   "source": [
    "@app.template_filter('reverse_string')\n",
    "def reverse_string(s):\n",
    "    return s[::-1]"
   ]
  },
  {
   "cell_type": "markdown",
   "metadata": {},
   "source": [
    "### Dynamic URLs:\n",
    "**url_for** utility is used to **dynamically generate URLs** for routes defined in your application.It helps **avoid hardcoding URLs**,making the app more flexible and maintainable."
   ]
  },
  {
   "cell_type": "code",
   "execution_count": null,
   "metadata": {},
   "outputs": [],
   "source": [
    "from flask import url_for\n",
    "@app.route('/user/<username>')\n",
    "def show_user(username):\n",
    "    return f\"{username}\"\n",
    "\n",
    "print(url_for('show_user',username='john'))"
   ]
  },
  {
   "cell_type": "markdown",
   "metadata": {},
   "source": [
    "In Jinja2:"
   ]
  },
  {
   "cell_type": "code",
   "execution_count": null,
   "metadata": {
    "vscode": {
     "languageId": "html"
    }
   },
   "outputs": [],
   "source": [
    "{{ url_for('show_user') }}"
   ]
  },
  {
   "cell_type": "markdown",
   "metadata": {},
   "source": [
    "### Redirect:\n",
    "**redirect** utility is used to redirect a client to a **different URL**."
   ]
  },
  {
   "cell_type": "code",
   "execution_count": null,
   "metadata": {},
   "outputs": [],
   "source": [
    "from flask import redirect\n",
    "@app.route('login',methods=['GET','POST'])\n",
    "def login():\n",
    "    if request.method == 'GET':\n",
    "        return render_template('login.html')\n",
    "    else: # POST method\n",
    "        return redirect(url_for('welcome'))"
   ]
  },
  {
   "cell_type": "markdown",
   "metadata": {},
   "source": [
    "## Forms & Json:"
   ]
  },
  {
   "cell_type": "markdown",
   "metadata": {},
   "source": [
    "### Handling Forms:\n",
    "**Two Methods:**<br>\n",
    "- Plain Html Forms.\n",
    "- Flask-WTF/WTForms.<br>\n",
    "\n",
    "**When to Use Them:** <br>\n",
    "<table>\n",
    "    <tr>\n",
    "        <th></th>\n",
    "        <th>Plain HTML Forms</th>\n",
    "        <th>Flask-WTF/WTForms</th>\n",
    "    </tr>\n",
    "    <tr>\n",
    "        <th>Simplicity</th>\n",
    "        <td>Form is extremely simple.</td>\n",
    "        <td>Need more complex form handling.</td>\n",
    "    </tr>\n",
    "    <tr>\n",
    "        <th>Validation</th>\n",
    "        <td>Rely solely on client-side validation.</td>\n",
    "        <td>Forms require server-side validation.</td>\n",
    "    </tr>\n",
    "    <tr>\n",
    "        <th>Security</th>\n",
    "        <td>Not dealing with sensitive data and security isn’t a concern.</td>\n",
    "        <td>Reverse.</td>\n",
    "    </tr>\n",
    "    <tr>\n",
    "        <th>Maintainess</th>\n",
    "        <td>Reverse.</td>\n",
    "        <td>Want to keep your codebase clean, modular, and easy to maintain as your application grows.</td>\n",
    "    </tr>\n",
    "</table>\n",
    "\n",
    "**Conclusion:**\n",
    "Flask-WTF and WTForms provide a higher level of convenience, security, and maintainability than plain HTML forms."
   ]
  },
  {
   "cell_type": "markdown",
   "metadata": {},
   "source": [
    "#### **First Method(Plain HTML Forms):**\n",
    "we use **request.form** to accept inputs to server.<br>\n",
    "HTML Code (Example):"
   ]
  },
  {
   "cell_type": "code",
   "execution_count": null,
   "metadata": {
    "vscode": {
     "languageId": "html"
    }
   },
   "outputs": [],
   "source": [
    "<form method=\"POST\" action = '{{ url_for(\"about\") }}'>\n",
    "    <label for=\"username\">Username</label>\n",
    "    <input type=\"text\" name=\"username\"><br>\n",
    "    <label for=\"password\">Password</label>\n",
    "    <input required type=\"password\" name=\"password\"><br>\n",
    "    <input type=\"submit\" value='login'>\n",
    "</form>"
   ]
  },
  {
   "cell_type": "markdown",
   "metadata": {},
   "source": [
    "in **input tags**, the **name argument** specifys the key name in the request form args."
   ]
  },
  {
   "cell_type": "code",
   "execution_count": null,
   "metadata": {},
   "outputs": [],
   "source": [
    "@app.route('/login',method = ['GET','POST'])\n",
    "def login():\n",
    "    if request.method == 'GET':\n",
    "        return render_template('login.html')\n",
    "    elif request.method == 'POST':\n",
    "        # For optional inputs\n",
    "        if 'username' in request.form.keys():\n",
    "            username = request.form.get('username')\n",
    "        # For required inputs\n",
    "        password = request.form.get('password')"
   ]
  },
  {
   "cell_type": "markdown",
   "metadata": {},
   "source": [
    "Or ,you can separate the process.<br>\n",
    "Page for **GET** method and has the form inside it but **action argument** directed to the other page which only uses **POST** method to accept args.<br>\n"
   ]
  },
  {
   "cell_type": "markdown",
   "metadata": {},
   "source": [
    "#### **Second Method(Flask-WTF/WTForms):**\n",
    "required packages:\n",
    "<pre>\n",
    "- Flask-WTF</pre>\n",
    "We use new python file we call it **forms.py** for handling forms only.<br><br>\n",
    "Flask-WTF needs a **secret key** for **CSRF** protection"
   ]
  },
  {
   "cell_type": "markdown",
   "metadata": {},
   "source": [
    "##### **Common Fields**:\n",
    "##### Basic Fields:<pre>\n",
    "- **StringField**: For text input.\n",
    "- **TextAreaField**: For multi-line text input.\n",
    "- **PasswordField**: For password input (masked).\n",
    "- **IntegerField**: For integer input.\n",
    "- **FloatField**: For floating-point input.\n",
    "- **DecimalField**: For decimal numbers with a fixed precision.\n",
    "- **BooleanField**: For a checkbox (True/False).\n",
    "- **SelectField**: For dropdown selection.\n",
    "- **SelectMultipleField**: For multiple selections from a dropdown.\n",
    "- **FileField**: For file uploads.\n",
    "- **DateField**: For date input.\n",
    "- **TimeField**: For time input.\n",
    "- **DateTimeField**: For date and time input.</pre>\n",
    "##### Special Fields:<pre>\n",
    "- **EmailField**: For email input.\n",
    "- **URLField**: For URLs.\n",
    "- **TelField**: For telephone numbers.\n",
    "- **ColorField**: For color input.\n",
    "- **HiddenField**: For hidden inputs.</pre><br>\n",
    "\n",
    "##### **Common Validators:**\n",
    "##### Data Validators:<pre>\n",
    "- **DataRequired**: Ensures the field is not empty.\n",
    "- **Length**: Validates the length of the input (min and max).\n",
    "- **Email**: Validates that the input is a valid email address.\n",
    "- **URL**: Validates that the input is a valid URL.\n",
    "- **NumberRange**: Validates that the input is within a specified range.\n",
    "- **Optional**: Marks the field as optional.</pre>\n",
    "##### Type Validators:<pre>\n",
    "- **AnyOf**: Validates that the input matches one of the specified values.\n",
    "- **NoneOf**: Validates that the input does not match any of the specified values.\n",
    "- **EqualTo**: Validates that the input matches another field's value (commonly used for password confirmation).</pre>\n",
    "##### Custom Validators:\n",
    "You can create custom validators by defining a **function** and raising **ValidationError** for invalid input."
   ]
  },
  {
   "cell_type": "markdown",
   "metadata": {},
   "source": [
    "**1-Create a Form Class:**<br> In **forms.py**, define your forms using WTForms. Each **form class** corresponds to a form on the frontend, and each **form field** corresponds to an input in the HTML form."
   ]
  },
  {
   "cell_type": "code",
   "execution_count": null,
   "metadata": {},
   "outputs": [],
   "source": [
    "from flask_wtf import FlaskForm\n",
    "from wtforms import StringField, PasswordField, SubmitField\n",
    "from wtforms.validators import DataRequired, Length, Email, EqualTo\n",
    "\n",
    "class RegistrationForm(FlaskForm):\n",
    "    username = StringField('Username', validators=[DataRequired(), Length(min=2, max=20)])\n",
    "    email = StringField('Email', validators=[DataRequired(), Email()])\n",
    "    password = PasswordField('Password', validators=[DataRequired()])\n",
    "    confirm_password = PasswordField('Confirm Password', validators=[DataRequired(), EqualTo('password')])\n",
    "    submit = SubmitField('Sign Up')\n"
   ]
  },
  {
   "cell_type": "markdown",
   "metadata": {},
   "source": [
    "**2-Render the Form in HTML:**<br> Now, create the **HTML template** that will **render the form**."
   ]
  },
  {
   "cell_type": "code",
   "execution_count": null,
   "metadata": {
    "vscode": {
     "languageId": "html"
    }
   },
   "outputs": [],
   "source": [
    "<form method=\"POST\" action=\"\">\n",
    "    {{ form.hidden_tag() }}\n",
    "    \n",
    "    <p>\n",
    "        {{ form.username.label }}<br>\n",
    "        {{ form.username(size=20) }}<br>\n",
    "        {% for error in form.username.errors %}\n",
    "            <span style=\"color: red;\">[{{ error }}]</span>\n",
    "        {% endfor %}\n",
    "    </p>\n",
    "\n",
    "    <p>\n",
    "        {{ form.email.label }}<br>\n",
    "        {{ form.email(size=20) }}<br>\n",
    "        {% for error in form.email.errors %}\n",
    "            <span style=\"color: red;\">[{{ error }}]</span>\n",
    "        {% endfor %}\n",
    "    </p>\n",
    "\n",
    "    <p>\n",
    "        {{ form.password.label }}<br>\n",
    "        {{ form.password(size=20) }}<br>\n",
    "        {% for error in form.password.errors %}\n",
    "            <span style=\"color: red;\">[{{ error }}]</span>\n",
    "        {% endfor %}\n",
    "    </p>\n",
    "\n",
    "    <p>\n",
    "        {{ form.confirm_password.label }}<br>\n",
    "        {{ form.confirm_password(size=20) }}<br>\n",
    "        {% for error in form.confirm_password.errors %}\n",
    "            <span style=\"color: red;\">[{{ error }}]</span>\n",
    "        {% endfor %}\n",
    "    </p>\n",
    "\n",
    "    <p>{{ form.submit() }}</p>\n",
    "</form>\n"
   ]
  },
  {
   "cell_type": "markdown",
   "metadata": {},
   "source": [
    "**size** parameter specifies the width of the input field."
   ]
  },
  {
   "cell_type": "markdown",
   "metadata": {},
   "source": [
    "**3-Handling Form Submission and Validation**<br>\n",
    "In **app.py**, update your route to handle both **GET** (to show the form) and **POST** (to handle the form submission) requests."
   ]
  },
  {
   "cell_type": "code",
   "execution_count": null,
   "metadata": {},
   "outputs": [],
   "source": [
    "from forms import RegistrationForm\n",
    "\n",
    "@app.route('/register', methods=['GET', 'POST'])\n",
    "def register():\n",
    "    form = RegistrationForm()\n",
    "    if form.validate_on_submit():\n",
    "        flash(f'Account created for {form.username.data}!', 'success')\n",
    "        return redirect(url_for('index'))\n",
    "    return render_template('form.html', form=form)"
   ]
  },
  {
   "cell_type": "markdown",
   "metadata": {},
   "source": [
    "**form.validate_on_submit()**: This will check if the form was submitted (**POST request**) and **validate** the input fields based on the validators specified in the **form class**."
   ]
  },
  {
   "cell_type": "markdown",
   "metadata": {},
   "source": [
    "### Handling Files:"
   ]
  },
  {
   "cell_type": "markdown",
   "metadata": {},
   "source": [
    "#### File Upload:\n",
    "we use **request.files** to accept files to server.\n",
    "HTML Code (Example):"
   ]
  },
  {
   "cell_type": "code",
   "execution_count": null,
   "metadata": {
    "vscode": {
     "languageId": "html"
    }
   },
   "outputs": [],
   "source": [
    "<form method='POST' action=\"{{ url_for('upload') }}\" enctype='multipart/form-data'>\n",
    "    <input type='file' name='file' accept='text/plain'>\n",
    "    <input type='submit' value='upload file'>\n",
    "</form>"
   ]
  },
  {
   "cell_type": "markdown",
   "metadata": {},
   "source": [
    "-the **enctype arg** in form tag specifys that we need only files.<br>\n",
    "-to accept only specific file types use **accept arg** in input tag, in this example it acceps only plain text files. "
   ]
  },
  {
   "cell_type": "code",
   "execution_count": null,
   "metadata": {},
   "outputs": [],
   "source": [
    "@app.route('/upload',methods=['POST'])\n",
    "def upload():\n",
    "    file = request.files['file']\n",
    "    # Show content of this txt file\n",
    "    return jsonify(file.read().decode())"
   ]
  },
  {
   "cell_type": "markdown",
   "metadata": {},
   "source": [
    "#### File Download:\n",
    "we use **send_file** & **send_from_directory** utilities for downloading files.<br>\n",
    "##### **Comparison**:\n",
    "<table>\n",
    "    <tr>\n",
    "        <th></th>\n",
    "        <th>send_file</th>\n",
    "        <th>send_from_directory</th>\n",
    "    </tr>\n",
    "    <tr>\n",
    "        <th>Purpose</th>\n",
    "        <td>Sends a specific file to the client from a givent file path</td>\n",
    "        <td>Sends a file from a specified directory on the server.</td>\n",
    "    </tr>\n",
    "    <tr>\n",
    "        <th>Use</th>\n",
    "        <td>Used when you want to send a single file, such as an image,PDF,...</td>\n",
    "        <td>Useful when serving files from a fixed directory</td>\n",
    "    </tr>\n",
    "    <tr>\n",
    "        <th>Key Differences</th>\n",
    "        <td>Used to send a specific file that you provide via its full path</td>\n",
    "        <td>Used to serve files from within a directory and is generally safer for serving multiple files by just specifying the file name (without hardcoding paths)</td>\n",
    "    </tr>\n",
    "<table>\n"
   ]
  },
  {
   "cell_type": "code",
   "execution_count": null,
   "metadata": {},
   "outputs": [],
   "source": [
    "# Using send_file\n",
    "from flask import send_file\n",
    "\n",
    "@app.route('/download')\n",
    "def download_link():\n",
    "    file_path = 'path/to/file.txt'\n",
    "    return send_file(file_path,as_attachment=True)"
   ]
  },
  {
   "cell_type": "markdown",
   "metadata": {},
   "source": [
    "**as_attachment=True** tells the browser to prompt the user to download the file rather than display it inline."
   ]
  },
  {
   "cell_type": "code",
   "execution_count": null,
   "metadata": {},
   "outputs": [],
   "source": [
    "# Using send_from_directory\n",
    "from flask import send_from_directory\n",
    "\n",
    "@app.route('/download/<filename>')\n",
    "def download(filename):\n",
    "    dir_path = 'path/to/directory'\n",
    "    return send_from_directory(dir_path,filename)"
   ]
  },
  {
   "cell_type": "markdown",
   "metadata": {},
   "source": [
    "### JavaScript JSON Requests:\n",
    "using **request.json**."
   ]
  },
  {
   "cell_type": "markdown",
   "metadata": {},
   "source": [
    "## Static Files:\n"
   ]
  },
  {
   "cell_type": "markdown",
   "metadata": {},
   "source": [
    "We **save** static file in folder usually called **static** or specify the directory & its url path:"
   ]
  },
  {
   "cell_type": "code",
   "execution_count": null,
   "metadata": {},
   "outputs": [],
   "source": [
    "app = Flask(__name__,static_folder='s_files',static_url_path='/')"
   ]
  },
  {
   "cell_type": "markdown",
   "metadata": {},
   "source": [
    "You can also Integrate Bootstrap easily the same way."
   ]
  },
  {
   "cell_type": "markdown",
   "metadata": {},
   "source": [
    "## Sessions & Cookies:\n",
    "<table>\n",
    "    <tr>\n",
    "        <th></th>\n",
    "        <th>Cookies</th>\n",
    "        <th>Sessions</th>\n",
    "    </tr>\n",
    "    <tr>\n",
    "        <th>Storage</th>\n",
    "        <td>Stored on the client's browser.</td>\n",
    "        <td>Stored on the server(session ID in a cookie)</td>\n",
    "    </tr>\n",
    "    <tr>\n",
    "        <th>Security</th>\n",
    "        <td>Less Secure (data is client-side).</td>\n",
    "        <td>More Secure (data is server-side).</td>\n",
    "    </tr>\n",
    "    <tr>\n",
    "        <th>Size</th>\n",
    "        <td>Limited by browser cookie size (~4KB).</td>\n",
    "        <td>Can store more data, as it's stored on the server side.</td>\n",
    "    </tr>\n",
    "    <tr>\n",
    "        <th>Usage</th>\n",
    "        <td>Typically used for simple data (eg:preferences).</td>\n",
    "        <td>Used for more complex user state management (eg:login sessions).</td>\n",
    "    </tr>\n",
    "    <tr>\n",
    "        <th>Expiration</th>\n",
    "        <td>Can be set manually using expiration time.</td>\n",
    "        <td>Can be configured to expire after a period of inactivity.</td>\n",
    "    </tr>\n",
    "</table>"
   ]
  },
  {
   "cell_type": "code",
   "execution_count": null,
   "metadata": {},
   "outputs": [],
   "source": [
    "# Sessions\n",
    "from flask import session\n",
    "\n",
    "@app.route('/sessions')\n",
    "def sessions():\n",
    "    # Set Session\n",
    "    session['username'] = 'JohnDoe'\n",
    "    session['age'] = 10\n",
    "    # Get Session\n",
    "    if 'username' in session.keys(): # Cause the session ID is a cookie which can be deleted, so we need to handle it to avoid error\n",
    "        username = session['username']\n",
    "    # Pop Session\n",
    "    session.pop('age')\n",
    "    # Clear Session\n",
    "    session.clear()\n",
    "    \n",
    "    return 'Handling Sessions -Done'\n"
   ]
  },
  {
   "cell_type": "code",
   "execution_count": null,
   "metadata": {},
   "outputs": [],
   "source": [
    "# Cookies\n",
    "@app.route('/cookies')\n",
    "def cookies():\n",
    "    # Set Cookie\n",
    "    response = make_response('Handling Cookies -Done')\n",
    "    response.set_cookie('username','JognDoe')\n",
    "    \n",
    "    # Get Cookie\n",
    "    cookie = request.cookies['username']\n",
    "    \n",
    "    # Remove Cookie\n",
    "    response = make_response('Handling Cookies -Done')\n",
    "    response.set_cookie('username',expires=0)\n",
    "    \n",
    "    return response"
   ]
  },
  {
   "cell_type": "markdown",
   "metadata": {},
   "source": [
    "### Message Flashing:\n",
    "is a way to **send one-time messages** from the server to the client, usually used for **notifications** such as \"successfully logged in\".<br>\n",
    "We use **flash** to flash messages and **get_flashed_messages** to retrieve those messages in your templates.\n"
   ]
  },
  {
   "cell_type": "code",
   "execution_count": null,
   "metadata": {},
   "outputs": [],
   "source": [
    "from flask import flash\n",
    "@app.route('/login')\n",
    "def login():\n",
    "    flash(\"Successfully logged in\")\n",
    "    return redirect('/')"
   ]
  },
  {
   "cell_type": "markdown",
   "metadata": {},
   "source": [
    "#### Displaying the message in a template with jinja2:"
   ]
  },
  {
   "cell_type": "code",
   "execution_count": null,
   "metadata": {
    "vscode": {
     "languageId": "html"
    }
   },
   "outputs": [],
   "source": [
    "{% with messages = get_flashed_messages() %}\n",
    "    {% if messages %}\n",
    "        <ul>\n",
    "        {% for message in messages %}\n",
    "            <li>{{ message }}</li>\n",
    "        {% endfor %}   \n",
    "        </ul>\n",
    "    {% endif %}\n",
    "{% endwith %}"
   ]
  },
  {
   "cell_type": "markdown",
   "metadata": {},
   "source": [
    "**with categories=True** arg tells **get_flashed_messages** to return the messages as pairs of (category,messages) to **distinguish** between messages for example for styling."
   ]
  },
  {
   "cell_type": "markdown",
   "metadata": {},
   "source": [
    "## Databases:"
   ]
  },
  {
   "cell_type": "markdown",
   "metadata": {},
   "source": [
    "**install**  two new packages:\n",
    "- flask-sqlalchemy.\n",
    "- flask-migrate."
   ]
  },
  {
   "cell_type": "markdown",
   "metadata": {},
   "source": [
    "To avoid **Circular Imports**,we use **Factory Patter**:<pre>\n",
    "- app.py : Contains the **application factory function**.Which is responsible for creating and configuring the flask app instance.\n",
    "- routes.py : This has the routes inside register_routes func, and then imported in app.py\n",
    "- run.py : This is the entry point of the application, where the Flask app is actually run. \n",
    "\n",
    "- models.py : Contains the **database models**, typically using an ORM like SQLALchemy. The models represent the structure of the database tables, and any relationship between them."
   ]
  },
  {
   "cell_type": "code",
   "execution_count": null,
   "metadata": {},
   "outputs": [],
   "source": [
    "from flask_sqlalchemy import SQLAlchemy\n",
    "from flask_migrate import flask_migrate"
   ]
  },
  {
   "cell_type": "markdown",
   "metadata": {},
   "source": [
    "### SQLAlchemy Initialization\n",
    "**db = SQLAlchemy(app)** creates a **database object** (an Object Relational Mapper 'ORM') that will manage all the interactions with the database, including:<pre>\n",
    "- Defining **models** (database tables),\n",
    "- Executing **queries**,\n",
    "- Managing **sessions**(transactions),\n",
    "- Handling **relationships** between tables(foreign keys,one-to-many,...)</pre>\n",
    "This object is a central point that **connects** the **database** with your Flask **app**."
   ]
  },
  {
   "cell_type": "markdown",
   "metadata": {},
   "source": [
    "#### Lazy Initialization:\n",
    "- At the time of writing **db = SQLAlchemy()**, no Flask app instance is passed to it.This is imporant for the **Factory Pattern** because the app may not yet exist at this point.\n",
    "- Later,inside the **create_app()** function, the database object is bound to the actual Flask app using **db.init_app(app)**."
   ]
  },
  {
   "cell_type": "markdown",
   "metadata": {},
   "source": [
    "#### Configuration:\n",
    "**SQLALCHEMY_DATABASE_URI** is the specific key that SQLAlchemy uses to determine the **location** and **type** of the **database** to connect to. This key tells SQLAlchemy which database engine to use(e.g:SQLite,MySQL,PostgreSQL) and where the database is located."
   ]
  },
  {
   "cell_type": "code",
   "execution_count": null,
   "metadata": {},
   "outputs": [],
   "source": [
    "# Example: Using SQLite and In Current Directory\n",
    "engine = 'sqlite'\n",
    "location = './db_name.db'\n",
    "app.config['SQLALCHEMY_DATABASE_URI'] = f'{engine}:///{location}'"
   ]
  },
  {
   "cell_type": "markdown",
   "metadata": {},
   "source": [
    "### Migrate:\n",
    "**migrate** a tool that helps manage database schema changes overtime.<br>\n",
    "##### Key Features:<pre>\n",
    "- Automatically generate migration scripts based on changes in your SQLAlchemy Models.\n",
    "- Apply Migrations to your database,keeping the schema in sync with your models.\n",
    "- Rollback changes if something goes wrong during a migration."
   ]
  },
  {
   "cell_type": "markdown",
   "metadata": {},
   "source": [
    "#### Common Commands:"
   ]
  },
  {
   "cell_type": "markdown",
   "metadata": {},
   "source": [
    "**1.Initialize migrations:** This sets up a directory for migration files.  "
   ]
  },
  {
   "cell_type": "code",
   "execution_count": null,
   "metadata": {},
   "outputs": [],
   "source": [
    "!flask db init"
   ]
  },
  {
   "cell_type": "markdown",
   "metadata": {},
   "source": [
    "**2.Generate a new migration script:** This creates a migration script based on the changes in your models."
   ]
  },
  {
   "cell_type": "code",
   "execution_count": null,
   "metadata": {},
   "outputs": [],
   "source": [
    "!flask db migrate -m \"Megration Message\""
   ]
  },
  {
   "cell_type": "markdown",
   "metadata": {},
   "source": [
    "message is optional"
   ]
  },
  {
   "cell_type": "markdown",
   "metadata": {},
   "source": [
    "**3.Apply migrations:** This applies the generated migrations to the database."
   ]
  },
  {
   "cell_type": "code",
   "execution_count": null,
   "metadata": {},
   "outputs": [],
   "source": [
    "!flask db upgrade"
   ]
  },
  {
   "cell_type": "markdown",
   "metadata": {},
   "source": [
    "**3.Rollback migrations:** This rolls back the last migration."
   ]
  },
  {
   "cell_type": "code",
   "execution_count": null,
   "metadata": {},
   "outputs": [],
   "source": [
    "!flask db downgrade"
   ]
  },
  {
   "cell_type": "markdown",
   "metadata": {},
   "source": [
    "#### How Migrate Works:\n",
    "- Migrate keeps track of changes in your **SQLAlchemy** models and compares them with the current database schema.\n",
    "- When a migration is generated using **flask db migrate**, it creates a Python script in the **migrations/** folder. This script contains SQL commands to alter the database schema.\n",
    "- The **flask db upgrade** command applies these changes to the database."
   ]
  },
  {
   "cell_type": "markdown",
   "metadata": {},
   "source": [
    "### Putting all together:"
   ]
  },
  {
   "cell_type": "markdown",
   "metadata": {},
   "source": [
    "**In app.py**"
   ]
  },
  {
   "cell_type": "code",
   "execution_count": null,
   "metadata": {},
   "outputs": [],
   "source": [
    "# Putting all together\n",
    "\n",
    "from flask import Flask\n",
    "from flask_sqlalchemy import SQLAlchemy\n",
    "from flask_migrate import Migrate\n",
    "\n",
    "db = SQLAlchemy()\n",
    "\n",
    "def create_app():\n",
    "    app = Flask(__name__,template_folder='html_files',static_folder='static')\n",
    "    app.config['SQLALCHEMY_DATABASE_URI'] = 'sqlite:///./testdb.db'\n",
    "    \n",
    "    db.init_app(app)\n",
    "    \n",
    "    from routes import register_routes\n",
    "    register_routes(app,db)\n",
    "    \n",
    "    # Integrating Flask-Migrate with the app and db  \n",
    "    migrate = Migrate(app,db)\n",
    "    \n",
    "    return app"
   ]
  },
  {
   "cell_type": "markdown",
   "metadata": {},
   "source": [
    "**In routes.py**"
   ]
  },
  {
   "cell_type": "code",
   "execution_count": null,
   "metadata": {},
   "outputs": [],
   "source": [
    "from flask import render_template,jsonify,request,flash,url_for,redirect\n",
    "from models import Person\n",
    "\n",
    "def register_routes(app,db):\n",
    "    \n",
    "    @app.route('/')\n",
    "    def home():\n",
    "        if request.method == 'GET':\n",
    "            people = Person.query.all()\n",
    "            return render_template('home.html',people=people)\n"
   ]
  },
  {
   "cell_type": "markdown",
   "metadata": {},
   "source": [
    "**In run.py**"
   ]
  },
  {
   "cell_type": "code",
   "execution_count": null,
   "metadata": {},
   "outputs": [],
   "source": [
    "from app import create_app\n",
    "\n",
    "flask_app = create_app()"
   ]
  },
  {
   "cell_type": "markdown",
   "metadata": {},
   "source": [
    "### Models & ORM Functionality:\n",
    "- Once the db object is created and initialized with the app, it can be used to define models, which are python classes that represent tables in the database."
   ]
  },
  {
   "cell_type": "markdown",
   "metadata": {},
   "source": [
    "**In models.py**"
   ]
  },
  {
   "cell_type": "code",
   "execution_count": null,
   "metadata": {},
   "outputs": [],
   "source": [
    "from app import db\n",
    "\n",
    "class Person(db.model):\n",
    "    # Table Name\n",
    "    __tablename__ = 'people'\n",
    "    \n",
    "    # Fields (Columns)\n",
    "    pid = db.Column(db.Interger,primary_key=True)\n",
    "    name = db.Column(db.Text,nullable=False)\n",
    "    age = db.Column(db.Float)"
   ]
  },
  {
   "cell_type": "markdown",
   "metadata": {},
   "source": [
    "### Database Operations:\n",
    "Assume **User** is a model in your database."
   ]
  },
  {
   "cell_type": "markdown",
   "metadata": {},
   "source": [
    "- **1-Creating Records  (Insert):** you can add new rows to your database using SQLAlchemy's ORM by creating instances of your model and adding them to the session."
   ]
  },
  {
   "cell_type": "code",
   "execution_count": null,
   "metadata": {},
   "outputs": [],
   "source": [
    "# Creating a new user\n",
    "new_user = User(username='Ameur',email='hello@gmail.com')\n",
    "\n",
    "# Add the new user to the session\n",
    "db.session.add(new_user)\n",
    "\n",
    "# Commit the session to write the changes to the database\n",
    "db.session.commit()"
   ]
  },
  {
   "cell_type": "markdown",
   "metadata": {},
   "source": [
    "- **2-Reading Records (Select):** you can query the database to retrieve records using the db.session.query()"
   ]
  },
  {
   "cell_type": "code",
   "execution_count": null,
   "metadata": {},
   "outputs": [],
   "source": [
    "# Query all users\n",
    "users = User.query.all()\n",
    "\n",
    "# Query by filter\n",
    "user = User.query.filter_by(username='Agmed').first()\n",
    "\n",
    "# Query by Primary Key\n",
    "user = User.query.get(1)"
   ]
  },
  {
   "cell_type": "markdown",
   "metadata": {},
   "source": [
    "- **3-Updating Records (Update):** you can update records by retrieving them from the database, modifying their fields, and then committing the session"
   ]
  },
  {
   "cell_type": "code",
   "execution_count": null,
   "metadata": {},
   "outputs": [],
   "source": [
    "# Get a user\n",
    "user = User.query.filter_by(username='Agmed').first()\n",
    "\n",
    "# Update the user's email\n",
    "user.username = 'Ahmed'\n",
    "\n",
    "# Commit the changes to the database\n",
    "db.session.commit()"
   ]
  },
  {
   "cell_type": "markdown",
   "metadata": {},
   "source": [
    "- **4-Deleting Records (Delete):** you can delete records by retreiving them and then calling session.delete()"
   ]
  },
  {
   "cell_type": "code",
   "execution_count": null,
   "metadata": {},
   "outputs": [],
   "source": [
    "# Get a user\n",
    "user = User.query.filter_by(username='Ahmed').first()\n",
    "\n",
    "# Delete the user\n",
    "db.session.delete(user)\n",
    "\n",
    "# Commit the changes ...\n",
    "db.session.commit()"
   ]
  },
  {
   "cell_type": "markdown",
   "metadata": {},
   "source": [
    "- **5-Querying with Filters and Conditions:**"
   ]
  },
  {
   "cell_type": "code",
   "execution_count": null,
   "metadata": {},
   "outputs": [],
   "source": [
    "# Get users where the username contains 'agmed' and email ends with 'example.com'\n",
    "users = User.query.filter(\n",
    "    User.username.like('%agmed%'),\n",
    "    User.email.endswith('example.com')\n",
    ")"
   ]
  },
  {
   "cell_type": "markdown",
   "metadata": {},
   "source": [
    "- **6-Querying with Limit and Offset:**"
   ]
  },
  {
   "cell_type": "code",
   "execution_count": null,
   "metadata": {},
   "outputs": [],
   "source": [
    "# Get the first 10 users\n",
    "users = User.query.limit(10).all()\n",
    "\n",
    "# Get 10 users, starting from the 5th user\n",
    "users = User.query.offset(5).limit(10).all()"
   ]
  },
  {
   "cell_type": "markdown",
   "metadata": {},
   "source": [
    "- **7-Ordering Results:**"
   ]
  },
  {
   "cell_type": "code",
   "execution_count": null,
   "metadata": {},
   "outputs": [],
   "source": [
    "# Get users ordered bu username in ascending order\n",
    "users = User.query.order_by(User.username).all()\n",
    "\n",
    "# In Descending\n",
    "users = User.query.order_by(User.username.desc()).all()"
   ]
  },
  {
   "cell_type": "markdown",
   "metadata": {},
   "source": [
    "- **8-Counting Records:**"
   ]
  },
  {
   "cell_type": "code",
   "execution_count": null,
   "metadata": {},
   "outputs": [],
   "source": [
    "# Count the number of users\n",
    "user_count = User.query.count()"
   ]
  },
  {
   "cell_type": "markdown",
   "metadata": {},
   "source": [
    "- **9-Joins (Multiple Table Queries):**\n",
    "Assume you have two models, User and Post, where a User has manu Posts."
   ]
  },
  {
   "cell_type": "code",
   "execution_count": null,
   "metadata": {},
   "outputs": [],
   "source": [
    "# Query users along with thier posts\n",
    "results = db.session.query(User,Post).join(Post,User.id == Post.user_id).all()\n",
    "\n",
    "# Accessing data\n",
    "for user, post in results:\n",
    "    print(f\"{user.username} wrote {post.title}\")"
   ]
  },
  {
   "cell_type": "markdown",
   "metadata": {},
   "source": [
    "- **10-Relationships (One-to-Many, Many-to-One, Many-to-Many):**"
   ]
  },
  {
   "cell_type": "code",
   "execution_count": null,
   "metadata": {},
   "outputs": [],
   "source": [
    "########"
   ]
  },
  {
   "cell_type": "markdown",
   "metadata": {},
   "source": [
    "- **11-Transactions and Rollbacks:**"
   ]
  },
  {
   "cell_type": "code",
   "execution_count": null,
   "metadata": {},
   "outputs": [],
   "source": [
    "try:\n",
    "    # Add a new user\n",
    "    new_user = User(username='Gamdi',email='gamdi@example.com')\n",
    "    db.session.add(new_user)\n",
    "    \n",
    "    # Commit the transaction\n",
    "    db.session.commit()\n",
    "except Exception as e:\n",
    "    # If something goes wrong, roll back the transaction\n",
    "    db.session.rollback()"
   ]
  },
  {
   "cell_type": "markdown",
   "metadata": {},
   "source": [
    "- **12-Querying with Aggregates(SUM,AVG,MAX,MIN):**"
   ]
  },
  {
   "cell_type": "code",
   "execution_count": null,
   "metadata": {},
   "outputs": [],
   "source": [
    "from sqlalchemy import func\n",
    "\n",
    "# Get the Total number of Posts\n",
    "post_count = db.session.query(func.count(Post.id))\n",
    "scalar()\n",
    "\n",
    "# Get the average lenght of post titles\n",
    "avg_title_length = db.session.query(func.avg(func.length(Post.title))).scalar()\n"
   ]
  },
  {
   "cell_type": "markdown",
   "metadata": {},
   "source": [
    "- **13-Executing Raw SQL:**"
   ]
  },
  {
   "cell_type": "code",
   "execution_count": null,
   "metadata": {},
   "outputs": [],
   "source": [
    "query = 'SELECT * FROM user'\n",
    "result = db.session.execute(query)"
   ]
  },
  {
   "cell_type": "markdown",
   "metadata": {},
   "source": [
    "## User Authentication:\n",
    "login,signin,..."
   ]
  },
  {
   "cell_type": "markdown",
   "metadata": {},
   "source": [
    "see **UserAuthen Project**"
   ]
  },
  {
   "cell_type": "markdown",
   "metadata": {},
   "source": [
    "## BluePrints:\n",
    "Blueprints allow you to **organize** your **application** into reusable components, making it **easier to manage** large projects"
   ]
  },
  {
   "cell_type": "markdown",
   "metadata": {},
   "source": [
    "### Project Structure:\n",
    "flask_app<br>\n",
    "- run.py\n",
    "-    blueprintapp/<br>\n",
    "-    │<br>\n",
    "-    ├── app.py<br>\n",
    "-    ├── __init__.py<br>\n",
    "-    └── core/<br>\n",
    "-    -    ├── __init__.py<br>\n",
    "-    -    ├── templates<br>\n",
    "-    -    ├── static<br>\n",
    "-    -    └── routes.py<br>\n",
    "-    └── blueprint1/<br>\n",
    "-    -    ├── __init__.py<br>\n",
    "-    -    ├── templates/blueprint1<br>\n",
    "-    -    ├── static/blueprint1<br>\n",
    "-    -    ├── forms.py<br>\n",
    "-    -    ├── models.py<br>\n",
    "-    -    └── routes.py<br>"
   ]
  },
  {
   "cell_type": "markdown",
   "metadata": {},
   "source": [
    "each blue print has its own forms,models,routes,templates and static files,then we register them in app.py"
   ]
  },
  {
   "cell_type": "markdown",
   "metadata": {},
   "source": [
    "### Create Blueprint:\n",
    "inside **blueprint1/routes.py**"
   ]
  },
  {
   "cell_type": "code",
   "execution_count": null,
   "metadata": {},
   "outputs": [],
   "source": [
    "from flask import Blueprint\n",
    "\n",
    "# For example Todos Section in the app\n",
    "todos = Blueprint('totods',__name__)\n",
    "\n",
    "@todos.route('/')\n",
    "def index():\n",
    "    render_template('blueprint1/index.html')"
   ]
  },
  {
   "cell_type": "markdown",
   "metadata": {},
   "source": [
    "We handle calling route like that, \n",
    "Example:<br>\n",
    "**url_for('blueprint1.index')**"
   ]
  },
  {
   "cell_type": "markdown",
   "metadata": {},
   "source": [
    "### Register Blueprint:\n",
    "inside the **app.py**"
   ]
  },
  {
   "cell_type": "code",
   "execution_count": null,
   "metadata": {},
   "outputs": [],
   "source": [
    "from blueprintapp.blueprint1.routes import todos\n",
    "app.register_blueprint(todos,url_prefix='/todos')"
   ]
  },
  {
   "cell_type": "markdown",
   "metadata": {},
   "source": [
    "**url_prefix** is the main path for this blueprint.<br>\n",
    "so to go to index of this blueprint,the url must be **/todos** not just **/**,and for routes in it(eg:create) the url should be **/todos/create**."
   ]
  },
  {
   "cell_type": "markdown",
   "metadata": {},
   "source": [
    "see **BluePrint Project**."
   ]
  },
  {
   "cell_type": "markdown",
   "metadata": {},
   "source": [
    "## Flask Extentions:\n",
    "there are more useful tools and utilities. "
   ]
  },
  {
   "cell_type": "markdown",
   "metadata": {},
   "source": [
    "### Flask-CORS:\n",
    "Enables **Cross-Origin Resource Sharing**, which allows your **Flask App** to be accessed by web applications hosted on **different domains**."
   ]
  },
  {
   "cell_type": "code",
   "execution_count": null,
   "metadata": {},
   "outputs": [],
   "source": [
    "!pip install flask-cors"
   ]
  },
  {
   "cell_type": "code",
   "execution_count": null,
   "metadata": {},
   "outputs": [],
   "source": [
    "from flask import Flask\n",
    "from flask_cors import CORS\n",
    "\n",
    "app = Flask(__name__)\n",
    "CORS(app) # Enables CORS for all routes\n"
   ]
  },
  {
   "cell_type": "markdown",
   "metadata": {},
   "source": [
    "### Flask-Admin:\n",
    "is a powerful extension for Flask that helps you create an **administrative interface** for your application. This interface allows you to **manage your data models** and perform CRUD (Create, Read, Update, Delete) operations without writing a lot of boilerplate code."
   ]
  },
  {
   "cell_type": "code",
   "execution_count": null,
   "metadata": {},
   "outputs": [],
   "source": [
    "!pip install flask-admin"
   ]
  },
  {
   "cell_type": "code",
   "execution_count": null,
   "metadata": {},
   "outputs": [],
   "source": [
    "from flask import Flask\n",
    "from flask_admin import Admin\n",
    "from flask_admin.contrib.sqla import ModelView\n",
    "from flask_sqlalchemy import SQLAlchemy\n",
    "\n",
    "app = Flask(_name_)\n",
    "app.config['SQLALCHEMY_DATABASE_URI'] = 'sqlite:///test.db'\n",
    "db = SQLAlchemy(app)\n",
    "\n",
    "class User(db.Model):\n",
    "    id = db.Column(db.Integer, primary_key=True)\n",
    "    name = db.Column(db.String(50))\n",
    "\n",
    "admin = Admin(app)\n",
    "admin.add_view(ModelView(User, db.session))\n"
   ]
  },
  {
   "cell_type": "markdown",
   "metadata": {},
   "source": [
    "see **Admin Project**."
   ]
  },
  {
   "cell_type": "markdown",
   "metadata": {},
   "source": [
    "### Flask-Mail:\n",
    "Simplifies the process of **sending emails** from a Flask application."
   ]
  },
  {
   "cell_type": "code",
   "execution_count": null,
   "metadata": {},
   "outputs": [],
   "source": [
    "!pip install Flask-Mail"
   ]
  },
  {
   "cell_type": "code",
   "execution_count": null,
   "metadata": {},
   "outputs": [],
   "source": [
    "from flask import Flask\n",
    "from flask_mail import Mail, Message\n",
    "\n",
    "app = Flask(_name_)\n",
    "app.config['MAIL_SERVER'] = 'smtp.example.com'\n",
    "app.config['MAIL_PORT'] = 465\n",
    "app.config['MAIL_USERNAME'] = 'your_email@example.com'\n",
    "app.config['MAIL_PASSWORD'] = 'password'\n",
    "app.config['MAIL_USE_TLS'] = False\n",
    "app.config['MAIL_USE_SSL'] = True\n",
    "\n",
    "mail = Mail(app)\n",
    "\n",
    "@app.route('/send_email')\n",
    "def send_email():\n",
    "    msg = Message('Hello', sender='your_email@example.com', recipients=['to@example.com'])\n",
    "    msg.body = 'This is a test email sent from Flask!'\n",
    "    mail.send(msg)\n",
    "    return 'Email sent!'"
   ]
  },
  {
   "cell_type": "markdown",
   "metadata": {},
   "source": [
    "### Flask-Caching:\n",
    "tool to enhance your Flask application's **performance** by reducing load times and **improving** response rates"
   ]
  },
  {
   "cell_type": "markdown",
   "metadata": {},
   "source": [
    "<table>\n",
    "    <thead>\n",
    "        <tr>\n",
    "            <th>When to Use</th>\n",
    "            <th>When Not to Use</th>\n",
    "        </tr>\n",
    "    </thead>\n",
    "    <tbody>\n",
    "        <tr>\n",
    "            <td>Expensive Computations: Caching results of costly calculations can save time.</td>\n",
    "            <td>Highly Dynamic Content: Frequent updates may lead to stale data.</td>\n",
    "        </tr>\n",
    "        <tr>\n",
    "            <td>Frequent Database Queries: Caching common queries reduces database load.</td>\n",
    "            <td>Small Applications: Overhead of caching may not be worth it for low traffic.</td>\n",
    "        </tr>\n",
    "        <tr>\n",
    "            <td>Static Content: Caching rarely changing content like HTML pages or images.</td>\n",
    "            <td>Session Management: Not suitable for managing user sessions or sensitive data.</td>\n",
    "        </tr>\n",
    "        <tr>\n",
    "            <td>API Responses: Caching responses for APIs serving similar requests.</td>\n",
    "            <td>Real-Time Data: Caching may interfere with real-time data updates.</td>\n",
    "        </tr>\n",
    "        <tr>\n",
    "            <td>Rate Limiting: Manage user request limits by caching counts.</td>\n",
    "            <td>Complex Cache Invalidation: Difficult cache invalidation logic may lead to errors.</td>\n",
    "        </tr>\n",
    "    </tbody>\n",
    "</table>"
   ]
  },
  {
   "cell_type": "code",
   "execution_count": null,
   "metadata": {},
   "outputs": [],
   "source": [
    "!pip install Flask-Caching"
   ]
  },
  {
   "cell_type": "code",
   "execution_count": null,
   "metadata": {},
   "outputs": [],
   "source": [
    "from flask import Flask\n",
    "from flask_caching import Cache\n",
    "\n",
    "app = Flask(_name_)\n",
    "app.config['CACHE_TYPE'] = 'simple'  # In-memory cache\n",
    "cache = Cache(app)\n",
    "\n",
    "@app.route('/cached')\n",
    "@cache.cached(timeout=60)\n",
    "def cached_view():\n",
    "    return 'This view is cached for 60 seconds'"
   ]
  },
  {
   "cell_type": "markdown",
   "metadata": {},
   "source": [
    "#### **Summary**:\n",
    "Use Flask-Caching to optimize performance when appropriate, but be cautious of its drawbacks, especially in applications with dynamic content or real-time requirements. I"
   ]
  },
  {
   "cell_type": "markdown",
   "metadata": {},
   "source": [
    "### Flask-Limiter:\n",
    "Adds **rate limiting** to your Flask application to **control request traffic**."
   ]
  },
  {
   "cell_type": "code",
   "execution_count": null,
   "metadata": {},
   "outputs": [],
   "source": [
    "!pip install Flask-Limiter"
   ]
  },
  {
   "cell_type": "code",
   "execution_count": null,
   "metadata": {},
   "outputs": [],
   "source": [
    "from flask import Flask\n",
    "from flask_limiter import Limiter\n",
    "\n",
    "app = Flask(_name_)\n",
    "limiter = Limiter(app, default_limits=[\"5 per minute\"])\n",
    "\n",
    "@app.route('/')\n",
    "@limiter.limit(\"2 per minute\")\n",
    "def index():\n",
    "    return 'This route is limited to 2 requests per minute'\n"
   ]
  },
  {
   "cell_type": "markdown",
   "metadata": {},
   "source": [
    "#### Time Units you can use:\n",
    "##### **Seconds**:\n",
    "Example: \"5 per second\" or \"10 per 30 seconds\"\n",
    "\n",
    "##### **Minutes**:\n",
    "Example: \"2 per minute\" or \"1 per 5 minutes\"\n",
    "\n",
    "##### **Hours**:\n",
    "Example: \"100 per hour\" or \"10 per 30 minutes\" (combined with minutes)\n",
    "\n",
    "##### **Days**:\n",
    "Example: \"1 per day\" or \"7 per week\" (using the day as a reference)"
   ]
  },
  {
   "cell_type": "markdown",
   "metadata": {},
   "source": [
    "**Explanation:(suppose in index route we made 2 reqs in first 10 ses)**<br>\n",
    "The Limiter will track the number of requests made to that route within the specified time frame (1 minute in this case). Since you've already hit the limit of 2 requests, any further requests within that minute will be blocked.<br>\n",
    "the server will respond with a 429 Too Many Requests status code."
   ]
  },
  {
   "cell_type": "markdown",
   "metadata": {},
   "source": []
  }
 ],
 "metadata": {
  "kernelspec": {
   "display_name": "base",
   "language": "python",
   "name": "python3"
  },
  "language_info": {
   "codemirror_mode": {
    "name": "ipython",
    "version": 3
   },
   "file_extension": ".py",
   "mimetype": "text/x-python",
   "name": "python",
   "nbconvert_exporter": "python",
   "pygments_lexer": "ipython3",
   "version": "3.11.7"
  }
 },
 "nbformat": 4,
 "nbformat_minor": 2
}
