{
 "cells": [
  {
   "cell_type": "markdown",
   "metadata": {},
   "source": [
    "# Introduction"
   ]
  },
  {
   "cell_type": "markdown",
   "metadata": {},
   "source": [
    "**Streamlit** is a Python Framework for developing Applications especially for Data Science, Machine Learning & Artificial Intelligence in short time."
   ]
  },
  {
   "cell_type": "markdown",
   "metadata": {},
   "source": [
    "### Advantages"
   ]
  },
  {
   "cell_type": "markdown",
   "metadata": {},
   "source": [
    "- Compactible with Scikit, Keras, Numpy, Pandas, TensorFlow, etc.\n",
    "- Maximizes Development Speed.\n",
    "- Safe and Secure web app Development.\n",
    "- No HTML, CSS & JavaScript coding i required.\n",
    "- Easy to deploy."
   ]
  },
  {
   "cell_type": "markdown",
   "metadata": {},
   "source": [
    "# Installation"
   ]
  },
  {
   "cell_type": "markdown",
   "metadata": {},
   "source": [
    "- **Install Streamlit via pip**: Open your terminal or command prompt and run:"
   ]
  },
  {
   "cell_type": "code",
   "execution_count": null,
   "metadata": {
    "vscode": {
     "languageId": "powershell"
    }
   },
   "outputs": [],
   "source": [
    "pip install streamlit"
   ]
  },
  {
   "cell_type": "markdown",
   "metadata": {},
   "source": [
    "- **Verify Installation**: To confirm that Streamlit is installed correctly, check the version:"
   ]
  },
  {
   "cell_type": "code",
   "execution_count": null,
   "metadata": {
    "vscode": {
     "languageId": "powershell"
    }
   },
   "outputs": [],
   "source": [
    "streamlit --version"
   ]
  },
  {
   "cell_type": "markdown",
   "metadata": {},
   "source": [
    "# Running Streamlit App"
   ]
  },
  {
   "cell_type": "markdown",
   "metadata": {},
   "source": [
    "- **Create a Python File**: Create a file named app.py and add the following code:"
   ]
  },
  {
   "cell_type": "code",
   "execution_count": null,
   "metadata": {},
   "outputs": [],
   "source": [
    "#app.py\n",
    "import streamlit as st\n",
    "\n",
    "st.title(\"Welcome to Streamlit!\")\n",
    "st.write(\"Hello, this is your first Streamlit app!\")"
   ]
  },
  {
   "cell_type": "markdown",
   "metadata": {},
   "source": [
    "- **Run the App**: Use the command below to start your Streamlit app:"
   ]
  },
  {
   "cell_type": "code",
   "execution_count": null,
   "metadata": {
    "vscode": {
     "languageId": "powershell"
    }
   },
   "outputs": [],
   "source": [
    "streamlit run app.py"
   ]
  },
  {
   "cell_type": "markdown",
   "metadata": {},
   "source": [
    "- **View in Browser**: After running the command, Streamlit will automatically open your default web browser. If it doesn't, you can manually navigate to the URL displayed in the "
   ]
  },
  {
   "cell_type": "code",
   "execution_count": null,
   "metadata": {
    "vscode": {
     "languageId": "powershell"
    }
   },
   "outputs": [],
   "source": [
    "http://localhost:8501"
   ]
  },
  {
   "cell_type": "markdown",
   "metadata": {},
   "source": [
    "# Remove Hamburger & Footer"
   ]
  },
  {
   "cell_type": "code",
   "execution_count": null,
   "metadata": {},
   "outputs": [],
   "source": [
    "import streamlit as st\n",
    "\n",
    "# Set page configuration\n",
    "st.set_page_config(page_title=\"My App\", layout=\"wide\", initial_sidebar_state=\"collapsed\")\n",
    "\n",
    "# Custom CSS to hide hamburger menu and footer\n",
    "hide_streamlit_style = \"\"\"\n",
    "    <style>\n",
    "        /* Hide the hamburger menu */\n",
    "        .css-1d391kg {display: none;}\n",
    "        /* Hide Streamlit footer */\n",
    "        footer {visibility: hidden;}\n",
    "    </style>\n",
    "\"\"\"\n",
    "\n",
    "# Inject custom CSS\n",
    "st.markdown(hide_streamlit_style, unsafe_allow_html=True)\n",
    "\n",
    "# Example content\n",
    "st.title(\"Streamlit App without Hamburger Menu and Footer\")\n",
    "st.write(\"This is a simple app with the hamburger menu and footer removed.\")"
   ]
  },
  {
   "cell_type": "markdown",
   "metadata": {},
   "source": [
    "- **st.set_page_config()**: This configures the Streamlit app's layout, sidebar state, and page title.<br>\n",
    "    - **layout=\"wide\"** gives more space to the main content.              \n",
    "    - **initial_sidebar_state=\"collapsed\"** hides the sidebar initially."
   ]
  },
  {
   "cell_type": "markdown",
   "metadata": {},
   "source": [
    "# Text Elements"
   ]
  },
  {
   "cell_type": "markdown",
   "metadata": {},
   "source": [
    "<table border=\"1\" style=\"border-collapse: collapse; width: 100%;\">\n",
    "    <thead>\n",
    "        <tr>\n",
    "            <th style=\"padding: 8px; text-align: left;\">Function</th>\n",
    "            <th style=\"padding: 8px; text-align: left;\">Purpose</th>\n",
    "        </tr>\n",
    "    </thead>\n",
    "    <tbody>\n",
    "        <tr>\n",
    "            <td style=\"padding: 8px;\">st.title()</td>\n",
    "            <td style=\"padding: 8px;\">Main app title</td>\n",
    "        </tr>\n",
    "        <tr>\n",
    "            <td style=\"padding: 8px;\">st.header()</td>\n",
    "            <td style=\"padding: 8px;\">Section heading</td>\n",
    "        </tr>\n",
    "        <tr>\n",
    "            <td style=\"padding: 8px;\">st.subheader()</td>\n",
    "            <td style=\"padding: 8px;\">Subsection heading</td>\n",
    "        </tr>\n",
    "        <tr>\n",
    "            <td style=\"padding: 8px;\">st.text()</td>\n",
    "            <td style=\"padding: 8px;\">Plain text</td>\n",
    "        </tr>\n",
    "        <tr>\n",
    "            <td style=\"padding: 8px;\">st.markdown()</td>\n",
    "            <td style=\"padding: 8px;\">Rich text with Markdown support</td>\n",
    "        </tr>\n",
    "        <tr>\n",
    "            <td style=\"padding: 8px;\">st.write()</td>\n",
    "            <td style=\"padding: 8px;\">Versatile text and data display</td>\n",
    "        </tr>\n",
    "        <tr>\n",
    "            <td style=\"padding: 8px;\">st.caption()</td>\n",
    "            <td style=\"padding: 8px;\">Small-sized text</td>\n",
    "        </tr>\n",
    "        <tr>\n",
    "            <td style=\"padding: 8px;\">st.code()</td>\n",
    "            <td style=\"padding: 8px;\">Syntax-highlighted code blocks</td>\n",
    "        </tr>\n",
    "        <tr>\n",
    "            <td style=\"padding: 8px;\">st.latex()</td>\n",
    "            <td style=\"padding: 8px;\">Rendered mathematical expressions</td>\n",
    "        </tr>\n",
    "        <tr>\n",
    "            <td style=\"padding: 8px;\">st.success()</td>\n",
    "            <td style=\"padding: 8px;\">Success message</td>\n",
    "        </tr>\n",
    "        <tr>\n",
    "            <td style=\"padding: 8px;\">st.warning()</td>\n",
    "            <td style=\"padding: 8px;\">Warning message</td>\n",
    "        </tr>\n",
    "        <tr>\n",
    "            <td style=\"padding: 8px;\">st.error()</td>\n",
    "            <td style=\"padding: 8px;\">Error message</td>\n",
    "        </tr>\n",
    "        <tr>\n",
    "            <td style=\"padding: 8px;\">st.metric()</td>\n",
    "            <td style=\"padding: 8px;\">Display a metric with a value and an optional delta (useful for showing performance metrics)</td>\n",
    "        </tr>\n",
    "        <tr>\n",
    "            <td style=\"padding: 8px;\">st.info()</td>\n",
    "            <td style=\"padding: 8px;\">Informational message</td>\n",
    "        </tr>\n",
    "        <tr>\n",
    "            <td style=\"padding: 8px;\">st.balloons()</td>\n",
    "            <td style=\"padding: 8px;\">Celebrate with balloons animation</td>\n",
    "        </tr>\n",
    "    </tbody>\n",
    "</table>"
   ]
  },
  {
   "cell_type": "markdown",
   "metadata": {},
   "source": [
    "## See TextElements.py"
   ]
  },
  {
   "cell_type": "markdown",
   "metadata": {},
   "source": [
    "# Media Widgets"
   ]
  },
  {
   "cell_type": "markdown",
   "metadata": {},
   "source": [
    "### 1. st.image() – Display Images\n",
    "This function allows you to display images in your app."
   ]
  },
  {
   "cell_type": "markdown",
   "metadata": {},
   "source": [
    "- **image**: Can be a file path, URL, or a PIL image object.\n",
    "- **caption**: An optional caption under the image.\n",
    "- **use_container_width**: If True, the table takes the full container width."
   ]
  },
  {
   "cell_type": "markdown",
   "metadata": {},
   "source": [
    "### 2. st.audio() – Play Audio\n",
    "This function is used to play audio files (e.g., MP3, WAV)."
   ]
  },
  {
   "cell_type": "markdown",
   "metadata": {},
   "source": [
    "- **audio**: The audio file path or a byte stream.\n",
    "- **format**: Specify the format of the audio file (e.g., \"audio/mp3\" or \"audio/wav\").\n",
    "- **start_time**: Optional, specify the time from which to start the audio (in seconds)."
   ]
  },
  {
   "cell_type": "markdown",
   "metadata": {},
   "source": [
    "### 3. st.video() – Play Video\n",
    "You can use this function to display video files in your Streamlit app."
   ]
  },
  {
   "cell_type": "markdown",
   "metadata": {},
   "source": [
    "- **video**: Path to a video file (MP4, WebM, or Ogg) or a URL.\n",
    "- **start_time**: Optional, specify the time from which to start the video (in seconds)."
   ]
  },
  {
   "cell_type": "markdown",
   "metadata": {},
   "source": [
    "## See MediaWidgets.py"
   ]
  },
  {
   "cell_type": "markdown",
   "metadata": {},
   "source": [
    "# Input Widgets"
   ]
  },
  {
   "cell_type": "markdown",
   "metadata": {},
   "source": [
    "### 1. st.text_input() – Single-line Text Input\n",
    "This widget allows users to input a single line of text."
   ]
  },
  {
   "cell_type": "markdown",
   "metadata": {},
   "source": [
    "- **label**: Label for the input field.\n",
    "- **value**: Default text value (optional).\n",
    "- **max_chars**: Maximum number of characters (optional).\n",
    "- **type**: Type of input (optional, can be \"default\" or \"password\")."
   ]
  },
  {
   "cell_type": "markdown",
   "metadata": {},
   "source": [
    "### 2. st.text_area() – Multi-line Text Input\n",
    "This widget allows users to input multiple lines of text (like comments or descriptions)."
   ]
  },
  {
   "cell_type": "markdown",
   "metadata": {},
   "source": [
    "- **label**: Label for the text area.\n",
    "- **value**: Default text value (optional).\n",
    "- **height**: Height of the input area (optional)."
   ]
  },
  {
   "cell_type": "markdown",
   "metadata": {},
   "source": [
    "### 3. st.number_input() – Numeric Input\n",
    "This widget allows users to input numbers with optional limits for min and max values."
   ]
  },
  {
   "cell_type": "markdown",
   "metadata": {},
   "source": [
    "- **label**: Label for the number input.\n",
    "- **min_value**: Minimum value (optional).\n",
    "- **max_value**: Maximum value (optional).\n",
    "- **value**: Default value (optional).\n",
    "- **step**: Increment value for the number input."
   ]
  },
  {
   "cell_type": "markdown",
   "metadata": {},
   "source": [
    "### 4. st.date_input() – Date Picker\n",
    "This widget allows users to select a date from a calendar."
   ]
  },
  {
   "cell_type": "markdown",
   "metadata": {},
   "source": [
    "- **label**: Label for the date input.\n",
    "- **value**: Default date value (optional).\n",
    "- **min_value**: Minimum date (optional).\n",
    "- **max_value**: Maximum date (optional).\n"
   ]
  },
  {
   "cell_type": "markdown",
   "metadata": {},
   "source": [
    "### 5. st.time_input() – Time Picker\n",
    "This widget allows users to select a time."
   ]
  },
  {
   "cell_type": "markdown",
   "metadata": {},
   "source": [
    "- **label**: Label for the time input.\n",
    "- **value**: Default time value (optional).\n",
    "- **min_value**: Minimum time (optional).\n",
    "- **max_value**: Maximum time (optional)."
   ]
  },
  {
   "cell_type": "markdown",
   "metadata": {},
   "source": [
    "### 6. st.file_uploader() – File Uploader\n",
    "This widget allows users to upload files to your app."
   ]
  },
  {
   "cell_type": "markdown",
   "metadata": {},
   "source": [
    "- **label**: Label for the file uploader.\n",
    "- **type**: List of acceptable file types (optional).\n",
    "- **accept_multiple_files**: Allow multiple file uploads (default is False)."
   ]
  },
  {
   "cell_type": "markdown",
   "metadata": {},
   "source": [
    "### 7. st.selectbox() – Dropdown (Single Selection)\n",
    "This widget allows users to select one option from a list of options."
   ]
  },
  {
   "cell_type": "markdown",
   "metadata": {},
   "source": [
    "- **label**: Label for the select box.\n",
    "- **options**: List of options for the user to choose from.\n",
    "- **index**: Default option index (optional)."
   ]
  },
  {
   "cell_type": "markdown",
   "metadata": {},
   "source": [
    "### 8. st.multiselect() – Dropdown (Multiple Selections)\n",
    "This widget allows users to select multiple options from a list."
   ]
  },
  {
   "cell_type": "markdown",
   "metadata": {},
   "source": [
    "- **label**: Label for the multi-select.\n",
    "- **options**: List of options for the user to choose from.\n",
    "- **default**: Default selected options (optional)."
   ]
  },
  {
   "cell_type": "markdown",
   "metadata": {},
   "source": [
    "### 9. st.radio() – Radio Buttons\n",
    "This widget allows users to select one option from a set of radio buttons."
   ]
  },
  {
   "cell_type": "markdown",
   "metadata": {},
   "source": [
    "- **label**: Label for the radio buttons.\n",
    "- **options**: List of options for the user to choose from.\n",
    "- **index**: Default selected option index (optional)."
   ]
  },
  {
   "cell_type": "markdown",
   "metadata": {},
   "source": [
    "### 10. st.slider() – Slider Input\n",
    "This widget allows users to select a value from a defined range using a slider."
   ]
  },
  {
   "cell_type": "markdown",
   "metadata": {},
   "source": [
    "- **label**: Label for the slider.\n",
    "- **min_value**: Minimum value.\n",
    "- **max_value**: Maximum value.\n",
    "- **value**: Default value (optional).\n",
    "- **step**: Step value for the slider (optional)."
   ]
  },
  {
   "cell_type": "markdown",
   "metadata": {},
   "source": [
    "### 11. st.checkbox() – Checkbox\n",
    "This widget allows users to select or unselect a checkbox (boolean)."
   ]
  },
  {
   "cell_type": "markdown",
   "metadata": {},
   "source": [
    "- **label**: Label for the checkbox.\n",
    "- **value**: Default state (optional, True or False)."
   ]
  },
  {
   "cell_type": "markdown",
   "metadata": {},
   "source": [
    "### 12. st.button() – Button\n",
    "This widget creates a clickable button that can trigger actions."
   ]
  },
  {
   "cell_type": "markdown",
   "metadata": {},
   "source": [
    "- **label**: Label for the button."
   ]
  },
  {
   "cell_type": "markdown",
   "metadata": {},
   "source": [
    "### 13. st.form() – Form for Grouping Widgets\n",
    "This widget allows you to group multiple input widgets within a form."
   ]
  },
  {
   "cell_type": "markdown",
   "metadata": {},
   "source": [
    "- **key**: Unique key for the form.\n",
    "- **submit_button**: Submit button inside the form."
   ]
  },
  {
   "cell_type": "markdown",
   "metadata": {},
   "source": [
    "## See InputWidgets.py"
   ]
  },
  {
   "cell_type": "markdown",
   "metadata": {},
   "source": [
    "# Data Elements"
   ]
  },
  {
   "cell_type": "markdown",
   "metadata": {},
   "source": [
    "### 1. st.dataframe() – Display Pandas DataFrame as an Interactive Table\n",
    "This widget displays a Pandas DataFrame as an interactive table, allowing users to scroll through large datasets."
   ]
  },
  {
   "cell_type": "markdown",
   "metadata": {},
   "source": [
    "- **df**: The DataFrame to display.\n",
    "- **width**: Width of the displayed table (optional).\n",
    "- **height**: Height of the displayed table (optional).\n",
    "- **use_container_width**: If True, the table takes the full container width."
   ]
  },
  {
   "cell_type": "markdown",
   "metadata": {},
   "source": [
    "### 2. st.table() – Display Static Table\n",
    "Unlike st.dataframe(), this displays a static version of a Pandas DataFrame or a list of lists."
   ]
  },
  {
   "cell_type": "markdown",
   "metadata": {},
   "source": [
    "- **data**: Data in the form of a DataFrame, list, or a dictionary of lists.\n",
    "#### Difference from st.dataframe():\n",
    "**st.table()** is static and doesn't allow for interactivity like sorting or scrolling."
   ]
  },
  {
   "cell_type": "markdown",
   "metadata": {},
   "source": [
    "#### 3. st.json() – Display JSON Data\n",
    "This widget is useful for displaying JSON data in a nicely formatted, readable way."
   ]
  },
  {
   "cell_type": "markdown",
   "metadata": {},
   "source": [
    "- **json_data**: The JSON object to display."
   ]
  },
  {
   "cell_type": "markdown",
   "metadata": {},
   "source": [
    "## See DataElements.py"
   ]
  },
  {
   "cell_type": "markdown",
   "metadata": {},
   "source": [
    "# Chart Elements"
   ]
  },
  {
   "cell_type": "markdown",
   "metadata": {},
   "source": [
    "### 1. st.line_chart() – Line Chart Visualization\n",
    "A simple way to visualize trends over time or other continuous data."
   ]
  },
  {
   "cell_type": "markdown",
   "metadata": {},
   "source": [
    "- **data**: Data to plot (Pandas DataFrame, NumPy array, or list).\n",
    "- **width**, **height**: (Optional) Chart dimensions."
   ]
  },
  {
   "cell_type": "markdown",
   "metadata": {},
   "source": [
    "### 2. st.area_chart() – Area Chart Visualization\n",
    "Displays an area chart where the area beneath the line is shaded."
   ]
  },
  {
   "cell_type": "markdown",
   "metadata": {},
   "source": [
    "- Same as st.line_chart()."
   ]
  },
  {
   "cell_type": "markdown",
   "metadata": {},
   "source": [
    "### 3. st.bar_chart() – Bar Chart Visualization\n",
    "Displays data as vertical bars for comparing quantities."
   ]
  },
  {
   "cell_type": "markdown",
   "metadata": {},
   "source": [
    "- Same as st.line_chart()."
   ]
  },
  {
   "cell_type": "markdown",
   "metadata": {},
   "source": [
    "### 4. st.altair_chart() – Altair Chart\n",
    "Displays charts created using the Altair library, allowing for highly customizable visualizations."
   ]
  },
  {
   "cell_type": "markdown",
   "metadata": {},
   "source": [
    "- **altair_chart**: The Altair chart object.\n",
    "- **use_container_width**: Adjust to container width if True."
   ]
  },
  {
   "cell_type": "markdown",
   "metadata": {},
   "source": [
    "### 5. st.pyplot() – Matplotlib Plots\n",
    "Displays charts created using Matplotlib, providing flexibility for custom visualizations."
   ]
  },
  {
   "cell_type": "markdown",
   "metadata": {},
   "source": [
    "- **fig**: The Matplotlib figure object to display."
   ]
  },
  {
   "cell_type": "markdown",
   "metadata": {},
   "source": [
    "### 6. st.plotly_chart() – Plotly Charts\n",
    "Displays interactive charts created using the Plotly library.\n",
    "\n",
    "- **figure_or_data**: Plotly figure or data.\n",
    "- **use_container_width**: Adjust to container width if True.\n"
   ]
  },
  {
   "cell_type": "markdown",
   "metadata": {},
   "source": [
    "### 7. st.deck_gl_chart() – Deck.gl Charts\n",
    "Visualizes geographical data using Deck.gl, a WebGL-powered library for geospatial visualization."
   ]
  },
  {
   "cell_type": "markdown",
   "metadata": {},
   "source": [
    "- **layers**: List of Deck.gl layers.\n",
    "- **viewport**: Defines the map viewport."
   ]
  },
  {
   "cell_type": "markdown",
   "metadata": {},
   "source": [
    "### 8. st.vega_lite_chart() – Vega-Lite Charts\n",
    "Displays charts created with the Vega-Lite grammar, which is concise and high-level."
   ]
  },
  {
   "cell_type": "markdown",
   "metadata": {},
   "source": [
    "- **spec**: The Vega-Lite specification dictionary.\n",
    "- **use_container_width**: Adjust to container width if True."
   ]
  },
  {
   "cell_type": "markdown",
   "metadata": {},
   "source": [
    "### 9. st.echarts() – ECharts\n",
    "Allows integration with Apache ECharts, a popular charting library."
   ]
  },
  {
   "cell_type": "markdown",
   "metadata": {},
   "source": [
    "#### Note:\n",
    "**st.echarts()** may require an additional plugin or custom component. Use it via a custom implementation for Streamlit."
   ]
  },
  {
   "cell_type": "markdown",
   "metadata": {},
   "source": [
    "### Other Charting Libraries\n",
    "You can also use other libraries like *Bokeh*, **Seaborn**,**Wordcoud**, or **ggplot2** by rendering their charts and passing the output to **st.pyplot()** or **st.write()**."
   ]
  },
  {
   "cell_type": "markdown",
   "metadata": {},
   "source": [
    "## See ChartElements.py"
   ]
  },
  {
   "cell_type": "markdown",
   "metadata": {},
   "source": [
    "# Layout Elements"
   ]
  },
  {
   "cell_type": "markdown",
   "metadata": {},
   "source": [
    "## See LayoutElements.py"
   ]
  },
  {
   "cell_type": "markdown",
   "metadata": {},
   "source": [
    "### 1. st.sidebar – Sidebar for Widgets\n",
    "Displays a dedicated sidebar for organizing widgets or content separately from the main page."
   ]
  },
  {
   "cell_type": "markdown",
   "metadata": {},
   "source": [
    "- **Purpose**: Keeps the main page clean by offloading controls to the sidebar."
   ]
  },
  {
   "cell_type": "markdown",
   "metadata": {},
   "source": [
    "### 2. st.container() – Grouping Elements\n",
    "Creates a container for grouping multiple elements. Useful for isolating specific sections of your app."
   ]
  },
  {
   "cell_type": "markdown",
   "metadata": {},
   "source": [
    "#### 2.1 st.container_width() – Auto-Adjust Content Width\n",
    "Expands the content to fit the container width."
   ]
  },
  {
   "cell_type": "markdown",
   "metadata": {},
   "source": [
    "### 3. st.columns() – Side-by-Side Layout\n",
    "Creates a multi-column layout to display elements horizontally."
   ]
  },
  {
   "cell_type": "markdown",
   "metadata": {},
   "source": [
    "- Accepts an integer or list of widths (e.g., [1, 2, 1])."
   ]
  },
  {
   "cell_type": "markdown",
   "metadata": {},
   "source": [
    "### 4. st.expander() – Expandable Section\n",
    "Creates a collapsible section for optional or detailed content."
   ]
  },
  {
   "cell_type": "markdown",
   "metadata": {},
   "source": [
    "### 5. st.empty() – Placeholder for Updates\n",
    "Creates a placeholder element that can be updated later."
   ]
  },
  {
   "cell_type": "markdown",
   "metadata": {},
   "source": [
    "### 6. st.progress() – Progress Bar\n",
    "Displays a progress bar for long-running operations."
   ]
  },
  {
   "cell_type": "markdown",
   "metadata": {},
   "source": [
    "### 7. st.metric() – Key Performance Indicator (KPI)\n",
    "Displays a metric with its current value and an optional delta value (useful for comparisons)."
   ]
  },
  {
   "cell_type": "markdown",
   "metadata": {},
   "source": [
    "### 8. st.tabs() – Tabbed Layouts\n",
    "Introduces a tabbed interface for grouping content into multiple views."
   ]
  },
  {
   "cell_type": "markdown",
   "metadata": {},
   "source": [
    "# Other Elements"
   ]
  },
  {
   "cell_type": "markdown",
   "metadata": {},
   "source": [
    "## 1. st.spinner() – Loading Spinner\n",
    "Displays a spinner animation while executing code, providing a visual indicator for long-running processes."
   ]
  },
  {
   "cell_type": "code",
   "execution_count": null,
   "metadata": {},
   "outputs": [],
   "source": [
    "import time\n",
    "import streamlit as st\n",
    "\n",
    "# Using a spinner\n",
    "with st.spinner(\"Loading...\"):\n",
    "    time.sleep(3)\n",
    "st.success(\"Done!\")"
   ]
  },
  {
   "cell_type": "markdown",
   "metadata": {},
   "source": [
    "### 2. st.cache() – Function Output Caching\n",
    "Caches the output of a function to speed up app performance by avoiding repeated computation."
   ]
  },
  {
   "cell_type": "code",
   "execution_count": null,
   "metadata": {},
   "outputs": [],
   "source": [
    "@st.cache\n",
    "def expensive_computation(x):\n",
    "    time.sleep(3)  # Simulate a long computation\n",
    "    return x * x\n",
    "\n",
    "# Cached computation\n",
    "result = expensive_computation(4)\n",
    "st.write(f\"Result: {result}\")"
   ]
  },
  {
   "cell_type": "markdown",
   "metadata": {},
   "source": [
    "- **Purpose**: Ideal for data loading or expensive operations."
   ]
  },
  {
   "cell_type": "markdown",
   "metadata": {},
   "source": [
    "### 3. st.cache_data() – Caching Data (Replaces st.cache for Data)\n",
    "Caches the result of a function intended specifically for caching data."
   ]
  },
  {
   "cell_type": "code",
   "execution_count": null,
   "metadata": {},
   "outputs": [],
   "source": [
    "@st.cache_data\n",
    "def load_data():\n",
    "    return {\"key\": \"value\"}\n",
    "\n",
    "st.write(load_data())"
   ]
  },
  {
   "cell_type": "markdown",
   "metadata": {},
   "source": [
    "### 4. st.cache_resource() – Resource-Level Caching\n",
    "Caches resources like connections or heavy objects. Useful for objects that don’t need to be reloaded (e.g., database connections)."
   ]
  },
  {
   "cell_type": "code",
   "execution_count": null,
   "metadata": {},
   "outputs": [],
   "source": [
    "@st.cache_resource\n",
    "def get_database_connection():\n",
    "    return \"Connected to Database\"\n",
    "\n",
    "st.write(get_database_connection())"
   ]
  },
  {
   "cell_type": "markdown",
   "metadata": {},
   "source": [
    "### 5. st.session_state – Persistent State Across Interactions\n",
    "Allows variables to persist between user interactions or reruns."
   ]
  },
  {
   "cell_type": "code",
   "execution_count": null,
   "metadata": {},
   "outputs": [],
   "source": [
    "# Using session state\n",
    "if \"count\" not in st.session_state:\n",
    "    st.session_state.count = 0\n",
    "\n",
    "if st.button(\"Increase Count\"):\n",
    "    st.session_state.count += 1\n",
    "\n",
    "st.write(f\"Count: {st.session_state.count}\")"
   ]
  },
  {
   "cell_type": "markdown",
   "metadata": {},
   "source": [
    "### 6. st.toast() – Toast Notifications\n",
    "Displays brief messages in a non-intrusive popup."
   ]
  },
  {
   "cell_type": "code",
   "execution_count": null,
   "metadata": {},
   "outputs": [],
   "source": [
    "st.toast(\"Action completed successfully!\")"
   ]
  },
  {
   "cell_type": "markdown",
   "metadata": {},
   "source": [
    "### 7. st.stop() – Stop Script Execution\n",
    "Halts script execution when called, useful for conditional logic."
   ]
  },
  {
   "cell_type": "code",
   "execution_count": null,
   "metadata": {},
   "outputs": [],
   "source": [
    "if not st.checkbox(\"Continue\"):\n",
    "    st.stop()\n",
    "\n",
    "st.write(\"You chose to continue.\")"
   ]
  },
  {
   "cell_type": "markdown",
   "metadata": {},
   "source": [
    "### 8. st.exception() – Display Python Exceptions\n",
    "Shows an exception traceback directly in the app."
   ]
  },
  {
   "cell_type": "code",
   "execution_count": null,
   "metadata": {},
   "outputs": [],
   "source": [
    "try:\n",
    "    1 / 0\n",
    "except Exception as e:\n",
    "    st.exception(e)"
   ]
  },
  {
   "cell_type": "markdown",
   "metadata": {},
   "source": [
    "### 9. st.help() – Display Documentation\n",
    "Provides a quick reference for Streamlit functions or objects."
   ]
  },
  {
   "cell_type": "code",
   "execution_count": null,
   "metadata": {},
   "outputs": [],
   "source": [
    "# Show help for a function\n",
    "st.help(st.metric)"
   ]
  },
  {
   "cell_type": "markdown",
   "metadata": {},
   "source": [
    "### 10. st.echo() – Display Code and Output Together\n",
    "Displays the code and its output side-by-side."
   ]
  },
  {
   "cell_type": "code",
   "execution_count": null,
   "metadata": {},
   "outputs": [],
   "source": [
    "with st.echo():\n",
    "    st.write(\"This code is displayed alongside its output.\")"
   ]
  },
  {
   "cell_type": "markdown",
   "metadata": {},
   "source": [
    "### 11. st.theme() – App-Wide Theming\n",
    "Customizes the appearance of the app using themes (set via config.toml)."
   ]
  },
  {
   "cell_type": "markdown",
   "metadata": {},
   "source": [
    "# Deploying on Streamlit Community Cloud"
   ]
  },
  {
   "cell_type": "markdown",
   "metadata": {},
   "source": [
    "Streamlit Community Cloud is a free hosting platform provided by Streamlit, ideal for sharing your Streamlit apps quickly."
   ]
  },
  {
   "cell_type": "markdown",
   "metadata": {},
   "source": [
    "## Step 1: Prepare Your Project\n",
    "- Organize Your Files:\n",
    "    - Ensure your Streamlit app is saved as app.py or any .py file.\n",
    "    - Include a **requirements.txt** file listing all Python dependencies (use pip freeze > requirements.txt to generate it).\n",
    "\n",
    "- Test Your App Locally: Run your app locally using:"
   ]
  },
  {
   "cell_type": "code",
   "execution_count": null,
   "metadata": {
    "vscode": {
     "languageId": "powershell"
    }
   },
   "outputs": [],
   "source": [
    "streamlit run app.py"
   ]
  },
  {
   "cell_type": "markdown",
   "metadata": {},
   "source": [
    "- Verify everything works as expected.\n",
    "\n",
    "## Step 2: Push Your Project to GitHub\n",
    "- Create a GitHub Repository"
   ]
  },
  {
   "cell_type": "markdown",
   "metadata": {},
   "source": [
    "## Step 3: Deploy on Streamlit Community Cloud\n",
    "- Login to Streamlit Cloud:\n",
    "    - Visit Streamlit Community Cloud and log in using your GitHub account.\n",
    "\n",
    "- Deploy Your App:\n",
    "    - Click \"New app\" and select the repository you just created.\n",
    "    - Choose the branch (main) and specify the app file path (e.g., app.py).\n",
    "    - Click \"Deploy\".\n",
    "\n",
    "- Wait for Deployment:\n",
    "    - Streamlit will automatically install dependencies and deploy your app.\n",
    "    - You’ll get a URL to access your app once the deployment is complete.\n"
   ]
  },
  {
   "cell_type": "markdown",
   "metadata": {},
   "source": [
    "# Sources"
   ]
  },
  {
   "cell_type": "markdown",
   "metadata": {},
   "source": [
    "<a href=\"https://www.youtube.com/playlist?list=PLa6CNrvKM5QU7AjAS90zCMIwi9RTFNIIW\">Python Streamlit Full Course by de Nileg Production</a>"
   ]
  },
  {
   "cell_type": "markdown",
   "metadata": {},
   "source": []
  }
 ],
 "metadata": {
  "language_info": {
   "name": "python"
  }
 },
 "nbformat": 4,
 "nbformat_minor": 2
}
