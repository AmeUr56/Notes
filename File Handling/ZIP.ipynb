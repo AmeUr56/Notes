{
 "cells": [
  {
   "cell_type": "markdown",
   "metadata": {},
   "source": [
    "# Introduction"
   ]
  },
  {
   "cell_type": "markdown",
   "metadata": {},
   "source": [
    "### What Is a ZIP File?"
   ]
  },
  {
   "cell_type": "markdown",
   "metadata": {},
   "source": [
    "ZIP files also known as **ZIP archives**, are files that use the **ZIP file format**.<br>\n",
    "**PKWARE** is the company that created and first implemented this file format.<br>\n",
    "The ZIP file format is a **cross-platform**, interoperable file storage and transfer format. It combines **lossless data compression**, **file management**, and **data encryption**.<br>\n",
    "**Data compression** isn’t a requirement for an archive to be considered a ZIP file."
   ]
  },
  {
   "cell_type": "markdown",
   "metadata": {},
   "source": [
    "### Why Use ZIP Files?"
   ]
  },
  {
   "cell_type": "markdown",
   "metadata": {},
   "source": [
    "Knowing how to **create**, **read**, **write**, and **extract** ZIP files can be a useful skill for developers and professionals who work with computers and digital information. Among other benefits, ZIP files allow you to:\n",
    "- **Reduce the size** of files and their storage requirements **without losing information**\n",
    "- **Improve transfer speed over the network** due to reduced size and single-file transfer\n",
    "- **Pack several related files** together into a single archive for efficient management\n",
    "- **Bundle your code** into a single archive for distribution purposes\n",
    "- **Secure your data** by using encryption, which is a common requirement nowadays\n",
    "- **Guarantee the integrity** of your information to avoid accidental and malicious changes to your data"
   ]
  },
  {
   "cell_type": "markdown",
   "metadata": {},
   "source": [
    "### Terminology"
   ]
  },
  {
   "cell_type": "markdown",
   "metadata": {},
   "source": [
    "Because the terminology around ZIP files can be confusing at times, this tutorial will stick to the following conventions regarding terminology:\n",
    "<table > \n",
    "    <thead>\n",
    "        <tr>\n",
    "            <th>Term</th>\n",
    "            <th >Meaning</th>\n",
    "        </tr>\n",
    "    </thead >\n",
    "    <tbody>\n",
    "        <tr>\n",
    "            <td>Term</td>\n",
    "            <td>ZIP file , ZIP archive , or archive</td> \n",
    "        </tr>\n",
    "        <tr>\n",
    "            <td>File</td>\n",
    "            <td>Physical file that uses the ZIP file format</td> \n",
    "        </tr>\n",
    "        <tr> \n",
    "            <td>Member file</td> \n",
    "            <td>File that is part of an existing ZIP file</td>\n",
    "        </tr>\n",
    "    </tbody>\n",
    "</table >"
   ]
  },
  {
   "cell_type": "markdown",
   "metadata": {},
   "source": [
    "# Manipulating Existing ZIP Files"
   ]
  },
  {
   "cell_type": "markdown",
   "metadata": {},
   "source": [
    "## Reading ZIP Files"
   ]
  },
  {
   "cell_type": "code",
   "execution_count": 2,
   "metadata": {},
   "outputs": [
    {
     "name": "stdout",
     "output_type": "stream",
     "text": [
      "File Name                                             Modified             Size\n",
      "spering-html/                                  2020-09-16 11:10:10            0\n",
      "spering-html/about.html                        2020-07-28 14:47:58        10108\n",
      "spering-html/category.html                     2020-07-28 14:48:10         9824\n",
      "spering-html/css/                              2020-09-16 11:10:10            0\n",
      "spering-html/css/bootstrap.css                 2019-02-13 20:17:50       192348\n",
      "spering-html/css/responsive.css                2020-01-24 15:36:32         3216\n",
      "spering-html/css/style.css                     2020-01-24 15:56:28        17458\n",
      "spering-html/css/style.css.map                 2020-01-24 15:56:28        14126\n",
      "spering-html/css/style.scss                    2020-01-24 15:56:28        12988\n",
      "spering-html/images/                           2020-09-16 11:10:10            0\n",
      "spering-html/images/about-img.jpg              2020-01-23 19:18:30        98932\n",
      "spering-html/images/c1.png                     2020-01-24 11:38:22         2604\n",
      "spering-html/images/c2.png                     2020-01-24 11:38:22         1273\n",
      "spering-html/images/c3.png                     2020-01-24 11:38:22          393\n",
      "spering-html/images/c4.png                     2020-01-24 11:38:22         1099\n",
      "spering-html/images/c5.png                     2020-01-24 11:38:22          820\n",
      "spering-html/images/c6.png                     2020-01-24 11:38:22         1092\n",
      "spering-html/images/call.png                   2020-01-24 12:45:04          423\n",
      "spering-html/images/experience-img.jpg         2020-01-23 19:05:46        95432\n",
      "spering-html/images/f1.png                     2020-01-23 19:34:10         2624\n",
      "spering-html/images/f2.png                     2020-01-23 19:34:10         2017\n",
      "spering-html/images/f3.png                     2020-01-23 19:34:10         2863\n",
      "spering-html/images/f4.png                     2020-01-23 19:34:10         1685\n",
      "spering-html/images/fb.png                     2019-08-30 17:41:18         1237\n",
      "spering-html/images/freelance-img.jpg          2020-01-23 19:46:10        93892\n",
      "spering-html/images/instagram.png              2020-01-23 13:02:00         1100\n",
      "spering-html/images/linkedin.png               2020-01-23 13:03:22          608\n",
      "spering-html/images/location.png               2020-01-24 12:45:04          429\n",
      "spering-html/images/logo.png                   2020-01-23 17:48:52         2219\n",
      "spering-html/images/mail.png                   2020-01-24 12:45:04          529\n",
      "spering-html/images/menu.png                   2020-01-24 15:49:16          162\n",
      "spering-html/images/next-angle.png             2020-01-24 11:53:12          247\n",
      "spering-html/images/next.png                   2020-01-23 18:36:24          215\n",
      "spering-html/images/prev-angle.png             2020-01-24 11:52:58          313\n",
      "spering-html/images/prev.png                   2020-01-23 18:36:08          244\n",
      "spering-html/images/quote.png                  2020-01-24 11:32:52          413\n",
      "spering-html/images/search-icon.png            2020-01-23 18:28:08          328\n",
      "spering-html/images/slider-img.png             2020-01-23 17:59:50       158848\n",
      "spering-html/images/twitter.png                2020-01-23 13:03:22          746\n",
      "spering-html/images/youtube.png                2020-01-23 13:03:22          613\n",
      "spering-html/index.html                        2020-07-28 14:47:48        23212\n",
      "spering-html/js/                               2020-09-16 11:10:10            0\n",
      "spering-html/js/bootstrap.js                   2020-09-16 11:11:20       131868\n",
      "spering-html/js/custom.js                      2020-01-24 13:20:14          448\n",
      "spering-html/js/jquery-3.4.1.min.js            2019-08-01 16:03:00        88145\n",
      "spering-html/work.html                         2020-07-28 14:48:20        11825\n"
     ]
    }
   ],
   "source": [
    "import zipfile\n",
    "\n",
    "try:\n",
    "    with zipfile.ZipFile(\"spering.zip\", mode=\"r\") as archive:\n",
    "        archive.printdir()\n",
    "except zipfile.BadZipFile as error:\n",
    "    print(error)"
   ]
  },
  {
   "cell_type": "markdown",
   "metadata": {},
   "source": [
    "- **Try - Except:** to make sure that we are targeting a valid ZIP file before we try to open it.\n",
    "- **printdir():** provides a quick way to display the content of the underlying ZIP file on the screen"
   ]
  },
  {
   "cell_type": "markdown",
   "metadata": {},
   "source": [
    "#### Check for a valid ZIP file"
   ]
  },
  {
   "cell_type": "code",
   "execution_count": 6,
   "metadata": {},
   "outputs": [
    {
     "name": "stdout",
     "output_type": "stream",
     "text": [
      "True\n",
      "False\n"
     ]
    }
   ],
   "source": [
    "print(zipfile.is_zipfile(\"spering.zip\"))\n",
    "print(zipfile.is_zipfile(\"not_exist.zip\"))"
   ]
  },
  {
   "cell_type": "markdown",
   "metadata": {},
   "source": [
    "## Writing to ZIP Files"
   ]
  },
  {
   "cell_type": "markdown",
   "metadata": {},
   "source": [
    "This adds **hello.txt**(must exist) to a **hello.zip** archive using ZipFile using **writing mode**."
   ]
  },
  {
   "cell_type": "code",
   "execution_count": null,
   "metadata": {},
   "outputs": [],
   "source": [
    "with zipfile.ZipFile(\"hello.zip\", mode=\"w\") as archive:\n",
    "    archive.write(\"hello.txt\")"
   ]
  },
  {
   "cell_type": "markdown",
   "metadata": {},
   "source": [
    "- **write()** on the ZipFile object. This method allows you to **write member files** into your ZIP archives. "
   ]
  },
  {
   "cell_type": "markdown",
   "metadata": {},
   "source": [
    "#### Note:\n",
    "If the target ZIP file doesn’t exist, then ZipFile creates it for you when you close the archive:"
   ]
  },
  {
   "cell_type": "markdown",
   "metadata": {},
   "source": [
    "## Appending to ZIP Files\n",
    "Allows you to append new member files to an existing ZIP file. This mode **doesn’t truncate** the archive, so its **original content is safe**. If the target ZIP file doesn’t exist, then the \"a\" mode **creates a new one** for you."
   ]
  },
  {
   "cell_type": "code",
   "execution_count": null,
   "metadata": {},
   "outputs": [],
   "source": [
    "with zipfile.ZipFile(\"hello.zip\", mode=\"a\") as archive:\n",
    "    archive.write(\"new_hello.txt\")"
   ]
  },
  {
   "cell_type": "markdown",
   "metadata": {},
   "source": [
    "## Reading Metadata From ZIP Files\n",
    "The ZipFile class provides several handy **methods** for extracting metadata from existing ZIP files.\n"
   ]
  },
  {
   "cell_type": "markdown",
   "metadata": {},
   "source": [
    "<table>\n",
    "    <thead>\n",
    "        <tr>\n",
    "            <th>Method</th>\n",
    "            <th>Description</th>\n",
    "        </tr>\n",
    "    </thead>\n",
    "    <tbody>\n",
    "        <tr>\n",
    "            <td>.getinfo(filename)</td>\n",
    "            <td>Returns a <code>ZipInfo</code> object with information about the member file provided by <code>filename</code>. Note that <code>filename</code> must hold the path to the target file inside the underlying ZIP file.</td>\n",
    "        </tr>\n",
    "        <tr>\n",
    "            <td>.infolist()</td>\n",
    "            <td>Returns a list of <code>ZipInfo</code> objects, one per member file.</td>\n",
    "        </tr>\n",
    "        <tr>\n",
    "            <td>.namelist()</td>\n",
    "            <td>Returns a list holding the names of all the member files in the underlying archive. The names in this list are valid arguments to <code>.getinfo()</code>.</td>\n",
    "        </tr>\n",
    "    </tbody>\n",
    "</table>\n"
   ]
  },
  {
   "cell_type": "markdown",
   "metadata": {},
   "source": [
    "### getinfo()"
   ]
  },
  {
   "cell_type": "code",
   "execution_count": 9,
   "metadata": {},
   "outputs": [
    {
     "name": "stdout",
     "output_type": "stream",
     "text": [
      "23212\n",
      "3183\n",
      "spering-html/index.html\n",
      "(2020, 7, 28, 14, 47, 48)\n"
     ]
    }
   ],
   "source": [
    "with zipfile.ZipFile(\"spering.zip\", mode=\"r\") as archive:\n",
    "    info = archive.getinfo(\"spering-html/index.html\")\n",
    "    \n",
    "print(info.file_size)\n",
    "print(info.compress_size)\n",
    "print(info.filename)\n",
    "print(info.date_time)"
   ]
  },
  {
   "cell_type": "markdown",
   "metadata": {},
   "source": [
    "#### Note: \n",
    "**ZipInfo** isn’t intended to be instantiated directly. The .getinfo() and .infolist() methods return ZipInfo objects automatically when you call them. However, ZipInfo includes a class method called **.from_file()**, which allows you to instantiate the class explicitly if you ever need to do it."
   ]
  },
  {
   "cell_type": "markdown",
   "metadata": {},
   "source": [
    "### infolist()"
   ]
  },
  {
   "cell_type": "code",
   "execution_count": 10,
   "metadata": {},
   "outputs": [
    {
     "name": "stdout",
     "output_type": "stream",
     "text": [
      "Filename: spering-html/\n",
      "Modified: 2020-09-16 11:10:10\n",
      "Normal size: 0 bytes\n",
      "Compressed size: 0 bytes\n",
      "--------------------\n",
      "Filename: spering-html/about.html\n",
      "Modified: 2020-07-28 14:47:58\n",
      "Normal size: 10108 bytes\n",
      "Compressed size: 2142 bytes\n",
      "--------------------\n",
      "Filename: spering-html/category.html\n",
      "Modified: 2020-07-28 14:48:10\n",
      "Normal size: 9824 bytes\n",
      "Compressed size: 1855 bytes\n",
      "--------------------\n",
      "Filename: spering-html/css/\n",
      "Modified: 2020-09-16 11:10:10\n",
      "Normal size: 0 bytes\n",
      "Compressed size: 0 bytes\n",
      "--------------------\n",
      "Filename: spering-html/css/bootstrap.css\n",
      "Modified: 2019-02-13 20:17:50\n",
      "Normal size: 192348 bytes\n",
      "Compressed size: 24679 bytes\n",
      "--------------------\n",
      "Filename: spering-html/css/responsive.css\n",
      "Modified: 2020-01-24 15:36:32\n",
      "Normal size: 3216 bytes\n",
      "Compressed size: 825 bytes\n",
      "--------------------\n",
      "Filename: spering-html/css/style.css\n",
      "Modified: 2020-01-24 15:56:28\n",
      "Normal size: 17458 bytes\n",
      "Compressed size: 2644 bytes\n",
      "--------------------\n",
      "Filename: spering-html/css/style.css.map\n",
      "Modified: 2020-01-24 15:56:28\n",
      "Normal size: 14126 bytes\n",
      "Compressed size: 3179 bytes\n",
      "--------------------\n",
      "Filename: spering-html/css/style.scss\n",
      "Modified: 2020-01-24 15:56:28\n",
      "Normal size: 12988 bytes\n",
      "Compressed size: 2729 bytes\n",
      "--------------------\n",
      "Filename: spering-html/images/\n",
      "Modified: 2020-09-16 11:10:10\n",
      "Normal size: 0 bytes\n",
      "Compressed size: 0 bytes\n",
      "--------------------\n",
      "Filename: spering-html/images/about-img.jpg\n",
      "Modified: 2020-01-23 19:18:30\n",
      "Normal size: 98932 bytes\n",
      "Compressed size: 87045 bytes\n",
      "--------------------\n",
      "Filename: spering-html/images/c1.png\n",
      "Modified: 2020-01-24 11:38:22\n",
      "Normal size: 2604 bytes\n",
      "Compressed size: 2609 bytes\n",
      "--------------------\n",
      "Filename: spering-html/images/c2.png\n",
      "Modified: 2020-01-24 11:38:22\n",
      "Normal size: 1273 bytes\n",
      "Compressed size: 1278 bytes\n",
      "--------------------\n",
      "Filename: spering-html/images/c3.png\n",
      "Modified: 2020-01-24 11:38:22\n",
      "Normal size: 393 bytes\n",
      "Compressed size: 338 bytes\n",
      "--------------------\n",
      "Filename: spering-html/images/c4.png\n",
      "Modified: 2020-01-24 11:38:22\n",
      "Normal size: 1099 bytes\n",
      "Compressed size: 1104 bytes\n",
      "--------------------\n",
      "Filename: spering-html/images/c5.png\n",
      "Modified: 2020-01-24 11:38:22\n",
      "Normal size: 820 bytes\n",
      "Compressed size: 825 bytes\n",
      "--------------------\n",
      "Filename: spering-html/images/c6.png\n",
      "Modified: 2020-01-24 11:38:22\n",
      "Normal size: 1092 bytes\n",
      "Compressed size: 1097 bytes\n",
      "--------------------\n",
      "Filename: spering-html/images/call.png\n",
      "Modified: 2020-01-24 12:45:04\n",
      "Normal size: 423 bytes\n",
      "Compressed size: 428 bytes\n",
      "--------------------\n",
      "Filename: spering-html/images/experience-img.jpg\n",
      "Modified: 2020-01-23 19:05:46\n",
      "Normal size: 95432 bytes\n",
      "Compressed size: 92887 bytes\n",
      "--------------------\n",
      "Filename: spering-html/images/f1.png\n",
      "Modified: 2020-01-23 19:34:10\n",
      "Normal size: 2624 bytes\n",
      "Compressed size: 2629 bytes\n",
      "--------------------\n",
      "Filename: spering-html/images/f2.png\n",
      "Modified: 2020-01-23 19:34:10\n",
      "Normal size: 2017 bytes\n",
      "Compressed size: 2022 bytes\n",
      "--------------------\n",
      "Filename: spering-html/images/f3.png\n",
      "Modified: 2020-01-23 19:34:10\n",
      "Normal size: 2863 bytes\n",
      "Compressed size: 2868 bytes\n",
      "--------------------\n",
      "Filename: spering-html/images/f4.png\n",
      "Modified: 2020-01-23 19:34:10\n",
      "Normal size: 1685 bytes\n",
      "Compressed size: 1690 bytes\n",
      "--------------------\n",
      "Filename: spering-html/images/fb.png\n",
      "Modified: 2019-08-30 17:41:18\n",
      "Normal size: 1237 bytes\n",
      "Compressed size: 917 bytes\n",
      "--------------------\n",
      "Filename: spering-html/images/freelance-img.jpg\n",
      "Modified: 2020-01-23 19:46:10\n",
      "Normal size: 93892 bytes\n",
      "Compressed size: 86135 bytes\n",
      "--------------------\n",
      "Filename: spering-html/images/instagram.png\n",
      "Modified: 2020-01-23 13:02:00\n",
      "Normal size: 1100 bytes\n",
      "Compressed size: 1105 bytes\n",
      "--------------------\n",
      "Filename: spering-html/images/linkedin.png\n",
      "Modified: 2020-01-23 13:03:22\n",
      "Normal size: 608 bytes\n",
      "Compressed size: 613 bytes\n",
      "--------------------\n",
      "Filename: spering-html/images/location.png\n",
      "Modified: 2020-01-24 12:45:04\n",
      "Normal size: 429 bytes\n",
      "Compressed size: 434 bytes\n",
      "--------------------\n",
      "Filename: spering-html/images/logo.png\n",
      "Modified: 2020-01-23 17:48:52\n",
      "Normal size: 2219 bytes\n",
      "Compressed size: 2224 bytes\n",
      "--------------------\n",
      "Filename: spering-html/images/mail.png\n",
      "Modified: 2020-01-24 12:45:04\n",
      "Normal size: 529 bytes\n",
      "Compressed size: 534 bytes\n",
      "--------------------\n",
      "Filename: spering-html/images/menu.png\n",
      "Modified: 2020-01-24 15:49:16\n",
      "Normal size: 162 bytes\n",
      "Compressed size: 162 bytes\n",
      "--------------------\n",
      "Filename: spering-html/images/next-angle.png\n",
      "Modified: 2020-01-24 11:53:12\n",
      "Normal size: 247 bytes\n",
      "Compressed size: 252 bytes\n",
      "--------------------\n",
      "Filename: spering-html/images/next.png\n",
      "Modified: 2020-01-23 18:36:24\n",
      "Normal size: 215 bytes\n",
      "Compressed size: 217 bytes\n",
      "--------------------\n",
      "Filename: spering-html/images/prev-angle.png\n",
      "Modified: 2020-01-24 11:52:58\n",
      "Normal size: 313 bytes\n",
      "Compressed size: 318 bytes\n",
      "--------------------\n",
      "Filename: spering-html/images/prev.png\n",
      "Modified: 2020-01-23 18:36:08\n",
      "Normal size: 244 bytes\n",
      "Compressed size: 249 bytes\n",
      "--------------------\n",
      "Filename: spering-html/images/quote.png\n",
      "Modified: 2020-01-24 11:32:52\n",
      "Normal size: 413 bytes\n",
      "Compressed size: 418 bytes\n",
      "--------------------\n",
      "Filename: spering-html/images/search-icon.png\n",
      "Modified: 2020-01-23 18:28:08\n",
      "Normal size: 328 bytes\n",
      "Compressed size: 333 bytes\n",
      "--------------------\n",
      "Filename: spering-html/images/slider-img.png\n",
      "Modified: 2020-01-23 17:59:50\n",
      "Normal size: 158848 bytes\n",
      "Compressed size: 158839 bytes\n",
      "--------------------\n",
      "Filename: spering-html/images/twitter.png\n",
      "Modified: 2020-01-23 13:03:22\n",
      "Normal size: 746 bytes\n",
      "Compressed size: 751 bytes\n",
      "--------------------\n",
      "Filename: spering-html/images/youtube.png\n",
      "Modified: 2020-01-23 13:03:22\n",
      "Normal size: 613 bytes\n",
      "Compressed size: 618 bytes\n",
      "--------------------\n",
      "Filename: spering-html/index.html\n",
      "Modified: 2020-07-28 14:47:48\n",
      "Normal size: 23212 bytes\n",
      "Compressed size: 3183 bytes\n",
      "--------------------\n",
      "Filename: spering-html/js/\n",
      "Modified: 2020-09-16 11:10:10\n",
      "Normal size: 0 bytes\n",
      "Compressed size: 0 bytes\n",
      "--------------------\n",
      "Filename: spering-html/js/bootstrap.js\n",
      "Modified: 2020-09-16 11:11:20\n",
      "Normal size: 131868 bytes\n",
      "Compressed size: 24758 bytes\n",
      "--------------------\n",
      "Filename: spering-html/js/custom.js\n",
      "Modified: 2020-01-24 13:20:14\n",
      "Normal size: 448 bytes\n",
      "Compressed size: 260 bytes\n",
      "--------------------\n",
      "Filename: spering-html/js/jquery-3.4.1.min.js\n",
      "Modified: 2019-08-01 16:03:00\n",
      "Normal size: 88145 bytes\n",
      "Compressed size: 30394 bytes\n",
      "--------------------\n",
      "Filename: spering-html/work.html\n",
      "Modified: 2020-07-28 14:48:20\n",
      "Normal size: 11825 bytes\n",
      "Compressed size: 2096 bytes\n",
      "--------------------\n"
     ]
    }
   ],
   "source": [
    "import datetime\n",
    "\n",
    "with zipfile.ZipFile(\"spering.zip\", mode=\"r\") as archive:\n",
    "    for info in archive.infolist():\n",
    "        print(f\"Filename: {info.filename}\")\n",
    "        print(f\"Modified: {datetime.datetime(*info.date_time)}\")\n",
    "        print(f\"Normal size: {info.file_size} bytes\")\n",
    "        print(f\"Compressed size: {info.compress_size} bytes\")\n",
    "        print(\"-\" * 20)"
   ]
  },
  {
   "cell_type": "markdown",
   "metadata": {},
   "source": [
    "### namelist()"
   ]
  },
  {
   "cell_type": "markdown",
   "metadata": {},
   "source": [
    "If you just need to perform a **quick check** on a ZIP file and list the names of its member files, then you can use **.namelist()**:"
   ]
  },
  {
   "cell_type": "code",
   "execution_count": 11,
   "metadata": {},
   "outputs": [
    {
     "name": "stdout",
     "output_type": "stream",
     "text": [
      "spering-html/\n",
      "spering-html/about.html\n",
      "spering-html/category.html\n",
      "spering-html/css/\n",
      "spering-html/css/bootstrap.css\n",
      "spering-html/css/responsive.css\n",
      "spering-html/css/style.css\n",
      "spering-html/css/style.css.map\n",
      "spering-html/css/style.scss\n",
      "spering-html/images/\n",
      "spering-html/images/about-img.jpg\n",
      "spering-html/images/c1.png\n",
      "spering-html/images/c2.png\n",
      "spering-html/images/c3.png\n",
      "spering-html/images/c4.png\n",
      "spering-html/images/c5.png\n",
      "spering-html/images/c6.png\n",
      "spering-html/images/call.png\n",
      "spering-html/images/experience-img.jpg\n",
      "spering-html/images/f1.png\n",
      "spering-html/images/f2.png\n",
      "spering-html/images/f3.png\n",
      "spering-html/images/f4.png\n",
      "spering-html/images/fb.png\n",
      "spering-html/images/freelance-img.jpg\n",
      "spering-html/images/instagram.png\n",
      "spering-html/images/linkedin.png\n",
      "spering-html/images/location.png\n",
      "spering-html/images/logo.png\n",
      "spering-html/images/mail.png\n",
      "spering-html/images/menu.png\n",
      "spering-html/images/next-angle.png\n",
      "spering-html/images/next.png\n",
      "spering-html/images/prev-angle.png\n",
      "spering-html/images/prev.png\n",
      "spering-html/images/quote.png\n",
      "spering-html/images/search-icon.png\n",
      "spering-html/images/slider-img.png\n",
      "spering-html/images/twitter.png\n",
      "spering-html/images/youtube.png\n",
      "spering-html/index.html\n",
      "spering-html/js/\n",
      "spering-html/js/bootstrap.js\n",
      "spering-html/js/custom.js\n",
      "spering-html/js/jquery-3.4.1.min.js\n",
      "spering-html/work.html\n"
     ]
    }
   ],
   "source": [
    "with zipfile.ZipFile(\"spering.zip\", mode=\"r\") as archive:\n",
    "    for filename in archive.namelist():\n",
    "        print(filename)"
   ]
  },
  {
   "cell_type": "markdown",
   "metadata": {},
   "source": [
    "Because the filenames in this output are valid arguments to .getinfo(), you can combine these two methods to retrieve information about selected member files only."
   ]
  },
  {
   "cell_type": "markdown",
   "metadata": {},
   "source": [
    "#### Example:\n",
    "You may have a ZIP file containing different types of member files (.docx, .xlsx, .txt, and so on).<br>\n",
    "Instead of getting the complete information with **.infolist()**, you just need to get the information about the .docx files.<br>\n",
    "Then you can filter the files by their extension and call **.getinfo()** on your .docx files only. Go ahead and give it a try!"
   ]
  },
  {
   "cell_type": "markdown",
   "metadata": {},
   "source": [
    "## Reading From and Writing to Member Files"
   ]
  },
  {
   "cell_type": "markdown",
   "metadata": {},
   "source": [
    "**.read()** takes a member file’s name and returns that file’s content as bytes:"
   ]
  },
  {
   "cell_type": "code",
   "execution_count": 16,
   "metadata": {},
   "outputs": [
    {
     "name": "stdout",
     "output_type": "stream",
     "text": [
      "b'// nav menu style\\r'\n",
      "b'var nav = $(\"#navbarSupportedContent\");\\r'\n",
      "b'var btn = $(\".custom_menu-btn\");\\r'\n",
      "b'btn.click\\r'\n",
      "b'btn.click(function (e) {\\r'\n",
      "b'\\r'\n",
      "b'    e.preventDefault();\\r'\n",
      "b'    nav.toggleClass(\"lg_nav-toggle\");\\r'\n",
      "b'    document.querySelector(\".custom_menu-btn\").classList.toggle(\"menu_btn-style\")\\r'\n",
      "b'});\\r'\n",
      "b'\\r'\n",
      "b'\\r'\n",
      "b'function getCurrentYear() {\\r'\n",
      "b'    var d = new Date();\\r'\n",
      "b'    var currentYear = d.getFullYear()\\r'\n",
      "b'\\r'\n",
      "b'    $(\"#displayDate\").html(currentYear);\\r'\n",
      "b'}\\r'\n",
      "b'\\r'\n",
      "b'getCurrentYear();'\n"
     ]
    }
   ],
   "source": [
    "with zipfile.ZipFile(\"spering.zip\", mode=\"r\") as archive:\n",
    "    for line in archive.read(\"spering-html/js/custom.js\").split(b\"\\n\"):\n",
    "        print(line)"
   ]
  },
  {
   "cell_type": "markdown",
   "metadata": {},
   "source": [
    "To use **.read()**, you need to open the ZIP file for reading or appending.<br>\n",
    "Note that **.read()** returns the content of the target file as a stream of bytes.<br>\n",
    "In this example, you use **.split()** to split the stream into lines, using the line feed character **\"\\n\" as a separator**. Because **.split()** is operating on a byte object, you need to add a leading **b** to the string used as an argument."
   ]
  },
  {
   "cell_type": "markdown",
   "metadata": {},
   "source": [
    "- **ZipFile.read()** also accepts a second positional argument called pwd. This argument allows you to provide a password for reading encrypted files."
   ]
  },
  {
   "cell_type": "code",
   "execution_count": null,
   "metadata": {},
   "outputs": [],
   "source": [
    "with zipfile.ZipFile(\"sample_pwd.zip\", mode=\"r\") as archive:\n",
    "    for line in archive.read(\"hello.txt\", pwd=b\"secret\").split(b\"\\n\"):\n",
    "        print(line)"
   ]
  },
  {
   "cell_type": "markdown",
   "metadata": {},
   "source": [
    "#### Note\n",
    "For large encrypted ZIP files, keep in mind that the decryption operation **can be extremely slow** because it’s implemented in pure Python. In such cases, consider using a **specialized program** to handle your archives instead of using zipfile."
   ]
  },
  {
   "cell_type": "markdown",
   "metadata": {},
   "source": [
    "- you can use ZipFile.setpassword() to set a global password"
   ]
  },
  {
   "cell_type": "code",
   "execution_count": null,
   "metadata": {},
   "outputs": [],
   "source": [
    "with zipfile.ZipFile(\"sample_pwd.zip\", mode=\"r\") as archive:\n",
    "    archive.setpassword(b\"secret\")\n",
    "    for file in archive.namelist():\n",
    "        print(file)\n",
    "        print(\"-\" * 20)\n",
    "        for line in archive.read(file).split(b\"\\n\"):\n",
    "            print(line)"
   ]
  },
  {
   "cell_type": "markdown",
   "metadata": {},
   "source": [
    "#### Note\n",
    "Consider that when you use the pwd argument, you’re overriding whatever archive-level password you may have set with **.setpassword()**."
   ]
  },
  {
   "cell_type": "markdown",
   "metadata": {},
   "source": [
    "#### Simpler Approach\n",
    "**ZipFile.open()** is for you. Like the built-in open() function, this method implements the context manager protocol, and therefore it supports the with statement:"
   ]
  },
  {
   "cell_type": "code",
   "execution_count": null,
   "metadata": {},
   "outputs": [],
   "source": [
    "with zipfile.ZipFile(\"sample.zip\", mode=\"r\") as archive:\n",
    "    with archive.open(\"hello.txt\", mode=\"r\") as hello:\n",
    "        for line in hello:\n",
    "            print(line)"
   ]
  },
  {
   "cell_type": "markdown",
   "metadata": {},
   "source": [
    "- You can also use **.open()** with the \"w\" or \"a\" mode to create files or appending to them ... "
   ]
  },
  {
   "cell_type": "code",
   "execution_count": null,
   "metadata": {},
   "outputs": [],
   "source": [
    "with zipfile.ZipFile(\"sample.zip\", mode=\"a\") as archive:\n",
    "    with archive.open(\"new_hello.txt\", \"w\") as new_hello:\n",
    "        new_hello.write(b\"Hello, World!\")"
   ]
  },
  {
   "cell_type": "markdown",
   "metadata": {},
   "source": [
    "### Reading the Content of Member Files as Text\n",
    "- bytes.decode()\n",
    "- io.TextIOWrapper"
   ]
  },
  {
   "cell_type": "code",
   "execution_count": null,
   "metadata": {},
   "outputs": [],
   "source": [
    "# First Method\n",
    "with zipfile.ZipFile(\"sample.zip\", mode=\"r\") as archive:\n",
    "    text = archive.read(\"hello.txt\").decode(encoding=\"utf-8\")"
   ]
  },
  {
   "cell_type": "code",
   "execution_count": null,
   "metadata": {},
   "outputs": [],
   "source": [
    "# Second Method\n"
   ]
  },
  {
   "cell_type": "markdown",
   "metadata": {},
   "source": [
    "## Extracting Member Files From Your ZIP Archives"
   ]
  },
  {
   "cell_type": "markdown",
   "metadata": {},
   "source": [
    "**ZipFile.extract()** takes the name of a member file and extracts it to a given directory signaled by path. The destination path defaults to the current directory:"
   ]
  },
  {
   "cell_type": "code",
   "execution_count": null,
   "metadata": {},
   "outputs": [],
   "source": [
    "with zipfile.ZipFile(\"sample.zip\", mode=\"r\") as archive:\n",
    "    for file in archive.namelist():\n",
    "        if file.endswith(\".md\"):\n",
    "            archive.extract(file, \"output_dir/\")"
   ]
  },
  {
   "cell_type": "markdown",
   "metadata": {},
   "source": [
    "#### Note\n",
    "If the target filename already exists in the output directory, then **.extract()** overwrites it without asking for confirmation."
   ]
  },
  {
   "cell_type": "markdown",
   "metadata": {},
   "source": [
    "**ZipFile.extractall()** for extracting all the member files from an archive."
   ]
  },
  {
   "cell_type": "code",
   "execution_count": null,
   "metadata": {},
   "outputs": [],
   "source": [
    "with zipfile.ZipFile(\"sample.zip\", mode=\"r\") as archive:\n",
    "    archive.extractall(\"output_dir/\")"
   ]
  },
  {
   "cell_type": "markdown",
   "metadata": {},
   "source": [
    "- If you only need to **extract some of the member files** from a given archive, then you can use the **members argument**. This argument accepts a list of member files, which should be a subset of the whole list of files in the archive at hand.<br>\n",
    "- Finally, just like .extract(), the .extractall() method also accepts a **pwd argument to extract encrypted files**."
   ]
  },
  {
   "cell_type": "markdown",
   "metadata": {},
   "source": [
    "## Closing ZIP Files After Use"
   ]
  },
  {
   "cell_type": "markdown",
   "metadata": {},
   "source": [
    "It’s convenient for you to open a given ZIP file without using a with statement. In those cases, you need to manually close the archive after use to complete any writing operations and to free the acquired resources."
   ]
  },
  {
   "cell_type": "code",
   "execution_count": null,
   "metadata": {},
   "outputs": [],
   "source": [
    "archive = zipfile.ZipFile(\"sample.zip\", mode=\"r\")\n",
    "archive.printdir()\n",
    "\n",
    "# Close the archive when you're done\n",
    "archive.close()\n",
    "archive"
   ]
  },
  {
   "cell_type": "markdown",
   "metadata": {},
   "source": [
    "# Manipulating Own ZIP Files"
   ]
  },
  {
   "cell_type": "markdown",
   "metadata": {},
   "source": [
    "## Creating a ZIP File From Multiple Regular Files"
   ]
  },
  {
   "cell_type": "code",
   "execution_count": null,
   "metadata": {},
   "outputs": [],
   "source": [
    "filenames = [\"hello.txt\", \"lorem.md\", \"realpython.md\"]\n",
    "\n",
    "with zipfile.ZipFile(\"multiple_files.zip\", mode=\"w\") as archive:\n",
    "    for filename in filenames:\n",
    "        archive.write(filename)"
   ]
  },
  {
   "cell_type": "markdown",
   "metadata": {},
   "source": [
    "## Building a ZIP File From a Directory"
   ]
  },
  {
   "cell_type": "markdown",
   "metadata": {},
   "source": [
    "#### Example:\n",
    "source_dir/<br>\n",
    "│<br>\n",
    "├── hello.txt<br>\n",
    "├── lorem.md<br>\n",
    "└── realpython.md<br>"
   ]
  },
  {
   "cell_type": "markdown",
   "metadata": {},
   "source": [
    "- Because the directory **doesn’t contain subdirectories**, you can use pathlib.Path.iterdir() to iterate over its content directly."
   ]
  },
  {
   "cell_type": "code",
   "execution_count": null,
   "metadata": {},
   "outputs": [],
   "source": [
    "import pathlib\n",
    "\n",
    "directory = pathlib.Path(\"source_dir/\")\n",
    "\n",
    "with zipfile.ZipFile(\"directory.zip\", mode=\"w\") as archive:\n",
    "    for file_path in directory.iterdir():\n",
    "        archive.write(file_path, arcname=file_path.name)"
   ]
  },
  {
   "cell_type": "markdown",
   "metadata": {},
   "source": [
    "In this case, we passed **file_path.name** to the second argument of **.write()**. This argument is called **arcname** and holds the **name of the member file inside the resulting archive**. All the examples that you’ve seen so far rely on the **default value of arcname**, which is the same filename you pass as the first argument to .write()."
   ]
  },
  {
   "cell_type": "markdown",
   "metadata": {},
   "source": [
    "#### Example\n",
    "root_dir/<br>\n",
    "│<br>\n",
    "├── sub_dir/<br>\n",
    "│   └── new_hello.txt<br>\n",
    "│<br>\n",
    "├── hello.txt<br>\n",
    "├── lorem.md<br>\n",
    "└── realpython.md<br>"
   ]
  },
  {
   "cell_type": "markdown",
   "metadata": {},
   "source": [
    "- You have the **usual files and a subdirectory** with a single file in it. If you want to create a ZIP file with this same internal structure, then you need a tool that recursively iterates through the directory tree under root_dir/."
   ]
  },
  {
   "cell_type": "code",
   "execution_count": null,
   "metadata": {},
   "outputs": [],
   "source": [
    "directory = pathlib.Path(\"root_dir/\")\n",
    "\n",
    "with zipfile.ZipFile(\"directory_tree.zip\", mode=\"w\") as archive:\n",
    "    for file_path in directory.rglob(\"*\"):\n",
    "        archive.write(\n",
    "            file_path,\n",
    "            arcname=file_path.relative_to(directory)\n",
    "        )"
   ]
  },
  {
   "cell_type": "markdown",
   "metadata": {},
   "source": [
    "n this example, you use **Path.rglob()** to recursively traverse the directory tree under **root_dir/**. Then you write every file and subdirectory to the target ZIP archive."
   ]
  },
  {
   "cell_type": "markdown",
   "metadata": {},
   "source": [
    "# Compressing Files and Directories"
   ]
  },
  {
   "cell_type": "markdown",
   "metadata": {},
   "source": [
    "The **compression** method is the third argument to the initializer of ZipFile. If you want to compress your files while you write them into a ZIP archive, then you can set this argument to one of the following constants:"
   ]
  },
  {
   "cell_type": "markdown",
   "metadata": {},
   "source": [
    "<table>\n",
    "    <thead>\n",
    "        <tr>\n",
    "            <th>Constant</th>\n",
    "            <th>Compression Method</th>\n",
    "            <th>Required Module</th>\n",
    "        </tr>\n",
    "    </thead>\n",
    "    <tbody>\n",
    "        <tr>\n",
    "            <td>zipfile.ZIP_DEFLATED</td>\n",
    "            <td>Deflate</td>\n",
    "            <td>zlib</td>\n",
    "        </tr>\n",
    "        <tr>\n",
    "            <td>zipfile.ZIP_BZIP2</td>\n",
    "            <td>Bzip2</td>\n",
    "            <td>bz2</td>\n",
    "        </tr>\n",
    "        <tr>\n",
    "            <td>zipfile.ZIP_LZMA</td>\n",
    "            <td>LZMA</td>\n",
    "            <td>lzma</td>\n",
    "        </tr>\n",
    "    </tbody>\n",
    "</table>"
   ]
  },
  {
   "cell_type": "markdown",
   "metadata": {},
   "source": [
    "#### Example:\n",
    "Now say you want to archive and compress the content of a given directory using the Deflate method, which is the most commonly used method in ZIP files. To do that, you can run the following code:"
   ]
  },
  {
   "cell_type": "code",
   "execution_count": null,
   "metadata": {},
   "outputs": [],
   "source": [
    "import pathlib\n",
    "from zipfile import ZipFile, ZIP_DEFLATED\n",
    "\n",
    "directory = pathlib.Path(\"source_dir/\")\n",
    "\n",
    "with ZipFile(\"comp_dir.zip\", \"w\", ZIP_DEFLATED, compresslevel=9) as archive:\n",
    "    for file_path in directory.rglob(\"*\"):\n",
    "        archive.write(file_path, arcname=file_path.relative_to(directory))"
   ]
  },
  {
   "cell_type": "markdown",
   "metadata": {},
   "source": [
    "# Additional Classes From zipfile"
   ]
  },
  {
   "cell_type": "markdown",
   "metadata": {},
   "source": [
    "## Finding Path in a ZIP File"
   ]
  },
  {
   "cell_type": "markdown",
   "metadata": {},
   "source": [
    "The zipfile.Path class allows you to construct path objects to quickly create and manage paths to member files and directories inside a given ZIP file. The class takes two arguments:\n",
    "\n",
    "- **root** accepts a ZIP file, either as a ZipFile object or a string-based path to a physical ZIP file.\n",
    "- **at** holds the location of a specific member file or directory inside the archive. It defaults to the empty string, representing the root of the archive."
   ]
  },
  {
   "cell_type": "code",
   "execution_count": null,
   "metadata": {},
   "outputs": [],
   "source": [
    "import zipfile\n",
    "\n",
    "hello_txt = zipfile.Path(\"sample.zip\", \"hello.txt\")\n",
    "\n",
    "print(hello_txt)\n",
    "\n",
    "print(hello_txt.name)\n",
    "\n",
    "print(hello_txt.is_file())\n",
    "\n",
    "print(hello_txt.exists())\n",
    "\n",
    "print(hello_txt.read_text())"
   ]
  },
  {
   "cell_type": "markdown",
   "metadata": {},
   "source": [
    "This code shows that **zipfile.Path** implements several features that are common to a **pathlib.Path** object. You can get the name of the file with **.name**. You can check if the path points to a regular file with **.is_file()**. You can check if a given file exists inside a particular ZIP file, and more."
   ]
  },
  {
   "cell_type": "markdown",
   "metadata": {},
   "source": [
    "# Sources\n",
    "- <a href=\"https://realpython.com/python-zipfile/\">Python's zipfile: Manipulate Your ZIP Files Efficiently by Real Python</a>"
   ]
  }
 ],
 "metadata": {
  "kernelspec": {
   "display_name": "Python 3",
   "language": "python",
   "name": "python3"
  },
  "language_info": {
   "codemirror_mode": {
    "name": "ipython",
    "version": 3
   },
   "file_extension": ".py",
   "mimetype": "text/x-python",
   "name": "python",
   "nbconvert_exporter": "python",
   "pygments_lexer": "ipython3",
   "version": "3.11.3"
  }
 },
 "nbformat": 4,
 "nbformat_minor": 2
}
