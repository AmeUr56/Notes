{
 "cells": [
  {
   "cell_type": "markdown",
   "metadata": {},
   "source": [
    "# 1. Introduction"
   ]
  },
  {
   "cell_type": "markdown",
   "metadata": {},
   "source": [
    "lxml is a powerful and flexible library for working with **XML** and **HTML** documents in Python. It supports **XPath for querying** documents, making it an excellent tool for parsing and processing XML/HTML data."
   ]
  },
  {
   "cell_type": "code",
   "execution_count": null,
   "metadata": {
    "vscode": {
     "languageId": "powershell"
    }
   },
   "outputs": [],
   "source": [
    "pip install lxml"
   ]
  },
  {
   "cell_type": "markdown",
   "metadata": {},
   "source": [
    "# 2. Parsing XML\n",
    "You can parse XML documents in two ways: from a string or from a file."
   ]
  },
  {
   "cell_type": "markdown",
   "metadata": {},
   "source": [
    "## 2.1 Parsing XML from a String"
   ]
  },
  {
   "cell_type": "code",
   "execution_count": null,
   "metadata": {},
   "outputs": [],
   "source": [
    "from lxml import etree\n",
    "\n",
    "# Sample XML data\n",
    "xml_data = \"\"\"<books>\n",
    "    <book id=\"1\">\n",
    "        <title>Python Programming</title>\n",
    "        <author>John Doe</author>\n",
    "    </book>\n",
    "    <book id=\"2\">\n",
    "        <title>Web Scraping with Python</title>\n",
    "        <author>Jane Smith</author>\n",
    "    </book>\n",
    "</books>\"\"\"\n",
    "\n",
    "# Parse XML from a string\n",
    "root = etree.fromstring(xml_data)\n",
    "\n",
    "# Access elements\n",
    "for book in root.findall('book'):\n",
    "    title = book.find('title').text\n",
    "    author = book.find('author').text\n",
    "    print(f\"Title: {title}, Author: {author}\")"
   ]
  },
  {
   "cell_type": "markdown",
   "metadata": {},
   "source": [
    "## 2.2 Parsing XML from a file"
   ]
  },
  {
   "cell_type": "code",
   "execution_count": null,
   "metadata": {},
   "outputs": [],
   "source": [
    "# Parse XML from a file\n",
    "tree = etree.parse('books.xml')\n",
    "root = tree.getroot()\n",
    "\n",
    "# Access elements\n",
    "for book in root.findall('book'):\n",
    "    title = book.find('title').text\n",
    "    author = book.find('author').text\n",
    "    print(f\"Title: {title}, Author: {author}\")"
   ]
  },
  {
   "cell_type": "markdown",
   "metadata": {},
   "source": [
    "# 3. XPath Queries"
   ]
  },
  {
   "cell_type": "markdown",
   "metadata": {},
   "source": [
    "XPath is a powerful language used to navigate through elements in XML documents."
   ]
  },
  {
   "cell_type": "markdown",
   "metadata": {},
   "source": [
    "### See Scrapy Tutorial for XPath explanation"
   ]
  },
  {
   "cell_type": "markdown",
   "metadata": {},
   "source": [
    "# 4. Manipulating XML Data"
   ]
  },
  {
   "cell_type": "markdown",
   "metadata": {},
   "source": [
    "You can modify XML elements by accessing them and changing their text or attributes."
   ]
  },
  {
   "cell_type": "markdown",
   "metadata": {},
   "source": [
    "## 4.1 Modify Element Text"
   ]
  },
  {
   "cell_type": "code",
   "execution_count": null,
   "metadata": {},
   "outputs": [],
   "source": [
    "# Change the title of the first book\n",
    "first_book = root.xpath(\"//book[1]\")[0]\n",
    "first_book.find('title').text = \"Advanced Python Programming\"\n",
    "\n",
    "# Print the updated title\n",
    "print(first_book.find('title').text)  # Output: Advanced Python Programming"
   ]
  },
  {
   "cell_type": "markdown",
   "metadata": {},
   "source": [
    "## 4.2 Add New Elements"
   ]
  },
  {
   "cell_type": "code",
   "execution_count": null,
   "metadata": {},
   "outputs": [],
   "source": [
    "# Create a new book element\n",
    "new_book = etree.Element(\"book\", id=\"3\")\n",
    "new_title = etree.SubElement(new_book, \"title\")\n",
    "new_title.text = \"Learning XML with Python\"\n",
    "new_author = etree.SubElement(new_book, \"author\")\n",
    "new_author.text = \"Chris Brown\"\n",
    "\n",
    "# Add the new book to the root\n",
    "root.append(new_book)\n",
    "\n",
    "# Print the new XML structure\n",
    "print(etree.tostring(root, pretty_print=True).decode())"
   ]
  },
  {
   "cell_type": "markdown",
   "metadata": {},
   "source": [
    "# 5. Parsing HTML"
   ]
  },
  {
   "cell_type": "markdown",
   "metadata": {},
   "source": [
    "lxml also supports parsing HTML, including malformed or incomplete HTML documents."
   ]
  },
  {
   "cell_type": "markdown",
   "metadata": {},
   "source": [
    "## 5.1 Parsing HTML from a String"
   ]
  },
  {
   "cell_type": "code",
   "execution_count": null,
   "metadata": {},
   "outputs": [],
   "source": [
    "from lxml import etree\n",
    "\n",
    "html_data = \"\"\"<html>\n",
    "    <body>\n",
    "        <h1>Welcome to Python</h1>\n",
    "        <p>This is a <b>tutorial</b> on lxml.</p>\n",
    "    </body>\n",
    "</html>\"\"\"\n",
    "\n",
    "# Parse the HTML\n",
    "root = etree.HTML(html_data)\n",
    "\n",
    "# Extract elements using XPath\n",
    "h1 = root.xpath(\"//h1/text()\")\n",
    "print(h1[0])  # Output: Welcome to Python"
   ]
  },
  {
   "cell_type": "markdown",
   "metadata": {},
   "source": [
    "## 5.2 Extracting Data from HTML"
   ]
  },
  {
   "cell_type": "markdown",
   "metadata": {},
   "source": [
    "You can use **XPath** to extract text, attributes, or specific tags."
   ]
  },
  {
   "cell_type": "markdown",
   "metadata": {},
   "source": [
    "#### Example\n",
    "Extract all paragraphs (\\<p>) from HTML:"
   ]
  },
  {
   "cell_type": "code",
   "execution_count": null,
   "metadata": {},
   "outputs": [],
   "source": [
    "paragraphs = root.xpath(\"//p\")\n",
    "for p in paragraphs:\n",
    "    print(p.text)"
   ]
  },
  {
   "cell_type": "markdown",
   "metadata": {},
   "source": [
    "# 6. Writing Data Back to an XML/HTML File"
   ]
  },
  {
   "cell_type": "markdown",
   "metadata": {},
   "source": [
    "Once you’ve manipulated your XML or HTML data, you can write it back to a file."
   ]
  },
  {
   "cell_type": "markdown",
   "metadata": {},
   "source": [
    "## 6.1 Writing XML Data to a File"
   ]
  },
  {
   "cell_type": "code",
   "execution_count": null,
   "metadata": {},
   "outputs": [],
   "source": [
    "tree = etree.ElementTree(root)\n",
    "tree.write(\"modified_books.xml\", pretty_print=True, xml_declaration=True, encoding=\"UTF-8\")"
   ]
  },
  {
   "cell_type": "markdown",
   "metadata": {},
   "source": [
    "## 6.2 Writing HTML Data to a File"
   ]
  },
  {
   "cell_type": "code",
   "execution_count": null,
   "metadata": {},
   "outputs": [],
   "source": [
    "tree = etree.ElementTree(root)\n",
    "tree.write(\"modified_page.html\", pretty_print=True, html=True, encoding=\"UTF-8\")"
   ]
  },
  {
   "cell_type": "markdown",
   "metadata": {},
   "source": [
    "# 7. Creating XML files"
   ]
  },
  {
   "cell_type": "markdown",
   "metadata": {},
   "source": [
    "## 7.1 Creating XML from a Dictionary"
   ]
  },
  {
   "cell_type": "code",
   "execution_count": null,
   "metadata": {},
   "outputs": [],
   "source": [
    "from lxml import etree\n",
    "\n",
    "# Example dictionary\n",
    "data = {\n",
    "    'book': [\n",
    "        {\n",
    "            'id': '1',\n",
    "            'title': 'Python Programming',\n",
    "            'author': 'John Doe'\n",
    "        },\n",
    "        {\n",
    "            'id': '2',\n",
    "            'title': 'Learning XML',\n",
    "            'author': 'Jane Smith'\n",
    "        }\n",
    "    ]\n",
    "}\n",
    "\n",
    "# Create the root element\n",
    "root = etree.Element('books')\n",
    "\n",
    "# Iterate through the dictionary to build the XML structure\n",
    "for book in data['book']:\n",
    "    book_element = etree.SubElement(root, 'book', id=book['id'])\n",
    "    title = etree.SubElement(book_element, 'title')\n",
    "    title.text = book['title']\n",
    "    author = etree.SubElement(book_element, 'author')\n",
    "    author.text = book['author']\n",
    "\n",
    "# Convert the tree to a string and print it\n",
    "print(etree.tostring(root, pretty_print=True, encoding='UTF-8').decode())"
   ]
  }
 ],
 "metadata": {
  "language_info": {
   "name": "python"
  }
 },
 "nbformat": 4,
 "nbformat_minor": 2
}
