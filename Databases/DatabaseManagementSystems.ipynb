{
 "cells": [
  {
   "cell_type": "markdown",
   "metadata": {},
   "source": [
    "# 1. Introduction & Basics of DBMS"
   ]
  },
  {
   "cell_type": "markdown",
   "metadata": {},
   "source": [
    "## 1.1 Introduction to Database Management Systems(DBMS) "
   ]
  },
  {
   "cell_type": "markdown",
   "metadata": {},
   "source": [
    "### Definitions\n",
    "- **Data**: Raw, unprocessesd facts.\n",
    "    - Ex: 25, Seresh, True\n",
    "- **Information**: Processed data.\n",
    "    - Ex: The age of Suresh is 25\n",
    "- **Database(db)**: Collection of *related* data.\n",
    "    - Ex: Online banking system, library management system\n",
    "- **Meta-data**: The database definition(description).\n",
    "    - Ex: Type of data stored in the db"
   ]
  },
  {
   "cell_type": "markdown",
   "metadata": {},
   "source": [
    "### Database Management System"
   ]
  },
  {
   "cell_type": "markdown",
   "metadata": {},
   "source": [
    "Collection of programs that enables users to create and maintain the database."
   ]
  },
  {
   "cell_type": "markdown",
   "metadata": {},
   "source": [
    "#### Functionalities\n",
    "- **Define**: Specifying the **data type**, **structures** and **contrains** for the data to be stored.\n",
    "- **Construct**: Process of **storing data** on some storage medium.\n",
    "- **Manipulate**: Quering the database to **retrieve** specific data, **updating** database and **generating reports**.\n",
    "- **Share**: Allows multiple users and programs to **access** the database **concurrently**.\n",
    "- **Security**: Protecting the database from unauthorized access or from hardware and software failures.\n"
   ]
  },
  {
   "cell_type": "markdown",
   "metadata": {},
   "source": [
    "#### Properties of Database\n",
    "- A database **represents** some aspects of the **real world** (miniworld).\n",
    "- A database is a **logically coherent** collection of data with some inherent meaning.\n",
    "- A database is **designed**, **built** and **populated** with data for a **specific purpose**."
   ]
  },
  {
   "cell_type": "markdown",
   "metadata": {},
   "source": [
    "### Database System Environment"
   ]
  },
  {
   "cell_type": "markdown",
   "metadata": {},
   "source": [
    "![ALT TEXT](./img/dbse.png)"
   ]
  },
  {
   "cell_type": "markdown",
   "metadata": {},
   "source": [
    "#### Example"
   ]
  },
  {
   "cell_type": "markdown",
   "metadata": {},
   "source": [
    "![ALT TEXT](./img/db_ex.png)"
   ]
  },
  {
   "cell_type": "markdown",
   "metadata": {},
   "source": [
    "## 1.2 DBMS Characteristics"
   ]
  },
  {
   "cell_type": "markdown",
   "metadata": {},
   "source": [
    "### Approaches"
   ]
  },
  {
   "cell_type": "markdown",
   "metadata": {},
   "source": [
    "![ALT TEXT](./img/approches.png)"
   ]
  },
  {
   "cell_type": "markdown",
   "metadata": {},
   "source": [
    "#### Comparison Table:\n",
    "<table border=\"1\" cellpadding=\"10\">\n",
    "  <thead>\n",
    "    <tr>\n",
    "      <th>Feature</th>\n",
    "      <th>File System Approach</th>\n",
    "      <th>DBMS Approach</th>\n",
    "    </tr>\n",
    "  </thead>\n",
    "  <tbody>\n",
    "    <tr>\n",
    "      <td>Data Redundancy</td>\n",
    "      <td>High (data duplication across files)</td>\n",
    "      <td>Low (data normalization reduces redundancy)</td>\n",
    "    </tr>\n",
    "    <tr>\n",
    "      <td>Data Consistency</td>\n",
    "      <td>Difficult to maintain</td>\n",
    "      <td>Ensured through constraints and integrity rules</td>\n",
    "    </tr>\n",
    "    <tr>\n",
    "      <td>Data Integrity</td>\n",
    "      <td>No support for integrity constraints</td>\n",
    "      <td>Supports integrity constraints (e.g., primary key, foreign key)</td>\n",
    "    </tr>\n",
    "    <tr>\n",
    "      <td>Concurrent Access</td>\n",
    "      <td>Limited support, prone to data corruption</td>\n",
    "      <td>Multi-user concurrency with transaction management (locks)</td>\n",
    "    </tr>\n",
    "    <tr>\n",
    "      <td>Data Security</td>\n",
    "      <td>OS-based, minimal security features</td>\n",
    "      <td>Advanced security (authentication, authorization, encryption)</td>\n",
    "    </tr>\n",
    "    <tr>\n",
    "      <td>Backup and Recovery</td>\n",
    "      <td>Manual, difficult to manage</td>\n",
    "      <td>Automated backups and recovery features</td>\n",
    "    </tr>\n",
    "    <tr>\n",
    "      <td>Data Independence</td>\n",
    "      <td>Tight coupling between data and programs</td>\n",
    "      <td>Data independence (logical and physical layers)</td>\n",
    "    </tr>\n",
    "    <tr>\n",
    "      <td>Querying & Manipulation</td>\n",
    "      <td>Manual programming required</td>\n",
    "      <td>High-level querying with SQL or other query languages</td>\n",
    "    </tr>\n",
    "    <tr>\n",
    "      <td>Data Access Speed</td>\n",
    "      <td>Slower for large datasets</td>\n",
    "      <td>Optimized for efficient access and retrieval</td>\n",
    "    </tr>\n",
    "    <tr>\n",
    "      <td>Data Sharing</td>\n",
    "      <td>Limited support for sharing and collaboration</td>\n",
    "      <td>Supports multi-user environments with controlled access</td>\n",
    "    </tr>\n",
    "  </tbody>\n",
    "</table>\n",
    "\n",
    "<h3>Which to Use?</h3>\n",
    "<ul>\n",
    "  <li><strong>File System Approach:</strong> Suitable for small-scale projects or simple applications where data management complexity is minimal, such as local logs, temporary data storage, or single-user desktop applications.</li>\n",
    "  <li><strong>DBMS Approach:</strong> Essential for large-scale, multi-user applications, or when working with complex data structures and relationships, such as in enterprise applications, web applications, and data science projects. A DBMS is a more robust, scalable, and secure option when managing significant amounts of data.</li>\n",
    "</ul>\n"
   ]
  },
  {
   "cell_type": "markdown",
   "metadata": {},
   "source": [
    "### Characteristics of DBMS Approach"
   ]
  },
  {
   "cell_type": "markdown",
   "metadata": {},
   "source": [
    "### Self-Describing\n",
    "- **Database system** = Database + Meta-data (DB Definition)  \n",
    "- **Stored in:** DBMS catalog  \n",
    "- **Used by:** DBMS Software & Database Users  \n",
    "- DBMS software can work with various database applications (e.g., University, Library, Game Store).  \n",
    "- In traditional file processing, data definition is part of the application programs, limiting it to a specific database."
   ]
  },
  {
   "cell_type": "markdown",
   "metadata": {},
   "source": [
    "##### Ex: Database Catalog \n",
    "\n",
    "![ALT TEXT](./img/catalog.png)"
   ]
  },
  {
   "cell_type": "markdown",
   "metadata": {},
   "source": [
    "### Data Independence\n",
    "Insulation between Programs and Data  \n",
    "- In traditional file processing, the structure of data files is embedded in application programs.  \n",
    "- In the database approach, the structure of data files is stored in the DBMS catalog, separate from access programs (**program-data independence**)."
   ]
  },
  {
   "cell_type": "markdown",
   "metadata": {},
   "source": [
    "### Data Abstraction\n",
    "- The characteristic that enables **program-data independence** is called **data abstraction**.  \n",
    "- DBMS provides users with a **conceptual representation** of data.  \n",
    "- A **data model** (type of data abstraction) provides this conceptual representation."
   ]
  },
  {
   "cell_type": "markdown",
   "metadata": {},
   "source": [
    "### Multiple Views\n",
    "- DBMS supports multiple **views** of the data for different users.  \n",
    "- A **view** is a subset of the database containing **virtual data** derived from the database but not explicitly stored."
   ]
  },
  {
   "cell_type": "markdown",
   "metadata": {},
   "source": [
    "### Sharing of Data\n",
    "Sharing of data and multiuser transaction processing.  \n",
    "- A **multiuser DBMS** allows multiple users to access the database simultaneously.  \n",
    "- DBMS includes **concurrency control** to manage simultaneous transactions and ensure data integrity.  \n",
    "- **OLTP** (Online Transaction Processing) is a major part of database applications.  \n",
    "- DBMS must enforce several **transaction properties**:\n",
    "    - **Isolation**: Ensures transactions run independently, maintaining data consistency.\n",
    "    - **Atomicity**: Guarantees that a transaction is either fully completed or entirely rolled back."
   ]
  },
  {
   "cell_type": "markdown",
   "metadata": {},
   "source": [
    "## 1.3 Database Users"
   ]
  },
  {
   "cell_type": "markdown",
   "metadata": {},
   "source": [
    "Database users can be classified into two main categories based on their interaction with the database:"
   ]
  },
  {
   "cell_type": "markdown",
   "metadata": {},
   "source": [
    "### **Actors on the Scene**\n",
    "These are users who directly interact with the database and its applications:"
   ]
  },
  {
   "cell_type": "markdown",
   "metadata": {},
   "source": [
    "#### Database Administrators\n",
    "- In database environment, **primary resourse** --> database, **secondary resource** --> DBMS & related software.\n",
    "- Database Administrator (DBA) **responsibilities**:\n",
    "    - 1) **Administering** primary/secondary resources.\n",
    "    - 2) **Authorizing** access ti the database.\n",
    "    - 3) **Co-ordinating & monitoring** use of database.\n",
    "    - 4) Acquiring hardware & software resources as needed.\n",
    "    - 5) Troubleshooting errors and problems."
   ]
  },
  {
   "cell_type": "markdown",
   "metadata": {},
   "source": [
    "#### Database Designers\n",
    "Responsible for:\n",
    "- 1) **Identifying** the **data** to be stored in the database.\n",
    "- 2) **Choosing** appropriate **structures** to represent and store data.\n",
    "- 3) **Communicating** with database users --> understand their requirements --> designs database. "
   ]
  },
  {
   "cell_type": "markdown",
   "metadata": {},
   "source": [
    "#### End Users\n",
    "End users --> peple whose jobs require access to the database --> for querying, updating, generating reports.<br>\n",
    "Several categories of end users:"
   ]
  },
  {
   "cell_type": "markdown",
   "metadata": {},
   "source": [
    "- **Casual end users**:Access database occasionally\n",
    "    - typically middle or high-level managers or other occasional browsers.\n",
    "- **Naive or parametric end users**: constantly querying and updating database using **canned transactions**.\n",
    "- **Sophisticated end users**: Engineers, scientists, business analysts.\n",
    "- **Stand-alone users**: Maintains **personal databases**\n",
    "    - using ready-made program packages."
   ]
  },
  {
   "cell_type": "markdown",
   "metadata": {},
   "source": [
    "#### System Analysts & Application Programmers (Software Engineers)\n",
    "- **System Analysts**: determine the rquirements of end users --> **develop specifications** for canned transactions.\n",
    "<br>\n",
    "- **Application Programmers**: test, debug, document and maintain these canned transactions."
   ]
  },
  {
   "cell_type": "markdown",
   "metadata": {},
   "source": [
    "### **Workers Behind the Scene**\n",
    "These users are involved in the backend processes, ensuring the database operates smoothly:"
   ]
  },
  {
   "cell_type": "markdown",
   "metadata": {},
   "source": [
    "#### System designers and implementers\n",
    "Design and implement DBMS modules & interfaces as a package."
   ]
  },
  {
   "cell_type": "markdown",
   "metadata": {},
   "source": [
    "#### Tool Developers\n",
    "Persons who design and implement tools (**Software packages**)."
   ]
  },
  {
   "cell_type": "markdown",
   "metadata": {},
   "source": [
    "#### Operators and maintenance personnel\n",
    "responsible for actual running and maintenance of hardware & software."
   ]
  },
  {
   "cell_type": "markdown",
   "metadata": {},
   "source": [
    "## 1.4 Advantages & Disadvantages of DBMS"
   ]
  },
  {
   "cell_type": "markdown",
   "metadata": {},
   "source": [
    "### Advantages"
   ]
  },
  {
   "cell_type": "markdown",
   "metadata": {},
   "source": [
    "#### Controlling Redundancy\n",
    "- In **traditional file system**:\n",
    "    - Each user group maintains its **own files**.This will lead  to **wastage of storage space**, **inconsistency**.\n",
    "- In the **database approach**:\n",
    "    - **Views** of different users --> **integrated**.\n",
    "    - All the data stored in the only one place of the database.\n",
    "    - This ensures **consistency** & **saves storage space**."
   ]
  },
  {
   "cell_type": "markdown",
   "metadata": {},
   "source": [
    "#### Restricting Unauthorized Access\n",
    "- When multiple users share a large database, the type of access operation must be controlled. \n",
    "- DBMS must provide **security and authorization sybsystem**.\n",
    "- **DBA** --> creates accounts & specifies account restrictions.\n",
    "- **Parametric users** --> allowed to access database only through canned transactions."
   ]
  },
  {
   "cell_type": "markdown",
   "metadata": {},
   "source": [
    "#### Providing Persistent Storage for Program Objects\n",
    "\n",
    "<table>\n",
    "    <tr>\n",
    "        <th>Feature</th>\n",
    "        <th>Traditional File Systems</th>\n",
    "        <th>DBMS</th>\n",
    "    </tr>\n",
    "    <tr>\n",
    "        <td>Storage of Program Objects</td>\n",
    "        <td>Must be explicitly stored in separate permanent files; involves conversion.</td>\n",
    "        <td>Recognizes data structures of programming languages like Java, C++ and automatically converts.</td>\n",
    "    </tr>\n",
    "    <tr>\n",
    "        <td>Object Persistence</td>\n",
    "        <td>Once program terminates,values of program variables are discarded.</td>\n",
    "        <td>Once program terminates,values of program variables are not discarded; stores objects permanently, making them persistent.</td>\n",
    "    </tr>\n",
    "</table>\n"
   ]
  },
  {
   "cell_type": "markdown",
   "metadata": {},
   "source": [
    "#### Providing Storage Structures for Efficient Query Processing\n",
    "- Database systems must provide capabilities for **efficiently executing** queries and updates.\n",
    "- Since database is stored on disk, DBMS must provide specialized data structures (**indexes**) to speed up disk search.\n",
    "- **Query processing qnd optimization** module --> responsible for efficient query execution.  "
   ]
  },
  {
   "cell_type": "markdown",
   "metadata": {},
   "source": [
    "#### Providing Backup and Recovery\n",
    "- The **backup and recovery subsystem** of DBMS --> responsible for recovery --> in case of hardware or software failures.\n",
    "- **Ex:** if the computer crashes during a complex transaction, the **recovery subsystem** --> responsible for ensuring that **transaction resumes** from where it is interrupted or atleast **restore** to the state it was before transaction started executing."
   ]
  },
  {
   "cell_type": "markdown",
   "metadata": {},
   "source": [
    "#### Providing Multiple User Interfaces\n",
    "- Multiple users --> different levels of technical knowledge --> so DBMS should provide a variety of user interfaces.\n",
    "- **Ex:** \n",
    "    - Query languages --> **casual users**\n",
    "    - Programming languages interfaces --> **application programmers**\n",
    "    - forms --> **parametric users**\n",
    "    - menu-driven interfaces --> **stand-alone users**\n",
    "- Form-style interfaces and menu-driven interfaces --> **Graphical User Interfaces (GUIs)**"
   ]
  },
  {
   "cell_type": "markdown",
   "metadata": {},
   "source": [
    "#### Representing Compelx Relationships among Data\n",
    "- A database may have a variety of **data** --> **interrelated** in many ways.\n",
    "- DBMS must be capable of:\n",
    "    - **Representing complex relationships** among data.\n",
    "    - **Retreive** and **update** related data **easily** and **efficiently**."
   ]
  },
  {
   "cell_type": "markdown",
   "metadata": {},
   "source": [
    "#### Enforcing Intergrity Constraints\n",
    "- Simplest type of integrity constraint --> **specifying data type** for each data item.\n",
    "- Another type of constaint --> **uniqueness** of data item values.\n",
    "- Responsibility of **Database designers** --> **identifying integrity constraints** during databse design. "
   ]
  },
  {
   "cell_type": "markdown",
   "metadata": {},
   "source": [
    "#### Permitting Inferencing and Actions Using Rules\n",
    "- Database systems must provide capabilities for defining **deduction rules** for inferencing new information.\n",
    "- Such systems --> **deductive database systems**.\n",
    "- **Active database systems** --> provides active rules that automatically **initiate actions** when certain **events and conditions occur**."
   ]
  },
  {
   "cell_type": "markdown",
   "metadata": {},
   "source": [
    "### Disadvantages"
   ]
  },
  {
   "cell_type": "markdown",
   "metadata": {},
   "source": [
    "- **Overhead costs**(is the ongoing cost to run the DBMS) of using DBMS:\n",
    "    - High initial investment.\n",
    "    - Overhead for providing security, concurrency control, recovery\n",
    "- **Database** & applications --> **simple**,well defined and **no changes** expected, using files approach is prefered.\n",
    "- **Multiple-user access** --> **not required**."
   ]
  },
  {
   "cell_type": "markdown",
   "metadata": {},
   "source": [
    "## 1.5 History of Database Applications"
   ]
  },
  {
   "cell_type": "markdown",
   "metadata": {},
   "source": [
    "#### Early Database Applications Using Hierarchical & Network Systems\n",
    "Early systems were based on 3 **database models**:\n",
    "- Hierarchical systems.\n",
    "- Network model based systems.\n",
    "- Inverted file systems."
   ]
  },
  {
   "cell_type": "markdown",
   "metadata": {},
   "source": [
    "![ALT TEXT](./img/heir.png)"
   ]
  },
  {
   "cell_type": "markdown",
   "metadata": {},
   "source": [
    "![ALT TEXT](./img/network.png)"
   ]
  },
  {
   "cell_type": "markdown",
   "metadata": {},
   "source": [
    "- **Main problem** of early database systems --> not flexible to develop new queries and reorganizing data was difficult.\n",
    "- Another **drawback** that it only provided programming language interfaces.\n",
    "- Implemented in the mid-1960s,through 1970s and 1980s on large & expensive mainframe computers\n",
    "\n",
    "![](./img/history.png)"
   ]
  },
  {
   "cell_type": "markdown",
   "metadata": {},
   "source": [
    "#### Providing Application Flexibility with Relational Databases\n",
    "- Relational databases (RDBMS) --> proposed by E.F. Codd --> organizes data into **tables** which can be linked or related.\n",
    "- **High-level query language** --> introduced in relational data model.\n",
    "- **Provides flexibility** to quickly develp new queries & reorganize the database as per the change in requirements.\n",
    "- Early experimental relational systems (developed in 1970s) & the commercial RDBMS(developed in 1980s) were **quite slow**.\n",
    "- Development of new storage & indexing techniques, better query processing --> **performance** of RDBMS **improved**.\n",
    "- Relational databases become the **dominant** type of database systems."
   ]
  },
  {
   "cell_type": "markdown",
   "metadata": {},
   "source": [
    "#### Object-Oriented Applications and the Need for More Complex Databases\n",
    "- Emergence of object-oriented programming languages --> the development of object-oriented databases.\n",
    "- Incorporated many of the useful **object-oriented features** --> data abstraction, encapsulation, inheritance.\n",
    "- Mainly used in **specialised applications** --> engineering design, manufacturing systems, etc."
   ]
  },
  {
   "cell_type": "markdown",
   "metadata": {},
   "source": [
    "#### Interchanging Data on the Web for E-Commerce\n",
    "- WWW (**World Wide Web**) is large network of interconnected computers.\n",
    "- Users --> create documents using HTML and stores them on the Web servers.\n",
    "- Documents can be linked together through **hyperlinks**."
   ]
  },
  {
   "cell_type": "markdown",
   "metadata": {},
   "source": [
    "#### Extending Database Capabilities fro New Applications\n",
    "- Scientific applications to store large amounts of data from scientific experiments.\n",
    "- Storage & retrieval of images.\n",
    "- Storage & retrieval of videos.\n",
    "- Data mining applications --> analyzing large amounts of data.\n",
    "- Spatial applications --> weather information.\n",
    "- Time Series applications --> eg:daily sales information.\n",
    "\n",
    "- Basic relational model --> not suitable.\n",
    "- Reasons:\n",
    "    - More **complex data structures** were needed.\n",
    "    - **New data types** were required.\n",
    "    - **New query language**.\n",
    "    - New **storage & indexing techniques** were needed."
   ]
  },
  {
   "cell_type": "markdown",
   "metadata": {},
   "source": [
    "## 1.6 Fundamentals of Database Systems"
   ]
  },
  {
   "cell_type": "markdown",
   "metadata": {},
   "source": [
    "#### Data Models\n",
    "- Used to describe the structure of the database --> helps to achieve data abstraction.\n",
    "- Includes **a set of basic operations** for specifying retrievals or updates on the database.\n",
    "- Also includes concepts to specify the behavious of a database application"
   ]
  },
  {
   "cell_type": "markdown",
   "metadata": {},
   "source": [
    "#### Categories of Data Models"
   ]
  },
  {
   "cell_type": "markdown",
   "metadata": {},
   "source": [
    "##### **High-level or conceptual Data Model**:\n",
    "- Provides concepts that are close to the way many users perceive data.\n",
    "- User concepts such as entities, attributes and relationships.\n",
    "- **Entities** --> represent real world object or concept.\n",
    "- **Attributes** --> further describe an entity.\n",
    "- **Relationships** --> association among 2 or more entities."
   ]
  },
  {
   "cell_type": "markdown",
   "metadata": {},
   "source": [
    "##### **Low-level or Physical Data Model**:\n",
    "- Describes **how data is stored** in the computer.\n",
    "- **Access path** --> structure for efficient searching of database records."
   ]
  },
  {
   "cell_type": "markdown",
   "metadata": {},
   "source": [
    "##### **Representational (or implementation) Data Model**:\n",
    "- Represent data using **resord structures** --> record-based data models."
   ]
  },
  {
   "cell_type": "markdown",
   "metadata": {},
   "source": [
    "#### Terminologies\n",
    "- **Database Schema**: Descriptino of a database.\n",
    "- **Schema Diagram**: Dis played schema.\n",
    "- **Schema Construct**: Each object within the schema.\n",
    "    - Ex: STUDENT, COURSE, etc.\n",
    "- **Database State** (or **instance** or **snapshot**): The data in the database at a particular moment."
   ]
  },
  {
   "cell_type": "markdown",
   "metadata": {},
   "source": [
    "# 2. DBMS Architecture & Design"
   ]
  },
  {
   "cell_type": "markdown",
   "metadata": {},
   "source": [
    "## 2.1 Three-Schema Architecture"
   ]
  },
  {
   "cell_type": "markdown",
   "metadata": {},
   "source": [
    "<h4>Goal:</h4>to separate the user applications and the physical database."
   ]
  },
  {
   "cell_type": "markdown",
   "metadata": {},
   "source": [
    "![](./img/diag.png)"
   ]
  },
  {
   "cell_type": "markdown",
   "metadata": {},
   "source": [
    "### 3 Levels:"
   ]
  },
  {
   "cell_type": "markdown",
   "metadata": {},
   "source": [
    "#### Internal Level:\n",
    "- Describes the physical storage structure of the database.\n",
    "- Describes complete details of data storage and access"
   ]
  },
  {
   "cell_type": "markdown",
   "metadata": {},
   "source": [
    "#### Conceptual Level:\n",
    "- **Hides** the **details of the physical storage structure** and concentrates on describing entities, data types, relationships, constraints, etc."
   ]
  },
  {
   "cell_type": "markdown",
   "metadata": {},
   "source": [
    "#### External Level:\n",
    "- Describes the part of the database that a user is interested in and hides the rest of the database from the user group."
   ]
  },
  {
   "cell_type": "markdown",
   "metadata": {},
   "source": [
    "### Data Independence\n",
    "Capacity to change the schema at one level of a database system without having to change the schema at the next higher level."
   ]
  },
  {
   "cell_type": "markdown",
   "metadata": {},
   "source": [
    "#### Logical Data Independence:\n",
    "Ability to **modify** the **conceptual schema** without changing the external schemas or application programs."
   ]
  },
  {
   "cell_type": "markdown",
   "metadata": {},
   "source": [
    "#### Physical Data Independence:\n",
    "- Ability to **modify** the internal schema without changing the conceptual schema.\n",
    "- Changes may be needed to **improve performance**."
   ]
  },
  {
   "cell_type": "markdown",
   "metadata": {},
   "source": [
    "## 2.2 DBMS Languages, Interfaces, and Classification"
   ]
  },
  {
   "cell_type": "markdown",
   "metadata": {},
   "source": [
    "### DBMS Languages"
   ]
  },
  {
   "cell_type": "markdown",
   "metadata": {},
   "source": [
    "- In DBMS, where no strict separation of levels is maintained, **Data Definition Language** (DOL) is used to define the internal and conceptual schemas."
   ]
  },
  {
   "cell_type": "markdown",
   "metadata": {},
   "source": [
    "- In DBMS, where a clear separation is maintained between conceptual and internal levels:\n",
    "    - **DDL** → used to specify the **conceptual schema** only.\n",
    "    - **Storage Definition Language** (SDL) → used to specify the **internal schema**."
   ]
  },
  {
   "cell_type": "markdown",
   "metadata": {},
   "source": [
    "- **View Definition Language** (VDL) → to specify **user views** and their mappings to the conceptual schema.\n",
    "\n",
    "- **Data Manipulation Language** (DML) → for **manipulation** of data in the database."
   ]
  },
  {
   "cell_type": "markdown",
   "metadata": {},
   "source": [
    "#### Type of DML\n",
    "<table border=\"1\" cellpadding=\"10\" cellspacing=\"0\">\n",
    "  <thead>\n",
    "    <tr>\n",
    "      <th>Type of DML</th>\n",
    "      <th>Description</th>\n",
    "      <th>Other Name</th>\n",
    "    </tr>\n",
    "  </thead>\n",
    "  <tbody>\n",
    "    <tr>\n",
    "      <td>High-level (Non-procedural DML)</td>\n",
    "      <td>Used to specify complex database operations in a concise manner.</td>\n",
    "      <td>Set-at-a-time DMLs</td>\n",
    "    </tr>\n",
    "    <tr>\n",
    "      <td>Low-level (Procedural DML)</td>\n",
    "      <td>Embedded in a general-purpose programming language.</td>\n",
    "      <td>Record-at-a-time DMLs</td>\n",
    "    </tr>\n",
    "  </tbody>\n",
    "</table>\n"
   ]
  },
  {
   "cell_type": "markdown",
   "metadata": {},
   "source": [
    "### DBMS Interfaces"
   ]
  },
  {
   "cell_type": "markdown",
   "metadata": {},
   "source": [
    "#### Menu-Based Interfaces:\n",
    "- These interfaces present the users with a **list of options** (menus).\n",
    "- Most popular → **Pull-down menus**."
   ]
  },
  {
   "cell_type": "markdown",
   "metadata": {},
   "source": [
    "![ALT TEXT](./img/menu.png)"
   ]
  },
  {
   "cell_type": "markdown",
   "metadata": {},
   "source": [
    "#### Forms-Based Interfaces:\n",
    "- Displays a form to each user.\n",
    "- Designed and programmed for the **naive users**."
   ]
  },
  {
   "cell_type": "markdown",
   "metadata": {},
   "source": [
    "![ALT TEXT](./img/form.png)"
   ]
  },
  {
   "cell_type": "markdown",
   "metadata": {},
   "source": [
    "#### Graphical User Interfaces:\n",
    "- Displays a schema to the user in **diagrammatic form**.\n",
    "- Utilizes both menus and forms.\n",
    "- Uses a **pointing device** to pick certain parts of the displayed diagram."
   ]
  },
  {
   "cell_type": "markdown",
   "metadata": {},
   "source": [
    "#### Natural Language Interfaces:\n",
    "- Has its **own schema** and **dictionary**.\n",
    "- Refers to them while interpreting a request.\n",
    "- If interpretation is successful → high-level query generated → **Query processing**.\n",
    "\n",
    "- Otherwise, a dialogue is started with the user for further clarification."
   ]
  },
  {
   "cell_type": "markdown",
   "metadata": {},
   "source": [
    "#### Interfaces for Parametric Users:\n",
    "- Parametric users → have small set of operations that they must perform repeatedly.\n",
    "- System analysts and programmers → design & implement a special interface for these users."
   ]
  },
  {
   "cell_type": "markdown",
   "metadata": {},
   "source": [
    "#### Interfaces for the DBA:\n",
    "- Privileged commands (like for creating accounts, granting access) that can be used only by the DBA's staff."
   ]
  },
  {
   "cell_type": "markdown",
   "metadata": {},
   "source": [
    "### DBMS Classification"
   ]
  },
  {
   "cell_type": "markdown",
   "metadata": {},
   "source": [
    "Several criteria used to classify DBMS:\n",
    "- Data model\n",
    "- Number of users\n",
    "- Cost of DBMS\n",
    "- Number of sites\n",
    "- Types of access path\n",
    "- Generality"
   ]
  },
  {
   "cell_type": "markdown",
   "metadata": {},
   "source": [
    "#### Data Models\n",
    "- **Relational data model:**<br>\n",
    "![](./img/rel_db_model.jpeg)\n",
    "- **Object-Oriented database model:**<br>\n",
    "![](./img/oop_db_model.jpeg)\n",
    "\n",
    "- **Heirarchical model:**<br>\n",
    "![](./img/hier_db_model.jpeg)\n",
    "\n",
    "- **Network model:**<br>\n",
    "![](./img/net_db_model.jpeg)\n"
   ]
  },
  {
   "cell_type": "markdown",
   "metadata": {},
   "source": [
    "#### Number of Users\n",
    "- **Single-user systems**: supports only one user at a time.\n",
    "\n",
    "- **Multiuser systems**: supports multiple users concurrently."
   ]
  },
  {
   "cell_type": "markdown",
   "metadata": {},
   "source": [
    "#### Cost of DBMS\n",
    "- **Low cost**: Cost of these systems → between $100 & $3000.\n",
    "- **Medium cost**: Cost varies between $10,000 & $100,000.\n",
    "- **High cost**: Cost of these systems more than $100,000."
   ]
  },
  {
   "cell_type": "markdown",
   "metadata": {},
   "source": [
    "#### Number of Sites:\n",
    "- **Centralized database system**: DBMS & the database → reside at a single computer site.\n",
    "- **Distributed database system**: DBMS & the database → distributed over many sites, connected by a computer network."
   ]
  },
  {
   "cell_type": "markdown",
   "metadata": {},
   "source": [
    "## 2.3 Database System Environment "
   ]
  },
  {
   "cell_type": "markdown",
   "metadata": {},
   "source": [
    "### DBMS Component Modules"
   ]
  },
  {
   "cell_type": "markdown",
   "metadata": {},
   "source": [
    "![](./img/modules.png)"
   ]
  },
  {
   "cell_type": "markdown",
   "metadata": {},
   "source": [
    "#### DDL compiler\n",
    "**processes** schema definition and **stores** it in the catalog"
   ]
  },
  {
   "cell_type": "markdown",
   "metadata": {},
   "source": [
    "#### Query compiler\n",
    "**handles** high-level queries."
   ]
  },
  {
   "cell_type": "markdown",
   "metadata": {},
   "source": [
    "#### Pre-compiler\n",
    "**extracts** DML commands from an application program."
   ]
  },
  {
   "cell_type": "markdown",
   "metadata": {},
   "source": [
    "#### DML compiler\n",
    "**compilation** of DML commands into object code."
   ]
  },
  {
   "cell_type": "markdown",
   "metadata": {},
   "source": [
    "#### Runtime database processor\n",
    "**handles** database accesses at runtime."
   ]
  },
  {
   "cell_type": "markdown",
   "metadata": {},
   "source": [
    "#### Stored data manager\n",
    "**transfers** data between disk & main memory."
   ]
  },
  {
   "cell_type": "markdown",
   "metadata": {},
   "source": [
    "### Database System Utilities\n",
    "Common utilities have the following types of functions:"
   ]
  },
  {
   "cell_type": "markdown",
   "metadata": {},
   "source": [
    "#### Loading\n",
    "- Used to **load existing data files** into the database.\n",
    "- The source file format and the target data file structure are mentioned to the utility, it **automatically reformats** the data and **stores** it in the database."
   ]
  },
  {
   "cell_type": "markdown",
   "metadata": {},
   "source": [
    "#### Backup\n",
    "- Create a **backup copy** of teh database.\n",
    "- **Incremental backups** are often used.Though it is complex, it saves space."
   ]
  },
  {
   "cell_type": "markdown",
   "metadata": {},
   "source": [
    "#### File reorganization\n",
    "- Used to reorganize a database file into a different file organization."
   ]
  },
  {
   "cell_type": "markdown",
   "metadata": {},
   "source": [
    "#### Performance monitoring\n",
    "- Monitors database usage and provides statistic to the DBA."
   ]
  },
  {
   "cell_type": "markdown",
   "metadata": {},
   "source": [
    "### Other Tools"
   ]
  },
  {
   "cell_type": "markdown",
   "metadata": {},
   "source": [
    "- **CASE tools:** used during the design of the database.\n",
    "- **Data Dictionary system:** (or data repository), storing catalog information.\n",
    "- **Application Development Environments:** provides an environment for developing database applications.*Ex:* JBuilder, PowerBuilder system, ...\n",
    "- **Communications software:** remote access to the database."
   ]
  },
  {
   "cell_type": "markdown",
   "metadata": {},
   "source": [
    "## 2.4 DBMS Architecture"
   ]
  },
  {
   "cell_type": "markdown",
   "metadata": {},
   "source": [
    "### Centralized DBMS Architecture\n",
    "- Earlier, **mainframe computers** were used **to process** all system functions.\n",
    "- Users accessed systems via **computer terminals** which provided **only display capabilities** but no processing capabilities."
   ]
  },
  {
   "cell_type": "markdown",
   "metadata": {},
   "source": [
    "![A:](./img/cen.png)"
   ]
  },
  {
   "cell_type": "markdown",
   "metadata": {},
   "source": [
    "- **Processing** performed remotly on the **computer system**.\n",
    "- Only **display information** was sent to the **terminals**.\n",
    "- Prices of hardware declined led terminals replaced by **PC & workstations**."
   ]
  },
  {
   "cell_type": "markdown",
   "metadata": {},
   "source": [
    "### Basic Client/Server Architectures\n",
    "- **Goal** is to define specialized servers with specific functionalities.\n",
    "- **Client** is user machine that **provides user interface** capabilities & local processing.\n",
    "- **Server provides services** to client machines.  "
   ]
  },
  {
   "cell_type": "markdown",
   "metadata": {},
   "source": [
    "![](./img/clie_serv.png)"
   ]
  },
  {
   "cell_type": "markdown",
   "metadata": {},
   "source": [
    "### Two-Tier Client/Server Architectures\n",
    "- In RDBMS, **user interfaces** & **application programs** moved to **client side**.\n",
    "- **Query & transaction functionality** on **server side** (query server/transaction server).\n",
    "- When DBMS access is required the application program establishes a connection with the DBMS(server side). \n",
    "- **Open Database Connectivity** (ODBC) provides API allows programs (client-side) to call DBMS.\n",
    "- **Advantages** of two-tier architecture:\n",
    "    - Simplicity\n",
    "    - Compatibility\n",
    "- Emergence of World Wide Web led to three-tier architecture."
   ]
  },
  {
   "cell_type": "markdown",
   "metadata": {},
   "source": [
    "### Three-Tier Client/Server Architectures\n",
    "- Additional intermediate layer between client & database server which called **Application server** or **Web server**:\n",
    "    - **Stores** rules used to access data.\n",
    "    - **Accepts** requests from client.\n",
    "    - **Processes** the requests.\n",
    "    - **Sends** commands to database server."
   ]
  },
  {
   "cell_type": "markdown",
   "metadata": {},
   "source": [
    "![](./img/three_tier.png)"
   ]
  },
  {
   "cell_type": "markdown",
   "metadata": {},
   "source": [
    "# 3. Entity-Relationship Model & Design Process"
   ]
  },
  {
   "cell_type": "markdown",
   "metadata": {},
   "source": [
    "## 3.1 Basic Concepts of Entity-Relationship Model"
   ]
  },
  {
   "cell_type": "markdown",
   "metadata": {},
   "source": [
    "### Terminologies"
   ]
  },
  {
   "cell_type": "markdown",
   "metadata": {},
   "source": [
    "#### **Entity**:\n",
    "- A \"thing\" in the real world with an **independent existence**.\n",
    "- May be an object with physical existence(*ex:* house, person) or with conceptual existence(*ex:* course, job)."
   ]
  },
  {
   "cell_type": "markdown",
   "metadata": {},
   "source": [
    "##### Entity Type\n",
    "- A collection of entities that have the same attributes.\n",
    "- *Ex*: STUDENT<br>\n",
    "\n",
    "![](./img/STUDENT.png)"
   ]
  },
  {
   "cell_type": "markdown",
   "metadata": {},
   "source": [
    "##### Weak Entity Types\n",
    "- Entity types that **do not have key attributes** of their own.\n",
    "- Identified by relating to another entity type called the identifying or the **owner entity type**.\n",
    "- Relationship between weak entity type to its owner: **identifying relationship**. "
   ]
  },
  {
   "cell_type": "markdown",
   "metadata": {},
   "source": [
    "##### Entity Set\n",
    "- Collection of entities of a particular entity type at a point in time.\n",
    "- *Ex*: STUDENTS with AGE between 17 and 20."
   ]
  },
  {
   "cell_type": "markdown",
   "metadata": {},
   "source": [
    "#### **Attributes**:\n",
    "Properties that **describe the entities**.<br>\n",
    "![](./img/attrs.png)"
   ]
  },
  {
   "cell_type": "markdown",
   "metadata": {},
   "source": [
    "##### Composite Vs Simple Attributes\n",
    "- **Composite**:\n",
    "    - **Can ve divided** into further parts.\n",
    "    - *Ex*: Name: First Name, Middle Name, Last Name.\n",
    "- **Simple**:\n",
    "    - **Cannot be divided** further.\n",
    "    - *Ex*: Weight: cannot be further divided."
   ]
  },
  {
   "cell_type": "markdown",
   "metadata": {},
   "source": [
    "##### Single Vs Multi Valued Attributes\n",
    "- **Single-Valued**:\n",
    "    - Have a **signle value** for a particular entity.\n",
    "    - *Ex*: Age,Weight. \n",
    "- **Multivalued**:\n",
    "    - Can have **set of values** for a particular entity.\n",
    "    - *Ex*: College degrees, languages known."
   ]
  },
  {
   "cell_type": "markdown",
   "metadata": {},
   "source": [
    "##### Derived Vs Stored Attributes\n",
    "- **Derived**:\n",
    "    - Can be derived from other attributes.\n",
    "    - *Ex*: Age: can be derived from date of birth.\n",
    "- **Stored**:\n",
    "    - From which the value of other attributes are derived.\n",
    "    - *Ex*: BirthData of a person."
   ]
  },
  {
   "cell_type": "markdown",
   "metadata": {},
   "source": [
    "##### Complex Attributes\n",
    "- Has multivalued & composite components in it.\n",
    "- **Multivalued** attributes represented within **{ }**.\n",
    "- **Composite** attributes represented within **( )**.\n",
    "- **Ex:** {CollegeDegrees(College, Year, Degree, Field)}"
   ]
  },
  {
   "cell_type": "markdown",
   "metadata": {},
   "source": [
    "##### Null Values\n",
    "Null is something which is **not applicable** or **unknown**.<br>\n",
    "![](./img/null.png)"
   ]
  },
  {
   "cell_type": "markdown",
   "metadata": {},
   "source": [
    "##### Key Attribute\n",
    "- That attribute that is capable of **identifying** each entity **uniquelly**.\n",
    "- *Ex*: Roll number(Id) of a student."
   ]
  },
  {
   "cell_type": "markdown",
   "metadata": {},
   "source": [
    "##### Value Set of Attributes:\n",
    "- The set of values that can be assigned to an attribute."
   ]
  },
  {
   "cell_type": "markdown",
   "metadata": {},
   "source": [
    "## 3.2 Database Design Process"
   ]
  },
  {
   "cell_type": "markdown",
   "metadata": {},
   "source": [
    "### Intro"
   ]
  },
  {
   "cell_type": "markdown",
   "metadata": {},
   "source": [
    "![](./img/design.png)"
   ]
  },
  {
   "cell_type": "markdown",
   "metadata": {},
   "source": [
    "#### Requirements Collection & Analysis\n",
    "- Database designers understand & **document** the data **requirements** of the database users."
   ]
  },
  {
   "cell_type": "markdown",
   "metadata": {},
   "source": [
    "#### Functional Requirements\n",
    "- Consists of user-defined operations."
   ]
  },
  {
   "cell_type": "markdown",
   "metadata": {},
   "source": [
    "#### Conceptual Design\n",
    "- Creating conceptual schema.\n",
    "- **Conceptual Schema**: Concise description of data requirements & detailed description of the entity types relationships & constraints."
   ]
  },
  {
   "cell_type": "markdown",
   "metadata": {},
   "source": [
    "#### Logical Design\n",
    "- **Actual implementation** of the database, using commercial DBMS."
   ]
  },
  {
   "cell_type": "markdown",
   "metadata": {},
   "source": [
    "#### Physical Design\n",
    "- The internal storage structures, indexes, access paths: specified."
   ]
  },
  {
   "cell_type": "markdown",
   "metadata": {},
   "source": [
    "### Symbols used in ER Diagram"
   ]
  },
  {
   "cell_type": "markdown",
   "metadata": {},
   "source": [
    "#### Entity\n",
    "![](./img/-4.png)"
   ]
  },
  {
   "cell_type": "markdown",
   "metadata": {},
   "source": [
    "#### Weak Entity\n",
    "![](./img/-3.png)"
   ]
  },
  {
   "cell_type": "markdown",
   "metadata": {},
   "source": [
    "#### Attribute\n",
    "![](./img/-2.png)"
   ]
  },
  {
   "cell_type": "markdown",
   "metadata": {},
   "source": [
    "#### Key Attribute\n",
    "![](./img/-1.png)"
   ]
  },
  {
   "cell_type": "markdown",
   "metadata": {},
   "source": [
    "#### Multivalued Attribute\n",
    "![](./img/-8.png)"
   ]
  },
  {
   "cell_type": "markdown",
   "metadata": {},
   "source": [
    "#### Composite Attribute\n",
    "![](./img/-7.png)"
   ]
  },
  {
   "cell_type": "markdown",
   "metadata": {},
   "source": [
    "#### Derived Attribute\n",
    "![](./img/-6.png)"
   ]
  },
  {
   "cell_type": "markdown",
   "metadata": {},
   "source": [
    "#### Identifying Relationship\n",
    "![](./img/-5.png)"
   ]
  },
  {
   "cell_type": "markdown",
   "metadata": {},
   "source": [
    "### Example\n",
    "Let us see an example database application,called COMPANY."
   ]
  },
  {
   "cell_type": "markdown",
   "metadata": {},
   "source": [
    "#### Requirements gathered\n",
    "- Company is orgamized into **departments**. Each department has a unique name, unique number & a particular employee who manages the department. We also keep track of the start date fo the manager. A department may have several locations.\n",
    "- A department controls number of **projects**, each of which has a unique name, unique number and a single location.\n",
    "- **Employee details**: name, SSN, sex, salary. We keep track of number of hours per week on each project.\n",
    "- Keep track of each employee's **dependents** (first name, sex, relationship to the employee)."
   ]
  },
  {
   "cell_type": "markdown",
   "metadata": {},
   "source": [
    "#### Initial Conceptual Design of COMPANY Database\n",
    "We can identify 4 entity types based on the requirements:\n",
    "- **DEPARTMENT**: Name, Number, {Locations}, Manager, ManagerStartDate<br>\n",
    "![](./img/t1.png)\n",
    "- **PROJECT**: Name, Number, Location, ControllingDepartment<br>\n",
    "![](./img/t2.png)\n",
    "- **EMPLOYEE**: Name(FName, MName, LName), SSN, Sex, Salary, BirthDate, Department, {WorksOn (Project, Hours)}<br>\n",
    "![](./img/t3.png)\n",
    "- **DEPENDENT**: Employee, DependentName, Sex, BirthDate, Relationship<br>\n",
    "![](./img/t3.png)"
   ]
  },
  {
   "cell_type": "markdown",
   "metadata": {},
   "source": [
    "## 3.3 Concept of Relationships in ER Diagram"
   ]
  },
  {
   "cell_type": "markdown",
   "metadata": {},
   "source": [
    "### Relationships\n",
    "- Association among 2 or more entities.\n",
    "- *Ex*: teacher **teaches** student."
   ]
  },
  {
   "cell_type": "markdown",
   "metadata": {},
   "source": [
    "### Degree of Relationship\n",
    "Denotes the number of entity types that participate in a relationship."
   ]
  },
  {
   "cell_type": "markdown",
   "metadata": {},
   "source": [
    "#### 1. Unary relationship\n",
    "Exists when there is an **association with only one entity**.<br>\n",
    "![](./img/77.png)"
   ]
  },
  {
   "cell_type": "markdown",
   "metadata": {},
   "source": [
    "#### 2. Binary relationship\n",
    "Exists when there is an **association with only two entity**.<br>\n",
    "![](./img/88.png)"
   ]
  },
  {
   "cell_type": "markdown",
   "metadata": {},
   "source": [
    "#### 3. Ternary relationship\n",
    "Exists when there is an **association among three entities**.<br>\n",
    "![](./img/99.png)"
   ]
  },
  {
   "cell_type": "markdown",
   "metadata": {},
   "source": [
    "### Relationship Constraints"
   ]
  },
  {
   "cell_type": "markdown",
   "metadata": {},
   "source": [
    "#### Cardinality Ratio\n",
    "- Maximum number of relationship instances that an entity can participate in.\n",
    "- Possible cardinality ratios for binary relationship : **1:1**, **1:N**, **N:1**, **M:N**.<br>\n",
    "![](./img/card.png)"
   ]
  },
  {
   "cell_type": "markdown",
   "metadata": {},
   "source": [
    "#### Participation Constraints\n",
    "- Specifies whether existence of an entity depends on its being related to another entity.\n",
    "- 2 Types: **Total** participation & **Partial** participation.<br>\n",
    "![](./img/part.png)"
   ]
  },
  {
   "cell_type": "markdown",
   "metadata": {},
   "source": [
    "### ER Diagram for COMPANY Database\n",
    "\n",
    "![](./img/er%20diag.png)"
   ]
  },
  {
   "cell_type": "markdown",
   "metadata": {},
   "source": [
    "### Attributes of Relationship Types\n",
    "- Attributes of 1:1 or 1:N relationship types can be migrated to one of the participating entity types.\n",
    "    - In **1:1 relationship** type, attributes can be migrated to either of the entity types.\n",
    "    - In **1:N** or **N:1 relationship** type, attributes are migrated only to the entity type on the N-side of the relationship\n",
    "    - In **M:N relationship** type, some attributes can be determined by a **combination of participating entities**.\n",
    "\n",
    "![](./img/atts.png)"
   ]
  },
  {
   "cell_type": "markdown",
   "metadata": {},
   "source": [
    "### Role Names\n",
    "- **Signifies the role** that a participating entity plays in each relationship instance.\n",
    "### Recursive Relationships\n",
    "- Same entity type **participates more than once** in a relationship type in different roles.<br>\n",
    "![](./img/recurs.png) "
   ]
  },
  {
   "cell_type": "markdown",
   "metadata": {},
   "source": [
    "### Alternative Notations for ER Diagrams\n",
    "Associates a pair of integer numbers **(min,max)** with each participation of an entity type in a relationship type, where **0 <= min <= max** and **max >=1**.\n",
    "![](./img/alt.png)"
   ]
  },
  {
   "cell_type": "markdown",
   "metadata": {},
   "source": [
    "### Enhanced ER Model"
   ]
  },
  {
   "cell_type": "markdown",
   "metadata": {},
   "source": [
    "#### Generalization\n",
    "**Bottom-up appraoch** where two lower level entities combine to form a higher level entity.<br>\n",
    "![](./img/gen.png)"
   ]
  },
  {
   "cell_type": "markdown",
   "metadata": {},
   "source": [
    "#### Specialization\n",
    "**Top-up appraoch** where it defines set of subclasses of an entity type.<br>\n",
    "![](./img/spe.png)"
   ]
  },
  {
   "cell_type": "markdown",
   "metadata": {},
   "source": [
    "# 4. Relational Data Model & Constraints"
   ]
  },
  {
   "cell_type": "markdown",
   "metadata": {},
   "source": [
    "## 4.1 Introduction"
   ]
  },
  {
   "cell_type": "markdown",
   "metadata": {},
   "source": [
    "### History"
   ]
  },
  {
   "cell_type": "markdown",
   "metadata": {},
   "source": [
    "- First introduced by Ted Codd (in 1970).\n",
    "- Uses concept of mathenatical relation.\n",
    "- **First commercial implementations of the relational model**: Oracle DBMS**, SQL/DS system (IBM).\n",
    "- **Current popular RDBMSs**: SQL Server & Access (Microsoft),DB2 & Informix (IBM),etc.\n",
    "- **Standard for commerial RDBMS**: SQL query Language."
   ]
  },
  {
   "cell_type": "markdown",
   "metadata": {},
   "source": [
    "### Terminologies"
   ]
  },
  {
   "cell_type": "markdown",
   "metadata": {},
   "source": [
    "- Relational model represents data as a **collection of tables**\n",
    "- A table is also called a **relation**.\n",
    "- Each row is called **tuple**.\n",
    "- Column headers are called **attributes**."
   ]
  },
  {
   "cell_type": "markdown",
   "metadata": {},
   "source": [
    "![](./img/term.png)"
   ]
  },
  {
   "cell_type": "markdown",
   "metadata": {},
   "source": [
    "- **Domain**\n",
    "    - A set of atomic values allowed for an attribute.\n",
    "    - *Ex:*\n",
    "        - **Name**: string of characters that represent name of persons.\n",
    "        - **Emplyee_ages**: Possible ages of employees of a company (values between 20 & 70 years old). "
   ]
  },
  {
   "cell_type": "markdown",
   "metadata": {},
   "source": [
    "- **Relation schema**\n",
    "    - Describes a relation.\n",
    "    - Made up of a relation name **R** and a list of attributes **A1,A2,A3,...,An**."
   ]
  },
  {
   "cell_type": "markdown",
   "metadata": {},
   "source": [
    "![](./img/schema.png)"
   ]
  },
  {
   "cell_type": "markdown",
   "metadata": {},
   "source": [
    "- **Degree (or arity) of a relation**\n",
    "    - Number of attributes in a relation schema.\n",
    "    - *Ex*:\n",
    "        - In last picture,the degree is 6."
   ]
  },
  {
   "cell_type": "markdown",
   "metadata": {},
   "source": [
    "- **Cardinality**\n",
    "    - Total number of tuples present in a relation."
   ]
  },
  {
   "cell_type": "markdown",
   "metadata": {},
   "source": [
    "![](./img/cardin.png)"
   ]
  },
  {
   "cell_type": "markdown",
   "metadata": {},
   "source": [
    "- **Relational database schema**\n",
    "    - Is a set of relation schemas and a set of intergrity constraints.\n",
    "\n",
    "- **Relation state (or relation instance)**\n",
    "    - Set of tuples at a given time.\n"
   ]
  },
  {
   "cell_type": "markdown",
   "metadata": {},
   "source": [
    "## 4.2 Characteristics of Relations"
   ]
  },
  {
   "cell_type": "markdown",
   "metadata": {},
   "source": [
    "### Ordering of Tuples within a Relation\n",
    "- A relation is a set of tuples.\n",
    "- Tuples in a relation need not have any particular order."
   ]
  },
  {
   "cell_type": "markdown",
   "metadata": {},
   "source": [
    "![](./img/ord_tup.png)"
   ]
  },
  {
   "cell_type": "markdown",
   "metadata": {},
   "source": [
    "### Ordering of Values within a Tuple\n",
    "- An **n-tuple** is an ordered list of n values, so ordering of values in a tuple is important.\n",
    "<br><br>\n",
    "- With an alternative definition of relation, prdering of values i a tuple is unnecessary.\n",
    "- A tuple is set of **(\\<attribute>,\\<value>)** pair, then ordering of attributes is not important."
   ]
  },
  {
   "cell_type": "markdown",
   "metadata": {},
   "source": [
    "![](./img/ord_vals.png)"
   ]
  },
  {
   "cell_type": "markdown",
   "metadata": {},
   "source": [
    "### Values & Nulls in a Tuple\n",
    "- Each value in a tuple is an **atomic value**."
   ]
  },
  {
   "cell_type": "markdown",
   "metadata": {},
   "source": [
    "![](./img/atom_nul.png)"
   ]
  },
  {
   "cell_type": "markdown",
   "metadata": {},
   "source": [
    "### Interpretation of a Relation\n",
    "- The relation schema can be represented as a decalaration or assertion.\n",
    "- Each typle can be interpreted as a fact."
   ]
  },
  {
   "cell_type": "markdown",
   "metadata": {},
   "source": [
    "## 4.3 Relational Model Constraints"
   ]
  },
  {
   "cell_type": "markdown",
   "metadata": {},
   "source": [
    "### Constrains on database\n",
    "- **Inherent model-based:** inherent in the data model.\n",
    "- **Schema based:** Defined directly in the schamas of the data model.\n",
    "- **Application based(semantic):** Must be expressed and enforced by the application programs."
   ]
  },
  {
   "cell_type": "markdown",
   "metadata": {},
   "source": [
    "#### Schema-based Constraints"
   ]
  },
  {
   "cell_type": "markdown",
   "metadata": {},
   "source": [
    "- **Domain Constrains:**\n",
    "    - Must be an **atomic**\n",
    "    - Performs **data type check**.\n",
    "\n",
    "![](./img/d_cons.png)"
   ]
  },
  {
   "cell_type": "markdown",
   "metadata": {},
   "source": [
    "- **Key Constaints**:\n",
    "    - An attribute that can uniquely identify each tuple in a relation is called a **key**.\n",
    "\n",
    "    ![](./img/key_cons.png)\n",
    "\n",
    "    - A **superkey** specifies that no two tuples can have the same value.\n",
    "    - Every relation has at least one superkey : set of all attributes.\n",
    "\n",
    "    ![](./img/suup.png)\n",
    "\n",
    "    - A key satisfies 2 constaints:\n",
    "        - Two tuples cannot have identical values for all the attributes in the key.\n",
    "        - It is a **minimal superkey**.\n",
    "    - **Candidate Keys**:\n",
    "        - Set of attributes that uniquely identify the tuples in a relation.\n"
   ]
  },
  {
   "cell_type": "markdown",
   "metadata": {},
   "source": [
    "- Contraints on Null Values:\n",
    "    - Specifies wheter null values are permitted or not (**NOT NULL**)."
   ]
  },
  {
   "cell_type": "markdown",
   "metadata": {},
   "source": [
    "- **Entity Integrity Constraint**:\n",
    "    - States that **no primary key value can be null**"
   ]
  },
  {
   "cell_type": "markdown",
   "metadata": {},
   "source": [
    "- **Referential Integrity Constraint**:\n",
    "    - Specified between 2 relations.\n",
    "    - States that a tuple in one relation that refers to another relation must refer to an **existing tuple** in that relation.\n",
    "    \n",
    "    ![](./img/intj.png)\n",
    "\n",
    "    - **Foreign Key** must satisfy the following:\n",
    "        - Same domain.\n",
    "        - Value of FK in a tuple either occurs as a value of PK ie,\n",
    "            - **t1[FK] = t2[PK]** or is null."
   ]
  },
  {
   "cell_type": "markdown",
   "metadata": {},
   "source": [
    "## 4.4 Manipulate Operations"
   ]
  },
  {
   "cell_type": "markdown",
   "metadata": {},
   "source": [
    "### The INSERT operation"
   ]
  },
  {
   "cell_type": "markdown",
   "metadata": {},
   "source": [
    "- **Domain constraints**: Violated if the attribute value doesn't match the domain.\n",
    "  - **Handling**: Validate the data type, format, and range before insertion.\n",
    "\n",
    "- **Key constraint**: Violated if the primary key is duplicated.\n",
    "  - **Handling**: Check for duplicates or use unique constraints/sequences.\n",
    "\n",
    "- **Entity Integrity**: Violated if the primary key is null.\n",
    "  - **Handling**: Ensure all primary key values are non-null before insertion.\n",
    "\n",
    "- **Referential Integrity**: Violated if the foreign key doesn't match any tuples in the referenced relation.\n",
    "  - **Handling**: Validate the foreign key or use cascading options like `ON INSERT CASCADE`."
   ]
  },
  {
   "cell_type": "markdown",
   "metadata": {},
   "source": [
    "### The DELETE operation"
   ]
  },
  {
   "cell_type": "markdown",
   "metadata": {},
   "source": [
    "- **Referential Integrity**: Violated if dependent tuples exist in other tables.\n",
    "  - **Handling**: Use `ON DELETE CASCADE`, `SET NULL`, or `RESTRICT` to manage dependent records."
   ]
  },
  {
   "cell_type": "markdown",
   "metadata": {},
   "source": [
    "### The UPDATE operation"
   ]
  },
  {
   "cell_type": "markdown",
   "metadata": {},
   "source": [
    "- **Domain Constraint**: Violated if the updated value doesn't match the domain.\n",
    "  - **Handling**: Validate data type, format, and range before updating.\n",
    "\n",
    "- **Key Constraint**: Violated if the primary key is updated to a duplicate value.\n",
    "  - **Handling**: Check for duplicates and enforce unique constraints.\n",
    "\n",
    "- **Referential Integrity**: Violated if the update changes a foreign key or referenced primary key incorrectly.\n",
    "  - **Handling**: Use `ON UPDATE CASCADE` or validate the new key value, or restrict updates with `ON UPDATE RESTRICT`.\n",
    "\n",
    "- **Entity Integrity**: Violated if the update sets a primary key or `NOT NULL` attribute to null.\n",
    "  - **Handling**: Ensure non-null values for key and `NOT NULL` fields."
   ]
  },
  {
   "cell_type": "markdown",
   "metadata": {},
   "source": [
    "# 5. Relational Algebra Operations"
   ]
  },
  {
   "cell_type": "markdown",
   "metadata": {},
   "source": [
    "## Unary\n",
    "are operations that involve only **one relation** (table) as input and produce another relation as output."
   ]
  },
  {
   "cell_type": "markdown",
   "metadata": {},
   "source": [
    "### The SELECT operation\n",
    "Filters rows based on a specified condition.<br>\n",
    "**Syntax:** σ<small>\\<selection_condition></small> (R) <br>\n",
    "- **R** is the relation name."
   ]
  },
  {
   "cell_type": "markdown",
   "metadata": {},
   "source": [
    "#### Ex: \n",
    "Select the EMPLOYEE tuples whose Department Number is 2.<br>\n",
    "![](./img/ex1.png)"
   ]
  },
  {
   "cell_type": "markdown",
   "metadata": {},
   "source": [
    "### The PROJECTION operation:\n",
    "Selects specific columns from a relation, eliminating duplicates.<br>\n",
    "**Syntax:** π<small>\\<attribute_list></small> (R)\n",
    "- **R** is the relation name."
   ]
  },
  {
   "cell_type": "markdown",
   "metadata": {},
   "source": [
    "#### Ex:\n",
    "To list the Employee's First name,Last name and Salary, we can use the PROJECTION operation.<br>\n",
    "![](./img/ex2.png)"
   ]
  },
  {
   "cell_type": "markdown",
   "metadata": {},
   "source": [
    "### The RENAME operation:\n",
    "Renames the attributes or the relation itself.<br>\n",
    "**Syntax:** ρ<small>\\<S(B1,B2,...)></small> (R)\n",
    "- **R** is the 'old' relation name.\n",
    "- **S** is the 'new' relation name."
   ]
  },
  {
   "cell_type": "markdown",
   "metadata": {},
   "source": [
    "#### Ex: \n",
    "Change name of attributes 'FName','LName' to 'FirstName', 'LastName'  for tuples with DNo equals to 3.<br>\n",
    "![](./img/ex3.png)"
   ]
  },
  {
   "cell_type": "markdown",
   "metadata": {},
   "source": [
    "## Set Theory\n",
    "set theory is used to describe operations on relations (tables)."
   ]
  },
  {
   "cell_type": "markdown",
   "metadata": {},
   "source": [
    "#### Union Compatible Term\n",
    "Union compatibility refers to the requirement that two relations (tables) must meet in order to perform a set theory operations in relational algebra. For two relations to be union-compatible, they must satisfy the following conditions:\n",
    "\n",
    "#### Conditions for Union Compatibility:\n",
    "- **Same number of attributes**: Both relations must have the same number of columns (attributes).\n",
    "- **Corresponding attributes must have the same domain**: The attributes in corresponding columns must have the same data type or domain. For example, if the first column of one relation is of type integer, the first column of the other relation must also be of type integer."
   ]
  },
  {
   "cell_type": "markdown",
   "metadata": {},
   "source": [
    "### The UNION Operation (R ∪ S)\n",
    "Includes all tuples that are either in **R** or in **S** or in both **R and S**."
   ]
  },
  {
   "cell_type": "markdown",
   "metadata": {},
   "source": [
    "![](./img/union.png)"
   ]
  },
  {
   "cell_type": "markdown",
   "metadata": {},
   "source": [
    "### The INTERSECTION Operation (R ∩ S)\n",
    "Includes all tuples that are in both **R and S**."
   ]
  },
  {
   "cell_type": "markdown",
   "metadata": {},
   "source": [
    "![](./img/inter.png)"
   ]
  },
  {
   "cell_type": "markdown",
   "metadata": {},
   "source": [
    "### The MINUS Operation (R - S)\n",
    "Includes all tuples that are in **R** and **not in S**."
   ]
  },
  {
   "cell_type": "markdown",
   "metadata": {},
   "source": [
    "![](./img/minus.png)"
   ]
  },
  {
   "cell_type": "markdown",
   "metadata": {},
   "source": [
    "### The CARTESIAN PRODUCT Operation (R × S)\n",
    "Combined attributes of 2 relations."
   ]
  },
  {
   "cell_type": "markdown",
   "metadata": {},
   "source": [
    "![](./img/cart_pr.png)"
   ]
  },
  {
   "cell_type": "markdown",
   "metadata": {},
   "source": [
    "## Binary"
   ]
  },
  {
   "cell_type": "markdown",
   "metadata": {},
   "source": [
    "### The JOIN Operation\n",
    "Combined related tuples from 2 relations into a single relation.<br>\n",
    "- **Syntax:** R ⋈<small>\\<join condition></small> S\n",
    "- **R** is the first relation.\n",
    "- **S** is the second relation."
   ]
  },
  {
   "cell_type": "markdown",
   "metadata": {},
   "source": [
    "![](./img/join.png)"
   ]
  },
  {
   "cell_type": "markdown",
   "metadata": {},
   "source": [
    "Same as:<br>\n",
    "![](./img/smae.png)"
   ]
  },
  {
   "cell_type": "markdown",
   "metadata": {},
   "source": [
    "### The THETA Join\n",
    "is a join operation that combines two relations based on a condition involving a comparison operator (like =, >, <, etc.).<br>\n",
    "- **Syntax:**<br> \n",
    "<small>\\<join condition></small> : A<small>i</small> θ  B<small>j</small> so <br>\n",
    "R ⋈ <small>A<small>i</small> θ  B<small>j</small></small> S\n",
    "- **A<small>i</small>** attribute of **R**.\n",
    "- **B<small>j</small>** attribute of **S**.\n",
    "- **θ** {=,<,<=,>,>=,!=}."
   ]
  },
  {
   "cell_type": "markdown",
   "metadata": {},
   "source": [
    "### The EQUIJOIN Operation\n",
    "The only comparison operator used is **'='**."
   ]
  },
  {
   "cell_type": "markdown",
   "metadata": {},
   "source": [
    "### The NATURAL JOIN Operation ( * )\n",
    "Can be preformed only if there is a common attribute in between the relations."
   ]
  },
  {
   "cell_type": "markdown",
   "metadata": {},
   "source": [
    "### The DIVISION Operation ( ÷ )\n",
    "returns all tuples from one relation (A) that match with every tuple in another relation (B). It's typically used when you want to find entities in A that are related to **all** entities in B."
   ]
  },
  {
   "cell_type": "markdown",
   "metadata": {},
   "source": [
    "![](./img/rel_alg.png)"
   ]
  },
  {
   "cell_type": "markdown",
   "metadata": {},
   "source": [
    "## Additional Operations"
   ]
  },
  {
   "cell_type": "markdown",
   "metadata": {},
   "source": [
    "### Aggregate Functions (Ｇ)\n",
    "used to perform calculations on a set of values and return a single value.\n",
    "- **Syntax:** <small>\\<grouping_attributes></small>Ｇ<small>\\<function_list></small> (R)\n",
    "- **\\<grouping_attributes>:** list of attributes in **R**.\n",
    "- **\\<function_list>:** list of (\\<function>\\<attribute>) pairs."
   ]
  },
  {
   "cell_type": "markdown",
   "metadata": {},
   "source": [
    "![](./img/aggr.png)"
   ]
  },
  {
   "cell_type": "markdown",
   "metadata": {},
   "source": [
    "### Recursive Closure\n",
    "refer to operations that allow you to compute transitive relationships within a dataset. They are often used in hierarchical or graph-based structures to find all possible connections or \"closures\" between related entities."
   ]
  },
  {
   "cell_type": "markdown",
   "metadata": {},
   "source": [
    "![](./img/rec.png)"
   ]
  },
  {
   "cell_type": "markdown",
   "metadata": {},
   "source": [
    "### OUTER JOIN"
   ]
  },
  {
   "cell_type": "markdown",
   "metadata": {},
   "source": [
    "#### Left Outer Join\n",
    "- **Syntax:** R ⟕ <small>\\<condition></small> S"
   ]
  },
  {
   "cell_type": "markdown",
   "metadata": {},
   "source": [
    "![](./img/left_j.png)"
   ]
  },
  {
   "cell_type": "markdown",
   "metadata": {},
   "source": [
    "#### Right Outer Join\n",
    "- **Syntax:** R ⟖ <small>\\<condition></small> S"
   ]
  },
  {
   "cell_type": "markdown",
   "metadata": {},
   "source": [
    "![](./img/right_j.png)"
   ]
  },
  {
   "cell_type": "markdown",
   "metadata": {},
   "source": [
    "#### Full Outer Join\n",
    "- **Syntax:** R ⟗ <small>\\<condition></small> S"
   ]
  },
  {
   "cell_type": "markdown",
   "metadata": {},
   "source": [
    "![](./img/full_j.png)"
   ]
  },
  {
   "cell_type": "markdown",
   "metadata": {},
   "source": [
    "#### OUTER UNIOIN JOIN\n",
    "If two relations are not union compatible or partially compatible."
   ]
  },
  {
   "cell_type": "markdown",
   "metadata": {},
   "source": [
    "![](./img/union_j.png)"
   ]
  },
  {
   "cell_type": "markdown",
   "metadata": {},
   "source": [
    "# Sources\n",
    "- <a href = \"https://www.youtube.com/playlist?list=PLBlnK6fEyqRi_CUQ-FXxgzKQ1dwr_ZJWZ\">Database Management Systems by Neso Academy</a>\n",
    "- <a href=\"https://www.cs.dartmouth.edu/~cs61/Resources/Examples/RelationalAlgebra/RAsymbols/rasymbols.html#:~:text=Aggregate,function%3A%20%EF%BC%A7\">Relational Algebra special characters</a>"
   ]
  }
 ],
 "metadata": {
  "language_info": {
   "name": "python"
  }
 },
 "nbformat": 4,
 "nbformat_minor": 2
}
