{
 "cells": [
  {
   "cell_type": "markdown",
   "metadata": {},
   "source": [
    "# 1. Introduction to SQL"
   ]
  },
  {
   "cell_type": "markdown",
   "metadata": {},
   "source": [
    "## What is SQL? (Overview and use cases)\n",
    "SQL, or **Structured Query Language**, is the standard programming language designed for managing and manipulating relational databases. It allows users to perform tasks such as:\n",
    "- **Querying data**: Retrieve specific information from large datasets.\n",
    "- **Inserting new records**: Add data to your database.\n",
    "- **Updating existing records**: Modify data that already exists.\n",
    "- **Deleting records**: Remove data.\n",
    "- **Creating and managing databases**: Define tables, relationships, and more.\n",
    "\n",
    "SQL is essential for interacting with relational databases, which store data in tables made up of rows and columns. Whether you’re managing a small personal project or working with enterprise-scale databases, SQL offers a way to efficiently manage, update, and retrieve information.\n"
   ]
  },
  {
   "cell_type": "markdown",
   "metadata": {},
   "source": [
    "## Common Use Cases of SQL:\n",
    "- **Data Retrieval**: Extracting data for reporting, analytics, and applications.\n",
    "- **Data Analysis**: Summarizing and analyzing data directly from the database.\n",
    "- **Web Development**: Most websites use SQL to store user data, product inventories, and more.\n",
    "- **Data Science**: SQL is widely used in data science for data wrangling and preprocessing"
   ]
  },
  {
   "cell_type": "markdown",
   "metadata": {},
   "source": [
    "## Brief history of SQL\n",
    "SQL originated in the early 1970s, evolving from a research project at IBM. The project, led by Edgar F. Codd, aimed to create a language that would allow users to define and manipulate data in relational databases.<br>\n",
    "\n",
    "#### Key milestones:\n",
    "\n",
    "- **1970**: Edgar Codd developed the relational model of data.\n",
    "- **1973**: IBM introduced a language called \"SEQUEL\" (Structured English Query Language) based on Codd’s model.\n",
    "- **1979**: Oracle released the first commercially available SQL-based relational database.\n",
    "- **1986**: SQL was standardized by the American National Standards Institute (ANSI).\n",
    "- **Present**: SQL has become the de facto language for relational database management, with widespread adoption across industries.\n",
    "SQL continues to evolve with modern extensions, adding support for JSON, XML, and new data types while maintaining backward compatibility.\n"
   ]
  },
  {
   "cell_type": "markdown",
   "metadata": {},
   "source": [
    "## Popular SQL databases (MySQL, PostgreSQL, SQLite, etc.)\n",
    "Several relational database management systems (RDBMS) implement SQL, each with its own strengths:\n",
    "\n",
    "#### MySQL:\n",
    "- Open-source and widely used, especially for web applications.\n",
    "- Known for scalability and performance.\n",
    "- Commonly used with PHP in the LAMP stack (Linux, Apache, MySQL, PHP).\n",
    "#### PostgreSQL:\n",
    "- An advanced, open-source RDBMS.\n",
    "- Known for compliance with SQL standards and extensibility.\n",
    "- Supports complex queries, transactions, and custom functions.\n",
    "#### SQLite:\n",
    "- Lightweight and serverless.\n",
    "- Ideal for mobile applications, small-scale projects, and embedded systems.\n",
    "- No need for a dedicated database server, often used in development environments.\n",
    "#### Microsoft SQL Server:\n",
    "- Developed by Microsoft, used in many enterprise environments.\n",
    "- High performance, with support for analytics and reporting services.\n",
    "- Oracle Database:\n",
    "\n",
    "#### A powerful commercial RDBMS.\n",
    "- Used in large-scale enterprise environments.\n",
    "- Known for robust security and scalability features.\n",
    "- Each of these databases uses SQL as the primary language to manage and interact with data.\n"
   ]
  },
  {
   "cell_type": "markdown",
   "metadata": {},
   "source": [
    "# 2. Basic Queries"
   ]
  },
  {
   "cell_type": "markdown",
   "metadata": {},
   "source": [
    "## Lesson 1: SELECT Queries 101\n",
    "To retrieve data from a SQL database, we need to write **SELECT** statements, which are often colloquially refered to as queries. A query in itself is just a statement which declares what data we are looking for, where to find it in the database, and optionally, how to transform it before it is returned. It has a specific syntax though."
   ]
  },
  {
   "cell_type": "code",
   "execution_count": null,
   "metadata": {
    "vscode": {
     "languageId": "sql"
    }
   },
   "outputs": [],
   "source": [
    "-- Select query for a specific columns\n",
    "SELECT column, another_column, …\n",
    "FROM mytable;"
   ]
  },
  {
   "cell_type": "markdown",
   "metadata": {},
   "source": [
    "The result of this query will be a two-dimensional set of rows and columns, effectively a copy of the table, but only with the columns that we requested."
   ]
  },
  {
   "cell_type": "code",
   "execution_count": null,
   "metadata": {
    "vscode": {
     "languageId": "sql"
    }
   },
   "outputs": [],
   "source": [
    "-- Select query for all columns\n",
    "SELECT * \n",
    "FROM mytable;"
   ]
  },
  {
   "cell_type": "markdown",
   "metadata": {},
   "source": [
    "This query, in particular, is really useful because it's a simple way to inspect a table by dumping all the data at once."
   ]
  },
  {
   "cell_type": "markdown",
   "metadata": {},
   "source": [
    "## Lesson 2: Queries with Constraints — WHERE clause\n",
    "In order to filter certain results from being returned, we need to use a **WHERE** clause in the query. The clause is applied to each row of data by checking specific column values to determine whether it should be included in the results or not."
   ]
  },
  {
   "cell_type": "code",
   "execution_count": null,
   "metadata": {
    "vscode": {
     "languageId": "sql"
    }
   },
   "outputs": [],
   "source": [
    "-- Select query with constraints\n",
    "SELECT column, another_column, …\n",
    "FROM mytable\n",
    "WHERE condition\n",
    "    AND/OR another_condition\n",
    "    AND/OR …;"
   ]
  },
  {
   "cell_type": "markdown",
   "metadata": {},
   "source": [
    "<table border=\"1\">\n",
    "  <thead>\n",
    "    <tr>\n",
    "      <th>Operator</th>\n",
    "      <th>Condition</th>\n",
    "      <th>SQL Example</th>\n",
    "    </tr>\n",
    "  </thead>\n",
    "  <tbody>\n",
    "    <tr>\n",
    "      <td>=, !=, &lt;, &lt;=, &gt;, &gt;=</td>\n",
    "      <td>Standard numerical operators</td>\n",
    "      <td><code>col_name != 4</code></td>\n",
    "    </tr>\n",
    "    <tr>\n",
    "      <td>BETWEEN … AND …</td>\n",
    "      <td>Number is within range of two values (inclusive)</td>\n",
    "      <td><code>col_name BETWEEN 1.5 AND 10.5</code></td>\n",
    "    </tr>\n",
    "    <tr>\n",
    "      <td>NOT BETWEEN … AND …</td>\n",
    "      <td>Number is not within range of two values (inclusive)</td>\n",
    "      <td><code>col_name NOT BETWEEN 1 AND 10</code></td>\n",
    "    </tr>\n",
    "    <tr>\n",
    "      <td>IN (…)</td>\n",
    "      <td>Number exists in a list</td>\n",
    "      <td><code>col_name IN (2, 4, 6)</code></td>\n",
    "    </tr>\n",
    "    <tr>\n",
    "      <td>NOT IN (…)</td>\n",
    "      <td>Number does not exist in a list</td>\n",
    "      <td><code>col_name NOT IN (1, 3, 5)</code></td>\n",
    "    </tr>\n",
    "  </tbody>\n",
    "</table>\n"
   ]
  },
  {
   "cell_type": "markdown",
   "metadata": {},
   "source": [
    "### Did you know?\n",
    "As you might have noticed by now, SQL doesn't require you to write the keywords all capitalized, but as a convention, it helps people distinguish SQL keywords from column and tables names, and makes the query easier to read."
   ]
  },
  {
   "cell_type": "markdown",
   "metadata": {},
   "source": [
    "## Lesson 3: Queries with Constraints (Pt. 2) — Comparison operators (>, <, =, !=, LIKE, etc.)\n",
    "When writing **WHERE** clauses with columns containing text data, SQL supports a number of useful operators to do things like case-insensitive string comparison and wildcard pattern matching. We show a few common **text-data specific operators** below:"
   ]
  },
  {
   "cell_type": "markdown",
   "metadata": {},
   "source": [
    "<table border=\"1\">\n",
    "  <thead>\n",
    "    <tr>\n",
    "      <th>Operator</th>\n",
    "      <th>Condition</th>\n",
    "      <th>Example</th>\n",
    "    </tr>\n",
    "  </thead>\n",
    "  <tbody>\n",
    "    <tr>\n",
    "      <td>=</td>\n",
    "      <td>Case sensitive exact string comparison (notice the single equals)</td>\n",
    "      <td><code>col_name = \"abc\"</code></td>\n",
    "    </tr>\n",
    "    <tr>\n",
    "      <td>!= or &lt;&gt;</td>\n",
    "      <td>Case sensitive exact string inequality comparison</td>\n",
    "      <td><code>col_name != \"abcd\"</code></td>\n",
    "    </tr>\n",
    "    <tr>\n",
    "      <td>LIKE</td>\n",
    "      <td>Case insensitive exact string comparison</td>\n",
    "      <td><code>col_name LIKE \"ABC\"</code></td>\n",
    "    </tr>\n",
    "    <tr>\n",
    "      <td>NOT LIKE</td>\n",
    "      <td>Case insensitive exact string inequality comparison</td>\n",
    "      <td><code>col_name NOT LIKE \"ABCD\"</code></td>\n",
    "    </tr>\n",
    "    <tr>\n",
    "      <td>%</td>\n",
    "      <td>Used anywhere in a string to match a sequence of zero or more characters (only with LIKE or NOT LIKE)</td>\n",
    "      <td><code>col_name LIKE \"%AT%\"</code> (matches \"AT\", \"ATTIC\", \"CAT\", or \"BATS\")</td>\n",
    "    </tr>\n",
    "    <tr>\n",
    "      <td>_</td>\n",
    "      <td>Used anywhere in a string to match a single character (only with LIKE or NOT LIKE)</td>\n",
    "      <td><code>col_name LIKE \"AN_\"</code> (matches \"AND\", but not \"AN\")</td>\n",
    "    </tr>\n",
    "    <tr>\n",
    "      <td>IN (…)</td>\n",
    "      <td>String exists in a list</td>\n",
    "      <td><code>col_name IN (\"A\", \"B\", \"C\")</code></td>\n",
    "    </tr>\n",
    "    <tr>\n",
    "      <td>NOT IN (…)</td>\n",
    "      <td>String does not exist in a list</td>\n",
    "      <td><code>col_name NOT IN (\"D\", \"E\", \"F\")</code></td>\n",
    "    </tr>\n",
    "  </tbody>\n",
    "</table>\n"
   ]
  },
  {
   "cell_type": "markdown",
   "metadata": {},
   "source": [
    "### Did you know?\n",
    "All strings must be quoted so that the query parser can distinguish words in the string from SQL keywords."
   ]
  },
  {
   "cell_type": "markdown",
   "metadata": {},
   "source": [
    "## Lesson 4: Filtering and Sorting Query Results (ORDER BY, LIMIT, and DISTINCT)"
   ]
  },
  {
   "cell_type": "markdown",
   "metadata": {},
   "source": [
    "### Distinct\n",
    "Even though the data in a database may be unique, the results of any particular query may not be – take our Movies table for example, many different movies can be released the same year. In such cases, SQL provides a convenient way to discard rows that have a duplicate column value by using the **DISTINCT** keyword."
   ]
  },
  {
   "cell_type": "code",
   "execution_count": null,
   "metadata": {
    "vscode": {
     "languageId": "sql"
    }
   },
   "outputs": [],
   "source": [
    "-- Select query with unique results\n",
    "SELECT DISTINCT column, another_column, …\n",
    "FROM mytable;"
   ]
  },
  {
   "cell_type": "markdown",
   "metadata": {},
   "source": [
    "### Ordering results\n",
    "SQL provides a way to sort your results by a given column in ascending or descending order using the **ORDER BY** clause."
   ]
  },
  {
   "cell_type": "code",
   "execution_count": null,
   "metadata": {
    "vscode": {
     "languageId": "sql"
    }
   },
   "outputs": [],
   "source": [
    "-- Select query with ordered results\n",
    "SELECT column, another_column, …\n",
    "FROM mytable\n",
    "ORDER BY column ASC/DESC;"
   ]
  },
  {
   "cell_type": "markdown",
   "metadata": {},
   "source": [
    "### Limiting results to a subset\n",
    "Another clause which is commonly used with the **ORDER BY** clause are the **LIMIT** and **OFFSET** clauses, which are a useful optimization to indicate to the database the subset of the results you care about.<br>\n",
    "The **LIMIT** will reduce the number of rows to return, and the optional **OFFSET** will specify where to begin counting the number rows from."
   ]
  },
  {
   "cell_type": "code",
   "execution_count": null,
   "metadata": {
    "vscode": {
     "languageId": "sql"
    }
   },
   "outputs": [],
   "source": [
    "-- Select query with limited rows\n",
    "SELECT column, another_column, …\n",
    "FROM mytable\n",
    "ORDER BY column ASC/DESC\n",
    "LIMIT num_limit OFFSET num_offset;"
   ]
  },
  {
   "cell_type": "markdown",
   "metadata": {},
   "source": [
    "## Lesson 5: Aliases\n",
    "An alias is a temporary name assigned to a table or a column in a query using **AS** keyword. It is used to make complex queries more readable and to simplify the way we reference columns or tables, especially when working with JOINs or subqueries. Aliases only exist for the duration of the query and do not affect the actual table or column names in the database."
   ]
  },
  {
   "cell_type": "code",
   "execution_count": null,
   "metadata": {
    "vscode": {
     "languageId": "sql"
    }
   },
   "outputs": [],
   "source": [
    "-- Select query with column and table aliases\n",
    "SELECT t.column_name AS alias_name, t.another_column AS another_alias\n",
    "FROM table_name AS t;"
   ]
  },
  {
   "cell_type": "markdown",
   "metadata": {},
   "source": [
    "## Review: Simple SELECT Queries\n",
    "You've done a good job getting to this point! Now that you've gotten a taste of how to write a basic query, you need to practice writing queries that solve actual problems."
   ]
  },
  {
   "cell_type": "code",
   "execution_count": null,
   "metadata": {
    "vscode": {
     "languageId": "sql"
    }
   },
   "outputs": [],
   "source": [
    "-- SELECT query\n",
    "SELECT column, another_column, …\n",
    "FROM mytable\n",
    "WHERE condition(s)\n",
    "ORDER BY column ASC/DESC\n",
    "LIMIT num_limit OFFSET num_offset;"
   ]
  },
  {
   "cell_type": "markdown",
   "metadata": {},
   "source": [
    "# 3. Advanced SELECT"
   ]
  },
  {
   "cell_type": "markdown",
   "metadata": {},
   "source": [
    "## Lesson 6: Multi-table Queries with JOINs (INNER JOIN, CROSS JOIN)\n",
    "Tables that share information about a single entity need to have a **primary key** that identifies that entity uniquely across the database. One common primary key type is an auto-incrementing integer (because they are space efficient), but it can also be a string, hashed value, so long as it is unique.<br>\n",
    "Using the **JOIN** clause in a query, we can combine row data across two separate tables using this unique key."
   ]
  },
  {
   "cell_type": "markdown",
   "metadata": {},
   "source": [
    "### INNER JOIN\n",
    "The INNER JOIN is a process that matches rows from the first table and the second table which have the same key (as defined by the ON constraint) to create a result row with the combined columns from both tables. After the tables are joined, the other clauses we learned previously are then applied."
   ]
  },
  {
   "cell_type": "code",
   "execution_count": null,
   "metadata": {
    "vscode": {
     "languageId": "sql"
    }
   },
   "outputs": [],
   "source": [
    "-- Select query with INNER JOIN on multiple tables\n",
    "SELECT column, another_table_column, …\n",
    "FROM mytable\n",
    "INNER JOIN another_table \n",
    "    ON mytable.id = another_table.id;"
   ]
  },
  {
   "cell_type": "markdown",
   "metadata": {},
   "source": [
    "### Did you know?\n",
    "You might see queries where the **INNER JOIN** is written simply as a **JOIN**. These two are equivalent, but we will continue to refer to these joins as inner-joins because they make the query easier to read once you start using other types of joins, which will be introduced in the following lesson."
   ]
  },
  {
   "cell_type": "markdown",
   "metadata": {},
   "source": [
    "## Lesson 7: OUTER JOINs (LEFT, RIGHT, FULL OUTER JOIN)\n",
    "Depending on how you want to analyze the data, the **INNER JOIN** we used last lesson might not be sufficient because the resulting table only contains data that belongs in both of the tables.<br><br>\n",
    "If the two tables have **asymmetric data**, which can easily happen when data is entered in different stages, then we would have to use a **LEFT JOIN**, **RIGHT JOIN** or **FULL JOIN** instead to ensure that the data you need is not left out of the results."
   ]
  },
  {
   "cell_type": "code",
   "execution_count": null,
   "metadata": {
    "vscode": {
     "languageId": "sql"
    }
   },
   "outputs": [],
   "source": [
    "-- Select query with LEFT/RIGHT/FULL JOINs on multiple tables\n",
    "SELECT column, another_column, …\n",
    "FROM mytable\n",
    "LEFT/RIGHT/FULL JOIN another_table \n",
    "    ON mytable.id = another_table.matching_id;"
   ]
  },
  {
   "cell_type": "markdown",
   "metadata": {},
   "source": [
    "When joining table A to table B:\n",
    "- **LEFT JOIN** simply includes rows from A regardless of whether a matching row is found in B. \n",
    "- **RIGHT JOIN** is the same, but reversed, keeping rows in B regardless of whether a match is found in A.\n",
    "- **FULL JOIN** simply means that rows from both tables are kept, regardless of whether a matching row exists in the other table."
   ]
  },
  {
   "cell_type": "markdown",
   "metadata": {},
   "source": [
    "### Did you know?\n",
    "You might see queries with these joins written as **LEFT OUTER JOIN**, **RIGHT OUTER JOIN**, or **FULL OUTER JOIN**, but the **OUTER** keyword is really kept for **SQL-92 compatibility** and these queries are simply equivalent to **LEFT JOIN**, **RIGHT JOIN**, and **FULL JOIN** respectively."
   ]
  },
  {
   "cell_type": "markdown",
   "metadata": {},
   "source": [
    "## Lesson 8: NULL Values (handling NULLs in SQL)\n",
    "NULL values in an SQL database. It's always good to reduce the possibility of **NULL** values in databases because they require special attention when constructing queries, constraints (certain functions behave differently with null values) and when processing the results."
   ]
  },
  {
   "cell_type": "code",
   "execution_count": null,
   "metadata": {
    "vscode": {
     "languageId": "sql"
    }
   },
   "outputs": [],
   "source": [
    "-- Select query with constraints on NULL values\n",
    "SELECT column, another_column, …\n",
    "FROM mytable\n",
    "WHERE column IS/IS NOT NULL\n",
    "AND/OR another_condition\n",
    "AND/OR …;"
   ]
  },
  {
   "cell_type": "markdown",
   "metadata": {},
   "source": [
    "## Lesson 9: Queries with Expressions (Arithmetic operations, string functions, etc.)\n",
    "In addition to querying and referencing raw column data with SQL, you can also use **expressions** to write more complex logic on column values in a query. These expressions can use mathematical and string functions along with basic arithmetic to transform values when the query is executed."
   ]
  },
  {
   "cell_type": "code",
   "execution_count": null,
   "metadata": {
    "vscode": {
     "languageId": "sql"
    }
   },
   "outputs": [],
   "source": [
    "-- Select query with expression aliases\n",
    "SELECT col_expression AS expr_description, …\n",
    "FROM mytable;"
   ]
  },
  {
   "cell_type": "markdown",
   "metadata": {},
   "source": [
    "#### Example"
   ]
  },
  {
   "cell_type": "code",
   "execution_count": null,
   "metadata": {
    "vscode": {
     "languageId": "sql"
    }
   },
   "outputs": [],
   "source": [
    "-- Example query with expressions\n",
    "SELECT particle_speed / 2.0 AS half_particle_speed\n",
    "FROM physics_data\n",
    "WHERE ABS(particle_position) * 10.0 > 500;"
   ]
  },
  {
   "cell_type": "markdown",
   "metadata": {},
   "source": [
    "## Lesson 10: Queries with Aggregates (Pt. 1) — COUNT, SUM, AVG, MIN, MAX\n",
    "SQL also supports the use of aggregate expressions (or functions) that allow you to summarize information about a group of rows of data."
   ]
  },
  {
   "cell_type": "code",
   "execution_count": null,
   "metadata": {
    "vscode": {
     "languageId": "sql"
    }
   },
   "outputs": [],
   "source": [
    "-- Select query with aggregate functions over all rows\n",
    "SELECT AGG_FUNC(column_or_expression) AS aggregate_description, …\n",
    "FROM mytable\n",
    "WHERE constraint_expression;"
   ]
  },
  {
   "cell_type": "markdown",
   "metadata": {},
   "source": [
    "Without a specified grouping, each aggregate function is going to run on the whole set of result rows and return a single value. And like normal expressions, giving your aggregate functions an alias ensures that the results will be easier to read and process."
   ]
  },
  {
   "cell_type": "markdown",
   "metadata": {},
   "source": [
    "## Lesson 11: Queries with Aggregates (Pt. 2) — GROUP BY, HAVING clause"
   ]
  },
  {
   "cell_type": "markdown",
   "metadata": {},
   "source": [
    "**GROUP BY** is a clause used to aggregate data by one or more columns, allowing for summary calculations on grouped rows, often in conjunction with aggregate functions like COUNT(), SUM(), and AVG(). "
   ]
  },
  {
   "cell_type": "markdown",
   "metadata": {},
   "source": [
    "**HAVING** is used to filter groups created by the GROUP BY clause, applying conditions to the aggregated data. It is similar to the WHERE clause but is specifically for filtering groups."
   ]
  },
  {
   "cell_type": "code",
   "execution_count": null,
   "metadata": {
    "vscode": {
     "languageId": "sql"
    }
   },
   "outputs": [],
   "source": [
    "-- Select query with GROUP BY, HAVING constraint\n",
    "SELECT group_by_column, AGG_FUNC(column_expression) AS aggregate_result_alias, …\n",
    "FROM mytable\n",
    "WHERE condition\n",
    "GROUP BY column\n",
    "HAVING group_condition;"
   ]
  },
  {
   "cell_type": "markdown",
   "metadata": {},
   "source": [
    "### Did you know?\n",
    "If you aren't using the `GROUP BY` clause, a simple `WHERE` clause will suffice."
   ]
  },
  {
   "cell_type": "markdown",
   "metadata": {},
   "source": [
    "# 4. Subqueries and Complex Queries"
   ]
  },
  {
   "cell_type": "markdown",
   "metadata": {},
   "source": [
    "## Lesson 12: Subqueries (Nested SELECT statements)\n",
    "You might have noticed that even with a complete query, there are many questions that we can't answer about our data without additional post, or pre, processing. In these cases, you can either make multiple queries and process the data yourself, or you can build a more complex query using SQL subqueries."
   ]
  },
  {
   "cell_type": "markdown",
   "metadata": {},
   "source": [
    "### Example: General subquery\n",
    "<pre>\n",
    "Lets say your company has a list of all Sales Associates, with data on the revenue that each Associate brings in, and their individual salary. Times are tight, and you now want to find out which of your Associates are costing the company more than the average revenue brought per Associate.\n",
    "\n",
    "- First, you would need to calculate the average revenue all the Associates are generating:"
   ]
  },
  {
   "cell_type": "code",
   "execution_count": null,
   "metadata": {
    "vscode": {
     "languageId": "sql"
    }
   },
   "outputs": [],
   "source": [
    "SELECT AVG(revenue_generated)\n",
    "FROM sales_associates;"
   ]
  },
  {
   "cell_type": "markdown",
   "metadata": {},
   "source": [
    "<pre>\n",
    "\n",
    "- And then using that result, we can then compare the costs of each of the Associates against that value. To use it as a subquery, we can just write it straight into the WHERE clause of the query:"
   ]
  },
  {
   "cell_type": "code",
   "execution_count": null,
   "metadata": {
    "vscode": {
     "languageId": "sql"
    }
   },
   "outputs": [],
   "source": [
    "SELECT *\n",
    "FROM sales_associates\n",
    "WHERE salary > \n",
    "   (SELECT AVG(revenue_generated)\n",
    "    FROM sales_associates);"
   ]
  },
  {
   "cell_type": "markdown",
   "metadata": {},
   "source": [
    "<pre>\n",
    "As the constraint is executed, each Associate's salary will be tested against the value queried from the inner subquery."
   ]
  },
  {
   "cell_type": "markdown",
   "metadata": {},
   "source": [
    "A subquery can be referenced anywhere a normal table can be referenced. Inside a **FROM** clause, you can **JOIN** subqueries with other tables, inside a **WHERE** or **HAVING** constraint, you can test expressions against the results of the subquery, and even in expressions in the **SELECT** clause, which allow you to return data directly from the subquery. They are generally executed in the same logical order as the part of the query that they appear in, as described in the last lesson."
   ]
  },
  {
   "cell_type": "markdown",
   "metadata": {},
   "source": [
    "## Lesson 13: Correlated Subqueries\n",
    "A more powerful type of subquery is the correlated subquery in which the inner query references, and is dependent on, a column or alias from the outer query. Unlike the subqueries above, each of these inner queries need to be run for each of the rows in the outer query, since the inner query is dependent on the current outer query row."
   ]
  },
  {
   "cell_type": "markdown",
   "metadata": {},
   "source": [
    "### Example: Correlated subquery\n",
    "<pre>\n",
    "Instead of the list of just Sales Associates above, imagine if you have a general list of Employees, their departments (engineering, sales, etc.), revenue, and salary. This time, you are now looking across the company to find the employees who perform worse than average in their department.<br>\n",
    "For each employee, you would need to calculate their cost relative to the average revenue generated by all people in their department. To take the average for the department, the subquery will need to know what department each employee is in:"
   ]
  },
  {
   "cell_type": "code",
   "execution_count": null,
   "metadata": {
    "vscode": {
     "languageId": "sql"
    }
   },
   "outputs": [],
   "source": [
    "SELECT *\n",
    "FROM employees\n",
    "WHERE salary > \n",
    "   (SELECT AVG(revenue_generated)\n",
    "    FROM employees AS dept_employees\n",
    "    WHERE dept_employees.department = employees.department);"
   ]
  },
  {
   "cell_type": "markdown",
   "metadata": {},
   "source": [
    "These kinds of complex queries can be powerful, but also difficult to read and understand, so you should take care using them. If possible, try and give meaningful aliases to the temporary values and tables. In addition, correlated subqueries can be difficult to optimize, so performance characteristics may vary across different databases."
   ]
  },
  {
   "cell_type": "markdown",
   "metadata": {},
   "source": [
    "## Lesson 14: Common Table Expressions (CTEs) — WITH clause\n",
    "A **Common Table Expression (CTE)** is a temporary result set that can be referenced within a **SELECT**, **INSERT**, **UPDATE**, or **DELETE** statement. **CTEs** enhance the readability and organization of SQL queries, allowing you to define a result set that can be reused multiple times within a single query. They are defined using the **WITH** clause, which precedes the main query."
   ]
  },
  {
   "cell_type": "code",
   "execution_count": null,
   "metadata": {
    "vscode": {
     "languageId": "sql"
    }
   },
   "outputs": [],
   "source": [
    "-- Syntax of a CTE\n",
    "WITH cte_name AS (\n",
    "    -- SQL query to define the CTE\n",
    "    SELECT column1, column2, ...\n",
    "    FROM table_name\n",
    "    WHERE condition\n",
    ")\n",
    "SELECT *\n",
    "FROM cte_name;"
   ]
  },
  {
   "cell_type": "markdown",
   "metadata": {},
   "source": [
    "## Lesson 15: Window Functions (OVER, ROW_NUMBER, RANK, etc.)\n",
    "Window functions are a powerful feature in SQL that perform calculations across a set of table rows that are related to the current row. Unlike regular aggregate functions, which return a single value for a group of rows, window functions return a value for each row in the original result set while still providing aggregate information. This makes them useful for tasks like ranking, calculating running totals, or computing moving averages."
   ]
  },
  {
   "cell_type": "code",
   "execution_count": null,
   "metadata": {
    "vscode": {
     "languageId": "sql"
    }
   },
   "outputs": [],
   "source": [
    "function_name(column_name) OVER (\n",
    "    [PARTITION BY partition_expression]\n",
    "    [ORDER BY order_expression]\n",
    "    [ROWS or RANGE between_expression]\n",
    ")"
   ]
  },
  {
   "cell_type": "markdown",
   "metadata": {},
   "source": [
    "- **function_name**: The window function (e.g., ROW_NUMBER(), RANK(), SUM(), etc.).\n",
    "- **PARTITION BY**: Divides the result set into partitions to which the window function is applied. This clause is optional.\n",
    "- **ORDER BY**: Defines the order of rows in each partition. This clause is also optional.\n",
    "- **ROWS or RANGE**: Specifies the frame of rows for the calculation (optional)."
   ]
  },
  {
   "cell_type": "markdown",
   "metadata": {},
   "source": [
    "### Common Window Functions"
   ]
  },
  {
   "cell_type": "markdown",
   "metadata": {},
   "source": [
    "#### 1. ROW_NUMBER()\n",
    "The ROW_NUMBER() function assigns a unique sequential integer to rows within a partition of a result set, starting at one for the first row in each partition.\n",
    "\n",
    "##### Example:"
   ]
  },
  {
   "cell_type": "code",
   "execution_count": null,
   "metadata": {
    "vscode": {
     "languageId": "sql"
    }
   },
   "outputs": [],
   "source": [
    "SELECT name, department, \n",
    "       ROW_NUMBER() OVER (PARTITION BY department ORDER BY salary DESC) AS row_num\n",
    "FROM employees;"
   ]
  },
  {
   "cell_type": "markdown",
   "metadata": {},
   "source": [
    "In this example, ROW_NUMBER() assigns a unique row number to employees within each department, ordered by their salary in descending order."
   ]
  },
  {
   "cell_type": "markdown",
   "metadata": {},
   "source": [
    "#### 2. RANK()\n",
    "The RANK() function assigns a rank to each row within a partition of a result set. Rows with equal values receive the same rank, and the next rank after a tie is skipped.\n",
    "\n",
    "##### Example:"
   ]
  },
  {
   "cell_type": "code",
   "execution_count": null,
   "metadata": {
    "vscode": {
     "languageId": "sql"
    }
   },
   "outputs": [],
   "source": [
    "SELECT name, department, \n",
    "       RANK() OVER (PARTITION BY department ORDER BY salary DESC) AS rank\n",
    "FROM employees;"
   ]
  },
  {
   "cell_type": "markdown",
   "metadata": {},
   "source": [
    "In this example, RANK() assigns a rank to employees within each department based on their salary. If two employees have the same salary, they receive the same rank, and the next rank will be incremented accordingly."
   ]
  },
  {
   "cell_type": "markdown",
   "metadata": {},
   "source": [
    "#### 3. DENSE_RANK()\n",
    "The DENSE_RANK() function is similar to RANK(), but it does not skip ranks after ties.\n",
    "\n",
    "##### Example:"
   ]
  },
  {
   "cell_type": "code",
   "execution_count": null,
   "metadata": {
    "vscode": {
     "languageId": "sql"
    }
   },
   "outputs": [],
   "source": [
    "SELECT name, department, \n",
    "       DENSE_RANK() OVER (PARTITION BY department ORDER BY salary DESC) AS dense_rank\n",
    "FROM employees;"
   ]
  },
  {
   "cell_type": "markdown",
   "metadata": {},
   "source": [
    "In this example, DENSE_RANK() assigns ranks without gaps, even if there are ties in the salary."
   ]
  },
  {
   "cell_type": "markdown",
   "metadata": {},
   "source": [
    "#### 4. SUM() and AVERAGE() as Window Functions\n",
    "You can also use aggregate functions as window functions to calculate running totals or averages."
   ]
  },
  {
   "cell_type": "markdown",
   "metadata": {},
   "source": [
    "### Example"
   ]
  },
  {
   "cell_type": "markdown",
   "metadata": {},
   "source": [
    "#### Example Employee Table\n",
    "Here's an example of the employees table:\n",
    "\n",
    "<table border=\"1\">\n",
    "  <thead>\n",
    "    <tr>\n",
    "      <th>Name</th>\n",
    "      <th>Department</th>\n",
    "      <th>Salary</th>\n",
    "    </tr>\n",
    "  </thead>\n",
    "  <tbody>\n",
    "    <tr>\n",
    "      <td>Alice</td>\n",
    "      <td>HR</td>\n",
    "      <td>50000</td>\n",
    "    </tr>\n",
    "    <tr>\n",
    "      <td>Bob</td>\n",
    "      <td>HR</td>\n",
    "      <td>55000</td>\n",
    "    </tr>\n",
    "    <tr>\n",
    "      <td>Charlie</td>\n",
    "      <td>IT</td>\n",
    "      <td>60000</td>\n",
    "    </tr>\n",
    "    <tr>\n",
    "      <td>David</td>\n",
    "      <td>IT</td>\n",
    "      <td>70000</td>\n",
    "    </tr>\n",
    "    <tr>\n",
    "      <td>Eve</td>\n",
    "      <td>IT</td>\n",
    "      <td>80000</td>\n",
    "    </tr>\n",
    "    <tr>\n",
    "      <td>Frank</td>\n",
    "      <td>HR</td>\n",
    "      <td>60000</td>\n",
    "    </tr>\n",
    "  </tbody>\n",
    "</table>\n",
    "\n",
    "#### SQL Query"
   ]
  },
  {
   "cell_type": "code",
   "execution_count": null,
   "metadata": {
    "vscode": {
     "languageId": "sql"
    }
   },
   "outputs": [],
   "source": [
    "SELECT name, department, salary,\n",
    "       SUM(salary) OVER (PARTITION BY department ORDER BY salary) AS running_total\n",
    "FROM employees;"
   ]
  },
  {
   "cell_type": "markdown",
   "metadata": {},
   "source": [
    "\n",
    "#### Example Output of the Query\n",
    "When the query is executed, it will produce the following output:\n",
    "\n",
    "<table border=\"1\">\n",
    "  <thead>\n",
    "    <tr>\n",
    "      <th>Name</th>\n",
    "      <th>Department</th>\n",
    "      <th>Salary</th>\n",
    "      <th>Running Total</th>\n",
    "    </tr>\n",
    "  </thead>\n",
    "  <tbody>\n",
    "    <tr>\n",
    "      <td>Alice</td>\n",
    "      <td>HR</td>\n",
    "      <td>50000</td>\n",
    "      <td>50000</td>\n",
    "    </tr>\n",
    "    <tr>\n",
    "      <td>Bob</td>\n",
    "      <td>HR</td>\n",
    "      <td>55000</td>\n",
    "      <td>105000</td>\n",
    "    </tr>\n",
    "    <tr>\n",
    "      <td>Frank</td>\n",
    "      <td>HR</td>\n",
    "      <td>60000</td>\n",
    "      <td>165000</td>\n",
    "    </tr>\n",
    "    <tr>\n",
    "      <td>Charlie</td>\n",
    "      <td>IT</td>\n",
    "      <td>60000</td>\n",
    "      <td>60000</td>\n",
    "    </tr>\n",
    "    <tr>\n",
    "      <td>David</td>\n",
    "      <td>IT</td>\n",
    "      <td>70000</td>\n",
    "      <td>130000</td>\n",
    "    </tr>\n",
    "    <tr>\n",
    "      <td>Eve</td>\n",
    "      <td>IT</td>\n",
    "      <td>80000</td>\n",
    "      <td>210000</td>\n",
    "    </tr>\n",
    "  </tbody>\n",
    "</table>\n"
   ]
  },
  {
   "cell_type": "markdown",
   "metadata": {},
   "source": [
    "#### Explanation of the Output\n",
    "The running_total column calculates the cumulative sum of the salary for each department.\n",
    "- For the HR department:\n",
    "    - Alice’s running total is 50,000 (just her salary).\n",
    "    - Bob's running total is 105,000 (50,000 + 55,000).\n",
    "    - Frank’s running total is 165,000 (50,000 + 55,000 + 60,000).\n",
    "- For the IT department:\n",
    "    - Charlie’s running total is 60,000.\n",
    "    - David's running total is 130,000 (60,000 + 70,000).\n",
    "    - Eve’s running total is 210,000 (60,000 + 70,000 + 80,000)."
   ]
  },
  {
   "cell_type": "markdown",
   "metadata": {},
   "source": [
    "## Lesson 16: Order of Execution of a Query\n",
    "Now that we have an idea of all the parts of a query, we can now talk about how they all fit together in the context of a complete query."
   ]
  },
  {
   "cell_type": "code",
   "execution_count": null,
   "metadata": {
    "vscode": {
     "languageId": "sql"
    }
   },
   "outputs": [],
   "source": [
    "-- Complete SELECT query\n",
    "SELECT DISTINCT column, AGG_FUNC(column_or_expression), …\n",
    "FROM mytable\n",
    "    JOIN another_table\n",
    "      ON mytable.column = another_table.column\n",
    "    WHERE constraint_expression\n",
    "    GROUP BY column\n",
    "    HAVING constraint_expression\n",
    "    ORDER BY column ASC/DESC\n",
    "    LIMIT count OFFSET COUNT;"
   ]
  },
  {
   "cell_type": "markdown",
   "metadata": {},
   "source": [
    "### Query order of execution\n",
    "#### 1. FROM and JOINs\n",
    "The FROM clause, and subsequent JOINs are first executed to determine the total working set of data that is being queried. This includes subqueries in this clause, and can cause temporary tables to be created under the hood containing all the columns and rows of the tables being joined.\n",
    "\n",
    "#### 2. WHERE\n",
    "Once we have the total working set of data, the first-pass WHERE constraints are applied to the individual rows, and rows that do not satisfy the constraint are discarded. Each of the constraints can only access columns directly from the tables requested in the FROM clause. Aliases in the SELECT part of the query are not accessible in most databases since they may include expressions dependent on parts of the query that have not yet executed.\n",
    "\n",
    "#### 3. GROUP BY\n",
    "The remaining rows after the WHERE constraints are applied are then grouped based on common values in the column specified in the GROUP BY clause. As a result of the grouping, there will only be as many rows as there are unique values in that column. Implicitly, this means that you should only need to use this when you have aggregate functions in your query.\n",
    "\n",
    "#### 4. HAVING\n",
    "If the query has a GROUP BY clause, then the constraints in the HAVING clause are then applied to the grouped rows, discard the grouped rows that don't satisfy the constraint. Like the WHERE clause, aliases are also not accessible from this step in most databases.\n",
    "\n",
    "#### 5. SELECT\n",
    "Any expressions in the SELECT part of the query are finally computed.\n",
    "\n",
    "#### 6. DISTINCT\n",
    "Of the remaining rows, rows with duplicate values in the column marked as DISTINCT will be discarded.\n",
    "\n",
    "#### 7. ORDER BY\n",
    "If an order is specified by the ORDER BY clause, the rows are then sorted by the specified data in either ascending or descending order. Since all the expressions in the SELECT part of the query have been computed, you can reference aliases in this clause.\n",
    "\n",
    "#### 8. LIMIT / OFFSET\n",
    "Finally, the rows that fall outside the range specified by the LIMIT and OFFSET are discarded, leaving the final set of rows to be returned from the query.\n",
    "\n",
    "#### Conclusion\n",
    "Not every query needs to have all the parts we listed above, but a part of why SQL is so flexible is that it allows developers and data analysts to quickly manipulate data without having to write additional code, all just by using the above clauses."
   ]
  },
  {
   "cell_type": "markdown",
   "metadata": {},
   "source": [
    "# 5. Data Modification"
   ]
  },
  {
   "cell_type": "markdown",
   "metadata": {},
   "source": [
    "## What is a Schema?\n",
    "We previously described a table in a database as a two-dimensional set of rows and columns, with the columns being the properties and the rows being instances of the entity in the table. In SQL, the database schema is what describes the structure of each table, and the datatypes that each column of the table can contain.<br>\n",
    "\n",
    "This fixed structure is what allows a database to be efficient, and consistent despite storing millions or even billions of rows."
   ]
  },
  {
   "cell_type": "markdown",
   "metadata": {},
   "source": [
    "## Lesson 17: Inserting Rows\n",
    "When inserting data into a database, we need to use an **INSERT** statement, which declares which table to write into, the columns of data that we are filling, and one or more rows of data to insert. In general, each row of data you insert should contain values for every corresponding column in the table. You can insert multiple rows at a time by just listing them sequentially."
   ]
  },
  {
   "cell_type": "code",
   "execution_count": null,
   "metadata": {
    "vscode": {
     "languageId": "sql"
    }
   },
   "outputs": [],
   "source": [
    "-- Insert statement with values for all columns\n",
    "INSERT INTO mytable\n",
    "VALUES (value_or_expr, another_value_or_expr, …),\n",
    "       (value_or_expr_2, another_value_or_expr_2, …),\n",
    "       …;"
   ]
  },
  {
   "cell_type": "markdown",
   "metadata": {},
   "source": [
    "In some cases, if you have incomplete data and the table contains columns that support default values, you can insert rows with only the columns of data you have by specifying them explicitly."
   ]
  },
  {
   "cell_type": "code",
   "execution_count": null,
   "metadata": {
    "vscode": {
     "languageId": "sql"
    }
   },
   "outputs": [],
   "source": [
    "Insert statement with specific columns\n",
    "INSERT INTO mytable\n",
    "(column, another_column, …)\n",
    "VALUES (value_or_expr, another_value_or_expr, …),\n",
    "      (value_or_expr_2, another_value_or_expr_2, …),\n",
    "      …;"
   ]
  },
  {
   "cell_type": "markdown",
   "metadata": {},
   "source": [
    "## Lesson 18: Updating Rows\n",
    "In addition to adding new data, a common task is to update existing data, which can be done using an **UPDATE** statement. Similar to the **INSERT** statement, you have to specify exactly which table, columns, and rows to update. In addition, the data you are updating has to match the data type of the columns in the table schema."
   ]
  },
  {
   "cell_type": "code",
   "execution_count": null,
   "metadata": {
    "vscode": {
     "languageId": "sql"
    }
   },
   "outputs": [],
   "source": [
    "Update statement with values\n",
    "UPDATE mytable\n",
    "SET column = value_or_expr, \n",
    "    other_column = another_value_or_expr, \n",
    "    …\n",
    "WHERE condition;"
   ]
  },
  {
   "cell_type": "markdown",
   "metadata": {},
   "source": [
    "The statement works by taking multiple column/value pairs, and applying those changes to each and every row that satisfies the constraint in the WHERE clause."
   ]
  },
  {
   "cell_type": "markdown",
   "metadata": {},
   "source": [
    "## Lesson 19: Deleting Rows\n",
    "When you need to delete data from a table in the database, you can use a **DELETE** statement, which describes the table to act on, and the rows of the table to delete through the **WHERE** clause."
   ]
  },
  {
   "cell_type": "code",
   "execution_count": null,
   "metadata": {
    "vscode": {
     "languageId": "sql"
    }
   },
   "outputs": [],
   "source": [
    "Delete statement with condition\n",
    "DELETE FROM mytable\n",
    "WHERE condition;"
   ]
  },
  {
   "cell_type": "markdown",
   "metadata": {},
   "source": [
    "If you decide to **leave out the WHERE** constraint, then all rows are removed, which is a quick and easy way to clear out a table completely (if intentiona"
   ]
  },
  {
   "cell_type": "markdown",
   "metadata": {},
   "source": [
    "# 6. Schema Management"
   ]
  },
  {
   "cell_type": "markdown",
   "metadata": {},
   "source": [
    "## Lesson 20: Creating Tables\n",
    "When you have new entities and relationships to store in your database, you can create a new database table using the **CREATE TABLE** statement."
   ]
  },
  {
   "cell_type": "code",
   "execution_count": null,
   "metadata": {
    "vscode": {
     "languageId": "sql"
    }
   },
   "outputs": [],
   "source": [
    "-- Create table statement w/ optional table constraint and default value\n",
    "CREATE TABLE IF NOT EXISTS mytable (\n",
    "    column DataType TableConstraint DEFAULT default_value,\n",
    "    another_column DataType TableConstraint DEFAULT default_value,\n",
    "    …\n",
    ");"
   ]
  },
  {
   "cell_type": "markdown",
   "metadata": {},
   "source": [
    "The structure of the new table is defined by its table schema, which defines a series of columns. Each column has a name, the type of data allowed in that column, an optional table constraint on values being inserted, and an optional default value.\n",
    "<br>\n",
    "If there already exists a table with the same name, the SQL implementation will usually throw an error, so to suppress the error and skip creating a table if one exists, you can use the **IF NOT EXISTS** clause."
   ]
  },
  {
   "cell_type": "markdown",
   "metadata": {},
   "source": [
    "### Table data types\n",
    "Different databases support different data types, but the common types support **numeric**, **string**, and other miscellaneous things like **dates**, **booleans**, or even **binary data**. Here are some examples that you might use in real code.\n",
    "<table border=\"1\">\n",
    "  <thead>\n",
    "    <tr>\n",
    "      <th>Data Type</th>\n",
    "      <th>Description</th>\n",
    "    </tr>\n",
    "  </thead>\n",
    "  <tbody>\n",
    "    <tr>\n",
    "      <td>INTEGER, BOOLEAN</td>\n",
    "      <td>The integer datatypes can store whole integer values like the count of a number or an age. In some implementations, the boolean value is just represented as an integer value of just 0 or 1.</td>\n",
    "    </tr>\n",
    "    <tr>\n",
    "      <td>FLOAT, DOUBLE, REAL</td>\n",
    "      <td>The floating point datatypes can store more precise numerical data like measurements or fractional values. Different types can be used depending on the floating point precision required for that value.</td>\n",
    "    </tr>\n",
    "    <tr>\n",
    "      <td>CHARACTER(num_chars), VARCHAR(num_chars), TEXT</td>\n",
    "      <td>The text-based datatypes can store strings and text in all sorts of locales. The distinction between the various types generally amounts to underlying efficiency of the database when working with these columns. Both the CHARACTER and VARCHAR (variable character) types are specified with the max number of characters that they can store (longer values may be truncated), so can be more efficient to store and query with big tables.</td>\n",
    "    </tr>\n",
    "    <tr>\n",
    "      <td>DATE, DATETIME</td>\n",
    "      <td>SQL can also store date and time stamps to keep track of time series and event data. They can be tricky to work with, especially when manipulating data across timezones.</td>\n",
    "    </tr>\n",
    "    <tr>\n",
    "      <td>BLOB</td>\n",
    "      <td>Finally, SQL can store binary data in blobs right in the database. These values are often opaque to the database, so you usually have to store them with the right metadata to requery them.</td>\n",
    "    </tr>\n",
    "  </tbody>\n",
    "</table>\n",
    "\n",
    "\n",
    "Docs: \n",
    "<a href='http://dev.mysql.com/doc/refman/5.6/en/data-types.html'>MySQL</a>,\n",
    "<a href='http://dev.mysql.com/doc/refman/5.6/en/data-types.html'>Postgres</a>,\n",
    "<a href='http://dev.mysql.com/doc/refman/5.6/en/data-types.html'>SQLite</a>, \n",
    "<a href='http://dev.mysql.com/doc/refman/5.6/en/data-types.html'>Microsoft SQL Server</a>."
   ]
  },
  {
   "cell_type": "markdown",
   "metadata": {},
   "source": [
    "### Table constraints\n",
    "We aren't going to dive too deep into table constraints in this lesson, but each column can have additional table constraints on it which **limit** what values can be inserted into that column. This is not a comprehensive list, but will show a few common constraints that you might find useful.\n",
    "\n",
    "<table border=\"1\">\n",
    "  <thead>\n",
    "    <tr>\n",
    "      <th>Constraint</th>\n",
    "      <th>Description</th>\n",
    "    </tr>\n",
    "  </thead>\n",
    "  <tbody>\n",
    "    <tr>\n",
    "      <td>PRIMARY KEY</td>\n",
    "      <td>This means that the values in this column are unique, and each value can be used to identify a single row in this table.</td>\n",
    "    </tr>\n",
    "    <tr>\n",
    "      <td>AUTOINCREMENT</td>\n",
    "      <td>For integer values, this means that the value is automatically filled in and incremented with each row insertion. Not supported in all databases.</td>\n",
    "    </tr>\n",
    "    <tr>\n",
    "      <td>UNIQUE</td>\n",
    "      <td>This means that the values in this column have to be unique, so you can't insert another row with the same value in this column as another row in the table. Differs from the PRIMARY KEY in that it doesn't have to be a key for a row in the table.</td>\n",
    "    </tr>\n",
    "    <tr>\n",
    "      <td>NOT NULL</td>\n",
    "      <td>This means that the inserted value cannot be NULL.</td>\n",
    "    </tr>\n",
    "    <tr>\n",
    "      <td>CHECK (expression)</td>\n",
    "      <td>This allows you to run a more complex expression to test whether the values inserted are valid. For example, you can check that values are positive, or greater than a specific size, or start with a certain prefix, etc.</td>\n",
    "    </tr>\n",
    "    <tr>\n",
    "      <td>FOREIGN KEY</td>\n",
    "      <td>This is a consistency check which ensures that each value in this column corresponds to another value in a column in another table.</td>\n",
    "    </tr>\n",
    "  </tbody>\n",
    "</table>\n",
    "\n",
    "For example, if there are two tables, one listing all Employees by ID, and another listing their payroll information, the `FOREIGN KEY` can ensure that every row in the payroll table corresponds to a valid employee in the master Employee list.\n"
   ]
  },
  {
   "cell_type": "markdown",
   "metadata": {},
   "source": [
    "## Lesson 21: Altering Tables\n",
    "As your data changes over time, SQL provides a way for you to update your corresponding tables and database schemas by using the **ALTER TABLE** statement to **add**, **remove**, or **modify columns** and table **constraints**.<br>\n",
    "you can even specify where to insert the new column using the **FIRST** or **AFTER** clauses, though this is not a standard feature."
   ]
  },
  {
   "cell_type": "markdown",
   "metadata": {},
   "source": [
    "### Adding columns\n",
    "The syntax for adding a new column is similar to the syntax when creating new rows in the **CREATE TABLE** statement. "
   ]
  },
  {
   "cell_type": "code",
   "execution_count": null,
   "metadata": {
    "vscode": {
     "languageId": "sql"
    }
   },
   "outputs": [],
   "source": [
    "-- Altering table to add new column(s)\n",
    "ALTER TABLE mytable\n",
    "ADD column DataType OptionalTableConstraint \n",
    "    DEFAULT default_value;"
   ]
  },
  {
   "cell_type": "markdown",
   "metadata": {},
   "source": [
    "### Removing columns\n",
    "Dropping columns is as easy as specifying the column to drop, however, some databases (including SQLite) **don't support this feature**. Instead you may have to create a new table and migrate the data over."
   ]
  },
  {
   "cell_type": "code",
   "execution_count": null,
   "metadata": {
    "vscode": {
     "languageId": "sql"
    }
   },
   "outputs": [],
   "source": [
    "-- Altering table to remove column(s)\n",
    "ALTER TABLE mytable\n",
    "DROP column_to_be_deleted;"
   ]
  },
  {
   "cell_type": "markdown",
   "metadata": {},
   "source": [
    "### Renaming the table\n",
    "If you need to rename the table itself, you can also do that using the **RENAME** TO clause of the statement."
   ]
  },
  {
   "cell_type": "code",
   "execution_count": null,
   "metadata": {
    "vscode": {
     "languageId": "sql"
    }
   },
   "outputs": [],
   "source": [
    "-- Altering table name\n",
    "ALTER TABLE mytable\n",
    "RENAME TO new_table_name;"
   ]
  },
  {
   "cell_type": "markdown",
   "metadata": {},
   "source": [
    "### Other changes\n",
    "Each database implementation supports different methods of altering their tables, so it's always best to consult your database docs before proceeding: \n",
    "<a href='https://dev.mysql.com/doc/refman/5.6/en/alter-table.html'>MySQL</a>,\n",
    "<a href='http://www.postgresql.org/docs/9.4/static/sql-altertable.html'>Postgres</a>,\n",
    "<a href='https://www.sqlite.org/lang_altertable.html'>SQLite</a>, \n",
    "<a href='https://msdn.microsoft.com/en-us/library/ms190273.aspx'>Microsoft SQL Server</a>."
   ]
  },
  {
   "cell_type": "markdown",
   "metadata": {},
   "source": [
    "## Lesson 22: Dropping Tables\n",
    "In some rare cases, you may want to remove an entire table including all of its data and metadata, and to do so, you can use the **DROP TABLE** statement, which differs from the **DELETE** statement in that it also removes the table schema from the database entirely."
   ]
  },
  {
   "cell_type": "code",
   "execution_count": null,
   "metadata": {
    "vscode": {
     "languageId": "sql"
    }
   },
   "outputs": [],
   "source": [
    "-- Drop table statement\n",
    "DROP TABLE IF EXISTS mytable;"
   ]
  },
  {
   "cell_type": "markdown",
   "metadata": {},
   "source": [
    "Like the CREATE TABLE statement, the database may throw an error if the specified table does not exist, and to suppress that error, you can use the **IF EXISTS** clause.\n",
    "<br>\n",
    "In addition, if you have another table that is dependent on columns in table you are removing (for example, with a **FOREIGN KEY** dependency) then you will have to either update all dependent tables first to remove the dependent rows or to remove those tables entirely."
   ]
  },
  {
   "cell_type": "markdown",
   "metadata": {},
   "source": [
    "# 7. Indexes, Keys and Set Operations"
   ]
  },
  {
   "cell_type": "markdown",
   "metadata": {},
   "source": [
    "## Lesson 23: Creating Indexes\n",
    "Indexes are database objects that **improve the speed** of data retrieval operations on a database table. They work like an index in a book, allowing the database to **find data quickly** without scanning the entire table. Indexes are particularly useful for speeding up searches, filtering, and sorting."
   ]
  },
  {
   "cell_type": "markdown",
   "metadata": {},
   "source": [
    "### How to Create an Index\n",
    "To create an index, you can use the CREATE INDEX statement. The basic syntax is:"
   ]
  },
  {
   "cell_type": "code",
   "execution_count": null,
   "metadata": {
    "vscode": {
     "languageId": "sql"
    }
   },
   "outputs": [],
   "source": [
    "CREATE INDEX index_name\n",
    "ON table_name (column1, column2, ...);"
   ]
  },
  {
   "cell_type": "markdown",
   "metadata": {},
   "source": [
    "- **index_name**: The name of the index.\n",
    "- **table_name**: The name of the table on which you are creating the index.\n",
    "- **column1, column2, ...**: The columns to include in the index.\n",
    "\n",
    "### Using Indexes\n",
    "Indexes are automatically used by the **database engine** when executing queries that benefit from them. Here are some ways to utilize indexes effectively:\n",
    "\n",
    "### Benefits of Indexes\n",
    "- Faster Query Performance: Significantly improves the speed of data retrieval operations.\n",
    "- Efficient Sorting: Helps in efficiently sorting data when using ORDER BY.\n",
    "- Improved JOIN Operations: Enhances the performance of JOIN operations.\n",
    "### Considerations\n",
    "- Indexes require additional disk space.\n",
    "- Inserting, updating, or deleting records can take longer, as the index must also be updated."
   ]
  },
  {
   "cell_type": "markdown",
   "metadata": {},
   "source": [
    "## Lesson 24: Primary Keys and Foreign Keys"
   ]
  },
  {
   "cell_type": "markdown",
   "metadata": {},
   "source": [
    "### Primary Keys\n",
    "A primary key is a column (or a combination of columns) that uniquely identifies each row in a table. Each table should have a primary key to ensure that each record is unique and can be retrieved efficiently.\n",
    "\n",
    "### Characteristics of Primary Keys\n",
    "- Must contain unique values.\n",
    "- Cannot contain NULL values.\n",
    "- A table can have only one primary key.\n",
    "\n",
    "### How to Create a Primary Key\n",
    "You can define a primary key when creating a table using the PRIMARY KEY constraint. The syntax is:"
   ]
  },
  {
   "cell_type": "code",
   "execution_count": null,
   "metadata": {
    "vscode": {
     "languageId": "sql"
    }
   },
   "outputs": [],
   "source": [
    "CREATE TABLE table_name (\n",
    "    column1 data_type CONSTRAINT constraint_name PRIMARY KEY,\n",
    "    column2 data_type,\n",
    "    ...\n",
    ");"
   ]
  },
  {
   "cell_type": "markdown",
   "metadata": {},
   "source": [
    "### Foreign Keys\n",
    "A foreign key is a column (or a combination of columns) that creates a link between two tables. It refers to the primary key in another table, enforcing referential integrity.\n",
    "\n",
    "### Characteristics of Foreign Keys\n",
    "- Can contain duplicate values.\n",
    "- Can contain NULL values.\n",
    "- A table can have multiple foreign keys referencing different tables.\n",
    "\n",
    "### How to Create a Foreign Key\n",
    "To define a foreign key, use the FOREIGN KEY constraint. The syntax is:"
   ]
  },
  {
   "cell_type": "code",
   "execution_count": null,
   "metadata": {
    "vscode": {
     "languageId": "sql"
    }
   },
   "outputs": [],
   "source": [
    "CREATE TABLE table_name (\n",
    "    column1 data_type,\n",
    "    column2 data_type,\n",
    "    ...\n",
    "    FOREIGN KEY (column_name) REFERENCES other_table (other_column)\n",
    ");"
   ]
  },
  {
   "cell_type": "markdown",
   "metadata": {},
   "source": [
    "## Lesson 25: Unions, Intersections, and Exceptions\n",
    "**Unions**, **intersections**, and **exceptions** are set operations in SQL that allow you to **combine the results of multiple queries**. They help manage and manipulate data efficiently, especially when working with multiple tables or result sets."
   ]
  },
  {
   "cell_type": "markdown",
   "metadata": {},
   "source": [
    "### UNION\n",
    "The UNION operator combines the results of two or more **SELECT** queries into a single result set, removing duplicate rows."
   ]
  },
  {
   "cell_type": "code",
   "execution_count": null,
   "metadata": {
    "vscode": {
     "languageId": "sql"
    }
   },
   "outputs": [],
   "source": [
    "SELECT column1, column2, ...\n",
    "FROM table1\n",
    "UNION\n",
    "SELECT column1, column2, ...\n",
    "FROM table2;"
   ]
  },
  {
   "cell_type": "markdown",
   "metadata": {},
   "source": [
    "#### Example"
   ]
  },
  {
   "cell_type": "code",
   "execution_count": null,
   "metadata": {
    "vscode": {
     "languageId": "sql"
    }
   },
   "outputs": [],
   "source": [
    "SELECT employee_id, last_name\n",
    "FROM employees\n",
    "UNION\n",
    "SELECT customer_id, last_name\n",
    "FROM customers;"
   ]
  },
  {
   "cell_type": "markdown",
   "metadata": {},
   "source": [
    "In this example, the **UNION** operator combines the employee and customer last names into a single list, removing any duplicates."
   ]
  },
  {
   "cell_type": "markdown",
   "metadata": {},
   "source": [
    "### UNION ALL\n",
    "The UNION ALL operator is similar to UNION, but it includes all rows from both queries, including duplicates.\n",
    "#### Example"
   ]
  },
  {
   "cell_type": "code",
   "execution_count": null,
   "metadata": {
    "vscode": {
     "languageId": "sql"
    }
   },
   "outputs": [],
   "source": [
    "SELECT employee_id, last_name\n",
    "FROM employees\n",
    "UNION ALL\n",
    "SELECT customer_id, last_name\n",
    "FROM customers;"
   ]
  },
  {
   "cell_type": "markdown",
   "metadata": {},
   "source": [
    "In this case, if there are duplicate last names between employees and customers, they will appear multiple times in the result set."
   ]
  },
  {
   "cell_type": "markdown",
   "metadata": {},
   "source": [
    "### INTERSECT\n",
    "The INTERSECT operator returns only the rows that exist in both result sets from the SELECT queries."
   ]
  },
  {
   "cell_type": "code",
   "execution_count": null,
   "metadata": {
    "vscode": {
     "languageId": "sql"
    }
   },
   "outputs": [],
   "source": [
    "SELECT column1, column2, ...\n",
    "FROM table1\n",
    "INTERSECT\n",
    "SELECT column1, column2, ...\n",
    "FROM table2;"
   ]
  },
  {
   "cell_type": "markdown",
   "metadata": {},
   "source": [
    "#### Example"
   ]
  },
  {
   "cell_type": "code",
   "execution_count": null,
   "metadata": {
    "vscode": {
     "languageId": "sql"
    }
   },
   "outputs": [],
   "source": [
    "SELECT last_name\n",
    "FROM employees\n",
    "INTERSECT\n",
    "SELECT last_name\n",
    "FROM customers;"
   ]
  },
  {
   "cell_type": "markdown",
   "metadata": {},
   "source": [
    "This query will return a list of last names that are common to both employees and customers."
   ]
  },
  {
   "cell_type": "markdown",
   "metadata": {},
   "source": [
    "### EXCEPT\n",
    "The EXCEPT operator returns rows from the first SELECT query that do not exist in the second SELECT query. Note that not all databases support the EXCEPT operator; in MySQL, you can achieve similar results using LEFT JOIN."
   ]
  },
  {
   "cell_type": "code",
   "execution_count": null,
   "metadata": {
    "vscode": {
     "languageId": "sql"
    }
   },
   "outputs": [],
   "source": [
    "SELECT column1, column2, ...\n",
    "FROM table1\n",
    "EXCEPT\n",
    "SELECT column1, column2, ...\n",
    "FROM table2;"
   ]
  },
  {
   "cell_type": "markdown",
   "metadata": {},
   "source": [
    "#### Example"
   ]
  },
  {
   "cell_type": "code",
   "execution_count": null,
   "metadata": {
    "vscode": {
     "languageId": "sql"
    }
   },
   "outputs": [],
   "source": [
    "SELECT last_name\n",
    "FROM employees\n",
    "EXCEPT\n",
    "SELECT last_name\n",
    "FROM customers;"
   ]
  },
  {
   "cell_type": "markdown",
   "metadata": {},
   "source": [
    "This query will return a list of last names that are in the employees table but not in the customers tab"
   ]
  },
  {
   "cell_type": "markdown",
   "metadata": {},
   "source": [
    "# 8. Transactions and Concurrency"
   ]
  },
  {
   "cell_type": "markdown",
   "metadata": {},
   "source": [
    "## Lesson 26: Introduction to Transactions (START TRANSACTION, COMMIT, ROLLBACK)\n",
    "A **transaction** is a sequence of one or more SQL statements that are executed as a single unit of work. Transactions ensure data integrity and consistency in a database, especially in multi-user environments. They follow the ACID properties: Atomicity, Consistency, Isolation, and Durability."
   ]
  },
  {
   "cell_type": "markdown",
   "metadata": {},
   "source": [
    "### Key Commands\n",
    "- **START TRANSACTION**: Begins a new transaction.\n",
    "- **COMMIT**: Saves all changes made during the transaction.\n",
    "- **ROLLBACK**: Undoes all changes made during the transaction if an error occurs or if the transaction needs to be aborted.\n",
    "\n",
    "### Example"
   ]
  },
  {
   "cell_type": "code",
   "execution_count": null,
   "metadata": {
    "vscode": {
     "languageId": "sql"
    }
   },
   "outputs": [],
   "source": [
    "-- Start a transaction\n",
    "START TRANSACTION;\n",
    "\n",
    "-- Execute some SQL statements\n",
    "UPDATE accounts SET balance = balance - 100 WHERE account_id = 1;\n",
    "UPDATE accounts SET balance = balance + 100 WHERE account_id = 2;\n",
    "\n",
    "-- Commit the transaction\n",
    "COMMIT;"
   ]
  },
  {
   "cell_type": "markdown",
   "metadata": {},
   "source": [
    "In this example, the transaction transfers $100 from one account to another. If both updates are successful, the transaction is committed, making the changes permanent.\n",
    "\n",
    "### Rollback Example"
   ]
  },
  {
   "cell_type": "code",
   "execution_count": null,
   "metadata": {
    "vscode": {
     "languageId": "sql"
    }
   },
   "outputs": [],
   "source": [
    "-- Start a transaction\n",
    "START TRANSACTION;\n",
    "\n",
    "-- Attempt to update accounts\n",
    "UPDATE accounts SET balance = balance - 100 WHERE account_id = 1;\n",
    "\n",
    "-- Simulate an error (e.g., account does not exist)\n",
    "IF (SELECT COUNT(*) FROM accounts WHERE account_id = 2) = 0 THEN\n",
    "    ROLLBACK;  -- Undo the transaction\n",
    "END IF;\n",
    "In this scenario, if the second account does not exist, the ROLLBACK command undoes the transaction.\n"
   ]
  },
  {
   "cell_type": "markdown",
   "metadata": {},
   "source": [
    "### Conclusion\n",
    "Transactions are essential for maintaining data integrity in SQL databases, allowing multiple operations to be executed in a controlled manner.<br> \n",
    "Understanding how to implement transactions correctly is crucial for robust database management."
   ]
  },
  {
   "cell_type": "markdown",
   "metadata": {},
   "source": [
    "## Lesson 27: Isolation Levels and Locks (ACID Properties)"
   ]
  },
  {
   "cell_type": "markdown",
   "metadata": {},
   "source": [
    "### Isolation Levels\n",
    "Isolation levels define how transactions interact with each other and control the visibility of changes made during a transaction. The four standard isolation levels are:\n",
    "\n",
    "- **Read Uncommitted**: Transactions can read data that has been modified but not yet committed by other transactions. This level can lead to dirty reads.\n",
    "\n",
    "- **Read Committed**: Transactions can only read committed data. This prevents dirty reads but allows non-repeatable reads (where a value can change between two reads).\n",
    "\n",
    "- **Repeatable Read**: Ensures that if a transaction reads a row, it will see the same data if it reads that row again during the same transaction. This level prevents dirty and non-repeatable reads but can still lead to phantom reads.\n",
    "\n",
    "- **Serializable**: The highest isolation level, where transactions are completely isolated from each other. It prevents dirty, non-repeatable, and phantom reads but can lead to reduced concurrency.\n",
    "\n"
   ]
  },
  {
   "cell_type": "markdown",
   "metadata": {},
   "source": [
    "### Locks\n",
    "Locks are mechanisms used to control access to database resources. They help prevent data inconsistencies when multiple transactions are executed concurrently.\n",
    "\n",
    "- **Shared Locks**: Allow multiple transactions to read a resource but prevent them from modifying it.\n",
    "\n",
    "- **Exclusive Locks**: Allow only one transaction to read or modify a resource, blocking other transactions from accessing it.\n",
    "\n",
    "### Conclusion\n",
    "Understanding isolation levels and locks is vital for managing concurrency in SQL databases. Choosing the appropriate isolation level can help balance data integrity and system performance."
   ]
  },
  {
   "cell_type": "markdown",
   "metadata": {},
   "source": [
    "# 9. Views, Stored Procedures and Variables"
   ]
  },
  {
   "cell_type": "markdown",
   "metadata": {},
   "source": [
    "## Lesson 28: Creating and Using Views\n",
    "A view is a virtual table in SQL that is based on the result of a SELECT query. It does not store the data physically; instead, it retrieves data from one or more underlying tables whenever the view is queried. Views can simplify complex queries, enhance security, and present data in a specific format."
   ]
  },
  {
   "cell_type": "markdown",
   "metadata": {},
   "source": [
    "### Creating a View\n",
    "To create a view, you use the CREATE VIEW statement, followed by the view name and the SELECT query that defines the view."
   ]
  },
  {
   "cell_type": "code",
   "execution_count": null,
   "metadata": {
    "vscode": {
     "languageId": "sql"
    }
   },
   "outputs": [],
   "source": [
    "CREATE VIEW view_name AS\n",
    "SELECT column1, column2, ...\n",
    "FROM table_name\n",
    "WHERE condition;"
   ]
  },
  {
   "cell_type": "markdown",
   "metadata": {},
   "source": [
    "\n",
    "### Using a View\n",
    "You can query a view just like a regular table.\n",
    "\n",
    "### Updating a View\n",
    "Some views can be updated directly, allowing you to modify the underlying tables. However, there are restrictions, such as not allowing complex joins or aggregate functions in the view definition.<br>\n",
    "You can update a view just like a regular table."
   ]
  },
  {
   "cell_type": "markdown",
   "metadata": {},
   "source": [
    "## Lesson 29: Stored Procedures and Functions"
   ]
  },
  {
   "cell_type": "markdown",
   "metadata": {},
   "source": [
    "### Stored Procedures\n",
    "Stored procedures are precompiled collections of SQL statements stored in the database. They can be executed as a single unit and can accept parameters, making them reusable and efficient for **performing repetitive tasks**.\n",
    "\n",
    "#### Creating a Stored Procedure\n",
    "You can create a stored procedure using the CREATE PROCEDURE statement."
   ]
  },
  {
   "cell_type": "code",
   "execution_count": null,
   "metadata": {
    "vscode": {
     "languageId": "sql"
    }
   },
   "outputs": [],
   "source": [
    "CREATE PROCEDURE procedure_name (IN parameter1 datatype, OUT parameter2 datatype)\n",
    "BEGIN\n",
    "    -- SQL statements\n",
    "END;"
   ]
  },
  {
   "cell_type": "markdown",
   "metadata": {},
   "source": [
    "#### Parameter Modes\n",
    "- **IN**: This mode specifies that the parameter is input only. The caller can pass a value to the parameter, but the procedure cannot modify it.\n",
    "- **OUT**: This mode allows the procedure to return a value to the caller. The procedure can set the value of this parameter, and the caller can access this modified value after execution.\n",
    "- **INOUT**: This mode allows the parameter to act as both input and output. The caller can pass a value to the parameter, and the procedure can modify this value, which will be returned to the caller after execution."
   ]
  },
  {
   "cell_type": "markdown",
   "metadata": {},
   "source": [
    "#### Calling a Stored Procedure\n",
    "You can execute a stored procedure using the CALL statement."
   ]
  },
  {
   "cell_type": "code",
   "execution_count": null,
   "metadata": {
    "vscode": {
     "languageId": "sql"
    }
   },
   "outputs": [],
   "source": [
    "CALL procedure_name(parameters);"
   ]
  },
  {
   "cell_type": "markdown",
   "metadata": {},
   "source": [
    "### Functions\n",
    "Functions are similar to stored procedures but are designed to return a single value. They can also accept parameters.\n",
    "\n",
    "#### Creating a Function\n",
    "You create a function using the CREATE FUNCTION statement."
   ]
  },
  {
   "cell_type": "code",
   "execution_count": null,
   "metadata": {
    "vscode": {
     "languageId": "sql"
    }
   },
   "outputs": [],
   "source": [
    "CREATE FUNCTION function_name (IN parameter1 datatype) RETURNS return_datatype\n",
    "BEGIN\n",
    "    -- SQL statements\n",
    "    RETURN value;\n",
    "END;"
   ]
  },
  {
   "cell_type": "markdown",
   "metadata": {},
   "source": [
    "### Calling a Function\n",
    "You can call a function in a SELECT statement or other SQL statements."
   ]
  },
  {
   "cell_type": "code",
   "execution_count": null,
   "metadata": {
    "vscode": {
     "languageId": "sql"
    }
   },
   "outputs": [],
   "source": [
    "SELECT function_name(parameters) AS Salary;"
   ]
  },
  {
   "cell_type": "markdown",
   "metadata": {},
   "source": [
    "## Lesson 31: Variables\n",
    "Variables in SQL are used to **store temporary data** that can be referenced and manipulated within a session or a stored procedure. They help simplify complex queries, enable dynamic behavior, and enhance the efficiency of data manipulation tasks."
   ]
  },
  {
   "cell_type": "markdown",
   "metadata": {},
   "source": [
    "### Types of Variables\n",
    "- **Local Variables**: These are declared within a specific context (e.g., a stored procedure or function) and are only accessible within that context.\n",
    "- **Session Variables**: These are prefixed with @ and can be accessed throughout the user session, allowing them to persist across multiple statements until the session ends.\n",
    "\n",
    "### Declaring Variables\n",
    "Variables are declared using the DECLARE statement. The syntax typically involves specifying the variable name and its data type."
   ]
  },
  {
   "cell_type": "code",
   "execution_count": null,
   "metadata": {
    "vscode": {
     "languageId": "sql"
    }
   },
   "outputs": [],
   "source": [
    "DECLARE variable_name data_type;"
   ]
  },
  {
   "cell_type": "markdown",
   "metadata": {},
   "source": [
    "### Assigning Values to Variables\n",
    "Values can be assigned to variables using the SET statement or by using the SELECT INTO construct.\n",
    "\n",
    "#### Using SET"
   ]
  },
  {
   "cell_type": "code",
   "execution_count": null,
   "metadata": {
    "vscode": {
     "languageId": "sql"
    }
   },
   "outputs": [],
   "source": [
    "SET variable_name = value;"
   ]
  },
  {
   "cell_type": "markdown",
   "metadata": {},
   "source": [
    "#### Using SELECT INTO"
   ]
  },
  {
   "cell_type": "code",
   "execution_count": null,
   "metadata": {
    "vscode": {
     "languageId": "sql"
    }
   },
   "outputs": [],
   "source": [
    "SELECT column_name INTO variable_name\n",
    "FROM table_name\n",
    "WHERE condition;"
   ]
  },
  {
   "cell_type": "markdown",
   "metadata": {},
   "source": [
    "### Using Variables in SQL Statements\n",
    "Once a variable has been declared and assigned a value, it can be used in SQL statements such as SELECT, UPDATE, or INSERT.\n",
    "\n",
    "#### Example: Using Variables in a SELECT Statement"
   ]
  },
  {
   "cell_type": "code",
   "execution_count": null,
   "metadata": {
    "vscode": {
     "languageId": "sql"
    }
   },
   "outputs": [],
   "source": [
    "SELECT @total_sales AS TotalSales;"
   ]
  },
  {
   "cell_type": "markdown",
   "metadata": {},
   "source": [
    "#### Example: Using Variables in an UPDATE Statement"
   ]
  },
  {
   "cell_type": "code",
   "execution_count": null,
   "metadata": {
    "vscode": {
     "languageId": "sql"
    }
   },
   "outputs": [],
   "source": [
    "UPDATE employees\n",
    "SET salary = salary + @total_sales\n",
    "WHERE department = 'Sales';"
   ]
  },
  {
   "cell_type": "markdown",
   "metadata": {},
   "source": [
    "## Lesson 31: Triggers\n",
    "A trigger is a special type of stored procedure that **automatically executes** in response to specific events on a particular table, such as **INSERT**, **UPDATE**, or **DELETE** operations. Triggers can enforce business rules, validate input data, or maintain audit trails."
   ]
  },
  {
   "cell_type": "markdown",
   "metadata": {},
   "source": [
    "### Creating a Trigger\n",
    "You can create a trigger using the **CREATE TRIGGER** statement."
   ]
  },
  {
   "cell_type": "code",
   "execution_count": null,
   "metadata": {
    "vscode": {
     "languageId": "sql"
    }
   },
   "outputs": [],
   "source": [
    "CREATE TRIGGER trigger_name\n",
    "AFTER INSERT ON table_name\n",
    "FOR EACH ROW\n",
    "BEGIN\n",
    "    -- SQL statements\n",
    "END;"
   ]
  },
  {
   "cell_type": "markdown",
   "metadata": {},
   "source": [
    "### Types of Triggers\n",
    "- **BEFORE Trigger**: Executes before an INSERT, UPDATE, or DELETE operation.\n",
    "- **AFTER Trigger**: Executes after an INSERT, UPDATE, or DELETE operation.\n",
    "- **INSTEAD OF Trigger**: Used to define custom behavior for INSERT, UPDATE, or DELETE operations on views."
   ]
  }
 ],
 "metadata": {
  "language_info": {
   "name": "python"
  }
 },
 "nbformat": 4,
 "nbformat_minor": 2
}
