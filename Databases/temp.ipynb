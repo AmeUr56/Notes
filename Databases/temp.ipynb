{
 "cells": [
  {
   "cell_type": "markdown",
   "metadata": {},
   "source": [
    "Part 5: Relational Algebra\n",
    "Relational Algebra Operations - Unary - 15:25\n",
    "Relational Algebra Operations - Set Theory - 11:49\n",
    "Relational Algebra Operations - Binary - 19:04\n",
    "Additional Relational Algebra Operations - 21:58\n",
    "\n",
    "Part 6: Relational Algebra Queries\n",
    "Relational Algebra Queries (Part 1) - 21:39\n",
    "Relational Algebra Queries (Part 2) - 11:36"
   ]
  }
 ],
 "metadata": {
  "language_info": {
   "name": "python"
  }
 },
 "nbformat": 4,
 "nbformat_minor": 2
}
