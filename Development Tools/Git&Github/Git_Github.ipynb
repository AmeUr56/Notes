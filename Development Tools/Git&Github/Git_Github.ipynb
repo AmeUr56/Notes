{
 "cells": [
  {
   "cell_type": "markdown",
   "metadata": {},
   "source": [
    "# Introduction to Git and GitHub"
   ]
  },
  {
   "cell_type": "markdown",
   "metadata": {},
   "source": [
    "## What is Git and Github:\n",
    "- Git is Distributed **Version Control System**.\n",
    "- Git is Free and Open Source.<br>\n",
    "- Github is Source for Project and Sources ,others: [GitLab,BitBucket].\n",
    "- Github simplify using Git.\n",
    "- You can use Git without Github.\n",
    "- Git has GUI."
   ]
  },
  {
   "cell_type": "markdown",
   "metadata": {},
   "source": [
    "## Why you must learn Git:\n",
    "- Developers contribute to the **Same Project**.\n",
    "- You can **Revert Changes**.\n",
    "- You can **Collaborate** to **Fix Issues**.\n",
    "- You can **Collaborate** to **Create New Features**.\n",
    "- You can **Solve Conflicts**.\n",
    "- You can **Organize Features**."
   ]
  },
  {
   "cell_type": "markdown",
   "metadata": {},
   "source": [
    "## Common Terms:\n",
    "- **Repository (Repo)**: A storage location for your project's files and version history.\n",
    "- **Branch**: A separate line of development within a repository.\n",
    "- **Local Repo**: The repository stored on your own machine.\n",
    "- **Remote Repo**: The repository hosted on a server (e.g., GitHub).\n",
    "- **Commit**: A saved snapshot or checkpoint of changes in your local repository.\n",
    "- **Clone**: Copying a repository from a remote or local location to your machine.\n",
    "- **Push**: Uploading your local changes to a remote repository.\n",
    "- **Pull**: Downloading changes from a remote repository to your local one.\n",
    "- **Pull Request**: A request to merge your changes from your local branch to the remote repository."
   ]
  },
  {
   "cell_type": "markdown",
   "metadata": {},
   "source": [
    "## Important Notes:\n",
    "- Create Repository for Every Project.\n",
    "- Create a New Branch for Every Feature or Enhancement.\n",
    "- No need to connect to Remot Repo when working.\n",
    "- Anyone can Push and Pull depend on Permissions."
   ]
  },
  {
   "cell_type": "markdown",
   "metadata": {},
   "source": [
    "# Create Github Repository And Clone It"
   ]
  },
  {
   "cell_type": "markdown",
   "metadata": {},
   "source": [
    "## Create Repo:\n",
    "In **Github**:https://github.com/new.\n",
    "### Inputs:\n",
    "- **Repository name (*)**\n",
    "- **Description**\n",
    "- **Public** or **Private**\n",
    "- Add **README** file\n",
    "- **Add .gitignore**: When you add a .gitignore file while creating a repository in GitHub, you specify which files or directories Git should ignore and not track in version control.\n",
    "- **Choose a license**:  You're specifying the legal permissions for others to use, modify, and distribute your code."
   ]
  },
  {
   "cell_type": "markdown",
   "metadata": {},
   "source": [
    "### Repo Link:\n",
    "https://github.com/username/repo_name"
   ]
  },
  {
   "cell_type": "markdown",
   "metadata": {},
   "source": [
    "#### README file:\n",
    "its format is **.md**<br>\n",
    "It's breviation for **Markdown**,which is lightweight markup language.<br>\n",
    "To see how to write with it in Github:<br>\n",
    "https://docs.github.com/en/get-started/writing-on-github/getting-started-with-writing-and-formatting-on-github/basic-writing-and-formatting-syntax"
   ]
  },
  {
   "cell_type": "markdown",
   "metadata": {},
   "source": [
    "## Clone Repo:\n",
    "When you clone a repository, you **create** a **full copy of the repository**, including the **entire version history**, **branches**, and **commits**, on **your local machine**. This allows you to **work** with **Git** commands, **push** changes back, and **collaborate** with **others**."
   ]
  },
  {
   "cell_type": "markdown",
   "metadata": {},
   "source": [
    "### Cloning Steps:\n",
    "at https://github.com/username/repo_name :<br>\n",
    "- Click on the **Green '<>Code' Button**.\n",
    "- In **Clone** Section and with **HTTPS** option,copy the link: https://github.com/username/repo_name.git<br>\n",
    "- Open terminal in folder to clone in it inside your local machine \n",
    "- Write the command: **git clone https://github.com/username/repo_name.git**"
   ]
  },
  {
   "cell_type": "markdown",
   "metadata": {},
   "source": [
    "## Download Repo:\n",
    "When you download a repository (usually as a **ZIP** file), you only get the **current state** of the files **without** the **version history** or the ability to use **Git** commands like **pushing**, **pulling**, or **committing** changes."
   ]
  },
  {
   "cell_type": "markdown",
   "metadata": {},
   "source": [
    "### Downloading Steps:\n",
    "at https://github.com/username/repo_name :<br>\n",
    "- Click on the **Green '<>Code' Button**.\n",
    "- In **Clone** Section and with **HTTPS** option,click on **Download ZIP**."
   ]
  },
  {
   "cell_type": "markdown",
   "metadata": {},
   "source": [
    "# Git areas(stages) in the version control process:"
   ]
  },
  {
   "cell_type": "markdown",
   "metadata": {},
   "source": [
    "- ### Local Machine:\n",
    "    - **Workspace**: The working directory where your project's files are edited.\n",
    "    - **Staging**: A holding area where changes are prepared before committing to the repository.\n",
    "    - **Local Repo**: The version-controlled repository stored on your local machine.\n",
    "- ### Remote Server:\n",
    "    - **Remote Repo**: The version-controlled repository hosted on a remote server (e.g., GitHub).\n",
    "![Alt Text](git-basic-commands.png)\n"
   ]
  },
  {
   "cell_type": "markdown",
   "metadata": {},
   "source": [
    "# Private/Public Keys:"
   ]
  },
  {
   "cell_type": "markdown",
   "metadata": {},
   "source": [
    "In Git, the **ssh-keygen** command is used to generate a new **SSH key** pair (public and private keys). SSH keys are often used to securely authenticate with remote servers like GitHub, GitLab, or Bitbucket without needing to repeatedly enter a username and password."
   ]
  },
  {
   "cell_type": "markdown",
   "metadata": {},
   "source": [
    "### **Steps for Using ssh-keygen in Git**:\n",
    "#### 1-Open Terminal:\n",
    "- On Linux/macOS, open a terminal.\n",
    "- On Windows, you can use Git Bash or another terminal.\n",
    "#### 2-Run ssh-keygen: Type the following command and press Enter:<pre>\n",
    "ssh-keygen -t rsa -b 4096 -C \"your_email@example.com\"\n",
    "\n",
    "- **-t rsa**: Specifies the type of key (RSA).\n",
    "- **-b 4096**: Sets the key length to 4096 bits for better security.\n",
    "- **-C \"your_email@example.com\"**: Adds a label (usually your email) to the SSH key to help identify it.\n",
    "\n",
    "#### 3-Choose a Location:\n",
    "By **default**, the keys will be saved in **~/.ssh/id_rsa**. You can press Enter to accept this, or provide a **different path**.\n",
    "\n",
    "#### 4-Passphrase (Optional):\n",
    "You’ll be asked to set a passphrase for the **private key**. You can leave it empty by pressing Enter, or enter a passphrase for **extra security**.\n",
    "\n",
    "#### After this, you'll have two files:\n",
    "- **Private Key**: This **stays on your machine** and should **never be shared** (~/.ssh/id_rsa).\n",
    "- **Public Key**: You can **share** this with **services** like GitHub (~/.ssh/id_rsa.pub).<br><br>\n",
    "\n",
    "Once you've generated the keys, you'll need to add the **public key** to your **Git service account** (e.g., GitHub or GitLab), so it can be used for authentication.<br>\n",
    "#### Test:\n",
    "after adding the public key into the server(eg:github),to test if git is connected to it use:<pre>\n",
    "ssh -T \"git@github.com\""
   ]
  },
  {
   "cell_type": "markdown",
   "metadata": {},
   "source": [
    "# Git Commands:"
   ]
  },
  {
   "cell_type": "markdown",
   "metadata": {},
   "source": [
    "Git commands based on their functionality or the tasks they perform:"
   ]
  },
  {
   "cell_type": "markdown",
   "metadata": {},
   "source": [
    "## **1. Configuration and Setup:**\n",
    "These commands are used for configuring your Git environment and initializing a repository:"
   ]
  },
  {
   "cell_type": "markdown",
   "metadata": {},
   "source": [
    "### **git config**:\n",
    "is a Git command used to set configuration options for your Git environment. These configurations can control various aspects of Git's behavior and customize its functionality according to your needs.<pre>\n",
    "git config \\<config level> \\<key> \"\\<value>\""
   ]
  },
  {
   "cell_type": "markdown",
   "metadata": {},
   "source": [
    "#### Configuration Levels:\n",
    "You can set configurations at three levels (we use specefic options):\n",
    "\n",
    "- **Local**: Specific to a single repository (stored in the .git/config file):<pre>\n",
    "--local\n",
    "- **Global**: Applies to the user across all repositories (stored in the user's home directory, usually in .gitconfig):<pre>\n",
    "--global\n",
    "- **System**: Applies to all users on the system (stored in the Git installation directory):<pre>\n",
    "--system"
   ]
  },
  {
   "cell_type": "markdown",
   "metadata": {},
   "source": [
    "#### To Edit Configs Manually:\n",
    "without commands:<pre>\n",
    "git config --edit"
   ]
  },
  {
   "cell_type": "markdown",
   "metadata": {},
   "source": [
    "#### Viewing Configurations in Machine:<pre>\n",
    "git config --list --show-origin</pre><br>\n",
    "**--show-origin** shows storing location for each config. "
   ]
  },
  {
   "cell_type": "markdown",
   "metadata": {},
   "source": [
    "#### Configurations Manual Page:<pre>\n",
    "git help config "
   ]
  },
  {
   "cell_type": "markdown",
   "metadata": {},
   "source": [
    "#### Get Config Value:\n",
    "git config \\<key>"
   ]
  },
  {
   "cell_type": "markdown",
   "metadata": {},
   "source": [
    "#### Delete Config Value:\n",
    "git config --unset \\<key>"
   ]
  },
  {
   "cell_type": "markdown",
   "metadata": {},
   "source": [
    "#### Common Configs:\n",
    "- To change Configs Editor:<pre>\n",
    "git config --global core.editor \"code\"\n",
    "- To set your **identity**:<pre>\n",
    "user.name \"Your Name\"\n",
    "global user.email \"your-email@example.com\"</pre>\n",
    "\n",
    "- To **cache** your **credentials** in memory, so you don’t have to enter your username and password (or token) every time you push or pull from a remote repository:<pre>\n",
    "credential.helper 'cache --timeout=\\<seconds>'\n",
    "- To create **alias** for **command**,write in browser git alias list to see good common aliases between devs:<pre>\n",
    "git config \\<config-level> alias.\\<new name> \\<command></pre>\n",
    "**Example:** <pre>\n",
    "git config alias.st status\n",
    "git config alias.cm \"commit -m\" "
   ]
  },
  {
   "cell_type": "markdown",
   "metadata": {},
   "source": [
    "### **git init**\n",
    "is a Git command used to create a new, empty Git repository in a project directory. It initializes a .git folder that contains all the necessary metadata for version control, allowing you to track changes to the files in that directory.\n"
   ]
  },
  {
   "cell_type": "markdown",
   "metadata": {},
   "source": [
    "#### Key Points:\n",
    "- **Start Version Control**: It sets up a Git repository in your current directory, enabling Git to start tracking file changes.\n",
    "- **Creates .git Directory**: This hidden folder stores all the information about the repository, including its history, configuration, and references.\n",
    "- **For New Projects**: Use git init to begin version control on an existing project or when starting a new one.\n",
    "- **Initialization**: After running git init, you can start adding files, committing changes, and using other Git commands."
   ]
  },
  {
   "cell_type": "markdown",
   "metadata": {},
   "source": [
    "## **2. Staging and Snapshot Management:**\n",
    "These commands handle adding, removing, or moving files between the working directory, staging area, and commit history:"
   ]
  },
  {
   "cell_type": "markdown",
   "metadata": {},
   "source": [
    "### **git add** \n",
    "is a Git command used to stage changes in your working directory for the next commit. It tells Git which modified files or new files you want to include in the upcoming commit."
   ]
  },
  {
   "cell_type": "markdown",
   "metadata": {},
   "source": [
    "#### key points:\n",
    "- **Staging Changes**: When you run git add <file>, you add the specified file to the staging area, marking it for inclusion in the next commit.\n",
    "- **Multiple Files**: You can stage multiple files by specifying each one or using patterns (e.g., git add . to stage all changes in the current directory).\n",
    "- **Selective Staging**: It allows you to selectively choose which changes to include, helping you create organized commits."
   ]
  },
  {
   "cell_type": "markdown",
   "metadata": {},
   "source": [
    "### **git rm**\n",
    "is a Git command used to remove files from both the working directory and the staging area in a Git repository. This allows you to delete files from the project and also ensures that Git no longer tracks them."
   ]
  },
  {
   "cell_type": "markdown",
   "metadata": {},
   "source": [
    "#### Key Points:\n",
    "- **Remove Files**: Deletes files from the working directory and stages the removal for the next commit.\n",
    "- **Untracked Files**: If you only want Git to stop tracking a file but keep it in the working directory, you can use git rm --cached <file>.\n",
    "- **Staging:** It automatically stages the file removal, so there's no need to run git add afterward.\n",
    "- **Irreversible Removal**: Once committed, the file is removed from the repository, but its history is preserved in previous commits."
   ]
  },
  {
   "cell_type": "markdown",
   "metadata": {},
   "source": [
    "### **git mv**\n",
    "is a Git command used to move or rename files within a Git repository. It combines the functionality of renaming/moving a file in the filesystem and staging the change in Git, so you don't have to run git add and git rm separately."
   ]
  },
  {
   "cell_type": "markdown",
   "metadata": {},
   "source": [
    "#### Key Points:\n",
    "- **Move Files**: You can move a file from one directory to another within your project.\n",
    "- **Rename Files**: It can also be used to rename a file within the same directory.\n",
    "- **Staging Changes**: Automatically stages the move or rename operation for the next commit.\n",
    "- **Preserves History**: Git tracks the rename/move operation in the commit history, so you maintain version control over the file's changes."
   ]
  },
  {
   "cell_type": "markdown",
   "metadata": {},
   "source": [
    "### **git restore**\n",
    "is a Git command used to discard changes in your working directory and revert files back to a previous state."
   ]
  },
  {
   "cell_type": "markdown",
   "metadata": {},
   "source": [
    "#### Several Ways:\n",
    "- **Restore Modified Files**: If you have modified a tracked file and want to revert it to the last committed state, you can use:<pre>\n",
    "git restore \\<file></pre>\n",
    "This command will discard any uncommitted changes in that file.\n",
    "\n",
    "- **Restore Staged Changes**: If you want to unstage a file (move it from the staging area back to the working directory), you can use:<pre>\n",
    "git restore --staged \\<file></pre>\n",
    "- **Restore from a Specific Commit**: You can restore a file from a specific commit by using:<br>\n",
    "git restore --source \\<commit> \\<file>"
   ]
  },
  {
   "cell_type": "markdown",
   "metadata": {},
   "source": [
    "### **git reset** \n",
    "is a Git command used to undo changes by moving the current branch's tip (or \"HEAD\") to a different commit. It allows you to unstage changes, revert commits, or adjust your project's history without modifying the working directory or permanently deleting changes."
   ]
  },
  {
   "cell_type": "markdown",
   "metadata": {},
   "source": [
    "#### Key Points:\n",
    "- **Unstage Changes**: To remove changes from the staging area while keeping the actual changes in your working directory:<pre>\n",
    "git reset \n",
    "- **Undo Commits**: It can move the current branch backward in the commit history, effectively undoing commits with:\n",
    "    - **Three Modes**:\n",
    "        - **--soft**: Moves the HEAD to a previous commit, but keeps changes in the staging area and working directory.\n",
    "        - **--mixed (default)**: Moves the HEAD to a previous commit, unstages the changes, but keeps them in the working directory.\n",
    "        - **--hard**: Moves the HEAD to a previous commit and discards all changes in both the staging area and working directory.<pre>\n",
    "git reset \\<mode> \\<commit_head>"
   ]
  },
  {
   "cell_type": "markdown",
   "metadata": {},
   "source": [
    "### **git commit**\n",
    "is a Git command that saves the changes from the staging area to the local repository. It creates a snapshot of the project's current state, including any staged changes, and adds it to the version history."
   ]
  },
  {
   "cell_type": "markdown",
   "metadata": {},
   "source": [
    "#### Here's what it does:\n",
    "- **Snapshot of Changes**: Records all staged changes (using git add) as a new commit.\n",
    "- **Commit Message**: You include a descriptive message summarizing the changes using <pre>\n",
    "git commit -m \"message\"\n",
    "- **Version Control**: Each commit acts as a checkpoint, allowing you to track the project's evolution, revert to previous versions, or collaborate with others."
   ]
  },
  {
   "cell_type": "markdown",
   "metadata": {},
   "source": [
    "## **3. Cleaning and Resetting the Working Directory:**\n",
    "These commands help manage untracked files and clean up the working directory:"
   ]
  },
  {
   "cell_type": "markdown",
   "metadata": {},
   "source": [
    "### **git clean**\n",
    "is a Git command used to remove untracked files and directories from your working directory. These untracked items are files that are not being tracked by Git (i.e., files that have not been added to the repository and are not part of the staging area). It is useful for cleaning up temporary files, build artifacts, or other clutter that is not versioned."
   ]
  },
  {
   "cell_type": "markdown",
   "metadata": {},
   "source": [
    "#### Key Points:\n",
    "- **Untracked Files Only**: It removes files that Git doesn't track. Tracked files (or changes to them) are unaffected.\n",
    "- **Caution**: This is a destructive operation — the deleted files cannot be recovered unless backed up elsewhere.\n",
    "\n",
    "**Options**:\n",
    "- -n: Shows what would be deleted without actually deleting it (dry run).\n",
    "- -f: Forces the deletion of untracked files.\n",
    "- -d: Removes untracked directories in addition to files.\n",
    "- -x: Also removes files ignored by .gitignore."
   ]
  },
  {
   "cell_type": "markdown",
   "metadata": {},
   "source": [
    "### **git stash**\n",
    "is a Git command used to temporarily save changes in your working directory that you are not ready to commit. It allows you to clean up your working directory and switch to another task without losing your changes. The saved changes can be reapplied later."
   ]
  },
  {
   "cell_type": "markdown",
   "metadata": {},
   "source": [
    "#### Key points:\n",
    "- **Save Uncommitted Changes**: To stash your current uncommitted changes, use:<pre>\n",
    "git stash</pre>\n",
    "This saves your changes (both tracked and untracked files) and resets your working directory to the last commit, allowing you to work on something else.\n",
    "\n",
    "- **Stash Only Tracked Files**: If you only want to stash changes to tracked files (ignoring new, untracked files), use:<pre>\n",
    "git stash --keep-index\n",
    "\n",
    "- **View Stashed Changes**: To view the list of all stashed changes, use:<pre>\n",
    "git stash list\n",
    "This displays all the stashes saved with an index, like **stash@{0}**, **stash@{1}**, etc.\n",
    "\n",
    "- **Show Changes in Stash**: To display a summary of the changes saved in the most recent stash (or any specific stash) without applying them:<pre>\n",
    "git stash show\n",
    "**-p** full detailes.\n",
    "\n",
    "- **Apply Stashed Changes**: To apply the most recent stash back to your working directory without removing it from the stash list, use:<pre>\n",
    "git stash apply</pre>\n",
    "If you want to apply a specific stash, use:<pre>\n",
    "git stash apply stash@{<index>}\n",
    "\n",
    "- **Pop Stashed Changes**: To apply the most recent stash and remove it from the stash list, use:<pre>\n",
    "git stash pop</pre>\n",
    "This is equivalent to **apply** followed by **drop**.\n",
    "\n",
    "- **Drop a Stash**: To delete a specific stash without applying it, use:<pre>\n",
    "git stash drop stash@{<index>}\n",
    "\n",
    "- **Stash Untracked Files**: If you want to stash both tracked and untracked files, use:<pre>\n",
    "git stash -u\n",
    "\n",
    "- **Stash with Message**: To give a stash a custom name or description, use:<pre>\n",
    "git stash save \"message\"\n",
    "\n",
    "- **Clear All Stashes**: To remove all saved stashes from the stash list, use:<pre>\n",
    "git stash clear\n",
    "\n",
    "- **Stashing in Branch Switching**: If you're in the middle of something and need to switch branches without committing changes, use git stash to temporarily save your work. After switching branches, use git stash pop to retrieve your saved changes."
   ]
  },
  {
   "cell_type": "markdown",
   "metadata": {},
   "source": [
    "## **4. Branch and Merge Management:**\n",
    "These commands manage branches and how they are combined:"
   ]
  },
  {
   "cell_type": "markdown",
   "metadata": {},
   "source": [
    "### **git branch** \n",
    "is a Git command used to manage branches in a repository. A branch represents an independent line of development within a project."
   ]
  },
  {
   "cell_type": "markdown",
   "metadata": {},
   "source": [
    "#### Here's how it works:\n",
    "- **List Branches**: Running the command by itself lists all branches in the repository and highlights the current one using:<pre>\n",
    "git branch\n",
    "- **Create Branch**: You can create a new branch using this command, allowing you to work on new features or changes without affecting the main codebase using:<pre>\n",
    "git branch \\<branch-name>\n",
    "- **Rename Branch**: To rename current used branch:<pre>\n",
    "git branch -m \\<new_name>\n",
    "- **Switch Branches**: To move between branches use:<pre>\n",
    "git switch \\<branch-name> \n",
    "- **Create & Switch Branch** : To create a branch and switch to it directly:<pre>\n",
    "git checkout -b \\<branch-name>\n",
    "- **Delete Branch**: If it’s no longer needed, you can delete a branch with:<pre> \n",
    "git branch -d \\<branch-name>\n",
    "or use **-D** for forced del"
   ]
  },
  {
   "cell_type": "markdown",
   "metadata": {},
   "source": [
    "### **git merge**\n",
    "is a Git command used to integrate changes from one branch into another. This command combines the histories of the specified branches and creates a new commit that reflects the merged changes."
   ]
  },
  {
   "cell_type": "markdown",
   "metadata": {},
   "source": [
    "#### Key Points:\n",
    "- **Combining Branches**: Typically, you use git merge <branch-name> while on the branch you want to merge changes into (usually the main or master branch).\n",
    "- **Fast-Forward Merge**: If the current branch has not diverged from the branch being merged, Git performs a fast-forward merge, simply moving the branch pointer forward.\n",
    "- **Three-Way Merge**: If there are diverging changes, Git creates a new commit that combines changes from both branches, involving the latest common ancestor.\n",
    "- **Conflict Resolution**: If changes conflict (i.e., the same lines were modified in both branches), Git will pause the merge and prompt you to resolve conflicts manually before completing the merge."
   ]
  },
  {
   "cell_type": "markdown",
   "metadata": {},
   "source": [
    "## **5. Tagging and Versioning:**\n",
    "These commands are used to manage version tags:"
   ]
  },
  {
   "cell_type": "markdown",
   "metadata": {},
   "source": [
    "### **git tag**\n",
    "is a Git command used to create a tag, or a reference, to a specific commit in your Git repository. Tags are often used to mark important points in the project’s history, such as releases or versions (e.g., v1.0, v2.0). Unlike branches, tags are immutable and fixed to a particular commit."
   ]
  },
  {
   "cell_type": "markdown",
   "metadata": {},
   "source": [
    "#### Key Points:\n",
    "- **Lightweight vs Annotated**: There are two types of tags:\n",
    "    - Lightweight: A simple pointer to a specific commit.\n",
    "    - Annotated: A tag that includes additional metadata, such as the tagger's name, email, date, and a message.\n",
    "- **Versioning**: Commonly used to tag specific versions or releases of a project.\n",
    "- **Retrieval**: Tags can be pushed to remote repositories and pulled by others, and they can be checked out like branches."
   ]
  },
  {
   "cell_type": "markdown",
   "metadata": {},
   "source": [
    "Examples:\n",
    "- To create a lightweight tag:<pre>\n",
    "git tag v1.0\n",
    "- To create an annotated tag with a message:<pre>\n",
    "git tag -a v1.0 -m \"Release version 1.0\"\n",
    "- To list all tags:<pre>\n",
    "git tag</pre>\n",
    "or with specific pattern:(eg:Show all Tags startswith **v1.**) <pre>\n",
    "git tag -l \"v1.*\"\n",
    "- To delete a tag:<pre>\n",
    "git tag -d <tag_name> </pre>\n",
    "and to delete it from remote repo:<pre>\n",
    "git push origin --delete <tag_name>"
   ]
  },
  {
   "cell_type": "markdown",
   "metadata": {},
   "source": [
    "## **6. Remote Repositories:**\n",
    "These commands are used to manage and interact with remote repositories:"
   ]
  },
  {
   "cell_type": "markdown",
   "metadata": {},
   "source": [
    "### **git remote**\n",
    "is a Git command used to manage connections to remote repositories (repositories hosted on a server, such as GitHub or GitLab). It allows you to interact with repositories stored elsewhere, enabling collaboration and synchronization between local and remote versions of a project."
   ]
  },
  {
   "cell_type": "markdown",
   "metadata": {},
   "source": [
    "#### Key uses:\n",
    "- **List Remotes**: To list the remotes associated with your local repository and their URLs user:<pre>\n",
    "git remote \n",
    "or \n",
    "git remote -v\n",
    "- **Add Remote**: You can add a new remote repository with:<pre> \n",
    "git remote add \\<name> \\<url>.\n",
    "- **Remove Remote**: To delete a remote Use:<pre> \n",
    "git remote remove \\<name> \n",
    "- **Fetch or Push**: You can pull changes from, or push changes to, a remote repository via git pull or git push."
   ]
  },
  {
   "cell_type": "markdown",
   "metadata": {},
   "source": [
    "### **git push**\n",
    "is a Git command used to upload local repository changes to a remote repository. It transfers commits from your local branch to a corresponding branch on a remote server (e.g., GitHub, GitLab)."
   ]
  },
  {
   "cell_type": "markdown",
   "metadata": {},
   "source": [
    "#### key points:\n",
    "- **Upload Changes**: To send your committed changes from your local branch to the specified remote branch use:<pre>\n",
    "git push -u \\<remote> \\<branch>\n",
    "**-u** sets the tracking branch so you don't need to specify **origin master** every time.\n",
    "- **Update Remote**: This command updates the remote repository to reflect the latest commits made locally.\n",
    "- **Tracking Branches**: If you have set up tracking branches, you can simply use git push to push changes to the default remote and branch.\n",
    "- **Collaboration**: git push is essential for collaboration, as it allows team members to share and integrate their work with others."
   ]
  },
  {
   "cell_type": "markdown",
   "metadata": {},
   "source": [
    "### **git fetch**\n",
    "is a Git command used to download the latest changes from a remote repository without modifying your working directory or current branch. It updates your local references of the remote branches, allowing you to see any changes made by others on the remote server without applying them immediately to your local codebase."
   ]
  },
  {
   "cell_type": "markdown",
   "metadata": {},
   "source": [
    "#### Key points:\n",
    "- **No Automatic Merge**: It doesn’t integrate the fetched changes into your current branch. You need to manually merge them (with git merge) if you want to apply them.\n",
    "- **Safe Inspection**: You can review the fetched changes before deciding to merge them.\n",
    "- **Useful for Syncing**: Helps keep your local copy of remote branches up-to-date without altering your current branch."
   ]
  },
  {
   "cell_type": "markdown",
   "metadata": {},
   "source": [
    "### **git pull**\n",
    "is a Git command that fetches changes from a remote repository and merges them into your current branch in one step. It is a convenient way to update your local repository with the latest changes from a remote source."
   ]
  },
  {
   "cell_type": "markdown",
   "metadata": {},
   "source": [
    "#### Key Points:\n",
    "- **Combination of Two Commands**: git pull is effectively a combination of git fetch (which retrieves changes from the remote) and git merge (which integrates those changes into your current branch).\n",
    "- **Updates Local Branch**: After executing git pull, your local branch will reflect the latest changes made in the corresponding remote branch.\n",
    "- **Automatic Merge**: If there are no conflicts, the changes are merged automatically. If conflicts occur, Git will prompt you to resolve them before finalizing the merge.\n",
    "- **Common Usage**: It's commonly used to keep your local repository in sync with the latest developments from collaborators or the main project."
   ]
  },
  {
   "cell_type": "markdown",
   "metadata": {},
   "source": [
    "## **7. Inspection and Status Checking:**\n",
    "These commands help you inspect the state of your repository and view the history:"
   ]
  },
  {
   "cell_type": "markdown",
   "metadata": {},
   "source": [
    "### **git status**:\n",
    "is a Git command that shows the current state of your working directory and staging area."
   ]
  },
  {
   "cell_type": "markdown",
   "metadata": {},
   "source": [
    "#### It provides information such as:\n",
    "- **Tracked and untracked files**: Files that are being tracked by Git and files that aren't.\n",
    "- **Changes**: Any modifications that have been made but not yet committed.\n",
    "- **Staging status**: Files that are staged and ready to be committed.\n",
    "- **Branch information**: The current branch and if it's ahead, behind, or up-to-date with the remote repository."
   ]
  },
  {
   "cell_type": "markdown",
   "metadata": {},
   "source": [
    "### **git diff**\n",
    "is a Git command used to show the differences between various states of a repository. It compares changes in the working directory, staging area, or between commits, helping you see what has been added, modified, or deleted before committing or merging."
   ]
  },
  {
   "cell_type": "markdown",
   "metadata": {},
   "source": [
    "#### Key Points:\n",
    "- **Unstaged Changes**: By default, it shows differences between the working directory and the staging area (i.e., changes that haven’t been staged).\n",
    "- **Staged Changes**: You can compare the staging area with the last commit to see what’s staged for the next commit.\n",
    "- **Between Commits**: It can also compare two commits, branches, or specific files.\n",
    "- **Line-by-Line Diffs**: The output shows the exact lines that were added, modified, or removed.\n"
   ]
  },
  {
   "cell_type": "markdown",
   "metadata": {},
   "source": [
    "#### Examples:\n",
    "- To see differences between the working directory and staging area:<pre>\n",
    "git diff</pre>\n",
    "- To see differences between staged changes and the last commit:<pre>\n",
    "git diff --staged</pre>\n",
    "- To compare two specific commits:<pre>\n",
    "git diff \\<commit1> \\<commit2>"
   ]
  },
  {
   "cell_type": "markdown",
   "metadata": {},
   "source": [
    "### **git log**\n",
    "is a Git command used to display the commit history of the current branch in a repository. It provides detailed information about each commit, such as the commit hash, author, date, and commit message, allowing you to review the project's development over time."
   ]
  },
  {
   "cell_type": "markdown",
   "metadata": {},
   "source": [
    "#### Key Points:\n",
    "- **Commit History**: Shows a chronological list of commits, starting with the most recent.\n",
    "- **Commit Details**: Displays information including the unique commit identifier (hash), author name, email, date, and the commit message.\n",
    "- **Customization**: You can customize the output using various options, such as limiting the number of commits shown or formatting the output.<pre>\n",
    "git log -p\n",
    "**-p** more detailed."
   ]
  },
  {
   "cell_type": "markdown",
   "metadata": {},
   "source": [
    "### **git blame**\n",
    "is a Git command used to show the last commit that modified each line of a file. It displays information about who made changes, when the changes were made, and the commit hash associated with each line in the file. This helps track the history of specific lines of code and understand who introduced certain changes."
   ]
  },
  {
   "cell_type": "markdown",
   "metadata": {},
   "source": [
    "#### Key Points:\n",
    "- **Track Line-by-Line Changes**: Shows who last modified each line of a file, useful for understanding the history of changes.\n",
    "- **Identify Responsibility**: Helps in identifying the person responsible for changes, useful for debugging or code reviews.\n",
    "- **Detailed Information**: Displays the commit hash, author name, date, and the content of each line.<pre>\n",
    "\n",
    "git blame \\<file>"
   ]
  },
  {
   "cell_type": "markdown",
   "metadata": {},
   "source": [
    "### **git bisect**\n",
    "is a Git command used to perform a binary search through a project's commit history to find the exact commit that introduced a bug or issue. By marking commits as either \"good\" or \"bad,\" Git narrows down the problematic commit efficiently."
   ]
  },
  {
   "cell_type": "markdown",
   "metadata": {},
   "source": [
    "#### Key Points:\n",
    "- **Find Bug-Introducing Commit**: It helps you quickly identify the specific commit that caused an issue by systematically checking commits between known \"good\" and \"bad\" states.\n",
    "- **Binary Search**: It performs a binary search, so it halves the number of commits to check each time, making the process fast.\n",
    "- **Good vs. Bad**: You specify a known good commit (before the bug) and a known bad commit (where the bug exists), and git bisect will guide you through testing commits between these points."
   ]
  },
  {
   "cell_type": "markdown",
   "metadata": {},
   "source": [
    "#### Example Workflow:\n",
    "- Start the bisect process:<pre>\n",
    "git bisect start\n",
    "- Mark the bad commit (where the bug appears):<pre>\n",
    "git bisect bad\n",
    "- Mark a good commit (where the bug is not present):<pre>\n",
    "git bisect good \\<commit>\n",
    "- Test the suggested commit. Mark it \"good\" or \"bad\" based on your testing. Git will continue the process until it finds the problematic commit:<pre>\n",
    "git bisect good  # if the commit is good\n",
    "git bisect bad   # if the commit is bad\n",
    "- Once the bad commit is found, stop the bisect process:<pre>\n",
    "git bisect reset"
   ]
  },
  {
   "cell_type": "markdown",
   "metadata": {},
   "source": [
    "# Ignoring Files And Directories"
   ]
  },
  {
   "cell_type": "markdown",
   "metadata": {},
   "source": [
    "In Git, you can ignore files and directories by adding them to a .gitignore file. This file tells Git which files or directories to exclude from version control."
   ]
  },
  {
   "cell_type": "markdown",
   "metadata": {},
   "source": [
    "## Steps to ignore files and directories:\n",
    "- **Create or Open a .gitignore File**: If your repository doesn't already have a .gitignore file, you can create one in the root of your project.\n",
    "\n",
    "- **Add Files and Directories to .gitignore**: You can list files or directories you want to ignore inside th|e .gitignore file.Using these rules."
   ]
  },
  {
   "cell_type": "markdown",
   "metadata": {},
   "source": [
    "## Rules in .gitignore:\n",
    "- Blank lines or lines starting with # are ignored.\n",
    "- You can negate a pattern by prefixing it with !. For example:<pre>\n",
    "!important.txt\n",
    "Example of a .gitignore file:\n",
    "#### Ignore all log files:<pre>\n",
    "*.log\n",
    "\n",
    "#### Ignore node_modules directory:<pre>\n",
    "/node_modules/\n",
    "\n",
    "#### Ignore specific file:<pre>\n",
    "/secrets.txt\n",
    "\n",
    "#### Ignore everything in the \"temp\" folder:<pre>\n",
    "/temp/*\n",
    "\n",
    "#### Don't ignore this file in temp:<pre>\n",
    "!temp/dont_ignore_me.txt"
   ]
  },
  {
   "cell_type": "markdown",
   "metadata": {},
   "source": [
    "# Forking in Github"
   ]
  },
  {
   "cell_type": "markdown",
   "metadata": {},
   "source": [
    "## 1. What is Forking?\n",
    "Forking is the process of **creating a personal copy of someone else’s repository** on your GitHub account.<br>\n",
    "\n",
    "A fork allows you to:\n",
    "- Experiment with the codebase without affecting the original repository.\n",
    "- Develop features or fix bugs independently.\n",
    "- Contribute changes back to the original project by creating a pull request."
   ]
  },
  {
   "cell_type": "markdown",
   "metadata": {},
   "source": [
    "## 2. Why Fork a Repository?\n",
    "- Forking is particularly useful for open-source contributions where developers don't have write access to the original project but want to contribute.\n",
    "- It allows developers to freely experiment with changes, keeping the original project isolated and safe from any unintended changes."
   ]
  },
  {
   "cell_type": "markdown",
   "metadata": {},
   "source": [
    "## 3. How to Fork a Repository?\n",
    "- Navigate to the repository you want to fork on GitHub.\n",
    "\n",
    "- Click the Fork button in the top-right corner of the repository page.\n",
    "\n",
    "- GitHub will create a copy of the repository under your GitHub account.\n",
    "\n",
    "Once forked, you have full control over your copy."
   ]
  },
  {
   "cell_type": "markdown",
   "metadata": {},
   "source": [
    "## 4. Keeping Your Fork Updated\n",
    "Your fork is a copy of the original (often called the **upstream**) repository. Over time, the original repository may receive new changes, and you’ll need to keep your fork in sync."
   ]
  },
  {
   "cell_type": "markdown",
   "metadata": {},
   "source": [
    "- To sync your fork:\n",
    "    - Add the original repository as a remote:<pre>\n",
    "git remote add upstream https://github.com/original-owner/original-repo.git\n",
    "    - Pull changes from original repository:<pre>\n",
    "git pull upstream"
   ]
  },
  {
   "cell_type": "markdown",
   "metadata": {},
   "source": [
    "## 5. Customizing a Fork\n",
    "After forking, you can freely make changes to your forked repository, whether that’s adding new features, fixing bugs, or improving documentation."
   ]
  },
  {
   "cell_type": "markdown",
   "metadata": {},
   "source": [
    "# Pull Requests (PRs) in GitHub"
   ]
  },
  {
   "cell_type": "markdown",
   "metadata": {},
   "source": [
    "## 1. What is a Pull Request?\n",
    "A pull request (PR) is a method of **submitting contributions to a repository**. In essence, you're **asking the repository owner** or maintainers to \"pull\" your changes into their codebase.<br><br>\n",
    "PRs are an essential part of the **collaboration** process on GitHub, allowing teams to **review code**, **leave feedback**, and integrate contributions into the main project safely."
   ]
  },
  {
   "cell_type": "markdown",
   "metadata": {},
   "source": [
    "## 2. Workflow for a Pull Request\n",
    "### Step 1: Make Changes in Your Fork (or Branch)\n",
    "- After forking a repository (or working on a branch), **make your changes locally**, commit, and push them to GitHub.\n",
    "\n",
    "### Step 2: Open a Pull Request\n",
    "- Navigate to your forked repository on GitHub.\n",
    "- Once you’ve made changes and pushed them to a branch, GitHub will often prompt you to create a pull request.\n",
    "- Click on New Pull Request, and GitHub will show a comparison between your branch and the original repository (upstream repository).\n",
    "\n",
    "### Step 3: Write a Clear PR Description\n",
    "- When creating the PR, provide:\n",
    "    - **Title**: A concise title summarizing the changes.\n",
    "    - **Description**: A detailed explanation of what changes have been made, why they were necessary, and any issues that the PR fixes (e.g., \"Fixes issue #123\").\n",
    "\n",
    "### Step 4: Submit the Pull Request\n",
    "- Once the PR is created, it’s sent to the repository maintainers for review."
   ]
  },
  {
   "cell_type": "markdown",
   "metadata": {},
   "source": [
    "## 3. What Happens After a Pull Request is Created?\n",
    "#### Code Review:\n",
    "- The maintainers or other contributors of the original repository will review the pull request.\n",
    "- They may leave comments, request changes, or directly approve the PR.\n",
    "#### Discussions:\n",
    "- PRs allow for back-and-forth discussions, making it easier to collaborate on changes or clarify any questions.\n",
    "- Contributors can push additional changes to the same branch to address feedback from the reviewers."
   ]
  },
  {
   "cell_type": "markdown",
   "metadata": {},
   "source": [
    "## 4. Merging a Pull Request\n",
    "Once approved, the PR can be merged into the main branch of the original repository.<br> \n",
    "Merging can be done by:\n",
    "- The project maintainers, who approve and merge the changes.\n",
    "- You, if you have permission to merge the changes yourself."
   ]
  },
  {
   "cell_type": "markdown",
   "metadata": {},
   "source": [
    "## 5. Closing a Pull Request\n",
    "- If the changes are no longer needed or relevant, a PR can be closed without merging.\n",
    "- This is useful when changes are obsolete or need significant rework."
   ]
  },
  {
   "cell_type": "markdown",
   "metadata": {},
   "source": [
    "## 6. Merge Conflicts in PRs\n",
    "- Sometimes, the main project may receive updates that conflict with your changes. This leads to merge conflicts, which need to be resolved before the PR can be merged.\n",
    "- GitHub highlights the conflicting sections and allows developers to resolve them locally or through GitHub’s web interface."
   ]
  },
  {
   "cell_type": "markdown",
   "metadata": {},
   "source": [
    "# Branching in GitHub"
   ]
  },
  {
   "cell_type": "markdown",
   "metadata": {},
   "source": [
    "## 1. What is a Branch?\n",
    "A branch is essentially a pointer to a specific snapshot of your project history. You can think of it as a **line of development**. The **default branch** in a Git repository is called **main** or **master**.<br>\n",
    "Branching allows you to **diverge from the main project** and develop **new features** or **fix bugs** **without affecting the main** codebase."
   ]
  },
  {
   "cell_type": "markdown",
   "metadata": {},
   "source": [
    "## 2. Why Use Branches?\n",
    "- **Parallel Development**: Multiple developers can work on different features simultaneously without conflicts.\n",
    "- **Isolation**: You can develop features or fix bugs in isolation, testing them before merging them into the main branch.\n",
    "- **Version Control**: Different versions of a project can live in separate branches (e.g., production branch, feature branch)."
   ]
  },
  {
   "cell_type": "markdown",
   "metadata": {},
   "source": [
    "## 3. How to Create a Branch?\n",
    "On GitHub or locally, you can create a branch using:\n",
    "- Locally (Git).<br>\n",
    "- On GitHub:\n",
    "    - Navigate to the repository.\n",
    "    - Go to the branches dropdown and type a **name** for your new branch, then create it."
   ]
  },
  {
   "cell_type": "markdown",
   "metadata": {},
   "source": [
    "## 4. Naming Conventions for Branches:\n",
    "It’s best to use **meaningful names**:\n",
    "- feature/new-feature-name\n",
    "- bugfix/fix-bug-name\n",
    "- release/version-1.0\n"
   ]
  },
  {
   "cell_type": "markdown",
   "metadata": {},
   "source": [
    "# Merging in GitHub"
   ]
  },
  {
   "cell_type": "markdown",
   "metadata": {},
   "source": [
    "## 1. What is Merging?\n",
    "Merging is the process of **combining changes from one branch into another**. Typically, when you're finished working on a feature in a branch, you merge it into the main branch.<br>\n",
    "Git uses a three-way merge algorithm to combine the changes from different branches."
   ]
  },
  {
   "cell_type": "markdown",
   "metadata": {},
   "source": [
    "## 2. Types of Merges:\n",
    "- **Fast-Forward Merge**:\n",
    "    - If no new commits were made on the target branch (like main), Git simply moves the branch pointer to the head of the feature branch.\n",
    "    - No additional commit is made.\n",
    "- **True Merge (Three-Way Merge)**:\n",
    "    - If both branches have new commits, Git creates a new merge commit that combines both histories.\n",
    "    - You may encounter merge conflicts if both branches modify the same parts of a file."
   ]
  },
  {
   "cell_type": "markdown",
   "metadata": {},
   "source": [
    "## 3. How to Merge Branches?\n",
    "- Locally (Git):<pre>\n",
    "    - git checkout main\n",
    "    - git merge new-feature-branch\n",
    "- On GitHub (Pull Request):\n",
    "    - Create a Pull Request (PR) from your branch into the main branch.\n",
    "    - The team or repository owner reviews the PR, addresses feedback, and merges the changes into the main branch.\n",
    "    - You can merge directly on GitHub with a few clicks once the PR is approved."
   ]
  },
  {
   "cell_type": "markdown",
   "metadata": {},
   "source": [
    "## 4. Merge Conflicts:\n",
    "### What Are Merge Conflicts?\n",
    "These occur when two branches have **modified** the **same line(s) in a file**, and Git cannot automatically merge them.\n",
    "\n",
    "### How to Resolve Merge Conflicts?\n",
    "Git will highlight the conflicting sections within the file.<br>\n",
    "Manually edit the file to keep or modify the necessary changes, and then mark the conflict as resolved:"
   ]
  },
  {
   "cell_type": "markdown",
   "metadata": {},
   "source": [
    "# Branching and Merging Strategies"
   ]
  },
  {
   "cell_type": "markdown",
   "metadata": {},
   "source": [
    "## 1. Feature Branch Workflow:\n",
    "- Each new feature or bug fix is developed in its own branch.\n",
    "- Once complete, a pull request is created to merge it into the **main** branch."
   ]
  },
  {
   "cell_type": "markdown",
   "metadata": {},
   "source": [
    "### 2. GitFlow Workflow:\n",
    "- A more structured branching model:\n",
    "    - **main** for production-ready code.\n",
    "    - **develop** for active development.\n",
    "    - Feature branches (**feature/**), release branches (**release/**), and hotfix branches (**hotfix/**) are used to organize the process of development and releases."
   ]
  },
  {
   "cell_type": "markdown",
   "metadata": {},
   "source": [
    "# Tagging in GitHub"
   ]
  },
  {
   "cell_type": "markdown",
   "metadata": {},
   "source": [
    "## 1. What is Tagging in Git?\n",
    "Tags are named references to specific commits in a Git repository. Unlike branches, which move as new commits are added, tags are fixed points that mark a particular commit in the history.<br>\n",
    "Tags are often used to indicate releases (e.g., v1.0.0, v2.1.0) and are commonly associated with software versioning."
   ]
  },
  {
   "cell_type": "markdown",
   "metadata": {},
   "source": [
    "## 2. Types of Tags\n",
    "- **Lightweight Tags**:\n",
    "    - These are like simple bookmarks to a specific commit.\n",
    "    - They do not contain any additional information other than the commit they point to.\n",
    "    - Lightweight tags are useful for quick references, but they aren't generally used for official releases.\n",
    "- **Annotated Tags**:\n",
    "    - Annotated tags contain a full Git object, including:\n",
    "        - A tag message\n",
    "        - Tagger's name, email, and date\n",
    "        - The commit hash they are pointing to\n",
    "    - Annotated tags are often used for versioning software because they can include release notes and extra metadata.\n"
   ]
  },
  {
   "cell_type": "markdown",
   "metadata": {},
   "source": [
    "## 3. Creating and Managing Tags\n",
    "**Creating a Tag Locally:**\n",
    "- You can create a tag at any point in your Git history.\n",
    "    - Lightweight Tag:<pre>\n",
    "git tag v1.0.0\n",
    "    - Annotated Tag:<pre>\n",
    "git tag -a v1.0.0 -m \"First stable release\"</pre>\n",
    "\n",
    "**Pushing Tags to GitHub:**\n",
    "- After creating a tag locally, it needs to be pushed to the remote repository (GitHub) for it to be visible.<pre>\n",
    "git push origin v1.0.0</pre>\n",
    "\n",
    "**Viewing Tags:**\n",
    "- You can view the list of tags in your repository with:<pre>\n",
    "git tag\n",
    "\n",
    "**Deleting Tags:**\n",
    "- To delete a tag locally:<pre>\n",
    "git tag -d v1.0.0\n",
    "- To delete a tag on the remote repository (GitHub):\n",
    "git push origin --delete v1.0.0\n",
    "\n",
    "**Moving Tags:**\n",
    "- If you create a tag at the wrong commit and need to move it:<pre>\n",
    "git tag -f v1.0.0 new-commit-sha\n",
    "git push origin --force v1.0.0"
   ]
  },
  {
   "cell_type": "markdown",
   "metadata": {},
   "source": [
    "## 4. Tagging Best Practices\n",
    "- Use Annotated Tags for official releases, since they provide additional metadata (like messages and signatures).\n",
    "- Follow Semantic Versioning (**vX.Y.Z**) to indicate the nature of changes in the release:\n",
    "    - **X**: Major release (breaking changes)\n",
    "    - **Y**: Minor release (backwards-compatible new features)\n",
    "    - **Z**: Patch release (backwards-compatible bug fixes)\n",
    "- Always include meaningful messages when creating annotated tags (e.g., \"First stable release\")."
   ]
  },
  {
   "cell_type": "markdown",
   "metadata": {},
   "source": [
    "# Releasing in GitHub"
   ]
  },
  {
   "cell_type": "markdown",
   "metadata": {},
   "source": [
    "## 1. What is a GitHub Release?\n",
    "A release in GitHub is a more formal concept than a tag. While releases are built around Git tags, they allow for additional features such as release notes, download links (assets), and binaries.<br>\n",
    "Releases are typically used to share compiled versions of software or project builds, making them ideal for users who don’t work with the source code directly."
   ]
  },
  {
   "cell_type": "markdown",
   "metadata": {},
   "source": [
    "## 2. How Releases Work\n",
    "- When you create a release on GitHub, you can:\n",
    "    - Attach it to an existing tag or create a new tag on a specific commit.\n",
    "    - Add release notes describing the changes, fixes, and features in that release.\n",
    "    - Upload binary assets (**e.g., .zip, .exe, .jar files**) for users to download."
   ]
  },
  {
   "cell_type": "markdown",
   "metadata": {},
   "source": [
    "## 3. Creating a Release on GitHub\n",
    "- Navigate to the repository on GitHub.\n",
    "- Click on the Releases section (typically found under the repository name).\n",
    "- Click on Draft a new release.\n",
    "- Choose an existing tag or create a new one:\n",
    "    - If no tag exists for the release, GitHub will prompt you to create a tag.\n",
    "- Fill in the details:\n",
    "    - **Title**: The name of the release (e.g., \"Version 1.0.0\").\n",
    "    - **Description**/Release Notes: A detailed summary of what has changed in this release, including fixes, new features, and breaking changes.\n",
    "- Upload any binaries or assets you want to distribute with the release (optional).\n",
    "- Click Publish release.\n",
    "\n",
    "Once published, the release will be visible on the repository's \"Releases\" page, and the tag will point to the associated commit in the project history."
   ]
  },
  {
   "cell_type": "markdown",
   "metadata": {},
   "source": [
    "## 4. Managing Releases\n",
    "- **Editing Releases**:\n",
    "    - You can always go back and edit a release to update its notes or add/remove files. This won’t change the underlying tag.\n",
    "- **Deleting Releases**:\n",
    "    - You can delete a release from the GitHub interface, but this does not automatically delete the associated tag. To delete the tag, you’ll need to manually remove it (both locally and on GitHub)."
   ]
  },
  {
   "cell_type": "markdown",
   "metadata": {},
   "source": [
    "## 5. Attaching Assets to a Release\n",
    "- GitHub allows you to upload additional files (assets) when creating a release.\n",
    "- This is useful when:\n",
    "    - Distributing compiled binaries, packages, or installers.\n",
    "    - Providing example datasets, documentation, or other related files.\n",
    "- To attach assets to a release:\n",
    "    - After creating or editing a release, drag and drop files into the “Attach binaries by dropping them here or selecting them” section."
   ]
  },
  {
   "cell_type": "markdown",
   "metadata": {},
   "source": [
    "## 6. Viewing Release History\n",
    "- You can view a project’s entire release history by navigating to the Releases tab in a GitHub repository.\n",
    "- Each release shows the associated tag, release notes, and downloadable assets (if any)."
   ]
  },
  {
   "cell_type": "markdown",
   "metadata": {},
   "source": [
    "## 7. Drafting Releases\n",
    "- GitHub allows you to draft releases if you aren’t ready to publish them yet.\n",
    "- You can create and save a release draft, then come back later to publish it when it’s complete."
   ]
  },
  {
   "cell_type": "markdown",
   "metadata": {},
   "source": [
    "\n",
    "## 8. Automating Releases\n",
    "- GitHub Actions can be used to automate releases:\n",
    "    - You can set up workflows that automatically create and publish releases when a certain event occurs (like a commit to the main branch or when a tag is created).\n",
    "    - These workflows are useful for CI/CD pipelines, where code is automatically tested, built, and deployed."
   ]
  },
  {
   "cell_type": "markdown",
   "metadata": {},
   "source": [
    "\n",
    "## 9. Using GitHub API for Releases\n",
    "- GitHub provides an API for programmatically managing releases. You can:\n",
    "    - List releases\n",
    "    - Create, edit, or delete releases\n",
    "    - Upload assets to a release\n",
    "    - Manage tags associated with releases\n",
    "\n",
    "This is useful when integrating GitHub releases with other tools, scripts, or services."
   ]
  },
  {
   "cell_type": "markdown",
   "metadata": {},
   "source": [
    "# Archiving in Github"
   ]
  },
  {
   "cell_type": "markdown",
   "metadata": {},
   "source": [
    "- Archiving a repository indicates that the repository is no longer actively maintained or updated.\n",
    "- **Read-only**: After being archived, the repository becomes \"read-only,\" which means:\n",
    "    - No further changes can be made to the repository. You can no longer push code, create issues, or submit pull requests.\n",
    "    - You can still view the code, clone it, and fork it to your own account, but you cannot make modifications to the original repository."
   ]
  },
  {
   "cell_type": "markdown",
   "metadata": {},
   "source": [
    "## Purpose of archiving: "
   ]
  },
  {
   "cell_type": "markdown",
   "metadata": {},
   "source": [
    "Typically, repositories are archived when:\n",
    "\n",
    "- The project is no longer being developed or maintained.\n",
    "- The repository is complete or deprecated.\n",
    "- The owner wants to preserve the project in its current state for historical or reference purposes."
   ]
  },
  {
   "cell_type": "markdown",
   "metadata": {},
   "source": [
    "## Important Notes:\n",
    "- **Archiving** is a way to signal that the project is no longer actively maintained, and it prevents changes to the repository.\n",
    "- **Unarchiving** allows you to restore the repository to an editable state if needed."
   ]
  },
  {
   "cell_type": "markdown",
   "metadata": {},
   "source": [
    "## How to Archive a Repository"
   ]
  },
  {
   "cell_type": "markdown",
   "metadata": {},
   "source": [
    "- **Go to the repository**: Navigate to the repository you want to archive.\n",
    "- **Click on the Settings tab**: This is located on the right side of the repository page, under the repository name.\n",
    "- **Scroll down to the 'Danger Zone'**: In the Settings page, scroll down to the bottom section labeled Danger Zone.\n",
    "- **Click on 'Archive this repository'**:\n",
    "    - You will see an option to Archive this repository.\n",
    "    - This is the option that will make your repository read-only.\n",
    "- **Confirm the action**: You will be prompted to confirm this action. Type in the repository name to confirm and click I understand the consequences, archive this repository.\n",
    "\n",
    "Once archived, the repository will be in read-only mode."
   ]
  },
  {
   "cell_type": "markdown",
   "metadata": {},
   "source": [
    "## How to Unarchive a Repository\n",
    "- **Go to the repository**: Navigate to the archived repository you want to unarchive.\n",
    "- **Click on the Settings tab**: Again, go to the Settings tab of the repository.\n",
    "- **Scroll down to the 'Danger Zone'**: In the same section of the Settings page, you'll see an option for Unarchive this repository.\n",
    "- **Click on 'Unarchive this repository'**:\n",
    "    - This option will restore the repository to its original state, allowing you to make changes again (such as pushing code, creating issues, or making pull requests).\n",
    "- **Confirm the action**: You will need to confirm the action by clicking the confirmation button.\n",
    "\n",
    "Once unarchived, your repository will no longer be in read-only mode and you can interact with it normally."
   ]
  },
  {
   "cell_type": "markdown",
   "metadata": {},
   "source": [
    "# Sources\n",
    "- <a href=\"https://www.youtube.com/playlist?list=PLDoPjvoNmBAw4eOj58MZPakHjaO3frVMF\">Learn Git and Github by Elzero Web School</a>"
   ]
  },
  {
   "cell_type": "markdown",
   "metadata": {},
   "source": []
  }
 ],
 "metadata": {
  "language_info": {
   "name": "python"
  }
 },
 "nbformat": 4,
 "nbformat_minor": 2
}
