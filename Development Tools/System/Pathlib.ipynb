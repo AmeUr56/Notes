{
 "cells": [
  {
   "cell_type": "markdown",
   "metadata": {},
   "source": [
    "# 1. Introdution"
   ]
  },
  {
   "cell_type": "markdown",
   "metadata": {},
   "source": [
    "### Pathlib: A Modern Approach to File Paths\n",
    "pathlib module offers a more intuitive and object-oriented approach to working with file paths compared to the **traditional os.path** module. By representing file paths as objects, pathlib simplifies common file system operations and provides a cleaner syntax.\n"
   ]
  },
  {
   "cell_type": "markdown",
   "metadata": {},
   "source": [
    "### Key Differences Between pathlib and os.path:"
   ]
  },
  {
   "cell_type": "markdown",
   "metadata": {},
   "source": [
    "#### Object-Oriented Approach:\n",
    "- Treats file paths as objects, allowing you to use methods like **exists()**, **is_dir()**, **mkdir()**, etc., directly on path objects.\n",
    "- **os.path** often requires using functions like os.path.exists(), os.path.isdir(), etc.\n",
    "\n",
    "#### Path Manipulation:\n",
    "- Provides convenient methods for combining paths, resolving absolute paths, and manipulating path components.\n",
    "- **os.path** often requires manual string concatenation and manipulation.\n",
    "\n",
    "#### Cross-Platform Compatibility:\n",
    "- Designed to work consistently across different operating systems, handling platform-specific path separators and conventions.\n",
    "- **os.path** may require platform-specific code for certain operations."
   ]
  },
  {
   "cell_type": "markdown",
   "metadata": {},
   "source": [
    "# 2. Creating Path Objects"
   ]
  },
  {
   "cell_type": "markdown",
   "metadata": {},
   "source": [
    "## 2.1 Absolute and Relative Paths\n",
    "A Path object can represent either an absolute or a relative path:"
   ]
  },
  {
   "cell_type": "code",
   "execution_count": null,
   "metadata": {},
   "outputs": [],
   "source": [
    "from pathlib import Path\n",
    "\n",
    "# Create a Path object\n",
    "path = Path(\"/home/user/documents\")  # Absolute path\n",
    "relative_path = Path(\"documents\")    # Relative path"
   ]
  },
  {
   "cell_type": "markdown",
   "metadata": {},
   "source": [
    "## 2.2 Current Directory\n",
    "To represent the current working directory:"
   ]
  },
  {
   "cell_type": "code",
   "execution_count": null,
   "metadata": {},
   "outputs": [],
   "source": [
    "cwd = Path.cwd()\n",
    "print(cwd)  # Outputs the current working directory"
   ]
  },
  {
   "cell_type": "markdown",
   "metadata": {},
   "source": [
    "## 2.3 Home Directory\n",
    "To get the user's home directory:\n"
   ]
  },
  {
   "cell_type": "code",
   "execution_count": null,
   "metadata": {},
   "outputs": [],
   "source": [
    "home = Path.home()\n",
    "print(home)  # Outputs the user's home directory"
   ]
  },
  {
   "cell_type": "markdown",
   "metadata": {},
   "source": [
    "# 3. Basic Path Operations"
   ]
  },
  {
   "cell_type": "markdown",
   "metadata": {},
   "source": [
    "## 3.1 Joining Paths\n",
    "Paths can be joined using the / operator:"
   ]
  },
  {
   "cell_type": "code",
   "execution_count": null,
   "metadata": {},
   "outputs": [],
   "source": [
    "base_path = Path(\"/home/user\")\n",
    "new_path = base_path / \"documents\" / \"file.txt\"\n",
    "print(new_path)  # /home/user/documents/file.txt"
   ]
  },
  {
   "cell_type": "markdown",
   "metadata": {},
   "source": [
    "## 3.2 Accessing Parts of a Path\n",
    "You can access different components of a path:"
   ]
  },
  {
   "cell_type": "code",
   "execution_count": null,
   "metadata": {},
   "outputs": [],
   "source": [
    "path = Path(\"/home/user/documents/file.txt\")\n",
    "\n",
    "print(path.name)       # file.txt\n",
    "print(path.stem)       # file\n",
    "print(path.suffix)     # .txt\n",
    "print(path.parent)     # /home/user/documents\n",
    "print(path.parts)      # ('/', 'home', 'user', 'documents', 'file.txt')"
   ]
  },
  {
   "cell_type": "markdown",
   "metadata": {},
   "source": [
    "## 3.3 Checking Path Properties"
   ]
  },
  {
   "cell_type": "code",
   "execution_count": null,
   "metadata": {},
   "outputs": [],
   "source": [
    "path = Path(\"/home/user/documents/file.txt\")\n",
    "\n",
    "print(path.is_absolute())  # True if the path is absolute\n",
    "print(path.exists())       # True if the path exists\n",
    "print(path.is_file())      # True if it's a file\n",
    "print(path.is_dir())       # True if it's a directory"
   ]
  },
  {
   "cell_type": "markdown",
   "metadata": {},
   "source": [
    "# 4. Directory and File Operations"
   ]
  },
  {
   "cell_type": "markdown",
   "metadata": {},
   "source": [
    "## 4.1 Creating Directories"
   ]
  },
  {
   "cell_type": "code",
   "execution_count": null,
   "metadata": {},
   "outputs": [],
   "source": [
    "# Create a single directory\n",
    "Path(\"new_directory\").mkdir()\n",
    "\n",
    "# Create parent directories as needed\n",
    "Path(\"nested/dir/structure\").mkdir(parents=True, exist_ok=True)"
   ]
  },
  {
   "cell_type": "markdown",
   "metadata": {},
   "source": [
    "## 4.2 Iterating Over a Directory"
   ]
  },
  {
   "cell_type": "code",
   "execution_count": null,
   "metadata": {},
   "outputs": [],
   "source": [
    "path = Path(\"/home/user/documents\")\n",
    "\n",
    "for item in path.iterdir():\n",
    "    print(item)  # Lists files and directories"
   ]
  },
  {
   "cell_type": "markdown",
   "metadata": {},
   "source": [
    "## 4.3 Listing Files Recursively"
   ]
  },
  {
   "cell_type": "code",
   "execution_count": null,
   "metadata": {},
   "outputs": [],
   "source": [
    "path = Path(\"/home/user/documents\")\n",
    "\n",
    "# List all files recursively\n",
    "for item in path.rglob(\"*\"):\n",
    "    print(item)"
   ]
  },
  {
   "cell_type": "markdown",
   "metadata": {},
   "source": [
    "## 4.4 Removing Files and Directories"
   ]
  },
  {
   "cell_type": "code",
   "execution_count": null,
   "metadata": {},
   "outputs": [],
   "source": [
    "# Remove a file\n",
    "Path(\"file_to_delete.txt\").unlink()\n",
    "\n",
    "# Remove an empty directory\n",
    "Path(\"empty_directory\").rmdir()"
   ]
  },
  {
   "cell_type": "markdown",
   "metadata": {},
   "source": [
    "# 5. File Handling"
   ]
  },
  {
   "cell_type": "markdown",
   "metadata": {},
   "source": [
    "## 5.1 Reading Files"
   ]
  },
  {
   "cell_type": "code",
   "execution_count": null,
   "metadata": {},
   "outputs": [],
   "source": [
    "file_path = Path(\"example.txt\")\n",
    "\n",
    "# Read the entire file\n",
    "content = file_path.read_text()\n",
    "print(content)"
   ]
  },
  {
   "cell_type": "markdown",
   "metadata": {},
   "source": [
    "## 5.2 Writing to Files"
   ]
  },
  {
   "cell_type": "code",
   "execution_count": null,
   "metadata": {},
   "outputs": [],
   "source": [
    "file_path = Path(\"example.txt\")\n",
    "\n",
    "# Write to a file\n",
    "file_path.write_text(\"Hello, Pathlib!\")"
   ]
  },
  {
   "cell_type": "markdown",
   "metadata": {},
   "source": [
    "## 5.3 Appending to Files\n",
    "pathlib does not have a direct method for appending, but you can use open():"
   ]
  },
  {
   "cell_type": "code",
   "execution_count": null,
   "metadata": {},
   "outputs": [],
   "source": [
    "with file_path.open(\"a\") as file:\n",
    "    file.write(\"\\nAdditional line.\")"
   ]
  },
  {
   "cell_type": "markdown",
   "metadata": {},
   "source": [
    "# 7. Path Comparisons"
   ]
  },
  {
   "cell_type": "markdown",
   "metadata": {},
   "source": [
    "## 7.1 Comparing Paths\n",
    "Paths can be compared using standard comparison operators:"
   ]
  },
  {
   "cell_type": "code",
   "execution_count": null,
   "metadata": {},
   "outputs": [],
   "source": [
    "path1 = Path(\"/home/user/documents\")\n",
    "path2 = Path(\"/home/user/documents\")\n",
    "\n",
    "print(path1 == path2)  # True"
   ]
  },
  {
   "cell_type": "markdown",
   "metadata": {},
   "source": [
    "## 7.2 Checking Subpaths"
   ]
  },
  {
   "cell_type": "code",
   "execution_count": null,
   "metadata": {},
   "outputs": [],
   "source": [
    "base = Path(\"/home/user\")\n",
    "sub = Path(\"/home/user/documents/file.txt\")\n",
    "\n",
    "print(sub.is_relative_to(base))  # True in Python 3.9+"
   ]
  },
  {
   "cell_type": "markdown",
   "metadata": {},
   "source": [
    "# Sources\n",
    "- <a href=\"https://www.youtube.com/watch?v=yxa-DJuuTBI&ab_channel=CoreySchafer\">Python Tutorial: Pathlib - The Modern Way to Handle File Paths by **Corey Schafer**</a> "
   ]
  },
  {
   "cell_type": "markdown",
   "metadata": {},
   "source": []
  }
 ],
 "metadata": {
  "kernelspec": {
   "display_name": "base",
   "language": "python",
   "name": "python3"
  },
  "language_info": {
   "codemirror_mode": {
    "name": "ipython",
    "version": 3
   },
   "file_extension": ".py",
   "mimetype": "text/x-python",
   "name": "python",
   "nbconvert_exporter": "python",
   "pygments_lexer": "ipython3",
   "version": "3.11.7"
  }
 },
 "nbformat": 4,
 "nbformat_minor": 2
}
