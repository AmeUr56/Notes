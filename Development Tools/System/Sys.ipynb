{
 "cells": [
  {
   "cell_type": "markdown",
   "metadata": {},
   "source": [
    "# 1. Introduction"
   ]
  },
  {
   "cell_type": "markdown",
   "metadata": {},
   "source": [
    "## What is Sys"
   ]
  },
  {
   "cell_type": "markdown",
   "metadata": {},
   "source": [
    "The sys module in Python provides access to variables and functions maintained by the interpreter. It allows you to interact with the Python runtime environment, manage input/output streams, and control program behavior."
   ]
  },
  {
   "cell_type": "markdown",
   "metadata": {},
   "source": [
    "## Uses of Sys"
   ]
  },
  {
   "cell_type": "markdown",
   "metadata": {},
   "source": [
    "### 1. Accessing System Parameters:\n",
    "- **sys.argv**: A list of command-line arguments passed to the script.\n",
    "- **sys.platform**: The platform identifier (e.g., 'win32', 'linux', 'darwin').\n",
    "- **sys.version**: The Python version information.\n",
    "\n",
    "### 2. Exiting the Script:\n",
    "- **sys.exit()**: Terminates the script immediately.\n",
    "\n",
    "### 3. Interacting with the Standard Input/Output Streams:\n",
    "- **sys.stdin**: The standard input stream.\n",
    "- **sys.stdout**: The standard output stream.\n",
    "- **sys.stderr**: The standard error stream.\n",
    "\n",
    "### 4. Getting Information About the Python Interpreter:\n",
    "- **sys.path**: A list of directories that Python searches for modules.\n",
    "- **sys.modules**: A dictionary of all imported modules."
   ]
  },
  {
   "cell_type": "markdown",
   "metadata": {},
   "source": [
    "# 2. Accessing System Parameters:"
   ]
  },
  {
   "cell_type": "markdown",
   "metadata": {},
   "source": [
    "## 2.1 sys.argv\n",
    "This is a list of command-line arguments passed to the script. The first argument (sys.argv[0]) is usually the script name itself."
   ]
  },
  {
   "cell_type": "code",
   "execution_count": null,
   "metadata": {},
   "outputs": [],
   "source": [
    "import sys\n",
    "\n",
    "print(\"Script name:\", sys.argv[0])\n",
    "print(\"Arguments:\", sys.argv[1:])"
   ]
  },
  {
   "cell_type": "markdown",
   "metadata": {},
   "source": [
    "## 2.2 sys.platform\n",
    "This string indicates the platform Python is running on (e.g., 'win32', 'linux', 'darwin')."
   ]
  },
  {
   "cell_type": "code",
   "execution_count": null,
   "metadata": {},
   "outputs": [],
   "source": [
    "import sys\n",
    "\n",
    "print(\"Platform:\", sys.platform)"
   ]
  },
  {
   "cell_type": "markdown",
   "metadata": {},
   "source": [
    "# 2.3 sys.version\n",
    "This string contains information about the Python version."
   ]
  },
  {
   "cell_type": "code",
   "execution_count": null,
   "metadata": {},
   "outputs": [],
   "source": [
    "import sys\n",
    "\n",
    "print(\"Python version:\", sys.version)"
   ]
  },
  {
   "cell_type": "markdown",
   "metadata": {},
   "source": [
    "# 3. Exiting the Script:\n",
    "**sys.exit()**: This function terminates the Python script immediately. You can optionally pass an exit status code as an argument."
   ]
  },
  {
   "cell_type": "code",
   "execution_count": null,
   "metadata": {},
   "outputs": [],
   "source": [
    "import sys\n",
    "\n",
    "some_condition = \"1\" in \"54d1\"\n",
    "if some_condition:\n",
    "    sys.exit(\"Error occurred\")"
   ]
  },
  {
   "cell_type": "markdown",
   "metadata": {},
   "source": [
    "# 4. Interacting with Standard Input/Output Streams:\n",
    "\n",
    "- **sys.stdin**: This object represents the standard input stream.\n",
    "- **sys.stdout**: This object represents the standard output stream.\n",
    "- **sys.stderr**: This object represents the standard error stream.\n",
    "\n",
    "You can use these objects to read input from the user, print output to the console, and handle errors."
   ]
  },
  {
   "cell_type": "markdown",
   "metadata": {},
   "source": [
    "# 5. Manipulating the Python Path:\n",
    "- **sys.path**: This list contains the directories Python searches for modules. You can modify this list to add custom paths."
   ]
  },
  {
   "cell_type": "code",
   "execution_count": null,
   "metadata": {},
   "outputs": [],
   "source": [
    "import sys\n",
    "\n",
    "sys.path.append('/path/to/my/modules')"
   ]
  },
  {
   "cell_type": "markdown",
   "metadata": {},
   "source": [
    "# 6. Getting Information About the Interpreter:\n",
    "**sys.modules**: This dictionary contains information about all imported modules."
   ]
  }
 ],
 "metadata": {
  "language_info": {
   "name": "python"
  }
 },
 "nbformat": 4,
 "nbformat_minor": 2
}
