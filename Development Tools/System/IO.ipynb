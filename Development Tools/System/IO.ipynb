{
 "cells": [
  {
   "cell_type": "markdown",
   "metadata": {},
   "source": [
    "# Introduction"
   ]
  },
  {
   "cell_type": "markdown",
   "metadata": {},
   "source": [
    "Provides the core tools for working with streams—text streams, binary streams, and raw I/O."
   ]
  },
  {
   "cell_type": "markdown",
   "metadata": {},
   "source": [
    "## Key Features of the io Library:\n",
    "- **Text I/O**: For reading and writing text data.\n",
    "- **Binary I/O**: For reading and writing binary data.\n",
    "- **Raw I/O**: For low-level binary data handling."
   ]
  },
  {
   "cell_type": "markdown",
   "metadata": {},
   "source": [
    "## Data streams\n",
    "refer to the **continuous flow of data** that can be read from or written to, in a sequential manner. Think of it like a river of data that you can either dip into to fetch some data (**reading**) or pour data into (**writing**). Here’s a bit more detail:"
   ]
  },
  {
   "cell_type": "markdown",
   "metadata": {},
   "source": [
    "### Types of Data Streams\n",
    "- **Input Streams**: These are used for reading data from a source. For example, reading data from a file, network socket, or keyboard input.\n",
    "- **Output Streams**: These are used for writing data to a destination. For example, writing data to a file, network socket, or display."
   ]
  },
  {
   "cell_type": "markdown",
   "metadata": {},
   "source": [
    "### Why Use Data Streams?\n",
    "- **Efficiency**: Streams handle data in chunks, which can be more memory-efficient than loading large datasets into memory at once.\n",
    "- **Real-time Data Handling**: Streams allow for real-time processing of data as it arrives, which is crucial for applications like video streaming, live analytics, and more.\n",
    "- **Modularity**: Streams can be easily chained or pipelined together to create complex data processing workflows."
   ]
  },
  {
   "cell_type": "markdown",
   "metadata": {},
   "source": [
    "#### Examples\n",
    "- **File I/O Streams**\n",
    "In Python, you often use streams when working with files:"
   ]
  },
  {
   "cell_type": "code",
   "execution_count": null,
   "metadata": {},
   "outputs": [],
   "source": [
    "# Reading from a file (input stream)\n",
    "with open('example.txt', 'r') as file:\n",
    "    content = file.read()\n",
    "    print(content)\n",
    "\n",
    "# Writing to a file (output stream)\n",
    "with open('output.txt', 'w') as file:\n",
    "    file.write(\"Hello, World!\")"
   ]
  },
  {
   "cell_type": "markdown",
   "metadata": {},
   "source": [
    "# Text I/O\n",
    "Text I/O deals with character data and encodings. The io.StringIO class is used for in-memory text streams.\n",
    "\n",
    "### Example:"
   ]
  },
  {
   "cell_type": "code",
   "execution_count": null,
   "metadata": {},
   "outputs": [],
   "source": [
    "import io\n",
    "\n",
    "# Create an in-memory text stream\n",
    "text_stream = io.StringIO()\n",
    "\n",
    "# Write text to the stream\n",
    "text_stream.write(\"Hello, World!\\n\")\n",
    "text_stream.write(\"This is a test.\")\n",
    "\n",
    "# Read from the beginning\n",
    "text_stream.seek(0)\n",
    "print(text_stream.read())\n",
    "\n",
    "# Close the stream\n",
    "text_stream.close()"
   ]
  },
  {
   "cell_type": "markdown",
   "metadata": {},
   "source": [
    "# Binary I/O\n",
    "Binary I/O deals with binary data. The io.BytesIO class is used for in-memory binary streams.\n",
    "\n",
    "### Example:"
   ]
  },
  {
   "cell_type": "code",
   "execution_count": null,
   "metadata": {},
   "outputs": [],
   "source": [
    "import io\n",
    "\n",
    "# Create an in-memory binary stream\n",
    "binary_stream = io.BytesIO()\n",
    "\n",
    "# Write binary data to the stream\n",
    "binary_stream.write(b\"Hello, World!\\n\")\n",
    "binary_stream.write(b\"This is a test.\")\n",
    "\n",
    "# Read from the beginning\n",
    "binary_stream.seek(0)\n",
    "print(binary_stream.read())\n",
    "\n",
    "# Close the stream\n",
    "binary_stream.close()"
   ]
  },
  {
   "cell_type": "markdown",
   "metadata": {},
   "source": [
    "# Raw I/O\n",
    "Raw I/O provides the lowest-level interface to the underlying OS's I/O system. The io.FileIO class is used for reading and writing to file descriptors.\n",
    "\n",
    "### Example:"
   ]
  },
  {
   "cell_type": "code",
   "execution_count": null,
   "metadata": {},
   "outputs": [],
   "source": [
    "import io\n",
    "\n",
    "# Open a file for reading and writing in binary mode\n",
    "with io.FileIO('example.bin', 'w+b') as file:\n",
    "    # Write binary data to the file\n",
    "    file.write(b\"Hello, World!\")\n",
    "    \n",
    "    # Move to the beginning of the file\n",
    "    file.seek(0)\n",
    "    \n",
    "    # Read the content of the file\n",
    "    print(file.read())"
   ]
  },
  {
   "cell_type": "markdown",
   "metadata": {},
   "source": [
    "# Common Use Cases:\n",
    "- **In-Memory Operations**: Using StringIO and BytesIO for temporary storage of data.\n",
    "- **Efficient File Handling**: Using FileIO for direct file operations.\n",
    "- **Text and Binary Data Handling**: Reading and writing both types of data efficiently."
   ]
  }
 ],
 "metadata": {
  "language_info": {
   "name": "python"
  }
 },
 "nbformat": 4,
 "nbformat_minor": 2
}
