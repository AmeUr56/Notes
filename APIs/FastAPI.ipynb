{
 "cells": [
  {
   "cell_type": "markdown",
   "metadata": {},
   "source": [
    "# Setting Up the Environment"
   ]
  },
  {
   "cell_type": "markdown",
   "metadata": {},
   "source": [
    "- Install FastAPI and Uvicorn<br>\n",
    "FastAPI itself is only the framework. Uvicorn is an ASGI server to serve FastAPI apps."
   ]
  },
  {
   "cell_type": "code",
   "execution_count": null,
   "metadata": {
    "vscode": {
     "languageId": "powershell"
    }
   },
   "outputs": [],
   "source": [
    "pip install fastapi uvicorn"
   ]
  },
  {
   "cell_type": "markdown",
   "metadata": {},
   "source": [
    "# Build First FastAPI Application"
   ]
  },
  {
   "cell_type": "markdown",
   "metadata": {},
   "source": [
    "### Create a File main.py"
   ]
  },
  {
   "cell_type": "code",
   "execution_count": null,
   "metadata": {},
   "outputs": [],
   "source": [
    "from fastapi import FastAPI\n",
    "\n",
    "# Create a FastAPI instance\n",
    "app = FastAPI()\n",
    "\n",
    "# Define a root endpoint\n",
    "@app.get(\"/\")\n",
    "def read_root():\n",
    "    return {\"message\": \"Welcome to FastAPI!\"}\n",
    "\n",
    "# Define an endpoint with a path parameter and optional query parameter\n",
    "@app.get(\"/items/{item_id}\")\n",
    "def read_item(item_id: int, q: str = None):\n",
    "    return {\"item_id\": item_id, \"query\": q}"
   ]
  },
  {
   "cell_type": "markdown",
   "metadata": {},
   "source": [
    "### Run the Server"
   ]
  },
  {
   "cell_type": "code",
   "execution_count": null,
   "metadata": {
    "vscode": {
     "languageId": "powershell"
    }
   },
   "outputs": [],
   "source": [
    "uvicorn main:app --reload"
   ]
  },
  {
   "cell_type": "markdown",
   "metadata": {},
   "source": [
    "### Explanation:\n",
    "- **uvicorn main:app** tells Uvicorn to run the app instance from the main.py file.\n",
    "\n",
    "- **--reload** enables automatic reloading when you make code changes.\n",
    "\n",
    "- Open your browser and navigate to:\n",
    "\n",
    "Swagger UI: http://127.0.0.1:8000/docs\n",
    "\n",
    "ReDoc: http://127.0.0.1:8000/redoc"
   ]
  },
  {
   "cell_type": "markdown",
   "metadata": {},
   "source": [
    "# HTTP Method Decorators"
   ]
  },
  {
   "cell_type": "markdown",
   "metadata": {},
   "source": [
    "### @app.get()\n",
    "- Handles HTTP GET requests.\n",
    "- Used to retrieve data."
   ]
  },
  {
   "cell_type": "code",
   "execution_count": null,
   "metadata": {},
   "outputs": [],
   "source": [
    "@app.get(\"/items/\")\n",
    "def read_items():\n",
    "    return {\"message\": \"GET request\"}"
   ]
  },
  {
   "cell_type": "markdown",
   "metadata": {},
   "source": [
    "### @app.post()\n",
    "- Handles HTTP POST requests.\n",
    "- Used to create new resources or submit data."
   ]
  },
  {
   "cell_type": "code",
   "execution_count": null,
   "metadata": {},
   "outputs": [],
   "source": [
    "@app.post(\"/items/\")\n",
    "def create_item(item: dict):\n",
    "    return {\"message\": \"POST request\", \"item\": item}"
   ]
  },
  {
   "cell_type": "markdown",
   "metadata": {},
   "source": [
    "### @app.put()\n",
    "- Handles HTTP PUT requests.\n",
    "- Used to update existing resources."
   ]
  },
  {
   "cell_type": "code",
   "execution_count": null,
   "metadata": {},
   "outputs": [],
   "source": [
    "@app.put(\"/items/{item_id}\")\n",
    "def update_item(item_id: int, item: dict):\n",
    "    return {\"message\": f\"PUT request for item {item_id}\", \"item\": item}"
   ]
  },
  {
   "cell_type": "markdown",
   "metadata": {},
   "source": [
    "### @app.patch()\n",
    "- Handles HTTP PATCH requests.\n",
    "- Used for partial updates of resources."
   ]
  },
  {
   "cell_type": "code",
   "execution_count": null,
   "metadata": {},
   "outputs": [],
   "source": [
    "@app.patch(\"/items/{item_id}\")\n",
    "def partial_update_item(item_id: int, item: dict):\n",
    "    return {\"message\": f\"PATCH request for item {item_id}\", \"updates\": item}"
   ]
  },
  {
   "cell_type": "markdown",
   "metadata": {},
   "source": [
    "### @app.delete()\n",
    "- Handles HTTP DELETE requests.\n",
    "- Used to delete a resource."
   ]
  },
  {
   "cell_type": "code",
   "execution_count": null,
   "metadata": {},
   "outputs": [],
   "source": [
    "@app.delete(\"/items/{item_id}\")\n",
    "def delete_item(item_id: int):\n",
    "    return {\"message\": f\"DELETE request for item {item_id}\"}"
   ]
  },
  {
   "cell_type": "markdown",
   "metadata": {},
   "source": [
    "### @app.options()\n",
    "- Handles HTTP OPTIONS requests.\n",
    "- Used to describe available methods and operations for a resource."
   ]
  },
  {
   "cell_type": "code",
   "execution_count": null,
   "metadata": {},
   "outputs": [],
   "source": [
    "@app.options(\"/items/\")\n",
    "def options_items():\n",
    "    return {\"message\": \"OPTIONS request\"}"
   ]
  },
  {
   "cell_type": "markdown",
   "metadata": {},
   "source": [
    "### @app.head()\n",
    "- Handles HTTP HEAD requests.\n",
    "- Similar to GET but returns only headers, no body."
   ]
  },
  {
   "cell_type": "code",
   "execution_count": null,
   "metadata": {},
   "outputs": [],
   "source": [
    "@app.head(\"/items/\")\n",
    "def head_items():\n",
    "    return {\"message\": \"HEAD request\"}"
   ]
  },
  {
   "cell_type": "markdown",
   "metadata": {},
   "source": [
    "### @app.trace()\n",
    "- Handles HTTP TRACE requests.\n",
    "- Used for diagnostic purposes to trace how a request is processed."
   ]
  },
  {
   "cell_type": "code",
   "execution_count": null,
   "metadata": {},
   "outputs": [],
   "source": [
    "@app.trace(\"/items/\")\n",
    "def trace_items():\n",
    "    return {\"message\": \"TRACE request\"}"
   ]
  },
  {
   "cell_type": "markdown",
   "metadata": {},
   "source": [
    "## Additional Routing Features"
   ]
  },
  {
   "cell_type": "markdown",
   "metadata": {},
   "source": [
    "### Combine Multiple HTTP Methods\n",
    "Use methods argument to handle multiple methods in one route."
   ]
  },
  {
   "cell_type": "code",
   "execution_count": null,
   "metadata": {},
   "outputs": [],
   "source": [
    "@app.api_route(\"/items/\", methods=[\"GET\", \"POST\"])\n",
    "def handle_items():\n",
    "    return {\"message\": \"GET or POST request\"}"
   ]
  },
  {
   "cell_type": "markdown",
   "metadata": {},
   "source": [
    "### Include Metadata\n",
    "Add summary and description to document the route in OpenAPI."
   ]
  },
  {
   "cell_type": "code",
   "execution_count": null,
   "metadata": {
    "vscode": {
     "languageId": "powershell"
    }
   },
   "outputs": [],
   "source": [
    "@app.get(\"/items/\", summary=\"Retrieve items\", description=\"Fetches all items from the database.\")\n",
    "def read_items():\n",
    "    return {\"message\": \"GET request\"}"
   ]
  },
  {
   "cell_type": "markdown",
   "metadata": {},
   "source": [
    "### Tags\n",
    "Group routes together with tags for better documentation."
   ]
  },
  {
   "cell_type": "code",
   "execution_count": null,
   "metadata": {
    "vscode": {
     "languageId": "powershell"
    }
   },
   "outputs": [],
   "source": [
    "@app.get(\"/users/\", tags=[\"Users\"])\n",
    "def get_users():\n",
    "    return {\"message\": \"List of users\"}"
   ]
  },
  {
   "cell_type": "markdown",
   "metadata": {},
   "source": [
    "## @app.on_event Decorators"
   ]
  },
  {
   "cell_type": "markdown",
   "metadata": {},
   "source": [
    "The **@app.on_event** decorator is used to execute specific actions during **startup** or **shutdown** events of the FastAPI application. This is useful for tasks like connecting to a database, setting up caches, or closing resources."
   ]
  },
  {
   "cell_type": "markdown",
   "metadata": {},
   "source": [
    "Is intended to define global startup logic for the entire application, not individual routes.<br>\n",
    "If you try to define multiple startup functions, they will all run when the application starts."
   ]
  },
  {
   "cell_type": "markdown",
   "metadata": {},
   "source": [
    "### Startup Event\n",
    "The startup event is triggered when the FastAPI app starts running. This is often used for:\n",
    "\n",
    "- Connecting to a database\n",
    "- Initializing background tasks\n",
    "- Preloading data or resources into memory"
   ]
  },
  {
   "cell_type": "markdown",
   "metadata": {},
   "source": [
    "#### Example:"
   ]
  },
  {
   "cell_type": "code",
   "execution_count": null,
   "metadata": {},
   "outputs": [],
   "source": [
    "from fastapi import FastAPI\n",
    "\n",
    "app = FastAPI()\n",
    "\n",
    "@app.on_event(\"startup\")\n",
    "async def startup_event():\n",
    "    print(\"Application is starting up...\")\n",
    "    # Example: Connect to database\n",
    "    # await database.connect()"
   ]
  },
  {
   "cell_type": "markdown",
   "metadata": {},
   "source": [
    "### Shutdown Event\n",
    "The shutdown event is triggered when the FastAPI app stops running. This is often used for:\n",
    "\n",
    "- Closing database connections\n",
    "- Cleaning up resources\n",
    "- Saving any final logs or states\n",
    "\n",
    "#### Example:"
   ]
  },
  {
   "cell_type": "code",
   "execution_count": null,
   "metadata": {},
   "outputs": [],
   "source": [
    "@app.on_event(\"shutdown\")\n",
    "async def shutdown_event():\n",
    "    print(\"Application is shutting down...\")\n",
    "    # Example: Disconnect from database\n",
    "    # await database.disconnect()"
   ]
  },
  {
   "cell_type": "markdown",
   "metadata": {},
   "source": [
    "# Path Parameters and Query Parameters"
   ]
  },
  {
   "cell_type": "markdown",
   "metadata": {},
   "source": [
    "FastAPI supports path and query parameters seamlessly.\n",
    "### Example:"
   ]
  },
  {
   "cell_type": "code",
   "execution_count": null,
   "metadata": {},
   "outputs": [],
   "source": [
    "# Path parameter example\n",
    "@app.get(\"/users/{user_id}\")\n",
    "def get_user(user_id: int):\n",
    "    return {\"user_id\": user_id}\n",
    "\n",
    "# Query parameter example\n",
    "@app.get(\"/search\")\n",
    "def search_items(keyword: str, limit: int = 10):\n",
    "    return {\"keyword\": keyword, \"limit\": limit}"
   ]
  },
  {
   "cell_type": "markdown",
   "metadata": {},
   "source": [
    "### Explanation:\n",
    "- **user_id** is a path parameter that must be included in the URL.\n",
    "- **keyword** and **limit** are query parameters, and limit has a default value of 10."
   ]
  },
  {
   "cell_type": "markdown",
   "metadata": {},
   "source": [
    "<table border=\"1\">\n",
    "  <thead>\n",
    "    <tr>\n",
    "      <th>Aspect</th>\n",
    "      <th>Path Parameter</th>\n",
    "      <th>Query Parameter</th>\n",
    "    </tr>\n",
    "  </thead>\n",
    "  <tbody>\n",
    "    <tr>\n",
    "      <td><strong>Location</strong></td>\n",
    "      <td>Part of the URL path (e.g., /users/42)</td>\n",
    "      <td>Part of the query string (e.g., ?key=value)</td>\n",
    "    </tr>\n",
    "    <tr>\n",
    "      <td><strong>Usage</strong></td>\n",
    "      <td>Identifies a specific resource (e.g., user_id)</td>\n",
    "      <td>Used for filtering, searching, or passing optional data (e.g., limit, keyword)</td>\n",
    "    </tr>\n",
    "    <tr>\n",
    "      <td><strong>Mandatory/Optional</strong></td>\n",
    "      <td>Always mandatory</td>\n",
    "      <td>Can be optional or have default values</td>\n",
    "    </tr>\n",
    "    <tr>\n",
    "      <td><strong>Parsing</strong></td>\n",
    "      <td>Extracted from the URL path</td>\n",
    "      <td>Extracted from the query string after `?`</td>\n",
    "    </tr>\n",
    "    <tr>\n",
    "      <td><strong>Example</strong></td>\n",
    "      <td>/users/{user_id}</td>\n",
    "      <td>/search?keyword=fastapi&limit=10</td>\n",
    "    </tr>\n",
    "    <tr>\n",
    "      <td><strong>Purpose</strong></td>\n",
    "      <td>To identify a specific entity or resource</td>\n",
    "      <td>To customize, filter, or control the behavior of the request</td>\n",
    "    </tr>\n",
    "  </tbody>\n",
    "</table>"
   ]
  },
  {
   "cell_type": "markdown",
   "metadata": {},
   "source": [
    "# Request and Response Models"
   ]
  },
  {
   "cell_type": "markdown",
   "metadata": {},
   "source": [
    "Use Pydantic models to define request and response schemas.\n",
    "\n",
    "### Example:"
   ]
  },
  {
   "cell_type": "code",
   "execution_count": null,
   "metadata": {},
   "outputs": [],
   "source": [
    "from pydantic import BaseModel\n",
    "\n",
    "# Define a Pydantic model for the request body\n",
    "class Item(BaseModel):\n",
    "    name: str\n",
    "    description: str = None\n",
    "    price: float\n",
    "    tax: float = None\n",
    "\n",
    "# Use the model in an endpoint\n",
    "@app.post(\"/items/\")\n",
    "def create_item(item: Item):\n",
    "    total_price = item.price + (item.tax or 0)\n",
    "    return {\"item\": item, \"total_price\": total_price}"
   ]
  },
  {
   "cell_type": "markdown",
   "metadata": {},
   "source": [
    "### Explanation:\n",
    "- The Item model defines the expected structure of the request body.\n",
    "- FastAPI automatically validates the request and generates API documentation."
   ]
  },
  {
   "cell_type": "markdown",
   "metadata": {},
   "source": [
    "# Handling Validation"
   ]
  },
  {
   "cell_type": "markdown",
   "metadata": {},
   "source": [
    "FastAPI validates data automatically using Pydantic models and type hints.\n",
    "\n",
    "### Example:"
   ]
  },
  {
   "cell_type": "code",
   "execution_count": null,
   "metadata": {},
   "outputs": [],
   "source": [
    "@app.get(\"/validate/{age}\")\n",
    "def validate_age(age: int):\n",
    "    if age < 18:\n",
    "        return {\"error\": \"Underage\"}\n",
    "    return {\"message\": \"Allowed\"}"
   ]
  },
  {
   "cell_type": "markdown",
   "metadata": {},
   "source": [
    "### Explanation:\n",
    "FastAPI ensures age is an integer. If invalid, it returns a 422 error automatically."
   ]
  },
  {
   "cell_type": "markdown",
   "metadata": {},
   "source": [
    "# Authentication and Security"
   ]
  },
  {
   "cell_type": "markdown",
   "metadata": {},
   "source": [
    "- FastAPI provides built-in tools for authentication and security.\n",
    "- This flow allows you to authenticate users by sending a username and password and then receiving a token in return, which is then used for further authentication on protected routes."
   ]
  },
  {
   "cell_type": "markdown",
   "metadata": {},
   "source": [
    "### OAuth2PasswordBearer:\n",
    "This is a class provided by FastAPI that expects an **OAuth2 token** to be passed in a request (typically via the Authorization header in the form of a **Bearer token**).\n",
    "You use **OAuth2PasswordBeare**r to define a standard for how the client sends the token (usually through a **header**).\n",
    "\n",
    "### tokenUrl:\n",
    "The tokenUrl parameter in OAuth2PasswordBearer specifies the endpoint that the client will use to obtain the token. For instance, tokenUrl=\"token\" means that there should be a route (/token) where the client can send their credentials (like a username and password) to get the token.\n",
    "\n",
    "### The Depends Function:\n",
    "FastAPI's Depends function is used to declare that a certain dependency is required. In this case, **token: str = Depends(oauth2_scheme)** tells FastAPI that the endpoint **read_users_me** requires the **token parameter**, which will be automatically populated with the OAuth2 token extracted from the Authorization header.\n",
    "FastAPI will call the **oauth2_scheme** dependency, which is an instance of **OAuth2PasswordBearer**, to extract the token from the request.\n",
    "\n",
    "### Authorization in Header:\n",
    "The client will send the token in the Authorization header as a Bearer token:<pre>\n",
    "\n",
    "Authorization: Bearer <your-token>\n",
    "</pre>\n",
    "FastAPI will extract the token from the header and pass it to the token argument in the read_users_me function.\n",
    "\n",
    "### Example in Action\n",
    "Let's break it down with a practical example:"
   ]
  },
  {
   "cell_type": "markdown",
   "metadata": {},
   "source": [
    "#### Step 1: Token Generation\n",
    "You first need a route that will authenticate a user and issue a token. A typical implementation might look like this:"
   ]
  },
  {
   "cell_type": "code",
   "execution_count": null,
   "metadata": {},
   "outputs": [],
   "source": [
    "from fastapi import FastAPI\n",
    "from pydantic import BaseModel\n",
    "from fastapi.security import OAuth2PasswordBearer\n",
    "from fastapi import Depends, HTTPException\n",
    "\n",
    "app = FastAPI()\n",
    "\n",
    "# OAuth2 password flow\n",
    "oauth2_scheme = OAuth2PasswordBearer(tokenUrl=\"token\")\n",
    "\n",
    "# Simulating a database of users (for demonstration purposes)\n",
    "fake_users_db = {\n",
    "    \"johndoe\": {\n",
    "        \"username\": \"johndoe\",\n",
    "        \"password\": \"secret\",  # In a real application, passwords should be hashed\n",
    "    }\n",
    "}\n",
    "\n",
    "# Request body for receiving username and password\n",
    "class TokenRequest(BaseModel):\n",
    "    username: str\n",
    "    password: str\n",
    "\n",
    "# Token generation endpoint (this is where the user gets a token)\n",
    "@app.post(\"/token\")\n",
    "def login_for_access_token(form_data: TokenRequest):\n",
    "    user = fake_users_db.get(form_data.username)\n",
    "    if user is None or user[\"password\"] != form_data.password:\n",
    "        raise HTTPException(status_code=401, detail=\"Invalid credentials\")\n",
    "    # For simplicity, returning the username as the token\n",
    "    return {\"access_token\": form_data.username, \"token_type\": \"bearer\"}\n",
    "\n",
    "\n",
    "\n",
    "\n",
    "How It Works Internally:\n",
    "The client sends the username and password to the /token endpoint.\n",
    "The server verifies the credentials and returns an access token (in this case, a simple string for demonstration).\n",
    "The client then sends this token in the Authorization header in subsequent requests.\n",
    "FastAPI extracts the token from the header using the OAuth2PasswordBearer dependency.\n",
    "FastAPI can then use this token to validate the user and access protected endpoints."
   ]
  },
  {
   "cell_type": "markdown",
   "metadata": {},
   "source": [
    "#### Step 2: Accessing Protected Route\n",
    "Now, you can use the oauth2_scheme to require authentication on protected routes:"
   ]
  },
  {
   "cell_type": "code",
   "execution_count": null,
   "metadata": {},
   "outputs": [],
   "source": [
    "@app.get(\"/users/me\")\n",
    "def read_users_me(token: str = Depends(oauth2_scheme)):\n",
    "    # In a real app, you would validate the token and decode it\n",
    "    return {\"token\": token}"
   ]
  },
  {
   "cell_type": "markdown",
   "metadata": {},
   "source": [
    "##### Here:\n",
    "- The read_users_me endpoint requires a valid token to access it.\n",
    "- FastAPI automatically pulls the token from the Authorization header using the oauth2_scheme dependency and provides it to the token parameter in read_users_me."
   ]
  },
  {
   "cell_type": "markdown",
   "metadata": {},
   "source": [
    "#### Step 3: Making Requests\n"
   ]
  },
  {
   "cell_type": "markdown",
   "metadata": {},
   "source": [
    "**Get the Token: To get a token, make a POST request to /token with your username and password in the body:**\n",
    "\n",
    "- Request:<pre>\n",
    "\n",
    "POST /token HTTP/1.1<br>\n",
    "Content-Type: application/json<br>\n",
    "\n",
    "{\n",
    "    \"username\": \"johndoe\",<br>\n",
    "    \"password\": \"secret\"<br>\n",
    "}\n",
    "</pre>\n",
    "- Response:<pre>\n",
    "\n",
    "{\n",
    "    \"access_token\": \"johndoe\",<br>\n",
    "    \"token_type\": \"bearer\"<br>\n",
    "}\n",
    "</pre>"
   ]
  },
  {
   "cell_type": "markdown",
   "metadata": {},
   "source": [
    "**Access Protected Route: To access /users/me, include the Bearer token in the Authorization header:**\n",
    "\n",
    "- Request:<pre>\n",
    "\n",
    "GET /users/me HTTP/1.1<br>\n",
    "Authorization: Bearer johndoe<br>\n",
    "</pre>\n",
    "- Response:<pre>\n",
    "\n",
    "{\n",
    "    \"token\": \"johndoe\"\n",
    "}"
   ]
  },
  {
   "cell_type": "markdown",
   "metadata": {},
   "source": [
    "###  How It Works Internally:\n",
    "- The client sends the username and password to the /token endpoint.\n",
    "- The server verifies the credentials and returns an access token (in this case, a simple string for demonstration).\n",
    "- The client then sends this token in the Authorization header in subsequent requests.\n",
    "- FastAPI extracts the token from the header using the OAuth2PasswordBearer dependency.\n",
    "- FastAPI can then use this token to validate the user and access protected endpoints."
   ]
  },
  {
   "cell_type": "markdown",
   "metadata": {},
   "source": [
    "# Dependency Injection"
   ]
  },
  {
   "cell_type": "markdown",
   "metadata": {},
   "source": [
    "FastAPI supports dependency injection to manage shared functionality.\n",
    "\n",
    "### Example:"
   ]
  },
  {
   "cell_type": "code",
   "execution_count": null,
   "metadata": {},
   "outputs": [],
   "source": [
    "from fastapi import Depends\n",
    "import sqlite3\n",
    "\n",
    "# Dependency that simulates a database connection\n",
    "def get_db():\n",
    "    db = sqlite3.connect('mydatabase.db')\n",
    "    try:\n",
    "        yield db  # Yield the database connection to be used by the route\n",
    "    finally:\n",
    "        db.close()  # Close the connection when the request is finished\n",
    "\n",
    "# Route that uses the database connection\n",
    "@app.get(\"/users/{user_id}\")\n",
    "def read_user(user_id: int, db: sqlite3.Connection = Depends(get_db)):\n",
    "    cursor = db.cursor()\n",
    "    cursor.execute(\"SELECT * FROM users WHERE id=?\", (user_id,))\n",
    "    user = cursor.fetchone()\n",
    "    return {\"user_id\": user_id, \"user\": user}"
   ]
  },
  {
   "cell_type": "markdown",
   "metadata": {},
   "source": [
    "### Explanation:\n",
    "- Depends allows you to inject shared logic into your endpoints."
   ]
  },
  {
   "cell_type": "markdown",
   "metadata": {},
   "source": [
    "# Middleware and Background Tasks"
   ]
  },
  {
   "cell_type": "markdown",
   "metadata": {},
   "source": [
    "## Middleware\n",
    "is a mechanism for processing requests before they reach the endpoint and responses before they are sent back to the client\n",
    "\n",
    "### Example:\n",
    "FastAPI provides a way to add middleware using the **BaseHTTPMiddleware** class. You can also use third-party middleware."
   ]
  },
  {
   "cell_type": "code",
   "execution_count": null,
   "metadata": {},
   "outputs": [],
   "source": [
    "from fastapi import FastAPI\n",
    "from starlette.middleware.base import BaseHTTPMiddleware\n",
    "\n",
    "app = FastAPI()\n",
    "\n",
    "class SimpleMiddleware(BaseHTTPMiddleware):\n",
    "    async def dispatch(self, request, call_next):\n",
    "        # Modify request here, before it goes to the route handler\n",
    "        print(\"Request received\")\n",
    "        \n",
    "        # Process the request and get the response\n",
    "        response = await call_next(request)\n",
    "        \n",
    "        # Modify the response before sending it back\n",
    "        response.headers[\"X-Custom-Header\"] = \"Middleware\"\n",
    "        \n",
    "        return response\n",
    "\n",
    "# Add the middleware to the app\n",
    "app.add_middleware(SimpleMiddleware)\n",
    "\n",
    "@app.get(\"/\")\n",
    "async def read_root():\n",
    "    return {\"message\": \"Hello, FastAPI with middleware!\"}"
   ]
  },
  {
   "cell_type": "markdown",
   "metadata": {},
   "source": [
    "### Explanation:\n",
    "\n",
    "- **Middleware** allows you to modify requests and responses globally.\n",
    "- The **CORS** middleware enables cross-origin requests."
   ]
  },
  {
   "cell_type": "markdown",
   "metadata": {},
   "source": [
    "## Background Task\n",
    "is used for performing tasks asynchronously after a response has been sent to the client. such as sending emails, processing files, or making external API calls.\n",
    "\n",
    "### Example:\n",
    "FastAPI provides a built-in **BackgroundTasks** class to manage these tasks."
   ]
  },
  {
   "cell_type": "code",
   "execution_count": null,
   "metadata": {},
   "outputs": [],
   "source": [
    "from fastapi import FastAPI, BackgroundTasks\n",
    "import time\n",
    "\n",
    "app = FastAPI()\n",
    "\n",
    "# Background task function\n",
    "def write_log(message: str):\n",
    "    time.sleep(5)  # Simulate a time-consuming task\n",
    "    with open(\"log.txt\", mode=\"a\") as log:\n",
    "        log.write(message + \"\\n\")\n",
    "\n",
    "@app.get(\"/\")\n",
    "async def root(background_tasks: BackgroundTasks):\n",
    "    background_tasks.add_task(write_log, \"Task completed!\")\n",
    "    return {\"message\": \"The background task is being executed.\"}"
   ]
  },
  {
   "cell_type": "markdown",
   "metadata": {},
   "source": [
    "### Explanation:\n",
    "- **BackgroundTasks**: This class is injected as a parameter into the endpoint function. You can then add tasks to be executed in the background using background_tasks.add_task().\n",
    "- **write_log**: A simple background task that simulates writing a log message after a delay. The task is executed in the background without blocking the response.\n",
    "- **background_tasks.add_task(write_log, \"Task completed!\")**: The task write_log is added to the background and will be executed asynchronously once the response is sent back to the client."
   ]
  },
  {
   "cell_type": "markdown",
   "metadata": {},
   "source": [
    "# File Upload and Streaming"
   ]
  },
  {
   "cell_type": "markdown",
   "metadata": {},
   "source": [
    "via **Form** and **File** dependencies. You can upload images, videos, or any other file."
   ]
  },
  {
   "cell_type": "code",
   "execution_count": null,
   "metadata": {},
   "outputs": [],
   "source": [
    "from fastapi import File, UploadFile\n",
    "\n",
    "@app.post(\"/uploadfile/\")\n",
    "async def upload_file(file: UploadFile = File(...)):\n",
    "    return {\"filename\": file.filename}"
   ]
  },
  {
   "cell_type": "markdown",
   "metadata": {},
   "source": [
    "# Testing Your FastAPI Application"
   ]
  },
  {
   "cell_type": "markdown",
   "metadata": {},
   "source": [
    "FastAPI provides a great way to test your application using **TestClient**."
   ]
  },
  {
   "cell_type": "markdown",
   "metadata": {},
   "source": [
    "### Install Required Dependencies"
   ]
  },
  {
   "cell_type": "code",
   "execution_count": null,
   "metadata": {
    "vscode": {
     "languageId": "powershell"
    }
   },
   "outputs": [],
   "source": [
    "pip install httpx pytest"
   ]
  },
  {
   "cell_type": "markdown",
   "metadata": {},
   "source": [
    "### Example:"
   ]
  },
  {
   "cell_type": "code",
   "execution_count": null,
   "metadata": {},
   "outputs": [],
   "source": [
    "from fastapi import FastAPI\n",
    "from fastapi.testclient import TestClient\n",
    "\n",
    "app = FastAPI()\n",
    "\n",
    "@app.get(\"/\")\n",
    "def read_root():\n",
    "    return {\"message\": \"Hello, FastAPI!\"}\n",
    "\n",
    "# Testing with TestClient\n",
    "def test_read_root():\n",
    "    client = TestClient(app)\n",
    "    response = client.get(\"/\")\n",
    "    assert response.status_code == 200\n",
    "    assert response.json() == {\"message\": \"Hello, FastAPI!\"}"
   ]
  },
  {
   "cell_type": "markdown",
   "metadata": {},
   "source": [
    "### Testing with Query Parameters"
   ]
  },
  {
   "cell_type": "code",
   "execution_count": null,
   "metadata": {},
   "outputs": [],
   "source": [
    "@app.get(\"/search\")\n",
    "def search_items(keyword: str, limit: int = 10):\n",
    "    return {\"keyword\": keyword, \"limit\": limit}\n",
    "\n",
    "def test_search_items():\n",
    "    client = TestClient(app)\n",
    "    response = client.get(\"/search?keyword=test&limit=5\")\n",
    "    assert response.status_code == 200\n",
    "    assert response.json() == {\"keyword\": \"test\", \"limit\": 5}"
   ]
  },
  {
   "cell_type": "markdown",
   "metadata": {},
   "source": [
    "### Testing with Path Parameters"
   ]
  },
  {
   "cell_type": "code",
   "execution_count": null,
   "metadata": {},
   "outputs": [],
   "source": [
    "@app.get(\"/items/{item_id}\")\n",
    "def read_item(item_id: int):\n",
    "    return {\"item_id\": item_id}\n",
    "\n",
    "def test_read_item():\n",
    "    client = TestClient(app)\n",
    "    response = client.get(\"/items/123\")\n",
    "    assert response.status_code == 200\n",
    "    assert response.json() == {\"item_id\": 123}"
   ]
  },
  {
   "cell_type": "markdown",
   "metadata": {},
   "source": [
    "### Testing with Request Body (POST request)"
   ]
  },
  {
   "cell_type": "code",
   "execution_count": null,
   "metadata": {},
   "outputs": [],
   "source": [
    "from pydantic import BaseModel\n",
    "\n",
    "class Item(BaseModel):\n",
    "    name: str\n",
    "    price: float\n",
    "\n",
    "@app.post(\"/items/\")\n",
    "def create_item(item: Item):\n",
    "    return {\"name\": item.name, \"price\": item.price}\n",
    "\n",
    "def test_create_item():\n",
    "    client = TestClient(app)\n",
    "    item_data = {\"name\": \"Laptop\", \"price\": 1000}\n",
    "    response = client.post(\"/items/\", json=item_data)\n",
    "    assert response.status_code == 200\n",
    "    assert response.json() == item_data"
   ]
  },
  {
   "cell_type": "markdown",
   "metadata": {},
   "source": [
    "### Testing Authentication and Dependencies"
   ]
  },
  {
   "cell_type": "code",
   "execution_count": null,
   "metadata": {},
   "outputs": [],
   "source": [
    "from fastapi import Depends, HTTPException, status\n",
    "from fastapi.security import OAuth2PasswordBearer\n",
    "\n",
    "oauth2_scheme = OAuth2PasswordBearer(tokenUrl=\"token\")\n",
    "\n",
    "def fake_oauth2_scheme():\n",
    "    return \"fake_token\"\n",
    "\n",
    "@app.get(\"/users/me\")\n",
    "def read_users_me(token: str = Depends(fake_oauth2_scheme)):\n",
    "    if token != \"fake_token\":\n",
    "        raise HTTPException(status_code=status.HTTP_401_UNAUTHORIZED, detail=\"Invalid token\")\n",
    "    return {\"token\": token}\n",
    "\n",
    "def test_read_users_me():\n",
    "    client = TestClient(app)\n",
    "    response = client.get(\"/users/me\", headers={\"Authorization\": \"Bearer fake_token\"})\n",
    "    assert response.status_code == 200\n",
    "    assert response.json() == {\"token\": \"fake_token\"}"
   ]
  },
  {
   "cell_type": "markdown",
   "metadata": {},
   "source": [
    "### Running Tests with pytest\n",
    "You can run the tests using pytest, which will automatically find and run all functions prefixed with test_:"
   ]
  },
  {
   "cell_type": "code",
   "execution_count": null,
   "metadata": {
    "vscode": {
     "languageId": "powershell"
    }
   },
   "outputs": [],
   "source": [
    "pytest"
   ]
  },
  {
   "cell_type": "markdown",
   "metadata": {},
   "source": [
    "# Deploying FastAPI"
   ]
  },
  {
   "cell_type": "markdown",
   "metadata": {},
   "source": [
    "Using Uvicorn with Gunicorn"
   ]
  },
  {
   "cell_type": "markdown",
   "metadata": {},
   "source": [
    "Install Gunicorn:"
   ]
  },
  {
   "cell_type": "code",
   "execution_count": null,
   "metadata": {
    "vscode": {
     "languageId": "powershell"
    }
   },
   "outputs": [],
   "source": [
    "pip install gunicorn"
   ]
  },
  {
   "cell_type": "markdown",
   "metadata": {},
   "source": [
    "Run the server:"
   ]
  },
  {
   "cell_type": "code",
   "execution_count": null,
   "metadata": {
    "vscode": {
     "languageId": "powershell"
    }
   },
   "outputs": [],
   "source": [
    "gunicorn -k uvicorn"
   ]
  }
 ],
 "metadata": {
  "language_info": {
   "name": "python"
  }
 },
 "nbformat": 4,
 "nbformat_minor": 2
}
