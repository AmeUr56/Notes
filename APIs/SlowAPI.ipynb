{
 "cells": [
  {
   "cell_type": "markdown",
   "metadata": {},
   "source": [
    "# Rate Limiting in FastAPI"
   ]
  },
  {
   "cell_type": "markdown",
   "metadata": {},
   "source": [
    "## Installation"
   ]
  },
  {
   "cell_type": "markdown",
   "metadata": {},
   "source": [
    "The slowapi library is a popular option for adding rate limiting to FastAPI. It integrates seamlessly with FastAPI using middleware and decorators."
   ]
  },
  {
   "cell_type": "code",
   "execution_count": null,
   "metadata": {
    "vscode": {
     "languageId": "powershell"
    }
   },
   "outputs": [],
   "source": [
    "pip install slowapi"
   ]
  },
  {
   "cell_type": "markdown",
   "metadata": {},
   "source": [
    "## Basic Example"
   ]
  },
  {
   "cell_type": "code",
   "execution_count": null,
   "metadata": {},
   "outputs": [],
   "source": [
    "from fastapi import FastAPI, Request\n",
    "from slowapi import Limiter\n",
    "from slowapi.util import get_remote_address\n",
    "from slowapi.middleware import SlowAPIMiddleware\n",
    "from slowapi.errors import RateLimitExceeded\n",
    "from starlette.responses import JSONResponse\n",
    "\n",
    "# Initialize FastAPI app and Limiter\n",
    "app = FastAPI()\n",
    "limiter = Limiter(key_func=get_remote_address)  # Rate limit based on client IP\n",
    "app.state.limiter = limiter\n",
    "app.add_middleware(SlowAPIMiddleware)  # Add the SlowAPI middleware\n",
    "\n",
    "# Global error handler for rate limit exceeded\n",
    "@app.exception_handler(RateLimitExceeded)\n",
    "async def rate_limit_exceeded_handler(request: Request, exc: RateLimitExceeded):\n",
    "    return JSONResponse(\n",
    "        status_code=429, \n",
    "        content={\"detail\": \"Rate limit exceeded. Try again later.\"}\n",
    "    )\n",
    "\n",
    "# Example route with rate limiting\n",
    "@app.get(\"/items/\")\n",
    "@limiter.limit(\"5/minute\")  # 5 requests per minute\n",
    "async def read_items(request: Request):\n",
    "    return {\"message\": \"This route has rate limiting\"}\n"
   ]
  },
  {
   "cell_type": "markdown",
   "metadata": {},
   "source": [
    "#### Key Points:\n",
    "- **key_func**: Defines how rate limiting is applied (e.g., by IP, user ID, API key, etc.).\n",
    "- **Decorator**: Use @limiter.limit to set limits like \"10/second\" or \"5/minute\".\n",
    "- **Global Middleware**: Required for the slowapi library to work."
   ]
  },
  {
   "cell_type": "markdown",
   "metadata": {},
   "source": []
  }
 ],
 "metadata": {
  "language_info": {
   "name": "python"
  }
 },
 "nbformat": 4,
 "nbformat_minor": 2
}
