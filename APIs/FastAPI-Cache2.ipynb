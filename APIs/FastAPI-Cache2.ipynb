{
 "cells": [
  {
   "cell_type": "markdown",
   "metadata": {},
   "source": [
    "# Caching in FastAPI"
   ]
  },
  {
   "cell_type": "markdown",
   "metadata": {},
   "source": [
    "## Installation"
   ]
  },
  {
   "cell_type": "markdown",
   "metadata": {},
   "source": [
    "The fastapi-cache2 library provides simple caching mechanisms for FastAPI. It supports backends like Redis, Memcached, and in-memory storage."
   ]
  },
  {
   "cell_type": "code",
   "execution_count": null,
   "metadata": {
    "vscode": {
     "languageId": "powershell"
    }
   },
   "outputs": [],
   "source": [
    "pip install fastapi-cache2 redis"
   ]
  },
  {
   "cell_type": "markdown",
   "metadata": {},
   "source": [
    "## Example: Caching with Redis"
   ]
  },
  {
   "cell_type": "code",
   "execution_count": null,
   "metadata": {},
   "outputs": [],
   "source": [
    "from fastapi import FastAPI\n",
    "from fastapi_cache2 import FastAPICache\n",
    "from fastapi_cache2.backends.redis import RedisBackend\n",
    "from fastapi_cache2.decorator import cache\n",
    "import redis\n",
    "\n",
    "app = FastAPI()\n",
    "\n",
    "# Initialize Redis backend for caching\n",
    "@app.on_event(\"startup\")\n",
    "async def startup():\n",
    "    redis_client = redis.Redis(host=\"localhost\", port=6379, db=0)\n",
    "    FastAPICache.init(RedisBackend(redis_client), prefix=\"fastapi-cache\")\n",
    "\n",
    "# Cached route (data will be cached for 10 seconds)\n",
    "@app.get(\"/items/\")\n",
    "@cache(expire=10)  # Cache expires after 10 seconds\n",
    "async def read_items():\n",
    "    return {\"message\": \"This response is cached\"}"
   ]
  },
  {
   "cell_type": "markdown",
   "metadata": {},
   "source": [
    "#### Key Points:\n",
    "- **@cache(expire=N)**: Decorator to cache the endpoint for N seconds.\n",
    "- **RedisBackend**: Backend storage for caching.\n",
    "- **FastAPICache.init**: Initialize the cache with a backend during app startup."
   ]
  }
 ],
 "metadata": {
  "language_info": {
   "name": "python"
  }
 },
 "nbformat": 4,
 "nbformat_minor": 2
}
