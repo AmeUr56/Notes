{
 "cells": [
  {
   "cell_type": "markdown",
   "metadata": {},
   "source": [
    "# Introduction to Protobuf"
   ]
  },
  {
   "cell_type": "markdown",
   "metadata": {},
   "source": [
    "Protocol Buffers (Protobuf) is a language-neutral, platform-neutral, and extensible mechanism for serializing structured data. Developed by Google, Protobuf offers faster and smaller serialization compared to XML or JSON, making it ideal for performance-critical applications like distributed systems, mobile devices, and communication protocols.\n",
    "\n",
    "## Key Features:\n",
    "- **Compact serialization**: Protobuf messages are binary, so they are smaller and faster to process.\n",
    "- **Backward and forward compatibility**: New fields can be added without breaking existing code.\n",
    "- **Cross-platform support**: Protobuf supports multiple languages like Python, Java, C++, and Go.\n",
    "\n",
    "## Use Cases:\n",
    "- **RPC frameworks**: Protobuf is commonly used in Remote Procedure Calls (gRPC).\n",
    "- **Data storage**: Serialization to compact binary format for efficient storage.\n",
    "- **Network communication**: Passing data between services efficiently.\n"
   ]
  },
  {
   "cell_type": "markdown",
   "metadata": {},
   "source": [
    "## Serializing:\n",
    "\n",
    "Serializing data means converting data into a format that can be easily stored or transmitted, and then later reconstructed. Serialization is often used to save data to a file, send it over a network, or store it in a database. After being serialized, the data is represented as a sequence of bytes, which can then be deserialized to restore the original data structure.\n",
    "\n",
    "Here are some common scenarios for serialization:\n",
    "\n",
    "Data Transfer: When sending data between different systems or over a network, it must often be serialized to ensure compatibility.\n",
    "\n",
    "Storage: Data is serialized to save it in files (e.g., JSON, CSV, XML) or databases.\n",
    "\n",
    "Caching: Serialized data is stored in cache systems to allow faster retrieval later.\n",
    "\n",
    "Communication Protocols: Serialization is used in protocols like Protocol Buffers (Protobuf), where structured data is efficiently serialized for transmission.\n",
    "\n",
    "For example, in Python, you can use modules like pickle for serializing objects or json for converting dictionaries to JSON strings.\n",
    "\n",
    "Would you like examples of serializing data in specific formats like JSON, Protobuf, or others?"
   ]
  },
  {
   "cell_type": "markdown",
   "metadata": {},
   "source": [
    "# 1. Installing Protobuf"
   ]
  },
  {
   "cell_type": "markdown",
   "metadata": {},
   "source": [
    "Before using Protobuf, you need the **protoc compiler** and the corresponding **libraries** for your **language**."
   ]
  },
  {
   "cell_type": "markdown",
   "metadata": {},
   "source": [
    "**Install Protoc:**<br>\n",
    "- Download the pre-built binaries from https://github.com/protocolbuffers/protobuf/releases\n",
    "- Copy path of  bin directory which is inside the unziped downloaded folder\n",
    "- Add the path to **Path** System Enviroment Variable."
   ]
  },
  {
   "cell_type": "markdown",
   "metadata": {},
   "source": [
    "**Install Protobuf Lib:**<br>"
   ]
  },
  {
   "cell_type": "code",
   "execution_count": null,
   "metadata": {
    "vscode": {
     "languageId": "powershell"
    }
   },
   "outputs": [],
   "source": [
    "pip install protobuf"
   ]
  },
  {
   "cell_type": "markdown",
   "metadata": {},
   "source": [
    "# 2. Defining Messages"
   ]
  },
  {
   "cell_type": "markdown",
   "metadata": {},
   "source": [
    "In Protobuf, the **structure of the data** is defined using **.proto files**. These files describe the fields and data types in a message."
   ]
  },
  {
   "cell_type": "markdown",
   "metadata": {},
   "source": [
    "### Example .proto file:"
   ]
  },
  {
   "cell_type": "code",
   "execution_count": null,
   "metadata": {
    "vscode": {
     "languageId": "csharp"
    }
   },
   "outputs": [],
   "source": [
    "syntax = \"proto3\";\n",
    "\n",
    "message Person {\n",
    "    string name = 1;\n",
    "    int32 id = 2;\n",
    "    string email = 3;\n",
    "}"
   ]
  },
  {
   "cell_type": "markdown",
   "metadata": {},
   "source": [
    "- **syntax = \"proto3\";** specifies we are using Protobuf version 3.\n",
    "- **message** defines a structured data type called Person.\n",
    "- Fields like **name**, **id**, and **email** are assigned unique field numbers (**1**, **2**, **3**). These numbers are essential as they are used during serialization and deserialization."
   ]
  },
  {
   "cell_type": "markdown",
   "metadata": {},
   "source": [
    "### Protobuf Data Types:\n",
    "- **Scalar types**: int32, int64, bool, float, string, etc.\n",
    "- **Complex types**: message (for nested structures), enum"
   ]
  },
  {
   "cell_type": "markdown",
   "metadata": {},
   "source": [
    "# 3. Defining Enumerations"
   ]
  },
  {
   "cell_type": "markdown",
   "metadata": {},
   "source": [
    "In Protocol Buffers (Protobuf), the **enum** keyword is used to define a set of named **integer** constants, which are typically used to **represent** a list of **predefined values** for a field. Enums provide a way to make data more readable and manageable by using **descriptive names** for values rather than using raw integers."
   ]
  },
  {
   "cell_type": "code",
   "execution_count": null,
   "metadata": {
    "vscode": {
     "languageId": "csharp"
    }
   },
   "outputs": [],
   "source": [
    "syntax = \"proto3\";\n",
    "\n",
    "enum Status {\n",
    "    ACTIVE = 0;\n",
    "    INACTIVE = 1;\n",
    "    PENDING = 2;\n",
    "}"
   ]
  },
  {
   "cell_type": "markdown",
   "metadata": {},
   "source": [
    "### Key Points:\n",
    "- Each name in the enum corresponds to a unique integer value.\n",
    "- Enum values must be unique within the enum.\n",
    "- By default, the integer values start at 0, but you can explicitly set them.\n",
    "- Protobuf messages can have fields that use these enum types."
   ]
  },
  {
   "cell_type": "markdown",
   "metadata": {},
   "source": [
    "### Example of Enum Usage in a Message:"
   ]
  },
  {
   "cell_type": "code",
   "execution_count": null,
   "metadata": {
    "vscode": {
     "languageId": "csharp"
    }
   },
   "outputs": [],
   "source": [
    "syntax = \"proto3\";\n",
    "\n",
    "message Task {\n",
    "    string name = 1;\n",
    "    Status status = 2;  // Using the enum Status as a field\n",
    "}\n",
    "\n",
    "enum Status {\n",
    "    ACTIVE = 0;\n",
    "    INACTIVE = 1;\n",
    "    PENDING = 2;\n",
    "}"
   ]
  },
  {
   "cell_type": "markdown",
   "metadata": {},
   "source": [
    "### Example in Python:"
   ]
  },
  {
   "cell_type": "code",
   "execution_count": null,
   "metadata": {},
   "outputs": [],
   "source": [
    "import task_pb2\n",
    "\n",
    "# Create a new Task object\n",
    "task = task_pb2.Task()\n",
    "task.name = \"Write report\"\n",
    "task.status = task_pb2.ACTIVE  # Set the enum value\n",
    "\n",
    "print(f\"Task name: {task.name}, Status: {task.status}\")\n"
   ]
  },
  {
   "cell_type": "markdown",
   "metadata": {},
   "source": [
    "# 4. Nested Messages and Enumerations\n"
   ]
  },
  {
   "cell_type": "markdown",
   "metadata": {},
   "source": [
    "Protobuf supports nested messages and enumerations to structure **complex data**."
   ]
  },
  {
   "cell_type": "code",
   "execution_count": null,
   "metadata": {
    "vscode": {
     "languageId": "csharp"
    }
   },
   "outputs": [],
   "source": [
    "syntax = \"proto3\";\n",
    "\n",
    "message Address {\n",
    "    string street = 1;\n",
    "    string city = 2;\n",
    "    string country = 3;\n",
    "}\n",
    "\n",
    "message Person {\n",
    "    string name = 1;\n",
    "    int32 id = 2;\n",
    "    string email = 3;\n",
    "    Address address = 4;  // Nested message\n",
    "}\n",
    "\n",
    "enum Gender {\n",
    "    MALE = 0;\n",
    "    FEMALE = 1;\n",
    "}\n",
    "\n",
    "message UserProfile {\n",
    "    Person person = 1;\n",
    "    Gender gender = 2;\n",
    "}\n"
   ]
  },
  {
   "cell_type": "markdown",
   "metadata": {},
   "source": [
    "### Python Code for Nested Messages"
   ]
  },
  {
   "cell_type": "code",
   "execution_count": null,
   "metadata": {},
   "outputs": [],
   "source": [
    "user_profile = person_pb2.UserProfile()\n",
    "user_profile.person.name = \"Bob\"\n",
    "user_profile.person.address.city = \"New York\"\n",
    "user_profile.gender = person_pb2.MALE\n",
    "\n",
    "serialized_data = user_profile.SerializeToString()"
   ]
  },
  {
   "cell_type": "markdown",
   "metadata": {},
   "source": [
    "## Defining Arrays\n",
    "For a simple array, you can use the **repeated** field in Protobuf. For example, if you want to define an array of integers or floats, the syntax would look like this:"
   ]
  },
  {
   "cell_type": "code",
   "execution_count": null,
   "metadata": {
    "vscode": {
     "languageId": "csharp"
    }
   },
   "outputs": [],
   "source": [
    "syntax = \"proto3\";\n",
    "\n",
    "message ArrayMessage {\n",
    "  repeated int32 numbers = 1;  // This represents an array of integers\n",
    "}"
   ]
  },
  {
   "cell_type": "markdown",
   "metadata": {},
   "source": [
    "## Defining Matrices\n",
    "A matrix is essentially a 2D array, which can be represented by using a **repeated field inside another repeated field**. Here’s an example of how you can define a 2D matrix of floats:"
   ]
  },
  {
   "cell_type": "code",
   "execution_count": null,
   "metadata": {
    "vscode": {
     "languageId": "csharp"
    }
   },
   "outputs": [],
   "source": [
    "syntax = \"proto3\";\n",
    "\n",
    "message MatrixMessage {\n",
    "  repeated Row rows = 1;  // This represents the matrix\n",
    "\n",
    "  message Row {\n",
    "    repeated float values = 1;  // This represents a row in the matrix\n",
    "  }\n",
    "}"
   ]
  },
  {
   "cell_type": "markdown",
   "metadata": {},
   "source": [
    "## Example for 3D Matrix\n",
    "For a 3D matrix (**tensor**), you can nest the repeated field further:"
   ]
  },
  {
   "cell_type": "code",
   "execution_count": null,
   "metadata": {
    "vscode": {
     "languageId": "csharp"
    }
   },
   "outputs": [],
   "source": [
    "syntax = \"proto3\";\n",
    "\n",
    "message Matrix3DMessage {\n",
    "  repeated Matrix2D matrices = 1;  // This represents a 3D matrix\n",
    "\n",
    "  message Matrix2D {\n",
    "    repeated Row rows = 1;  // This represents a 2D matrix\n",
    "\n",
    "    message Row {\n",
    "      repeated float values = 1;  // This represents a row in the matrix\n",
    "    }\n",
    "  }\n",
    "}"
   ]
  },
  {
   "cell_type": "markdown",
   "metadata": {},
   "source": [
    "# 5. Compiling Protobuf Files"
   ]
  },
  {
   "cell_type": "markdown",
   "metadata": {},
   "source": [
    "Once the **.proto** file is written, it must be compiled to **generate language-specific code**."
   ]
  },
  {
   "cell_type": "markdown",
   "metadata": {},
   "source": [
    "### Compiling for Python:"
   ]
  },
  {
   "cell_type": "code",
   "execution_count": null,
   "metadata": {
    "vscode": {
     "languageId": "powershell"
    }
   },
   "outputs": [],
   "source": [
    "protoc --python_out=. person.proto"
   ]
  },
  {
   "cell_type": "markdown",
   "metadata": {},
   "source": [
    "This command generates a Python file named **person_pb2.py**, which can be used to **create**, **serialize**, and **deserialize** **Person** messages."
   ]
  },
  {
   "cell_type": "markdown",
   "metadata": {},
   "source": [
    "# 6. Working with Protobuf in Python\n"
   ]
  },
  {
   "cell_type": "markdown",
   "metadata": {},
   "source": [
    "After compiling, you can use the generated code to create and manipulate Protobuf messages."
   ]
  },
  {
   "cell_type": "markdown",
   "metadata": {},
   "source": [
    "### Example Python Code"
   ]
  },
  {
   "cell_type": "code",
   "execution_count": null,
   "metadata": {},
   "outputs": [],
   "source": [
    "import person_pb2\n",
    "\n",
    "# Create a new Person object\n",
    "person = person_pb2.Person()\n",
    "person.name = \"Alice\"\n",
    "person.id = 123\n",
    "person.email = \"alice@example.com\"\n",
    "\n",
    "# Serialize the object to a binary string\n",
    "serialized_data = person.SerializeToString()\n",
    "\n",
    "# Deserialize from binary\n",
    "person_new = person_pb2.Person()\n",
    "person_new.ParseFromString(serialized_data)\n",
    "\n",
    "print(f\"Name: {person_new.name}, ID: {person_new.id}, Email: {person_new.email}\")"
   ]
  },
  {
   "cell_type": "markdown",
   "metadata": {},
   "source": [
    "- **SerializeToString()**: Serializes the message to a binary format.\n",
    "- **ParseFromString()**: Deserializes the binary data back into a Protobuf object."
   ]
  },
  {
   "cell_type": "markdown",
   "metadata": {},
   "source": [
    "### Handling Missing Fields:\n",
    "If a field is not set, Protobuf uses default values.<br> For example:\n",
    "- **int32**: 0\n",
    "- **string**: empty string\n"
   ]
  },
  {
   "cell_type": "markdown",
   "metadata": {},
   "source": [
    "# 7. Backward and Forward Compatibility\n"
   ]
  },
  {
   "cell_type": "markdown",
   "metadata": {},
   "source": [
    "One of the strongest features of Protobuf is its compatibility between different versions of the schema."
   ]
  },
  {
   "cell_type": "markdown",
   "metadata": {},
   "source": [
    "## Adding New Fields:\n",
    "When you add new fields to a message, ensure that existing field numbers remain unchanged. New fields must be assigned a new number."
   ]
  },
  {
   "cell_type": "code",
   "execution_count": null,
   "metadata": {
    "vscode": {
     "languageId": "csharp"
    }
   },
   "outputs": [],
   "source": [
    "message Person {\n",
    "    string name = 1;\n",
    "    int32 id = 2;\n",
    "    string email = 3;\n",
    "    string phone = 4;  // Newly added field\n",
    "}"
   ]
  },
  {
   "cell_type": "markdown",
   "metadata": {},
   "source": [
    "- Old clients will ignore new fields.\n",
    "- New clients can parse both old and new messages."
   ]
  },
  {
   "cell_type": "markdown",
   "metadata": {},
   "source": [
    "## Removing Fields:\n",
    "Instead of removing fields, mark them as reserved:"
   ]
  },
  {
   "cell_type": "code",
   "execution_count": null,
   "metadata": {
    "vscode": {
     "languageId": "csharp"
    }
   },
   "outputs": [],
   "source": [
    "message Person {\n",
    "    reserved 4;\n",
    "}"
   ]
  },
  {
   "cell_type": "markdown",
   "metadata": {},
   "source": [
    "This prevents reusing the field numbers or names, ensuring compatibility."
   ]
  },
  {
   "cell_type": "markdown",
   "metadata": {},
   "source": [
    "# 8. JSON Serialization in Protobuf"
   ]
  },
  {
   "cell_type": "markdown",
   "metadata": {},
   "source": [
    "Protobuf can be serialized into JSON format, which is useful for human-readable or web-based communications."
   ]
  },
  {
   "cell_type": "code",
   "execution_count": null,
   "metadata": {},
   "outputs": [],
   "source": [
    "import json\n",
    "from google.protobuf.json_format import MessageToJson, Parse\n",
    "\n",
    "# Convert protobuf to JSON\n",
    "json_data = MessageToJson(person)\n",
    "\n",
    "# Convert JSON back to protobuf\n",
    "person_new = person_pb2.Person()\n",
    "Parse(json_data, person_new)"
   ]
  },
  {
   "cell_type": "markdown",
   "metadata": {},
   "source": [
    "This flexibility allows Protobuf to integrate seamlessly with JSON-based systems."
   ]
  },
  {
   "cell_type": "markdown",
   "metadata": {},
   "source": [
    "# 9. Protobuf with gRPC\n"
   ]
  },
  {
   "cell_type": "markdown",
   "metadata": {},
   "source": [
    "Protobuf is tightly integrated with gRPC, a high-performance RPC framework."
   ]
  },
  {
   "cell_type": "markdown",
   "metadata": {},
   "source": [
    "#### Define a gRPC service in Protobuf:\n"
   ]
  },
  {
   "cell_type": "code",
   "execution_count": null,
   "metadata": {
    "vscode": {
     "languageId": "csharp"
    }
   },
   "outputs": [],
   "source": [
    "syntax = \"proto3\";\n",
    "\n",
    "service UserService {\n",
    "    rpc GetUser (UserRequest) returns (UserResponse);\n",
    "}\n",
    "\n",
    "message UserRequest {\n",
    "    int32 user_id = 1;\n",
    "}\n",
    "\n",
    "message UserResponse {\n",
    "    string name = 1;\n",
    "    string email = 2;\n",
    "}"
   ]
  },
  {
   "cell_type": "markdown",
   "metadata": {},
   "source": [
    "- **service** defines a gRPC service.\n",
    "- **rpc** defines a Remote Procedure Call method that takes a **UserRequest** and returns a **UserResponse**."
   ]
  },
  {
   "cell_type": "markdown",
   "metadata": {},
   "source": [
    "#### gRPC Server and Client:\n",
    "The **protoc** compiler generates gRPC server and client code, which can be integrated with your Python, Java, or Go application for efficient remote communication."
   ]
  },
  {
   "cell_type": "markdown",
   "metadata": {},
   "source": [
    "# 10. Best Practices"
   ]
  },
  {
   "cell_type": "markdown",
   "metadata": {},
   "source": [
    "- Use meaningfully named field numbers: Stick to a convention to make message definition clear and maintainable.\n",
    "- Reserve unused fields: Always use **reserved** for removed fields to prevent accidental reuse.\n",
    "- Version control for **.proto** files: Track changes to Protobuf files in version control to maintain schema history.\n",
    "- Minimize nesting: While nesting is supported, excessive nesting can reduce clarity and introduce complexity."
   ]
  }
 ],
 "metadata": {
  "language_info": {
   "name": "python"
  }
 },
 "nbformat": 4,
 "nbformat_minor": 2
}
