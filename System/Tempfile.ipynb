{
 "cells": [
  {
   "cell_type": "markdown",
   "metadata": {},
   "source": [
    "# Introduction"
   ]
  },
  {
   "cell_type": "markdown",
   "metadata": {},
   "source": [
    "The tempfile library in Python provides utilities for creating and working with temporary files and directories. These temporary resources are useful for situations where you need to store data temporarily without manually managing file cleanup or conflicts."
   ]
  },
  {
   "cell_type": "markdown",
   "metadata": {
    "vscode": {
     "languageId": "plaintext"
    }
   },
   "source": [
    "# Key Functions in tempfile"
   ]
  },
  {
   "cell_type": "markdown",
   "metadata": {},
   "source": [
    "## 1. TemporaryFile\n",
    "Creates a temporary file that is automatically deleted when closed. This is suitable for temporary storage during program execution."
   ]
  },
  {
   "cell_type": "code",
   "execution_count": null,
   "metadata": {},
   "outputs": [],
   "source": [
    "import tempfile\n",
    "\n",
    "# Create a temporary file\n",
    "with tempfile.TemporaryFile() as temp_file:\n",
    "    # Write to the temporary file\n",
    "    temp_file.write(b\"Hello, World!\")\n",
    "    \n",
    "    # Read from the temporary file\n",
    "    temp_file.seek(0)  # Move to the beginning of the file\n",
    "    print(temp_file.read())  # Output: b'Hello, World!'"
   ]
  },
  {
   "cell_type": "markdown",
   "metadata": {},
   "source": [
    "### Parameters:\n",
    "- **mode**: Mode for opening the file (default is 'w+b' for binary read/write).\n",
    "- **buffering**: Buffer size.\n",
    "- **encoding**: Encoding for text mode.\n",
    "- **newline**: Controls newline behavior."
   ]
  },
  {
   "cell_type": "markdown",
   "metadata": {},
   "source": [
    "## 2. NamedTemporaryFile\n",
    "Creates a temporary file with a visible name on the filesystem, which can be accessed while the file is open."
   ]
  },
  {
   "cell_type": "code",
   "execution_count": null,
   "metadata": {},
   "outputs": [],
   "source": [
    "with tempfile.NamedTemporaryFile(delete=False) as temp_file:\n",
    "    print(\"Temporary file name:\", temp_file.name)  # File name on disk\n",
    "    temp_file.write(b\"Data to write\")"
   ]
  },
  {
   "cell_type": "markdown",
   "metadata": {},
   "source": [
    "### Parameters:\n",
    "**delete**: If True, the file is deleted when closed."
   ]
  },
  {
   "cell_type": "markdown",
   "metadata": {},
   "source": [
    "## 3. TemporaryDirectory\n",
    "Creates a temporary directory that is automatically deleted when it is no longer needed."
   ]
  },
  {
   "cell_type": "code",
   "execution_count": null,
   "metadata": {},
   "outputs": [],
   "source": [
    "with tempfile.TemporaryDirectory() as temp_dir:\n",
    "    print(\"Temporary directory path:\", temp_dir)\n",
    "    # Use the directory\n",
    "    with open(f\"{temp_dir}/temp_file.txt\", \"w\") as file:\n",
    "        file.write(\"Temporary data\")\n",
    "# Directory and files are deleted after this block"
   ]
  },
  {
   "cell_type": "markdown",
   "metadata": {},
   "source": [
    "## 4. mkstemp\n",
    "Creates a low-level temporary file with a unique name. The function returns a tuple (file descriptor, file path). You need to manually handle cleanup."
   ]
  },
  {
   "cell_type": "code",
   "execution_count": null,
   "metadata": {},
   "outputs": [],
   "source": [
    "fd, path = tempfile.mkstemp()\n",
    "print(\"File descriptor:\", fd)\n",
    "print(\"File path:\", path)\n",
    "# Remember to close and delete the file manually\n",
    "import os\n",
    "os.close(fd)\n",
    "os.remove(path)"
   ]
  },
  {
   "cell_type": "markdown",
   "metadata": {},
   "source": [
    "## 5. mkdtemp\n",
    "Creates a temporary directory and returns its path. Cleanup must be handled manually."
   ]
  },
  {
   "cell_type": "code",
   "execution_count": null,
   "metadata": {},
   "outputs": [],
   "source": [
    "temp_dir = tempfile.mkdtemp()\n",
    "print(\"Temporary directory path:\", temp_dir)\n",
    "# Clean up manually\n",
    "import shutil\n",
    "shutil.rmtree(temp_dir)"
   ]
  },
  {
   "cell_type": "markdown",
   "metadata": {},
   "source": [
    "## 6. gettempdir\n",
    "Returns the default directory used for creating temporary files."
   ]
  },
  {
   "cell_type": "code",
   "execution_count": null,
   "metadata": {},
   "outputs": [],
   "source": [
    "import tempfile\n",
    "print(\"Default temp directory:\", tempfile.gettempdir())"
   ]
  },
  {
   "cell_type": "markdown",
   "metadata": {},
   "source": [
    "## 7. gettempprefix\n",
    "Returns the default prefix used for temporary files (usually 'tmp')."
   ]
  },
  {
   "cell_type": "code",
   "execution_count": null,
   "metadata": {},
   "outputs": [],
   "source": [
    "import tempfile\n",
    "print(\"Default temp file prefix:\", tempfile.gettempprefix())"
   ]
  }
 ],
 "metadata": {
  "language_info": {
   "name": "python"
  }
 },
 "nbformat": 4,
 "nbformat_minor": 2
}
