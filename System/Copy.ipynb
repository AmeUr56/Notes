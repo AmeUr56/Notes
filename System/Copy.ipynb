{
 "cells": [
  {
   "cell_type": "markdown",
   "metadata": {},
   "source": [
    "# Introduction"
   ]
  },
  {
   "cell_type": "markdown",
   "metadata": {
    "vscode": {
     "languageId": "plaintext"
    }
   },
   "source": [
    "The copy module allows you to duplicate Python objects while maintaining their type and structure. It provides two primary functions:\n",
    "\n",
    "- **copy()**: Creates a shallow copy.\n",
    "- **deepcopy()**: Creates a deep copy."
   ]
  },
  {
   "cell_type": "markdown",
   "metadata": {},
   "source": [
    "# Shallow Copy (copy.copy)\n",
    "A shallow copy duplicates the object but keeps references to the original nested objects. This means changes to nested objects in the copy affect the original and vice versa."
   ]
  },
  {
   "cell_type": "markdown",
   "metadata": {},
   "source": [
    "### Example"
   ]
  },
  {
   "cell_type": "code",
   "execution_count": null,
   "metadata": {},
   "outputs": [],
   "source": [
    "import copy\n",
    "\n",
    "# Original list with nested elements\n",
    "original = [[1, 2, 3], [4, 5, 6]]\n",
    "\n",
    "# Shallow copy\n",
    "shallow_copied = copy.copy(original)\n",
    "\n",
    "# Modify the shallow copy\n",
    "shallow_copied[0][0] = 100\n",
    "\n",
    "print(\"Original:\", original)       # Output: [[100, 2, 3], [4, 5, 6]]\n",
    "print(\"Shallow Copied:\", shallow_copied) # Output: [[100, 2, 3], [4, 5, 6]]"
   ]
  },
  {
   "cell_type": "markdown",
   "metadata": {},
   "source": [
    "### Explanation\n",
    "- Only the top-level object is copied.\n",
    "- Nested objects still reference the same memory location as the original."
   ]
  },
  {
   "cell_type": "markdown",
   "metadata": {},
   "source": [
    "# Deep Copy (copy.deepcopy)\n",
    "A deep copy duplicates the object and all nested objects recursively. The new object is completely independent of the original."
   ]
  },
  {
   "cell_type": "markdown",
   "metadata": {},
   "source": [
    "### Example"
   ]
  },
  {
   "cell_type": "code",
   "execution_count": null,
   "metadata": {},
   "outputs": [],
   "source": [
    "import copy\n",
    "\n",
    "# Original list with nested elements\n",
    "original = [[1, 2, 3], [4, 5, 6]]\n",
    "\n",
    "# Deep copy\n",
    "deep_copied = copy.deepcopy(original)\n",
    "\n",
    "# Modify the deep copy\n",
    "deep_copied[0][0] = 100\n",
    "\n",
    "print(\"Original:\", original)       # Output: [[1, 2, 3], [4, 5, 6]]\n",
    "print(\"Deep Copied:\", deep_copied) # Output: [[100, 2, 3], [4, 5, 6]]"
   ]
  },
  {
   "cell_type": "markdown",
   "metadata": {},
   "source": [
    "### Explanation\n",
    "- Both the object and its nested objects are copied.\n",
    "- Changes in the deep copy do not affect the original."
   ]
  },
  {
   "cell_type": "markdown",
   "metadata": {},
   "source": [
    "# Key Differences Between Shallow and Deep Copy"
   ]
  },
  {
   "cell_type": "markdown",
   "metadata": {},
   "source": [
    "<table border=\"1\">\n",
    "    <thead>\n",
    "        <tr>\n",
    "            <th>Aspect</th>\n",
    "            <th>Shallow Copy</th>\n",
    "            <th>Deep Copy</th>\n",
    "        </tr>\n",
    "    </thead>\n",
    "    <tbody>\n",
    "        <tr>\n",
    "            <td>Top-level object</td>\n",
    "            <td>Duplicated</td>\n",
    "            <td>Duplicated</td>\n",
    "        </tr>\n",
    "        <tr>\n",
    "            <td>Nested objects</td>\n",
    "            <td>Referenced (shared with original)</td>\n",
    "            <td>Duplicated (independent)</td>\n",
    "        </tr>\n",
    "        <tr>\n",
    "            <td>Independence</td>\n",
    "            <td>Partial</td>\n",
    "            <td>Complete</td>\n",
    "        </tr>\n",
    "    </tbody>\n",
    "</table>"
   ]
  }
 ],
 "metadata": {
  "language_info": {
   "name": "python"
  }
 },
 "nbformat": 4,
 "nbformat_minor": 2
}
