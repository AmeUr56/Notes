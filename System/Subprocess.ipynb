{
 "cells": [
  {
   "cell_type": "markdown",
   "metadata": {},
   "source": [
    "# Basic Methods of subprocess"
   ]
  },
  {
   "cell_type": "markdown",
   "metadata": {},
   "source": [
    "# subprocess.run()\n",
    "This is the most common method for running commands. It waits for the command to **complete** and returns a CompletedProcess object."
   ]
  },
  {
   "cell_type": "markdown",
   "metadata": {},
   "source": [
    "### Example 1: Running a Simple Command"
   ]
  },
  {
   "cell_type": "code",
   "execution_count": 1,
   "metadata": {},
   "outputs": [
    {
     "name": "stdout",
     "output_type": "stream",
     "text": [
      "Output: Copy.ipynb\n",
      "IO.ipynb\n",
      "Logging.ipynb\n",
      "OS.ipynb\n",
      "Packaging.ipynb\n",
      "Pathlib.ipynb\n",
      "Shutil.ipynb\n",
      "Subprocess.ipynb\n",
      "Sys.ipynb\n",
      "Tempfile.ipynb\n",
      "\n",
      "Errors: \n",
      "Return Code: 0\n"
     ]
    }
   ],
   "source": [
    "import subprocess\n",
    "\n",
    "# Run the 'ls' command (list files in Linux/macOS) or 'dir' in Windows\n",
    "result = subprocess.run(['ls'], capture_output=True, text=True)\n",
    "\n",
    "# Output results\n",
    "print(\"Output:\", result.stdout)  # Standard output\n",
    "print(\"Errors:\", result.stderr)  # Standard error (if any)\n",
    "print(\"Return Code:\", result.returncode)  # 0 means success"
   ]
  },
  {
   "cell_type": "markdown",
   "metadata": {},
   "source": [
    "#### Explanation:\n",
    "- **['ls']**: The command as a list (e.g., ls in Unix-based systems or dir for Windows).\n",
    "- **capture_output=True**: Captures standard output (stdout) and standard error (stderr).\n",
    "- **text=True**: Converts binary output to a string."
   ]
  },
  {
   "cell_type": "markdown",
   "metadata": {},
   "source": [
    "## Example 2: Running a Command with Shell"
   ]
  },
  {
   "cell_type": "code",
   "execution_count": null,
   "metadata": {},
   "outputs": [],
   "source": [
    "import subprocess\n",
    "\n",
    "# Using shell=True to execute the command in a shell\n",
    "result = subprocess.run('echo Hello, World!', shell=True, capture_output=True, text=True)\n",
    "\n",
    "print(result.stdout)  # Output: \"Hello, World!\""
   ]
  },
  {
   "cell_type": "markdown",
   "metadata": {},
   "source": [
    "#### Caution:\n",
    "- **shell=True** is convenient but can be dangerous if user input is involved. For instance:"
   ]
  },
  {
   "cell_type": "code",
   "execution_count": null,
   "metadata": {},
   "outputs": [],
   "source": [
    "#user_input = \"test; rm -rf /\"  # Harmful command!\n",
    "subprocess.run(f'echo {user_input}', shell=True)"
   ]
  },
  {
   "cell_type": "markdown",
   "metadata": {},
   "source": [
    "This can lead to command injection vulnerabilities. Always validate or sanitize user inputs."
   ]
  },
  {
   "cell_type": "markdown",
   "metadata": {},
   "source": [
    "## Example 3: Handling Errors"
   ]
  },
  {
   "cell_type": "code",
   "execution_count": null,
   "metadata": {},
   "outputs": [],
   "source": [
    "import subprocess\n",
    "\n",
    "# Running a non-existent command\n",
    "result = subprocess.run(['fake_command'], capture_output=True, text=True)\n",
    "\n",
    "if result.returncode != 0:\n",
    "    print(\"Error occurred!\")\n",
    "    print(result.stderr)  # Show the error message"
   ]
  },
  {
   "cell_type": "markdown",
   "metadata": {},
   "source": [
    "## Example 4: Redirecting Output to a File"
   ]
  },
  {
   "cell_type": "code",
   "execution_count": null,
   "metadata": {},
   "outputs": [],
   "source": [
    "import subprocess\n",
    "\n",
    "# Redirect command output to a file\n",
    "with open('output.txt', 'w') as file:\n",
    "    subprocess.run(['echo', 'Hello, file!'], stdout=file)"
   ]
  },
  {
   "cell_type": "markdown",
   "metadata": {},
   "source": [
    "# subprocess.Popen()\n",
    "This is a more advanced and flexible way to run commands. It allows you to interact with the process while it's running (e.g., send input, read output)."
   ]
  },
  {
   "cell_type": "markdown",
   "metadata": {},
   "source": [
    "## Example: Reading Output While Command Runs"
   ]
  },
  {
   "cell_type": "code",
   "execution_count": null,
   "metadata": {},
   "outputs": [],
   "source": [
    "import subprocess\n",
    "\n",
    "# Run a command\n",
    "process = subprocess.Popen(['ping', '-c', '4', 'google.com'], stdout=subprocess.PIPE, text=True)\n",
    "\n",
    "# Read output line by line\n",
    "for line in process.stdout:\n",
    "    print(line.strip())"
   ]
  },
  {
   "cell_type": "markdown",
   "metadata": {},
   "source": [
    "## Example: Sending Input to a Process"
   ]
  },
  {
   "cell_type": "code",
   "execution_count": null,
   "metadata": {},
   "outputs": [],
   "source": [
    "import subprocess\n",
    "\n",
    "# Use `cat` command (Linux/macOS) or `more` in Windows\n",
    "process = subprocess.Popen(['cat'], stdin=subprocess.PIPE, stdout=subprocess.PIPE, text=True)\n",
    "\n",
    "# Send input\n",
    "output, _ = process.communicate(input=\"Hello, Popen!\\nThis is cool!\")\n",
    "\n",
    "print(output)  # Output: \"Hello, Popen!\\nThis is cool!\""
   ]
  },
  {
   "cell_type": "markdown",
   "metadata": {},
   "source": [
    "# Common Parameters"
   ]
  },
  {
   "cell_type": "markdown",
   "metadata": {},
   "source": [
    "- **args**: The command and its arguments (e.g., ['ls', '-l']).\n",
    "- **shell**: If True, runs the command in a shell.\n",
    "- **capture_output**: Captures stdout and stderr.\n",
    "- **stdout** / **stderr**: Redirect output streams (e.g., to a file or subprocess.PIPE).\n",
    "- **stdin**: Send input to the process.\n",
    "- **text**: If True, interprets input/output as text (instead of binary).\n",
    "- **timeout**: Time limit for the process to run."
   ]
  }
 ],
 "metadata": {
  "kernelspec": {
   "display_name": "base",
   "language": "python",
   "name": "python3"
  },
  "language_info": {
   "codemirror_mode": {
    "name": "ipython",
    "version": 3
   },
   "file_extension": ".py",
   "mimetype": "text/x-python",
   "name": "python",
   "nbconvert_exporter": "python",
   "pygments_lexer": "ipython3",
   "version": "3.11.7"
  }
 },
 "nbformat": 4,
 "nbformat_minor": 2
}
