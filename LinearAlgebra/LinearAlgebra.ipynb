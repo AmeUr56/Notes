{
 "cells": [
  {
   "cell_type": "markdown",
   "metadata": {},
   "source": [
    "# 1. Introduction"
   ]
  },
  {
   "cell_type": "markdown",
   "metadata": {},
   "source": [
    "#### **Definition of Linear Algebra**\n",
    "Linear algebra is a branch of mathematics that deals with vectors, matrices, and linear transformations. It focuses on the study of vector spaces (also called linear spaces) and the linear equations that define relationships between elements in these spaces."
   ]
  },
  {
   "cell_type": "markdown",
   "metadata": {},
   "source": [
    "#### **Purpose of Linear Algebra**:\n",
    " Linear algebra forms the mathematical backbone of many machine learning algorithms, from basic linear regression to complex neural networks and dimensionality reduction techniques."
   ]
  },
  {
   "cell_type": "markdown",
   "metadata": {},
   "source": [
    "#### **Why Linear Algebra?**:<br>\n",
    "\n",
    "- **Data Representation**: Vectors and matrices are fundamental structures for representing datasets, with rows as samples and columns as features.\n",
    "\n",
    "- **Transformations**: Linear algebra helps in applying geometric transformations (e.g., rotations, scaling), crucial for feature engineering and understanding data relationships.\n",
    "\n",
    "- **Dimensionality Reduction**: Techniques like Principal Component Analysis (PCA) rely on linear algebra (eigenvectors/eigenvalues) to reduce the complexity of data while retaining its essence.\n",
    "\n",
    "- **Optimization**: Many machine learning models use optimization algorithms (e.g., gradient descent) which are based on solving systems of linear equations.\n",
    "\n",
    "- **Neural Networks and Deep Learning**: Operations in deep learning, such as computing weights and activations, are expressed as matrix multiplications and vector operations.\n",
    "\n",
    "- **Efficiency**: Linear algebra allows for efficient computation of large datasets, enabling faster model training and prediction."
   ]
  },
  {
   "cell_type": "markdown",
   "metadata": {},
   "source": [
    "# 2. Data Types"
   ]
  },
  {
   "cell_type": "markdown",
   "metadata": {},
   "source": [
    "In the context of linear algebra and machine learning, data types represent different mathematical structures used to organize and manipulate data."
   ]
  },
  {
   "cell_type": "markdown",
   "metadata": {},
   "source": [
    "## **1. Scalars**:\n",
    "- **Definition**: A single number, often representing a simple value.\n",
    "- **Example**: 5, 3.14, -2.\n",
    "- **Use in ML**: Scalars can represent individual coefficients, weights, or biases in models."
   ]
  },
  {
   "cell_type": "markdown",
   "metadata": {},
   "source": [
    "### Notes:\n",
    "- **Constant Symbols**: α, β, λ, σ\n",
    "- **Variable Symbols**: a, b, c, ..., y, z\n",
    "- Can be Real or Complex, but in ML only Real : a ∈ ℝ\n",
    "- Models's Hyperparameter are usually scalars. \n",
    "- Scalars are simple but important."
   ]
  },
  {
   "cell_type": "markdown",
   "metadata": {},
   "source": [
    "![Alt Text](img/scalar.png)"
   ]
  },
  {
   "cell_type": "code",
   "execution_count": null,
   "metadata": {},
   "outputs": [],
   "source": [
    "# Scalar examples\n",
    "scalar_int = 5\n",
    "scalar_float = 3.14\n",
    "scalar_negative = -2"
   ]
  },
  {
   "cell_type": "markdown",
   "metadata": {},
   "source": [
    "## **2. Vectors**:\n",
    "- **Definition**: An ordered list of numbers(scalars) (1D array) that represent a point in space or a set of features.\n",
    "- **Example**: \n",
    "𝑣\n",
    "=\n",
    "[\n",
    "𝑣1\n",
    ",\n",
    "𝑣2\n",
    ",\n",
    "...\n",
    ",\n",
    "𝑣n\n",
    "].<br>\n",
    "- **Use in ML**: Features of a dataset or weights of a machine learning model."
   ]
  },
  {
   "cell_type": "markdown",
   "metadata": {},
   "source": [
    "### **Notes**:\n",
    "- Horizontal vector is called Row Vector.\n",
    "- Vertical vector is called Column Vector.\n",
    "- Transpose operation converts row vector to column and viceversa.\n",
    "- Vector Symbols are the bold copy of Scalar Symbols\n",
    "- Models Features(inputs) are usually vectors."
   ]
  },
  {
   "cell_type": "markdown",
   "metadata": {},
   "source": [
    "![Alt Text](img/vector.png)"
   ]
  },
  {
   "cell_type": "code",
   "execution_count": 1,
   "metadata": {},
   "outputs": [],
   "source": [
    "import numpy as np\n",
    "\n",
    "# Vector example: v = [v1, v2, ..., vn]\n",
    "vector = np.array([1, 2, 3])  # 1D array representing a vector"
   ]
  },
  {
   "cell_type": "markdown",
   "metadata": {},
   "source": [
    "## **3. Matrices**:\n",
    "- **Definition**: \n",
    "    - A rectangular array of numbers arranged in rows and columns (2D array).\n",
    "    - Collection of Vectors.\n",
    "- **Notation**:\n",
    "A = [aij]m*n\n",
    "    - **A** is the matrix.\n",
    "    - **a** is element of the matrix.\n",
    "    - **i** is the index to the matrix's row.\n",
    "    - **j** is the index to the matrix's column.\n",
    "    - **m** is number of rows.\n",
    "    - **n** is number of cols.\n",
    "- **Example**:<br>\n",
    "𝐴 =<br>\n",
    "[\n",
    "**a**11\n",
    "**a**12\n",
    "**a**13\n",
    "...\n",
    "**a**1n<br>\n",
    "**a**21\n",
    "**a**22\n",
    "**a**23\n",
    "...\n",
    "**a**2n<br>\n",
    "...\n",
    "...\n",
    "...\n",
    "...\n",
    "...<br>\n",
    "**a**m1\n",
    "**a**m2\n",
    "**a**m3\n",
    "...\n",
    "**a**mn\n",
    "]\n",
    "\n",
    "- **Use in ML**: Represent datasets (rows as samples, columns as features) or transformations."
   ]
  },
  {
   "cell_type": "markdown",
   "metadata": {},
   "source": [
    "### **Notes**:\n",
    "- row of matrix is a vector of size m.\n",
    "- column of matrix is vector of size n.\n",
    "- list of elements from top left to bottom right(**a**11 to **a**mn) are known as **diagonal**"
   ]
  },
  {
   "cell_type": "markdown",
   "metadata": {},
   "source": [
    "![Alt Text](img/matrix.png)"
   ]
  },
  {
   "cell_type": "code",
   "execution_count": 2,
   "metadata": {},
   "outputs": [],
   "source": [
    "# Matrix example: A = [a11, a12, a13, ..., a1n]\n",
    "#                  [a21, a22, a23, ..., a2n]\n",
    "#                  ...\n",
    "#                  [am1, am2, am3, ..., amn]\n",
    "\n",
    "matrix = np.array([[1, 2, 3],\n",
    "                   [4, 5, 6],\n",
    "                   [7, 8, 9]])  # 2D array representing a matrix"
   ]
  },
  {
   "cell_type": "markdown",
   "metadata": {},
   "source": [
    "## **4. Tensors**:\n",
    "- **Definition**: A generalization of vectors and matrices to higher dimensions (n-dimensional arrays).\n",
    "- **Example**: A 3D tensor could represent a color image where each pixel has RGB values.\n",
    "- **Use in ML**: Tensors are widely used in deep learning frameworks like TensorFlow to store multidimensional data such as images, videos, or batches of data."
   ]
  },
  {
   "cell_type": "markdown",
   "metadata": {},
   "source": [
    "### **Notes**:\n",
    "- Tensors are used too much in DL like image representation RGB.\n",
    "- Tensors are Generalized representation of Scalars, Vectors, Matrices:\n",
    "    - Scalar is 0-dim tensor.\n",
    "    - Vector is 1-dim tensor.\n",
    "    - Matrix is 2-dim tensor."
   ]
  },
  {
   "cell_type": "markdown",
   "metadata": {},
   "source": [
    "![Alt Text](img/tensor.png)"
   ]
  },
  {
   "cell_type": "code",
   "execution_count": 3,
   "metadata": {},
   "outputs": [],
   "source": [
    "# Tensor example: A 3D tensor with shape (2, 2, 3)\n",
    "tensor = np.array([[[1, 2, 3], [4, 5, 6]], \n",
    "                   [[7, 8, 9], [10, 11, 12]]])  # 3D array representing a tensor"
   ]
  },
  {
   "cell_type": "markdown",
   "metadata": {},
   "source": [
    "# 3. Vector Geometric Prespective"
   ]
  },
  {
   "cell_type": "markdown",
   "metadata": {},
   "source": [
    "## **1. Representation of a Vector**\n",
    "A vector is usually represented as an arrow in a space:\n",
    "- **Starting point**: Called the tail (often the origin).\n",
    "- **Ending point**: Called the head.\n",
    "<br>\n",
    "\n",
    "**Example** in 2D: A vector 𝑣=[3,2]\n",
    "can be visualized as an arrow from the origin (0,0) to the point (3,2)."
   ]
  },
  {
   "cell_type": "markdown",
   "metadata": {},
   "source": [
    "![Alt Text](img/vector_repr.png)"
   ]
  },
  {
   "cell_type": "markdown",
   "metadata": {},
   "source": [
    "## **2. Magnitude (Length) & Direction of a Vector**\n",
    "The magnitude (or norm) of a vector is its length, calculated using:"
   ]
  },
  {
   "cell_type": "markdown",
   "metadata": {},
   "source": [
    "### L1 Norm:\n",
    "The L1 norm is the sum of the absolute values of the vector components.<br>\n",
    "- **Geometric Interpretation**: It represents the distance between points if you can only move along the grid (like in a city grid system).\n",
    "- **Use in ML**: L1 regularization (Lasso) encourages sparsity in machine learning models by driving some coefficients to zero.\n",
    "\n",
    "![Alt Text](img/l1norm.png)"
   ]
  },
  {
   "cell_type": "code",
   "execution_count": 4,
   "metadata": {},
   "outputs": [
    {
     "name": "stdout",
     "output_type": "stream",
     "text": [
      "L1 Norm: 9\n"
     ]
    }
   ],
   "source": [
    "# Example vector\n",
    "v = np.array([3, -4, 2])\n",
    "\n",
    "# L1 Norm\n",
    "l1_norm = np.sum(np.abs(v))\n",
    "print(\"L1 Norm:\", l1_norm)"
   ]
  },
  {
   "cell_type": "markdown",
   "metadata": {},
   "source": [
    "### L2 Norm:\n",
    "The L2 norm is the square root of the sum of the squared components of the vector.\n",
    "- **Geometric Interpretation**: It represents the straight-line (Euclidean) distance from the origin to the point in space.\n",
    "- **Use in ML**: L2 regularization (Ridge) penalizes large coefficients and helps prevent overfitting by making the solution smoother.\n",
    "\n",
    "![Alt Text](img/l2norm.png)"
   ]
  },
  {
   "cell_type": "code",
   "execution_count": 5,
   "metadata": {},
   "outputs": [
    {
     "name": "stdout",
     "output_type": "stream",
     "text": [
      "L2 Norm: 5.385164807134504\n"
     ]
    }
   ],
   "source": [
    "# L2 Norm (Euclidean norm)\n",
    "l2_norm = np.linalg.norm(v)\n",
    "print(\"L2 Norm:\", l2_norm)"
   ]
  },
  {
   "cell_type": "markdown",
   "metadata": {},
   "source": [
    "### Max Norm:\n",
    "The L∞ norm is the maximum absolute value of the vector components.\n",
    "- **Geometric Interpretation**: It gives the largest distance along any single axis.\n",
    "- **Use in ML**: It is used in optimization problems where you want to limit the largest deviation or outliers.\n",
    "\n",
    "![ALT TEXT](img/maxnorm.png)"
   ]
  },
  {
   "cell_type": "code",
   "execution_count": 6,
   "metadata": {},
   "outputs": [
    {
     "name": "stdout",
     "output_type": "stream",
     "text": [
      "Max Norm: 4\n"
     ]
    }
   ],
   "source": [
    "# Max Norm (L∞ Norm)\n",
    "max_norm = np.max(np.abs(v))\n",
    "print(\"Max Norm:\", max_norm)"
   ]
  },
  {
   "cell_type": "markdown",
   "metadata": {},
   "source": [
    "The **p-norm** (also called the Lp-norm) is a generalized way to define the length or size of a vector for any positive integer \n",
    "𝑝.<br><br>\n",
    "![Alt Text](img/pnorm_.png)"
   ]
  },
  {
   "cell_type": "code",
   "execution_count": 7,
   "metadata": {},
   "outputs": [
    {
     "name": "stdout",
     "output_type": "stream",
     "text": [
      "L3 Norm: 4.626065009182741\n"
     ]
    }
   ],
   "source": [
    "# p-Norm with p = 3\n",
    "p = 3\n",
    "p_norm = np.linalg.norm(v, ord=p)\n",
    "print(f\"L{p} Norm:\", p_norm)"
   ]
  },
  {
   "cell_type": "markdown",
   "metadata": {},
   "source": [
    "## **3. Unit Vector**\n",
    "A unit vector is a vector that has a magnitude (length) of 1. It is typically used to indicate direction without scaling the vector's length. A unit vector in the direction of any vector can be obtained by normalizing that vector (i.e., dividing the vector by its magnitude)."
   ]
  },
  {
   "cell_type": "markdown",
   "metadata": {},
   "source": [
    "### Formula:\n",
    "If 𝑣 is a vector, the corresponding **unit vector 𝑣^** is given by:<br><pre>\n",
    "𝑣^ = 𝑣 / ∣∣𝑣∣∣</pre>\n",
    "Where:\n",
    "- **𝑣** is the original vector.\n",
    "- **∣∣𝑣∣∣** is the magnitude (or norm) of the vector **V**.\n",
    "- **𝑣^** is the resulting unit vector."
   ]
  },
  {
   "cell_type": "markdown",
   "metadata": {},
   "source": [
    "### Example:\n",
    "- For a vector 𝑣=[3,4] the magnitude is:<pre>\n",
    "∣∣𝑣∣∣ = sqrt(3²+4²) = sqrt(9+16) = 5\n",
    "- The unit vector 𝑣^ is:<pre>\n",
    "𝑣^ = [3,4]/5 = [3/5,4/5] = [0.6,0.8]</pre>\n",
    "\n",
    "This new vector [0.6,0.8] has a magnitude of 1, pointing in the same direction as 𝑣."
   ]
  },
  {
   "cell_type": "code",
   "execution_count": 8,
   "metadata": {},
   "outputs": [
    {
     "name": "stdout",
     "output_type": "stream",
     "text": [
      "Unit Vector: [ 0.55708601 -0.74278135  0.37139068]\n"
     ]
    }
   ],
   "source": [
    "# Unit vector\n",
    "unit_vector = v / np.linalg.norm(v)\n",
    "print(\"Unit Vector:\", unit_vector)"
   ]
  },
  {
   "cell_type": "markdown",
   "metadata": {},
   "source": [
    "#### Shape created by different norms:\n",
    "is important because it reflects how distances and magnitudes are measured in various contexts, particularly in machine learning, optimization, and data analysis."
   ]
  },
  {
   "cell_type": "markdown",
   "metadata": {},
   "source": [
    "##### L1 Norm\n",
    "![ALT TEXT](img/l1_unit.png)"
   ]
  },
  {
   "cell_type": "markdown",
   "metadata": {},
   "source": [
    "##### L2 Norm\n",
    "![ALT TEXT](img/l2_unit.png)"
   ]
  },
  {
   "cell_type": "markdown",
   "metadata": {},
   "source": [
    "## **4. Stretching & Shrinking Vectors**\n",
    "In linear algebra, stretching and shrinking refer to changing the magnitude of a vector without altering its direction.\n",
    "<br><br>\n",
    "- **Stretching**: A vector is stretched when it is **multiplied by a scalar** greater than 1. This **increases its magnitude** (length).<pre>\n",
    "𝑣′= 𝑐⋅𝑣 where 𝑐 >1 "
   ]
  },
  {
   "cell_type": "code",
   "execution_count": 9,
   "metadata": {},
   "outputs": [
    {
     "name": "stdout",
     "output_type": "stream",
     "text": [
      "Stretched Vector: [ 6 -8  4]\n"
     ]
    }
   ],
   "source": [
    "c_stretch = 2  # scalar greater than 1\n",
    "stretched_vector = c_stretch * v\n",
    "print(\"Stretched Vector:\", stretched_vector)"
   ]
  },
  {
   "cell_type": "markdown",
   "metadata": {},
   "source": [
    "- **Shrinking**: A vector is shrunk when **multiplied by a scalar** between 0 and 1, **reducing its magnitude**.<pre>\n",
    "𝑣′= 𝑐⋅𝑣 where 0 < 𝑐 < 1 "
   ]
  },
  {
   "cell_type": "code",
   "execution_count": 10,
   "metadata": {},
   "outputs": [
    {
     "name": "stdout",
     "output_type": "stream",
     "text": [
      "Shrunk Vector: [ 1.5 -2.   1. ]\n"
     ]
    }
   ],
   "source": [
    "c_shrink = 0.5  # scalar between 0 and 1\n",
    "shrunk_vector = c_shrink * v\n",
    "print(\"Shrunk Vector:\", shrunk_vector)"
   ]
  },
  {
   "cell_type": "markdown",
   "metadata": {},
   "source": [
    "#### Key Point:\n",
    "- The direction can be changed by multiplication by a **negative scalar**."
   ]
  },
  {
   "cell_type": "markdown",
   "metadata": {},
   "source": [
    "## **5. Rotating a Vector (Linear Combination of Vectors)**\n",
    "In linear algebra, a vector can be expressed as a linear combination of other vectors. When we talk about rotating a vector, we often think of the operation in terms of transforming it into a new vector using other vectors.\n",
    "\n",
    "\n",
    "- A vector **𝑣** can be expressed as a linear combination of two basis vectors **𝑎** and **𝑏**:<pre>\n",
    "𝑣 = 𝑐1\\*𝑎 + 𝑐2\\*𝑏\n",
    "\n",
    "where 𝑐1​ and 𝑐2 are scalar coefficients."
   ]
  },
  {
   "cell_type": "code",
   "execution_count": 11,
   "metadata": {},
   "outputs": [
    {
     "name": "stdout",
     "output_type": "stream",
     "text": [
      "Rotated Vector (Linear Combination): [2 3]\n"
     ]
    }
   ],
   "source": [
    "# Linear combination example with vectors a and b\n",
    "a = np.array([1, 0])\n",
    "b = np.array([0, 1])\n",
    "\n",
    "c1, c2 = 2, 3  # scalar coefficients\n",
    "v_rotated = c1 * a + c2 * b\n",
    "print(\"Rotated Vector (Linear Combination):\", v_rotated)"
   ]
  },
  {
   "cell_type": "markdown",
   "metadata": {},
   "source": [
    "## **6. Span of a Set of Vectors**\n",
    "The span of a set of vectors is a fundamental concept in linear algebra that describes all possible linear combinations of those vectors. It represents a subspace formed by combining the vectors in various ways."
   ]
  },
  {
   "cell_type": "markdown",
   "metadata": {},
   "source": [
    "![ALT TEXT](img/span.png)"
   ]
  },
  {
   "cell_type": "markdown",
   "metadata": {},
   "source": [
    "#### 1. Definition\n",
    "The span of a set of vectors \n",
    "{𝑣1,𝑣2,...,𝑣𝑛} is defined as:<pre>\n",
    "Span({𝑣1,𝑣2,...,𝑣𝑛})={𝑐1𝑣1+𝑐2𝑣2+...+𝑐𝑛𝑣𝑛 ∣ 𝑐1,𝑐2,...,𝑐𝑛 ∈ 𝑅}</pre>\n",
    "\n",
    "#### 2. Geometric Interpretation\n",
    "  - **In 2D**: The span of two non-collinear vectors will form the entire 2D plane.\n",
    "  - **In 3D**: The span of three non-coplanar vectors will fill the entire 3D space.\n",
    "  - If vectors are linearly dependent, the span will be a lower-dimensional subspace (e.g., a line or plane)"
   ]
  },
  {
   "cell_type": "code",
   "execution_count": 12,
   "metadata": {},
   "outputs": [
    {
     "name": "stdout",
     "output_type": "stream",
     "text": [
      "Span of vectors a and b: [array([-3, -3]), array([-3, -2]), array([-3, -1]), array([-3,  0]), array([-3,  1])]\n"
     ]
    }
   ],
   "source": [
    "# Span example with vectors a and b\n",
    "span_combinations = [c1 * a + c2 * b for c1 in range(-3, 4) for c2 in range(-3, 4)]\n",
    "print(\"Span of vectors a and b:\", span_combinations[:5])  # showing 5 combinations"
   ]
  },
  {
   "cell_type": "markdown",
   "metadata": {},
   "source": [
    "## **7. Basis Vectors**\n",
    "Basis vectors are a set of vectors in a vector space that are used to describe all other vectors in that space through linear combinations. They play a crucial role in linear algebra, enabling the representation of vectors in a systematic and efficient manner.\n"
   ]
  },
  {
   "cell_type": "markdown",
   "metadata": {},
   "source": [
    "![ALT TEXT](img/2d_basis_vecs.png) ![ALT TEXT](img/3d_basis_vecs.png)"
   ]
  },
  {
   "cell_type": "markdown",
   "metadata": {},
   "source": [
    "#### 1. Definition\n",
    "A set of vectors \n",
    "{𝑏1,𝑏2,...,𝑏𝑛} is called a basis for a vector space 𝑉 if:\n",
    "- **Spanning**: The span of the basis vectors equals the vector space 𝑉:<pre>\n",
    "Span({𝑏1,𝑏2,…,𝑏𝑛})=𝑉</pre>\n",
    "\n",
    "- **Linear Independence**: The vectors are linearly independent, meaning no vector in the set can be expressed as a linear combination of the others.\n",
    "\n",
    "#### 2. Properties\n",
    "- The number of vectors in a basis corresponds to the **dimension** of the vector space. For example:\n",
    "    - A basis for 𝑅² consists of 2 vectors.\n",
    "    - A basis for 𝑅³ consists of 3 vectors.\n",
    "- Any vector in the space can be expressed as a unique linear combination of the basis vectors."
   ]
  },
  {
   "cell_type": "code",
   "execution_count": 13,
   "metadata": {},
   "outputs": [
    {
     "name": "stdout",
     "output_type": "stream",
     "text": [
      "Basis Vectors: [1 0] [0 1]\n"
     ]
    }
   ],
   "source": [
    "# Basis vectors in 2D\n",
    "basis_vector1 = np.array([1, 0])\n",
    "basis_vector2 = np.array([0, 1])\n",
    "print(\"Basis Vectors:\", basis_vector1, basis_vector2)"
   ]
  },
  {
   "cell_type": "markdown",
   "metadata": {},
   "source": [
    "## **8. Dot Product**\n",
    "The dot product (also known as the scalar product or inner product) is a fundamental operation in linear algebra that takes two vectors and produces a scalar (a single number). It is widely used in various fields, including physics, engineering, and machine learning, to measure the angle between vectors, projection, and similarity."
   ]
  },
  {
   "cell_type": "markdown",
   "metadata": {},
   "source": [
    "![ALT TEXT](img/dot_product.png)"
   ]
  },
  {
   "cell_type": "markdown",
   "metadata": {},
   "source": [
    "#### 1. Definition\n",
    "For two vectors  𝑎 and b in 𝑅ⁿ, the dot product is defined as:<pre>\n",
    "𝑎⋅𝑏=𝑎1𝑏1+𝑎2𝑏2+...+𝑎𝑛𝑏𝑛</pre>\n",
    "where **𝑎𝑖** and **𝑏𝑖** are the components of vectors **𝑎** and **𝑏**,respectively.\n",
    "\n",
    "#### 2. Geometric Interpretation\n",
    "The dot product can also be expressed in terms of the magnitudes of the vectors and the cosine of the angle θ between them:<pre>\n",
    "𝑎⋅𝑏=∥𝑎∥∥𝑏∥cos(𝜃)</pre>\n",
    "where:\n",
    "- **∥𝑎∥** and **∥𝑏∥** are the magnitudes (lengths) of the vectors.\n",
    "- **θ** is the angle between the vectors.\n",
    "\n",
    "#### 3. Properties\n",
    "- **Commutative** <pre>:𝑎⋅𝑏 = 𝑏⋅𝑎</pre>\n",
    "- **Distributive**: <pre>𝑎⋅(𝑏+𝑐) = 𝑎⋅𝑏+𝑎⋅𝑐</pre>\n",
    "- **Associative with Scalars**:<pre>(𝑐𝑎)⋅𝑏=𝑐(𝑎⋅𝑏)</pre> for any scalar 𝑐\n",
    "- **Dot Product Between Basis Vectors**:The dot product of orthonormal basis vectors is 0 if the vectors are different, and 1 if they are the same:<pre>\n",
    "e_i · e_j = \n",
    "{\n",
    "    1 if i = j\n",
    "    0 if i ≠ j\n",
    "}\n",
    "![ALT TEXT](img/dot_product_basis.png)\n",
    "- **Dot Product Between Vector & Itself**:The dot product of a vector with itself gives the square of its magnitude:<pre>\n",
    "v · v = ||v||^2\n",
    "![ALT TEXT](img/dot_product_itself.png)\n",
    "- **How the dot product affects the angle**:\n",
    "    - If 𝑎⋅𝑏>0(positive), the angle between 𝑎 and 𝑏 is acute (less than 90°).\n",
    "    - If 𝑎⋅𝑏=0, the angle between 𝑎 and 𝑏 is 90° (the vectors are orthogonal).\n",
    "    - If 𝑎⋅𝑏<0 (negative), the angle between 𝑎 and 𝑏 is obtuse (greater than 90°).\n",
    "\n",
    "#### 4. Applications\n",
    "- **Angle Between Vectors**: The dot product can be used to find the cosine of the angle between two vectors. If 𝑎⋅𝑏=0, then the vectors are orthogonal (perpendicular).\n",
    "- **Projection**: The dot product is used to project one vector onto another:<pre>\n",
    "Proj 𝑏(𝑎)= (𝑎⋅𝑏 / ∥𝑏∥) *𝑏\n",
    "- **Similarity Measurement**: In machine learning, the dot product is often used in algorithms like Support Vector Machines (SVMs) and in calculating cosine similarity for text and document comparisons."
   ]
  },
  {
   "cell_type": "code",
   "execution_count": 14,
   "metadata": {},
   "outputs": [
    {
     "name": "stdout",
     "output_type": "stream",
     "text": [
      "Dot Product: 11\n"
     ]
    }
   ],
   "source": [
    "# Dot product\n",
    "a = np.array([1, 2])\n",
    "b = np.array([3, 4])\n",
    "\n",
    "dot_product = np.dot(a, b)\n",
    "print(\"Dot Product:\", dot_product)"
   ]
  },
  {
   "cell_type": "markdown",
   "metadata": {},
   "source": [
    "## **9. Orthogonalization & Gram-Schmidt Algorithm**\n",
    "### 1. Orthogonalization\n",
    "Orthogonalization is the process of converting a set of vectors into an orthogonal set. This means transforming a collection of non-orthogonal vectors into vectors that are perpendicular (orthogonal) to each other. In machine learning and data science, orthogonalization can improve the numerical stability of algorithms by eliminating redundancy and dependencies among vectors."
   ]
  },
  {
   "cell_type": "markdown",
   "metadata": {},
   "source": [
    "\n",
    "### 2. Gram-Schmidt Algorithm\n",
    "The **Gram-Schmidt process** is a widely used method for **orthogonalizing a set of vectors**. It takes a linearly independent set of vectors and transforms them into an orthogonal (or orthonormal) set while preserving the span of the original vectors.\n",
    "\n",
    "#### Steps of the Gram-Schmidt Algorithm\n",
    "Let’s assume we have a set of vectors {𝑣1,𝑣2,...,𝑣𝑛}.\n",
    "\n",
    "- **Start with the first vector**:\n",
    "Set the first orthogonal vector **𝑢1=𝑣1**.\n",
    "\n",
    "- **Orthogonalize each subsequent vector**: For each vector **𝑣𝑘**, subtract the projections onto the previous orthogonal vectors to ensure orthogonality:<pre>\n",
    "𝑢𝑘 = 𝑣𝑘 − (∑(𝑖=1) 𝑘−1Proj 𝑢𝑖 𝑣𝑘) </pre>\n",
    "\n",
    "- **Normalize (optional)**:\n",
    "If an orthonormal set is desired, normalize each 𝑢𝑘 to get unit vectors:\n",
    "𝑒𝑘 = 𝑢𝑘 / ∣∣𝑢𝑘∣∣"
   ]
  },
  {
   "cell_type": "markdown",
   "metadata": {},
   "source": [
    "![ALT TEXT](img/schmidt.png)"
   ]
  },
  {
   "cell_type": "markdown",
   "metadata": {},
   "source": [
    "![ALT TEXT](img/gram_schmidt.jpeg)"
   ]
  },
  {
   "cell_type": "code",
   "execution_count": 15,
   "metadata": {},
   "outputs": [
    {
     "name": "stdout",
     "output_type": "stream",
     "text": [
      "Orthogonal Vectors: [[-0.52573111 -0.85065081]\n",
      " [-0.85065081  0.52573111]]\n"
     ]
    }
   ],
   "source": [
    "from scipy.linalg import orth\n",
    "\n",
    "# Example set of vectors\n",
    "vectors = np.array([[1, 1], [1, 2]])\n",
    "\n",
    "# Orthogonalization using Gram-Schmidt (Scipy's orth function)\n",
    "orthogonal_vectors = orth(vectors)\n",
    "print(\"Orthogonal Vectors:\", orthogonal_vectors)"
   ]
  },
  {
   "cell_type": "markdown",
   "metadata": {},
   "source": [
    "# 4. System of Linear Equation"
   ]
  },
  {
   "cell_type": "markdown",
   "metadata": {},
   "source": [
    "## **1. Equation of Line**\n",
    "The equation of a line in a 2D plane can be written in several forms. The general one is:"
   ]
  },
  {
   "cell_type": "markdown",
   "metadata": {},
   "source": [
    "### General Form:\n",
    "The general form of a line is:<pre>\n",
    "Ax+By+C=0</pre>\n",
    "Where 𝐴, 𝐵, and 𝐶 are constants.<br>\n",
    "![ALT TEXT](img/line.png)"
   ]
  },
  {
   "cell_type": "markdown",
   "metadata": {},
   "source": [
    "### Importance of Linear Equations\n",
    "- Natural phenomenances can be modeled using linear equation.\n",
    "- Complex functions apear linear when viewed in small enough scale."
   ]
  },
  {
   "cell_type": "markdown",
   "metadata": {},
   "source": [
    "![ALT TEXT](img/import_line.png)"
   ]
  },
  {
   "cell_type": "code",
   "execution_count": 16,
   "metadata": {},
   "outputs": [
    {
     "name": "stdout",
     "output_type": "stream",
     "text": [
      "For x = 5, y = 3.6666666666666665\n"
     ]
    }
   ],
   "source": [
    "# Coefficients A, B, and C of the line Ax + By + C = 0\n",
    "A, B, C = 2, -3, 1\n",
    "\n",
    "# Function to calculate y given x\n",
    "def equation_of_line(x):\n",
    "    return (-A/B) * x - C/B\n",
    "\n",
    "# Example usage\n",
    "x_value = 5\n",
    "y_value = equation_of_line(x_value)\n",
    "print(f\"For x = {x_value}, y = {y_value}\")"
   ]
  },
  {
   "cell_type": "markdown",
   "metadata": {},
   "source": [
    "## **2. System of Linear Equations**\n",
    "A **system of linear equations** consists of multiple linear equations that share common variables. The objective is to find values for these variables that satisfy all equations in the system simultaneously."
   ]
  },
  {
   "cell_type": "markdown",
   "metadata": {},
   "source": [
    "### General Representation\n",
    "A system of **𝑚** linear equations in **𝑛** variables can be expressed as:<pre>\n",
    "𝑎11𝑥1+𝑎12𝑥2+ ... +𝑎1𝑛𝑥𝑛=𝑏1\n",
    "𝑎21𝑥1+𝑎22𝑥2+ ... +𝑎2𝑛𝑥𝑛=𝑏2\n",
    "⋮\n",
    "𝑎𝑚1𝑥1+𝑎𝑚2𝑥2+ ... +𝑎𝑚𝑛𝑥𝑛=𝑏𝑚</pre> \n",
    "Where:\n",
    "- **𝑎𝑖𝑗**​ are coefficients,\n",
    "- **𝑥𝑗** are the variables, and\n",
    "- **𝑏𝑖** are constants."
   ]
  },
  {
   "cell_type": "markdown",
   "metadata": {},
   "source": [
    "### Types of Solutions\n",
    "- **Unique Solution**: The system has exactly one solution. This occurs when the equations are independent, and the corresponding matrix 𝐴 is invertible.\n",
    "\n",
    "- **Infinite Solutions**: The system has infinitely many solutions when at least one equation can be derived from others (dependent equations).\n",
    "\n",
    "- **No Solution**: The system has no solution when the equations are contradictory (inconsistent)."
   ]
  },
  {
   "cell_type": "markdown",
   "metadata": {},
   "source": [
    "![ALT TEXT](img/sys_lines.png)"
   ]
  },
  {
   "cell_type": "markdown",
   "metadata": {},
   "source": [
    "### Solution of System of Linear Equations\n",
    "There are several methods for solving a system of linear equations, each suited for different types of systems and contexts. Here are some common methods:"
   ]
  },
  {
   "cell_type": "markdown",
   "metadata": {},
   "source": [
    "#### 1. Substitution Method\n",
    "- Solve one equation for one variable, and then substitute that expression into the other equations. This method works well for systems with a small number of equations and variables.<br><br>\n",
    "![ALT TEXT](img/substitution_method.png)"
   ]
  },
  {
   "cell_type": "markdown",
   "metadata": {},
   "source": [
    "#### 2. Elimination Method\n",
    "Also known as the Gaussian elimination method, this approach involves adding or subtracting equations to eliminate variables systematically. The goal is to reduce the system to an upper triangular form and then solve using back substitution.<br><br>\n",
    "![ALT TEXT](img/elimination_method.png)"
   ]
  },
  {
   "cell_type": "markdown",
   "metadata": {},
   "source": [
    "#### Can every set of equations be solved?\n",
    "- If the number of unknows is more than the number of equations.\n",
    "- If the given equations are not independent pieces of information."
   ]
  },
  {
   "cell_type": "code",
   "execution_count": 17,
   "metadata": {},
   "outputs": [
    {
     "name": "stdout",
     "output_type": "stream",
     "text": [
      "Solution (x1, x2): [1.71428571 2.42857143]\n"
     ]
    }
   ],
   "source": [
    "# Coefficients matrix A and constants vector b\n",
    "A = np.array([[2, -1], [1, 3]])\n",
    "b = np.array([1, 9])\n",
    "\n",
    "# Solving the system using NumPy's solve function\n",
    "solution = np.linalg.solve(A, b)\n",
    "\n",
    "# Output the solution\n",
    "print(\"Solution (x1, x2):\", solution)"
   ]
  },
  {
   "cell_type": "markdown",
   "metadata": {},
   "source": [
    "## **3. Linear Equation as Vector Dot Multiplication**\n",
    "A **linear equation** in 𝑛 variables can be expressed as a dot product of two vectors:<pre>\n",
    "𝑎1𝑥1 + 𝑎2𝑥2 + ⋯ + 𝑎𝑛𝑥𝑛 = 𝑏</pre>\n",
    "\n",
    "This is equivalent to the dot product of the coefficient vector \n",
    "𝑎=[𝑎1,𝑎2,…,𝑎𝑛] and the variable vector \n",
    "𝑥=[𝑥1,𝑥2,…,𝑥𝑛], resulting in:<pre>\n",
    "𝑎⋅𝑥=𝑏</pre>\n",
    "\n",
    "Where **𝑏** is the constant on the right-hand side. The dot product form simplifies understanding of the geometric interpretation of linear equations, making it easier to visualize in higher dimensions."
   ]
  },
  {
   "cell_type": "markdown",
   "metadata": {},
   "source": [
    "![ALT TEXT](img/matrix_dot.png)"
   ]
  },
  {
   "cell_type": "markdown",
   "metadata": {},
   "source": [
    "## **4. System of Linear Equations as Matrix-Vector Multiplication**\n",
    "A system of linear equations can be expressed as matrix-vector multiplication. Consider the system:<pre>\n",
    "𝑎11𝑥1+𝑎12𝑥2+ ... +𝑎1𝑛𝑥𝑛=𝑏1\n",
    "𝑎21𝑥1+𝑎22𝑥2+ ... +𝑎2𝑛𝑥𝑛=𝑏2\n",
    "⋮\n",
    "𝑎𝑚1𝑥1+𝑎𝑚2𝑥2+ ... +𝑎𝑚𝑛𝑥𝑛=𝑏𝑚</pre> \n",
    "This system can be represented as:<pre>\n",
    "𝐴𝑥=𝑏</pre>\n",
    "Where:\n",
    "- **𝐴** is the coefficient matrix of size **𝑚×𝑛**.\n",
    "- **𝑥** is the variable vector of size **𝑛×1**.\n",
    "- **𝑏** is the constant vector of size **𝑚×1**.\n",
    " \n",
    "This compact representation is useful for solving and analyzing systems of linear equations using methods like matrix inversion, Gaussian elimination, or numerical techniques."
   ]
  },
  {
   "cell_type": "markdown",
   "metadata": {},
   "source": [
    "![ALT TEXT](img/matrix_dot.png)"
   ]
  },
  {
   "cell_type": "markdown",
   "metadata": {},
   "source": [
    "## **5. Gauss-Jordan Elimination**\n",
    "Gauss-Jordan Elimination is a method used to solve systems of linear equations by transforming the augmented matrix into **reduced row echelon form (RREF)**. This process eliminates the need for back substitution and provides a straightforward path to find the solution for the variables.\n",
    "\n",
    "### Steps of Gauss-Jordan Elimination:\n",
    "1. **Form the Augmented Matrix**: Write the system of linear equations as an augmented matrix \\( [A|b] \\), where \\( A \\) is the coefficient matrix and \\( b \\) is the constants vector.\n",
    "   \n",
    "2. **Row Operations**: Perform the following elementary row operations:\n",
    "   - Swap two rows.\n",
    "   - Multiply a row by a nonzero scalar.\n",
    "   - Add or subtract a multiple of one row from another row.\n",
    "   \n",
    "3. **Transform to Row Echelon Form (REF)**:\n",
    "   - Start by making the leading coefficient (pivot) in the first row, first column equal to 1 (if not already), by scaling the row.\n",
    "   - Use the pivot to eliminate all other entries in the column below it by adding/subtracting suitable multiples of the pivot row from other rows.\n",
    "   \n",
    "4. **Transform to Reduced Row Echelon Form (RREF)**:\n",
    "   - Make the pivot entry in each row equal to 1.\n",
    "   - Use the pivot to eliminate all other entries in its column, both above and below.\n",
    "   \n",
    "5. **Extract the Solution**:\n",
    "   - Once the matrix is in RREF, the solution to the system can be easily extracted from the matrix.\n",
    "\n",
    "#### Applications:\n",
    "- Gauss-Jordan Elimination is widely used for solving linear systems in fields such as machine learning, optimization problems, and computational mathematics.\n"
   ]
  },
  {
   "cell_type": "code",
   "execution_count": 20,
   "metadata": {},
   "outputs": [
    {
     "name": "stdout",
     "output_type": "stream",
     "text": [
      "Solution: [ 1.5 -1.5 -2.5]\n"
     ]
    }
   ],
   "source": [
    "def gauss_jordan(A, b):\n",
    "    # Augment matrix A with vector b\n",
    "    n = len(b)\n",
    "    A = np.hstack([A, b.reshape(-1, 1)])\n",
    "\n",
    "    # Forward elimination\n",
    "    for i in range(n):\n",
    "        A[i] = A[i] / A[i, i]\n",
    "        for j in range(i + 1, n):\n",
    "            A[j] = A[j] - A[j, i] * A[i]\n",
    "\n",
    "    # Backward elimination\n",
    "    for i in range(n - 1, -1, -1):\n",
    "        for j in range(i - 1, -1, -1):\n",
    "            A[j] = A[j] - A[j, i] * A[i]\n",
    "\n",
    "    return A[:, -1]  # Return the solution (last column)\n",
    "\n",
    "# Example system of equations\n",
    "A = np.array([[2, -1, 1], [1, 0, -1], [3, 1, 0]], dtype=float)\n",
    "b = np.array([2, 4, 3], dtype=float)\n",
    "\n",
    "# Solving the system\n",
    "solution = gauss_jordan(A, b)\n",
    "\n",
    "# Output the solution\n",
    "print(\"Solution:\", solution)"
   ]
  },
  {
   "cell_type": "markdown",
   "metadata": {},
   "source": [
    "![ALT TEXT](img/gauss_jordan_elimination.jpg)"
   ]
  },
  {
   "cell_type": "markdown",
   "metadata": {},
   "source": [
    "# 5. Matrices"
   ]
  },
  {
   "cell_type": "markdown",
   "metadata": {},
   "source": [
    "## **1. Rank of a Matrix**\n",
    "The **rank** of a matrix is defined as the maximum number of linearly independent rows or columns in the matrix. It gives an indication of how much information the matrix holds and is closely related to the concept of linear independence in vector spaces."
   ]
  },
  {
   "cell_type": "markdown",
   "metadata": {},
   "source": [
    "### Key Points:\n",
    "- **Row Rank**: The maximum number of linearly independent rows in the matrix.\n",
    "- **Column Rank**: The maximum number of linearly independent columns in the matrix.\n",
    "- **Fundamental Theorem of Ranks**: In any matrix, the row rank and column rank are always equal, so they both are referred to simply as the **rank of the matrix**.\n",
    "- The rank of a matrix provides insight into the **dimensionality** of the vector space spanned by its rows or columns.\n",
    "- A matrix with full rank has all its rows or columns linearly independent.\n",
    "\n",
    "#### How to Find the Rank:\n",
    "1. **Gaussian Elimination**: Use Gaussian or Gauss-Jordan elimination to reduce the matrix to **row echelon form** or **reduced row echelon form (RREF)**. The number of non-zero rows in this form is the rank of the matrix.\n",
    "   \n",
    "2. **Determinant Method** (for square matrices): The rank of a matrix is the largest order of any non-zero **determinant** of its square submatrices.\n",
    "### Applications of Matrix Rank:\n",
    "- **Solving Linear Systems**: The rank helps determine if a system of linear equations has a unique solution, infinitely many solutions, or no solution at all.\n",
    "- **Dimensionality Reduction**: Rank is used in techniques like Principal Component Analysis (PCA) to reduce the dimensionality of data while preserving as much information as possible.\n",
    "- **Linear Transformations**: The rank tells us about the mapping power of a linear transformation, indicating how many dimensions of the output space are covered by the transformation."
   ]
  },
  {
   "cell_type": "code",
   "execution_count": 24,
   "metadata": {},
   "outputs": [
    {
     "name": "stdout",
     "output_type": "stream",
     "text": [
      "Rank of the matrix: 2\n"
     ]
    }
   ],
   "source": [
    "# Example matrix\n",
    "A = np.array([[1, 2, 3],\n",
    "              [4, 5, 6],\n",
    "              [7, 8, 9]])\n",
    "\n",
    "# Find the rank of the matrix\n",
    "rank = np.linalg.matrix_rank(A)\n",
    "print(f\"Rank of the matrix: {rank}\")"
   ]
  },
  {
   "cell_type": "markdown",
   "metadata": {},
   "source": [
    "#### Explanation:\n",
    "The third row is a linear combination of the first two rows:<pre>\n",
    "Row3 = Row1 + 2×(Row2 − Row1)</pre>\n",
    "Alternatively, if we perform row reduction (Gaussian elimination) on this matrix, the matrix will reduce to something like:<pre>\n",
    "[1  2  3 \n",
    "0 −3 −6\n",
    "0  0  0]\n"
   ]
  },
  {
   "cell_type": "markdown",
   "metadata": {},
   "source": [
    "## **2. Types of Matrices**"
   ]
  },
  {
   "cell_type": "markdown",
   "metadata": {},
   "source": [
    "- **Square Matrix**: A matrix with the same number of rows and columns nxn.<br><br>\n",
    "![ALT TEXT](img/square.png)"
   ]
  },
  {
   "cell_type": "code",
   "execution_count": 29,
   "metadata": {},
   "outputs": [
    {
     "name": "stdout",
     "output_type": "stream",
     "text": [
      "Square Matrix:\n",
      "[[1 2]\n",
      " [3 4]]\n"
     ]
    }
   ],
   "source": [
    "# Square Matrix\n",
    "square_matrix = np.array([[1, 2], [3, 4]])\n",
    "print(f\"Square Matrix:\\n{square_matrix}\")"
   ]
  },
  {
   "cell_type": "markdown",
   "metadata": {},
   "source": [
    "- **Rectangular Matrix**: A matrix where the number of rows is different from the number of columns mxn.<br><br>\n",
    "![ALT TEXT](img/rectangle.png)"
   ]
  },
  {
   "cell_type": "code",
   "execution_count": 30,
   "metadata": {},
   "outputs": [
    {
     "name": "stdout",
     "output_type": "stream",
     "text": [
      "\n",
      "Rectangular Matrix:\n",
      "[[1 2 3]\n",
      " [4 5 6]]\n"
     ]
    }
   ],
   "source": [
    "# Rectangular Matrix\n",
    "rectangular_matrix = np.array([[1, 2, 3], [4, 5, 6]])\n",
    "print(f\"\\nRectangular Matrix:\\n{rectangular_matrix}\")"
   ]
  },
  {
   "cell_type": "markdown",
   "metadata": {},
   "source": [
    "- **Symmetric Matrix**: A square matrix that is equal to its transpose, i.e.,A = A^T.<br><br>\n",
    "![ALT TEXT](img/symmetric.png)"
   ]
  },
  {
   "cell_type": "code",
   "execution_count": 31,
   "metadata": {},
   "outputs": [
    {
     "name": "stdout",
     "output_type": "stream",
     "text": [
      "\n",
      "Symmetric Matrix:\n",
      "[[1 2]\n",
      " [2 1]]\n",
      "Matrix Transpose:\n",
      "[[1 2]\n",
      " [2 1]]\n"
     ]
    }
   ],
   "source": [
    "# Symmetric Matrix\n",
    "symmetric_matrix = np.array([[1, 2], [2,1]])\n",
    "print(f\"\\nSymmetric Matrix:\\n{symmetric_matrix}\")\n",
    "print(f\"Matrix Transpose:\\n{symmetric_matrix.T}\")"
   ]
  },
  {
   "cell_type": "markdown",
   "metadata": {},
   "source": [
    "- **Diagonal Matrix**: A square matrix where all non-diagonal elements are zero. The diagonal elements can be non-zero.<br><br>\n",
    "![ALT TEXT](img/diagonal.png)"
   ]
  },
  {
   "cell_type": "code",
   "execution_count": 32,
   "metadata": {},
   "outputs": [
    {
     "name": "stdout",
     "output_type": "stream",
     "text": [
      "\n",
      "Diagonal Matrix:\n",
      "[[1 0 0 0]\n",
      " [0 2 0 0]\n",
      " [0 0 3 0]\n",
      " [0 0 0 4]]\n"
     ]
    }
   ],
   "source": [
    "# Diagonal Matrix\n",
    "diagonal_matrix = np.diag([1, 2, 3,4])\n",
    "print(f\"\\nDiagonal Matrix:\\n{diagonal_matrix}\")"
   ]
  },
  {
   "cell_type": "markdown",
   "metadata": {},
   "source": [
    "- **Identity Matrix**: A diagonal matrix where all diagonal elements are 1. It acts as the multiplicative identity in matrix multiplication.<br><br>\n",
    "![ALT TEXT](img/identity.png)"
   ]
  },
  {
   "cell_type": "code",
   "execution_count": 37,
   "metadata": {},
   "outputs": [
    {
     "name": "stdout",
     "output_type": "stream",
     "text": [
      "\n",
      "Identity Matrix:\n",
      "[[1. 0.]\n",
      " [0. 1.]]\n"
     ]
    }
   ],
   "source": [
    "# Identity Matrix\n",
    "identity_matrix = np.eye(2)\n",
    "print(f\"\\nIdentity Matrix:\\n{identity_matrix}\")"
   ]
  },
  {
   "cell_type": "markdown",
   "metadata": {},
   "source": [
    "- **Upper Triangular Matrix**: A square matrix where all elements below the main diagonal are zero.<br><br>\n",
    "![ALT TEXT](img/upper_tr.png)"
   ]
  },
  {
   "cell_type": "code",
   "execution_count": 34,
   "metadata": {},
   "outputs": [
    {
     "name": "stdout",
     "output_type": "stream",
     "text": [
      "\n",
      "Upper Triangular Matrix:\n",
      "[[1 2 3]\n",
      " [0 5 6]\n",
      " [0 0 9]]\n"
     ]
    }
   ],
   "source": [
    "# Upper Triangular Matrix\n",
    "upper_triangular_matrix = np.triu([[1, 2, 3], [4, 5, 6], [7, 8, 9]])\n",
    "print(f\"\\nUpper Triangular Matrix:\\n{upper_triangular_matrix}\")"
   ]
  },
  {
   "cell_type": "markdown",
   "metadata": {},
   "source": [
    "- **Lower Triangular Matrix**: A square matrix where all elements above the main diagonal are zero.<br><br>\n",
    "![ALT TEXT](img/lower_tr.png)"
   ]
  },
  {
   "cell_type": "code",
   "execution_count": 36,
   "metadata": {},
   "outputs": [
    {
     "name": "stdout",
     "output_type": "stream",
     "text": [
      "\n",
      "Lower Triangular Matrix:\n",
      "[[1 0 0]\n",
      " [4 5 0]\n",
      " [7 8 9]]\n"
     ]
    }
   ],
   "source": [
    "# Lower Triangular Matrix\n",
    "lower_triangular_matrix = np.tril([[1, 2, 3], [4, 5, 6], [7, 8, 9]])\n",
    "print(f\"\\nLower Triangular Matrix:\\n{lower_triangular_matrix}\")"
   ]
  },
  {
   "cell_type": "markdown",
   "metadata": {},
   "source": [
    "- **Orthogonal Matrix**: A square matrix where the rows and columns are orthonormal vectors, i.e., **A * A^T = I** , where **I**  is the identity matrix.<br><br>\n",
    "![ALT TEXT](img/orthogonal.png)"
   ]
  },
  {
   "cell_type": "code",
   "execution_count": 38,
   "metadata": {},
   "outputs": [
    {
     "name": "stdout",
     "output_type": "stream",
     "text": [
      "\n",
      "Orthogonal Matrix:\n",
      "[[ 1.60184892 -0.43080492 -0.34681285]\n",
      " [ 0.          0.80502318 -0.53210089]\n",
      " [ 0.          0.         -0.55450068]]\n"
     ]
    }
   ],
   "source": [
    "# Orthogonal Matrix (using QR decomposition to create one)\n",
    "_, orthogonal_matrix = np.linalg.qr(np.random.randn(3, 3))\n",
    "print(f\"\\nOrthogonal Matrix:\\n{orthogonal_matrix}\")"
   ]
  },
  {
   "cell_type": "markdown",
   "metadata": {},
   "source": [
    "## **3. Transpose of a Matrix**\n",
    "The **transpose** of a matrix is obtained by swapping its rows and columns. If **A** is an **mxn** matrix, its transpose, denoted by **A^T**, is an **nxm** matrix.\n"
   ]
  },
  {
   "cell_type": "markdown",
   "metadata": {},
   "source": [
    "![ALT TEXT](img/transpose.png)"
   ]
  },
  {
   "cell_type": "markdown",
   "metadata": {},
   "source": [
    "## **4. Types of Matrices by Definiteness**\n",
    "\n",
    "- **Positive Definite Matrix**: A symmetric matrix \\( A \\) is positive definite if for all non-zero vectors \\( x \\), the following condition holds:\n",
    "  \\[\n",
    "  x^T A x > 0\n",
    "  \\]\n",
    "\n",
    "- **Positive Semidefinite Matrix**: A symmetric matrix \\( A \\) is positive semidefinite if for all vectors \\( x \\):\n",
    "  \\[\n",
    "  x^T A x \\geq 0\n",
    "  \\]\n",
    "\n",
    "- **Negative Definite Matrix**: A symmetric matrix \\( A \\) is negative definite if for all non-zero vectors \\( x \\):\n",
    "  \\[\n",
    "  x^T A x < 0\n",
    "  \\]\n",
    "\n",
    "- **Negative Semidefinite Matrix**: A symmetric matrix \\( A \\) is negative semidefinite if for all vectors \\( x \\):\n",
    "  \\[\n",
    "  x^T A x \\leq 0\n",
    "  \\]\n",
    "\n",
    "- **Indefinite Matrix**: A symmetric matrix \\( A \\) is indefinite if there exists at least one vector \\( x \\) such that:\n",
    "  \\[\n",
    "  x^T A x > 0\n",
    "  \\]\n",
    "  and at least one vector \\( y \\) such that:\n",
    "  \\[\n",
    "  y^T A y < 0\n",
    "  \\]\n",
    "\n",
    "![ALT TEXT](img/def.png)"
   ]
  },
  {
   "cell_type": "code",
   "execution_count": 42,
   "metadata": {},
   "outputs": [
    {
     "name": "stdout",
     "output_type": "stream",
     "text": [
      "Matrix C:\n",
      "[[ 2 -1  0]\n",
      " [-1  2 -1]\n",
      " [ 0 -1  2]]\n",
      "Is matrix C positive definite? True\n"
     ]
    }
   ],
   "source": [
    "# Check if a matrix is positive definite\n",
    "def is_positive_definite(matrix):\n",
    "    # Positive definite if all eigenvalues are positive\n",
    "    eigenvalues = np.linalg.eigvals(matrix)\n",
    "    return np.all(eigenvalues > 0)\n",
    "\n",
    "# Example symmetric matrix\n",
    "C = np.array([[2, -1, 0], [-1, 2, -1], [0, -1, 2]])\n",
    "\n",
    "print(f\"Matrix C:\\n{C}\")\n",
    "print(f\"Is matrix C positive definite? {is_positive_definite(C)}\")"
   ]
  },
  {
   "cell_type": "markdown",
   "metadata": {},
   "source": [
    "## **5. Matrix Transformation on Vectors**:"
   ]
  },
  {
   "cell_type": "markdown",
   "metadata": {},
   "source": [
    "- **Identity Matrix on a Vector**:\n",
    "    - The identity matrix **𝐼𝑛** is a square matrix with ones on the diagonal and zeros elsewhere.\n",
    "    - When the identity matrix multiplies a vector **𝑥**, it leaves the vector unchanged:<pre> 𝐼𝑛𝑥 = 𝑥\n",
    "\n",
    "![ALT TEXT](img/identity_vector.png)\n",
    "\n",
    "- **Scaled Identity Matrix on a Vector**:\n",
    "    - A scaled identity matrix is the identity matrix multiplied by a scalar **𝜆**, denoted as **𝜆𝐼𝑛**.\n",
    "    - When a scaled identity matrix multiplies a vector 𝑥, it scales the vector by 𝜆:<pre> 𝜆𝐼𝑛𝑥 = 𝜆𝑥\n",
    "\n",
    "    - Every component of the vector is multiplied by the scalar 𝜆, effectively scaling the entire vector by that factor.\n",
    "    \n",
    "![ALT TEXT](img/scaled_identity_vector.png)\n",
    "\n",
    "- **Diagonal Matrix on a Vector**:\n",
    "    - A diagonal matrix 𝐷 has arbitrary values on the diagonal and zeros elsewhere.\n",
    "    - When a diagonal matrix multiplies a vector 𝑥, each component of the vector is scaled by the corresponding diagonal element.\n",
    "    - Each element of the vector is multiplied by the corresponding diagonal value of the matrix.\n",
    "\n",
    "![ALT TEXT](img/diagonal_vector.png)"
   ]
  },
  {
   "cell_type": "markdown",
   "metadata": {},
   "source": [
    "## **6. Matrix Transformation on Space**:"
   ]
  },
  {
   "cell_type": "markdown",
   "metadata": {},
   "source": [
    "- **Identity matrix**\n",
    "\n",
    "![ALT TEXT](img/identity_space.png)\n",
    "\n",
    "- **Diagonal matrix**\n",
    "\n",
    "![ALT TEXT](img/diagonal_space.png)\n",
    "\n",
    "- **Orthogonal matrix**\n",
    "\n",
    "![ALT TEXT](img/orthogonal_space.png)\n",
    "\n",
    "- **Symmetric matrix**\n",
    "\n",
    "![ALT TEXT](img/symmetric_space.png)\n",
    "\n",
    "- When two rows are in same direction.\n",
    "\n",
    "![ALT TEXT](img/symmetric_space1.png)\n",
    "\n",
    "- **Upper Triangular matrix**\n",
    "\n",
    "![ALT TEXT](img/up_tr_space.png)\n",
    "\n",
    "- **Lower Triangular matrix**\n",
    "\n",
    "![ALT TEXT](img/lw_tr_space.png)\n",
    "\n",
    "- **Positive Definite matrix**\n",
    "\n",
    "![ALT TEXT](img/pos_def_space.png)"
   ]
  },
  {
   "cell_type": "code",
   "execution_count": 43,
   "metadata": {},
   "outputs": [
    {
     "name": "stdout",
     "output_type": "stream",
     "text": [
      "Identity matrix applied to vector x: [1. 2. 3.]\n",
      "Diagonal matrix applied to vector x: [ 2  6 12]\n"
     ]
    }
   ],
   "source": [
    "# Example Vector\n",
    "x = np.array([1, 2, 3])\n",
    "# Identity matrix transformation\n",
    "I = np.eye(3)\n",
    "print(f\"Identity matrix applied to vector x: {I.dot(x)}\")\n",
    "\n",
    "# Diagonal matrix transformation\n",
    "D = np.diag([2, 3, 4])\n",
    "print(f\"Diagonal matrix applied to vector x: {D.dot(x)}\")"
   ]
  },
  {
   "cell_type": "markdown",
   "metadata": {},
   "source": [
    "## **7. Matrix Inverse**\n",
    "The inverse of a matrix is a matrix that, when multiplied by the original matrix, results in the identity matrix. Not all matrices have inverses—only square matrices that are non-singular (i.e., their determinant is non-zero) have inverses.<br>\n",
    "\n",
    "If 𝐴 is a square matrix, its inverse is denoted as 𝐴⁻¹, and the following holds:<pre>\n",
    "\n",
    "𝐴𝐴⁻¹ = 𝐴⁻¹𝐴 = 𝐼𝑛</pre>\n",
    "\n",
    "Where:\n",
    "- **𝐴** is an 𝑛×𝑛 matrix.\n",
    "- **𝐴⁻¹**  is the inverse of 𝐴.\n",
    "- **𝐼𝑛** is the 𝑛×𝑛 identity matrix.\n",
    "\n",
    "### Key Points:\n",
    "- **Existence**: Not all matrices have an inverse. A matrix must be square and have a non-zero determinant to have an inverse.\n",
    "- **Uniqueness**: If the inverse exists, it is unique.\n",
    "- **Multiplicative Identity**: The product of a matrix and its inverse is the identity matrix.\n",
    "- **Applications**: Matrix inverses are used in solving systems of linear equations, particularly in the equation **𝐴𝑥=𝑏**, where **𝑥=𝐴⁻¹ 𝑏**.\n",
    "\n",
    "![ALT TEXT](img/inv.png)"
   ]
  },
  {
   "cell_type": "markdown",
   "metadata": {},
   "source": [
    "#### Orthogonal Matrix Inverse:\n",
    "![ALT TEXT](img/orthog_inv.png)"
   ]
  },
  {
   "cell_type": "code",
   "execution_count": 44,
   "metadata": {},
   "outputs": [
    {
     "name": "stdout",
     "output_type": "stream",
     "text": [
      "Matrix E:\n",
      "[[1 2]\n",
      " [3 4]]\n",
      "Inverse of matrix E:\n",
      "[[-2.   1. ]\n",
      " [ 1.5 -0.5]]\n",
      "Product of E and its inverse (should be identity matrix):\n",
      "[[1.0000000e+00 0.0000000e+00]\n",
      " [8.8817842e-16 1.0000000e+00]]\n"
     ]
    }
   ],
   "source": [
    "# Example invertible matrix\n",
    "E = np.array([[1, 2], [3, 4]])\n",
    "print(f\"Matrix E:\\n{E}\")\n",
    "\n",
    "# Find inverse\n",
    "E_inverse = np.linalg.inv(E)\n",
    "print(f\"Inverse of matrix E:\\n{E_inverse}\")\n",
    "\n",
    "# Verify inverse\n",
    "result = np.dot(E, E_inverse)\n",
    "print(f\"Product of E and its inverse (should be identity matrix):\\n{result}\")"
   ]
  },
  {
   "cell_type": "markdown",
   "metadata": {},
   "source": [
    "# 6. Determinants "
   ]
  },
  {
   "cell_type": "markdown",
   "metadata": {},
   "source": [
    "## **1. Geometric Areas and Volumes with Vectors in 2D and 3D Space**"
   ]
  },
  {
   "cell_type": "markdown",
   "metadata": {},
   "source": [
    "### **1. Area of Parallelogram Represented by Basic Vectors of 2D Space**:\n",
    "In 2D space, the area of a parallelogram formed by two basic vectors 𝑎 and 𝑏 is given by the absolute value of their determinant:<pre>\n",
    "Area=|𝑎1𝑏2−𝑎2𝑏1∣\n",
    "\n",
    "![ALT TEXT](img/2d_basis.png)"
   ]
  },
  {
   "cell_type": "code",
   "execution_count": 46,
   "metadata": {},
   "outputs": [
    {
     "name": "stdout",
     "output_type": "stream",
     "text": [
      "Area of Parallelogram: 10.000000000000002\n"
     ]
    }
   ],
   "source": [
    "# Define the vectors\n",
    "a = np.array([2, 3])  # Example values\n",
    "b = np.array([4, 1])  # Example values\n",
    "\n",
    "# Calculate the determinant (area of the parallelogram)\n",
    "area = np.abs(np.linalg.det(np.array([a, b])))\n",
    "\n",
    "print(f\"Area of Parallelogram: {area}\")"
   ]
  },
  {
   "cell_type": "markdown",
   "metadata": {},
   "source": [
    "### **2. Area of Parallelogram Represented by Linearly Dependent Vectors**:\n",
    "- If the vectors are linearly dependent, the area of the parallelogram collapses to zero because the vectors are **collinear**, representing no \"spread\" in space.\n",
    "\n",
    "![ALT TEXT](img/2d_dep.png)"
   ]
  },
  {
   "cell_type": "code",
   "execution_count": 49,
   "metadata": {},
   "outputs": [
    {
     "name": "stdout",
     "output_type": "stream",
     "text": [
      "The vectors are linearly dependent; area is zero.\n"
     ]
    }
   ],
   "source": [
    "# Define linearly dependent vectors\n",
    "a = np.array([1, 2])  # Example values\n",
    "b = np.array([2, 4])  # Linearly dependent (2 * a)\n",
    "\n",
    "# Calculate the determinant (area will be zero)\n",
    "area = np.abs(np.linalg.det(np.array([a, b])))\n",
    "\n",
    "if area == 0:\n",
    "    print(\"The vectors are linearly dependent; area is zero.\")\n",
    "else:\n",
    "    print(f\"Area of Parallelogram: {area}\")\n"
   ]
  },
  {
   "cell_type": "markdown",
   "metadata": {},
   "source": [
    "### **3. Volume of Parallelepiped  Represented by Basic Vectors of 3D Space:**\n",
    "In 3D, the volume of the parallelepiped formed by three vectors 𝑎,𝑏 and 𝑐 is given by the absolute value of the scalar triple product:<pre>\n",
    "Volume = ∣𝑎⋅(𝑏×𝑐)∣\n",
    "\n",
    "![ALT TEXT](img/3d_basis.png)"
   ]
  },
  {
   "cell_type": "code",
   "execution_count": 54,
   "metadata": {},
   "outputs": [
    {
     "name": "stdout",
     "output_type": "stream",
     "text": [
      "Volume of Parallelepiped: 1\n"
     ]
    }
   ],
   "source": [
    "# Define the vectors\n",
    "a = np.array([1, 0, 0])  # Example values\n",
    "b = np.array([0, 1, 0])  # Example values\n",
    "c = np.array([0, 0, 1])  # Example values\n",
    "\n",
    "# Calculate the volume using scalar triple product\n",
    "volume = np.abs(np.dot(a, np.cross(b, c)))\n",
    "\n",
    "print(f\"Volume of Parallelepiped: {volume}\")"
   ]
  },
  {
   "cell_type": "markdown",
   "metadata": {},
   "source": [
    "### **4.Volume of Parallelepiped Represented by Linearly Dependent Vectors:**\n",
    "In 3D, the volume of a parallelepiped formed by three vectors 𝑎,𝑏,𝑐 is zero if the vectors are linearly dependent, as they lie in the same plane:<pre>\n",
    "Volume = ∣𝑎⋅(𝑏×𝑐)∣ = 0\n",
    "\n",
    "![ALT TEXT](img/3d_dep.png)"
   ]
  },
  {
   "cell_type": "code",
   "execution_count": 60,
   "metadata": {},
   "outputs": [
    {
     "name": "stdout",
     "output_type": "stream",
     "text": [
      "The vectors are linearly dependent; volume is zero.\n"
     ]
    }
   ],
   "source": [
    "# Define linearly dependent vectors\n",
    "a = np.array([1, 2, 3])  # Example values\n",
    "b = np.array([2, 4, 6])  # Linearly dependent (2 * a)\n",
    "c = np.array([3, 6, 9])  # Linearly dependent (3 * a)\n",
    "\n",
    "# Calculate the volume using scalar triple product\n",
    "volume = np.abs(np.dot(a, np.cross(b, c)))\n",
    "\n",
    "if volume == 0:\n",
    "    print(\"The vectors are linearly dependent; volume is zero.\")\n",
    "else:\n",
    "    print(f\"Volume of Parallelepiped: {volume}\")\n"
   ]
  },
  {
   "cell_type": "markdown",
   "metadata": {},
   "source": [
    "## **2. Scaling of Geometric Shapes**: "
   ]
  },
  {
   "cell_type": "markdown",
   "metadata": {},
   "source": [
    "### **1. How a Matrix Scales the Area of the Parallelogram:**\n",
    "\n",
    "![ALT TEXT](img/2d_scale.png)\n"
   ]
  },
  {
   "cell_type": "code",
   "execution_count": 57,
   "metadata": {},
   "outputs": [
    {
     "name": "stdout",
     "output_type": "stream",
     "text": [
      "Determinant:  2.0000000000000004\n",
      "Scaled Area: 12.000000000000004\n"
     ]
    }
   ],
   "source": [
    "# Define a 2x2 matrix\n",
    "A = np.array([[1, 2], [3, 4]])  # Example matrix\n",
    "\n",
    "# Calculate determinant of the matrix\n",
    "det_A = np.abs(np.linalg.det(A))\n",
    "print(\"Determinant: \",det_A)\n",
    "\n",
    "# Scale the original area\n",
    "area = 6  # Example original area\n",
    "scaled_area = det_A * area\n",
    "\n",
    "print(f\"Scaled Area: {scaled_area}\")\n"
   ]
  },
  {
   "cell_type": "markdown",
   "metadata": {},
   "source": [
    "### **2. How a Matrix Scales the Volume of the Parallelepiped:**\n",
    "\n",
    "![ALT TEXT](img/3d_scale.png)"
   ]
  },
  {
   "cell_type": "code",
   "execution_count": 58,
   "metadata": {},
   "outputs": [
    {
     "name": "stdout",
     "output_type": "stream",
     "text": [
      "Determinant:  0.0\n",
      "Scaled Volume: 0.0\n"
     ]
    }
   ],
   "source": [
    "# Define a 3x3 matrix\n",
    "A = np.array([[1, 2, 3], [4, 5, 6], [7, 8, 9]])  # Example matrix\n",
    "\n",
    "# Calculate determinant of the matrix\n",
    "det_A = np.abs(np.linalg.det(A))\n",
    "print(\"Determinant: \",det_A)\n",
    "\n",
    "# Scale the original volume\n",
    "volume = 10  # Example original volume\n",
    "scaled_volume = det_A * volume\n",
    "\n",
    "print(f\"Scaled Volume: {scaled_volume}\")\n"
   ]
  },
  {
   "cell_type": "markdown",
   "metadata": {},
   "source": [
    "## **3. Calculate the Determinant of a Matrix:**\n",
    "### For a 2x2 matrix:\n",
    "<pre>\n",
    "𝐴=( 𝑎  𝑏 \n",
    "    𝑐  𝑑)</pre>\n",
    "- The determinant is calculated as:<pre>\n",
    "det(𝐴) = 𝑎𝑑−𝑏𝑐</pre>\n",
    "\n",
    "### For a 3x3 matrix:\n",
    "<pre>\n",
    "𝐴=(\n",
    "𝑎 𝑏 𝑐 \n",
    "𝑑 𝑒 𝑓 \n",
    "𝑔 ℎ 𝑖)</pre>\n",
    "- The determinant is calculated as:<pre>\n",
    "det(𝐴)=𝑎(𝑒𝑖−𝑓ℎ)−𝑏(𝑑𝑖−𝑓𝑔)+𝑐(𝑑ℎ−𝑒𝑔)</pre>\n",
    "\n",
    "![ALT TEXT](img/deter.png)"
   ]
  },
  {
   "cell_type": "markdown",
   "metadata": {},
   "source": [
    "- a matrix with a zero determinant does not have an inverse, making it singular.\n",
    "\n",
    "![ALT TEXT](img/deter0.png)"
   ]
  },
  {
   "cell_type": "markdown",
   "metadata": {},
   "source": [
    "- A negative determinant indicates that the matrix transformation involves a reflection.\n",
    "\n",
    "![ALT TEXT](img/neg_deter.png)"
   ]
  },
  {
   "cell_type": "code",
   "execution_count": 52,
   "metadata": {},
   "outputs": [
    {
     "name": "stdout",
     "output_type": "stream",
     "text": [
      "Determinant of the 2x2 matrix: 5.000000000000001\n"
     ]
    }
   ],
   "source": [
    "# 2x2 matrix\n",
    "A_2x2 = np.array([[2, 3], [1, 4]])\n",
    "\n",
    "# Calculate the determinant\n",
    "det_2x2 = np.linalg.det(A_2x2)\n",
    "print(f\"Determinant of the 2x2 matrix: {det_2x2}\")"
   ]
  },
  {
   "cell_type": "markdown",
   "metadata": {},
   "source": [
    "# 7. Eigen"
   ]
  },
  {
   "cell_type": "markdown",
   "metadata": {},
   "source": [
    "## **1. Eigen Vectors and Eigen Values (Geometric View)**:\n",
    "- Eigenvectors are special vectors associated with a matrix transformation. When a matrix 𝐴 acts on an eigenvector 𝑣, the vector is only scaled and not rotated or reflected.\n",
    "Mathematically, for matrix 𝐴 and eigenvector 𝑣, the equation is:\n",
    "𝐴𝑣=𝜆𝑣\n",
    "\n",
    "Where 𝜆 is the eigenvalue corresponding to the eigenvector 𝑣.\n",
    "- **Geometric View**: Eigenvectors point in directions that are **invariant** under the matrix transformation, while eigenvalues describe how much the vector is stretched or compressed.\n",
    "\n",
    "    - If 𝜆>1, the vector is **stretched**.\n",
    "    - If 0<𝜆<1, the vector is **shrunk**.\n",
    "    - If 𝜆=1, the vector's length remains the **same**.\n",
    "    - If 𝜆<0, the vector is scaled and **flipped**.\n",
    "\n",
    "![ALT TEXT](img/eigen_geo.png)"
   ]
  },
  {
   "cell_type": "markdown",
   "metadata": {},
   "source": [
    "2. Computing Eigenvectors and Eigenvalues:\n",
    "- To find the **eigenvalues** of a matrix 𝐴, solve the characteristic equation:<pre>\n",
    "det(𝐴−𝜆𝐼)=0</pre>\n",
    "\n",
    "Where **𝐼** is the identity matrix and **𝜆** represents the eigenvalues.\n",
    "\n",
    "- Once the eigenvalues 𝜆 are found, substitute them into the equation:<pre>\n",
    "(𝐴−𝜆𝐼)𝑣=0</pre>\n",
    "to solve for the **eigenvectors 𝑣**. This system of linear equations determines the eigenvectors corresponding to each eigenvalue.\n",
    "\n",
    "Eigenvectors and eigenvalues have many applications in machine learning and data science, particularly in **dimensionality reduction** techniques like PCA (Principal Component Analysis).\n",
    "\n",
    "![ALT TEXT](img/eigen_0.png) ![ALT TEXT](img/eigen_1.png)"
   ]
  },
  {
   "cell_type": "markdown",
   "metadata": {},
   "source": [
    "- Geometric View\n",
    "\n",
    "![ALT TEXT](img/eigen_2.png) ![ALT TEXT](img/eigen_3.png) ![ALT TEXT](img/eigen_4.png)"
   ]
  },
  {
   "cell_type": "code",
   "execution_count": 63,
   "metadata": {},
   "outputs": [
    {
     "name": "stdout",
     "output_type": "stream",
     "text": [
      "Eigenvalues:\n",
      "[3. 2.]\n",
      "\n",
      "Eigenvectors:\n",
      "[[0.89442719 0.70710678]\n",
      " [0.4472136  0.70710678]]\n"
     ]
    }
   ],
   "source": [
    "# Example matrix A\n",
    "A = np.array([[4, -2],\n",
    "              [1, 1]])\n",
    "\n",
    "# Compute eigenvalues and eigenvectors\n",
    "eigenvalues, eigenvectors = np.linalg.eig(A)\n",
    "\n",
    "print(\"Eigenvalues:\")\n",
    "print(eigenvalues)\n",
    "\n",
    "print(\"\\nEigenvectors:\")\n",
    "print(eigenvectors)"
   ]
  },
  {
   "cell_type": "markdown",
   "metadata": {},
   "source": [
    "## **2. Eigen Decomposition**:\n",
    "Eigen decomposition is the process of breaking down a square matrix into its eigenvalues and eigenvectors. It allows us to express the matrix in a form that reveals its geometric and algebraic properties.\n",
    "\n",
    "- Mathematical Formulation:\n",
    "For a square matrix **𝐴** of size **𝑛×𝑛**, if there exists a diagonal **matrix 𝐷** containing the **eigenvalues 𝜆1,𝜆2,...,𝜆𝑛** and a **matrix 𝑉** consisting of the corresponding **eigenvectors 𝑣1,𝑣2,...,𝑣𝑛**, we can express the eigen decomposition as:<pre>\n",
    "𝐴 = 𝑉𝐷𝑉⁻¹</pre>\n",
    "\n",
    "Where:\n",
    "- **𝐴** is the original matrix.\n",
    "- **𝑉** is the matrix of eigenvectors, where each column is an eigenvector corresponding to an eigenvalue.\n",
    "- **𝐷** is a diagonal matrix where each diagonal entry is an eigenvalue.\n",
    "- **𝑉⁻¹** is the inverse of the matrix of eigenvectors.\n",
    "\n",
    "![ALT TEXT](img/dec_0.png)\n",
    "![ALT TEXT](img/dec_1.png)"
   ]
  },
  {
   "cell_type": "markdown",
   "metadata": {},
   "source": [
    "- Geometric overview\n",
    "\n",
    "![ALT TEXT](img/dec_geo.png)"
   ]
  },
  {
   "cell_type": "code",
   "execution_count": 64,
   "metadata": {},
   "outputs": [
    {
     "name": "stdout",
     "output_type": "stream",
     "text": [
      "Original Matrix A:\n",
      "[[ 4 -2]\n",
      " [ 1  1]]\n",
      "\n",
      "Reconstructed Matrix A:\n",
      "[[ 4. -2.]\n",
      " [ 1.  1.]]\n"
     ]
    }
   ],
   "source": [
    "# Example matrix A\n",
    "A = np.array([[4, -2],\n",
    "              [1, 1]])\n",
    "\n",
    "# Compute eigenvalues and eigenvectors\n",
    "eigenvalues, eigenvectors = np.linalg.eig(A)\n",
    "\n",
    "# Construct the diagonal matrix D from the eigenvalues\n",
    "D = np.diag(eigenvalues)\n",
    "\n",
    "# Calculate the inverse of eigenvectors matrix\n",
    "V_inv = np.linalg.inv(eigenvectors)\n",
    "\n",
    "# Reconstruct the original matrix A\n",
    "A_reconstructed = eigenvectors @ D @ V_inv\n",
    "\n",
    "print(\"Original Matrix A:\")\n",
    "print(A)\n",
    "\n",
    "print(\"\\nReconstructed Matrix A:\")\n",
    "print(A_reconstructed)\n"
   ]
  },
  {
   "cell_type": "markdown",
   "metadata": {},
   "source": [
    "## **3. The Spectral Theorem**:\n",
    "![ALT TEXT](img/spect.png)"
   ]
  },
  {
   "cell_type": "markdown",
   "metadata": {},
   "source": [
    "- Geometric view\n",
    "\n",
    "![ALT TEXT](img/spect_geo.png)"
   ]
  },
  {
   "cell_type": "markdown",
   "metadata": {},
   "source": [
    "- Matrix Inverse from eigen decomposition\n",
    "\n",
    "![ALT TEXT](img/inv_spect.png)"
   ]
  },
  {
   "cell_type": "code",
   "execution_count": 65,
   "metadata": {},
   "outputs": [
    {
     "name": "stdout",
     "output_type": "stream",
     "text": [
      "Are eigenvectors orthogonal?  True\n",
      "Original Matrix A:\n",
      "[[2 1]\n",
      " [1 2]]\n",
      "\n",
      "Reconstructed Matrix A:\n",
      "[[2. 1.]\n",
      " [1. 2.]]\n"
     ]
    }
   ],
   "source": [
    "# Symmetric matrix A\n",
    "A = np.array([[2, 1],\n",
    "              [1, 2]])\n",
    "\n",
    "# Compute eigenvalues and eigenvectors\n",
    "eigenvalues, eigenvectors = np.linalg.eig(A)\n",
    "\n",
    "# Verify that eigenvectors are orthogonal (Q * Q.T = I)\n",
    "orthogonal_check = np.allclose(eigenvectors @ eigenvectors.T, np.eye(2))\n",
    "\n",
    "print(\"Are eigenvectors orthogonal? \", orthogonal_check)\n",
    "\n",
    "# Reconstruct A using the Spectral Theorem\n",
    "A_reconstructed = eigenvectors @ np.diag(eigenvalues) @ eigenvectors.T\n",
    "\n",
    "print(\"Original Matrix A:\")\n",
    "print(A)\n",
    "\n",
    "print(\"\\nReconstructed Matrix A:\")\n",
    "print(A_reconstructed)"
   ]
  },
  {
   "cell_type": "markdown",
   "metadata": {},
   "source": [
    "# 8. Singular Value Decomposition"
   ]
  },
  {
   "cell_type": "markdown",
   "metadata": {},
   "source": [
    "## **1. What is SVD**\n",
    "Singular Value Decomposition (SVD) is a method of decomposing a matrix into three other matrices. For a given matrix 𝐴 of dimensions \n",
    "𝑚×𝑛, SVD can be expressed as:\n",
    "𝐴=𝑈.𝐷.𝑉𝑇 \n",
    "Where:\n",
    "- **𝑈** is an 𝑚×𝑚 orthogonal matrix whose columns are the left singular vectors of 𝐴.\n",
    "- **𝐷** is an 𝑚×𝑛 diagonal matrix containing the singular values of 𝐴 (non-negative and sorted in descending order).\n",
    "- **𝑉** is an 𝑛×𝑛 orthogonal matrix whose columns are the right singular vectors of A.\n",
    "\n",
    "![ALT TEXT](img/svd.png)"
   ]
  },
  {
   "cell_type": "code",
   "execution_count": 66,
   "metadata": {},
   "outputs": [
    {
     "name": "stdout",
     "output_type": "stream",
     "text": [
      "Matrix:\n",
      " [[ 3  1  1]\n",
      " [-1  3  1]]\n",
      "Matrix U:\n",
      "[[-0.70710678 -0.70710678]\n",
      " [-0.70710678  0.70710678]]\n",
      "\n",
      "Singular Values (Diagonal of Sigma):\n",
      "[3.46410162 3.16227766]\n",
      "\n",
      "Matrix V_T (transpose of V):\n",
      "[[-4.08248290e-01 -8.16496581e-01 -4.08248290e-01]\n",
      " [-8.94427191e-01  4.47213595e-01  5.26260748e-16]\n",
      " [-1.82574186e-01 -3.65148372e-01  9.12870929e-01]]\n",
      "\n",
      "Reconstructed Matrix A:\n",
      "[[ 3.  1.  1.]\n",
      " [-1.  3.  1.]]\n"
     ]
    }
   ],
   "source": [
    "import numpy as np\n",
    "\n",
    "# Example matrix A\n",
    "A = np.array([[3, 1, 1],\n",
    "              [-1, 3, 1]])\n",
    "print(\"Matrix:\\n\",A)\n",
    "# Perform Singular Value Decomposition\n",
    "U, singular_values, V_T = np.linalg.svd(A)\n",
    "\n",
    "# Sigma is a diagonal matrix with singular values\n",
    "Sigma = np.zeros((A.shape[0], A.shape[1]))\n",
    "Sigma[:len(singular_values), :len(singular_values)] = np.diag(singular_values)\n",
    "\n",
    "print(\"Matrix U:\")\n",
    "print(U)\n",
    "\n",
    "print(\"\\nSingular Values (Diagonal of Sigma):\")\n",
    "print(singular_values)\n",
    "\n",
    "print(\"\\nMatrix V_T (transpose of V):\")\n",
    "print(V_T)\n",
    "\n",
    "# Reconstructing A using U, Sigma, and V_T\n",
    "A_reconstructed = U @ Sigma @ V_T\n",
    "\n",
    "print(\"\\nReconstructed Matrix A:\")\n",
    "print(A_reconstructed)\n"
   ]
  },
  {
   "cell_type": "markdown",
   "metadata": {},
   "source": [
    "## **2. Relationship between Eigen Decomposition and SVD**"
   ]
  },
  {
   "cell_type": "markdown",
   "metadata": {},
   "source": [
    "![ALT TEXT](img/svd_1.png)\n",
    "![ALT TEXT](img/svd_2.png)\n",
    "![ALT TEXT](img/svd_3.png)"
   ]
  },
  {
   "cell_type": "markdown",
   "metadata": {},
   "source": [
    "## **3. Dimentionality Reduction with SVD**"
   ]
  },
  {
   "cell_type": "markdown",
   "metadata": {},
   "source": [
    "![ALT TEXT](img/dim_red.png)"
   ]
  },
  {
   "cell_type": "code",
   "execution_count": 73,
   "metadata": {},
   "outputs": [
    {
     "name": "stdout",
     "output_type": "stream",
     "text": [
      "\n",
      "Low-Rank Approximation of A:\n",
      "[[1. 2. 1.]\n",
      " [1. 2. 1.]]\n"
     ]
    }
   ],
   "source": [
    "# Truncate to top k singular values for dimensionality reduction\n",
    "k = 1  # Number of dimensions to retain\n",
    "\n",
    "# Truncate U, Sigma, and V_T matrices\n",
    "U_k = U[:, :k]\n",
    "Sigma_k = Sigma[:k, :k]\n",
    "V_T_k = V_T[:k, :]\n",
    "\n",
    "# Reduced matrix approximation\n",
    "A_approx = U_k @ Sigma_k @ V_T_k\n",
    "\n",
    "print(\"\\nLow-Rank Approximation of A:\")\n",
    "print(A_approx)"
   ]
  },
  {
   "cell_type": "code",
   "execution_count": null,
   "metadata": {},
   "outputs": [],
   "source": []
  }
 ],
 "metadata": {
  "kernelspec": {
   "display_name": "Python 3",
   "language": "python",
   "name": "python3"
  },
  "language_info": {
   "codemirror_mode": {
    "name": "ipython",
    "version": 3
   },
   "file_extension": ".py",
   "mimetype": "text/x-python",
   "name": "python",
   "nbconvert_exporter": "python",
   "pygments_lexer": "ipython3",
   "version": "3.11.3"
  }
 },
 "nbformat": 4,
 "nbformat_minor": 2
}
