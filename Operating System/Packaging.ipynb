{
 "cells": [
  {
   "cell_type": "markdown",
   "metadata": {},
   "source": [
    "# 1. Introduction"
   ]
  },
  {
   "cell_type": "markdown",
   "metadata": {},
   "source": [
    "## What is Packaging"
   ]
  },
  {
   "cell_type": "markdown",
   "metadata": {},
   "source": [
    "Packaging in Python allows developers to distribute their code as reusable modules, libraries, or applications. This guide explains how to create, manage, and distribute Python packages."
   ]
  },
  {
   "cell_type": "markdown",
   "metadata": {},
   "source": [
    "## What is a Python Package?\n",
    "A Python package is a directory containing a special file named **__init__.py**, which allows the directory to be treated as a module. Packages can include modules (Python files) and sub-packages."
   ]
  },
  {
   "cell_type": "markdown",
   "metadata": {},
   "source": [
    "## Key Components of a Package\n",
    "- **Modules**: .py files containing Python code.\n",
    "- **Sub-packages**: Nested directories with their own __init__.py files.\n",
    "- **Metadata**: Information about the package, such as its name, version, and author, typically stored in pyproject.toml or setup.py."
   ]
  },
  {
   "cell_type": "markdown",
   "metadata": {},
   "source": [
    "# 2. Creating a Simple Package"
   ]
  },
  {
   "cell_type": "markdown",
   "metadata": {},
   "source": [
    "## 2.1 Folder Structure\n",
    "Create the following folder structure for a package named mypackage:"
   ]
  },
  {
   "cell_type": "markdown",
   "metadata": {},
   "source": [
    "mypackage/<br>\n",
    "│<br>\n",
    "├── mypackage/<br>\n",
    "│   ├── __init__.py<br>\n",
    "│   ├── module1.py<br>\n",
    "│   └── module2.py<br>\n",
    "│<br>\n",
    "├── pyproject.toml<br>\n",
    "└── README.md<br>"
   ]
  },
  {
   "cell_type": "markdown",
   "metadata": {},
   "source": [
    "## 2.2 Writing the Package Code\n",
    "mypackage/__init__.py\n",
    "This file can initialize the package and define what is imported when from mypackage import * is used."
   ]
  },
  {
   "cell_type": "code",
   "execution_count": null,
   "metadata": {},
   "outputs": [],
   "source": [
    "# mypackage/__init__.py\n",
    "from .module1 import function1\n",
    "from .module2 import function2\n",
    "\n",
    "# mypackage/module1.py\n",
    "def function1():\n",
    "    return \"Function 1 from module1\"\n",
    "\n",
    "# mypackage/module2.py\n",
    "def function2():\n",
    "    return \"Function 2 from module2\""
   ]
  },
  {
   "cell_type": "markdown",
   "metadata": {},
   "source": [
    "# 3. pyproject.toml\n",
    "The **pyproject.toml** file is used for specifying build system requirements and metadata about the package."
   ]
  },
  {
   "cell_type": "markdown",
   "metadata": {},
   "source": [
    "## 3.1 Adding Metadata with pyproject.toml"
   ]
  },
  {
   "cell_type": "code",
   "execution_count": null,
   "metadata": {
    "vscode": {
     "languageId": "powershell"
    }
   },
   "outputs": [],
   "source": [
    "# pyproject.toml\n",
    "[build-system]\n",
    "requires = [\"setuptools>=42\", \"wheel\"]\n",
    "build-backend = \"setuptools.build_meta\"\n",
    "\n",
    "[project]\n",
    "name = \"mypackage\"\n",
    "version = \"0.1.0\"\n",
    "description = \"A simple example package\"\n",
    "authors = [{name = \"Your Name\", email = \"your.email@example.com\"}]\n",
    "license = {text = \"MIT\"}\n",
    "dependencies = [\"numpy\"]  # Specify dependencies here"
   ]
  },
  {
   "cell_type": "markdown",
   "metadata": {},
   "source": [
    "## 3.2 . Managing Dependencies\n",
    "Specify dependencies in **pyproject.toml** under the **[project.dependencies]** section:"
   ]
  },
  {
   "cell_type": "code",
   "execution_count": null,
   "metadata": {
    "vscode": {
     "languageId": "powershell"
    }
   },
   "outputs": [],
   "source": [
    "dependencies = [\n",
    "    \"numpy>=1.21.0\",\n",
    "    \"pandas==1.3.0\"\n",
    "]"
   ]
  },
  {
   "cell_type": "markdown",
   "metadata": {},
   "source": [
    "- For optional dependencies:"
   ]
  },
  {
   "cell_type": "code",
   "execution_count": null,
   "metadata": {
    "vscode": {
     "languageId": "powershell"
    }
   },
   "outputs": [],
   "source": [
    "[project.optional-dependencies]\n",
    "dev = [\"pytest\", \"black\"]"
   ]
  },
  {
   "cell_type": "markdown",
   "metadata": {},
   "source": [
    "# 4. Building and Distributing the Package"
   ]
  },
  {
   "cell_type": "markdown",
   "metadata": {},
   "source": [
    "## 4.1 Installing Required Tools\n",
    "You need the following tools to build and distribute your package:"
   ]
  },
  {
   "cell_type": "code",
   "execution_count": null,
   "metadata": {
    "vscode": {
     "languageId": "powershell"
    }
   },
   "outputs": [],
   "source": [
    "pip install build twine"
   ]
  },
  {
   "cell_type": "markdown",
   "metadata": {},
   "source": [
    "## 4.2 Building the Package\n",
    "Run the following command in the root directory (where pyproject.toml is located):"
   ]
  },
  {
   "cell_type": "code",
   "execution_count": null,
   "metadata": {
    "vscode": {
     "languageId": "powershell"
    }
   },
   "outputs": [],
   "source": [
    "python -m build"
   ]
  },
  {
   "cell_type": "markdown",
   "metadata": {},
   "source": [
    "This generates two files in a dist/ directory:\n",
    "- A source distribution (.tar.gz).\n",
    "- A wheel distribution (.whl)."
   ]
  },
  {
   "cell_type": "markdown",
   "metadata": {},
   "source": [
    "## 4.3 Uploading the Package\n",
    "Use twine to upload the package to PyPI:\n",
    "\n",
    "- twine upload dist/*\n",
    "- You will need a PyPI account for this."
   ]
  },
  {
   "cell_type": "markdown",
   "metadata": {},
   "source": [
    "# 5. Installing and Using the Package"
   ]
  },
  {
   "cell_type": "markdown",
   "metadata": {},
   "source": [
    "## 5.1 Install \n",
    "Once the package is uploaded, it can be installed using pip:"
   ]
  },
  {
   "cell_type": "code",
   "execution_count": null,
   "metadata": {
    "vscode": {
     "languageId": "powershell"
    }
   },
   "outputs": [],
   "source": [
    "pip install mypackage"
   ]
  },
  {
   "cell_type": "markdown",
   "metadata": {},
   "source": [
    "## 5.2 Use"
   ]
  },
  {
   "cell_type": "code",
   "execution_count": null,
   "metadata": {},
   "outputs": [],
   "source": [
    "import mypackage\n",
    "\n",
    "print(mypackage.function1())\n",
    "print(mypackage.function2())"
   ]
  },
  {
   "cell_type": "markdown",
   "metadata": {},
   "source": [
    "# 6. Testing the Package\n",
    "Testing ensures that the package works as expected."
   ]
  },
  {
   "cell_type": "markdown",
   "metadata": {},
   "source": [
    "# 7. Best Practices for Packaging\n",
    "- Use **semantic versioning** for releases (e.g., 1.0.0).\n",
    "- Include a **comprehensive README.md** for documentation.\n",
    "- Write **meaningful** and **automated** **tests**.\n",
    "- Use tox for **testing** your package **across different Python versions**.\n",
    "- Follow the official **PEP 621 guidelines** for packaging."
   ]
  },
  {
   "cell_type": "markdown",
   "metadata": {},
   "source": []
  }
 ],
 "metadata": {
  "language_info": {
   "name": "python"
  }
 },
 "nbformat": 4,
 "nbformat_minor": 2
}
