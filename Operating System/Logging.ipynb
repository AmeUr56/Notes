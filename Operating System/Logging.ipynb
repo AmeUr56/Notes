{
 "cells": [
  {
   "cell_type": "markdown",
   "metadata": {},
   "source": [
    "# 1. Introduction"
   ]
  },
  {
   "cell_type": "markdown",
   "metadata": {},
   "source": [
    "## What is Logging?\n",
    "\n",
    "Logging is the process of **recording events** that occur within a software application. These events can range from simple informational messages to critical errors. Logging helps in **debugging**, **monitoring**, and **analyzing the behavior** of an application."
   ]
  },
  {
   "cell_type": "markdown",
   "metadata": {},
   "source": [
    "## Why is Logging Important?"
   ]
  },
  {
   "cell_type": "markdown",
   "metadata": {},
   "source": [
    "- **Debugging**: Logging allows you to track the execution flow of your code and identify the root cause of errors.\n",
    "- **Monitoring**: You can monitor the performance of your application by logging metrics like response times and resource usage.\n",
    "- **Persistence**: Logs can be stored for future reference, unlike print() outputs which disappear after execution.\n",
    "- **Configurability**: Adjust log levels, formats, and destinations without changing the code.\n",
    "- **Security**: Logging security-related events can help you identify and respond to potential threats."
   ]
  },
  {
   "cell_type": "markdown",
   "metadata": {},
   "source": [
    "## Key Concepts:   "
   ]
  },
  {
   "cell_type": "markdown",
   "metadata": {},
   "source": [
    "### Loggers:\n",
    "A logger is a named object that can log messages at different levels.   \n",
    "You can create multiple loggers for different parts of your application.   \n",
    "### Handlers:\n",
    "Handlers determine where log messages are sent (e.g., to a file, console, or network).   \n",
    "### Formatters:\n",
    "Formatters define the layout of log messages, including the timestamp, level, message, and other information.   "
   ]
  },
  {
   "cell_type": "markdown",
   "metadata": {},
   "source": [
    "# 2. Logging Basics"
   ]
  },
  {
   "cell_type": "markdown",
   "metadata": {},
   "source": [
    "## 2.1 Basic Configuration\n",
    "The simplest way to start logging:"
   ]
  },
  {
   "cell_type": "code",
   "execution_count": null,
   "metadata": {},
   "outputs": [],
   "source": [
    "import logging\n",
    "\n",
    "logging.basicConfig(level=logging.INFO)\n",
    "logging.info(\"This is an informational message.\")"
   ]
  },
  {
   "cell_type": "markdown",
   "metadata": {},
   "source": [
    "## 2.2 Log Levels\n",
    "The logging module defines the following standard log levels:"
   ]
  },
  {
   "cell_type": "markdown",
   "metadata": {},
   "source": [
    "<table>\n",
    "  <thead>\n",
    "    <tr>\n",
    "      <th>Level</th>\n",
    "      <th>Description</th>\n",
    "      <th>Order</th>\n",
    "    </tr>\n",
    "  </thead>\n",
    "  <tbody>\n",
    "    <tr>\n",
    "      <td>DEBUG</td>\n",
    "      <td>Detailed information for diagnosing problems.</td>\n",
    "      <td>10</td>\n",
    "    </tr>\n",
    "    <tr>\n",
    "      <td>INFO</td>\n",
    "      <td>General events or informational messages.</td>\n",
    "      <td>20</td>\n",
    "    </tr>\n",
    "    <tr>\n",
    "      <td>WARNING</td>\n",
    "      <td>Indicates a potential issue or problem.</td>\n",
    "      <td>30</td>\n",
    "    </tr>\n",
    "    <tr>\n",
    "      <td>ERROR</td>\n",
    "      <td>A serious issue that causes failure.</td>\n",
    "      <td>40</td>\n",
    "    </tr>\n",
    "    <tr>\n",
    "      <td>CRITICAL</td>\n",
    "      <td>A severe error that may crash the program.</td>\n",
    "      <td>50</td>\n",
    "    </tr>\n",
    "  </tbody>\n",
    "</table>"
   ]
  },
  {
   "cell_type": "markdown",
   "metadata": {},
   "source": [
    "### Example:"
   ]
  },
  {
   "cell_type": "code",
   "execution_count": null,
   "metadata": {},
   "outputs": [],
   "source": [
    "logging.debug(\"Debugging information.\")\n",
    "logging.info(\"Informational message.\")\n",
    "logging.warning(\"Warning message.\")\n",
    "logging.error(\"Error message.\")\n",
    "logging.critical(\"Critical error!\")"
   ]
  },
  {
   "cell_type": "markdown",
   "metadata": {},
   "source": [
    "#### Output (default level is WARNING):"
   ]
  },
  {
   "cell_type": "code",
   "execution_count": null,
   "metadata": {
    "vscode": {
     "languageId": "powershell"
    }
   },
   "outputs": [],
   "source": [
    "WARNING:root:Warning message.\n",
    "ERROR:root:Error message.\n",
    "CRITICAL:root:Critical error!"
   ]
  },
  {
   "cell_type": "markdown",
   "metadata": {},
   "source": [
    "# 3. Configuring Logging"
   ]
  },
  {
   "cell_type": "markdown",
   "metadata": {},
   "source": [
    "## 3.1 Customizing the Log Format\n",
    "You can customize the format and include details like timestamps:"
   ]
  },
  {
   "cell_type": "code",
   "execution_count": null,
   "metadata": {},
   "outputs": [],
   "source": [
    "logging.basicConfig(\n",
    "    level=logging.DEBUG,\n",
    "    format=\"%(asctime)s - %(levelname)s - %(message)s\",\n",
    "    datefmt=\"%Y-%m-%d %H:%M:%S\"\n",
    ")\n",
    "logging.info(\"This is an informational message.\")"
   ]
  },
  {
   "cell_type": "markdown",
   "metadata": {},
   "source": [
    "### Sample Output:"
   ]
  },
  {
   "cell_type": "code",
   "execution_count": null,
   "metadata": {
    "vscode": {
     "languageId": "powershell"
    }
   },
   "outputs": [],
   "source": [
    "2024-11-30 12:34:56 - INFO - This is an informational message."
   ]
  },
  {
   "cell_type": "markdown",
   "metadata": {},
   "source": [
    "## 3.2 Writing Logs to a File"
   ]
  },
  {
   "cell_type": "code",
   "execution_count": null,
   "metadata": {},
   "outputs": [],
   "source": [
    "logging.basicConfig(\n",
    "    filename=\"app.log\",\n",
    "    level=logging.INFO,\n",
    "    format=\"%(asctime)s - %(levelname)s - %(message)s\"\n",
    ")\n",
    "logging.info(\"This will be written to the log file.\")"
   ]
  },
  {
   "cell_type": "markdown",
   "metadata": {},
   "source": [
    "# 4. Logging Exceptions\n",
    "To log exceptions along with stack traces:"
   ]
  },
  {
   "cell_type": "code",
   "execution_count": null,
   "metadata": {},
   "outputs": [],
   "source": [
    "try:\n",
    "    1 / 0\n",
    "except ZeroDivisionError:\n",
    "    logging.exception(\"An exception occurred.\")"
   ]
  },
  {
   "cell_type": "markdown",
   "metadata": {},
   "source": [
    "#### Output:"
   ]
  },
  {
   "cell_type": "code",
   "execution_count": null,
   "metadata": {
    "vscode": {
     "languageId": "powershell"
    }
   },
   "outputs": [],
   "source": [
    "ERROR:root:An exception occurred.\n",
    "Traceback (most recent call last):\n",
    "  File \"<stdin>\", line 2, in <module>\n",
    "ZeroDivisionError: division by zero"
   ]
  },
  {
   "cell_type": "markdown",
   "metadata": {},
   "source": [
    "# 5 Advanced Logging"
   ]
  },
  {
   "cell_type": "markdown",
   "metadata": {},
   "source": [
    "## 5.1 Creating Loggers\n",
    "A logger is an object that you use to generate log messages. It allows you to separate logging configuration for different parts of your application."
   ]
  },
  {
   "cell_type": "code",
   "execution_count": null,
   "metadata": {},
   "outputs": [],
   "source": [
    "import logging\n",
    "\n",
    "# Create a custom logger\n",
    "logger = logging.getLogger(\"my_logger\")\n",
    "\n",
    "# Set the logging level\n",
    "logger.setLevel(logging.DEBUG)\n",
    "\n",
    "# Generate a log message\n",
    "logger.debug(\"This is a debug message from my_logger.\")"
   ]
  },
  {
   "cell_type": "markdown",
   "metadata": {},
   "source": [
    "#### Key Points:\n",
    "- The getLogger(name) method creates or retrieves a logger with the specified name (my_logger here).\n",
    "- Setting the log level (e.g., DEBUG) ensures that messages of that level and higher are recorded."
   ]
  },
  {
   "cell_type": "markdown",
   "metadata": {},
   "source": [
    "## 5.2 Adding Handlers\n",
    "Handlers determine the destination of log messages. A logger can have multiple handlers, each directing log messages to a different place, such as the console or a file."
   ]
  },
  {
   "cell_type": "markdown",
   "metadata": {},
   "source": [
    "### Console Handler\n",
    "Send log messages to the console (standard output):"
   ]
  },
  {
   "cell_type": "code",
   "execution_count": null,
   "metadata": {},
   "outputs": [],
   "source": [
    "# Create a console handler\n",
    "console_handler = logging.StreamHandler()\n",
    "\n",
    "# Set the level for the handler\n",
    "console_handler.setLevel(logging.INFO)\n",
    "\n",
    "# Attach the handler to the logger\n",
    "logger.addHandler(console_handler)\n",
    "\n",
    "# Log messages\n",
    "logger.info(\"This message will apper in the console.\")"
   ]
  },
  {
   "cell_type": "markdown",
   "metadata": {},
   "source": [
    "### File Handler\n",
    "Send log messages to a file:"
   ]
  },
  {
   "cell_type": "code",
   "execution_count": null,
   "metadata": {},
   "outputs": [],
   "source": [
    "# Create a file handler\n",
    "file_handler = logging.FileHandler(\"app.log\")\n",
    "\n",
    "# Set the level for the handler\n",
    "file_handler.setLevel(logging.ERROR)\n",
    "\n",
    "# Attach the handler to the logger\n",
    "logger.addHandler(file_handler)\n",
    "\n",
    "# Log messages\n",
    "logger.error(\"This message will be written to app.log.\")"
   ]
  },
  {
   "cell_type": "markdown",
   "metadata": {},
   "source": [
    "#### Key Points:\n",
    "- You can add multiple handlers to the same logger.\n",
    "- Each handler can have its own logging level. For example, the console might show INFO messages, but the file stores only ERROR messages."
   ]
  },
  {
   "cell_type": "markdown",
   "metadata": {},
   "source": [
    "## 5.3 Setting Formats for Handlers\n",
    "You can customize the format of log messages for each handler using a formatter. The Formatter class allows you to specify the message layout."
   ]
  },
  {
   "cell_type": "code",
   "execution_count": null,
   "metadata": {},
   "outputs": [],
   "source": [
    "# Define a formatter\n",
    "formatter = logging.Formatter(\"%(name)s - %(levelname)s - %(message)s\")\n",
    "\n",
    "# Apply the formatter to the console handler\n",
    "console_handler.setFormatter(formatter)\n",
    "\n",
    "# Apply the formatter to the file handler\n",
    "file_handler.setFormatter(formatter)\n",
    "\n",
    "# Log messages\n",
    "logger.info(\"This will be formatted for the console.\")\n",
    "logger.error(\"This will be formatted and saved in the file.\")"
   ]
  },
  {
   "cell_type": "markdown",
   "metadata": {},
   "source": [
    "#### Key Points:\n",
    "- **%(name)s**: The name of the logger.\n",
    "- **%(levelname)s**: The log level (e.g., DEBUG, INFO).\n",
    "- **%(message)s**: The actual log message.\n",
    "\n",
    "You can include additional fields like timestamps or the source file using placeholders like %(asctime)s or %(filename)s."
   ]
  },
  {
   "cell_type": "markdown",
   "metadata": {},
   "source": [
    "# 6. Rotating Log Files\n",
    "When logging to files, the log file size can grow very large over time. To manage this, Python provides handlers that can rotate log files, either by size or by time."
   ]
  },
  {
   "cell_type": "markdown",
   "metadata": {},
   "source": [
    "## 6.1 Rotating by File Size\n",
    "Use RotatingFileHandler to create new log files when the current file reaches a specified size."
   ]
  },
  {
   "cell_type": "code",
   "execution_count": null,
   "metadata": {},
   "outputs": [],
   "source": [
    "import logging\n",
    "from logging.handlers import RotatingFileHandler\n",
    "\n",
    "# Set up a rotating file handler\n",
    "handler = RotatingFileHandler(\"app.log\", maxBytes=2000, backupCount=5)\n",
    "\n",
    "# Configure logging\n",
    "logging.basicConfig(\n",
    "    level=logging.INFO,\n",
    "    format=\"%(asctime)s - %(levelname)s - %(message)s\",\n",
    "    handlers=[handler]\n",
    ")\n",
    "\n",
    "# Generate some logs\n",
    "for i in range(100):\n",
    "    logging.info(f\"This is log message number {i}.\")"
   ]
  },
  {
   "cell_type": "markdown",
   "metadata": {},
   "source": [
    "### Explanation:\n",
    "- **maxBytes**: The maximum size (in bytes) of a log file before it is rotated.\n",
    "- **backupCount**: The number of old log files to keep (e.g., app.log.1, app.log.2).\n",
    "\n",
    "If the log file exceeds 2000 bytes, it will be renamed (e.g., app.log.1), and a new app.log will be created. Once backupCount is reached, the oldest file is deleted.\n"
   ]
  },
  {
   "cell_type": "markdown",
   "metadata": {},
   "source": [
    "## 6.2 Rotating by Time\n",
    "Use TimedRotatingFileHandler to rotate log files at specific intervals (e.g., daily or hourly)."
   ]
  },
  {
   "cell_type": "code",
   "execution_count": null,
   "metadata": {},
   "outputs": [],
   "source": [
    "import logging\n",
    "from logging.handlers import TimedRotatingFileHandler\n",
    "\n",
    "# Set up a timed rotating file handler\n",
    "handler = TimedRotatingFileHandler(\"app.log\", when=\"midnight\", interval=1, backupCount=7)\n",
    "\n",
    "# Configure logging\n",
    "logging.basicConfig(\n",
    "    level=logging.INFO,\n",
    "    format=\"%(asctime)s - %(levelname)s - %(message)s\",\n",
    "    handlers=[handler]\n",
    ")\n",
    "\n",
    "# Generate logs\n",
    "for i in range(5):\n",
    "    logging.info(f\"This is log message number {i}.\")"
   ]
  },
  {
   "cell_type": "markdown",
   "metadata": {},
   "source": [
    "### Explanation:\n",
    "- **when**: The interval unit (e.g., \"midnight\", \"H\" for hourly).\n",
    "- **interval**: The frequency of rotation (e.g., 1 for every midnight).\n",
    "- **backupCount**: The number of rotated files to keep.\n",
    "\n",
    "Each new day (or time interval), a new log file is created (e.g., app.log.2024-11-30), and older logs are deleted once the backup count is exceeded."
   ]
  },
  {
   "cell_type": "markdown",
   "metadata": {},
   "source": [
    "# 7. Logging Best Practices"
   ]
  },
  {
   "cell_type": "markdown",
   "metadata": {},
   "source": [
    "- **Avoid Using Print for Debugging**: Replace print() statements with appropriate log levels.\n",
    "- **Use Meaningful Messages**: Clearly describe the event or error in the log message.\n",
    "- **Use Log Levels Appropriately**:\n",
    "    - **DEBUG**: For internal, detailed debug information.\n",
    "    - **INFO**: For general runtime events.\n",
    "    - **WARNING**: For potential issues.\n",
    "    - **ERROR**: For errors that affect functionality.\n",
    "    - **CRITICAL**: For serious errors affecting the program.\n",
    "- **Separate Logs by Modules**: Use different loggers for different parts of the application.\n",
    "- **Manage Log File Sizes**: Use rotation handlers to prevent oversized logs."
   ]
  },
  {
   "cell_type": "markdown",
   "metadata": {},
   "source": [
    "# Putting It All Together\n",
    "Here’s an example that combines all the concepts:"
   ]
  },
  {
   "cell_type": "code",
   "execution_count": null,
   "metadata": {},
   "outputs": [],
   "source": [
    "import logging\n",
    "\n",
    "# Create a custom logger\n",
    "logger = logging.getLogger(\"my_application\")\n",
    "logger.setLevel(logging.DEBUG)\n",
    "\n",
    "# Create handlers\n",
    "console_handler = logging.StreamHandler()\n",
    "file_handler = logging.FileHandler(\"app.log\")\n",
    "\n",
    "# Set levels for handlers\n",
    "console_handler.setLevel(logging.INFO)\n",
    "file_handler.setLevel(logging.ERROR)\n",
    "\n",
    "# Create a formatter\n",
    "formatter = logging.Formatter(\"%(name)s - %(levelname)s - %(message)s\")\n",
    "\n",
    "# Attach formatter to handlers\n",
    "console_handler.setFormatter(formatter)\n",
    "file_handler.setFormatter(formatter)\n",
    "\n",
    "# Add handlers to the logger\n",
    "logger.addHandler(console_handler)\n",
    "logger.addHandler(file_handler)\n",
    "\n",
    "# Generate log messages\n",
    "logger.debug(\"This is a debug message.\")\n",
    "logger.info(\"This is an informational message.\")\n",
    "logger.warning(\"This is a warning message.\")\n",
    "logger.error(\"This is an error message.\")\n",
    "logger.critical(\"This is a critical message.\")"
   ]
  },
  {
   "cell_type": "markdown",
   "metadata": {},
   "source": [
    "### Output on Console:"
   ]
  },
  {
   "cell_type": "code",
   "execution_count": null,
   "metadata": {
    "vscode": {
     "languageId": "powershell"
    }
   },
   "outputs": [],
   "source": [
    "my_application - INFO - This is an informational message.\n",
    "my_application - WARNING - This is a warning message.\n",
    "my_application - ERROR - This is an error message.\n",
    "my_application - CRITICAL - This is a critical message."
   ]
  },
  {
   "cell_type": "markdown",
   "metadata": {},
   "source": [
    "### Content of app.log:"
   ]
  },
  {
   "cell_type": "code",
   "execution_count": null,
   "metadata": {
    "vscode": {
     "languageId": "powershell"
    }
   },
   "outputs": [],
   "source": [
    "my_application - ERROR - This is an error message.\n",
    "my_application - CRITICAL - This is a critical message."
   ]
  },
  {
   "cell_type": "markdown",
   "metadata": {},
   "source": [
    "## Summary:\n",
    "- **Loggers** generate messages.\n",
    "- **Handlers** determine where the messages go.\n",
    "- **Formatters** control how the messages appear."
   ]
  },
  {
   "cell_type": "markdown",
   "metadata": {},
   "source": []
  }
 ],
 "metadata": {
  "language_info": {
   "name": "python"
  }
 },
 "nbformat": 4,
 "nbformat_minor": 2
}
