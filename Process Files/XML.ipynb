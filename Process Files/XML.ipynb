{
 "cells": [
  {
   "cell_type": "markdown",
   "metadata": {},
   "source": [
    "# Introduction to XML"
   ]
  },
  {
   "cell_type": "markdown",
   "metadata": {},
   "source": [
    "XML (eXtensible Markup Language) is a widely used format for structuring data. It's used in many areas, including web services, configuration files, and data interchange.\n",
    "\n",
    "### Example of XML structure:"
   ]
  },
  {
   "cell_type": "code",
   "execution_count": null,
   "metadata": {
    "vscode": {
     "languageId": "xml"
    }
   },
   "outputs": [],
   "source": [
    "<catalog>\n",
    "    <book id=\"bk101\">\n",
    "        <author>Gambardella, Matthew</author>\n",
    "        <title>XML Developer's Guide</title>\n",
    "        <genre>Computer</genre>\n",
    "        <price>44.95</price>\n",
    "    </book>\n",
    "    <book id=\"bk102\">\n",
    "        <author>Ralls, Kim</author>\n",
    "        <title>Midnight Rain</title>\n",
    "        <genre>Fantasy</genre>\n",
    "        <price>5.95</price>\n",
    "    </book>\n",
    "</catalog>"
   ]
  },
  {
   "cell_type": "markdown",
   "metadata": {},
   "source": [
    "# XML Processing in Python\n",
    "In Python, two libraries, xml.sax (Simple API for XML) and xml.dom (Document Object Model), provide different approaches to handling XML."
   ]
  },
  {
   "cell_type": "markdown",
   "metadata": {},
   "source": [
    "- **xml.sax** is an event-driven, stream-based API, meaning it processes the XML file as it reads it, making it efficient for large files.\n",
    "- **xml.dom** is a tree-based API, where the entire XML structure is loaded into memory as a DOM (Document Object Model), allowing for random access and manipulation of the XML content."
   ]
  },
  {
   "cell_type": "markdown",
   "metadata": {},
   "source": [
    "# 1. xml.sax: Event-Driven Parsing\n",
    "xml.sax processes XML by triggering events for start elements, end elements, characters, etc., and it's efficient when working with large XML files since it doesn’t load the entire file into memory."
   ]
  },
  {
   "cell_type": "markdown",
   "metadata": {},
   "source": [
    "### 1.1 Parsing XML with xml.sax\n",
    "To use xml.sax, you need to define a content handler class that handles events such as start and end tags."
   ]
  },
  {
   "cell_type": "markdown",
   "metadata": {},
   "source": [
    "#### Example: Parsing an XML file using xml.sax"
   ]
  },
  {
   "cell_type": "code",
   "execution_count": null,
   "metadata": {},
   "outputs": [],
   "source": [
    "import xml.sax\n",
    "\n",
    "# Define a custom ContentHandler\n",
    "class BookHandler(xml.sax.ContentHandler):\n",
    "    def __init__(self):\n",
    "        self.current_tag = \"\"\n",
    "        self.title = \"\"\n",
    "        self.author = \"\"\n",
    "        self.genre = \"\"\n",
    "        self.price = \"\"\n",
    "\n",
    "    # Triggered when an element starts\n",
    "    def startElement(self, tag, attributes):\n",
    "        self.current_tag = tag\n",
    "        if tag == \"book\":\n",
    "            print(f\"\\nBook ID: {attributes['id']}\")\n",
    "\n",
    "    # Triggered when an element ends\n",
    "    def endElement(self, tag):\n",
    "        if self.current_tag == \"title\":\n",
    "            print(f\"Title: {self.title}\")\n",
    "        elif self.current_tag == \"author\":\n",
    "            print(f\"Author: {self.author}\")\n",
    "        elif self.current_tag == \"genre\":\n",
    "            print(f\"Genre: {self.genre}\")\n",
    "        elif self.current_tag == \"price\":\n",
    "            print(f\"Price: {self.price}\")\n",
    "        self.current_tag = \"\"\n",
    "\n",
    "    # Triggered when characters are read\n",
    "    def characters(self, content):\n",
    "        if self.current_tag == \"title\":\n",
    "            self.title = content\n",
    "        elif self.current_tag == \"author\":\n",
    "            self.author = content\n",
    "        elif self.current_tag == \"genre\":\n",
    "            self.genre = content\n",
    "        elif self.current_tag == \"price\":\n",
    "            self.price = content\n",
    "\n",
    "# Create a parser object\n",
    "parser = xml.sax.make_parser()\n",
    "\n",
    "# Create an instance of the custom handler\n",
    "handler = BookHandler()\n",
    "\n",
    "# Tell the parser to use the custom handler\n",
    "parser.setContentHandler(handler)\n",
    "\n",
    "# Parse the XML document\n",
    "parser.parse(\"books.xml\")"
   ]
  },
  {
   "cell_type": "markdown",
   "metadata": {},
   "source": [
    "#### Explanation of Events\n",
    "- **startElement(tag, attributes)**: Triggered when a start tag (<tag>) is encountered. The attributes parameter provides access to element attributes.\n",
    "- **endElement(tag)**: Triggered when an end tag (</tag>) is encountered.\n",
    "- **characters(content)**: Called whenever text between tags is encountered.\n"
   ]
  },
  {
   "cell_type": "markdown",
   "metadata": {},
   "source": [
    "### 1.2 Handling Large Files\n",
    "xml.sax is well-suited for large files since it processes elements as they appear, avoiding memory overload by not loading the entire XML file at once."
   ]
  },
  {
   "cell_type": "markdown",
   "metadata": {},
   "source": [
    "# 2. xml.dom: Tree-Based Parsing"
   ]
  },
  {
   "cell_type": "markdown",
   "metadata": {},
   "source": [
    "xml.dom is a tree-based approach that loads the entire XML document into memory, providing a hierarchical view of the document. You can navigate, update, and modify the tree."
   ]
  },
  {
   "cell_type": "markdown",
   "metadata": {},
   "source": [
    "### 2.1 Parsing XML with xml.dom.minidom\n",
    "The xml.dom.minidom module provides a simpler way to handle DOM-based XML processing."
   ]
  },
  {
   "cell_type": "markdown",
   "metadata": {},
   "source": [
    "#### Example: Parsing and Navigating XML with xml.dom.minidom"
   ]
  },
  {
   "cell_type": "code",
   "execution_count": null,
   "metadata": {},
   "outputs": [],
   "source": [
    "from xml.dom.minidom import parse\n",
    "\n",
    "# Parse the XML file\n",
    "dom_tree = parse(\"books.xml\")\n",
    "catalog = dom_tree.documentElement\n",
    "\n",
    "# Print the root element tag name\n",
    "print(\"Root element:\", catalog.tagName)\n",
    "\n",
    "# Get all books in the catalog\n",
    "books = catalog.getElementsByTagName(\"book\")\n",
    "\n",
    "for book in books:\n",
    "    print(\"\\nBook ID:\", book.getAttribute(\"id\"))\n",
    "    \n",
    "    # Get the title, author, and price\n",
    "    title = book.getElementsByTagName(\"title\")[0].childNodes[0].data\n",
    "    author = book.getElementsByTagName(\"author\")[0].childNodes[0].data\n",
    "    price = book.getElementsByTagName(\"price\")[0].childNodes[0].data\n",
    "\n",
    "    print(f\"Title: {title}\")\n",
    "    print(f\"Author: {author}\")\n",
    "    print(f\"Price: {price}\")"
   ]
  },
  {
   "cell_type": "markdown",
   "metadata": {},
   "source": [
    "#### Explanation\n",
    "- **parse()**: Parses the XML document into a DOM structure.\n",
    "- **getElementsByTagName()**: Retrieves a list of elements with the specified tag name.\n",
    "- **childNodes[0].data**: Accesses the text inside an element."
   ]
  },
  {
   "cell_type": "markdown",
   "metadata": {},
   "source": [
    "### 2.2 Modifying XML with xml.dom.minidom\n",
    "You can also modify XML elements and attributes in the DOM structure."
   ]
  },
  {
   "cell_type": "markdown",
   "metadata": {},
   "source": [
    "#### Example: Modifying XML"
   ]
  },
  {
   "cell_type": "code",
   "execution_count": null,
   "metadata": {},
   "outputs": [],
   "source": [
    "# Modify the price of the first book\n",
    "books[0].getElementsByTagName(\"price\")[0].childNodes[0].data = \"39.99\"\n",
    "\n",
    "# Write the modified XML to a new file\n",
    "with open(\"updated_books.xml\", \"w\") as f:\n",
    "    f.write(dom_tree.toxml())"
   ]
  },
  {
   "cell_type": "markdown",
   "metadata": {},
   "source": [
    "### 2.3 Creating XML with xml.dom.minidom\n",
    "You can create new XML structures programmatically."
   ]
  },
  {
   "cell_type": "markdown",
   "metadata": {},
   "source": [
    "#### Example: Creating a new XML document"
   ]
  },
  {
   "cell_type": "code",
   "execution_count": null,
   "metadata": {},
   "outputs": [],
   "source": [
    "from xml.dom.minidom import Document\n",
    "\n",
    "# Create a new DOM document\n",
    "doc = Document()\n",
    "\n",
    "# Create the root element\n",
    "catalog = doc.createElement(\"catalog\")\n",
    "doc.appendChild(catalog)\n",
    "\n",
    "# Create a book element\n",
    "book = doc.createElement(\"book\")\n",
    "book.setAttribute(\"id\", \"bk101\")\n",
    "\n",
    "# Create and append title element\n",
    "title = doc.createElement(\"title\")\n",
    "title.appendChild(doc.createTextNode(\"XML Developer's Guide\"))\n",
    "book.appendChild(title)\n",
    "\n",
    "# Append book to catalog\n",
    "catalog.appendChild(book)\n",
    "\n",
    "# Write the XML to a file\n",
    "with open(\"new_catalog.xml\", \"w\") as f:\n",
    "    f.write(doc.toprettyxml())"
   ]
  },
  {
   "cell_type": "markdown",
   "metadata": {},
   "source": [
    "### 2.4 Pretty Printing XML\n",
    "To pretty-print the XML content:"
   ]
  },
  {
   "cell_type": "code",
   "execution_count": null,
   "metadata": {},
   "outputs": [],
   "source": [
    "print(doc.toprettyxml(indent=\"  \"))"
   ]
  },
  {
   "cell_type": "markdown",
   "metadata": {},
   "source": [
    "# Sources\n",
    "- <a href=\"https://www.youtube.com/watch?v=tlHNS-UTRIM&ab_channel=NeuralNine\">Full XML Processing Guide in Python by NeuralNine</a>"
   ]
  },
  {
   "cell_type": "markdown",
   "metadata": {},
   "source": []
  }
 ],
 "metadata": {
  "language_info": {
   "name": "python"
  }
 },
 "nbformat": 4,
 "nbformat_minor": 2
}
