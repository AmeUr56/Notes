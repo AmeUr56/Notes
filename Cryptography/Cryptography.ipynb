{
 "cells": [
  {
   "cell_type": "markdown",
   "metadata": {},
   "source": [
    "# Cryptography in Python"
   ]
  },
  {
   "cell_type": "markdown",
   "metadata": {},
   "source": [
    "## Introduction to Cryptography\n",
    "Cryptography is the science of **securing communication and data from unauthorized access**. It involves techniques for protecting the confidentiality, integrity, and authenticity of information. With the rise of digital communication, cryptography has become crucial for ensuring data security."
   ]
  },
  {
   "cell_type": "markdown",
   "metadata": {},
   "source": [
    "## Why Python\n",
    "Python is one of the most popular languages for implementing cryptographic algorithms because of its simplicity, readability, and extensive library support"
   ]
  },
  {
   "cell_type": "markdown",
   "metadata": {},
   "source": [
    "## The main goals of cryptography are:"
   ]
  },
  {
   "cell_type": "markdown",
   "metadata": {},
   "source": [
    "### Confidentiality:\n",
    "Ensuring that the information is accessible only to authorized individuals.\n",
    "### Integrity:\n",
    "Ensuring that the data has not been altered during transmission.\n",
    "### Authentication:\n",
    "Verifying the identity of the parties involved in communication.\n",
    "### Non-repudiation:\n",
    "Ensuring that neither party can deny the authenticity of their communications."
   ]
  },
  {
   "cell_type": "markdown",
   "metadata": {},
   "source": [
    "## There are several types of cryptographic algorithms:"
   ]
  },
  {
   "cell_type": "markdown",
   "metadata": {},
   "source": [
    "### Symmetric Key Cryptography:\n",
    "Both the sender and the receiver use the **same key** for encryption and decryption.\n",
    "### Asymmetric Key Cryptography:\n",
    "**Two different keys** are used a public key for encryption and a private key for decryption.\n",
    "### Hash Functions:\n",
    "**One-way** cryptographic functions that convert data into a fixed-size hash value."
   ]
  },
  {
   "cell_type": "markdown",
   "metadata": {},
   "source": [
    "## Installation"
   ]
  },
  {
   "cell_type": "code",
   "execution_count": null,
   "metadata": {},
   "outputs": [],
   "source": [
    "!pip install pycryptodome"
   ]
  },
  {
   "cell_type": "markdown",
   "metadata": {},
   "source": [
    "# Symmetric Encryption\n",
    "Symmetric encryption uses the **same key for both encryption and decryption**. It's fast and efficient but requires secure key management."
   ]
  },
  {
   "cell_type": "markdown",
   "metadata": {},
   "source": [
    "### Algorithms"
   ]
  },
  {
   "cell_type": "markdown",
   "metadata": {},
   "source": [
    "- **AES (Advanced Encryption Standard)**: A widely used symmetric encryption standard that supports key sizes of 128, 192, and 256 bits.\n",
    "- **DES (Data Encryption Standard)**: An older symmetric algorithm using a 56-bit key. It's considered insecure by modern standards.\n",
    "- **3DES (Triple DES)**: An extension of DES that applies the encryption process three times to enhance security.\n",
    "- **Blowfish**: A fast and flexible symmetric algorithm that uses variable-length keys (32 to 448 bits).\n",
    "- **RC4**: A stream cipher that is fast and widely used, but now considered insecure due to vulnerabilities."
   ]
  },
  {
   "cell_type": "markdown",
   "metadata": {},
   "source": [
    "### Example using Cryptography lib"
   ]
  },
  {
   "cell_type": "code",
   "execution_count": 30,
   "metadata": {},
   "outputs": [],
   "source": [
    "from Crypto.Cipher import AES\n",
    "from Crypto.Random import get_random_bytes\n",
    "\n",
    "# Generate a random key and initialization vector\n",
    "key = get_random_bytes(16)\n",
    "cipher = AES.new(key, AES.MODE_GCM)\n",
    "nonce = cipher.nonce"
   ]
  },
  {
   "cell_type": "code",
   "execution_count": 31,
   "metadata": {},
   "outputs": [
    {
     "name": "stdout",
     "output_type": "stream",
     "text": [
      "Encrypted Message: b'A`\\x10:\\xdb\\x98\\xc1\\xe7\\xdf\\xc6\\xddc\\xc5\\x0fW\\xb9'\n"
     ]
    }
   ],
   "source": [
    "# Encrypt the message\n",
    "message = b'Hello I am Ameur'\n",
    "ciphertext, tag = cipher.encrypt_and_digest(message)\n",
    "print(\"Encrypted Message:\",ciphertext)"
   ]
  },
  {
   "cell_type": "code",
   "execution_count": 32,
   "metadata": {},
   "outputs": [
    {
     "name": "stdout",
     "output_type": "stream",
     "text": [
      "Decrypted message: Hello I am Ameur\n"
     ]
    }
   ],
   "source": [
    "# Decrypt the message\n",
    "cipher = AES.new(key, AES.MODE_GCM, nonce=nonce)\n",
    "plaintext = cipher.decrypt(ciphertext)\n",
    "print(f'Decrypted message: {plaintext.decode()}')"
   ]
  },
  {
   "cell_type": "markdown",
   "metadata": {},
   "source": [
    "In this example, we use the AES algorithm in GCM (Galois/Counter Mode) to encrypt and decrypt a message"
   ]
  },
  {
   "cell_type": "markdown",
   "metadata": {},
   "source": [
    "### Uses\n",
    "- **Data Encryption:** to secure sensitive data in transit or at rest.\n",
    "- **Secure Communications:** Used in protocols like TLS/SSL to encrypt data between clients and servers.\n",
    "- **VPNs**\n",
    "- **Database Encryption** often used to encrypt sensitive information stored in databases, ensuring that only authorized users can access it."
   ]
  },
  {
   "cell_type": "markdown",
   "metadata": {},
   "source": [
    "# Asymmetric Encryption\n",
    "Asymmetric encryption uses a **pair of keys—public and private**. The **public key encrypts** data, and only the corresponding **private key can decrypt** it. This allows secure communication without sharing the private key."
   ]
  },
  {
   "cell_type": "markdown",
   "metadata": {},
   "source": [
    "### Algorithms"
   ]
  },
  {
   "cell_type": "markdown",
   "metadata": {},
   "source": [
    "- **RSA (Rivest–Shamir–Adleman)**: One of the first public-key cryptosystems, widely used for secure data transmission.\n",
    "- **DSA (Digital Signature Algorithm)**: Primarily used for digital signatures, not for encrypting data.\n",
    "- **ECC (Elliptic Curve Cryptography)**: Uses elliptic curves over finite fields to create faster, smaller keys than RSA.\n",
    "- **ElGamal**: Used for public-key cryptography and digital signatures."
   ]
  },
  {
   "cell_type": "markdown",
   "metadata": {},
   "source": [
    "### Example using RSA"
   ]
  },
  {
   "cell_type": "markdown",
   "metadata": {},
   "source": [
    "#### 1. Generate Keys"
   ]
  },
  {
   "cell_type": "code",
   "execution_count": 49,
   "metadata": {},
   "outputs": [
    {
     "name": "stdout",
     "output_type": "stream",
     "text": [
      "Keys generated and Stored.\n"
     ]
    }
   ],
   "source": [
    "from Crypto.PublicKey import RSA\n",
    "from Crypto.Cipher import PKCS1_OAEP\n",
    "\n",
    "# Generate RSA keys\n",
    "key = RSA.generate(2048)\n",
    "\n",
    "# Export and Store the Private Key\n",
    "private_key = key.export_key()\n",
    "with open('private_key.pem', 'wb') as f:\n",
    "    f.write(private_key)\n",
    "    \n",
    "# Export and Store the Public Key\n",
    "public_key = key.publickey().export_key()\n",
    "with open('public_key.pem','wb') as f:\n",
    "    f.write(public_key)\n",
    "    \n",
    "print(\"Keys generated and Stored.\")"
   ]
  },
  {
   "cell_type": "markdown",
   "metadata": {},
   "source": [
    "#### 2. Encrypting Data with Public Key"
   ]
  },
  {
   "cell_type": "code",
   "execution_count": 54,
   "metadata": {},
   "outputs": [
    {
     "name": "stdout",
     "output_type": "stream",
     "text": [
      "Encrypted message: b'\\x1e\\xf5\\x08D\\xab#\\x10\\xda\\xb4\\xe4\\xde\\xbb\\x07\\xb1\\x9b\\x9c^\\xd9[q\\xc8$\\xd7\\xf3\\x98\\x95\\xde<\\xd7\\x1brU:<\\xdfc\\x8a\\xde\\x87?\\xafj_\\x87\\xfc\\xfa\\xa7\\x01\\xac%\\xcd\\x91\\x03\\xef\\xca\\xeeoT\\x7f`p\\xafV\\xab/\\xfa\\xb2\\xcf\\xb6\\xab\\x07\\x1a\\xed4<x\\xcfw\\xde\\xc8 \\xcb\\x8f\\x8cp\\x9a\\x0b\\x83\\x0f\\xc5\\x90\\x993\\xb5\\x93\\x08B\\xb9\\xc8\\x93ZA\\xb0L\\xc3\\xe0<x\\xce/(\\x85\\x0c\\x0c\\x8b\\xb3\\x1c\\xa0\\x80p&\\xd9\\x15\\x819\\xe4/\\x11\\x9f6\\xbb\\x9d\\x87\\x8di\\xec\\xf6I\\xdd\\xcaQ<\\xdf\\xba\\xc2\\xcf\\xfes\\xa5[\\xd4\\xf0\\xe0\\x86\\x00\\x06h\\x0e\\xd3}\\t\\xdd\\x9b\\xed\\x13\\x91\\xe5\\xeeJ\\x9d\\xd7\\x8a\\xce\\x18\\xf9\\x84b|D\\xc9(\\xa1\\xba\\xd2~\\xbc\\x8a:h\\xad\\xc1L %X1\\x84\\xe9\\x10\\x99\\xb7k\\x1a\\xf6\\x87x0jfmi\\xcd\\x95M\\xaeV\\xc9J\\xa7\\x1b(\\xdc\\xe5\\x92\\xeb\\xc7\\xf58 @\\x8d\\xca\\xd8\\xec\\xee,}.M%\\xa1\\xaa\\xf8lR ?\\xf1\\xea\\x05@V\\x82\\xda\\x88\\xe3'\n"
     ]
    }
   ],
   "source": [
    "# Load the public key\n",
    "with open('public_key.pem', 'rb') as f:\n",
    "    public_key = f.read()\n",
    "\n",
    "    \n",
    "# Encrypt a message with the public key\n",
    "cipher = PKCS1_OAEP.new(RSA.import_key(public_key))\n",
    "ciphertext = cipher.encrypt(b'Hi')\n",
    "print(f\"Encrypted message: {ciphertext}\")"
   ]
  },
  {
   "cell_type": "markdown",
   "metadata": {},
   "source": [
    "#### 3. Decrypting Data with Private Key"
   ]
  },
  {
   "cell_type": "code",
   "execution_count": 55,
   "metadata": {},
   "outputs": [
    {
     "name": "stdout",
     "output_type": "stream",
     "text": [
      "Decrypted message: Hi\n"
     ]
    }
   ],
   "source": [
    "# Load the private key\n",
    "with open('private_key.pem', 'rb') as f:\n",
    "    private_key = f.read()\n",
    "\n",
    "# Decrypt the message with the private key\n",
    "cipher = PKCS1_OAEP.new(RSA.import_key(private_key))\n",
    "plaintext = cipher.decrypt(ciphertext)\n",
    "print(f'Decrypted message: {plaintext.decode()}')"
   ]
  },
  {
   "cell_type": "markdown",
   "metadata": {},
   "source": [
    "In this example, we use RSA for encryption and decryption.We stored the keys and them load them for more security and separation, The private key is used to decrypt messages that were encrypted with the corresponding public key."
   ]
  },
  {
   "cell_type": "markdown",
   "metadata": {},
   "source": [
    "### Uses \n",
    "- **Secure Key Exchange:** used to securely exchange symmetric keys between parties, enabling them to communicate securely without sharing the symmetric key directly.\n",
    "- **Digital Signatures:** it provides a method for signing documents and messages, ensuring authenticity and non-repudiation.\n",
    "- **Email Encryption:** Protocols like PGP (Pretty Good Privacy).\n",
    "- **SSL/TLS Certificates:** Asymmetric encryption is integral to the SSL/TLS protocols used in securing web traffic, providing encryption and identity verification."
   ]
  },
  {
   "cell_type": "markdown",
   "metadata": {},
   "source": [
    "# Hashing\n",
    "Hashing is a **one-way function** that converts data into a fixed-size string of characters, typically a **hash value**. It is commonly used for password storage and data integrity checks.<br>\n",
    "**Salt** is a random data that is added to a password or message before hashing it. The purpose of salt is to ensure that even if two users hashes same data, their hashes will be different."
   ]
  },
  {
   "cell_type": "markdown",
   "metadata": {},
   "source": [
    "### Algorithms"
   ]
  },
  {
   "cell_type": "markdown",
   "metadata": {},
   "source": [
    "- **SHA-256 (Secure Hash Algorithm 256-bit)**: Part of the SHA-2 family, widely used in various applications including blockchain.\n",
    "- **SHA-1**: An older hash function that is no longer considered secure against well-funded attackers.\n",
    "- **MD5 (Message-Digest Algorithm 5)**: Commonly used but also considered insecure due to vulnerabilities.\n",
    "- **BLAKE2**: A fast and secure cryptographic hash function that is an improvement over MD5 and SHA-1."
   ]
  },
  {
   "cell_type": "markdown",
   "metadata": {},
   "source": [
    "### Example with PBKDF2"
   ]
  },
  {
   "cell_type": "code",
   "execution_count": 3,
   "metadata": {},
   "outputs": [
    {
     "name": "stdout",
     "output_type": "stream",
     "text": [
      "Salt: b'\\xd7O\\xb4a\\xb1\\xc7\\x1c\\xca\\xe6\\xa9\\xe6\\xd4Ck\\x84\\xbb'\n",
      "Derived Key: b'\\xd0l$t\\xac\\xf7A\\x9dzwa\\xe3\\x12\\n4\\xc3)~o:\\xeen\\x90\\x15?r\\x95\\x84,\\x9e\\x93\\xbf'\n"
     ]
    }
   ],
   "source": [
    "from Crypto.Protocol.KDF import PBKDF2\n",
    "from Crypto.Random import get_random_bytes\n",
    "\n",
    "# Password to be hashed\n",
    "password = b\"my_secret_password\"\n",
    "\n",
    "# Generate a random salt\n",
    "salt = get_random_bytes(16)  # 16-byte salt\n",
    "\n",
    "# Derive a key using PBKDF2\n",
    "key = PBKDF2(password, salt, dkLen=32, count=1000000)\n",
    "\n",
    "print(\"Salt:\", salt)\n",
    "print(\"Derived Key:\", key)"
   ]
  },
  {
   "cell_type": "markdown",
   "metadata": {},
   "source": [
    "### Explanation\n",
    "**PBKDF2(password, salt, dkLen=32, count=1000000)**: This function derives a key using the password, salt, and specified number of iterations (count=1000000). The dkLen=32 specifies that the output key length will be 32 bytes (256 bits)."
   ]
  },
  {
   "cell_type": "markdown",
   "metadata": {},
   "source": [
    "### Example with SHA256"
   ]
  },
  {
   "cell_type": "code",
   "execution_count": 2,
   "metadata": {},
   "outputs": [
    {
     "name": "stdout",
     "output_type": "stream",
     "text": [
      "Salt: b'\\x118\\xf6\\xb4\\xdf\\xde\\xc1+\\xc6g&\\xe1+\\xd3\\xbe\\xbb'\n",
      "Hash: cb7fcd9f7f32537c48986b0bb0a885689723d83ef4b4eacfe918458c3a6ee91d\n"
     ]
    }
   ],
   "source": [
    "from Crypto.Hash import SHA256\n",
    "from Crypto.Random import get_random_bytes\n",
    "\n",
    "# Data to be hashed\n",
    "data = b\"some_data_to_hash\"\n",
    "\n",
    "# Generate a random salt\n",
    "salt = get_random_bytes(16)\n",
    "\n",
    "# Combine data and salt\n",
    "data_with_salt = salt + data\n",
    "\n",
    "# Hash the combined data with SHA256\n",
    "hash_obj = SHA256.new(data_with_salt)\n",
    "\n",
    "print(\"Salt:\", salt)\n",
    "print(\"Hash:\", hash_obj.hexdigest())"
   ]
  },
  {
   "cell_type": "markdown",
   "metadata": {},
   "source": [
    "### Explanation\n",
    "The **salt** is prepended or appended to the data, and then the combined result is hashed using SHA256."
   ]
  },
  {
   "cell_type": "markdown",
   "metadata": {},
   "source": [
    "### summary:\n",
    "- **For PBKDF2**, salt is automatically used to secure the password hashing process.\n",
    "- **For SHA256** or other general hashing algorithms, you can manually add the salt before hashing the data."
   ]
  },
  {
   "cell_type": "markdown",
   "metadata": {},
   "source": [
    "### Uses\n",
    "- **Password Storage:** used to securely store user passwords in databases, ensuring that even if the database is compromised, the original passwords cannot be easily retrieved.\n",
    "- **Data Integrity Verification:** Hashes can verify the integrity of files and data by comparing the hash of the original data with the hash of the received data.\n",
    "- **Digital Signatures**\n",
    "- **Checksums:** Hash functions are used to generate checksums for files to detect changes or corruption."
   ]
  },
  {
   "cell_type": "markdown",
   "metadata": {},
   "source": [
    "# Digital Signatures\n",
    "Digital signatures ensure the **authenticity of the sender and the integrity of the message**. They are generated by encrypting the hash of the message with the sender’s private key."
   ]
  },
  {
   "cell_type": "markdown",
   "metadata": {},
   "source": [
    "### Algorithms"
   ]
  },
  {
   "cell_type": "markdown",
   "metadata": {},
   "source": [
    "- **RSA**: Used for both encryption and digital signatures.\n",
    "- **DSA**: Specifically designed for creating digital signatures.\n",
    "- **ECDSA (Elliptic Curve Digital Signature Algorithm)**: A variant of DSA using elliptic curve cryptography for more efficient signatures.\n",
    "- **EdDSA (Edwards-Curve Digital Signature Algorithm)**: A modern digital signature scheme using elliptic curves, designed for high performance and security."
   ]
  },
  {
   "cell_type": "markdown",
   "metadata": {},
   "source": [
    "### Example "
   ]
  },
  {
   "cell_type": "code",
   "execution_count": 42,
   "metadata": {},
   "outputs": [
    {
     "name": "stdout",
     "output_type": "stream",
     "text": [
      "The signature is valid.\n"
     ]
    }
   ],
   "source": [
    "from Crypto.Signature import pkcs1_15\n",
    "from Crypto.Hash import SHA256\n",
    "\n",
    "# Hash the message\n",
    "message = b'10:50 AM'\n",
    "hash_object = SHA256.new(message)\n",
    "\n",
    "# Sign the message with the private key\n",
    "signature = pkcs1_15.new(RSA.import_key(private_key)).sign(hash_object)\n",
    "\n",
    "# Verify the signature with the public key\n",
    "try:\n",
    "    pkcs1_15.new(RSA.import_key(public_key)).verify(hash_object, signature)\n",
    "    print(\"The signature is valid.\")\n",
    "except (ValueError, TypeError):\n",
    "    print(\"The signature is not valid.\")"
   ]
  },
  {
   "cell_type": "markdown",
   "metadata": {},
   "source": [
    "This code demonstrates how to sign a message and verify its authenticity using RSA and SHA-256."
   ]
  },
  {
   "cell_type": "markdown",
   "metadata": {},
   "source": [
    "### Uses\n",
    "- **Authenticity**: Verifying the identity of the sender of a message.\n",
    "- **Integrity**: Ensuring that the message has not been altered.\n",
    "- **Non-repudiation**: Preventing the sender from denying the message sent"
   ]
  },
  {
   "cell_type": "markdown",
   "metadata": {},
   "source": [
    "# Summary"
   ]
  },
  {
   "cell_type": "markdown",
   "metadata": {},
   "source": [
    "#### Symmetric Encryption\n",
    "- **Pros**: Fast, efficient for large data sizes.\n",
    "- **Cons**: Key distribution problem (securely sharing the key).\n",
    "#### Asymmetric Encryption\n",
    "- **Pros**: Secure key exchange and digital signatures.\n",
    "- **Cons**: Slower than symmetric encryption, larger key sizes.\n",
    "#### Hashing\n",
    "- **Pros**: One-way function; cannot be reversed to original data.\n",
    "- **Cons**: Vulnerable to brute-force attacks if not salted.\n",
    "#### Digital Signatures\n",
    "- **Pros**: Provides authenticity, integrity, and non-repudiation.\n",
    "- **Cons**: Requires a public/private key pair; computationally intensive."
   ]
  },
  {
   "cell_type": "markdown",
   "metadata": {},
   "source": [
    "# Real-World Applications of Cryptography with Python"
   ]
  },
  {
   "cell_type": "markdown",
   "metadata": {},
   "source": [
    "- **Secure Messaging and Communication:** Python can be used to encrypt and decrypt messages in real-time applications such as secure chat platforms, email encryption services, and encrypted file sharing.\n",
    "\n",
    "- **Blockchain and Cryptocurrency:** Cryptography is the foundation of blockchain technology and cryptocurrency. Python’s cryptographic libraries can be used to build blockchain platforms, create secure transactions, and validate cryptocurrency wallets.\n",
    "\n",
    "- **Password Management Systems:** Python is widely used in developing password managers and secure authentication systems. Hash functions, such as bcrypt, can be implemented in Python to securely store and verify user passwords.\n",
    "\n",
    "- **Secure API Communication:** Python can be used to encrypt sensitive data transmitted between clients and servers via APIs, ensuring secure data exchange in financial systems, healthcare applications, and e-commerce platforms."
   ]
  },
  {
   "cell_type": "markdown",
   "metadata": {},
   "source": [
    "# Sources\n",
    "- <a href=\"https://theamitos.com/cryptography-with-python/#:~:text=Cryptography%20with%20Python%3A%20A%20Comprehensive%20Guide%201%201.,...%203%203.%20Hash%20Functions%20and%20Digital%20Signatures\">Cryptography with Python: A Comprehensive Guide in THEAMITOS</a>"
   ]
  }
 ],
 "metadata": {
  "kernelspec": {
   "display_name": "Python 3",
   "language": "python",
   "name": "python3"
  },
  "language_info": {
   "codemirror_mode": {
    "name": "ipython",
    "version": 3
   },
   "file_extension": ".py",
   "mimetype": "text/x-python",
   "name": "python",
   "nbconvert_exporter": "python",
   "pygments_lexer": "ipython3",
   "version": "3.11.3"
  }
 },
 "nbformat": 4,
 "nbformat_minor": 2
}
