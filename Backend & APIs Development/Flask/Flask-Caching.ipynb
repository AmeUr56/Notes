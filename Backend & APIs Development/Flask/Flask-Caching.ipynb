{
 "cells": [
  {
   "cell_type": "markdown",
   "metadata": {},
   "source": [
    "## Flask-Caching:\n",
    "tool to enhance your Flask application's **performance** by reducing load times and **improving** response rates"
   ]
  },
  {
   "cell_type": "markdown",
   "metadata": {},
   "source": [
    "<table>\n",
    "    <thead>\n",
    "        <tr>\n",
    "            <th>When to Use</th>\n",
    "            <th>When Not to Use</th>\n",
    "        </tr>\n",
    "    </thead>\n",
    "    <tbody>\n",
    "        <tr>\n",
    "            <td>Expensive Computations: Caching results of costly calculations can save time.</td>\n",
    "            <td>Highly Dynamic Content: Frequent updates may lead to stale data.</td>\n",
    "        </tr>\n",
    "        <tr>\n",
    "            <td>Frequent Database Queries: Caching common queries reduces database load.</td>\n",
    "            <td>Small Applications: Overhead of caching may not be worth it for low traffic.</td>\n",
    "        </tr>\n",
    "        <tr>\n",
    "            <td>Static Content: Caching rarely changing content like HTML pages or images.</td>\n",
    "            <td>Session Management: Not suitable for managing user sessions or sensitive data.</td>\n",
    "        </tr>\n",
    "        <tr>\n",
    "            <td>API Responses: Caching responses for APIs serving similar requests.</td>\n",
    "            <td>Real-Time Data: Caching may interfere with real-time data updates.</td>\n",
    "        </tr>\n",
    "        <tr>\n",
    "            <td>Rate Limiting: Manage user request limits by caching counts.</td>\n",
    "            <td>Complex Cache Invalidation: Difficult cache invalidation logic may lead to errors.</td>\n",
    "        </tr>\n",
    "    </tbody>\n",
    "</table>"
   ]
  },
  {
   "cell_type": "code",
   "execution_count": null,
   "metadata": {},
   "outputs": [],
   "source": [
    "# Installation\n",
    "!pip install flask-caching"
   ]
  },
  {
   "cell_type": "markdown",
   "metadata": {},
   "source": [
    "### Caching Decorators"
   ]
  },
  {
   "cell_type": "markdown",
   "metadata": {},
   "source": [
    "<table border=\"1\" cellpadding=\"10\" cellspacing=\"0\">\n",
    "  <thead>\n",
    "    <tr>\n",
    "      <th>Feature</th>\n",
    "      <th>@cache.cached</th>\n",
    "      <th>@cache.memoize</th>\n",
    "      <th>@cache.cache</th>\n",
    "      <th>@cache.cached(timeout=0)</th>\n",
    "      <th>@cache.cached(unless=&lt;condition&gt;)</th>\n",
    "    </tr>\n",
    "  </thead>\n",
    "  <tbody>\n",
    "    <tr>\n",
    "      <td>Caches the entire view?</td>\n",
    "      <td>Yes</td>\n",
    "      <td>No</td>\n",
    "      <td>No</td>\n",
    "      <td>Yes, without expiration</td>\n",
    "      <td>Yes, unless the condition is met</td>\n",
    "    </tr>\n",
    "    <tr>\n",
    "      <td>Caches function result?</td>\n",
    "      <td>No</td>\n",
    "      <td>Yes</td>\n",
    "      <td>Yes</td>\n",
    "      <td>No</td>\n",
    "      <td>No</td>\n",
    "    </tr>\n",
    "    <tr>\n",
    "      <td>Caches based on</td>\n",
    "      <td>URL, route, query params, headers</td>\n",
    "      <td>Function arguments</td>\n",
    "      <td>Function arguments</td>\n",
    "      <td>URL, route, query params, headers</td>\n",
    "      <td>URL and query params, unless condition applies</td>\n",
    "    </tr>\n",
    "    <tr>\n",
    "      <td>Common use case</td>\n",
    "      <td>Caching full pages or API responses</td>\n",
    "      <td>Caching results of specific computations</td>\n",
    "      <td>Manual caching of specific function calls</td>\n",
    "      <td>Caching full pages without expiration</td>\n",
    "      <td>Conditionally skipping cache based on logic</td>\n",
    "    </tr>\n",
    "    <tr>\n",
    "      <td>Cache key</td>\n",
    "      <td>Generated from URL and query parameters</td>\n",
    "      <td>Generated from function arguments</td>\n",
    "      <td>Custom key (if defined)</td>\n",
    "      <td>Generated from URL and query parameters</td>\n",
    "      <td>Generated from URL and query parameters, unless condition met</td>\n",
    "    </tr>\n",
    "    <tr>\n",
    "      <td>Use for multiple routes</td>\n",
    "      <td>No, tied to one route</td>\n",
    "      <td>Yes, reusable in multiple routes</td>\n",
    "      <td>Yes, can be used for multiple functions</td>\n",
    "      <td>No, tied to one route</td>\n",
    "      <td>No, tied to one route</td>\n",
    "    </tr>\n",
    "  </tbody>\n",
    "</table>\n"
   ]
  },
  {
   "cell_type": "markdown",
   "metadata": {},
   "source": [
    "### Explicit Caching Functions"
   ]
  },
  {
   "cell_type": "markdown",
   "metadata": {},
   "source": [
    "#### cache.set(key, value, timeout=None):\n",
    "Manually sets a value in the cache under a specific key. Useful when you want to control when data is cached or what the key is."
   ]
  },
  {
   "cell_type": "code",
   "execution_count": null,
   "metadata": {},
   "outputs": [],
   "source": [
    "cache.set('my_key', 'my_value', timeout=60)"
   ]
  },
  {
   "cell_type": "markdown",
   "metadata": {},
   "source": [
    "#### cache.get(key):\n",
    "Retrieves a value from the cache by key."
   ]
  },
  {
   "cell_type": "code",
   "execution_count": null,
   "metadata": {},
   "outputs": [],
   "source": [
    "value = cache.get('my_key')"
   ]
  },
  {
   "cell_type": "markdown",
   "metadata": {},
   "source": [
    "#### cache.delete(key):\n",
    "Removes a specific key from the cache."
   ]
  },
  {
   "cell_type": "code",
   "execution_count": null,
   "metadata": {},
   "outputs": [],
   "source": [
    "cache.delete('my_key')"
   ]
  },
  {
   "cell_type": "markdown",
   "metadata": {},
   "source": [
    "#### cache.clear():\n",
    "Clears the entire cache. This will delete all cached data."
   ]
  },
  {
   "cell_type": "code",
   "execution_count": null,
   "metadata": {},
   "outputs": [],
   "source": [
    "cache.clear()"
   ]
  },
  {
   "cell_type": "markdown",
   "metadata": {},
   "source": [
    "### Configuration Options\n",
    "Flask-Caching allows configuring various backends and settings. Here are some important configuration options:"
   ]
  },
  {
   "cell_type": "markdown",
   "metadata": {},
   "source": [
    "#### CACHE_TYPE:\n",
    "Determines which backend is used for caching. Some common options:\n",
    "- **null**: Disables caching.\n",
    "- **simple**: Simple in-memory caching for development.\n",
    "- **redis**: Use Redis for caching.\n",
    "- **memcached**: Use Memcached for caching."
   ]
  },
  {
   "cell_type": "code",
   "execution_count": null,
   "metadata": {},
   "outputs": [],
   "source": [
    "app.config['CACHE_TYPE'] = 'RedisCache'"
   ]
  },
  {
   "cell_type": "markdown",
   "metadata": {},
   "source": [
    "#### CACHE_DEFAULT_TIMEOUT:\n",
    "Sets the default timeout for cached items (in seconds)."
   ]
  },
  {
   "cell_type": "code",
   "execution_count": null,
   "metadata": {},
   "outputs": [],
   "source": [
    "app.config['CACHE_DEFAULT_TIMEOUT'] = 300  # 5 minutes"
   ]
  },
  {
   "cell_type": "markdown",
   "metadata": {},
   "source": [
    "#### CACHE_KEY_PREFIX:\n",
    "Adds a prefix to all cache keys, which is useful if you are running multiple Flask apps using the same cache backend."
   ]
  },
  {
   "cell_type": "code",
   "execution_count": null,
   "metadata": {},
   "outputs": [],
   "source": [
    "app.config['CACHE_KEY_PREFIX'] = 'myapp_'"
   ]
  },
  {
   "cell_type": "markdown",
   "metadata": {},
   "source": [
    "#### CACHE_THRESHOLD:\n",
    "Sets the maximum number of items to store in the cache (used in memory backends like SimpleCache)."
   ]
  },
  {
   "cell_type": "code",
   "execution_count": null,
   "metadata": {},
   "outputs": [],
   "source": [
    "app.config['CACHE_THRESHOLD'] = 500"
   ]
  },
  {
   "cell_type": "markdown",
   "metadata": {},
   "source": [
    "### Cache Backends Supported\n",
    "Flask-Caching supports a wide range of caching backends:\n",
    "\n",
    "- **SimpleCache**: In-memory cache for development and testing.\n",
    "- **RedisCache**: Redis-based caching.\n",
    "- **MemcachedCache**: Memcached-based caching.\n",
    "- **FilesystemCache**: Caches data on the filesystem.\n",
    "- **NullCache**: A no-op cache that can be used to disable caching.\n",
    "- **SASLMemcachedCache**, **GAEMemcachedCache**, and others depending on **the hosting environment**."
   ]
  },
  {
   "cell_type": "markdown",
   "metadata": {},
   "source": [
    "### Key Concepts in Flask-Caching\n",
    "- **items** refer to the individual pieces of data or objects that are stored in the cache. Each item typically consists of:\n",
    "    - **Key**: A unique identifier used to retrieve the cached data. For example, a URL, function name, or custom identifier.\n",
    "    - **Value**: The actual data or result being stored. For instance, this could be a computation result, database query output, or HTML response.\n",
    "    - **Expiration/Timeout**: The time duration for which the cached item remains valid before it expires and needs to be refreshed.\n",
    "    \n",
    "- **Cache Timeout**: Defines how long a cached result remains valid. If the timeout is set, once it expires, the next call will regenerate the cache.\n",
    "- **Cache Keys**: These uniquely identify cached data. For view functions, cache keys are typically generated from the URL and query parameters, while for functions, cache keys are based on function arguments.\n",
    "- **Manual Cache Control**: While the @cached and @memoize decorators automate caching, you can manually set, get, delete, and clear cache entries using the cache instance."
   ]
  },
  {
   "cell_type": "markdown",
   "metadata": {},
   "source": [
    "### Example"
   ]
  },
  {
   "cell_type": "code",
   "execution_count": null,
   "metadata": {},
   "outputs": [],
   "source": [
    "from flask import Flask\n",
    "from flask_caching import Cache\n",
    "\n",
    "app = Flask(_name_)\n",
    "app.config['CACHE_TYPE'] = 'simple'  # In-memory cache\n",
    "cache = Cache(app)\n",
    "\n",
    "@app.route('/cached')\n",
    "@cache.cached(timeout=60)\n",
    "def cached_view():\n",
    "    return 'This view is cached for 60 seconds'"
   ]
  },
  {
   "cell_type": "markdown",
   "metadata": {},
   "source": [
    "#### **Summary**:\n",
    "Use Flask-Caching to optimize performance when appropriate, but be cautious of its drawbacks, especially in applications with dynamic content or real-time requirements. I"
   ]
  }
 ],
 "metadata": {
  "language_info": {
   "name": "python"
  }
 },
 "nbformat": 4,
 "nbformat_minor": 2
}
