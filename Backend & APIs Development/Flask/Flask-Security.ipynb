{
 "cells": [
  {
   "cell_type": "markdown",
   "metadata": {},
   "source": [
    "## Flask-Security\n",
    "powerful extension that allows you to implement common security features like authentication, user registration, role management, and more. This tutorial will guide you through each of the listed features:"
   ]
  },
  {
   "cell_type": "markdown",
   "metadata": {},
   "source": [
    "- Authentication (via session, Basic HTTP, or token)\n",
    "- User registration (optional)\n",
    "- Role and Permission management\n",
    "- Account activation (via email confirmation) (optional)\n",
    "- Password management (recovery and resetting) (optional)\n",
    "- Two-factor authentication (optional)\n",
    "- WebAuthn Support (optional)\n",
    "- Use ‘social’/Oauth for authentication (e.g. google, github, ..) (optional)\n",
    "- Change email (optional)\n",
    "- Login tracking (optional)\n",
    "- JSON/Ajax Support"
   ]
  },
  {
   "cell_type": "markdown",
   "metadata": {},
   "source": [
    "### Prerequisites\n",
    "Before starting, ensure you have the following installed:\n",
    "\n",
    "- Flask\n",
    "- Flask-SQLAlchemy\n",
    "- Flask-Security\n",
    "- Flask-Bcrypt\n",
    "- Flask-Migrate\n",
    "- Flask-Mail (for email support)"
   ]
  },
  {
   "cell_type": "code",
   "execution_count": null,
   "metadata": {},
   "outputs": [],
   "source": [
    "# Installation Prerequisites\n",
    "!pip install Flask-SQLAlchemy Flask-WTF Flask-Bcrypt Flask-Migrate Flask-Mail Flask-OAuthlib"
   ]
  },
  {
   "cell_type": "code",
   "execution_count": null,
   "metadata": {},
   "outputs": [],
   "source": [
    "# Installation\n",
    "!pip install Flask-Security"
   ]
  },
  {
   "cell_type": "code",
   "execution_count": null,
   "metadata": {},
   "outputs": [],
   "source": [
    "from flask import Flask\n",
    "from flask_sqlalchemy import SQLAlchemy\n",
    "from flask_migrate import Migrate\n",
    "from flask_security import Security, SQLAlchemyUserDatastore\n",
    "from flask_bcrypt import Bcrypt\n",
    "from flask_mail import Mail\n",
    "\n",
    "# Initialize extensions\n",
    "db = SQLAlchemy()\n",
    "migrate = Migrate()\n",
    "bcrypt = Bcrypt()\n",
    "mail = Mail()\n",
    "\n",
    "# Flask-Security setup\n",
    "security = Security()\n",
    "\n",
    "def create_app(config_class='config.Config'):\n",
    "    app = Flask(__name__)\n",
    "    app.config.from_object(config_class)\n",
    "\n",
    "    # Initialize extensions\n",
    "    db.init_app(app)\n",
    "    migrate.init_app(app, db)\n",
    "    bcrypt.init_app(app)\n",
    "    mail.init_app(app)\n",
    "    \n",
    "    from models import User,Role\n",
    "    \n",
    "    security.init_app(app, SQLAlchemyUserDatastore(db, User, Role))\n",
    "\n",
    "    from . import routes\n",
    "    app.register_blueprint(routes.bp)\n",
    "\n",
    "    return app\n"
   ]
  },
  {
   "cell_type": "markdown",
   "metadata": {},
   "source": [
    "### Role and Permission Management\n",
    "makes it easy to manage roles and permissions within your application. This allows you to create different user roles (e.g., Admin, User) and restrict access to certain parts of the application based on the user's role."
   ]
  },
  {
   "cell_type": "markdown",
   "metadata": {},
   "source": [
    "#### Define Roles\n",
    "Flask-Security expects certain models and relationships for role-based access control (**RBAC**)."
   ]
  },
  {
   "cell_type": "markdown",
   "metadata": {},
   "source": [
    "- **1. Role Model**:\n",
    "    - The Role model defines a role (e.g., Admin, User, Moderator, etc.).\n",
    "    - Use Flask-Security's RoleMixin to automatically add role-specific behavior."
   ]
  },
  {
   "cell_type": "code",
   "execution_count": null,
   "metadata": {},
   "outputs": [],
   "source": [
    "from flask_security import RoleMixin, UserMixin\n",
    "from . import db\n",
    "\n",
    "class Role(db.Model, RoleMixin):\n",
    "    id = db.Column(db.Integer, primary_key=True)\n",
    "    name = db.Column(db.String(80), unique=True)  # 'admin', 'user', etc.\n",
    "    description = db.Column(db.String(255))  # Optional description"
   ]
  },
  {
   "cell_type": "markdown",
   "metadata": {},
   "source": [
    "- **2.User Model**:\n",
    "    - The User model represents the users in the system.\n",
    "    - Use Flask-Security’s UserMixin to add user-specific behavior like checking if the user is authenticated, active, etc."
   ]
  },
  {
   "cell_type": "code",
   "execution_count": null,
   "metadata": {},
   "outputs": [],
   "source": [
    "class User(db.Model, UserMixin):\n",
    "    id = db.Column(db.Integer, primary_key=True)\n",
    "    email = db.Column(db.String(255), unique=True)\n",
    "    password = db.Column(db.String(255))\n",
    "    active = db.Column(db.Boolean())\n",
    "    # Define many-to-many relationship between User and Role\n",
    "    roles = db.relationship('Role', secondary='user_roles')"
   ]
  },
  {
   "cell_type": "markdown",
   "metadata": {},
   "source": [
    "- **3. Association Table (UserRoles)**:\n",
    "    - This table links users to roles using a many-to-many relationship. It allows one user to have multiple roles."
   ]
  },
  {
   "cell_type": "code",
   "execution_count": null,
   "metadata": {},
   "outputs": [],
   "source": [
    "class UserRoles(db.Model):\n",
    "    id = db.Column(db.Integer, primary_key=True)\n",
    "    user_id = db.Column(db.Integer, db.ForeignKey('user.id', ondelete='CASCADE'))\n",
    "    role_id = db.Column(db.Integer, db.ForeignKey('role.id', ondelete='CASCADE'))"
   ]
  },
  {
   "cell_type": "markdown",
   "metadata": {},
   "source": [
    "This setup allows you to define different roles, assign users multiple roles, and use Flask-Security’s decorators (like **@roles_required**) to restrict access to routes based on roles."
   ]
  },
  {
   "cell_type": "markdown",
   "metadata": {},
   "source": [
    "- **Why This Model?**\n",
    "    - **RoleMixin**: Automatically provides useful methods for role management.\n",
    "    - **UserMixin**: Automatically provides user-related methods like is_authenticated, is_active, and more.\n",
    "    - **Many-to-many relationship**: A flexible way to handle users with multiple roles, common in RBAC systems."
   ]
  },
  {
   "cell_type": "markdown",
   "metadata": {},
   "source": [
    "#### Assign Roles to Users"
   ]
  },
  {
   "cell_type": "code",
   "execution_count": null,
   "metadata": {},
   "outputs": [],
   "source": [
    "from flask_security import SQLAlchemyUserDatastore\n",
    "\n",
    "# Initialize SQLAlchemyUserDatastore\n",
    "user_datastore = SQLAlchemyUserDatastore(db, User, Role)\n",
    "\n",
    "# Assign a role to a user (for example, Admin)\n",
    "user = user_datastore.get_user(user_id)\n",
    "user_datastore.add_role_to_user(user, 'admin')\n",
    "db.session.commit()"
   ]
  },
  {
   "cell_type": "markdown",
   "metadata": {},
   "source": [
    "#### Protect routes"
   ]
  },
  {
   "cell_type": "code",
   "execution_count": null,
   "metadata": {},
   "outputs": [],
   "source": [
    "from flask_security import roles_required\n",
    "\n",
    "@app.route('/admin')\n",
    "@roles_required('admin')  # Only accessible to users with the 'admin' role\n",
    "def admin():\n",
    "    return \"Welcome, Admin!\""
   ]
  },
  {
   "cell_type": "markdown",
   "metadata": {},
   "source": [
    "###  Account Activation (via Email Confirmation)\n",
    "helps verify the user's email before allowing them to use the system. Flask-Security provides built-in support for email confirmation."
   ]
  },
  {
   "cell_type": "markdown",
   "metadata": {},
   "source": [
    "#### Enable Account Activation\n",
    "by adding SECURITY_CONFIRMABLE = True in your config.py."
   ]
  },
  {
   "cell_type": "code",
   "execution_count": null,
   "metadata": {},
   "outputs": [],
   "source": [
    "# Enable email confirmation for account activation\n",
    "SECURITY_CONFIRMABLE = True  # Required for email confirmation (account activation)\n",
    "\n",
    "# Option to send a welcome email after registration\n",
    "SECURITY_SEND_REGISTER_EMAIL = False  # Set to False to prevent sending a welcome email until account is activated"
   ]
  },
  {
   "cell_type": "markdown",
   "metadata": {},
   "source": [
    "#### Configure Flask-Mail\n",
    "Ensure that Flask-Mail is configured to send emails. Add your mail server configuration in config.py."
   ]
  },
  {
   "cell_type": "code",
   "execution_count": null,
   "metadata": {},
   "outputs": [],
   "source": [
    "# Flask-Mail settings (for sending emails)\n",
    "MAIL_SERVER = 'smtp.gmail.com'\n",
    "MAIL_PORT = 587\n",
    "MAIL_USE_TLS = True\n",
    "MAIL_USERNAME = 'your_email@gmail.com'\n",
    "MAIL_PASSWORD = 'your_email_password'\n",
    "MAIL_DEFAULT_SENDER = 'your_email@gmail.com'  # Sender email address for confirmation emails"
   ]
  },
  {
   "cell_type": "markdown",
   "metadata": {},
   "source": [
    "#### Handling Registration Logic in Registration Route"
   ]
  },
  {
   "cell_type": "code",
   "execution_count": null,
   "metadata": {},
   "outputs": [],
   "source": [
    "# routes.py\n",
    "from flask import render_template, redirect, url_for, flash\n",
    "from flask_security.utils import hash_password, send_confirmation_instructions\n",
    "from yourapp.models import User  # Import your User model\n",
    "from yourapp import db  # Your SQLAlchemy instance\n",
    "from yourapp.forms import RegistrationForm\n",
    "\n",
    "@app.route('/register', methods=['GET', 'POST'])\n",
    "def register():\n",
    "    form = RegistrationForm()\n",
    "    if form.validate_on_submit():\n",
    "        # Check if the user already exists\n",
    "        existing_user = User.query.filter_by(email=form.email.data).first()\n",
    "        if existing_user:\n",
    "            flash('A user with that email already exists', 'danger')\n",
    "            return redirect(url_for('register'))\n",
    "        \n",
    "        # Create a new user\n",
    "        new_user = User(\n",
    "            email=form.email.data,\n",
    "            password=hash_password(form.password.data),  # Use hash_password from Flask-Security\n",
    "            active=False  # New user is not active until they confirm their email\n",
    "        )\n",
    "        db.session.add(new_user)\n",
    "        db.session.commit()\n",
    "\n",
    "        # Send confirmation email\n",
    "        send_confirmation_instructions(new_user)  # Flask-Security utility to send the confirmation email\n",
    "\n",
    "        flash('A confirmation email has been sent. Please check your inbox.', 'info')\n",
    "        return redirect(url_for('login'))\n",
    "    \n",
    "    return render_template('register.html', form=form)\n"
   ]
  },
  {
   "cell_type": "markdown",
   "metadata": {},
   "source": [
    "#### Handle Email Confirmation Link (Activation)\n",
    "Flask-Security has a built-in route for handling confirmation links that users click in their email, so you don’t need to manually create a route for that. Once the user clicks the confirmation link, Flask-Security will automatically:\n",
    "- Validate the token in the confirmation link.\n",
    "- Activate the user by setting active=True."
   ]
  },
  {
   "cell_type": "markdown",
   "metadata": {},
   "source": [
    "#### Enforce Email Verification\n",
    "In your views, you can enforce email confirmation using the @confirm_email_required decorator."
   ]
  },
  {
   "cell_type": "code",
   "execution_count": null,
   "metadata": {},
   "outputs": [],
   "source": [
    "from flask_security import confirm_email_required\n",
    "\n",
    "@app.route('/dashboard')\n",
    "@confirm_email_required\n",
    "def dashboard():\n",
    "    return \"Welcome to your dashboard!\""
   ]
  },
  {
   "cell_type": "markdown",
   "metadata": {},
   "source": [
    "Once a user registers, they will receive a confirmation email, and their account will only be activated after they click the confirmation link."
   ]
  },
  {
   "cell_type": "markdown",
   "metadata": {},
   "source": [
    "### Password Management (Recovery and Resetting)\n",
    "Flask-Security supports password recovery and resetting, allowing users to reset their password if they forget it. This feature includes sending a recovery email with a reset link."
   ]
  },
  {
   "cell_type": "markdown",
   "metadata": {},
   "source": [
    "#### Enable Password Recovery"
   ]
  },
  {
   "cell_type": "code",
   "execution_count": null,
   "metadata": {},
   "outputs": [],
   "source": [
    "SECURITY_RECOVERABLE = True"
   ]
  },
  {
   "cell_type": "markdown",
   "metadata": {},
   "source": [
    "#### Configure MAIL_SERVER \n",
    "configure MAIL_SERVER settings to ensure that Flask can send recovery emails."
   ]
  },
  {
   "cell_type": "code",
   "execution_count": null,
   "metadata": {},
   "outputs": [],
   "source": [
    "# Flask-Mail settings for sending recovery emails\n",
    "MAIL_SERVER = 'smtp.gmail.com'  # Use your email provider's SMTP server\n",
    "MAIL_PORT = 587  # Common port for TLS encryption\n",
    "MAIL_USE_TLS = True  # Use TLS encryption\n",
    "MAIL_USERNAME = 'your_email@gmail.com'  # Your email address\n",
    "MAIL_PASSWORD = 'your_email_password'  # Your email password\n",
    "MAIL_DEFAULT_SENDER = 'your_email@gmail.com'  # The sender address for recovery emails"
   ]
  },
  {
   "cell_type": "markdown",
   "metadata": {},
   "source": [
    "####  Create the Password Recovery Form\n",
    "This form will allow the user to input their email address to request a password reset link."
   ]
  },
  {
   "cell_type": "code",
   "execution_count": null,
   "metadata": {},
   "outputs": [],
   "source": [
    "# forms.py\n",
    "from flask_wtf import FlaskForm\n",
    "from wtforms import StringField, SubmitField\n",
    "from wtforms.validators import DataRequired, Email\n",
    "\n",
    "class PasswordRecoveryForm(FlaskForm):\n",
    "    email = StringField('Email', validators=[DataRequired(), Email()])\n",
    "    submit = SubmitField('Recover Password')"
   ]
  },
  {
   "cell_type": "code",
   "execution_count": null,
   "metadata": {},
   "outputs": [],
   "source": [
    "# views.py\n",
    "from flask import render_template, redirect, url_for, flash\n",
    "from .forms import PasswordRecoveryForm\n",
    "from flask_security import send_reset_password_instructions\n",
    "\n",
    "@app.route('/recover', methods=['GET', 'POST'])\n",
    "def recover_password():\n",
    "    form = PasswordRecoveryForm()\n",
    "    if form.validate_on_submit():\n",
    "        email = form.email.data\n",
    "        # Trigger Flask-Security's email sending\n",
    "        send_reset_password_instructions(email)\n",
    "        flash('A password reset email has been sent if the email exists in our system.', 'info')\n",
    "        return redirect(url_for('login'))\n",
    "    return render_template('recover.html', form=form)"
   ]
  },
  {
   "cell_type": "markdown",
   "metadata": {},
   "source": [
    "- The view processes the form submission and triggers Flask-Security's send_reset_password_instructions to send the reset email.\n",
    "- It displays a success message if the form is successfully submitted."
   ]
  },
  {
   "cell_type": "code",
   "execution_count": null,
   "metadata": {
    "vscode": {
     "languageId": "html"
    }
   },
   "outputs": [],
   "source": [
    "<!-- recover.html -->\n",
    "<form method=\"POST\" action=\"{{ url_for('recover_password') }}\">\n",
    "    {{ form.hidden_tag() }}  <!-- CSRF protection -->\n",
    "    <div>\n",
    "        {{ form.email.label }} \n",
    "        {{ form.email() }}  <!-- Email field -->\n",
    "    </div>\n",
    "    <div>\n",
    "        {{ form.submit() }}  <!-- Submit button -->\n",
    "    </div>\n",
    "</form>"
   ]
  },
  {
   "cell_type": "markdown",
   "metadata": {},
   "source": [
    "#### Email Confirmation for Password Recovery\n",
    "Once the user submits the password recovery form, Flask-Security automatically generates a unique token and sends an email to the user. The email contains a link to the password reset page, which includes the token in the URL.<br>\n",
    "\n",
    "- Flask-Security manages this email generation and sending based on the configuration you provided (such as MAIL_SERVER, MAIL_USERNAME, etc.)."
   ]
  },
  {
   "cell_type": "markdown",
   "metadata": {},
   "source": [
    "#### Create the Password Reset Form\n",
    "This form will allow users to reset their password after they click the reset link in their email."
   ]
  },
  {
   "cell_type": "code",
   "execution_count": null,
   "metadata": {},
   "outputs": [],
   "source": [
    "# forms.py\n",
    "from flask_wtf import FlaskForm\n",
    "from wtforms import PasswordField, SubmitField\n",
    "from wtforms.validators import DataRequired, EqualTo\n",
    "\n",
    "class PasswordResetForm(FlaskForm):\n",
    "    password = PasswordField('New Password', validators=[DataRequired()])\n",
    "    password_confirm = PasswordField('Confirm New Password', validators=[DataRequired(), EqualTo('password')])\n",
    "    submit = SubmitField('Reset Password')"
   ]
  },
  {
   "cell_type": "code",
   "execution_count": null,
   "metadata": {},
   "outputs": [],
   "source": [
    "# views.py\n",
    "from flask import render_template, redirect, url_for, flash, request\n",
    "from .forms import PasswordResetForm\n",
    "from flask_security import reset_password\n",
    "\n",
    "@app.route('/reset/<token>', methods=['GET', 'POST'])\n",
    "def reset_password_view(token):\n",
    "    form = PasswordResetForm()\n",
    "    if form.validate_on_submit():\n",
    "        new_password = form.password.data\n",
    "        # Call Flask-Security's reset_password function with the token\n",
    "        if reset_password(token, new_password):\n",
    "            flash('Your password has been reset successfully.', 'success')\n",
    "            return redirect(url_for('login'))\n",
    "        else:\n",
    "            flash('The reset token is invalid or expired.', 'danger')\n",
    "            return redirect(url_for('recover_password'))\n",
    "    return render_template('reset_password.html', form=form)\n"
   ]
  },
  {
   "cell_type": "markdown",
   "metadata": {},
   "source": [
    "<!-- reset_password.html -->\n",
    "<form method=\"POST\" action=\"{{ url_for('reset_password_view', token=token) }}\">\n",
    "    {{ form.hidden_tag() }}  <!-- CSRF protection -->\n",
    "    <div>\n",
    "        {{ form.password.label }} \n",
    "        {{ form.password() }}  <!-- New password field -->\n",
    "    </div>\n",
    "    <div>\n",
    "        {{ form.password_confirm.label }} \n",
    "        {{ form.password_confirm() }}  <!-- Confirm password field -->\n",
    "    </div>\n",
    "    <div>\n",
    "        {{ form.submit() }}  <!-- Submit button -->\n",
    "    </div>\n",
    "</form>\n"
   ]
  },
  {
   "cell_type": "markdown",
   "metadata": {},
   "source": [
    "When the form is submitted, Flask-Security:\n",
    "\n",
    "- Verifies that the reset token is valid (it was included in the email link).\n",
    "- Verifies that the new password and password confirmation match.\n",
    "Hashes the new password and updates the user’s record in the database.\n"
   ]
  },
  {
   "cell_type": "markdown",
   "metadata": {},
   "source": [
    "#### Automatic Email Notifications\n",
    "Flask-Security automatically sends an email when the password is successfully reset, notifying the user that their password has been changed."
   ]
  },
  {
   "cell_type": "markdown",
   "metadata": {},
   "source": [
    "#### Additional Notes\n",
    "- **Token Expiration**: Flask-Security uses tokens for password recovery that expire after a certain period for security reasons. You can control this with the **SECURITY_RESET_SALT** and **SECURITY_RESET_WITHIN** settings."
   ]
  }
 ],
 "metadata": {
  "language_info": {
   "name": "python"
  }
 },
 "nbformat": 4,
 "nbformat_minor": 2
}
