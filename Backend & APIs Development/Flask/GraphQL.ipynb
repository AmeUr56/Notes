{
 "cells": [
  {
   "cell_type": "markdown",
   "metadata": {},
   "source": [
    "# 1. Introduction"
   ]
  },
  {
   "cell_type": "markdown",
   "metadata": {},
   "source": [
    "## What is GraphQL?\n",
    "\n",
    "GraphQL is a query language for APIs and a runtime for executing those queries with your existing data. Unlike REST, which relies on multiple endpoints for different data, GraphQL allows you to request exactly what you need in a single query.<br>\n",
    "\n",
    "The main components to understand are **queries**, **mutations**, and **resolvers**. These form the **core of any GraphQL API**."
   ]
  },
  {
   "cell_type": "markdown",
   "metadata": {},
   "source": [
    "### 1. Queries\n",
    "A query is used to **fetch data** from a GraphQL server. Unlike REST APIs, which often require multiple endpoints, GraphQL queries allow clients to request exactly the data they need in a single call."
   ]
  },
  {
   "cell_type": "markdown",
   "metadata": {},
   "source": [
    "- **Syntax**\n",
    "GraphQL queries use a declarative syntax where you specify:\n",
    "\n",
    "    - The type of data you want.\n",
    "    - Any nested fields you require."
   ]
  },
  {
   "cell_type": "markdown",
   "metadata": {},
   "source": [
    "#### Example\n",
    "Here’s an example of a query to fetch a book's title and author:"
   ]
  },
  {
   "cell_type": "code",
   "execution_count": null,
   "metadata": {
    "vscode": {
     "languageId": "xml"
    }
   },
   "outputs": [],
   "source": [
    "query {\n",
    "  books {\n",
    "    title\n",
    "    author\n",
    "  }\n",
    "}"
   ]
  },
  {
   "cell_type": "markdown",
   "metadata": {},
   "source": [
    "#### Key Features"
   ]
  },
  {
   "cell_type": "markdown",
   "metadata": {},
   "source": [
    "- **Nested Fields**: Fetch related data in a single query."
   ]
  },
  {
   "cell_type": "code",
   "execution_count": null,
   "metadata": {
    "vscode": {
     "languageId": "xml"
    }
   },
   "outputs": [],
   "source": [
    "query {\n",
    "  books {\n",
    "    title\n",
    "    author\n",
    "    publisher {\n",
    "      name\n",
    "      location\n",
    "    }\n",
    "  }\n",
    "}"
   ]
  },
  {
   "cell_type": "markdown",
   "metadata": {},
   "source": [
    "- **Arguments**: Specify filters to refine your results."
   ]
  },
  {
   "cell_type": "code",
   "execution_count": null,
   "metadata": {
    "vscode": {
     "languageId": "xml"
    }
   },
   "outputs": [],
   "source": [
    "query {\n",
    "  bookByTitle(title: \"1984\") {\n",
    "    title\n",
    "    author\n",
    "  }\n",
    "}"
   ]
  },
  {
   "cell_type": "markdown",
   "metadata": {},
   "source": [
    "- **Aliases**: Rename fields for client-side convenience."
   ]
  },
  {
   "cell_type": "code",
   "execution_count": null,
   "metadata": {
    "vscode": {
     "languageId": "xml"
    }
   },
   "outputs": [],
   "source": [
    "query {\n",
    "  gatsby: bookByTitle(title: \"The Great Gatsby\") {\n",
    "    title\n",
    "    author\n",
    "  }\n",
    "}"
   ]
  },
  {
   "cell_type": "markdown",
   "metadata": {},
   "source": [
    "- **Fragments**: Reuse common field selections."
   ]
  },
  {
   "cell_type": "code",
   "execution_count": null,
   "metadata": {
    "vscode": {
     "languageId": "xml"
    }
   },
   "outputs": [],
   "source": [
    "query {\n",
    "  books {\n",
    "    ...BookFields\n",
    "  }\n",
    "}\n",
    "\n",
    "fragment BookFields on Book {\n",
    "  title\n",
    "  author\n",
    "  publishedYear\n",
    "}"
   ]
  },
  {
   "cell_type": "markdown",
   "metadata": {},
   "source": [
    "### 2. Mutations\n",
    "A mutation is used to **modify data** on the server. Mutations can perform actions like creating, updating, or deleting records."
   ]
  },
  {
   "cell_type": "markdown",
   "metadata": {},
   "source": [
    "- **Syntax**\n",
    "Mutations are similar to queries but include input arguments to specify the data being modified."
   ]
  },
  {
   "cell_type": "markdown",
   "metadata": {},
   "source": [
    "#### Example\n",
    "Adding a new book:"
   ]
  },
  {
   "cell_type": "code",
   "execution_count": null,
   "metadata": {
    "vscode": {
     "languageId": "xml"
    }
   },
   "outputs": [],
   "source": [
    "mutation {\n",
    "  addBook(title: \"New Book\", author: \"John Doe\", publishedYear: 2023) {\n",
    "    book {\n",
    "      title\n",
    "      author\n",
    "    }\n",
    "    ok\n",
    "  }\n",
    "}"
   ]
  },
  {
   "cell_type": "markdown",
   "metadata": {},
   "source": [
    "#### Key Features\n",
    "- **Return Values**: Mutations can return fields to confirm success or fetch related data after the operation.\n",
    "- **Arguments**: Required to define what is being changed.\n",
    "- **Chaining**: Multiple mutations can be executed in a single request."
   ]
  },
  {
   "cell_type": "markdown",
   "metadata": {},
   "source": [
    "### 3. Resolvers\n",
    "Resolvers are the functions that **process queries or mutations** and fetch the data or perform the requested operations. They act as a bridge between the schema and the actual data."
   ]
  },
  {
   "cell_type": "markdown",
   "metadata": {},
   "source": [
    "- **Resolver Types**\n",
    "    - **Query Resolvers**: Handle data retrieval.\n",
    "    - **Mutation Resolvers**: Handle data modifications.\n",
    "    - **Field Resolvers**: Handle specific fields, often for derived or nested data."
   ]
  },
  {
   "cell_type": "markdown",
   "metadata": {},
   "source": [
    "- **Resolver Anatomy**<br>\n",
    "Resolvers accept three main arguments:\n",
    "    - **parent**: The result of the parent resolver. Useful for nested fields.\n",
    "    - **info**: Metadata about the execution, including the schema and context.\n",
    "    - **args**: Arguments provided by the query or mutation."
   ]
  },
  {
   "cell_type": "markdown",
   "metadata": {},
   "source": [
    "#### Example"
   ]
  },
  {
   "cell_type": "markdown",
   "metadata": {},
   "source": [
    "- **Query Resolver**:"
   ]
  },
  {
   "cell_type": "code",
   "execution_count": null,
   "metadata": {},
   "outputs": [],
   "source": [
    "class Query(graphene.ObjectType):\n",
    "    books = graphene.List(Book)\n",
    "\n",
    "    def resolve_books(self, info):\n",
    "        # Fetch data from the database or other sources\n",
    "        return [\n",
    "            Book(title=\"The Great Gatsby\", author=\"F. Scott Fitzgerald\"),\n",
    "            Book(title=\"1984\", author=\"George Orwell\"),\n",
    "        ]"
   ]
  },
  {
   "cell_type": "markdown",
   "metadata": {},
   "source": [
    "- **Mutation Resolver**:"
   ]
  },
  {
   "cell_type": "code",
   "execution_count": null,
   "metadata": {},
   "outputs": [],
   "source": [
    "class AddBook(graphene.Mutation):\n",
    "    class Arguments:\n",
    "        title = graphene.String(required=True)\n",
    "        author = graphene.String(required=True)\n",
    "\n",
    "    ok = graphene.Boolean()\n",
    "    book = graphene.Field(Book)\n",
    "\n",
    "    def mutate(self, info, title, author):\n",
    "        new_book = Book(title=title, author=author)\n",
    "        # Save to database here\n",
    "        ok = True\n",
    "        return AddBook(book=new_book, ok=ok)"
   ]
  },
  {
   "cell_type": "markdown",
   "metadata": {},
   "source": [
    "- **Field Resolver**:"
   ]
  },
  {
   "cell_type": "code",
   "execution_count": null,
   "metadata": {},
   "outputs": [],
   "source": [
    "class Book(graphene.ObjectType):\n",
    "    title = graphene.String()\n",
    "    author = graphene.String()\n",
    "    summary = graphene.String()\n",
    "\n",
    "    def resolve_summary(parent, info):\n",
    "        return f\"{parent.title} by {parent.author}\""
   ]
  },
  {
   "cell_type": "markdown",
   "metadata": {},
   "source": [
    "### 4. Subscriptions\n",
    "A subscription in GraphQL is used to listen to real-time events or changes on the server. It allows clients to receive updates when data changes, without having to repeatedly query the server."
   ]
  },
  {
   "cell_type": "markdown",
   "metadata": {},
   "source": [
    "- **Syntax** <br>\n",
    "Subscriptions are defined similarly to queries but are used to listen to specific events. They maintain an open connection to the server, receiving updates when the event occurs."
   ]
  },
  {
   "cell_type": "markdown",
   "metadata": {},
   "source": [
    "#### Example\n",
    "A subscription to listen for real-time updates to an order status:\n",
    "<br>\n",
    "- **Example Use Case** <br>\n",
    "In an e-commerce system, you could have a subscription to notify customers about price changes or order updates."
   ]
  },
  {
   "cell_type": "code",
   "execution_count": null,
   "metadata": {
    "vscode": {
     "languageId": "xml"
    }
   },
   "outputs": [],
   "source": [
    "subscription {\n",
    "  orderStatusUpdated(orderId: \"123\") {\n",
    "    status\n",
    "    trackingNumber\n",
    "  }\n",
    "}"
   ]
  },
  {
   "cell_type": "markdown",
   "metadata": {},
   "source": [
    "#### Key Features\n",
    "- **Real-Time Dat**: Subscriptions push updates to clients as soon as they happen, making them ideal for live notifications and updates.\n",
    "- **Maintains Persistent Connectio**: Unlike queries and mutations, which are one-time requests, subscriptions keep an open connection to the server for ongoing communication.\n",
    "- **Event-Driven**: Subscriptions are typically tied to specific events or data changes (e.g., order status updates or stock changes)."
   ]
  },
  {
   "cell_type": "markdown",
   "metadata": {},
   "source": [
    "#### Key Concepts\n",
    "- **Events**: The events being listened to are defined on the server. When a relevant change happens (e.g., an order status update), the server pushes the update to all clients subscribed to that event.\n",
    "- **Subscription Server**: Typically uses WebSockets or similar protocols (like Server-Sent Events) to handle the persistent connection and send real-time data to the client."
   ]
  },
  {
   "cell_type": "markdown",
   "metadata": {},
   "source": [
    "### 5. Differences Between Queries and Mutations"
   ]
  },
  {
   "cell_type": "markdown",
   "metadata": {},
   "source": [
    "<table border=\"1\" cellpadding=\"10\" cellspacing=\"0\">\n",
    "  <thead>\n",
    "    <tr>\n",
    "      <th>Aspect</th>\n",
    "      <th>Queries</th>\n",
    "      <th>Mutations</th>\n",
    "    </tr>\n",
    "  </thead>\n",
    "  <tbody>\n",
    "    <tr>\n",
    "      <td>Purpose</td>\n",
    "      <td>Retrieve data.</td>\n",
    "      <td>Modify data (create, update, delete).</td>\n",
    "    </tr>\n",
    "    <tr>\n",
    "      <td>Structure</td>\n",
    "      <td>Declarative, focuses on fields.</td>\n",
    "      <td>Requires input arguments.</td>\n",
    "    </tr>\n",
    "    <tr>\n",
    "      <td>HTTP Method</td>\n",
    "      <td>Typically GET (though POST is allowed).</td>\n",
    "      <td>Typically POST.</td>\n",
    "    </tr>\n",
    "    <tr>\n",
    "      <td>Idempotence</td>\n",
    "      <td>Always idempotent (same result on repeat calls).</td>\n",
    "      <td>Not idempotent (changes data).</td>\n",
    "    </tr>\n",
    "  </tbody>\n",
    "</table>\n"
   ]
  },
  {
   "cell_type": "markdown",
   "metadata": {},
   "source": [
    "### 6. Context in Resolvers\n",
    "Resolvers can use a context object to share global data like:\n",
    "- User authentication/authorization details.\n",
    "- Database connections.\n",
    "- Configurations."
   ]
  },
  {
   "cell_type": "markdown",
   "metadata": {},
   "source": [
    "#### Example of Context Usage:"
   ]
  },
  {
   "cell_type": "code",
   "execution_count": null,
   "metadata": {},
   "outputs": [],
   "source": [
    "class Query(graphene.ObjectType):\n",
    "    books = graphene.List(Book)\n",
    "\n",
    "    def resolve_books(self, info):\n",
    "        user = info.context.get('user')\n",
    "        if not user.is_authenticated:\n",
    "            raise Exception(\"Authentication required!\")\n",
    "        return BookModel.query.all()"
   ]
  },
  {
   "cell_type": "markdown",
   "metadata": {},
   "source": [
    "### 7. Schema Integration\n",
    "In GraphQL, schemas define the structure of your API, while resolvers fetch or manipulate the data."
   ]
  },
  {
   "cell_type": "code",
   "execution_count": null,
   "metadata": {},
   "outputs": [],
   "source": [
    "class Query(graphene.ObjectType):\n",
    "    book_by_title = graphene.Field(Book, title=graphene.String(required=True))\n",
    "\n",
    "    def resolve_book_by_title(self, info, title):\n",
    "        return BookModel.query.filter_by(title=title).first()\n",
    "\n",
    "class Mutation(graphene.ObjectType):\n",
    "    add_book = AddBook.Field()\n",
    "\n",
    "schema = graphene.Schema(query=Query, mutation=Mutation)"
   ]
  },
  {
   "cell_type": "markdown",
   "metadata": {},
   "source": [
    "### Key Benefits of GraphQL Concepts"
   ]
  },
  {
   "cell_type": "markdown",
   "metadata": {},
   "source": [
    "- **Queries**: Allow fine-grained control over requested data.\n",
    "- **Mutations**: Enable flexible and efficient data manipulation.\n",
    "- **Resolvers**: Separate data logic from schema, improving maintainability.\n",
    "- **Single Endpoint**: Unlike REST, GraphQL consolidates operations into one endpoint, improving simplicity."
   ]
  },
  {
   "cell_type": "markdown",
   "metadata": {},
   "source": [
    "# Installation"
   ]
  },
  {
   "cell_type": "code",
   "execution_count": null,
   "metadata": {
    "vscode": {
     "languageId": "powershell"
    }
   },
   "outputs": [],
   "source": [
    "pip install flask flask-graphql graphene sqlalchemy"
   ]
  },
  {
   "cell_type": "markdown",
   "metadata": {},
   "source": [
    "# 2. Setting Up Flask with GraphQL"
   ]
  },
  {
   "cell_type": "markdown",
   "metadata": {},
   "source": [
    "## 2.1 Create a Flask App"
   ]
  },
  {
   "cell_type": "code",
   "execution_count": null,
   "metadata": {},
   "outputs": [],
   "source": [
    "from flask import Flask\n",
    "from flask_graphql import GraphQLView\n",
    "\n",
    "app = Flask(__name__)\n",
    "\n",
    "@app.route('/')\n",
    "def index():\n",
    "    return \"Welcome to the GraphQL API!\"\n",
    "\n",
    "if __name__ == \"__main__\":\n",
    "    app.run(debug=True)"
   ]
  },
  {
   "cell_type": "markdown",
   "metadata": {},
   "source": [
    "## 2.2 Add GraphQL Support\n",
    "\n",
    "GraphQL in Flask is enabled through the flask-graphql library and graphene."
   ]
  },
  {
   "cell_type": "markdown",
   "metadata": {},
   "source": [
    "# 3. Defining a GraphQL Schema with Graphene\n",
    "\n",
    "GraphQL schemas define the structure of your API. Use the graphene library to create types, queries, and mutations."
   ]
  },
  {
   "cell_type": "markdown",
   "metadata": {},
   "source": [
    "## 3.1 Define a Data Model\n",
    "For this example, let’s manage a list of books with title, author, and published_year."
   ]
  },
  {
   "cell_type": "code",
   "execution_count": null,
   "metadata": {},
   "outputs": [],
   "source": [
    "import graphene\n",
    "\n",
    "class Book(graphene.ObjectType):\n",
    "    title = graphene.String()\n",
    "    author = graphene.String()\n",
    "    published_year = graphene.Int()"
   ]
  },
  {
   "cell_type": "markdown",
   "metadata": {},
   "source": [
    "## 3.2 Create Queries\n",
    "Define a query to fetch books."
   ]
  },
  {
   "cell_type": "code",
   "execution_count": null,
   "metadata": {},
   "outputs": [],
   "source": [
    "class Query(graphene.ObjectType):\n",
    "    books = graphene.List(Book)\n",
    "\n",
    "    def resolve_books(self, info):\n",
    "        # Sample data\n",
    "        return [\n",
    "            Book(title=\"The Great Gatsby\", author=\"F. Scott Fitzgerald\", published_year=1925),\n",
    "            Book(title=\"1984\", author=\"George Orwell\", published_year=1949),\n",
    "        ]"
   ]
  },
  {
   "cell_type": "markdown",
   "metadata": {},
   "source": [
    "## 3.3 Define the Schema\n",
    "Combine your query into a schema."
   ]
  },
  {
   "cell_type": "code",
   "execution_count": null,
   "metadata": {},
   "outputs": [],
   "source": [
    "schema = graphene.Schema(query=Query)"
   ]
  },
  {
   "cell_type": "markdown",
   "metadata": {},
   "source": [
    "## 3.4 Add GraphQLView\n",
    "Integrate the GraphQL schema into Flask using GraphQLView."
   ]
  },
  {
   "cell_type": "code",
   "execution_count": null,
   "metadata": {},
   "outputs": [],
   "source": [
    "app.add_url_rule(\n",
    "    '/graphql',\n",
    "    view_func=GraphQLView.as_view(\n",
    "        'graphql',\n",
    "        schema=schema,\n",
    "        graphiql=True  # Enables the GraphiQL interface\n",
    "    )\n",
    ")"
   ]
  },
  {
   "cell_type": "markdown",
   "metadata": {},
   "source": [
    "Run the app and visit **/graphql** to use the GraphiQL interface."
   ]
  },
  {
   "cell_type": "markdown",
   "metadata": {},
   "source": [
    "# 4. Adding Mutations\n",
    "Mutations allow clients to modify data."
   ]
  },
  {
   "cell_type": "markdown",
   "metadata": {},
   "source": [
    "## 4.1 Define a Mutation\n",
    "Add a mutation to add new books."
   ]
  },
  {
   "cell_type": "code",
   "execution_count": null,
   "metadata": {},
   "outputs": [],
   "source": [
    "class AddBook(graphene.Mutation):\n",
    "    class Arguments:\n",
    "        title = graphene.String(required=True)\n",
    "        author = graphene.String(required=True)\n",
    "        published_year = graphene.Int(required=True)\n",
    "\n",
    "    ok = graphene.Boolean()\n",
    "    book = graphene.Field(lambda: Book)\n",
    "\n",
    "    def mutate(self, info, title, author, published_year):\n",
    "        new_book = Book(title=title, author=author, published_year=published_year)\n",
    "        ok = True\n",
    "        return AddBook(book=new_book, ok=ok)"
   ]
  },
  {
   "cell_type": "markdown",
   "metadata": {},
   "source": [
    "## 4.2 Add Mutation to the Schema\n",
    "Update the schema with the mutation."
   ]
  },
  {
   "cell_type": "code",
   "execution_count": null,
   "metadata": {},
   "outputs": [],
   "source": [
    "class Mutation(graphene.ObjectType):\n",
    "    add_book = AddBook.Field()\n",
    "\n",
    "schema = graphene.Schema(query=Query, mutation=Mutation)"
   ]
  },
  {
   "cell_type": "markdown",
   "metadata": {},
   "source": [
    "Now you can add books using the add_book mutation."
   ]
  },
  {
   "cell_type": "markdown",
   "metadata": {},
   "source": [
    "# 5. Integrating with a Database (SQLAlchemy)"
   ]
  },
  {
   "cell_type": "markdown",
   "metadata": {},
   "source": [
    "## 5.1 Set Up SQLAlchemy\n",
    "Configure the Flask app:"
   ]
  },
  {
   "cell_type": "code",
   "execution_count": null,
   "metadata": {},
   "outputs": [],
   "source": [
    "from flask_sqlalchemy import SQLAlchemy\n",
    "\n",
    "app.config['SQLALCHEMY_DATABASE_URI'] = 'sqlite:///books.db'\n",
    "db = SQLAlchemy(app)"
   ]
  },
  {
   "cell_type": "markdown",
   "metadata": {},
   "source": [
    "## 5.2 Create a Database Model\n",
    "Define the database structure."
   ]
  },
  {
   "cell_type": "code",
   "execution_count": null,
   "metadata": {},
   "outputs": [],
   "source": [
    "class BookModel(db.Model):\n",
    "    id = db.Column(db.Integer, primary_key=True)\n",
    "    title = db.Column(db.String(80))\n",
    "    author = db.Column(db.String(120))\n",
    "    published_year = db.Column(db.Integer)\n",
    "\n",
    "    def __repr__(self):\n",
    "        return f'<Book {self.title}>'"
   ]
  },
  {
   "cell_type": "markdown",
   "metadata": {},
   "source": [
    "## 5.3 Update Resolvers for the Database\n",
    "Modify the query and mutation resolvers to interact with the database."
   ]
  },
  {
   "cell_type": "markdown",
   "metadata": {},
   "source": [
    "### Query Resolver:"
   ]
  },
  {
   "cell_type": "code",
   "execution_count": null,
   "metadata": {},
   "outputs": [],
   "source": [
    "class Query(graphene.ObjectType):\n",
    "    books = graphene.List(Book)\n",
    "\n",
    "    def resolve_books(self, info):\n",
    "        books = BookModel.query.all()\n",
    "        return [\n",
    "            Book(title=book.title, author=book.author, published_year=book.published_year)\n",
    "            for book in books\n",
    "        ]"
   ]
  },
  {
   "cell_type": "markdown",
   "metadata": {},
   "source": [
    "### Mutation Resolver:"
   ]
  },
  {
   "cell_type": "code",
   "execution_count": null,
   "metadata": {},
   "outputs": [],
   "source": [
    "class AddBook(graphene.Mutation):\n",
    "    class Arguments:\n",
    "        title = graphene.String(required=True)\n",
    "        author = graphene.String(required=True)\n",
    "        published_year = graphene.Int(required=True)\n",
    "\n",
    "    ok = graphene.Boolean()\n",
    "    book = graphene.Field(lambda: Book)\n",
    "\n",
    "    def mutate(self, info, title, author, published_year):\n",
    "        new_book = BookModel(title=title, author=author, published_year=published_year)\n",
    "        db.session.add(new_book)\n",
    "        db.session.commit()\n",
    "        ok = True\n",
    "        return AddBook(book=new_book, ok=ok)"
   ]
  },
  {
   "cell_type": "markdown",
   "metadata": {},
   "source": [
    "# 6. Advanced Features"
   ]
  },
  {
   "cell_type": "markdown",
   "metadata": {},
   "source": [
    "## 6.1 Filtering\n",
    "You can add filtering to queries using arguments."
   ]
  },
  {
   "cell_type": "code",
   "execution_count": null,
   "metadata": {},
   "outputs": [],
   "source": [
    "class Query(graphene.ObjectType):\n",
    "    book_by_title = graphene.Field(Book, title=graphene.String(required=True))\n",
    "\n",
    "    def resolve_book_by_title(self, info, title):\n",
    "        book = BookModel.query.filter_by(title=title).first()\n",
    "        if book:\n",
    "            return Book(title=book.title, author=book.author, published_year=book.published_year)\n",
    "        return None"
   ]
  },
  {
   "cell_type": "markdown",
   "metadata": {},
   "source": [
    "## 6.2 Pagination\n",
    "Use libraries like graphene-sqlalchemy for easier pagination with SQLAlchemy."
   ]
  },
  {
   "cell_type": "markdown",
   "metadata": {},
   "source": [
    "## 6.3 Subscriptions\n",
    "Subscriptions enable real-time updates but require additional libraries and WebSocket support (e.g., Flask-SocketIO)."
   ]
  },
  {
   "cell_type": "markdown",
   "metadata": {},
   "source": [
    "# Full Example"
   ]
  },
  {
   "cell_type": "code",
   "execution_count": null,
   "metadata": {},
   "outputs": [],
   "source": [
    "from flask import Flask\n",
    "from flask_sqlalchemy import SQLAlchemy\n",
    "from flask_graphql import GraphQLView\n",
    "import graphene\n",
    "\n",
    "app = Flask(__name__)\n",
    "app.config['SQLALCHEMY_DATABASE_URI'] = 'sqlite:///books.db'\n",
    "db = SQLAlchemy(app)\n",
    "\n",
    "# Database Model\n",
    "class BookModel(db.Model):\n",
    "    id = db.Column(db.Integer, primary_key=True)\n",
    "    title = db.Column(db.String(80))\n",
    "    author = db.Column(db.String(120))\n",
    "    published_year = db.Column(db.Integer)\n",
    "\n",
    "    def __repr__(self):\n",
    "        return f'<Book {self.title}>'\n",
    "\n",
    "# GraphQL Types and Resolvers\n",
    "class Book(graphene.ObjectType):\n",
    "    title = graphene.String()\n",
    "    author = graphene.String()\n",
    "    published_year = graphene.Int()\n",
    "\n",
    "class Query(graphene.ObjectType):\n",
    "    books = graphene.List(Book)\n",
    "\n",
    "    def resolve_books(self, info):\n",
    "        books = BookModel.query.all()\n",
    "        return [\n",
    "            Book(title=book.title, author=book.author, published_year=book.published_year)\n",
    "            for book in books\n",
    "        ]\n",
    "\n",
    "class AddBook(graphene.Mutation):\n",
    "    class Arguments:\n",
    "        title = graphene.String(required=True)\n",
    "        author = graphene.String(required=True)\n",
    "        published_year = graphene.Int(required=True)\n",
    "\n",
    "    ok = graphene.Boolean()\n",
    "    book = graphene.Field(lambda: Book)\n",
    "\n",
    "    def mutate(self, info, title, author, published_year):\n",
    "        new_book = BookModel(title=title, author=author, published_year=published_year)\n",
    "        db.session.add(new_book)\n",
    "        db.session.commit()\n",
    "        ok = True\n",
    "        return AddBook(book=new_book, ok=ok)\n",
    "\n",
    "class Mutation(graphene.ObjectType):\n",
    "    add_book = AddBook.Field()\n",
    "\n",
    "schema = graphene.Schema(query=Query, mutation=Mutation)\n",
    "\n",
    "# GraphQL Endpoint\n",
    "app.add_url_rule(\n",
    "    '/graphql',\n",
    "    view_func=GraphQLView.as_view(\n",
    "        'graphql',\n",
    "        schema=schema,\n",
    "        graphiql=True  # Enables the GraphiQL interface\n",
    "    )\n",
    ")\n",
    "\n",
    "if __name__ == \"__main__\":\n",
    "    db.create_all()\n",
    "    app.run(debug=True)"
   ]
  }
 ],
 "metadata": {
  "language_info": {
   "name": "python"
  }
 },
 "nbformat": 4,
 "nbformat_minor": 2
}
