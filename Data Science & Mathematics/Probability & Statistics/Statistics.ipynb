{
 "cells": [
  {
   "cell_type": "markdown",
   "metadata": {},
   "source": [
    "# Import Frameworks"
   ]
  },
  {
   "cell_type": "code",
   "execution_count": 12,
   "metadata": {},
   "outputs": [],
   "source": [
    "import numpy as np\n",
    "import pandas as pd\n",
    "import scipy.stats as stats\n",
    "import matplotlib.pyplot as plt    \n",
    "import seaborn as sns;sns.set()"
   ]
  },
  {
   "cell_type": "code",
   "execution_count": 2,
   "metadata": {},
   "outputs": [],
   "source": [
    "from  warnings import filterwarnings\n",
    "filterwarnings(\"ignore\")"
   ]
  },
  {
   "cell_type": "markdown",
   "metadata": {},
   "source": [
    "# Descriptive Stats:"
   ]
  },
  {
   "cell_type": "markdown",
   "metadata": {},
   "source": [
    "## Population\n",
    "Collection of all items of interest **N parameters**.\n",
    "Populations are hard to define and hard to observe in real life.<br>\n",
    "You will almost always be working with sample data.<br>\n",
    "**Note**:this data here down its not a population but we will pretend its population."
   ]
  },
  {
   "cell_type": "code",
   "execution_count": 3,
   "metadata": {},
   "outputs": [
    {
     "data": {
      "text/html": [
       "<div>\n",
       "<style scoped>\n",
       "    .dataframe tbody tr th:only-of-type {\n",
       "        vertical-align: middle;\n",
       "    }\n",
       "\n",
       "    .dataframe tbody tr th {\n",
       "        vertical-align: top;\n",
       "    }\n",
       "\n",
       "    .dataframe thead th {\n",
       "        text-align: right;\n",
       "    }\n",
       "</style>\n",
       "<table border=\"1\" class=\"dataframe\">\n",
       "  <thead>\n",
       "    <tr style=\"text-align: right;\">\n",
       "      <th></th>\n",
       "      <th>Name</th>\n",
       "      <th>Location</th>\n",
       "      <th>Cuisine</th>\n",
       "      <th>Rating</th>\n",
       "      <th>Seating Capacity</th>\n",
       "      <th>Average Meal Price</th>\n",
       "      <th>Marketing Budget</th>\n",
       "      <th>Social Media Followers</th>\n",
       "      <th>Chef Experience Years</th>\n",
       "      <th>Number of Reviews</th>\n",
       "      <th>Avg Review Length</th>\n",
       "      <th>Ambience Score</th>\n",
       "      <th>Service Quality Score</th>\n",
       "      <th>Parking Availability</th>\n",
       "      <th>Weekend Reservations</th>\n",
       "      <th>Weekday Reservations</th>\n",
       "      <th>Revenue</th>\n",
       "    </tr>\n",
       "  </thead>\n",
       "  <tbody>\n",
       "    <tr>\n",
       "      <th>0</th>\n",
       "      <td>Restaurant 0</td>\n",
       "      <td>Rural</td>\n",
       "      <td>Japanese</td>\n",
       "      <td>4.0</td>\n",
       "      <td>38</td>\n",
       "      <td>73.98</td>\n",
       "      <td>2224</td>\n",
       "      <td>23406</td>\n",
       "      <td>13</td>\n",
       "      <td>185</td>\n",
       "      <td>161.924906</td>\n",
       "      <td>1.3</td>\n",
       "      <td>7.0</td>\n",
       "      <td>Yes</td>\n",
       "      <td>13</td>\n",
       "      <td>4</td>\n",
       "      <td>638945.52</td>\n",
       "    </tr>\n",
       "    <tr>\n",
       "      <th>1</th>\n",
       "      <td>Restaurant 1</td>\n",
       "      <td>Downtown</td>\n",
       "      <td>Mexican</td>\n",
       "      <td>3.2</td>\n",
       "      <td>76</td>\n",
       "      <td>28.11</td>\n",
       "      <td>4416</td>\n",
       "      <td>42741</td>\n",
       "      <td>8</td>\n",
       "      <td>533</td>\n",
       "      <td>148.759717</td>\n",
       "      <td>2.6</td>\n",
       "      <td>3.4</td>\n",
       "      <td>Yes</td>\n",
       "      <td>48</td>\n",
       "      <td>6</td>\n",
       "      <td>490207.83</td>\n",
       "    </tr>\n",
       "    <tr>\n",
       "      <th>2</th>\n",
       "      <td>Restaurant 2</td>\n",
       "      <td>Rural</td>\n",
       "      <td>Italian</td>\n",
       "      <td>4.7</td>\n",
       "      <td>48</td>\n",
       "      <td>48.29</td>\n",
       "      <td>2796</td>\n",
       "      <td>37285</td>\n",
       "      <td>18</td>\n",
       "      <td>853</td>\n",
       "      <td>56.849189</td>\n",
       "      <td>5.3</td>\n",
       "      <td>6.7</td>\n",
       "      <td>No</td>\n",
       "      <td>27</td>\n",
       "      <td>14</td>\n",
       "      <td>541368.62</td>\n",
       "    </tr>\n",
       "    <tr>\n",
       "      <th>3</th>\n",
       "      <td>Restaurant 3</td>\n",
       "      <td>Rural</td>\n",
       "      <td>Italian</td>\n",
       "      <td>4.4</td>\n",
       "      <td>34</td>\n",
       "      <td>51.55</td>\n",
       "      <td>1167</td>\n",
       "      <td>15214</td>\n",
       "      <td>13</td>\n",
       "      <td>82</td>\n",
       "      <td>205.433265</td>\n",
       "      <td>4.6</td>\n",
       "      <td>2.8</td>\n",
       "      <td>Yes</td>\n",
       "      <td>9</td>\n",
       "      <td>17</td>\n",
       "      <td>404556.80</td>\n",
       "    </tr>\n",
       "    <tr>\n",
       "      <th>4</th>\n",
       "      <td>Restaurant 4</td>\n",
       "      <td>Downtown</td>\n",
       "      <td>Japanese</td>\n",
       "      <td>4.9</td>\n",
       "      <td>88</td>\n",
       "      <td>75.98</td>\n",
       "      <td>3639</td>\n",
       "      <td>40171</td>\n",
       "      <td>9</td>\n",
       "      <td>78</td>\n",
       "      <td>241.681584</td>\n",
       "      <td>8.6</td>\n",
       "      <td>2.1</td>\n",
       "      <td>No</td>\n",
       "      <td>37</td>\n",
       "      <td>26</td>\n",
       "      <td>1491046.35</td>\n",
       "    </tr>\n",
       "  </tbody>\n",
       "</table>\n",
       "</div>"
      ],
      "text/plain": [
       "           Name  Location   Cuisine  Rating  Seating Capacity  \\\n",
       "0  Restaurant 0     Rural  Japanese     4.0                38   \n",
       "1  Restaurant 1  Downtown   Mexican     3.2                76   \n",
       "2  Restaurant 2     Rural   Italian     4.7                48   \n",
       "3  Restaurant 3     Rural   Italian     4.4                34   \n",
       "4  Restaurant 4  Downtown  Japanese     4.9                88   \n",
       "\n",
       "   Average Meal Price  Marketing Budget  Social Media Followers  \\\n",
       "0               73.98              2224                   23406   \n",
       "1               28.11              4416                   42741   \n",
       "2               48.29              2796                   37285   \n",
       "3               51.55              1167                   15214   \n",
       "4               75.98              3639                   40171   \n",
       "\n",
       "   Chef Experience Years  Number of Reviews  Avg Review Length  \\\n",
       "0                     13                185         161.924906   \n",
       "1                      8                533         148.759717   \n",
       "2                     18                853          56.849189   \n",
       "3                     13                 82         205.433265   \n",
       "4                      9                 78         241.681584   \n",
       "\n",
       "   Ambience Score  Service Quality Score Parking Availability  \\\n",
       "0             1.3                    7.0                  Yes   \n",
       "1             2.6                    3.4                  Yes   \n",
       "2             5.3                    6.7                   No   \n",
       "3             4.6                    2.8                  Yes   \n",
       "4             8.6                    2.1                   No   \n",
       "\n",
       "   Weekend Reservations  Weekday Reservations     Revenue  \n",
       "0                    13                     4   638945.52  \n",
       "1                    48                     6   490207.83  \n",
       "2                    27                    14   541368.62  \n",
       "3                     9                    17   404556.80  \n",
       "4                    37                    26  1491046.35  "
      ]
     },
     "execution_count": 3,
     "metadata": {},
     "output_type": "execute_result"
    }
   ],
   "source": [
    "# Example of Population\n",
    "population = pd.read_csv(r\"C:\\Users\\User\\Desktop\\Data World\\data\\Fields\\Regression\\Restaurant Revenue\\restaurant_data.csv\")\n",
    "population.head()"
   ]
  },
  {
   "cell_type": "code",
   "execution_count": 4,
   "metadata": {},
   "outputs": [
    {
     "data": {
      "text/plain": [
       "(8368, 17)"
      ]
     },
     "execution_count": 4,
     "metadata": {},
     "output_type": "execute_result"
    }
   ],
   "source": [
    "# This population has 8368 intances with 17 features each.\n",
    "population.shape"
   ]
  },
  {
   "cell_type": "markdown",
   "metadata": {},
   "source": [
    "## Sample\n",
    "A subset of the population **n statistics**.<br>\n",
    "We use samples cause they are :<br>\n",
    "<ul>-less time consuming.<br>\n",
    "-less costly (cheaper)."
   ]
  },
  {
   "cell_type": "markdown",
   "metadata": {},
   "source": [
    "Somestimes there are **different formulas** for population and sample<br>\n",
    "cause **population params** 100% sure if the measures you are calculating<br> \n",
    "but **sample statistics** are **approximation** of the population parameter.<br>\n",
    "for example if you take 10 differemt samples you end with 10 different measures."
   ]
  },
  {
   "cell_type": "code",
   "execution_count": 5,
   "metadata": {},
   "outputs": [],
   "source": [
    "# Totally Random Selection\n",
    "n_samples = 40\n",
    "sample = population.sample(n=n_samples)"
   ]
  },
  {
   "cell_type": "markdown",
   "metadata": {},
   "source": [
    "## Types of Data\n",
    "We classify data in two main ways:\n",
    "<ul><pre>-Qualitative:Categorical\n",
    "<ul><pre>-Nominal:Data with no inhetent order.\n",
    "<pre>-Ordinal:Data with an order but no consistent difference between values </ul>\n",
    "<pre>-Quantitative:Numerical\n",
    "<ul><pre>-Interval: Data without a true zero.\n",
    "<pre>-Ratio:Data with a true zero.</ul>"
   ]
  },
  {
   "cell_type": "markdown",
   "metadata": {},
   "source": [
    "## Measurment Levels\n",
    "<pre>-Nominal:\n",
    "<ul><pre>-Example: Hair Color,Nationality.\n",
    "<pre>-Descriptive Stats: Frequency,Mode.</ul>\n",
    "<pre>-Ordinal:\n",
    "<ul><pre>-Example: Movie Ratings(poor,fair,good),Food Quality(dishusting-neutral-dilicious).\n",
    "<pre>-Descriptive Stats: Median,Mode,Percentiles.</ul>\n",
    "<pre>-Interval:\n",
    "<ul><pre>-Example:Temprature(in Celsius or Fahrenheit).\n",
    "<pre>-Descriptive Stats: All Measures.\n",
    "<pre>-Note:Differences between values make sense,but ratios do not.\n",
    "</ul>\n",
    "<pre>-Ratio:\n",
    "<ul><pre>-Example: Income,Distance.\n",
    "<pre>-Descriptive Stats: All Measures.\n",
    "<pre>-Note:Both Differences and ratios are meaningful.\n",
    "</ul>"
   ]
  },
  {
   "cell_type": "markdown",
   "metadata": {},
   "source": [
    "### Importance:\n",
    "<h5>Appropriate Analysis:</h5>Ensures the correct statistical methods are used.For instance,calculating the mean of nominal data is meaningless.\n",
    "<h5>Interpretability:</h5>Dictates how we can interpret the data.\n",
    "For instance,for ordinal data we know the rank but not the exact difference between ranks.\n",
    "<h5>Summarization:</h5> Different data types require different summarization techniques.Nominal and Ordinal data are often summarized with frequecies and proportions,while Interval and Ratio dara are often summarized with measures of central tendency and dispersion.<br>\n",
    "In sum,it guids the selection of statistical tools and ensures accurate and meaningful interpretation of descriptive stats."
   ]
  },
  {
   "cell_type": "markdown",
   "metadata": {},
   "source": [
    "## Representation of Categorical Variables:"
   ]
  },
  {
   "cell_type": "markdown",
   "metadata": {},
   "source": [
    "## One Variable\n",
    "<ul><pre>-Frequency distribution tables.\n",
    "<pre>-Pie charts.\n",
    "<pre>-Bar charts.\n",
    "<pre>-Pareto diagrams: is a special type of bar chart,where categrories are shown in descending order of frequency."
   ]
  },
  {
   "cell_type": "markdown",
   "metadata": {},
   "source": [
    "**Frequency** is the number of occurrences of each item."
   ]
  },
  {
   "cell_type": "code",
   "execution_count": 6,
   "metadata": {},
   "outputs": [
    {
     "data": {
      "text/html": [
       "<div>\n",
       "<style scoped>\n",
       "    .dataframe tbody tr th:only-of-type {\n",
       "        vertical-align: middle;\n",
       "    }\n",
       "\n",
       "    .dataframe tbody tr th {\n",
       "        vertical-align: top;\n",
       "    }\n",
       "\n",
       "    .dataframe thead th {\n",
       "        text-align: right;\n",
       "    }\n",
       "</style>\n",
       "<table border=\"1\" class=\"dataframe\">\n",
       "  <thead>\n",
       "    <tr style=\"text-align: right;\">\n",
       "      <th></th>\n",
       "      <th>Frequency</th>\n",
       "    </tr>\n",
       "    <tr>\n",
       "      <th>Location</th>\n",
       "      <th></th>\n",
       "    </tr>\n",
       "  </thead>\n",
       "  <tbody>\n",
       "    <tr>\n",
       "      <th>Downtown</th>\n",
       "      <td>15.0</td>\n",
       "    </tr>\n",
       "    <tr>\n",
       "      <th>Suburban</th>\n",
       "      <td>15.0</td>\n",
       "    </tr>\n",
       "    <tr>\n",
       "      <th>Rural</th>\n",
       "      <td>10.0</td>\n",
       "    </tr>\n",
       "    <tr>\n",
       "      <th>Total</th>\n",
       "      <td>40.0</td>\n",
       "    </tr>\n",
       "  </tbody>\n",
       "</table>\n",
       "</div>"
      ],
      "text/plain": [
       "          Frequency\n",
       "Location           \n",
       "Downtown       15.0\n",
       "Suburban       15.0\n",
       "Rural          10.0\n",
       "Total          40.0"
      ]
     },
     "execution_count": 6,
     "metadata": {},
     "output_type": "execute_result"
    }
   ],
   "source": [
    "# Frequency Table\n",
    "frequency_table = pd.DataFrame(sample['Location'].value_counts())\n",
    "frequency_table.columns = ['Frequency']\n",
    "frequency_table.loc['Total','Frequency'] = frequency_table['Frequency'].sum()\n",
    "frequency_table"
   ]
  },
  {
   "cell_type": "code",
   "execution_count": 13,
   "metadata": {},
   "outputs": [
    {
     "data": {
      "image/png": "[encoded data removed]",
      "text/plain": [
       "<Figure size 640x480 with 1 Axes>"
      ]
     },
     "metadata": {},
     "output_type": "display_data"
    }
   ],
   "source": [
    "# Bar chart\n",
    "frequencies = frequency_table.iloc[:-1,0]\n",
    "sns.barplot(x=frequencies.index,y=frequencies.values)\n",
    "plt.ylabel('Frequency')\n",
    "plt.title('Locations')\n",
    "plt.show()"
   ]
  },
  {
   "cell_type": "markdown",
   "metadata": {},
   "source": [
    "**Relative Frequency** is the percentage of the total frequency for each category."
   ]
  },
  {
   "cell_type": "code",
   "execution_count": 16,
   "metadata": {},
   "outputs": [
    {
     "data": {
      "text/html": [
       "<div>\n",
       "<style scoped>\n",
       "    .dataframe tbody tr th:only-of-type {\n",
       "        vertical-align: middle;\n",
       "    }\n",
       "\n",
       "    .dataframe tbody tr th {\n",
       "        vertical-align: top;\n",
       "    }\n",
       "\n",
       "    .dataframe thead th {\n",
       "        text-align: right;\n",
       "    }\n",
       "</style>\n",
       "<table border=\"1\" class=\"dataframe\">\n",
       "  <thead>\n",
       "    <tr style=\"text-align: right;\">\n",
       "      <th></th>\n",
       "      <th>Frequency</th>\n",
       "      <th>Relative Frequency</th>\n",
       "    </tr>\n",
       "    <tr>\n",
       "      <th>Location</th>\n",
       "      <th></th>\n",
       "      <th></th>\n",
       "    </tr>\n",
       "  </thead>\n",
       "  <tbody>\n",
       "    <tr>\n",
       "      <th>Downtown</th>\n",
       "      <td>15.0</td>\n",
       "      <td>37.5</td>\n",
       "    </tr>\n",
       "    <tr>\n",
       "      <th>Suburban</th>\n",
       "      <td>15.0</td>\n",
       "      <td>37.5</td>\n",
       "    </tr>\n",
       "    <tr>\n",
       "      <th>Rural</th>\n",
       "      <td>10.0</td>\n",
       "      <td>25.0</td>\n",
       "    </tr>\n",
       "    <tr>\n",
       "      <th>Total</th>\n",
       "      <td>40.0</td>\n",
       "      <td>100.0</td>\n",
       "    </tr>\n",
       "  </tbody>\n",
       "</table>\n",
       "</div>"
      ],
      "text/plain": [
       "          Frequency  Relative Frequency\n",
       "Location                               \n",
       "Downtown       15.0                37.5\n",
       "Suburban       15.0                37.5\n",
       "Rural          10.0                25.0\n",
       "Total          40.0               100.0"
      ]
     },
     "execution_count": 16,
     "metadata": {},
     "output_type": "execute_result"
    }
   ],
   "source": [
    "frequency_table['Relative Frequency'] = frequency_table['Frequency'] / frequency_table.loc['Total','Frequency']*100\n",
    "frequency_table"
   ]
  },
  {
   "cell_type": "code",
   "execution_count": 17,
   "metadata": {},
   "outputs": [
    {
     "data": {
      "image/png": "[encoded data removed]",
      "text/plain": [
       "<Figure size 640x480 with 1 Axes>"
      ]
     },
     "metadata": {},
     "output_type": "display_data"
    }
   ],
   "source": [
    "# Pie chart\n",
    "rel_frequencies = frequency_table.iloc[:-1,1]\n",
    "plt.pie(rel_frequencies,labels=rel_frequencies.index,autopct='%1.1f%%')\n",
    "plt.show()"
   ]
  },
  {
   "cell_type": "markdown",
   "metadata": {},
   "source": [
    "**Cumulative Frequency** is the running total of frequencies as you progress through the data set. It represents the total number of observations up to a certain value."
   ]
  },
  {
   "cell_type": "code",
   "execution_count": 18,
   "metadata": {},
   "outputs": [
    {
     "data": {
      "text/html": [
       "<div>\n",
       "<style scoped>\n",
       "    .dataframe tbody tr th:only-of-type {\n",
       "        vertical-align: middle;\n",
       "    }\n",
       "\n",
       "    .dataframe tbody tr th {\n",
       "        vertical-align: top;\n",
       "    }\n",
       "\n",
       "    .dataframe thead th {\n",
       "        text-align: right;\n",
       "    }\n",
       "</style>\n",
       "<table border=\"1\" class=\"dataframe\">\n",
       "  <thead>\n",
       "    <tr style=\"text-align: right;\">\n",
       "      <th></th>\n",
       "      <th>Frequency</th>\n",
       "      <th>Relative Frequency</th>\n",
       "      <th>Cumulative Frequency</th>\n",
       "    </tr>\n",
       "    <tr>\n",
       "      <th>Location</th>\n",
       "      <th></th>\n",
       "      <th></th>\n",
       "      <th></th>\n",
       "    </tr>\n",
       "  </thead>\n",
       "  <tbody>\n",
       "    <tr>\n",
       "      <th>Downtown</th>\n",
       "      <td>15.0</td>\n",
       "      <td>37.5</td>\n",
       "      <td>37.5</td>\n",
       "    </tr>\n",
       "    <tr>\n",
       "      <th>Suburban</th>\n",
       "      <td>15.0</td>\n",
       "      <td>37.5</td>\n",
       "      <td>75.0</td>\n",
       "    </tr>\n",
       "    <tr>\n",
       "      <th>Rural</th>\n",
       "      <td>10.0</td>\n",
       "      <td>25.0</td>\n",
       "      <td>100.0</td>\n",
       "    </tr>\n",
       "    <tr>\n",
       "      <th>Total</th>\n",
       "      <td>40.0</td>\n",
       "      <td>100.0</td>\n",
       "      <td>NaN</td>\n",
       "    </tr>\n",
       "  </tbody>\n",
       "</table>\n",
       "</div>"
      ],
      "text/plain": [
       "          Frequency  Relative Frequency  Cumulative Frequency\n",
       "Location                                                     \n",
       "Downtown       15.0                37.5                  37.5\n",
       "Suburban       15.0                37.5                  75.0\n",
       "Rural          10.0                25.0                 100.0\n",
       "Total          40.0               100.0                   NaN"
      ]
     },
     "execution_count": 18,
     "metadata": {},
     "output_type": "execute_result"
    }
   ],
   "source": [
    "frequency_table['Cumulative Frequency'] = frequency_table.iloc[:-1,1].cumsum()\n",
    "frequency_table"
   ]
  },
  {
   "cell_type": "code",
   "execution_count": 20,
   "metadata": {},
   "outputs": [
    {
     "data": {
      "image/png": "[encoded data removed]",
      "text/plain": [
       "<Figure size 640x480 with 2 Axes>"
      ]
     },
     "metadata": {},
     "output_type": "display_data"
    }
   ],
   "source": [
    "cum_frequencies = frequency_table.iloc[:-1,2]\n",
    "sorted_frequencies = frequencies.sort_values(ascending=False)\n",
    "\n",
    "# Plot Bars\n",
    "fig,ax1 = plt.subplots()\n",
    "sns.barplot(x=sorted_frequencies.index,y=sorted_frequencies.values,ax=ax1)\n",
    "ax1.set_ylabel('Frequency')\n",
    "ax1.set_title('Locations')\n",
    "\n",
    "# Plot Cumulative Frequencies\n",
    "ax2 = ax1.twinx()\n",
    "ax2.plot(cum_frequencies.values,color='orange',marker='o')\n",
    "ax2.set_ylim((0,100))\n",
    "ax2.grid(False)\n",
    "plt.show()"
   ]
  },
  {
   "cell_type": "markdown",
   "metadata": {},
   "source": [
    "**The Pareto diagram** combines the strong sides of the bar and pie charts."
   ]
  },
  {
   "cell_type": "markdown",
   "metadata": {},
   "source": [
    "## Two Variables\n",
    "<ul><pre>-Cross Tables.\n",
    "<pre>-Side-by-Side chart(Grouped Bars)."
   ]
  },
  {
   "cell_type": "code",
   "execution_count": 21,
   "metadata": {},
   "outputs": [
    {
     "data": {
      "text/html": [
       "<div>\n",
       "<style scoped>\n",
       "    .dataframe tbody tr th:only-of-type {\n",
       "        vertical-align: middle;\n",
       "    }\n",
       "\n",
       "    .dataframe tbody tr th {\n",
       "        vertical-align: top;\n",
       "    }\n",
       "\n",
       "    .dataframe thead th {\n",
       "        text-align: right;\n",
       "    }\n",
       "</style>\n",
       "<table border=\"1\" class=\"dataframe\">\n",
       "  <thead>\n",
       "    <tr style=\"text-align: right;\">\n",
       "      <th>Location</th>\n",
       "      <th>Downtown</th>\n",
       "      <th>Rural</th>\n",
       "      <th>Suburban</th>\n",
       "      <th>Total</th>\n",
       "    </tr>\n",
       "    <tr>\n",
       "      <th>Cuisine</th>\n",
       "      <th></th>\n",
       "      <th></th>\n",
       "      <th></th>\n",
       "      <th></th>\n",
       "    </tr>\n",
       "  </thead>\n",
       "  <tbody>\n",
       "    <tr>\n",
       "      <th>American</th>\n",
       "      <td>3</td>\n",
       "      <td>3</td>\n",
       "      <td>2</td>\n",
       "      <td>8</td>\n",
       "    </tr>\n",
       "    <tr>\n",
       "      <th>French</th>\n",
       "      <td>6</td>\n",
       "      <td>0</td>\n",
       "      <td>2</td>\n",
       "      <td>8</td>\n",
       "    </tr>\n",
       "    <tr>\n",
       "      <th>Indian</th>\n",
       "      <td>1</td>\n",
       "      <td>4</td>\n",
       "      <td>4</td>\n",
       "      <td>9</td>\n",
       "    </tr>\n",
       "    <tr>\n",
       "      <th>Italian</th>\n",
       "      <td>1</td>\n",
       "      <td>2</td>\n",
       "      <td>1</td>\n",
       "      <td>4</td>\n",
       "    </tr>\n",
       "    <tr>\n",
       "      <th>Japanese</th>\n",
       "      <td>1</td>\n",
       "      <td>1</td>\n",
       "      <td>3</td>\n",
       "      <td>5</td>\n",
       "    </tr>\n",
       "    <tr>\n",
       "      <th>Mexican</th>\n",
       "      <td>3</td>\n",
       "      <td>0</td>\n",
       "      <td>3</td>\n",
       "      <td>6</td>\n",
       "    </tr>\n",
       "    <tr>\n",
       "      <th>Total</th>\n",
       "      <td>15</td>\n",
       "      <td>10</td>\n",
       "      <td>15</td>\n",
       "      <td>40</td>\n",
       "    </tr>\n",
       "  </tbody>\n",
       "</table>\n",
       "</div>"
      ],
      "text/plain": [
       "Location  Downtown  Rural  Suburban  Total\n",
       "Cuisine                                   \n",
       "American         3      3         2      8\n",
       "French           6      0         2      8\n",
       "Indian           1      4         4      9\n",
       "Italian          1      2         1      4\n",
       "Japanese         1      1         3      5\n",
       "Mexican          3      0         3      6\n",
       "Total           15     10        15     40"
      ]
     },
     "execution_count": 21,
     "metadata": {},
     "output_type": "execute_result"
    }
   ],
   "source": [
    "# Cross Table\n",
    "cuisineXlocation = pd.crosstab(sample['Cuisine'],sample['Location'],margins=True,margins_name='Total')\n",
    "cuisineXlocation"
   ]
  },
  {
   "cell_type": "code",
   "execution_count": 22,
   "metadata": {},
   "outputs": [
    {
     "data": {
      "image/png": "[encoded data removed]",
      "text/plain": [
       "<Figure size 800x600 with 1 Axes>"
      ]
     },
     "metadata": {},
     "output_type": "display_data"
    }
   ],
   "source": [
    "# Side by Side Chart(Grouped Bars)\n",
    "plt.figure(figsize=(8, 6))\n",
    "sns.countplot(data=sample, x='Cuisine', hue='Location')\n",
    "plt.show()\n"
   ]
  },
  {
   "cell_type": "markdown",
   "metadata": {},
   "source": [
    "## Representation of Numerical Variables:"
   ]
  },
  {
   "cell_type": "markdown",
   "metadata": {},
   "source": [
    "## One Variable\n",
    "<ul><pre>-Frequency Table\n",
    "-Histogram"
   ]
  },
  {
   "cell_type": "code",
   "execution_count": 25,
   "metadata": {},
   "outputs": [
    {
     "data": {
      "text/html": [
       "<div>\n",
       "<style scoped>\n",
       "    .dataframe tbody tr th:only-of-type {\n",
       "        vertical-align: middle;\n",
       "    }\n",
       "\n",
       "    .dataframe tbody tr th {\n",
       "        vertical-align: top;\n",
       "    }\n",
       "\n",
       "    .dataframe thead th {\n",
       "        text-align: right;\n",
       "    }\n",
       "</style>\n",
       "<table border=\"1\" class=\"dataframe\">\n",
       "  <thead>\n",
       "    <tr style=\"text-align: right;\">\n",
       "      <th></th>\n",
       "      <th>Frequency</th>\n",
       "    </tr>\n",
       "    <tr>\n",
       "      <th>Chef Experience Years</th>\n",
       "      <th></th>\n",
       "    </tr>\n",
       "  </thead>\n",
       "  <tbody>\n",
       "    <tr>\n",
       "      <th>10</th>\n",
       "      <td>1</td>\n",
       "    </tr>\n",
       "    <tr>\n",
       "      <th>1</th>\n",
       "      <td>1</td>\n",
       "    </tr>\n",
       "    <tr>\n",
       "      <th>17</th>\n",
       "      <td>1</td>\n",
       "    </tr>\n",
       "    <tr>\n",
       "      <th>12</th>\n",
       "      <td>1</td>\n",
       "    </tr>\n",
       "    <tr>\n",
       "      <th>14</th>\n",
       "      <td>1</td>\n",
       "    </tr>\n",
       "    <tr>\n",
       "      <th>13</th>\n",
       "      <td>1</td>\n",
       "    </tr>\n",
       "    <tr>\n",
       "      <th>16</th>\n",
       "      <td>1</td>\n",
       "    </tr>\n",
       "    <tr>\n",
       "      <th>3</th>\n",
       "      <td>1</td>\n",
       "    </tr>\n",
       "    <tr>\n",
       "      <th>4</th>\n",
       "      <td>1</td>\n",
       "    </tr>\n",
       "    <tr>\n",
       "      <th>6</th>\n",
       "      <td>1</td>\n",
       "    </tr>\n",
       "    <tr>\n",
       "      <th>7</th>\n",
       "      <td>1</td>\n",
       "    </tr>\n",
       "    <tr>\n",
       "      <th>18</th>\n",
       "      <td>1</td>\n",
       "    </tr>\n",
       "    <tr>\n",
       "      <th>2</th>\n",
       "      <td>1</td>\n",
       "    </tr>\n",
       "    <tr>\n",
       "      <th>19</th>\n",
       "      <td>1</td>\n",
       "    </tr>\n",
       "    <tr>\n",
       "      <th>15</th>\n",
       "      <td>1</td>\n",
       "    </tr>\n",
       "    <tr>\n",
       "      <th>11</th>\n",
       "      <td>1</td>\n",
       "    </tr>\n",
       "    <tr>\n",
       "      <th>9</th>\n",
       "      <td>1</td>\n",
       "    </tr>\n",
       "    <tr>\n",
       "      <th>5</th>\n",
       "      <td>1</td>\n",
       "    </tr>\n",
       "    <tr>\n",
       "      <th>8</th>\n",
       "      <td>1</td>\n",
       "    </tr>\n",
       "  </tbody>\n",
       "</table>\n",
       "</div>"
      ],
      "text/plain": [
       "                       Frequency\n",
       "Chef Experience Years           \n",
       "10                             1\n",
       "1                              1\n",
       "17                             1\n",
       "12                             1\n",
       "14                             1\n",
       "13                             1\n",
       "16                             1\n",
       "3                              1\n",
       "4                              1\n",
       "6                              1\n",
       "7                              1\n",
       "18                             1\n",
       "2                              1\n",
       "19                             1\n",
       "15                             1\n",
       "11                             1\n",
       "9                              1\n",
       "5                              1\n",
       "8                              1"
      ]
     },
     "execution_count": 25,
     "metadata": {},
     "output_type": "execute_result"
    }
   ],
   "source": [
    "# Frequency Disribution Table\n",
    "# Suppose We have this frequencies all ones \n",
    "chiefs_experience = pd.DataFrame(sample['Chef Experience Years'].value_counts())\n",
    "chiefs_experience.columns = ['Frequency']\n",
    "chiefs_experience['Frequency'] = 1\n",
    "chiefs_experience"
   ]
  },
  {
   "cell_type": "markdown",
   "metadata": {},
   "source": [
    "It makes much more sense to group the (numerical) data to intervals.<br>\n",
    "Generally,statisticians perfer 5 to 20 intervals,but i depends."
   ]
  },
  {
   "cell_type": "code",
   "execution_count": 23,
   "metadata": {},
   "outputs": [],
   "source": [
    "def frequency_distribution_table(table,desired_intervals):\n",
    "    max = table.index.max()\n",
    "    min = table.index.min()\n",
    "    interval_width = round((max - min)/desired_intervals) # (largest number - smallest number) / number of desired intervals \n",
    "    interval_start = [i for i in range(min,max,interval_width)]\n",
    "    interval_end = interval_start[1:] + [max]\n",
    "    frequencies = [1]+[0]*(desired_intervals-1)\n",
    "    for val in table.index.values:\n",
    "        for i in range(desired_intervals):\n",
    "            start = interval_start[i]\n",
    "            end = interval_end[i]\n",
    "            if end >= val > start:\n",
    "                frequencies[i] += table.loc[val,'Frequency']\n",
    "    df = pd.DataFrame({'Interval start':interval_start,'Interval end':interval_end,'Frequency':frequencies})\n",
    "    return df"
   ]
  },
  {
   "cell_type": "code",
   "execution_count": 26,
   "metadata": {},
   "outputs": [
    {
     "data": {
      "text/html": [
       "<div>\n",
       "<style scoped>\n",
       "    .dataframe tbody tr th:only-of-type {\n",
       "        vertical-align: middle;\n",
       "    }\n",
       "\n",
       "    .dataframe tbody tr th {\n",
       "        vertical-align: top;\n",
       "    }\n",
       "\n",
       "    .dataframe thead th {\n",
       "        text-align: right;\n",
       "    }\n",
       "</style>\n",
       "<table border=\"1\" class=\"dataframe\">\n",
       "  <thead>\n",
       "    <tr style=\"text-align: right;\">\n",
       "      <th></th>\n",
       "      <th>Interval start</th>\n",
       "      <th>Interval end</th>\n",
       "      <th>Frequency</th>\n",
       "    </tr>\n",
       "  </thead>\n",
       "  <tbody>\n",
       "    <tr>\n",
       "      <th>0</th>\n",
       "      <td>1</td>\n",
       "      <td>5</td>\n",
       "      <td>5</td>\n",
       "    </tr>\n",
       "    <tr>\n",
       "      <th>1</th>\n",
       "      <td>5</td>\n",
       "      <td>9</td>\n",
       "      <td>4</td>\n",
       "    </tr>\n",
       "    <tr>\n",
       "      <th>2</th>\n",
       "      <td>9</td>\n",
       "      <td>13</td>\n",
       "      <td>4</td>\n",
       "    </tr>\n",
       "    <tr>\n",
       "      <th>3</th>\n",
       "      <td>13</td>\n",
       "      <td>17</td>\n",
       "      <td>4</td>\n",
       "    </tr>\n",
       "    <tr>\n",
       "      <th>4</th>\n",
       "      <td>17</td>\n",
       "      <td>19</td>\n",
       "      <td>2</td>\n",
       "    </tr>\n",
       "  </tbody>\n",
       "</table>\n",
       "</div>"
      ],
      "text/plain": [
       "   Interval start  Interval end  Frequency\n",
       "0               1             5          5\n",
       "1               5             9          4\n",
       "2               9            13          4\n",
       "3              13            17          4\n",
       "4              17            19          2"
      ]
     },
     "execution_count": 26,
     "metadata": {},
     "output_type": "execute_result"
    }
   ],
   "source": [
    "# We will choose 5 intervals\n",
    "desired_intervals = 5\n",
    "frequency_dist = frequency_distribution_table(chiefs_experience,desired_intervals)\n",
    "frequency_dist"
   ]
  },
  {
   "cell_type": "markdown",
   "metadata": {},
   "source": [
    "**The relative frequency** is the frequency of a given interval as part of the total."
   ]
  },
  {
   "cell_type": "code",
   "execution_count": 27,
   "metadata": {},
   "outputs": [
    {
     "data": {
      "text/html": [
       "<div>\n",
       "<style scoped>\n",
       "    .dataframe tbody tr th:only-of-type {\n",
       "        vertical-align: middle;\n",
       "    }\n",
       "\n",
       "    .dataframe tbody tr th {\n",
       "        vertical-align: top;\n",
       "    }\n",
       "\n",
       "    .dataframe thead th {\n",
       "        text-align: right;\n",
       "    }\n",
       "</style>\n",
       "<table border=\"1\" class=\"dataframe\">\n",
       "  <thead>\n",
       "    <tr style=\"text-align: right;\">\n",
       "      <th></th>\n",
       "      <th>Interval start</th>\n",
       "      <th>Interval end</th>\n",
       "      <th>Frequency</th>\n",
       "      <th>Relative Frequency</th>\n",
       "    </tr>\n",
       "  </thead>\n",
       "  <tbody>\n",
       "    <tr>\n",
       "      <th>0</th>\n",
       "      <td>1</td>\n",
       "      <td>5</td>\n",
       "      <td>5</td>\n",
       "      <td>26.32</td>\n",
       "    </tr>\n",
       "    <tr>\n",
       "      <th>1</th>\n",
       "      <td>5</td>\n",
       "      <td>9</td>\n",
       "      <td>4</td>\n",
       "      <td>21.05</td>\n",
       "    </tr>\n",
       "    <tr>\n",
       "      <th>2</th>\n",
       "      <td>9</td>\n",
       "      <td>13</td>\n",
       "      <td>4</td>\n",
       "      <td>21.05</td>\n",
       "    </tr>\n",
       "    <tr>\n",
       "      <th>3</th>\n",
       "      <td>13</td>\n",
       "      <td>17</td>\n",
       "      <td>4</td>\n",
       "      <td>21.05</td>\n",
       "    </tr>\n",
       "    <tr>\n",
       "      <th>4</th>\n",
       "      <td>17</td>\n",
       "      <td>19</td>\n",
       "      <td>2</td>\n",
       "      <td>10.53</td>\n",
       "    </tr>\n",
       "  </tbody>\n",
       "</table>\n",
       "</div>"
      ],
      "text/plain": [
       "   Interval start  Interval end  Frequency  Relative Frequency\n",
       "0               1             5          5               26.32\n",
       "1               5             9          4               21.05\n",
       "2               9            13          4               21.05\n",
       "3              13            17          4               21.05\n",
       "4              17            19          2               10.53"
      ]
     },
     "execution_count": 27,
     "metadata": {},
     "output_type": "execute_result"
    }
   ],
   "source": [
    "frequency_dist['Relative Frequency'] = round(frequency_dist['Frequency'] / frequency_dist['Frequency'].sum()*100,2)\n",
    "frequency_dist"
   ]
  },
  {
   "cell_type": "code",
   "execution_count": 32,
   "metadata": {},
   "outputs": [
    {
     "data": {
      "image/png": "[encoded data removed]",
      "text/plain": [
       "<Figure size 800x600 with 1 Axes>"
      ]
     },
     "metadata": {},
     "output_type": "display_data"
    }
   ],
   "source": [
    "# Plot Histogram\n",
    "intervals = []\n",
    "for start, end, freq in zip(frequency_dist['Interval start'],frequency_dist['Interval end'], frequency_dist['Frequency']):\n",
    "    intervals.extend([f'[{start}-{end}]'] * int(freq))\n",
    "# Plot Histogram\n",
    "plt.figure(figsize=(8, 6))\n",
    "sns.histplot(intervals,color='pink')\n",
    "\n",
    "plt.xlabel('Interval')\n",
    "plt.ylabel('Frequency')\n",
    "plt.grid(True)\n",
    "plt.show()"
   ]
  },
  {
   "cell_type": "code",
   "execution_count": 30,
   "metadata": {},
   "outputs": [
    {
     "data": {
      "image/png": "[encoded data removed]",
      "text/plain": [
       "<Figure size 800x600 with 1 Axes>"
      ]
     },
     "metadata": {},
     "output_type": "display_data"
    }
   ],
   "source": [
    "# Plot Histogram relative frequency\n",
    "intervals = []\n",
    "for start, end, rel_freq in zip(frequency_dist['Interval start'],frequency_dist['Interval end'], frequency_dist['Relative Frequency']):\n",
    "    intervals.extend([f'[{start}-{end}]'] * int(rel_freq))\n",
    "\n",
    "plt.figure(figsize=(8, 6))\n",
    "sns.histplot(intervals,color='gray')\n",
    "\n",
    "plt.xlabel('Interval')\n",
    "plt.ylabel('Relative Frequency (%)')\n",
    "plt.grid(True)\n",
    "plt.show()"
   ]
  },
  {
   "cell_type": "markdown",
   "metadata": {},
   "source": [
    "## Two Variables"
   ]
  },
  {
   "cell_type": "markdown",
   "metadata": {},
   "source": [
    "<ul><pre>-Scatter plot."
   ]
  },
  {
   "cell_type": "code",
   "execution_count": 21,
   "metadata": {},
   "outputs": [
    {
     "data": {
      "image/png": "[encoded data removed]",
      "text/plain": [
       "<Figure size 640x480 with 1 Axes>"
      ]
     },
     "metadata": {},
     "output_type": "display_data"
    }
   ],
   "source": [
    "sns.scatterplot(data=sample,x='Marketing Budget',y='Social Media Followers')\n",
    "plt.show()"
   ]
  },
  {
   "cell_type": "markdown",
   "metadata": {},
   "source": [
    "Each point gives  us information about a particular instance.<br>\n",
    "**Scatter plots** represent lots and lots of observations.<br>\n",
    "**Outliers** are data points that go against the logic of the whole dataset."
   ]
  },
  {
   "cell_type": "markdown",
   "metadata": {},
   "source": [
    "## Measures of Central Tendency\n",
    "<ul><pre>-mean\n",
    "-median\n",
    "-mode"
   ]
  },
  {
   "cell_type": "markdown",
   "metadata": {},
   "source": [
    "### Mean(average):\n",
    "by adding up all the components and then dividing by the number of components.<br><br>\n",
    "**Symbol**:<br>\n",
    "<ul><pre>population:u<br>\n",
    "sample:x-(x bar)"
   ]
  },
  {
   "cell_type": "code",
   "execution_count": 33,
   "metadata": {},
   "outputs": [
    {
     "data": {
      "text/plain": [
       "4.1075"
      ]
     },
     "execution_count": 33,
     "metadata": {},
     "output_type": "execute_result"
    }
   ],
   "source": [
    "# Mean of Ratings\n",
    "sample['Rating'].mean()"
   ]
  },
  {
   "cell_type": "markdown",
   "metadata": {},
   "source": [
    "**The mean** is not enough to make definite conclusions cause its affected by outliers."
   ]
  },
  {
   "cell_type": "markdown",
   "metadata": {},
   "source": [
    "### Median:\n",
    "is the **middle** number(at position:(n+1)/2) in an ordered dataset.<br>\n",
    "if n is even it means there is no single value in the middle so we take the mean of the two centered values."
   ]
  },
  {
   "cell_type": "code",
   "execution_count": 34,
   "metadata": {},
   "outputs": [
    {
     "data": {
      "text/plain": [
       "4.1"
      ]
     },
     "execution_count": 34,
     "metadata": {},
     "output_type": "execute_result"
    }
   ],
   "source": [
    "# Median of Ratings\n",
    "sample['Rating'].median()"
   ]
  },
  {
   "cell_type": "markdown",
   "metadata": {},
   "source": [
    "**The median** is not affected by outliers."
   ]
  },
  {
   "cell_type": "markdown",
   "metadata": {},
   "source": [
    "### Mode:\n",
    "is the value that **occurs most often**.<br>\n",
    "if there more than one top occurs val,we can say there is **No mode**... or like 3 modes."
   ]
  },
  {
   "cell_type": "code",
   "execution_count": 36,
   "metadata": {},
   "outputs": [
    {
     "data": {
      "text/plain": [
       "3.4"
      ]
     },
     "execution_count": 36,
     "metadata": {},
     "output_type": "execute_result"
    }
   ],
   "source": [
    "# Mode of Ratings\n",
    "sample['Rating'].mode().values.item(0)"
   ]
  },
  {
   "cell_type": "markdown",
   "metadata": {},
   "source": [
    "### Which measure is best?\n",
    "There is no best,but using only one is definitly the **worst!**"
   ]
  },
  {
   "cell_type": "markdown",
   "metadata": {},
   "source": [
    "## Measures of Asymmetry\n",
    "<ul><pre>-Skewness"
   ]
  },
  {
   "cell_type": "markdown",
   "metadata": {},
   "source": [
    "### Skewness\n",
    "measures the **asymmetry** of a disribution around its mean.<br>\n",
    "if a disribution is perfectly symmetrical,its skewness is zero."
   ]
  },
  {
   "cell_type": "markdown",
   "metadata": {},
   "source": [
    "##### Positive Skewness\n",
    "-Thr right tail is longer of fatter than the left.<br>\n",
    "-The data is **skewred to right**.<br>\n",
    "-mean > median.<br>\n",
    "-Outliers are more in the **right side**."
   ]
  },
  {
   "cell_type": "code",
   "execution_count": 37,
   "metadata": {},
   "outputs": [
    {
     "data": {
      "text/plain": [
       "1.526187050766045"
      ]
     },
     "execution_count": 37,
     "metadata": {},
     "output_type": "execute_result"
    }
   ],
   "source": [
    "# Positive Skewness\n",
    "marketing_budget = sample['Marketing Budget']\n",
    "marketing_budget.skew()"
   ]
  },
  {
   "cell_type": "code",
   "execution_count": 47,
   "metadata": {},
   "outputs": [
    {
     "data": {
      "image/png": "[encoded data removed]",
      "text/plain": [
       "<Figure size 640x480 with 1 Axes>"
      ]
     },
     "metadata": {},
     "output_type": "display_data"
    }
   ],
   "source": [
    "sns.histplot(marketing_budget)\n",
    "plt.annotate('Outliers',xy=(8000,2),xytext=(6500,5),arrowprops=dict(color='r',shrink=0.09,lw=3))\n",
    "plt.title('Positive Skewness')\n",
    "plt.show()"
   ]
  },
  {
   "cell_type": "code",
   "execution_count": 39,
   "metadata": {},
   "outputs": [
    {
     "name": "stdout",
     "output_type": "stream",
     "text": [
      "Mean=3109.025 > Median=2543.0\n"
     ]
    }
   ],
   "source": [
    "# Mean is Larger than Median\n",
    "print(f'Mean={marketing_budget.mean()} > Median={marketing_budget.median()}')"
   ]
  },
  {
   "cell_type": "markdown",
   "metadata": {},
   "source": [
    "### Zero Skewness\n",
    "-The data is **not skewred**.<br>\n",
    "-mean = median = mode.<br>"
   ]
  },
  {
   "cell_type": "code",
   "execution_count": 40,
   "metadata": {},
   "outputs": [
    {
     "data": {
      "text/plain": [
       "0.06853048726601842"
      ]
     },
     "execution_count": 40,
     "metadata": {},
     "output_type": "execute_result"
    }
   ],
   "source": [
    "# Zero Skewness\n",
    "rating = sample['Rating']\n",
    "rating.skew()"
   ]
  },
  {
   "cell_type": "code",
   "execution_count": 44,
   "metadata": {},
   "outputs": [
    {
     "data": {
      "image/png": "[encoded data removed]",
      "text/plain": [
       "<Figure size 640x480 with 1 Axes>"
      ]
     },
     "metadata": {},
     "output_type": "display_data"
    }
   ],
   "source": [
    "sns.histplot(rating)\n",
    "plt.text(3.2,rating.mode().values.item(0),'Not Outliers',bbox={'facecolor':'orange','alpha':0.4,'pad':10})\n",
    "plt.title('Zero Skewness')\n",
    "plt.show()"
   ]
  },
  {
   "cell_type": "code",
   "execution_count": 45,
   "metadata": {},
   "outputs": [
    {
     "name": "stdout",
     "output_type": "stream",
     "text": [
      "Mean=4.1 = Median=4.1 = Mode=3.4\n"
     ]
    }
   ],
   "source": [
    "# Mean, Median and Mode are all Equal\n",
    "print(f'Mean={rating.mean():.1f} = Median={rating.median()} = Mode={rating.mode().values.item(0)}')"
   ]
  },
  {
   "cell_type": "markdown",
   "metadata": {},
   "source": [
    "### Negative Skewness\n",
    "-The left tail is longer or fatter than the left.<br>\n",
    "-The data is **skewred to left**.<br>\n",
    "-Outliers are in the **left side**."
   ]
  },
  {
   "cell_type": "code",
   "execution_count": 49,
   "metadata": {},
   "outputs": [
    {
     "data": {
      "text/plain": [
       "-1.399967202225278"
      ]
     },
     "execution_count": 49,
     "metadata": {},
     "output_type": "execute_result"
    }
   ],
   "source": [
    "# Negative Skewness\n",
    "social_media_followers_neg = sample['Social Media Followers']*-1\n",
    "social_media_followers_neg.skew()"
   ]
  },
  {
   "cell_type": "code",
   "execution_count": 51,
   "metadata": {},
   "outputs": [
    {
     "data": {
      "image/png": "[encoded data removed]",
      "text/plain": [
       "<Figure size 640x480 with 1 Axes>"
      ]
     },
     "metadata": {},
     "output_type": "display_data"
    }
   ],
   "source": [
    "sns.histplot(social_media_followers_neg)\n",
    "plt.annotate('Outliers',xy=(-95_000,2),xytext=(-90_000,8),arrowprops=dict(color='r',shrink=0.09,lw=3))\n",
    "plt.title('Negative Skewness')\n",
    "plt.show()"
   ]
  },
  {
   "cell_type": "markdown",
   "metadata": {},
   "source": [
    "## Measures of Kurtosis\n",
    "<ul><pre>-Kurtosis"
   ]
  },
  {
   "cell_type": "markdown",
   "metadata": {},
   "source": [
    "### Kurtosis\n",
    "measures the **taildness** or the **presence of outliers** in a disribution.<br>\n",
    "but it doesn't indicate whether this outliers are on the left or the right side."
   ]
  },
  {
   "cell_type": "markdown",
   "metadata": {},
   "source": [
    "**Excess Kurtosis** is a variant of Kurtosis.Its just **Kurtosis minus 3**.\n",
    "##### Kurtosis may be:\n",
    "<ul><pre>\n",
    "> 3 : The distribution is <b>leptokurtic</b>,with <b>fatter tails</b> and <b>extreme outliers</b>.\n",
    "= 3 :       \"          \"  <b>mesokurtic</b>,resembling a normal distribution with <b> modelate tails</b>.\n",
    "< 3 :       \"          \"  <b>platykurtic</b>,with <b>thinner tails</b> and <b>fewer outliers</b>.\n",
    "</ul>"
   ]
  },
  {
   "cell_type": "code",
   "execution_count": 52,
   "metadata": {},
   "outputs": [
    {
     "name": "stdout",
     "output_type": "stream",
     "text": [
      "2.1848095960223666\n",
      "5.184809596022367\n"
     ]
    }
   ],
   "source": [
    "# Excess Kurtosis\n",
    "print(social_media_followers_neg.kurtosis())\n",
    "# Kurtosis\n",
    "print(social_media_followers_neg.kurtosis()+3)"
   ]
  },
  {
   "cell_type": "markdown",
   "metadata": {},
   "source": [
    "## Measures of Variability\n",
    "<ul><pre>-Variance\n",
    "-Standard Deviation\n",
    "-Cofficient of Variation"
   ]
  },
  {
   "cell_type": "markdown",
   "metadata": {},
   "source": [
    "### Variance:\n",
    "measures the **dispersion** of a set of data points around **their mean**.<br>\n",
    "**Symbol**:<br>\n",
    "<ul><pre>population:S²<br>\n",
    "sample:σ² (lambda squared)</ul>"
   ]
  },
  {
   "cell_type": "markdown",
   "metadata": {},
   "source": [
    "**Formula**:<br>\n",
    "Its the sum of each observation minus the mean,all squared.<br>\n",
    "The only difference is for the population we divide by N(number of obsevationts).<br>\n",
    "but for sample we divide by n(number of observations)-1."
   ]
  },
  {
   "cell_type": "code",
   "execution_count": 59,
   "metadata": {},
   "outputs": [
    {
     "data": {
      "text/plain": [
       "80785125085.1039"
      ]
     },
     "execution_count": 59,
     "metadata": {},
     "output_type": "execute_result"
    }
   ],
   "source": [
    "revenue = sample['Revenue']\n",
    "revenue_mean = revenue.mean()\n",
    "num_observations = revenue.size\n",
    "revenue_var = (((revenue-revenue_mean)**2)).sum()/(num_observations-1)\n",
    "revenue_var"
   ]
  },
  {
   "cell_type": "code",
   "execution_count": 61,
   "metadata": {},
   "outputs": [
    {
     "data": {
      "text/plain": [
       "80785125085.1039"
      ]
     },
     "execution_count": 61,
     "metadata": {},
     "output_type": "execute_result"
    }
   ],
   "source": [
    "# Directly\n",
    "revenue.var() # ddof=1 Calculates Variance using population formula"
   ]
  },
  {
   "cell_type": "markdown",
   "metadata": {},
   "source": [
    "The sample variance has rightfully corrected upwards in order to reflect the higher potential variability."
   ]
  },
  {
   "cell_type": "markdown",
   "metadata": {},
   "source": [
    "### Standard Deviation:\n",
    "is the most common measure of **variability** for a **Single Dataset**.<br>\n",
    "its the **square root of variance**.<br>\n",
    "**Symbol**:<br>\n",
    "<ul><pre>population:S<br>\n",
    "sample:σ (lambda)</ul>"
   ]
  },
  {
   "cell_type": "code",
   "execution_count": 62,
   "metadata": {},
   "outputs": [
    {
     "data": {
      "text/plain": [
       "284227.2419827204"
      ]
     },
     "execution_count": 62,
     "metadata": {},
     "output_type": "execute_result"
    }
   ],
   "source": [
    "revenue_std = np.sqrt(revenue_var)\n",
    "revenue_std"
   ]
  },
  {
   "cell_type": "code",
   "execution_count": 66,
   "metadata": {},
   "outputs": [
    {
     "data": {
      "text/plain": [
       "284227.2419827204"
      ]
     },
     "execution_count": 66,
     "metadata": {},
     "output_type": "execute_result"
    }
   ],
   "source": [
    "# Directly\n",
    "revenue.std()"
   ]
  },
  {
   "cell_type": "markdown",
   "metadata": {},
   "source": [
    "### Coefficient of Variation(CV):\n",
    "or its called **Relative standard deviation**(standard deviation relative to the mean).<br>\n",
    "its the most common measure of **variability** for a Comparing **Two Or More Dataset**.<br>\n",
    "its the **standard deviation over mean**."
   ]
  },
  {
   "cell_type": "code",
   "execution_count": 68,
   "metadata": {},
   "outputs": [
    {
     "name": "stdout",
     "output_type": "stream",
     "text": [
      "Revenue CV=0.42\n",
      "Rating CV=0.13\n"
     ]
    }
   ],
   "source": [
    "# Compare Variability of Revenue and Rating \n",
    "revenue_cv = revenue_std / revenue_mean\n",
    "rating_cv = rating.std() / rating.mean()\n",
    "print(f\"Revenue CV={revenue_cv:.2f}\\nRating CV={rating_cv:.2f}\")"
   ]
  },
  {
   "cell_type": "markdown",
   "metadata": {},
   "source": [
    "<ul><pre>-Does not have a unit of measurement.\n",
    "-Universal across datasets.\n",
    "-Perfect for comparisons."
   ]
  },
  {
   "cell_type": "markdown",
   "metadata": {},
   "source": [
    "## Measures of Relationship between Variables\n",
    "<ul><pre>-Covariance\n",
    "-Linear Correlation Coefficient"
   ]
  },
  {
   "cell_type": "markdown",
   "metadata": {},
   "source": [
    "### Covariance\n",
    "The main statistic to measure correlation between two variables is called **Covariance**.<br><br>\n",
    "**Symbol**:<br>\n",
    "<ul><pre>population:Oxy(lambda x,y)<br>\n",
    "sample:Sxy</ul>"
   ]
  },
  {
   "cell_type": "markdown",
   "metadata": {},
   "source": [
    "**Formula**:<br>\n",
    "Its the Sum of each obsevation from x and y minus their means.<br>\n",
    "The only difference is that for the **sample** we divide by **n-1**<br>\n",
    "but for **population** we divide by **N**.<br>\n",
    "**N** and **n** are number of observations."
   ]
  },
  {
   "cell_type": "markdown",
   "metadata": {},
   "source": [
    "##### may be:\n",
    "<ul><pre>\n",
    "> 0 : The Two variables move together.\n",
    "< 0 :  \"   \"    \"       \"    in opposite directions.\n",
    "= 0 :  \"   \"    \"       are independent.\n",
    "</ul>"
   ]
  },
  {
   "cell_type": "code",
   "execution_count": 69,
   "metadata": {},
   "outputs": [
    {
     "data": {
      "text/plain": [
       "166300335.0202436"
      ]
     },
     "execution_count": 69,
     "metadata": {},
     "output_type": "execute_result"
    }
   ],
   "source": [
    "revenueXmarketing_budget_cov = ((revenue-revenue_mean)*(marketing_budget-marketing_budget.mean())).sum()/(num_observations-1)\n",
    "revenueXmarketing_budget_cov"
   ]
  },
  {
   "cell_type": "code",
   "execution_count": 70,
   "metadata": {},
   "outputs": [
    {
     "data": {
      "text/plain": [
       "166300335.02024356"
      ]
     },
     "execution_count": 70,
     "metadata": {},
     "output_type": "execute_result"
    }
   ],
   "source": [
    "# Directly\n",
    "revenue.cov(marketing_budget)"
   ]
  },
  {
   "cell_type": "code",
   "execution_count": 71,
   "metadata": {},
   "outputs": [
    {
     "data": {
      "image/png": "[encoded data removed]",
      "text/plain": [
       "<Figure size 640x480 with 1 Axes>"
      ]
     },
     "metadata": {},
     "output_type": "display_data"
    }
   ],
   "source": [
    "# We can True see that marketing budget and revenue move together.\n",
    "sns.scatterplot(data=sample,x='Revenue',y='Marketing Budget')\n",
    "plt.show()"
   ]
  },
  {
   "cell_type": "markdown",
   "metadata": {},
   "source": [
    "### Correlation Coefficient:\n",
    "Correlation adjusts covariance,so that the relationship between the two variables becomes eacy and intuitive to interpret.<br>\n",
    "**Formula**:<br>\n",
    "Covariance of the two vars overthe  multiplication of their standard deviations.<br>\n",
    "**-1 <= Correlation Coefficient <= 1**"
   ]
  },
  {
   "cell_type": "markdown",
   "metadata": {},
   "source": [
    "**Note:** Correlation is Symmetrical with respect to both variables."
   ]
  },
  {
   "cell_type": "code",
   "execution_count": 72,
   "metadata": {},
   "outputs": [
    {
     "data": {
      "text/plain": [
       "0.3225377448766052"
      ]
     },
     "execution_count": 72,
     "metadata": {},
     "output_type": "execute_result"
    }
   ],
   "source": [
    "corr_coef = revenueXmarketing_budget_cov / (revenue_std * marketing_budget.std())\n",
    "corr_coef"
   ]
  },
  {
   "cell_type": "markdown",
   "metadata": {},
   "source": [
    "We manipulated the strange covariance value in order to get something intuitive."
   ]
  },
  {
   "cell_type": "markdown",
   "metadata": {},
   "source": [
    "**Correlation**:\n",
    "- **+1 (Perfect Positive Correlation)**: One variable increases as the other increases, meaning one variable's entire variability is explained by the other.\n",
    "- **0 (No Correlation)**: The variables are completely independent, with no relationship between them.\n",
    "- **-1 (Perfect Negative Correlation)**: One variable decreases as the other increases, indicating an inverse relationship where one variable's variability is fully explained by the other."
   ]
  },
  {
   "cell_type": "markdown",
   "metadata": {},
   "source": [
    "**Casuality**:<br><br>\n",
    "Important to understand the direction of causal relationships.<br>\n",
    "**CORRELATION DOES NOT IMPLY CAUSATION**"
   ]
  },
  {
   "cell_type": "markdown",
   "metadata": {},
   "source": [
    "# Infrential Stats:"
   ]
  },
  {
   "cell_type": "markdown",
   "metadata": {},
   "source": [
    "### Distribution:\n",
    "Distribution is statistics = Probability Distribution.<br>\n",
    "**Def**:A distribution is a function that shows the possible values for a variable and how often they occur.<br><br>\n",
    "**Sum of Probabilities**: 1 !| 100%<br>\n",
    "-> We have exhausted all possibilities.<br><br>\n",
    "**Note**:A Distribution is **not a graph** itself.<br>\n",
    "The graph is just visual represntation.<br><br>\n",
    "**Reasons**:\n",
    "- They approximate a wide variety of random variables.\n",
    "- Distribution of sample mens with large enough sample sizes could ne approximated to normal.\n",
    "- All computable statics are elegant.\n",
    "- Decisions based on normal distribution insights have a good track record."
   ]
  },
  {
   "cell_type": "markdown",
   "metadata": {},
   "source": [
    "### Sampling Distribution of the Mean:\n",
    "Taking a single value,as we did in descriptive stats is **definitely suboptimal**, So we draw many,many samples and take **thier means**.<br>\n",
    "to have Sampling Distribution of the mean."
   ]
  },
  {
   "cell_type": "code",
   "execution_count": 73,
   "metadata": {},
   "outputs": [],
   "source": [
    "# Sampling Distribution of the Mean for Marketing Budget(Poisson Distribution)\n",
    "clt_n_samples = 30\n",
    "means = []\n",
    "for i in range(clt_n_samples):\n",
    "    current_sample = sample.sample(n=clt_n_samples)\n",
    "    means.append(current_sample['Marketing Budget'].mean())\n",
    "means = pd.Series(means)\n"
   ]
  },
  {
   "cell_type": "code",
   "execution_count": 74,
   "metadata": {},
   "outputs": [
    {
     "data": {
      "image/png": "[encoded data removed]",
      "text/plain": [
       "<Figure size 640x480 with 1 Axes>"
      ]
     },
     "metadata": {},
     "output_type": "display_data"
    }
   ],
   "source": [
    "sns.kdeplot(means)\n",
    "plt.xticks([means.mean()])\n",
    "plt.show()"
   ]
  },
  {
   "cell_type": "markdown",
   "metadata": {},
   "source": [
    "#### Central Limit Theorem (CLT):\n",
    "States that the sampling distribution of the sample mean will approximate a normal distribution,regardless of the original population distribution,as the sample size becomes large(n >= 30).<br>\n",
    "**Sampling Distribution ~ N(μ,σ²/n)**<br>\n",
    "**CLT** allows us to perform tests,solve problems and make inferences using the normal distribution,even when the population is not normally distributed."
   ]
  },
  {
   "cell_type": "markdown",
   "metadata": {},
   "source": [
    "#### Standard Error:\n",
    "The standard deviation of the distribution formed by the sample means.<br>\n",
    "**std_err = std_dev / sqrt(n)**<br>\n",
    "Like any standard deviation,it shows variability.<br>\n",
    "**Importance:**<br>\n",
    "Used in most statistical tests because it show how well you approximated the **true mean**.<br>\n",
    "**Standard Error**: decreases when sample size increases. "
   ]
  },
  {
   "cell_type": "markdown",
   "metadata": {},
   "source": [
    "## Estimators & Estimates:\n",
    "Approximation depending soley on sample information.<br>\n",
    "**Estimators:** methods or formulas used to infer the value of an unknown population parameter based on sample data.<br>\n",
    "**Estimates:** are the actual numerical values obtained by applying the estimator to a sample.<br>\n",
    "- **Type**:\n",
    "    - **Point Estimates**:one point.\n",
    "    - **Confidence Intervals**:interval."
   ]
  },
  {
   "cell_type": "markdown",
   "metadata": {},
   "source": [
    "### Point Estimators & Estimates:\n",
    "<ul><pre>\n",
    "    Estimator            Parameter                Estimate\n",
    "/how to estimate/     /what to estimate/       /concrete result/\n",
    "    x-(x-bar)     of        μ            ====>     52.22  \n",
    "        S²        of        σ²           ====>     1724.93"
   ]
  },
  {
   "cell_type": "code",
   "execution_count": 75,
   "metadata": {},
   "outputs": [
    {
     "name": "stdout",
     "output_type": "stream",
     "text": [
      "3109.025\n"
     ]
    },
    {
     "data": {
      "text/plain": [
       "3094.158888888889"
      ]
     },
     "execution_count": 75,
     "metadata": {},
     "output_type": "execute_result"
    }
   ],
   "source": [
    "# Estimating Population 'Marketing Budget' Mean using Sample Mean\n",
    "marketing_budget_sample_mean = sample['Marketing Budget'].mean()\n",
    "print(marketing_budget_sample_mean)\n",
    " \n",
    "# Or Using CLT which most of the time gives better result\n",
    "clt_mean = means.mean()\n",
    "clt_mean"
   ]
  },
  {
   "cell_type": "markdown",
   "metadata": {},
   "source": [
    "### Efficiency and Bias:\n",
    "**Bias:**<br>\n",
    "refers to the **difference** between the **expected value** of the estimator and the **true value** of the population parameter.An Estimator is said to be **unbiased** if the expected value equals the true parameter value,meaning it doesn't systematically overstimate or underestimate the parameter.<br><br>\n",
    "**Efficiency:**<br>\n",
    "refers to the **variance** of an estimator.An **efficient estimator** has the smallest possible variance among all unbiased estimators of a parameter.The lower the variance,the more **efficient** the estimator,as it tends to produce estimates closer to the true parameter value with less variability."
   ]
  },
  {
   "cell_type": "markdown",
   "metadata": {},
   "source": [
    "## Confidence Intervals(CIs):\n",
    "provide a **range** of values that are belived to contain the true population parameter within a **certain level of confidence**.<br>\n",
    "**Example**:Average Price CI = [20,25],95% CI means there is only 5% chance that the population parameter is outside the range.<br>"
   ]
  },
  {
   "cell_type": "markdown",
   "metadata": {},
   "source": [
    "\n",
    "##### **Confidence Level**:\n",
    "The probability that the confidence interval contains the true population parameter,Common levels are 95% or 99% ,indicating that if the study were repeated many times, 95% or 99% of the intervals would contain the true parameter.\n",
    "##### **Alpha(α)**:\n",
    "The probability that the confidence interval **not** contains the true population parameter, it represents the **significance level**.<br>\n",
    "**α = 1 - confidence level**,for a 95% confidence level,α = 5%.\n",
    "\n",
    "### **Formula**:\n",
    "\n",
    "**Point Estimate**:for example **Population Mean** so we use **Sample Mean**.<br>\n",
    "**Reliability Factor**: **z(α/2)** or **t(df,α/2)** statistic.<br>\n",
    "**Margin of Error**: Reliability Factor * Standard Error.<br>\n",
    "<pre>[(x-bar) - Margin of Error,(x-bar) + Margin of Error]"
   ]
  },
  {
   "cell_type": "markdown",
   "metadata": {},
   "source": [
    "### Population Variance Known,Large Sample Size:\n",
    "<h3>Use z-score</h3>\n",
    "Large Sample Size typically n > 30.<br>"
   ]
  },
  {
   "cell_type": "code",
   "execution_count": 83,
   "metadata": {},
   "outputs": [
    {
     "name": "stdout",
     "output_type": "stream",
     "text": [
      "1.96\n",
      "95% CI=(2528.62,3659.70)\n"
     ]
    }
   ],
   "source": [
    "# 95% CI for Marketing Budget Mean using CLT Mean\n",
    "# Standard Error\n",
    "std_err = population['Marketing Budget'].std() / np.sqrt(n_samples)\n",
    "confidence_level = 0.95 # 95%\n",
    "alpha = 1 - confidence_level\n",
    "\n",
    "# Z-critical \n",
    "z_critical = round(abs(stats.norm.ppf(alpha/2)),2)\n",
    "print(z_critical)\n",
    "# Margin of Error\n",
    "margin_of_error = z_critical * std_err\n",
    "\n",
    "# Confidence Interval\n",
    "lower_bound = clt_mean - margin_of_error\n",
    "upper_bound = clt_mean + margin_of_error\n",
    "\n",
    "print(f\"95% CI=({lower_bound:.2f},{upper_bound:.2f})\") "
   ]
  },
  {
   "cell_type": "markdown",
   "metadata": {},
   "source": [
    "We are 95% confident that the average marketing budget will be in this intervall --> **narrower but only 95% confidence**.<br>\n",
    "Or 99% that it will lie in [2134,3623]-->**broader but higher confidence**."
   ]
  },
  {
   "cell_type": "code",
   "execution_count": 93,
   "metadata": {},
   "outputs": [
    {
     "data": {
      "image/png": "[encoded data removed]",
      "text/plain": [
       "<Figure size 640x480 with 1 Axes>"
      ]
     },
     "metadata": {},
     "output_type": "display_data"
    }
   ],
   "source": [
    "sns.kdeplot(means)\n",
    "sns.kdeplot(means,fill=True,clip=[means.mean()-2*means.std(),means.mean()+2*means.std()])\n",
    "plt.text(x=means.mean()-70,y=1e-3,s='95%',fontdict=dict(size=30))\n",
    "plt.annotate(text='2.5% chance that\\n μ is here.',xytext=(2450,15e-4),xy=(2600,1e-4),arrowprops=dict(width=10,connectionstyle=\"angle3,angleA=0,angleB=-60\"))\n",
    "plt.annotate(text='2.5% chance that\\n μ is here.',xytext=(3350,15e-4),xy=(3500,1e-4),arrowprops=dict(width=10,connectionstyle=\"angle3,angleA=0,angleB=60\"))\n",
    "plt.xticks([means.mean()])\n",
    "plt.show()"
   ]
  },
  {
   "cell_type": "markdown",
   "metadata": {},
   "source": [
    "### Population Variance Unknown,Small Sample Size:\n",
    "<h3>Use t-score</h3>\n",
    "\n",
    "Small Sample Size typically n <= 30.<br>\n",
    "- Ff population variance is known but the sample size it small, we use **t-static**"
   ]
  },
  {
   "cell_type": "code",
   "execution_count": 95,
   "metadata": {},
   "outputs": [
    {
     "name": "stdout",
     "output_type": "stream",
     "text": [
      "95% CI=(2529.64,3688.41)\n"
     ]
    }
   ],
   "source": [
    "# 95% CI for Marketing Budget Mean using Mean\n",
    "# Standard Error\n",
    "std_err = sample['Marketing Budget'].std() / np.sqrt(n_samples)\n",
    "# Degrees of Freedoom\n",
    "df = n_samples-1\n",
    "\n",
    "confidence_level = 0.95 # 95%\n",
    "alpha = 1 - confidence_level\n",
    "\n",
    "# t-critical \n",
    "t_critical = round(abs(stats.t.ppf(alpha/2,df=df)),2)\n",
    "\n",
    "# Margin of Error\n",
    "margin_of_error = t_critical * std_err\n",
    "\n",
    "# Confidence Interval\n",
    "lower_bound = sample['Marketing Budget'].mean() - margin_of_error\n",
    "upper_bound = sample['Marketing Budget'].mean() + margin_of_error\n",
    "\n",
    "print(f\"95% CI=({lower_bound:.2f},{upper_bound:.2f})\")"
   ]
  },
  {
   "cell_type": "markdown",
   "metadata": {},
   "source": [
    "<pre>\n",
    "CI 95%, known =(2277.47,3408.56) --> width = 1131.\n",
    "CI 95%,Unknown=(2384.21,3284.54) --> width = 900.\n",
    "</pre>\n",
    "Here we've got **two effects**:\n",
    "<pre>\n",
    "    1) smaller sample size.\n",
    "    2) unknown population variance.\n",
    "</pre>\n",
    "Both contribute to the **width** of the interval."
   ]
  },
  {
   "cell_type": "markdown",
   "metadata": {},
   "source": [
    "**Smaller** margin of error => **narrower** confidence interval.<br>\n",
    "**Bigger** margin or error => **wider** confidence interval.<br>\n",
    "<h4>Control the ME(margin of error):</h4>\n",
    "\n",
    "ME = (reliability factor(z or t) * std) / sqrt(n)<br>\n",
    "**-z or t statistic** & **std** in the **numerator**,<br>so decreasing them decreases the ME,<br> which lead to narrower interval and viceversa.<br>\n",
    "**-sample size** in the **dominator**,<br>so increasing it decreases the ME.<br>\n",
    "<br>\n",
    "<h4>Conclusion</h4>\n",
    "\n",
    "The **more observations** there are in the sample,the **higher the chances** of getting a good idea about the true mean of the entire population."
   ]
  },
  {
   "cell_type": "markdown",
   "metadata": {},
   "source": [
    "### Confidence Intervals Two Means:\n",
    "When comparing **the means of two populations**, various scenarios can arise depending on whether the **population variances** are **known or unknown**, and whether the **samples** are **dependent** or **independent**.\n",
    "<h4>1.Independent vs Dependent Samples</h4>\n",
    "\n",
    "<h5> Independent:</h5>\n",
    "\n",
    " The samples are drawn from two **different populations**,and the observations in one sample **do not affect** or **depend on** the observations in the other sample.<br>\n",
    "\n",
    "**Examples:** comparing the average height of men and women from different groups.\n",
    "<h5>Dependent:</h5> \n",
    "\n",
    "The samples are **related** in some way,meaning that each observation in one sample can be **paired** with an observation in the other sample.<br>\n",
    "\n",
    "**Examples:** before-and-after study where the same individuals are measured before and after treatment.\n",
    "\n",
    "----------------------------\n",
    "<h4>2.Known vs Unknown Population Variances</h4>\n",
    "\n",
    "<h5>Known:</h5>\n",
    "\n",
    "This a **rare** scenario where the variances (**σ²**) of both populations are **known**. <br>\n",
    "**Confidence intervals** can be caculated using the **z- distribution**.\n",
    "<h5>Unknown:</h5> \n",
    "\n",
    "This is the **more common** scenario in practice. When the variances (**σ²**) are **unkown**, they need to be estimated from the sample data.<br>\n",
    "**Confidence intervals** in this case are calculated using **t-distribution** , which adjusts for the added uncertainty in the variance estimate."
   ]
  },
  {
   "cell_type": "markdown",
   "metadata": {},
   "source": [
    "#### Dependent Samples:\n",
    "Since the samples are dependent, we first calculate the differences **Di = X1i -X2i** for each pair of observations. "
   ]
  },
  {
   "cell_type": "code",
   "execution_count": 96,
   "metadata": {},
   "outputs": [
    {
     "data": {
      "text/html": [
       "<div>\n",
       "<style scoped>\n",
       "    .dataframe tbody tr th:only-of-type {\n",
       "        vertical-align: middle;\n",
       "    }\n",
       "\n",
       "    .dataframe tbody tr th {\n",
       "        vertical-align: top;\n",
       "    }\n",
       "\n",
       "    .dataframe thead th {\n",
       "        text-align: right;\n",
       "    }\n",
       "</style>\n",
       "<table border=\"1\" class=\"dataframe\">\n",
       "  <thead>\n",
       "    <tr style=\"text-align: right;\">\n",
       "      <th></th>\n",
       "      <th>Patient</th>\n",
       "      <th>Before</th>\n",
       "      <th>After</th>\n",
       "      <th>Difference</th>\n",
       "    </tr>\n",
       "  </thead>\n",
       "  <tbody>\n",
       "    <tr>\n",
       "      <th>0</th>\n",
       "      <td>1</td>\n",
       "      <td>2.0</td>\n",
       "      <td>1.7</td>\n",
       "      <td>-0.3</td>\n",
       "    </tr>\n",
       "    <tr>\n",
       "      <th>1</th>\n",
       "      <td>2</td>\n",
       "      <td>1.4</td>\n",
       "      <td>1.7</td>\n",
       "      <td>0.3</td>\n",
       "    </tr>\n",
       "    <tr>\n",
       "      <th>2</th>\n",
       "      <td>3</td>\n",
       "      <td>1.3</td>\n",
       "      <td>1.8</td>\n",
       "      <td>0.5</td>\n",
       "    </tr>\n",
       "    <tr>\n",
       "      <th>3</th>\n",
       "      <td>4</td>\n",
       "      <td>1.1</td>\n",
       "      <td>1.3</td>\n",
       "      <td>0.2</td>\n",
       "    </tr>\n",
       "    <tr>\n",
       "      <th>4</th>\n",
       "      <td>5</td>\n",
       "      <td>1.8</td>\n",
       "      <td>1.7</td>\n",
       "      <td>-0.1</td>\n",
       "    </tr>\n",
       "    <tr>\n",
       "      <th>5</th>\n",
       "      <td>6</td>\n",
       "      <td>1.6</td>\n",
       "      <td>1.5</td>\n",
       "      <td>-0.1</td>\n",
       "    </tr>\n",
       "    <tr>\n",
       "      <th>6</th>\n",
       "      <td>7</td>\n",
       "      <td>1.5</td>\n",
       "      <td>1.6</td>\n",
       "      <td>0.1</td>\n",
       "    </tr>\n",
       "    <tr>\n",
       "      <th>7</th>\n",
       "      <td>8</td>\n",
       "      <td>0.7</td>\n",
       "      <td>1.7</td>\n",
       "      <td>1.0</td>\n",
       "    </tr>\n",
       "    <tr>\n",
       "      <th>8</th>\n",
       "      <td>9</td>\n",
       "      <td>0.9</td>\n",
       "      <td>1.7</td>\n",
       "      <td>0.8</td>\n",
       "    </tr>\n",
       "    <tr>\n",
       "      <th>9</th>\n",
       "      <td>10</td>\n",
       "      <td>1.5</td>\n",
       "      <td>2.4</td>\n",
       "      <td>0.9</td>\n",
       "    </tr>\n",
       "  </tbody>\n",
       "</table>\n",
       "</div>"
      ],
      "text/plain": [
       "   Patient  Before  After  Difference\n",
       "0        1     2.0    1.7        -0.3\n",
       "1        2     1.4    1.7         0.3\n",
       "2        3     1.3    1.8         0.5\n",
       "3        4     1.1    1.3         0.2\n",
       "4        5     1.8    1.7        -0.1\n",
       "5        6     1.6    1.5        -0.1\n",
       "6        7     1.5    1.6         0.1\n",
       "7        8     0.7    1.7         1.0\n",
       "8        9     0.9    1.7         0.8\n",
       "9       10     1.5    2.4         0.9"
      ]
     },
     "execution_count": 96,
     "metadata": {},
     "output_type": "execute_result"
    }
   ],
   "source": [
    "# Load Data about Magnesium Level before and after takign a pill\n",
    "before = [2,1.4,1.3,1.1,1.8,1.6,1.5,0.7,0.9,1.5]\n",
    "after = [1.7,1.7,1.8,1.3,1.7,1.5,1.6,1.7,1.7,2.4]\n",
    "dependent_samples = pd.DataFrame(dict(Patient=np.arange(1,11),Before=before,After=after))\n",
    "\n",
    "\n",
    "# Calculate Differencies\n",
    "dependent_samples['Difference'] = dependent_samples['After'] - dependent_samples['Before'] \n",
    "\n",
    "# Show Data\n",
    "dependent_samples"
   ]
  },
  {
   "cell_type": "markdown",
   "metadata": {},
   "source": [
    "In this way, the data looks as a single populations."
   ]
  },
  {
   "cell_type": "code",
   "execution_count": 97,
   "metadata": {},
   "outputs": [
    {
     "name": "stdout",
     "output_type": "stream",
     "text": [
      "0.32999999999999996 0.45472824607426554\n"
     ]
    }
   ],
   "source": [
    "# Calculate mean and std\n",
    "diff_mean = dependent_samples['Difference'].mean()\n",
    "diff_std =  dependent_samples['Difference'].std()\n",
    "print(diff_mean,diff_std)"
   ]
  },
  {
   "cell_type": "code",
   "execution_count": 98,
   "metadata": {},
   "outputs": [
    {
     "name": "stdout",
     "output_type": "stream",
     "text": [
      "CI =(0.01,0.65)\n"
     ]
    }
   ],
   "source": [
    "# CI 95% of Difference \n",
    "# Standard Error\n",
    "std_err = diff_std / np.sqrt(dependent_samples.shape[0])\n",
    "\n",
    "# Confidence Level\n",
    "confidence_level = 0.95 \n",
    "alpha = 1 - confidence_level\n",
    "\n",
    "# Degrees of Freedoom\n",
    "df = dependent_samples.shape[0] - 1\n",
    "\n",
    "# t static\n",
    "t_critical = round(abs(stats.t.ppf(alpha/2,df=df)),2)\n",
    "\n",
    "# Margin of Error\n",
    "me = t_critical * std_err\n",
    "\n",
    "# Confidence Interval\n",
    "lower_bound = diff_mean - me\n",
    "upper_bound = diff_mean + me\n",
    "print(f\"CI =({lower_bound:.2f},{upper_bound:.2f})\")"
   ]
  },
  {
   "cell_type": "markdown",
   "metadata": {},
   "source": [
    "<h5>How do we interpret this result?</h5>\n",
    "<pre>\n",
    "1.In 95% of the cases, the true mean will fall in this interval.\n",
    "2.The whole interval is positive.\n",
    "3.The levels of Mg is the test subjects blood is higher.<br>\n",
    "\n",
    "==> **Based in our small sample,the pill IS EFECTIVE**."
   ]
  },
  {
   "cell_type": "markdown",
   "metadata": {},
   "source": [
    "#### Independent Samples:\n",
    "var = s² or σ².<br>\n",
    "**standard error** = sqrt(var1/n1 + var2/n2).<br>\n",
    "**degrees of freedoom** = combined sample size - number of variables.<br>\n",
    "<h4>Confidence Interval Formula:</h4>\n",
    "\n",
    "**mean_diff +- critical * standard error**."
   ]
  },
  {
   "cell_type": "markdown",
   "metadata": {},
   "source": [
    "##### Known Variances:"
   ]
  },
  {
   "cell_type": "code",
   "execution_count": 99,
   "metadata": {},
   "outputs": [
    {
     "data": {
      "text/html": [
       "<div>\n",
       "<style scoped>\n",
       "    .dataframe tbody tr th:only-of-type {\n",
       "        vertical-align: middle;\n",
       "    }\n",
       "\n",
       "    .dataframe tbody tr th {\n",
       "        vertical-align: top;\n",
       "    }\n",
       "\n",
       "    .dataframe thead th {\n",
       "        text-align: right;\n",
       "    }\n",
       "</style>\n",
       "<table border=\"1\" class=\"dataframe\">\n",
       "  <thead>\n",
       "    <tr style=\"text-align: right;\">\n",
       "      <th></th>\n",
       "      <th>Engineering</th>\n",
       "      <th>Management</th>\n",
       "    </tr>\n",
       "  </thead>\n",
       "  <tbody>\n",
       "    <tr>\n",
       "      <th>Size</th>\n",
       "      <td>100</td>\n",
       "      <td>70</td>\n",
       "    </tr>\n",
       "    <tr>\n",
       "      <th>Sample mean</th>\n",
       "      <td>58</td>\n",
       "      <td>65</td>\n",
       "    </tr>\n",
       "    <tr>\n",
       "      <th>Population std</th>\n",
       "      <td>10</td>\n",
       "      <td>5</td>\n",
       "    </tr>\n",
       "  </tbody>\n",
       "</table>\n",
       "</div>"
      ],
      "text/plain": [
       "                Engineering  Management\n",
       "Size                    100          70\n",
       "Sample mean              58          65\n",
       "Population std           10           5"
      ]
     },
     "execution_count": 99,
     "metadata": {},
     "output_type": "execute_result"
    }
   ],
   "source": [
    "# Load Data about Engineering & Management\n",
    "degrees = pd.DataFrame(dict(Engineering=[100,58,10],Management=[70,65,5]),index=['Size','Sample mean','Population std'])\n",
    "degrees"
   ]
  },
  {
   "cell_type": "markdown",
   "metadata": {},
   "source": [
    "From past years, we know that the population standard deviation is 10 percentage points.<br><br>\n",
    "\n",
    "**Problem:** We want to find a 95% Confidence interval for the difference between the grades of the students from engineering and management.\n",
    "<h5>Variance of the difference</h5><pre>\n",
    "\n",
    "**σ²diff = σ²1/n1 + σ²2/n2**</pre>\n",
    "- *σ²1*: variance of first sample.<br>\n",
    "- *σ²2*: variance of second sample.<br> \n",
    "- *n1*: size of first sample.<br>\n",
    "- *n2*: size of second sample.<br>"
   ]
  },
  {
   "cell_type": "code",
   "execution_count": 100,
   "metadata": {},
   "outputs": [],
   "source": [
    "degrees.loc['Population std','Difference'] = np.sqrt(np.dot(degrees.iloc[2]**2,1/degrees.iloc[0]))\n",
    "degrees.loc['Sample mean','Difference'] = degrees.iloc[1,:2].diff().values.item(-1)*-1"
   ]
  },
  {
   "cell_type": "code",
   "execution_count": 101,
   "metadata": {},
   "outputs": [
    {
     "data": {
      "text/html": [
       "<div>\n",
       "<style scoped>\n",
       "    .dataframe tbody tr th:only-of-type {\n",
       "        vertical-align: middle;\n",
       "    }\n",
       "\n",
       "    .dataframe tbody tr th {\n",
       "        vertical-align: top;\n",
       "    }\n",
       "\n",
       "    .dataframe thead th {\n",
       "        text-align: right;\n",
       "    }\n",
       "</style>\n",
       "<table border=\"1\" class=\"dataframe\">\n",
       "  <thead>\n",
       "    <tr style=\"text-align: right;\">\n",
       "      <th></th>\n",
       "      <th>Engineering</th>\n",
       "      <th>Management</th>\n",
       "      <th>Difference</th>\n",
       "    </tr>\n",
       "  </thead>\n",
       "  <tbody>\n",
       "    <tr>\n",
       "      <th>Size</th>\n",
       "      <td>100</td>\n",
       "      <td>70</td>\n",
       "      <td>NaN</td>\n",
       "    </tr>\n",
       "    <tr>\n",
       "      <th>Sample mean</th>\n",
       "      <td>58</td>\n",
       "      <td>65</td>\n",
       "      <td>-7.000000</td>\n",
       "    </tr>\n",
       "    <tr>\n",
       "      <th>Population std</th>\n",
       "      <td>10</td>\n",
       "      <td>5</td>\n",
       "      <td>1.164965</td>\n",
       "    </tr>\n",
       "  </tbody>\n",
       "</table>\n",
       "</div>"
      ],
      "text/plain": [
       "                Engineering  Management  Difference\n",
       "Size                    100          70         NaN\n",
       "Sample mean              58          65   -7.000000\n",
       "Population std           10           5    1.164965"
      ]
     },
     "execution_count": 101,
     "metadata": {},
     "output_type": "execute_result"
    }
   ],
   "source": [
    "degrees"
   ]
  },
  {
   "cell_type": "markdown",
   "metadata": {},
   "source": [
    "Population variance known and Big samples so **Z-stat** is used.<br>\n",
    "**CI 95%** = (-9.28,-4.72).<br>\n",
    "**Takeaways:**<pre>\n",
    "1.We are 95% confident that the true mean difference between engineering and management grades falls into this interval.\n",
    "2.The whole interval is negative => engineers were consistently getting lower grages.\n",
    "3.Had we calculated difference as 'management - engineering'. we would get a confidence interval:**(4.75,9.28)**"
   ]
  },
  {
   "cell_type": "markdown",
   "metadata": {},
   "source": [
    "##### Unknown Variances but assumed to be equal:"
   ]
  },
  {
   "cell_type": "code",
   "execution_count": 107,
   "metadata": {},
   "outputs": [
    {
     "data": {
      "text/html": [
       "<div>\n",
       "<style scoped>\n",
       "    .dataframe tbody tr th:only-of-type {\n",
       "        vertical-align: middle;\n",
       "    }\n",
       "\n",
       "    .dataframe tbody tr th {\n",
       "        vertical-align: top;\n",
       "    }\n",
       "\n",
       "    .dataframe thead th {\n",
       "        text-align: right;\n",
       "    }\n",
       "</style>\n",
       "<table border=\"1\" class=\"dataframe\">\n",
       "  <thead>\n",
       "    <tr style=\"text-align: right;\">\n",
       "      <th></th>\n",
       "      <th>NY_apples</th>\n",
       "      <th>LA_apples</th>\n",
       "    </tr>\n",
       "  </thead>\n",
       "  <tbody>\n",
       "    <tr>\n",
       "      <th>0</th>\n",
       "      <td>3.80</td>\n",
       "      <td>3.02</td>\n",
       "    </tr>\n",
       "    <tr>\n",
       "      <th>1</th>\n",
       "      <td>3.76</td>\n",
       "      <td>3.22</td>\n",
       "    </tr>\n",
       "    <tr>\n",
       "      <th>2</th>\n",
       "      <td>3.87</td>\n",
       "      <td>3.24</td>\n",
       "    </tr>\n",
       "    <tr>\n",
       "      <th>3</th>\n",
       "      <td>3.99</td>\n",
       "      <td>3.02</td>\n",
       "    </tr>\n",
       "    <tr>\n",
       "      <th>4</th>\n",
       "      <td>4.02</td>\n",
       "      <td>3.06</td>\n",
       "    </tr>\n",
       "    <tr>\n",
       "      <th>5</th>\n",
       "      <td>4.25</td>\n",
       "      <td>3.15</td>\n",
       "    </tr>\n",
       "    <tr>\n",
       "      <th>6</th>\n",
       "      <td>4.13</td>\n",
       "      <td>3.81</td>\n",
       "    </tr>\n",
       "    <tr>\n",
       "      <th>7</th>\n",
       "      <td>3.98</td>\n",
       "      <td>3.44</td>\n",
       "    </tr>\n",
       "    <tr>\n",
       "      <th>8</th>\n",
       "      <td>3.99</td>\n",
       "      <td>NaN</td>\n",
       "    </tr>\n",
       "    <tr>\n",
       "      <th>9</th>\n",
       "      <td>3.62</td>\n",
       "      <td>NaN</td>\n",
       "    </tr>\n",
       "  </tbody>\n",
       "</table>\n",
       "</div>"
      ],
      "text/plain": [
       "   NY_apples  LA_apples\n",
       "0       3.80       3.02\n",
       "1       3.76       3.22\n",
       "2       3.87       3.24\n",
       "3       3.99       3.02\n",
       "4       4.02       3.06\n",
       "5       4.25       3.15\n",
       "6       4.13       3.81\n",
       "7       3.98       3.44\n",
       "8       3.99        NaN\n",
       "9       3.62        NaN"
      ]
     },
     "execution_count": 107,
     "metadata": {},
     "output_type": "execute_result"
    }
   ],
   "source": [
    "# Load Data about Apples in NY,LA\n",
    "ny_apples = [3.8,3.76,3.87,3.99,4.02,4.25,4.13,3.98,3.99,3.62]\n",
    "la_apples = [3.02,3.22,3.24,3.02,3.06,3.15,3.81,3.44,np.nan,np.nan]\n",
    "apples = pd.DataFrame(dict(NY_apples=ny_apples,LA_apples=la_apples))\n",
    "apples"
   ]
  },
  {
   "cell_type": "markdown",
   "metadata": {},
   "source": [
    "You don't know that the population variance of apple prices in NY or LA is, but you assume it should be the same.<br><br>\n",
    "**Problem:** Estimate the difference of price of apples in NY and LA.\n",
    "<h4>Pooled Variance</h4><pre>\n",
    "\n",
    "**S²p = ((nx - 1)\\*S²x + (ny - 1)\\*s²y) / (nx + ny - 2)**</pre>\n",
    "- *S²x*: variance of first sample.<br>\n",
    "- *S²y*: variance of second sample.<br>\n",
    "- *nx*: size of first sample.<br>\n",
    "- *ny*: size of second sample.<br>"
   ]
  },
  {
   "cell_type": "code",
   "execution_count": 108,
   "metadata": {},
   "outputs": [
    {
     "data": {
      "text/html": [
       "<div>\n",
       "<style scoped>\n",
       "    .dataframe tbody tr th:only-of-type {\n",
       "        vertical-align: middle;\n",
       "    }\n",
       "\n",
       "    .dataframe tbody tr th {\n",
       "        vertical-align: top;\n",
       "    }\n",
       "\n",
       "    .dataframe thead th {\n",
       "        text-align: right;\n",
       "    }\n",
       "</style>\n",
       "<table border=\"1\" class=\"dataframe\">\n",
       "  <thead>\n",
       "    <tr style=\"text-align: right;\">\n",
       "      <th></th>\n",
       "      <th>NY_apples</th>\n",
       "      <th>LA_apples</th>\n",
       "    </tr>\n",
       "  </thead>\n",
       "  <tbody>\n",
       "    <tr>\n",
       "      <th>mean</th>\n",
       "      <td>3.941000</td>\n",
       "      <td>3.245000</td>\n",
       "    </tr>\n",
       "    <tr>\n",
       "      <th>std</th>\n",
       "      <td>0.183935</td>\n",
       "      <td>0.267902</td>\n",
       "    </tr>\n",
       "    <tr>\n",
       "      <th>size</th>\n",
       "      <td>10.000000</td>\n",
       "      <td>8.000000</td>\n",
       "    </tr>\n",
       "  </tbody>\n",
       "</table>\n",
       "</div>"
      ],
      "text/plain": [
       "      NY_apples  LA_apples\n",
       "mean   3.941000   3.245000\n",
       "std    0.183935   0.267902\n",
       "size  10.000000   8.000000"
      ]
     },
     "execution_count": 108,
     "metadata": {},
     "output_type": "execute_result"
    }
   ],
   "source": [
    "apples_stats = apples.agg(['mean','std'])\n",
    "apples_stats.loc['size'] = apples.notnull().sum().astype(int).values\n",
    "apples_stats"
   ]
  },
  {
   "cell_type": "code",
   "execution_count": 109,
   "metadata": {},
   "outputs": [],
   "source": [
    "apples_stats.loc['std','Difference'] = np.sqrt(np.dot(apples_stats.iloc[1]**2,apples_stats.iloc[2]-1) / (apples_stats.iloc[2].sum()-2))\n",
    "apples_stats.loc['mean','Difference'] = apples_stats.iloc[0,:2].diff().values.item(-1)*-1"
   ]
  },
  {
   "cell_type": "code",
   "execution_count": 110,
   "metadata": {},
   "outputs": [
    {
     "data": {
      "text/html": [
       "<div>\n",
       "<style scoped>\n",
       "    .dataframe tbody tr th:only-of-type {\n",
       "        vertical-align: middle;\n",
       "    }\n",
       "\n",
       "    .dataframe tbody tr th {\n",
       "        vertical-align: top;\n",
       "    }\n",
       "\n",
       "    .dataframe thead th {\n",
       "        text-align: right;\n",
       "    }\n",
       "</style>\n",
       "<table border=\"1\" class=\"dataframe\">\n",
       "  <thead>\n",
       "    <tr style=\"text-align: right;\">\n",
       "      <th></th>\n",
       "      <th>NY_apples</th>\n",
       "      <th>LA_apples</th>\n",
       "      <th>Difference</th>\n",
       "    </tr>\n",
       "  </thead>\n",
       "  <tbody>\n",
       "    <tr>\n",
       "      <th>mean</th>\n",
       "      <td>3.941000</td>\n",
       "      <td>3.245000</td>\n",
       "      <td>0.696000</td>\n",
       "    </tr>\n",
       "    <tr>\n",
       "      <th>std</th>\n",
       "      <td>0.183935</td>\n",
       "      <td>0.267902</td>\n",
       "      <td>0.224568</td>\n",
       "    </tr>\n",
       "    <tr>\n",
       "      <th>size</th>\n",
       "      <td>10.000000</td>\n",
       "      <td>8.000000</td>\n",
       "      <td>NaN</td>\n",
       "    </tr>\n",
       "  </tbody>\n",
       "</table>\n",
       "</div>"
      ],
      "text/plain": [
       "      NY_apples  LA_apples  Difference\n",
       "mean   3.941000   3.245000    0.696000\n",
       "std    0.183935   0.267902    0.224568\n",
       "size  10.000000   8.000000         NaN"
      ]
     },
     "execution_count": 110,
     "metadata": {},
     "output_type": "execute_result"
    }
   ],
   "source": [
    "apples_stats"
   ]
  },
  {
   "cell_type": "markdown",
   "metadata": {},
   "source": [
    "Population variance unknown and Small samples so **t-stat** is used.<br>\n",
    "**CI 95%** = (0.47,0.92).<br>\n",
    "**Takeaways:**<pre>\n",
    "Apples in NY are much more expensive than in LA."
   ]
  },
  {
   "cell_type": "markdown",
   "metadata": {},
   "source": [
    "##### Unknown Variances but assumed to be different:"
   ]
  },
  {
   "cell_type": "markdown",
   "metadata": {},
   "source": [
    "for example to compare apples and oranges.<br>\n",
    "thier variances obviously are different.<br>\n",
    "The **only difference**  is the **df** is calculated using **the Welch-Satterthwaite equation**:<br>\n",
    "**let** <br> \n",
    "k1 = s1*\\*2 / n1<br>\n",
    "k2 = s2*\\*2 / n2\n",
    "<pre>\n",
    "v = (k1 + k2) / ((k1**2 / (n1 - 1)) + (k2**2 / (n2 - 1)))"
   ]
  },
  {
   "cell_type": "markdown",
   "metadata": {},
   "source": [
    "## Hypothesis Testing:\n",
    "is a fundamental concept in infrential stats that allow you to make **inferences** or **decisions** about population based on sample data.<br> <br>\n",
    "**Hypothesis:** is an idea that can be tested.<br>\n",
    "*Examples:*<pre>\n",
    "Apples are expensive -> **statement**.\n",
    "Apples more expensive than $1.75 -> **hypothesis**.<br>\n",
    "no data => connot be tested => **Not a hypothesis**.\n",
    "can be tested => **Might be a hypothesis**."
   ]
  },
  {
   "cell_type": "markdown",
   "metadata": {},
   "source": [
    "### Null vs Alternative:\n",
    "<h4>Null Hypothesis (H0):</h4>\n",
    "\n",
    "This is a **statement** of **no effect** or **no difference**.It is what you are trying to **test against**.<br>\n",
    "*Example:* H0 might be \"the mean revenue of the restaurant is $10.000\".<br><br>\n",
    "<h4>Alternative Hypothesis (H1 or Ha):</h4> \n",
    "\n",
    "This a **statement** you want to **be able to conclude**  if there is **enough evidence**.<br>\n",
    "*Examples:* H1 might be \"the mean revenue of the restaurant is not $10.000\"."
   ]
  },
  {
   "cell_type": "markdown",
   "metadata": {},
   "source": [
    "<h4>Notation</h4><pre>\n",
    "\n",
    "**Null hypothesis** => **H0**\n",
    "**Alternative hypothesis** => **H1** or **HA** </pre>\n",
    "**Examples:**<pre>\n",
    "H0 : μ  = $113.00\n",
    "**Accept if:** x-(x bar) is close enought to the true mean.\n",
    "**Reject if:** x-(x bar) is too far from the true mean.\n",
    "H1 : μ != $113.00<br>\n",
    "**Notes**:<pre>\n",
    "-**H0** is **True** until **Rejected**.\n",
    "-Outcomes of Tests refer to population parameter rather than sample static."
   ]
  },
  {
   "cell_type": "markdown",
   "metadata": {},
   "source": [
    "### Rejection Region and Significance Level:\n",
    "**Significance Level** denoted as **α** ,is the probability of rejecting the null hypothesis,if it is true.<br>\n",
    "<h4>Commonly Used Levels</h4><pre>\n",
    "\n",
    "- **0.05 (5%)**: The most commonly used level.It balances the rist of making a Type 1 Error and the sensitivity of the test,**good default**.\n",
    "- **0.01 (1%)**: Used when the consequenses of Type 1 Error are more sereve.For example in medical trails or critical safety testing.\n",
    "- **0.10 (10%)**: Used when you want alient, allowing for a higher probability of detecting an effect (even with some risk of Type 1 Error)."
   ]
  },
  {
   "cell_type": "code",
   "execution_count": 111,
   "metadata": {},
   "outputs": [],
   "source": [
    "samples = stats.norm(loc=0,scale=1).rvs(25)"
   ]
  },
  {
   "cell_type": "markdown",
   "metadata": {},
   "source": [
    "**Rejection region** is the **range of values** for the test static that leads to **rejecting** the **null hypothesis** (H0).<br>\n",
    "It's determined by the **significance level** (α).<br>\n",
    "*Example*: in a Two-tailed test with α = 0.05 , the rejection region might be in the extreme 2.5% on both ends of the distribution."
   ]
  },
  {
   "cell_type": "code",
   "execution_count": 112,
   "metadata": {},
   "outputs": [
    {
     "data": {
      "image/png": "[encoded data removed]",
      "text/plain": [
       "<Figure size 640x480 with 1 Axes>"
      ]
     },
     "metadata": {},
     "output_type": "display_data"
    }
   ],
   "source": [
    "sns.kdeplot(samples)\n",
    "sns.kdeplot(samples,fill=True,clip=(-2,2))\n",
    "plt.text(x=-1.15,y=0.20,s='Accept',fontdict=dict(size=30))\n",
    "plt.text(x=-4,y=0.35,s='α = 0.05',fontdict=dict(size=15),bbox=dict(color='green',alpha=0.5,boxstyle=\"round\"))\n",
    "plt.annotate(xy=(-3,0.03),xytext=(-4.3,0.13),text='rejection region \\nα/2 = 0.025',arrowprops=dict(width=5,color='red',alpha=0.5),bbox=dict(color='red',alpha=0.5,boxstyle=\"round\"))\n",
    "plt.annotate(xy=(2.5,0.03),xytext=(2.7,0.13),text='rejection region \\nα/2 = 0.025',arrowprops=dict(width=5,color='red',alpha=0.5),bbox=dict(color='red',alpha=0.5,boxstyle=\"round\"))\n",
    "plt.title(\"Distribution of Z(STANDARD NORMAL DISTRIBUTION)\")\n",
    "plt.xticks([-3,-1.96,1.96,3],['reject',-1.96,1.96,'reject'])\n",
    "plt.show()"
   ]
  },
  {
   "cell_type": "markdown",
   "metadata": {},
   "source": [
    "### One vs Two tailed Test:\n",
    "<h4>One-tailed test:</h4>\n",
    "\n",
    "Tests if a **parameter** is **either** greater than or less than a certain value (but **not both**).<br><br>\n",
    "**Left-tailed:** test is used when an **alternative hypothesis (H1)** claims that the **parameter** of interest is **less than** a certain value.<br><br>\n",
    "**Right-tailed:** test is used when an **alternative hypothesis (H1)** claims that the **parameter** of interest is **greater than** a certain value.\n",
    "\n",
    "*Example*: <br>\n",
    "H0 : μ0 >= $ 125,000.\n",
    "\n",
    "H1 : μ0 < $ 125,000."
   ]
  },
  {
   "cell_type": "code",
   "execution_count": 113,
   "metadata": {},
   "outputs": [],
   "source": [
    "samples = stats.norm(loc=0,scale=1).rvs(25)"
   ]
  },
  {
   "cell_type": "code",
   "execution_count": 118,
   "metadata": {},
   "outputs": [
    {
     "data": {
      "image/png": "[encoded data removed]",
      "text/plain": [
       "<Figure size 640x480 with 1 Axes>"
      ]
     },
     "metadata": {},
     "output_type": "display_data"
    }
   ],
   "source": [
    "sns.kdeplot(samples)\n",
    "sns.kdeplot(samples,fill=True,clip=(-5,-1.645))\n",
    "plt.text(x=-4,y=0.35,s='α = 0.05',fontdict=dict(size=15),bbox=dict(color='green',alpha=0.5,boxstyle=\"round\"))\n",
    "plt.annotate(xy=(-3,0.03),xytext=(-4.3,0.13),text='rejection region \\nα = 0.05',arrowprops=dict(width=5,color='red',alpha=0.5),bbox=dict(color='red',alpha=0.5,boxstyle=\"round\"))\n",
    "plt.xticks([-1.645])\n",
    "plt.show()"
   ]
  },
  {
   "cell_type": "markdown",
   "metadata": {},
   "source": [
    "if Z < -1.645, we would reject the null hypothesis."
   ]
  },
  {
   "cell_type": "markdown",
   "metadata": {},
   "source": [
    "<h4>Two-tailed test:</h4>\n",
    "\n",
    "Tests if a **parameter** is **significantly different** from a certain value (it could be either greater or less)\n",
    "\n",
    "*Example*: <br>\n",
    "H0 : μ0 = $ 125,000.\n",
    "\n",
    "H1 : μ0 != $ 125,000."
   ]
  },
  {
   "cell_type": "code",
   "execution_count": 115,
   "metadata": {},
   "outputs": [
    {
     "data": {
      "image/png": "[encoded data removed]",
      "text/plain": [
       "<Figure size 640x480 with 1 Axes>"
      ]
     },
     "metadata": {},
     "output_type": "display_data"
    }
   ],
   "source": [
    "sns.kdeplot(samples)\n",
    "sns.kdeplot(samples,fill=True,clip=(-10,-2),color='blue')\n",
    "sns.kdeplot(samples,fill=True,clip=(2,10),color='blue')\n",
    "plt.text(x=-4,y=0.35,s='α = 0.05',fontdict=dict(size=15),bbox=dict(color='green',alpha=0.5,boxstyle=\"round\"))\n",
    "plt.annotate(xy=(-3,0.03),xytext=(-4.3,0.13),text='rejection region \\nα/2 = 0.025',arrowprops=dict(width=5,color='red',alpha=0.5),bbox=dict(color='red',alpha=0.5,boxstyle=\"round\"))\n",
    "plt.annotate(xy=(2.5,0.03),xytext=(2.7,0.13),text='rejection region \\nα/2 = 0.025',arrowprops=dict(width=5,color='red',alpha=0.5),bbox=dict(color='red',alpha=0.5,boxstyle=\"round\"))\n",
    "plt.xticks([-1.96,1.96])\n",
    "plt.show()"
   ]
  },
  {
   "cell_type": "markdown",
   "metadata": {},
   "source": [
    "if Z < -1.96 or Z > 1.96, we would reject the null hypothesis."
   ]
  },
  {
   "cell_type": "markdown",
   "metadata": {},
   "source": [
    "### How Does Hypothesis Testing Work?<pre>\n",
    "- Calculate a statistic (eg.x_bar)\n",
    "- Scale it (eg.Z = (x_bar - μ)/std_err)\n",
    "- Check if Z is in the rejection region."
   ]
  },
  {
   "cell_type": "markdown",
   "metadata": {},
   "source": [
    "### Errors:"
   ]
  },
  {
   "cell_type": "markdown",
   "metadata": {},
   "source": [
    "#### Type 1 Error (False Positive):\n",
    "**Rejecting** the **null hypothesis** (H0) when it is **actually true**.<br>\n",
    "The probability of making a Type 1 Error is equal to the **significance level**(α).<br>\n",
    "\n",
    "*Example:* if α = 0.05, there is **5%** chance of making a Type 1 Error."
   ]
  },
  {
   "cell_type": "markdown",
   "metadata": {},
   "source": [
    "#### Type 2 Error (False Negative):\n",
    "**Failling** to **reject** the **null hypothesis** when it is **actually false**.<br>\n",
    "The probability of making a Type 2 Error is denoted by **β**. Unlike α, β is **not set** by the researcher and depends on **factors** like **sample size** and **effect size**.\n",
    "\n"
   ]
  },
  {
   "cell_type": "markdown",
   "metadata": {},
   "source": [
    "##### Summary:\n",
    "**Goal of Hypothesis Testeing:** Rejecting a **false** null hypothesis (probability is **1-β**).<br>\n",
    "**Type 1 Error:** Rejects H0 when it's **true** (probability is **α**).<br>\n",
    "**Type 2 Error:** Fails to reject H0 when it's **false** (probability is **β**).<br>\n",
    "<table>\n",
    "    <tr>\n",
    "        <th></th>\n",
    "        <th>H0 is true</th>\n",
    "        <th>H0 is false</th>\n",
    "    </tr>\n",
    "    <tr>\n",
    "        <th>Accept</th>\n",
    "        <th>Good</th>\n",
    "        <th>Type 2 Error</th>\n",
    "    </tr>\n",
    "    <tr>\n",
    "        <th>Reject</th>\n",
    "        <th>Type 1 Error</th>\n",
    "        <th>Good</th>\n",
    "    </tr>\n",
    "</table>\n",
    "\n",
    "---\n",
    "**Example:**<br>\n",
    "H0: She doesn't like you.\n",
    "<table>\n",
    "    <tr>\n",
    "        <th></th>\n",
    "        <th>She doesn't like you</th>\n",
    "        <th>She likes you</th>\n",
    "    </tr>\n",
    "    <tr>\n",
    "        <th>Accept (Do nothing)</th>\n",
    "        <th>Good</th>\n",
    "        <th>Type 2 Error (missed your chance)</th>\n",
    "    </tr> \n",
    "    <tr>\n",
    "        <th>Reject (Invite her)</th>\n",
    "        <th>Type 1 Error (wrongly invited her)</th>\n",
    "        <th>Good</th>\n",
    "    </tr>\n",
    "</table>"
   ]
  },
  {
   "cell_type": "markdown",
   "metadata": {},
   "source": [
    "### **Decision Rule:**<pre>\n",
    "- S = Test Stat (Z,T,...).\n",
    "- Critical = Critival value of **α** in one-tailed test or **α/2** in two-tailed test.\n",
    "</pre>\n",
    "\n",
    "#### **Left-tailed Test:**<pre>\n",
    "- **REJECT H0** if **S** < **Critical**. \n",
    "- **FAIL to REJECT H0** if **S** >= **Critical**.\n",
    "\n",
    "#### **Right-tailed Test:**<pre>\n",
    "- **REJECT H0** if **S** > **Critical**. \n",
    "- **FAIL to REJECT H0** if **S** <= **Critical**.\n",
    "\n",
    "#### **Two-tailed Test:**<pre>\n",
    "- **REJECT H0** if **S** > **upper critical value** or **S** < **lower critical value**. \n",
    "- **FAIL to REJECT H0** otherwise."
   ]
  },
  {
   "cell_type": "markdown",
   "metadata": {},
   "source": [
    "### P value:\n",
    "##### is the measure used to determine the **strength of the evidence** against the null hypothesis.\n",
    "is the **smallest level** of significance at which we **can still reject** the **null hypothesis**, given the observed sample statistic.<br>\n",
    "\n",
    "<h4>Formula</h4>\n",
    "\n",
    "**Left-tailed**: <pre>p_value = CDF(Z).</pre><br>\n",
    "**Right-tailed**:<pre>p_value = 1 - CDF(Z).</pre>\n",
    "**Two-tailed**: <pre>p_value = 2 * (1 - CDF(abs(Z))).</pre>\n",
    "<h4>Intrepretation</h4><pre>\n",
    "\n",
    "- **Small p-value** (typically <= 0.05) indicates strong evidence against the null hypothesis, leading to its rejection.\n",
    "- **Large p-value** (typically > 0.05) suggests insufficient evidence to reject the null hypothesis.\n",
    "</pre>\n",
    "<h4>P-values Use Cases?</h4><pre>\n",
    "\n",
    "- **Testing Hypothesis**:to determine if there is enough evidence to reject the null hypothesis.\n",
    "- **Corrleation & Regression**:Evaluating the significance of predictors in models.</pre>\n",
    "\n",
    "#### **Decision Rule:**<pre>\n",
    "- **REJECT H0** if **p** < **α**. \n",
    "- **FAIL to REJECT H0** if **p** > **α**.\n",
    "#### **Note:**\n",
    "It is **affected** by **sample size**, larger samples can produce smaller p-values even for trivial effects."
   ]
  },
  {
   "cell_type": "markdown",
   "metadata": {},
   "source": [
    "### One Sample"
   ]
  },
  {
   "cell_type": "code",
   "execution_count": 126,
   "metadata": {},
   "outputs": [
    {
     "data": {
      "text/plain": [
       "(29,)"
      ]
     },
     "execution_count": 126,
     "metadata": {},
     "output_type": "execute_result"
    }
   ],
   "source": [
    "# Load Data\n",
    "salaries = pd.Series([148100, 98700, 140032, 100022, 120000, 62100, 250000, 150000, 219650, 136000, 87800, 76300, 148100, 98700, 145500, 93000, 85000, 75000, 105000, 70000, 204662, 184662, 179000, 112000, 115000, 85000, 225000, 180000, 175000])\n",
    "salaries.shape"
   ]
  },
  {
   "cell_type": "markdown",
   "metadata": {},
   "source": [
    "<pre>\n",
    "H0 : μ0 >= $ 170,000.\n",
    "H1 : μ0 < $ 170,000.\n",
    "\n",
    "significance level = 5%"
   ]
  },
  {
   "cell_type": "markdown",
   "metadata": {},
   "source": [
    "#### Test for the Mean Population,Variance Known:\n",
    "We use Z-distribution."
   ]
  },
  {
   "cell_type": "code",
   "execution_count": 127,
   "metadata": {},
   "outputs": [],
   "source": [
    "# Calculate & Set Needed Stats\n",
    "alpha = 0.05\n",
    "hypothesised_mean = 170_000\n",
    "salary_sample_mean = salaries.mean()\n",
    "salary_population_std = 45_000\n",
    "std_err = salary_population_std / np.sqrt(salaries.size)"
   ]
  },
  {
   "cell_type": "code",
   "execution_count": 128,
   "metadata": {},
   "outputs": [
    {
     "data": {
      "text/plain": [
       "-4.376929905220666"
      ]
     },
     "execution_count": 128,
     "metadata": {},
     "output_type": "execute_result"
    }
   ],
   "source": [
    "# Standardize Estimator(X-bar)\n",
    "Z = (salary_sample_mean - hypothesised_mean) / std_err\n",
    "Z"
   ]
  },
  {
   "cell_type": "code",
   "execution_count": 131,
   "metadata": {},
   "outputs": [
    {
     "name": "stdout",
     "output_type": "stream",
     "text": [
      "-1.64\n",
      "Z < z-stat: True\n"
     ]
    }
   ],
   "source": [
    "alpha_z_critical = round(stats.norm.ppf(alpha),2)\n",
    "print(alpha_z_critical)\n",
    "print(f\"Z < z-stat: {Z < alpha_z_critical}\")"
   ]
  },
  {
   "cell_type": "markdown",
   "metadata": {},
   "source": [
    "So at **5% signficance level** there is no statistical evidence that the mean salary is greater than $170,000.<br>\n",
    "The Null Hypothesis is **REJECTED**."
   ]
  },
  {
   "cell_type": "markdown",
   "metadata": {},
   "source": [
    "#### Test for the Mean Population,Variance unknown:\n",
    "**Same Steps** but we use **t-distribution** instead of z."
   ]
  },
  {
   "cell_type": "markdown",
   "metadata": {},
   "source": [
    "### Paired Samples (Dependent)"
   ]
  },
  {
   "cell_type": "markdown",
   "metadata": {},
   "source": [
    "**Task**:<br>\n",
    "We expect the levels of Mg to be increasing.<br>\n",
    "Therefore, this is the alternative hypothesis as we are aiming to reject the null.<br><pre>\n",
    "**Hypothesis:**\n",
    "H0 : μ_a <= μ_b\n",
    "H1 : μ_a > μ_b\n",
    "\n",
    "**So μ_diff = μ_a - μ_b:**\n",
    "H0 : μ_diff <= 0\n",
    "H1 : μ_diff > 0"
   ]
  },
  {
   "cell_type": "code",
   "execution_count": 132,
   "metadata": {},
   "outputs": [
    {
     "data": {
      "text/html": [
       "<div>\n",
       "<style scoped>\n",
       "    .dataframe tbody tr th:only-of-type {\n",
       "        vertical-align: middle;\n",
       "    }\n",
       "\n",
       "    .dataframe tbody tr th {\n",
       "        vertical-align: top;\n",
       "    }\n",
       "\n",
       "    .dataframe thead th {\n",
       "        text-align: right;\n",
       "    }\n",
       "</style>\n",
       "<table border=\"1\" class=\"dataframe\">\n",
       "  <thead>\n",
       "    <tr style=\"text-align: right;\">\n",
       "      <th></th>\n",
       "      <th>Before</th>\n",
       "      <th>After</th>\n",
       "      <th>Difference</th>\n",
       "    </tr>\n",
       "  </thead>\n",
       "  <tbody>\n",
       "    <tr>\n",
       "      <th>0</th>\n",
       "      <td>2.0</td>\n",
       "      <td>1.7</td>\n",
       "      <td>-0.3</td>\n",
       "    </tr>\n",
       "    <tr>\n",
       "      <th>1</th>\n",
       "      <td>1.4</td>\n",
       "      <td>1.7</td>\n",
       "      <td>0.3</td>\n",
       "    </tr>\n",
       "    <tr>\n",
       "      <th>2</th>\n",
       "      <td>1.3</td>\n",
       "      <td>1.8</td>\n",
       "      <td>0.5</td>\n",
       "    </tr>\n",
       "    <tr>\n",
       "      <th>3</th>\n",
       "      <td>1.1</td>\n",
       "      <td>1.3</td>\n",
       "      <td>0.2</td>\n",
       "    </tr>\n",
       "    <tr>\n",
       "      <th>4</th>\n",
       "      <td>1.8</td>\n",
       "      <td>1.7</td>\n",
       "      <td>-0.1</td>\n",
       "    </tr>\n",
       "    <tr>\n",
       "      <th>5</th>\n",
       "      <td>1.6</td>\n",
       "      <td>1.5</td>\n",
       "      <td>-0.1</td>\n",
       "    </tr>\n",
       "    <tr>\n",
       "      <th>6</th>\n",
       "      <td>1.5</td>\n",
       "      <td>1.6</td>\n",
       "      <td>0.1</td>\n",
       "    </tr>\n",
       "    <tr>\n",
       "      <th>7</th>\n",
       "      <td>0.7</td>\n",
       "      <td>1.7</td>\n",
       "      <td>1.0</td>\n",
       "    </tr>\n",
       "    <tr>\n",
       "      <th>8</th>\n",
       "      <td>0.9</td>\n",
       "      <td>1.7</td>\n",
       "      <td>0.8</td>\n",
       "    </tr>\n",
       "    <tr>\n",
       "      <th>9</th>\n",
       "      <td>1.5</td>\n",
       "      <td>2.4</td>\n",
       "      <td>0.9</td>\n",
       "    </tr>\n",
       "  </tbody>\n",
       "</table>\n",
       "</div>"
      ],
      "text/plain": [
       "   Before  After  Difference\n",
       "0     2.0    1.7        -0.3\n",
       "1     1.4    1.7         0.3\n",
       "2     1.3    1.8         0.5\n",
       "3     1.1    1.3         0.2\n",
       "4     1.8    1.7        -0.1\n",
       "5     1.6    1.5        -0.1\n",
       "6     1.5    1.6         0.1\n",
       "7     0.7    1.7         1.0\n",
       "8     0.9    1.7         0.8\n",
       "9     1.5    2.4         0.9"
      ]
     },
     "execution_count": 132,
     "metadata": {},
     "output_type": "execute_result"
    }
   ],
   "source": [
    "before = [2,1.4,1.3,1.1,1.8,1.6,1.5,0.7,0.9,1.5]\n",
    "after  = [1.7,1.7,1.8,1.3,1.7,1.5,1.6,1.7,1.7,2.4]\n",
    "magnesium_levels = pd.DataFrame(dict(Before=before,After=after))\n",
    "# Calculate Difference (A - B)\n",
    "magnesium_levels['Difference'] = magnesium_levels['After'] - magnesium_levels['Before']\n",
    "magnesium_levels"
   ]
  },
  {
   "cell_type": "code",
   "execution_count": 133,
   "metadata": {},
   "outputs": [],
   "source": [
    "# Set & Calculate Stats\n",
    "alpha = 0.05\n",
    "hypothesised_mean = 0\n",
    "n_samples = magnesium_levels.shape[0]\n",
    "df = n_samples - 1\n",
    "diff_mean = magnesium_levels['Difference'].mean()\n",
    "diff_std = magnesium_levels['Difference'].std()\n",
    "std_err = diff_std / np.sqrt(n_samples)"
   ]
  },
  {
   "cell_type": "code",
   "execution_count": 134,
   "metadata": {},
   "outputs": [
    {
     "data": {
      "text/plain": [
       "2.2948907108029832"
      ]
     },
     "execution_count": 134,
     "metadata": {},
     "output_type": "execute_result"
    }
   ],
   "source": [
    "T = (diff_mean - hypothesised_mean) / std_err\n",
    "T"
   ]
  },
  {
   "cell_type": "code",
   "execution_count": 135,
   "metadata": {},
   "outputs": [
    {
     "data": {
      "text/plain": [
       "0.9763030318013011"
      ]
     },
     "execution_count": 135,
     "metadata": {},
     "output_type": "execute_result"
    }
   ],
   "source": [
    "p_value = stats.t.cdf(T,df=df)\n",
    "p_value"
   ]
  },
  {
   "cell_type": "markdown",
   "metadata": {},
   "source": [
    "**P value** is **greater** than **significance level** (0.97 > 0.05) <br>\n",
    "So we **FAILED to REJECT** the null hypothesis."
   ]
  },
  {
   "cell_type": "markdown",
   "metadata": {},
   "source": [
    "### Two Samples (Independent)"
   ]
  },
  {
   "cell_type": "markdown",
   "metadata": {},
   "source": [
    "#### Known Variances:"
   ]
  },
  {
   "cell_type": "markdown",
   "metadata": {},
   "source": [
    "**Task**: there are rumors that says :\"on Average,management outperforms engineerings by 4%\".Is it true?<br><pre>\n",
    "**Hypothesis:**\n",
    "H0 : μ_m - μ_e = 4%\n",
    "H1 : μ_m - μ_e != 4%"
   ]
  },
  {
   "cell_type": "code",
   "execution_count": 138,
   "metadata": {},
   "outputs": [
    {
     "data": {
      "text/html": [
       "<div>\n",
       "<style scoped>\n",
       "    .dataframe tbody tr th:only-of-type {\n",
       "        vertical-align: middle;\n",
       "    }\n",
       "\n",
       "    .dataframe tbody tr th {\n",
       "        vertical-align: top;\n",
       "    }\n",
       "\n",
       "    .dataframe thead th {\n",
       "        text-align: right;\n",
       "    }\n",
       "</style>\n",
       "<table border=\"1\" class=\"dataframe\">\n",
       "  <thead>\n",
       "    <tr style=\"text-align: right;\">\n",
       "      <th></th>\n",
       "      <th>Engineering</th>\n",
       "      <th>Management</th>\n",
       "      <th>Difference</th>\n",
       "    </tr>\n",
       "  </thead>\n",
       "  <tbody>\n",
       "    <tr>\n",
       "      <th>Size</th>\n",
       "      <td>100</td>\n",
       "      <td>70</td>\n",
       "      <td>NaN</td>\n",
       "    </tr>\n",
       "    <tr>\n",
       "      <th>Mean</th>\n",
       "      <td>58</td>\n",
       "      <td>65</td>\n",
       "      <td>7.0</td>\n",
       "    </tr>\n",
       "    <tr>\n",
       "      <th>Population std</th>\n",
       "      <td>10</td>\n",
       "      <td>6</td>\n",
       "      <td>NaN</td>\n",
       "    </tr>\n",
       "  </tbody>\n",
       "</table>\n",
       "</div>"
      ],
      "text/plain": [
       "                Engineering  Management  Difference\n",
       "Size                    100          70         NaN\n",
       "Mean                     58          65         7.0\n",
       "Population std           10           6         NaN"
      ]
     },
     "execution_count": 138,
     "metadata": {},
     "output_type": "execute_result"
    }
   ],
   "source": [
    "# Load Data\n",
    "grades = pd.DataFrame(dict(Engineering=[100,58,10],Management=[70,65,6],Difference=[np.NaN,7,np.NaN]),index=['Size','Mean','Population std'])\n",
    "grades"
   ]
  },
  {
   "cell_type": "code",
   "execution_count": 139,
   "metadata": {},
   "outputs": [
    {
     "data": {
      "text/plain": [
       "1.230563169563316"
      ]
     },
     "execution_count": 139,
     "metadata": {},
     "output_type": "execute_result"
    }
   ],
   "source": [
    "hypothesized_diff = 4\n",
    "significance_level = 0.1\n",
    "std_err = np.sqrt(grades.iloc[-1,0]**2 / grades.iloc[0,0] + grades.iloc[-1,1]**2 / grades.iloc[0,1])\n",
    "std_err"
   ]
  },
  {
   "cell_type": "code",
   "execution_count": 213,
   "metadata": {},
   "outputs": [
    {
     "data": {
      "text/plain": [
       "2.4379081661160034"
      ]
     },
     "execution_count": 213,
     "metadata": {},
     "output_type": "execute_result"
    }
   ],
   "source": [
    "Z = (grades.loc['Mean','Difference'] - hypothesized_diff) / std_err\n",
    "Z"
   ]
  },
  {
   "cell_type": "code",
   "execution_count": 140,
   "metadata": {},
   "outputs": [
    {
     "data": {
      "text/plain": [
       "1.2036266070269974e-05"
      ]
     },
     "execution_count": 140,
     "metadata": {},
     "output_type": "execute_result"
    }
   ],
   "source": [
    "p_value = 2 * (1 - stats.norm.cdf(abs(Z)))\n",
    "p_value"
   ]
  },
  {
   "cell_type": "markdown",
   "metadata": {},
   "source": [
    "**P value** is **less** than **Significance Level** so null hype is **REJECTED**.<br>\n",
    "There is enough statistical evidence that the mean difference is **NOT 4%**."
   ]
  },
  {
   "cell_type": "markdown",
   "metadata": {},
   "source": [
    "**IS THE DIFFERENCE HIGHER OR LOWER THAN 4%:**<br>\n",
    "The **sign** of the test statistic shows if the mean is lower or higher than the hypothesised value.<br>\n",
    "The sign of Z is positive which means the Management grades are much higher than Engineering with more than 4%. "
   ]
  },
  {
   "cell_type": "markdown",
   "metadata": {},
   "source": [
    "#### **Same Ideas as CIs for the rest**:\n",
    "Cause both **CIs** and **HT** are based on **CLT**."
   ]
  },
  {
   "cell_type": "markdown",
   "metadata": {},
   "source": [
    "#### Unknown Variances but assumed to be Equal:"
   ]
  },
  {
   "cell_type": "markdown",
   "metadata": {},
   "source": [
    "#### Unknown Variances but assumed to be Different:"
   ]
  },
  {
   "cell_type": "markdown",
   "metadata": {},
   "source": []
  }
 ],
 "metadata": {
  "kernelspec": {
   "display_name": "Python 3",
   "language": "python",
   "name": "python3"
  },
  "language_info": {
   "codemirror_mode": {
    "name": "ipython",
    "version": 3
   },
   "file_extension": ".py",
   "mimetype": "text/x-python",
   "name": "python",
   "nbconvert_exporter": "python",
   "pygments_lexer": "ipython3",
   "version": "3.11.3"
  }
 },
 "nbformat": 4,
 "nbformat_minor": 2
}
