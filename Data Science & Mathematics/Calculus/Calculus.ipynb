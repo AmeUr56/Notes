{
 "cells": [
  {
   "cell_type": "markdown",
   "metadata": {},
   "source": [
    "# 1. Introduction to Calculus for Data Science"
   ]
  },
  {
   "cell_type": "markdown",
   "metadata": {},
   "source": [
    "## What is Calculus?\n",
    "Calculus is a branch of mathematics that studies how things change. It is divided into two main areas:\n",
    "\n",
    "- **Differential Calculus**: Deals with rates of change and slopes of curves.\n",
    "- **Integral Calculus**: Concerns accumulation of quantities and areas under curves."
   ]
  },
  {
   "cell_type": "markdown",
   "metadata": {},
   "source": [
    "## Why Data Scientists Need Calculus\n",
    "In data science, calculus plays a key role in optimizing machine learning algorithms, such as finding the minimum of a cost function in regression, neural networks, and optimization problems. Calculus helps data scientists:\n",
    "\n",
    "- Understand how models change in response to input data.\n",
    "- Optimize algorithms (minimize loss functions using gradient descent).\n",
    "- Understand key concepts such as marginal changes, partial derivatives, and integrals in probabilistic models."
   ]
  },
  {
   "cell_type": "markdown",
   "metadata": {},
   "source": [
    "## Key Concepts in Calculus for Data Science\n",
    "- **Limits**: The concept of approaching a value.\n",
    "- **Derivatives**: Measures of how a function changes as its input changes.\n",
    "- **Integrals**: The accumulation of quantities over an interval.\n",
    "- **Optimization**: Minimizing or maximizing a function.\n",
    "- **Gradient Descent**: A method for finding the minimum of a function."
   ]
  },
  {
   "cell_type": "markdown",
   "metadata": {},
   "source": [
    "# 2. Limits and Continuity"
   ]
  },
  {
   "cell_type": "markdown",
   "metadata": {},
   "source": [
    "## Definition of Limits\n",
    "The limit of a function describes the behavior of the function as x approaches a particular point. For example, the limit of \n",
    "**𝑓(𝑥)** as **𝑥** approaches 2 can be written as:<pre>\n",
    "lim 𝑓(𝑥)\n",
    "𝑥→2"
   ]
  },
  {
   "cell_type": "markdown",
   "metadata": {},
   "source": [
    "![ALT TEXT](./img/limit_at_a_point.gif)"
   ]
  },
  {
   "cell_type": "markdown",
   "metadata": {},
   "source": [
    "## Understanding Limits through Examples\n",
    "If **𝑓(𝑥)=𝑥²**, then the limit as **𝑥** approaches **2** is:<pre>\n",
    "lim 𝑥² = 4\n",
    "𝑥→2</pre>\n",
    "This means that as **𝑥** gets closer to 2, **𝑓(𝑥)** approaches 4."
   ]
  },
  {
   "cell_type": "code",
   "execution_count": 2,
   "metadata": {},
   "outputs": [
    {
     "data": {
      "text/latex": [
       "$\\displaystyle 4$"
      ],
      "text/plain": [
       "4"
      ]
     },
     "execution_count": 2,
     "metadata": {},
     "output_type": "execute_result"
    }
   ],
   "source": [
    "import sympy as sp\n",
    "\n",
    "# Define the variable and function\n",
    "x = sp.Symbol('x')\n",
    "f = x**2\n",
    "\n",
    "# Calculate the limit as x approaches 2\n",
    "limit_f = sp.limit(f, x, 2)\n",
    "limit_f"
   ]
  },
  {
   "cell_type": "code",
   "execution_count": 5,
   "metadata": {},
   "outputs": [
    {
     "data": {
      "text/latex": [
       "$\\displaystyle \\infty$"
      ],
      "text/plain": [
       "oo"
      ]
     },
     "execution_count": 5,
     "metadata": {},
     "output_type": "execute_result"
    }
   ],
   "source": [
    "sp.limit(f,x,)"
   ]
  },
  {
   "cell_type": "markdown",
   "metadata": {},
   "source": [
    "## Continuity in Functions\n",
    "A function is continuous at a point if the limit exists at that point and equals the function’s value. In data science, continuity is important when working with optimization techniques and smooth loss functions."
   ]
  },
  {
   "cell_type": "code",
   "execution_count": 10,
   "metadata": {},
   "outputs": [
    {
     "name": "stdout",
     "output_type": "stream",
     "text": [
      "The function is not continuous at x = 2.\n",
      "Left limit: 4, Right limit: 5, Value at 2: nan\n",
      "The function is continuous at x = 5.\n"
     ]
    }
   ],
   "source": [
    "# Define the variable\n",
    "x = sp.symbols('x')\n",
    "\n",
    "# Define the function\n",
    "f = sp.Piecewise((x**2, x < 2), (2*x + 1, x > 2))\n",
    "\n",
    "# Function to check continuity at a given point\n",
    "def check_continuity(f, point):\n",
    "    # Evaluate the left-hand and right-hand limits of the function at the given point\n",
    "    left_limit = sp.limit(f, x, point, dir='-')\n",
    "    right_limit = sp.limit(f, x, point, dir='+')\n",
    "    \n",
    "    # Evaluate the value of the function at the point\n",
    "    value_at_point = f.subs(x, point)\n",
    "    \n",
    "    # Check if the left and right limits are equal and match the value at the point\n",
    "    if left_limit == right_limit == value_at_point:\n",
    "        print(f\"The function is continuous at x = {point}.\")\n",
    "    else:\n",
    "        print(f\"The function is not continuous at x = {point}.\")\n",
    "        print(f\"Left limit: {left_limit}, Right limit: {right_limit}, Value at {point}: {value_at_point}\")\n",
    "\n",
    "# Check continuity at x = 2\n",
    "check_continuity(f, 2)\n",
    "# Check continuity at x = 5\n",
    "check_continuity(f, 5)"
   ]
  },
  {
   "cell_type": "markdown",
   "metadata": {},
   "source": [
    "## Applications in Data Science (Optimization)\n",
    "Limits are crucial in optimization. When tuning a machine learning model, you need to ensure that small changes in the model's parameters lead to small changes in the loss function, ensuring stability.\n"
   ]
  },
  {
   "cell_type": "markdown",
   "metadata": {},
   "source": [
    "# 3. Differentiation"
   ]
  },
  {
   "cell_type": "markdown",
   "metadata": {},
   "source": [
    "##  Concept and Definition\n",
    "The derivative of a function measures how it changes as its input changes. Mathematically, the derivative of a function **𝑓(𝑥)** at a point **𝑥** is:<pre>\n",
    "𝑓′(𝑥) = lim 𝑓(𝑥+Δ𝑥)−𝑓(𝑥) / Δ𝑥\n",
    "_       Δ𝑥→0"
   ]
  },
  {
   "cell_type": "markdown",
   "metadata": {},
   "source": [
    "![ALT TEXT](./img/Slope_of_the_tangent_line.gif)"
   ]
  },
  {
   "cell_type": "markdown",
   "metadata": {},
   "source": [
    "## Common Derivatives\n",
    "<pre>\n",
    "- 𝑑/𝑑x 𝑥**𝑛 = 𝑛𝑥**(𝑛−1)\n",
    "- 𝑑/𝑑x sin(𝑥) = cos(𝑥)\n",
    "- 𝑑/𝑑x ln⁡(𝑥) = 1/𝑥​"
   ]
  },
  {
   "cell_type": "markdown",
   "metadata": {},
   "source": [
    "## Chain Rule, Product Rule, and Quotient Rule"
   ]
  },
  {
   "cell_type": "markdown",
   "metadata": {},
   "source": [
    "### Chain Rule: \n",
    "<pre>\n",
    "𝑑/𝑑x 𝑓(𝑔(𝑥)) = 𝑓′(𝑔(𝑥))⋅𝑔′(𝑥)"
   ]
  },
  {
   "cell_type": "markdown",
   "metadata": {},
   "source": [
    "### Product Rule: \n",
    "<pre>\n",
    "𝑑/𝑑x [𝑢(𝑥)𝑣(𝑥)] = 𝑢′(𝑥)𝑣(𝑥)+ 𝑢(𝑥)𝑣′(𝑥)"
   ]
  },
  {
   "cell_type": "markdown",
   "metadata": {},
   "source": [
    "### Quotient Rule: \n",
    "<pre>\n",
    "𝑑/𝑑x [𝑢(𝑥)/𝑣(𝑥)] = 𝑢′(𝑥)𝑣(𝑥)−𝑢(𝑥)𝑣′(𝑥) / 𝑣(𝑥)²"
   ]
  },
  {
   "cell_type": "markdown",
   "metadata": {},
   "source": [
    "## Higher-Order Derivatives\n",
    "Higher-order derivatives, such as the second derivative \n",
    "**𝑓′′(𝑥)**, measure the rate of change of the rate of change and are essential in optimization for checking convexity and concavity."
   ]
  },
  {
   "cell_type": "markdown",
   "metadata": {},
   "source": [
    "## Applications in Data Science: Gradients, Cost Functions, and Optimization\n",
    "In machine learning, derivatives help minimize the cost function. The derivative, or gradient, provides the direction and rate of change of the function, which is used in gradient descent to optimize models."
   ]
  },
  {
   "cell_type": "markdown",
   "metadata": {},
   "source": [
    "#### Chain Rule Example\n",
    "If **𝑓(𝑥) = sin(𝑥²)**, the derivative using the chain rule is:<pre>\n",
    "𝑓′(𝑥)=cos(𝑥2)⋅2𝑥"
   ]
  },
  {
   "cell_type": "code",
   "execution_count": 11,
   "metadata": {},
   "outputs": [
    {
     "data": {
      "text/latex": [
       "$\\displaystyle 2 x \\cos{\\left(x^{2} \\right)}$"
      ],
      "text/plain": [
       "2*x*cos(x**2)"
      ]
     },
     "execution_count": 11,
     "metadata": {},
     "output_type": "execute_result"
    }
   ],
   "source": [
    "# Define the function\n",
    "g = x**2\n",
    "f = sp.sin(g)\n",
    "\n",
    "# Calculate the derivative using the chain rule\n",
    "f_prime = sp.diff(f, x)\n",
    "f_prime"
   ]
  },
  {
   "cell_type": "markdown",
   "metadata": {},
   "source": [
    "This code computes the derivative of **sin(𝑥²)** using SymPy, applying the chain rule automatically."
   ]
  },
  {
   "cell_type": "markdown",
   "metadata": {},
   "source": [
    "# 4. Partial Derivatives"
   ]
  },
  {
   "cell_type": "markdown",
   "metadata": {},
   "source": [
    "## Concept\n",
    "In multivariable calculus, a partial derivative measures how a function changes as one variable changes, keeping other variables constant. If **𝑓(𝑥,𝑦)** is a function of two variables:<pre>\n",
    "∂𝑓 / ∂𝑥 , ∂𝑓 / ∂𝑦​"
   ]
  },
  {
   "cell_type": "markdown",
   "metadata": {},
   "source": [
    "## Gradient Vectors and Directional Derivatives\n",
    "The **gradient** of a function is a vector of partial derivatives, pointing in the direction of the steepest ascent. It is crucial in optimization for determining how to adjust parameters in machine learning models:<pre>\n",
    "∇𝑓(𝑥,𝑦) = (∂𝑓 / ∂𝑥 , ∂𝑓 / ∂𝑦)"
   ]
  },
  {
   "cell_type": "markdown",
   "metadata": {},
   "source": [
    "![ALT TEXT](./img/partial_derivative_as_slope.png)"
   ]
  },
  {
   "cell_type": "markdown",
   "metadata": {},
   "source": [
    "## Applications in Machine Learning: Gradient Descent and Backpropagation\n",
    "Partial derivatives are fundamental in algorithms like gradient descent and backpropagation, where the goal is to adjust parameters in neural networks to minimize error."
   ]
  },
  {
   "cell_type": "markdown",
   "metadata": {},
   "source": [
    "#### Example: Gradient Descent\n",
    "Consider a function **𝑓(𝑥,𝑦)=𝑥²+𝑦²**. The partial derivatives are:<pre>\n",
    "∂𝑓 / ∂𝑥 = 2𝑥,∂𝑓 / ∂𝑦 = 2𝑦"
   ]
  },
  {
   "cell_type": "code",
   "execution_count": 16,
   "metadata": {},
   "outputs": [
    {
     "name": "stdout",
     "output_type": "stream",
     "text": [
      "x: 8.0, y: 5.92\n",
      "x: 6.4, y: 4.736\n",
      "x: 5.12, y: 3.7887999999999997\n",
      "x: 4.096, y: 3.03104\n",
      "x: 3.2768, y: 2.424832\n",
      "x: 2.62144, y: 1.9398655999999999\n",
      "x: 2.0971520000000003, y: 1.5518924799999998\n",
      "x: 1.6777216000000004, y: 1.2415139839999998\n",
      "x: 1.3421772800000003, y: 0.9932111871999998\n",
      "x: 1.0737418240000003, y: 0.7945689497599998\n",
      "x: 0.8589934592000003, y: 0.6356551598079998\n",
      "x: 0.6871947673600002, y: 0.5085241278463999\n",
      "x: 0.5497558138880001, y: 0.40681930227711993\n",
      "x: 0.43980465111040007, y: 0.32545544182169595\n",
      "x: 0.35184372088832006, y: 0.26036435345735676\n",
      "x: 0.281474976710656, y: 0.2082914827658854\n",
      "x: 0.22517998136852482, y: 0.16663318621270834\n",
      "x: 0.18014398509481985, y: 0.13330654897016667\n",
      "x: 0.14411518807585588, y: 0.10664523917613333\n",
      "x: 0.11529215046068471, y: 0.08531619134090666\n",
      "x: 0.09223372036854777, y: 0.06825295307272533\n",
      "x: 0.07378697629483821, y: 0.054602362458180266\n",
      "x: 0.05902958103587057, y: 0.043681889966544214\n",
      "x: 0.04722366482869646, y: 0.03494551197323537\n",
      "x: 0.037778931862957166, y: 0.027956409578588297\n",
      "x: 0.030223145490365734, y: 0.02236512766287064\n",
      "x: 0.024178516392292588, y: 0.01789210213029651\n",
      "x: 0.01934281311383407, y: 0.014313681704237208\n",
      "x: 0.015474250491067256, y: 0.011450945363389767\n",
      "x: 0.012379400392853806, y: 0.009160756290711813\n",
      "x: 0.009903520314283045, y: 0.007328605032569451\n",
      "x: 0.007922816251426436, y: 0.005862884026055561\n",
      "x: 0.006338253001141149, y: 0.004690307220844449\n",
      "x: 0.00507060240091292, y: 0.0037522457766755593\n",
      "x: 0.0040564819207303355, y: 0.0030017966213404476\n",
      "x: 0.0032451855365842686, y: 0.0024014372970723582\n",
      "x: 0.002596148429267415, y: 0.0019211498376578867\n",
      "x: 0.002076918743413932, y: 0.0015369198701263094\n",
      "x: 0.0016615349947311456, y: 0.0012295358961010474\n",
      "x: 0.0013292279957849164, y: 0.000983628716880838\n",
      "x: 0.001063382396627933, y: 0.0007869029735046703\n",
      "x: 0.0008507059173023465, y: 0.0006295223788037363\n",
      "x: 0.0006805647338418772, y: 0.0005036179030429891\n",
      "x: 0.0005444517870735017, y: 0.00040289432243439125\n",
      "x: 0.0004355614296588014, y: 0.000322315457947513\n",
      "x: 0.0003484491437270411, y: 0.0002578523663580104\n",
      "x: 0.00027875931498163285, y: 0.00020628189308640835\n",
      "x: 0.00022300745198530628, y: 0.00016502551446912668\n",
      "x: 0.00017840596158824503, y: 0.00013202041157530135\n",
      "x: 0.00014272476927059603, y: 0.00010561632926024107\n"
     ]
    }
   ],
   "source": [
    "import numpy as np\n",
    "\n",
    "# Define the gradient of the function\n",
    "def gradient(x, y):\n",
    "    return np.array([2*x, 2*y])\n",
    "\n",
    "# Implement gradient descent\n",
    "def gradient_descent(learning_rate=0.1, epochs=50):\n",
    "    x, y = 10.0, 7.4  # Starting point\n",
    "    for _ in range(epochs):\n",
    "        grad = gradient(x, y)\n",
    "        x, y = x - learning_rate * grad[0], y - learning_rate * grad[1]\n",
    "        print(f\"x: {x}, y: {y}\")\n",
    "\n",
    "gradient_descent()"
   ]
  },
  {
   "cell_type": "markdown",
   "metadata": {},
   "source": [
    "This code simulates gradient descent for the function \n",
    "**𝑓(𝑥,𝑦) = 𝑥2 + 𝑦2**, showing how the algorithm moves towards the minimum."
   ]
  },
  {
   "cell_type": "markdown",
   "metadata": {},
   "source": [
    "# 5. Differentiation for Vector-Valued Functions"
   ]
  },
  {
   "cell_type": "markdown",
   "metadata": {},
   "source": [
    "## Jacobian and Hessian Matrices\n",
    "- **Jacobian Matrix**: Represents first-order partial derivatives of vector-valued functions.\n",
    "- **Hessian Matrix**: Represents second-order partial derivatives. The Hessian is used to study the curvature of functions and determine if a critical point is a maximum, minimum, or saddle point."
   ]
  },
  {
   "cell_type": "markdown",
   "metadata": {},
   "source": [
    "## Applications in Machine Learning: Neural Networks and Multivariable Optimization\n",
    "Jacobian and Hessian matrices are used in neural networks for computing gradients in high-dimensional spaces, aiding in more accurate optimization."
   ]
  },
  {
   "cell_type": "markdown",
   "metadata": {},
   "source": [
    "#### Jacobian Example\n",
    "Consider the function **𝑓(𝑥,𝑦)=(𝑥²+𝑦,𝑥+𝑦²)**. The Jacobian matrix is:<pre>\n",
    "𝐽 = \n",
    "_ ( 2𝑥 1\n",
    "_   1  2𝑦)"
   ]
  },
  {
   "cell_type": "code",
   "execution_count": 25,
   "metadata": {},
   "outputs": [
    {
     "data": {
      "text/latex": [
       "$\\displaystyle \\left[\\begin{matrix}2 x & 1\\end{matrix}\\right]$"
      ],
      "text/plain": [
       "Matrix([[2*x, 1]])"
      ]
     },
     "execution_count": 25,
     "metadata": {},
     "output_type": "execute_result"
    }
   ],
   "source": [
    "# Define variables and function\n",
    "x, y = sp.symbols('x y')\n",
    "f = x**2 + y\n",
    "\n",
    "# Compute the Jacobian matrix\n",
    "jacobian = sp.Matrix([f]).jacobian([x, y])\n",
    "jacobian"
   ]
  },
  {
   "cell_type": "markdown",
   "metadata": {},
   "source": [
    "# 6. Taylor Series"
   ]
  },
  {
   "cell_type": "markdown",
   "metadata": {},
   "source": [
    "## Taylor Expansions\n",
    "The Taylor series approximates functions around a specific point by using derivatives. For a function **𝑓(𝑥)** around **𝑥 = 𝑎**, the Taylor expansion is:<pre>\n",
    "𝑓(𝑥) ≈ 𝑓(𝑎) + 𝑓′(𝑎)(𝑥−𝑎) + 𝑓′′(𝑎)/2! * (𝑥−𝑎)² + ..."
   ]
  },
  {
   "cell_type": "markdown",
   "metadata": {},
   "source": [
    "![ALT TEXT](./img/taylor.png)"
   ]
  },
  {
   "cell_type": "markdown",
   "metadata": {},
   "source": [
    "## Using Taylor Series for Function Approximation\n",
    "In machine learning, Taylor series can approximate non-linear functions, which is helpful in optimizations and model simplifications."
   ]
  },
  {
   "cell_type": "markdown",
   "metadata": {},
   "source": [
    "#### Example: Taylor Expansion of sin(𝑥) around 𝑥=0\n",
    "The Taylor series for **sin(𝑥)** is:<pre>\n",
    "sin(𝑥) ≈ 𝑥 − 𝑥³/3! + 𝑥⁵/5! −..."
   ]
  },
  {
   "cell_type": "code",
   "execution_count": 29,
   "metadata": {},
   "outputs": [
    {
     "data": {
      "text/latex": [
       "$\\displaystyle x - \\frac{x^{3}}{6} + \\frac{x^{5}}{120} + O\\left(x^{6}\\right)$"
      ],
      "text/plain": [
       "x - x**3/6 + x**5/120 + O(x**6)"
      ]
     },
     "execution_count": 29,
     "metadata": {},
     "output_type": "execute_result"
    }
   ],
   "source": [
    "# Taylor expansion of sin(x)\n",
    "taylor_exp = sp.series(sp.sin(x), x, 0, 6)\n",
    "taylor_exp"
   ]
  },
  {
   "cell_type": "markdown",
   "metadata": {},
   "source": [
    "# 7. Integration"
   ]
  },
  {
   "cell_type": "markdown",
   "metadata": {},
   "source": [
    "## Concept\n",
    "Integration is the reverse process of differentiation. It calculates the accumulation of quantities, such as areas under curves.<pre>\n",
    "∫ 𝑓(𝑥) 𝑑𝑥"
   ]
  },
  {
   "cell_type": "markdown",
   "metadata": {},
   "source": [
    "## Definite vs Indefinite Integrals\n",
    "- **Indefinite Integral**: Represents the family of all antiderivatives.\n",
    "- **Definite Integral**: Computes the area under the curve from one point to another, with limits.<pre>\n",
    "∫a→b 𝑓(𝑥) 𝑑𝑥"
   ]
  },
  {
   "cell_type": "markdown",
   "metadata": {},
   "source": [
    "## Techniques of Integration\n",
    "- Substitution\n",
    "- Integration by parts\n",
    "- Partial fractions\n",
    "\n",
    "## Applications in Data Science: Probability, Area under Curves, and CDFs\n",
    "Integrals are used to compute areas under probability density functions, which is essential in statistics and machine learning for probabilistic models."
   ]
  },
  {
   "cell_type": "markdown",
   "metadata": {},
   "source": [
    "#### Example: Indefinite Integral\n",
    "Find the indefinite integral of **𝑓(𝑥)=𝑥²**:<pre>\n",
    "∫ 𝑥² 𝑑𝑥 = 𝑥³ / 3 +𝐶"
   ]
  },
  {
   "cell_type": "code",
   "execution_count": 30,
   "metadata": {},
   "outputs": [
    {
     "data": {
      "text/latex": [
       "$\\displaystyle \\frac{x^{3}}{3}$"
      ],
      "text/plain": [
       "x**3/3"
      ]
     },
     "execution_count": 30,
     "metadata": {},
     "output_type": "execute_result"
    }
   ],
   "source": [
    "# Define the function\n",
    "f = x**2\n",
    "\n",
    "# Compute the indefinite integral\n",
    "integral_f = sp.integrate(f, x)\n",
    "integral_f"
   ]
  },
  {
   "cell_type": "markdown",
   "metadata": {},
   "source": [
    "# 8. Multivariable Calculus"
   ]
  },
  {
   "cell_type": "markdown",
   "metadata": {},
   "source": [
    "## Double and Triple Integrals\n",
    "In multivariable calculus, double and triple integrals extend the concept of integration to two and three dimensions, respectively.<pre>\n",
    "∫𝑎→𝑏∫𝑐→𝑑 𝑓(𝑥,𝑦) 𝑑𝑥 d𝑦"
   ]
  },
  {
   "cell_type": "markdown",
   "metadata": {},
   "source": [
    "## Applications in Data Science: Calculating Areas, Volumes, and Probabilities in Multiple Dimensions\n",
    "Multivariable integration is useful in complex probability distributions and calculating expected values in high-dimensional data."
   ]
  },
  {
   "cell_type": "markdown",
   "metadata": {},
   "source": [
    "#### Example: Double Integral\n",
    "Find the area under the surface **𝑓(𝑥,𝑦)=𝑥+𝑦** over the region **[0,1]×[0,1]**:<pre>\n",
    "∫0→1∫0→1 (𝑥+𝑦) 𝑑𝑥 𝑑𝑦"
   ]
  },
  {
   "cell_type": "code",
   "execution_count": 32,
   "metadata": {},
   "outputs": [
    {
     "data": {
      "text/latex": [
       "$\\displaystyle 1$"
      ],
      "text/plain": [
       "1"
      ]
     },
     "execution_count": 32,
     "metadata": {},
     "output_type": "execute_result"
    }
   ],
   "source": [
    "# Define the function\n",
    "f = x + y\n",
    "\n",
    "# Compute the double integral\n",
    "double_integral = sp.integrate(sp.integrate(f, (x, 0, 1)), (y, 0, 1))\n",
    "double_integral"
   ]
  },
  {
   "cell_type": "markdown",
   "metadata": {},
   "source": [
    "# 9. Optimization in Data Science"
   ]
  },
  {
   "cell_type": "markdown",
   "metadata": {},
   "source": [
    "## Univariate and Multivariate Optimization\n",
    "In machine learning, optimization refers to the process of finding the minimum or maximum of a function, typically a cost function in models like linear regression or neural networks."
   ]
  },
  {
   "cell_type": "markdown",
   "metadata": {},
   "source": [
    "## Critical Points and Saddle Points\n",
    "Critical points occur where the first derivative is zero. A critical point can be a local minimum, local maximum, or saddle point, determined by the second derivative (concavity or convexity)."
   ]
  },
  {
   "cell_type": "markdown",
   "metadata": {},
   "source": [
    "## Applications in Data Science: Logistic Regression, SVMs, and Optimization Algorithms\n",
    "Optimization techniques like gradient descent are used to minimize loss functions in regression models, support vector machines (SVMs), and neural networks."
   ]
  },
  {
   "cell_type": "markdown",
   "metadata": {},
   "source": [
    "# 10. Differential Equations"
   ]
  },
  {
   "cell_type": "markdown",
   "metadata": {},
   "source": [
    "## Basic Definitions and Concepts\n",
    "Differential equations involve functions and their derivatives. They describe how a quantity changes over time or space."
   ]
  },
  {
   "cell_type": "markdown",
   "metadata": {},
   "source": [
    "## Ordinary Differential Equations (ODEs) and Their Applications\n",
    "ODEs describe systems with one independent variable (e.g., time). They are used in time-series forecasting and dynamic models."
   ]
  },
  {
   "cell_type": "markdown",
   "metadata": {},
   "source": [
    "## Applications in Data Science: Time Series Forecasting, Dynamic Systems\n",
    "In data science, ODEs can model systems that evolve over time, such as predicting stock prices or modeling system dynamics in reinforcement learning."
   ]
  },
  {
   "cell_type": "code",
   "execution_count": 22,
   "metadata": {},
   "outputs": [
    {
     "data": {
      "image/png": "[encoded data removed]",
      "text/plain": [
       "<Figure size 640x480 with 1 Axes>"
      ]
     },
     "metadata": {},
     "output_type": "display_data"
    }
   ],
   "source": [
    "from scipy.integrate import odeint\n",
    "\n",
    "# Define a simple ODE dy/dt = -y\n",
    "def model(y, t):\n",
    "    dydt = -y\n",
    "    return dydt\n",
    "\n",
    "# Initial condition and time points\n",
    "y0 = 5\n",
    "t = np.linspace(0, 10, 100)\n",
    "\n",
    "# Solve ODE\n",
    "y = odeint(model, y0, t)\n",
    "\n",
    "# Plot the solution\n",
    "import matplotlib.pyplot as plt\n",
    "plt.plot(t, y)\n",
    "plt.show()\n"
   ]
  },
  {
   "cell_type": "markdown",
   "metadata": {},
   "source": [
    "# 11. Calculus in Machine Learning"
   ]
  },
  {
   "cell_type": "markdown",
   "metadata": {},
   "source": [
    "## Loss Functions and Gradient Descent\n",
    "The goal of machine learning algorithms is to minimize a loss function. Using derivatives (gradients), we iteratively update model parameters to minimize the error.<pre>\n",
    "𝜃 = 𝜃−𝛼∇𝐽(𝜃)\n",
    "</pre>\n",
    "Where 𝛼 is the learning rate, 𝜃 are the model parameters, and ∇𝐽(𝜃) is the gradient of the cost function."
   ]
  },
  {
   "cell_type": "markdown",
   "metadata": {},
   "source": [
    "## Regularization and the Role of Derivatives\n",
    "Regularization terms, such as **L1** and **L2**, are used to prevent overfitting. The derivatives of these terms are included in the gradient calculations.\n",
    "\n",
    "## Backpropagation in Neural Networks\n",
    "Backpropagation uses chain rules to propagate errors backward through the layers of a neural network, updating weights in the process.\n",
    "\n",
    "## Optimization Techniques and Convergence\n",
    "Beyond gradient descent, there are more advanced optimization techniques such as stochastic gradient descent (SGD), momentum, and Adam optimizer, which use derivatives to speed up convergence."
   ]
  },
  {
   "cell_type": "code",
   "execution_count": 33,
   "metadata": {},
   "outputs": [
    {
     "name": "stdout",
     "output_type": "stream",
     "text": [
      "Before Backprobagation:  [0.4 0.6]\n",
      "After Backprobagation:  [0.40743418 0.60371709]\n"
     ]
    }
   ],
   "source": [
    "import numpy as np\n",
    "\n",
    "# Simulate a neural network backpropagation step\n",
    "def sigmoid(x):\n",
    "    return 1 / (1 + np.exp(-x))\n",
    "\n",
    "# Derivative of sigmoid function\n",
    "def sigmoid_derivative(x):\n",
    "    return sigmoid(x) * (1 - sigmoid(x))\n",
    "\n",
    "# Input data and weights\n",
    "inputs = np.array([1.0, 0.5])\n",
    "weights = np.array([0.4, 0.6])\n",
    "\n",
    "# Forward pass\n",
    "output = sigmoid(np.dot(inputs, weights))\n",
    "\n",
    "# Print weights before backpropagation\n",
    "print(\"Before Backprobagation: \",weights)\n",
    "\n",
    "# Backpropagation (simplified)\n",
    "error = output - 1  # Assume the true label is 1\n",
    "weights -= 0.1 * error * sigmoid_derivative(output) * inputs\n",
    "\n",
    "# Print weights after backpropagation\n",
    "print(\"After Backprobagation: \",weights)"
   ]
  },
  {
   "cell_type": "code",
   "execution_count": null,
   "metadata": {},
   "outputs": [],
   "source": []
  }
 ],
 "metadata": {
  "kernelspec": {
   "display_name": "Python 3",
   "language": "python",
   "name": "python3"
  },
  "language_info": {
   "codemirror_mode": {
    "name": "ipython",
    "version": 3
   },
   "file_extension": ".py",
   "mimetype": "text/x-python",
   "name": "python",
   "nbconvert_exporter": "python",
   "pygments_lexer": "ipython3",
   "version": "3.11.3"
  }
 },
 "nbformat": 4,
 "nbformat_minor": 2
}
