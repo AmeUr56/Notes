{
 "cells": [
  {
   "cell_type": "markdown",
   "metadata": {},
   "source": [
    "## **Waffle chart**\n",
    "\n",
    "Common Parameters (using pywaffle):<br>\n",
    "**rows**, **columns**: int, the number of rows and columns in the waffle grid<br>\n",
    "**values**: dict, data values for the waffle chart<br>\n",
    "**legend**: dict, legend configuration (e.g., {'loc': 'upper left', 'bbox_to_anchor': (1, 1)})<br>\n",
    "**colors**: list, colors for each category in the waffle chart<br>"
   ]
  },
  {
   "cell_type": "code",
   "execution_count": 5,
   "metadata": {},
   "outputs": [],
   "source": [
    "import matplotlib.pyplot as plt\n",
    "from pywaffle import Waffle"
   ]
  },
  {
   "cell_type": "code",
   "execution_count": 7,
   "metadata": {},
   "outputs": [
    {
     "data": {
      "image/png": "[encoded data removed]",
      "text/plain": [
       "<Waffle size 640x480 with 1 Axes>"
      ]
     },
     "metadata": {},
     "output_type": "display_data"
    },
    {
     "name": "stdout",
     "output_type": "stream",
     "text": [
      "Requirement already satisfied: pywaffle in e:\\anaconda\\lib\\site-packages (1.1.1)\n",
      "Requirement already satisfied: fontawesomefree in e:\\anaconda\\lib\\site-packages (from pywaffle) (6.6.0)\n",
      "Requirement already satisfied: matplotlib in e:\\anaconda\\lib\\site-packages (from pywaffle) (3.8.0)\n",
      "Requirement already satisfied: contourpy>=1.0.1 in e:\\anaconda\\lib\\site-packages (from matplotlib->pywaffle) (1.2.0)\n",
      "Requirement already satisfied: cycler>=0.10 in e:\\anaconda\\lib\\site-packages (from matplotlib->pywaffle) (0.11.0)\n",
      "Requirement already satisfied: fonttools>=4.22.0 in e:\\anaconda\\lib\\site-packages (from matplotlib->pywaffle) (4.25.0)\n",
      "Requirement already satisfied: kiwisolver>=1.0.1 in e:\\anaconda\\lib\\site-packages (from matplotlib->pywaffle) (1.4.4)\n",
      "Requirement already satisfied: numpy<2,>=1.21 in e:\\anaconda\\lib\\site-packages (from matplotlib->pywaffle) (1.24.3)\n",
      "Requirement already satisfied: packaging>=20.0 in e:\\anaconda\\lib\\site-packages (from matplotlib->pywaffle) (23.1)\n",
      "Requirement already satisfied: pillow>=6.2.0 in e:\\anaconda\\lib\\site-packages (from matplotlib->pywaffle) (10.2.0)\n",
      "Requirement already satisfied: pyparsing>=2.3.1 in e:\\anaconda\\lib\\site-packages (from matplotlib->pywaffle) (3.0.9)\n",
      "Requirement already satisfied: python-dateutil>=2.7 in e:\\anaconda\\lib\\site-packages (from matplotlib->pywaffle) (2.8.2)\n",
      "Requirement already satisfied: six>=1.5 in e:\\anaconda\\lib\\site-packages (from python-dateutil>=2.7->matplotlib->pywaffle) (1.16.0)\n"
     ]
    }
   ],
   "source": [
    "# Example:\n",
    "data = {'Category A': 20, 'Category B': 30, 'Category C': 15}\n",
    "\n",
    "# Create waffle chart\n",
    "fig = plt.figure(\n",
    "    FigureClass=Waffle,\n",
    "    rows=4,\n",
    "    columns = 20,\n",
    "    values=data,\n",
    "    colors=[\"red\", \"green\", \"yellow\"],\n",
    "    legend={'loc': 'upper left','bbox_to_anchor': (1, 1)},\n",
    ")\n",
    "\n",
    "plt.title('Waffle Chart Example')\n",
    "plt.show()"
   ]
  }
 ],
 "metadata": {
  "kernelspec": {
   "display_name": "base",
   "language": "python",
   "name": "python3"
  },
  "language_info": {
   "codemirror_mode": {
    "name": "ipython",
    "version": 3
   },
   "file_extension": ".py",
   "mimetype": "text/x-python",
   "name": "python",
   "nbconvert_exporter": "python",
   "pygments_lexer": "ipython3",
   "version": "3.11.7"
  }
 },
 "nbformat": 4,
 "nbformat_minor": 2
}
